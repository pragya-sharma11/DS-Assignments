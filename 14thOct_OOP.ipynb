{
 "cells": [
  {
   "cell_type": "markdown",
   "metadata": {},
   "source": [
    "# ***`Constructor :`***"
   ]
  },
  {
   "cell_type": "markdown",
   "metadata": {},
   "source": [
    "##### 1. What is a constructor in Python? Explain its purpose and usage."
   ]
  },
  {
   "cell_type": "markdown",
   "metadata": {},
   "source": [
    "##### **Ans :** Constructor is a special method for creating and intantiating the object for that class. Constructor is used to assign values to member variables for that object. The purpose of constructor is to construct the object and assign value to object members."
   ]
  },
  {
   "cell_type": "markdown",
   "metadata": {},
   "source": [
    "##### 2. Differentiate between a parameterless constructor and a parameterized constructor in Python.\n"
   ]
  },
  {
   "cell_type": "markdown",
   "metadata": {},
   "source": [
    "##### **Ans :** Parameterized constructor is the constructor that takes one or more arguments. It is used to create objects with some values to its members. On the other hand, Parameterless constructor is the constructor that does not takes any arguments."
   ]
  },
  {
   "cell_type": "markdown",
   "metadata": {},
   "source": [
    "##### 3. How do you define a constructor in a Python class? Provide an example."
   ]
  },
  {
   "cell_type": "markdown",
   "metadata": {},
   "source": [
    "##### **Ans :** Constructor is a special method in class which is used to create object of that class and assign values to the instance members. It can be define by using `__init__` dunder method. This method take one fixed argument which works as the reference to the object of the class"
   ]
  },
  {
   "cell_type": "code",
   "execution_count": 1,
   "metadata": {},
   "outputs": [
    {
     "name": "stdout",
     "output_type": "stream",
     "text": [
      "45\n"
     ]
    }
   ],
   "source": [
    "# create a class\n",
    "class Test:\n",
    "    # create a constructor\n",
    "    def __init__(self, value):\n",
    "        # assign value to instance variable\n",
    "        self.value = value\n",
    "    # create the function to print the value\n",
    "    def print_value(self):\n",
    "        # print the value of instance variable\n",
    "        print(self.value)\n",
    "# instantiate the object of class Test\n",
    "test_obj = Test(45)\n",
    "# call the intance method\n",
    "test_obj.print_value()\n"
   ]
  },
  {
   "cell_type": "markdown",
   "metadata": {},
   "source": [
    "##### 4. Explain the `__init__` method in Python and its role in constructors."
   ]
  },
  {
   "cell_type": "markdown",
   "metadata": {},
   "source": [
    "##### **Ans :** `__init__` is a magic/dunder method.This method is used to create the constructor of a class. This method take one fixed argument which works as the reference to the object of the class. "
   ]
  },
  {
   "cell_type": "markdown",
   "metadata": {},
   "source": [
    "##### 5. In a class named `Person`, create a constructor that initializes the `name` and `age` attributes. Provide an example of creating an object of this class.\n"
   ]
  },
  {
   "cell_type": "code",
   "execution_count": 3,
   "metadata": {},
   "outputs": [
    {
     "name": "stdout",
     "output_type": "stream",
     "text": [
      "age of the person is 23\n",
      "name of the person is Aman\n"
     ]
    }
   ],
   "source": [
    "# create a class named as Person\n",
    "class Person:\n",
    "    # create a constructor that takes 3 arguments as self, name, age\n",
    "    def __init__(self, name, age) -> None:\n",
    "        # assign values to instance variables\n",
    "        self.name = name \n",
    "        self.age = age \n",
    "    # create a method to print the name\n",
    "    def print_name(self):\n",
    "        print(\"name of the person is\",self.name)\n",
    "    # create a method to print thr age\n",
    "    def print_age(self):\n",
    "        print(\"age of the person is\",self.age) \n",
    "# instantiate the object of Person class  \n",
    "obj_person = Person('Aman',23)\n",
    "# call the member methods of the class object\n",
    "obj_person.print_age()\n",
    "obj_person.print_name()  "
   ]
  },
  {
   "cell_type": "markdown",
   "metadata": {},
   "source": [
    "##### 6. How can you call a constructor explicitly in Python? Give an example."
   ]
  },
  {
   "cell_type": "markdown",
   "metadata": {},
   "source": [
    "##### **Ans :**  In python, every class has a  constructor, which can be called using classname followed by open and closed paranthesis. This constructor takes one reference argument by defaultand you can give more argument as required."
   ]
  },
  {
   "cell_type": "code",
   "execution_count": 2,
   "metadata": {},
   "outputs": [
    {
     "name": "stdout",
     "output_type": "stream",
     "text": [
      "sum is 57\n"
     ]
    }
   ],
   "source": [
    "# create a class named as Test \n",
    "class Test:\n",
    "    def __init__(self):\n",
    "        pass\n",
    "    # create a method to get sum of two numbers.\n",
    "    def get_sum(self , a, b):\n",
    "        print(\"sum is\", a+b)\n",
    "# instantiate the object\n",
    "obj_t = Test()\n",
    "# call the get_sum() method.\n",
    "obj_t.get_sum(23,34)"
   ]
  },
  {
   "cell_type": "markdown",
   "metadata": {},
   "source": [
    "##### 7. What is the significance of the `self` parameter in Python constructors? Explain with an example.\n"
   ]
  },
  {
   "cell_type": "markdown",
   "metadata": {},
   "source": [
    "##### **Ans :** In python, constructor has a fixed argument which is compulsory to be passed when we instantiate the object of a class. This fixed argument signifies the reference of the particular object which is to be instantiated. We named this fixed argument as 'self'. But we can give it any name anyways.\n",
    " "
   ]
  },
  {
   "cell_type": "code",
   "execution_count": 5,
   "metadata": {},
   "outputs": [
    {
     "name": "stdout",
     "output_type": "stream",
     "text": [
      "age of the person is 23\n",
      "name of the person is Aman\n"
     ]
    }
   ],
   "source": [
    "# create a class named as Person\n",
    "class Person:\n",
    "    # create a constructor that takes 3 arguments as self, name, age\n",
    "    # here self contains the reference of the object that is to be created.\n",
    "    def __init__(self, name, age) -> None:\n",
    "        # assign values to instance variables\n",
    "        self.name = name \n",
    "        self.age = age \n",
    "    # create a method to print the name\n",
    "    def print_name(self):\n",
    "        print(\"name of the person is\",self.name)\n",
    "    # create a method to print thr age\n",
    "    def print_age(self):\n",
    "        print(\"age of the person is\",self.age) \n",
    "# instantiate the object of Person class  \n",
    "obj_person = Person('Aman',23)\n",
    "# call the member methods of the class object\n",
    "obj_person.print_age()\n",
    "obj_person.print_name()  "
   ]
  },
  {
   "cell_type": "markdown",
   "metadata": {},
   "source": [
    "##### 8. Discuss the concept of default constructors in Python. When are they used?"
   ]
  },
  {
   "cell_type": "markdown",
   "metadata": {},
   "source": [
    "##### **Ans :**  In python, every class has a defualt in-built constructor, which can be called using classname followed by open and closed paranthesis. This constructor takes one reference argument by default. We name this variable as self. But you can give it any name."
   ]
  },
  {
   "cell_type": "code",
   "execution_count": 6,
   "metadata": {},
   "outputs": [
    {
     "name": "stdout",
     "output_type": "stream",
     "text": [
      "sum is 57\n"
     ]
    }
   ],
   "source": [
    "# create a class named as Test \n",
    "class Test:\n",
    "    # create a method to get sum of two numbers.\n",
    "    def get_sum(self , a, b):\n",
    "        print(\"sum is\", a+b)\n",
    "# instantiate the object, as you can see we haven't created any constructor but still we can create the object.\n",
    "obj_t = Test()\n",
    "# call the get_sum() method.\n",
    "obj_t.get_sum(23,34)"
   ]
  },
  {
   "cell_type": "markdown",
   "metadata": {},
   "source": [
    "##### 9. Create a Python class called `Rectangle` with a constructor that initializes the `width` and `height` attributes. Provide a method to calculate the area of the rectangle.\n"
   ]
  },
  {
   "cell_type": "code",
   "execution_count": 4,
   "metadata": {},
   "outputs": [
    {
     "name": "stdout",
     "output_type": "stream",
     "text": [
      "area of ractangle : 96\n"
     ]
    }
   ],
   "source": [
    "# create a class for rectangle\n",
    "class Rectangle:\n",
    "    # initialize the constructor with arguments as - self for object reference, h for height, w for width\n",
    "    def __init__(self, h, w):\n",
    "        # assign value to instance attributes.\n",
    "        self.height = h\n",
    "        self.width  = w\n",
    "    # create an instance method to calculate area and print it\n",
    "    def get_area(self):\n",
    "        # print the area\n",
    "        print(\"area of ractangle :\", self.height*self.width)\n",
    "# instantiate the object\n",
    "obj_rect = Rectangle(12,8)\n",
    "# call the instance method get_area() to get the area of rectangle\n",
    "obj_rect.get_area()"
   ]
  },
  {
   "cell_type": "markdown",
   "metadata": {},
   "source": [
    "##### 10. How can you have multiple constructors in a Python class? Explain with an example.\n"
   ]
  },
  {
   "cell_type": "markdown",
   "metadata": {},
   "source": [
    "##### **Ans :** In python, we can get the feel of multiple constructors using class method."
   ]
  },
  {
   "cell_type": "code",
   "execution_count": 7,
   "metadata": {},
   "outputs": [
    {
     "name": "stdout",
     "output_type": "stream",
     "text": [
      "a = 12 , b = 23\n",
      "a = 12 , b = 23\n"
     ]
    }
   ],
   "source": [
    "# create a class\n",
    "class Test :\n",
    "    # create a constructor\n",
    "    def __init__(self,a,b) -> None:\n",
    "        self.a = a\n",
    "        self.b = b \n",
    "    \n",
    "    # create a class method using @classmethod decorator\n",
    "    @classmethod\n",
    "    def c_details(cls, a, b):\n",
    "        # call the constructor this way.\n",
    "        return cls(a, b) \n",
    "    \n",
    "    # create the method to show details \n",
    "    def get_details(self):\n",
    "        print(f'a = {self.a} , b = {self.b}')\n",
    "# instantiated the object \n",
    "obj = Test(12,23)\n",
    "# call instance method\n",
    "obj.get_details()\n",
    "#call the class method\n",
    "Test.c_details(56, 78)\n",
    "# call instance method\n",
    "obj.get_details()"
   ]
  },
  {
   "cell_type": "markdown",
   "metadata": {},
   "source": [
    "##### 11. What is method overloading, and how is it related to constructors in Python?\n"
   ]
  },
  {
   "cell_type": "markdown",
   "metadata": {},
   "source": [
    "##### **Ans :** Method overloading is a way to create the methods with same name but with different signatures. It means functions with same name but with different number of parameters. We can overload constructor using class method. "
   ]
  },
  {
   "cell_type": "markdown",
   "metadata": {},
   "source": [
    "##### 12. Explain the use of the `super()` function in Python constructors. Provide an example.\n"
   ]
  },
  {
   "cell_type": "markdown",
   "metadata": {},
   "source": [
    "##### **Ans :** Super() method is the method which is used to access the members of parent class in sub-class."
   ]
  },
  {
   "cell_type": "code",
   "execution_count": 1,
   "metadata": {},
   "outputs": [
    {
     "name": "stdout",
     "output_type": "stream",
     "text": [
      "Parent Class data a =1, b=2\n",
      "Sub Class data c =3\n"
     ]
    }
   ],
   "source": [
    "# create a class \n",
    "class parent_class:\n",
    "    # create a constructor for parent class\n",
    "    def __init__(self, a,b) -> None:\n",
    "        # assign values to instance variables \n",
    "        self.a = a \n",
    "        self.b = b \n",
    "    # create a method to show the values of instance variables\n",
    "    def show_details(self):\n",
    "        print(f\"Parent Class data a ={self.a}, b={self.b}\")\n",
    "# create a child class \n",
    "class sub_class(parent_class):\n",
    "    # create a constructor for parent class\n",
    "    def __init__(self, a,b,c) -> None:\n",
    "        # call constructor of super class using super() method and pass values to this constructor\n",
    "        super().__init__(a,b)\n",
    "        # assign values to instance variable\n",
    "        self.c = c \n",
    "    # create a method to show the values of instance variables\n",
    "    def show_details(self):\n",
    "        # call the show_details() method of parent class here using super() method\n",
    "        super().show_details()\n",
    "        print(f'Sub Class data c ={self.c}')\n",
    "# create the object of sub class\n",
    "obj_sub_class = sub_class(1,2,3)\n",
    "# call the instance method show_details() via the object\n",
    "obj_sub_class.show_details()"
   ]
  },
  {
   "cell_type": "markdown",
   "metadata": {},
   "source": [
    "##### 13. Create a class called `Book` with a constructor that initializes the `title`, `author`, and `published_year` attributes. Provide a method to display book details.\n"
   ]
  },
  {
   "cell_type": "code",
   "execution_count": 3,
   "metadata": {},
   "outputs": [
    {
     "name": "stdout",
     "output_type": "stream",
     "text": [
      "The Book named Let us Python is written by Yeshwant Kanetkar in year 2012\n"
     ]
    }
   ],
   "source": [
    "# create a class named Book\n",
    "class Book:\n",
    "    # create a constructor with arguments as self, title, author, published_year\n",
    "    def __init__(self, title, author, published_year) -> None:\n",
    "        # assign values to member variables\n",
    "        self.title = title\n",
    "        self.author = author\n",
    "        self.published_year = published_year\n",
    "    # create a method to display details of book\n",
    "    def display_details(self):\n",
    "        # print the details of book\n",
    "        print(f'The Book named {self.title} is written by {self.author} in year {self.published_year}')\n",
    "# create the object of book by calling the constructor via class name and passing the values to the arguments\n",
    "book_obj = Book('Let us Python', 'Yeshwant Kanetkar', 2012)\n",
    "# call the display_details() method via object\n",
    "book_obj.display_details()"
   ]
  },
  {
   "cell_type": "markdown",
   "metadata": {},
   "source": [
    "##### 14. Discuss the differences between constructors and regular methods in Python classes.\n"
   ]
  },
  {
   "cell_type": "markdown",
   "metadata": {},
   "source": [
    "##### **Ans :**\n",
    "* Constructor is a block of code that helps in creating the object of a class. While, method is a block of code which performs some tasks based upon its execution.\n",
    "* Constructor is used to assign values to member variables or instance variables and attributes. While method is design to perform specific computations.\n",
    "* Constructor do not have any return type, It does not return any value. While Method may or may not return any values."
   ]
  },
  {
   "cell_type": "markdown",
   "metadata": {},
   "source": [
    "##### 15. Explain the role of the `self` parameter in instance variable initialization within a constructor.\n"
   ]
  },
  {
   "cell_type": "markdown",
   "metadata": {},
   "source": [
    "##### **Ans :** Instance variables are the variables which are related to object. The instance variables are initialized in the constructor with the help of self parameter. Self parameter denotes the object reference. So whenever we try to access any instance variable, we need to use self as shown - `self.instance_variable_name`"
   ]
  },
  {
   "cell_type": "markdown",
   "metadata": {},
   "source": [
    "##### 16. How do you prevent a class from having multiple instances by using constructors in Python? Provide an example.\n"
   ]
  },
  {
   "cell_type": "markdown",
   "metadata": {},
   "source": []
  },
  {
   "cell_type": "markdown",
   "metadata": {},
   "source": []
  },
  {
   "cell_type": "markdown",
   "metadata": {},
   "source": [
    "##### 17. Create a Python class called `Student` with a constructor that takes a list of subjects as a parameter and initializes the `subjects` attribute."
   ]
  },
  {
   "cell_type": "code",
   "execution_count": 6,
   "metadata": {},
   "outputs": [
    {
     "name": "stdout",
     "output_type": "stream",
     "text": [
      "The student Kevin Adferd has subjects - \n",
      "['statistics', 'python basics', 'maths', 'calculus', 'npl', 'machine learning', 'imageprocessing']\n"
     ]
    }
   ],
   "source": [
    "# create a class named Student\n",
    "class Student:\n",
    "    # create a constructor with parameters as self, student_name, subject\n",
    "    def __init__(self, student_name, subjects) -> None:\n",
    "        # assign values to instance variables\n",
    "        self.name = student_name\n",
    "        self.subjects_list = subjects \n",
    "    # create a method to show details \n",
    "    def show_details(self):\n",
    "        print(f\"The student {self.name} has subjects - \\n{self.subjects_list}\")\n",
    "# create a list of subjects\n",
    "sub_list = ['statistics', 'python basics', 'maths', 'calculus', 'npl','machine learning', 'imageprocessing']\n",
    "# create an object of Student class via calling the constructor and pass student name and subject list in it\n",
    "obj_student = Student('Kevin Adferd', sub_list)\n",
    "# call the instance method show_details() via object \n",
    "obj_student.show_details()"
   ]
  },
  {
   "cell_type": "markdown",
   "metadata": {},
   "source": [
    "##### 18. What is the purpose of the `__del__` method in Python classes, and how does it relate to constructors?\n"
   ]
  },
  {
   "cell_type": "markdown",
   "metadata": {},
   "source": [
    "##### **Answer :** In Python, the **__ del __()** method is a destructor method. It is called after an object's garbage collection occurs, which happens after all references to the item have been destroyed. When we want to perform some task with a class, we create an object of that class using constructor. When we do all the required operation, object of the class is destroyed with the help of __ del__ () and collected by garbage collector after the purpose of object has been fullfilled."
   ]
  },
  {
   "cell_type": "markdown",
   "metadata": {},
   "source": [
    "##### 19. Explain the use of constructor chaining in Python. Provide a practical example."
   ]
  },
  {
   "cell_type": "markdown",
   "metadata": {},
   "source": [
    "##### **Ans :** Constructor chaining is the process of calling one constructor from another constructor. Constructor chaining is useful when you want to invoke multiple constructors, one after another, by initializing only one instance."
   ]
  },
  {
   "cell_type": "code",
   "execution_count": 2,
   "metadata": {},
   "outputs": [
    {
     "name": "stdout",
     "output_type": "stream",
     "text": [
      "Inside food class constructor\n",
      "Inside Fruit class constructor\n",
      "Inside Mango class constructor\n"
     ]
    }
   ],
   "source": [
    "# create a class food\n",
    "class Food:\n",
    "    # create constructor with some arguments\n",
    "    def __init__(self, solid_or_liquid, is_sweet):\n",
    "        self.solid_or_liquid = solid_or_liquid \n",
    "        self.is_sweet = is_sweet\n",
    "        print(\"Inside food class constructor\")\n",
    "# create a class fruit\n",
    "class Fruit(Food):\n",
    "    # create constructor with some arguments\n",
    "    def __init__(self, solid_or_liquid, is_sweet, has_seed):\n",
    "        # do chaining using super() method and pass argument values\n",
    "        super().__init__(solid_or_liquid=solid_or_liquid, is_sweet=is_sweet)\n",
    "        self.has_seed = has_seed\n",
    "        print(\"Inside Fruit class constructor\")\n",
    "# create a class Mango\n",
    "class Mango(Fruit):\n",
    "    # create constructor with some arguments\n",
    "    def __init__(self, solid_or_liquid, is_sweet, has_seed, color):\n",
    "        # do chaining using super() method and pass argument values\n",
    "        super().__init__(solid_or_liquid=solid_or_liquid, is_sweet=is_sweet, has_seed=has_seed)\n",
    "        self.color = color\n",
    "        print(\"Inside Mango class constructor\")\n",
    "# create object of mango class and pass argument values\n",
    "obj = Mango(\"Solid\", \"yes\", \"yes\", \"Yellow\")\n",
    "\n",
    "\n"
   ]
  },
  {
   "cell_type": "markdown",
   "metadata": {},
   "source": [
    "##### 20. Create a Python class called `Car` with a default constructor that initializes the `make` and `model` attributes. Provide a method to display car information."
   ]
  },
  {
   "cell_type": "code",
   "execution_count": 7,
   "metadata": {},
   "outputs": [
    {
     "name": "stdout",
     "output_type": "stream",
     "text": [
      "This car SUV has been made by Tata\n"
     ]
    }
   ],
   "source": [
    "# create a class named as car\n",
    "class Car:\n",
    "    # create a constructor of car class with arguments as self, make , model\n",
    "    def __init__(self, make, model) -> None:\n",
    "        # assign values to instance variables\n",
    "        self.make = make \n",
    "        self.model = model\n",
    "    # create a method to show details\n",
    "    def display_car_info(self):\n",
    "        print(f\"This car {self.model} has been made by {self.make}\")\n",
    "# create object of car class by calling the constructor and passing the values of make and model\n",
    "obj_car = Car('Tata', 'SUV')\n",
    "# display the car details by calling instance method display_car_info()\n",
    "obj_car.display_car_info()"
   ]
  },
  {
   "cell_type": "markdown",
   "metadata": {},
   "source": [
    "# ***`Inheritance ➖ :`***"
   ]
  },
  {
   "cell_type": "markdown",
   "metadata": {},
   "source": [
    "##### 1. What is inheritance in Python? Explain its significance in object-oriented programming.\n"
   ]
  },
  {
   "cell_type": "markdown",
   "metadata": {},
   "source": [
    "##### **Ans :** Inheritance is a concept of inheriting the properties, methods, attributes of parent class into sub class. In object oriented programming, there is a concept of polymorphism. Inheritance allows child classes to override or extend the functionality of parent class methods hence enables polymorphism. Visibility of member variables and methods in inheritance also leads to encapsulation."
   ]
  },
  {
   "cell_type": "markdown",
   "metadata": {},
   "source": [
    "##### 2. Differentiate between single inheritance and multiple inheritance in Python. Provide examples for each.\n"
   ]
  },
  {
   "cell_type": "markdown",
   "metadata": {},
   "source": [
    "##### **Ans :** Single Inheritance is a concept where a subclass can inherit the properties of single parent class only. While Multiple class inheritance is a concept where a subclass can inherit the properties of more than one parent class. If 2 parent class has a method/attribute with same name then attribute of first inherited parent class will be prioritise."
   ]
  },
  {
   "cell_type": "markdown",
   "metadata": {},
   "source": [
    "* Example of Single Inheritance"
   ]
  },
  {
   "cell_type": "code",
   "execution_count": 3,
   "metadata": {},
   "outputs": [
    {
     "name": "stdout",
     "output_type": "stream",
     "text": [
      "Inside Vehicle Constructor\n",
      "Inside Car Constructor\n"
     ]
    },
    {
     "data": {
      "text/plain": [
       "'Engine is 2000ccand speed is 240'"
      ]
     },
     "execution_count": 3,
     "metadata": {},
     "output_type": "execute_result"
    }
   ],
   "source": [
    "# create a parent class\n",
    "class Vehicle:\n",
    "    # Constructor of Vehicle\n",
    "    def __init__(self, engine):\n",
    "        print('Inside Vehicle Constructor')\n",
    "        self.engine = engine\n",
    "    # create a method to show engine details\n",
    "    def get_engine_data(self):\n",
    "        return f\"Engine is {self.engine}\"\n",
    "# create a class car which ihnerits Vehicle class properties\n",
    "class Car(Vehicle):\n",
    "    # Constructor of Car\n",
    "    def __init__(self, engine, max_speed):\n",
    "        super().__init__(engine)\n",
    "        print('Inside Car Constructor')\n",
    "        self.max_speed = max_speed\n",
    "    # create a method to show car details\n",
    "    def get_data(self):\n",
    "        return super().get_engine_data() + f\"and speed is {self.max_speed}\"\n",
    "# create object of class Car\n",
    "obj = Car('2000cc',240)\n",
    "obj.get_data()"
   ]
  },
  {
   "cell_type": "code",
   "execution_count": 18,
   "metadata": {},
   "outputs": [
    {
     "name": "stdout",
     "output_type": "stream",
     "text": [
      "Inside Car Constructor\n",
      "Inside Electric Car Constructor\n",
      "Engine=1500cc, Max Speed=240, Km range=750, color=red\n"
     ]
    }
   ],
   "source": [
    "class Vehicle:\n",
    "    # Constructor of Vehicle\n",
    "    def __init__(self):\n",
    "        print('Inside Vehicle Constructor')\n",
    "        self.color = \"\"\n",
    "    \n",
    "    def set_color(self,color):\n",
    "        self.color = color\n",
    "    \n",
    "\n",
    "class Car:\n",
    "    # Constructor of Car\n",
    "    def __init__(self, engine, max_speed):\n",
    "        self.engine = engine\n",
    "        print('Inside Car Constructor')\n",
    "        self.max_speed = max_speed\n",
    "\n",
    "class Electric_Car(Car, Vehicle):\n",
    "    # Constructor of Electric Car\n",
    "    def __init__(self, engine, max_speed, km_range):\n",
    "        super().__init__(engine, max_speed)\n",
    "        print('Inside Electric Car Constructor')\n",
    "        self.km_range = km_range\n",
    "    \n",
    "\n",
    "# Object of electric car\n",
    "ev = Electric_Car('1500cc', 240, 750)\n",
    "ev.set_color(\"red\")\n",
    "print(f'Engine={ev.engine}, Max Speed={ev.max_speed}, Km range={ev.km_range}, color={ev.color}')\n",
    "#  Run"
   ]
  },
  {
   "cell_type": "markdown",
   "metadata": {},
   "source": [
    "##### 3. Create a Python class called `Vehicle` with attributes `color` and `speed`. Then, create a child class called `Car` that inherits from `Vehicle` and adds a `brand` attribute. Provide an example of creating a `Car` object."
   ]
  },
  {
   "cell_type": "code",
   "execution_count": 20,
   "metadata": {},
   "outputs": [
    {
     "name": "stdout",
     "output_type": "stream",
     "text": [
      "Car -> color = Black, speed = 300, brand = Ford\n"
     ]
    }
   ],
   "source": [
    "# create a Vehicle class\n",
    "class Vehicle:\n",
    "    # create a constructor\n",
    "    def __init__(self, color, speed) -> None:\n",
    "        # assign values to instance variables\n",
    "        self.color = color\n",
    "        self.speed = speed \n",
    "# create a class Car\n",
    "class Car(Vehicle):\n",
    "    # create a constructor \n",
    "    def __init__(self, color, speed, brand) -> None:\n",
    "        # call constructor for Vehicle class and pass the argument values\n",
    "        super().__init__(color, speed)\n",
    "        # assign value to instance variable\n",
    "        self.brand = brand\n",
    "    # create a method to show the details of car\n",
    "    def show_details(self):\n",
    "        # print the details\n",
    "        print(f\"Car -> color = {self.color}, speed = {self.speed}, brand = {self.brand}\")\n",
    "# create the object of class Car\n",
    "obj_car = Car('Black', 300, 'Ford')\n",
    "# call the show_details() method via object of class Car\n",
    "obj_car.show_details()"
   ]
  },
  {
   "cell_type": "markdown",
   "metadata": {},
   "source": [
    "##### 4. Explain the concept of method overriding in inheritance. Provide a practical example."
   ]
  },
  {
   "cell_type": "markdown",
   "metadata": {},
   "source": [
    "##### **Ans :** Method overriding is concept of object-oriented programming in which a subclass or child class to provide a specific implementation of a method that is already provided by one of its parent classes. When a method in a subclass has the same name, same parameters or signature as a method in its super-class, then the method in the subclass is said to override the method in the super-class."
   ]
  },
  {
   "cell_type": "code",
   "execution_count": 23,
   "metadata": {},
   "outputs": [
    {
     "name": "stdout",
     "output_type": "stream",
     "text": [
      "Engine is 2000ccand speed is 240\n",
      "It is Car class\n"
     ]
    }
   ],
   "source": [
    "# create a parent class\n",
    "class Vehicle:\n",
    "    # Constructor of Vehicle\n",
    "    def __init__(self, engine):\n",
    "        self.engine = engine\n",
    "    # create a method to show engine details\n",
    "    def get_engine_data(self):\n",
    "        return f\"Engine is {self.engine}\"\n",
    "    # define a method to tell about class name\n",
    "    def class_desc(self):\n",
    "        print(\"It is Vehicle class\")\n",
    "# create a class car which ihnerits Vehicle class properties\n",
    "class Car(Vehicle):\n",
    "    # Constructor of Car\n",
    "    def __init__(self, engine, max_speed):\n",
    "        super().__init__(engine)\n",
    "        self.max_speed = max_speed\n",
    "    # create a method to show car details\n",
    "    def get_data(self):\n",
    "        return super().get_engine_data() + f\"and speed is {self.max_speed}\"\n",
    "    # method overriding - define a function with same name and signature as in super class, but the implemention is different\n",
    "    def class_desc(self):\n",
    "        print('It is Car class')\n",
    "# create object of class Car\n",
    "obj = Car('2000cc',240)\n",
    "print(obj.get_data())\n",
    "obj.class_desc()"
   ]
  },
  {
   "cell_type": "markdown",
   "metadata": {},
   "source": [
    "##### 5. How can you access the methods and attributes of a parent class from a child class in Python? Give an example."
   ]
  },
  {
   "cell_type": "markdown",
   "metadata": {},
   "source": [
    "##### **Ans :** Member methods/attributes of a parent class can be easily accessible in child class via object of child class outside child class. If we want to access member methods/attributes of a parent class inside child class, wecan access it using super()."
   ]
  },
  {
   "cell_type": "code",
   "execution_count": 34,
   "metadata": {},
   "outputs": [
    {
     "name": "stdout",
     "output_type": "stream",
     "text": [
      "a = 1, b = 2, c = 3\n",
      "a = 1, b = 2\n",
      "a = 1\n"
     ]
    }
   ],
   "source": [
    "# create a class A\n",
    "class A:\n",
    "    # create a constructor\n",
    "    def __init__(self, a,b) -> None:\n",
    "        # assign values to instance variables\n",
    "        self.a = a \n",
    "        self.b = b \n",
    "    # create a method to show a and b\n",
    "    def show_A(self):\n",
    "        return (f'a = {self.a}, b = {self.b}')\n",
    "# create a class B and inherit A\n",
    "class B(A):\n",
    "    # create a constructor\n",
    "    def __init__(self, a, b, c) -> None:\n",
    "        # pass values to members of parent class using super()\n",
    "        super().__init__(a, b) \n",
    "        # assign values to instance variables\n",
    "        self.c = c \n",
    "    # create a method to show a, b, c\n",
    "    def show_B(self):\n",
    "        print(super().show_A() + f\", c = {self.c}\")\n",
    "# create an object of class B\n",
    "obj = B(1,2,3)\n",
    "# call method of sub class\n",
    "obj.show_B()\n",
    "# call method of parent class via sub class object\n",
    "print(obj.show_A())\n",
    "# get variable of parent class via sub class object\n",
    "print(\"a =\", obj.a)\n",
    "\n",
    "    "
   ]
  },
  {
   "cell_type": "markdown",
   "metadata": {},
   "source": [
    "##### 6. Discuss the use of the `super()` function in Python inheritance. When and why is it used? Provide an example."
   ]
  },
  {
   "cell_type": "markdown",
   "metadata": {},
   "source": [
    "##### **Ans :** super() method in python inheritance is used to access the member methods of parent class inside sub-class. The super() function returns an object that represents the parent class.When this method is called it allows the class to initialize the attributes of the class. In an inherited subclass, a parent class can be referred to with the use of the super() function."
   ]
  },
  {
   "cell_type": "code",
   "execution_count": 35,
   "metadata": {},
   "outputs": [
    {
     "name": "stdout",
     "output_type": "stream",
     "text": [
      "a = 1, b = 2, c = 3\n"
     ]
    }
   ],
   "source": [
    "# create a class A\n",
    "class A:\n",
    "    # create a constructor\n",
    "    def __init__(self, a,b) -> None:\n",
    "        # assign values to instance variables\n",
    "        self.a = a \n",
    "        self.b = b \n",
    "    # create a method to show a and b\n",
    "    def show_A(self):\n",
    "        return (f'a = {self.a}, b = {self.b}')\n",
    "# create a class B and inherit A\n",
    "class B(A):\n",
    "    # create a constructor\n",
    "    def __init__(self, a, b, c) -> None:\n",
    "        # pass values to members of parent class using super()\n",
    "        super().__init__(a, b) \n",
    "        # assign values to instance variables\n",
    "        self.c = c \n",
    "    # create a method to show a, b, c\n",
    "    def show_B(self):\n",
    "        print(super().show_A() + f\", c = {self.c}\")\n",
    "# create an object of class B\n",
    "obj = B(1,2,3)\n",
    "# call method of sub class\n",
    "obj.show_B()\n",
    "\n",
    "\n",
    "    "
   ]
  },
  {
   "cell_type": "markdown",
   "metadata": {},
   "source": [
    "##### 7. Create a Python class called `Animal` with a method `speak()`. Then, create child classes `Dog` and `Cat` that inherit from `Animal` and override the `speak()` method. Provide an example of using these classes."
   ]
  },
  {
   "cell_type": "code",
   "execution_count": 38,
   "metadata": {},
   "outputs": [
    {
     "name": "stdout",
     "output_type": "stream",
     "text": [
      "Cat : Meow Meow\n",
      "Dog : Bark Bark\n"
     ]
    }
   ],
   "source": [
    "# create a class Animal\n",
    "class Animal :\n",
    "    # create a constructor\n",
    "    def __init__(self, name) -> None:\n",
    "        # assign value to instance variable\n",
    "        self.name = name \n",
    "    # define method speak\n",
    "    def speak(self):\n",
    "        # print message\n",
    "        print(\"Animal is speaking\")\n",
    "# create a class Dog\n",
    "class Dog(Animal):\n",
    "    # create a constructor\n",
    "    def __init__(self, name) -> None:\n",
    "        # assign value to instance variable\n",
    "        self.name = name \n",
    "    # define method speak\n",
    "    def speak(self):\n",
    "        # print message\n",
    "        print(\"Dog : Bark Bark\")\n",
    "# create a class Cat\n",
    "class Cat(Animal):\n",
    "    # create a constructor\n",
    "    def __init__(self, name) -> None:\n",
    "        # assign value to instance variable\n",
    "        self.name = name \n",
    "    # define method speak\n",
    "    def speak(self):\n",
    "        # print message\n",
    "        print(\"Cat : Meow Meow\")\n",
    "# create an object for Cat class\n",
    "cat_obj = Cat('Kitty')\n",
    "# call speak() method of cat class\n",
    "cat_obj.speak()\n",
    "# create an object for Dog class\n",
    "dog_obj = Dog('Zen')\n",
    "# call speak() method of Dog class\n",
    "dog_obj.speak()"
   ]
  },
  {
   "cell_type": "markdown",
   "metadata": {},
   "source": [
    "##### 8. Explain the role of the `isinstance()` function in Python and how it relates to inheritance.\n"
   ]
  },
  {
   "cell_type": "markdown",
   "metadata": {},
   "source": [
    "##### **Ans :** The Python's isinstance() function checks whether the object or variable is an instance of the specified class type or data type.It returns True if the specified object is of the specified type, otherwise False. In inheritance, isinstance() returns True when an object/variable is an instance of the specified type or class or parent class of an object"
   ]
  },
  {
   "cell_type": "markdown",
   "metadata": {},
   "source": [
    "##### 9. What is the purpose of the `issubclass()` function in Python? Provide an example."
   ]
  },
  {
   "cell_type": "markdown",
   "metadata": {},
   "source": [
    "##### **Ans :** issubclass() is in-built function which is used to check whether a class is a subclass of another class or not. This function returns True if the given class is the subclass of another class else it returns False."
   ]
  },
  {
   "cell_type": "code",
   "execution_count": 40,
   "metadata": {},
   "outputs": [
    {
     "data": {
      "text/plain": [
       "True"
      ]
     },
     "execution_count": 40,
     "metadata": {},
     "output_type": "execute_result"
    }
   ],
   "source": [
    "# create a class A\n",
    "class A:\n",
    "    # create a constructor for this class\n",
    "    def __init__(self) -> None:\n",
    "        pass \n",
    "# create a class B\n",
    "class B(A):\n",
    "    # create a constructor for this class\n",
    "    def __init__(self) -> None:\n",
    "        pass \n",
    "# check if B is subclass of A using issubclass() method.\n",
    "issubclass(B, A)"
   ]
  },
  {
   "cell_type": "markdown",
   "metadata": {},
   "source": [
    "##### 10. Discuss the concept of constructor inheritance in Python. How are constructors inherited in child classes?"
   ]
  },
  {
   "cell_type": "markdown",
   "metadata": {},
   "source": [
    "##### **Ans :** The constructor in inheritance in python is a concept via which object is instantiated. It is a special method that is called  when an object is created. The purpose of a python constructor is to assign values to the data members within the class when an object is initialized. Constructor of parent class is inherited in child class using super() method."
   ]
  },
  {
   "cell_type": "markdown",
   "metadata": {},
   "source": [
    "##### 11. Create a Python class called `Shape` with a method `area()` that calculates the area of a shape. Then, create child classes `Circle` and `Rectangle` that inherit from `Shape` and implement the `area()` method accordingly. Provide an example."
   ]
  },
  {
   "cell_type": "code",
   "execution_count": 42,
   "metadata": {},
   "outputs": [
    {
     "name": "stdout",
     "output_type": "stream",
     "text": [
      "Area of Rectangle = 340\n",
      "Area of Circle = 615.44\n"
     ]
    }
   ],
   "source": [
    "# create a class shape\n",
    "class Shape : \n",
    "    # create a constructor\n",
    "    def __init__(self, name) -> None:\n",
    "        self.name = name \n",
    "    # define a method to get the area\n",
    "    def area(self):\n",
    "        pass \n",
    "# create a class Circle which inherits class Shape\n",
    "class Circle(Shape):\n",
    "    # create a constructor\n",
    "    def __init__(self, name, radius) -> None:\n",
    "        # call constructor of super class and pass the argument\n",
    "        super().__init__(name)\n",
    "        # assign the value to member variable\n",
    "        self.r = radius\n",
    "    # define a method to get the area\n",
    "    def area(self):\n",
    "        # calculate area of circle\n",
    "        area_of_circle = 3.14*self.r*self.r\n",
    "        # return area of circle \n",
    "        return area_of_circle\n",
    "# create a class Circle which inherits class Shape\n",
    "class Rectangle(Shape):\n",
    "    # create a constructor\n",
    "    def __init__(self, name, length, width) -> None:\n",
    "        # call constructor of super class and pass the argument\n",
    "        super().__init__(name)\n",
    "        # assign the value to member variables\n",
    "        self.length = length \n",
    "        self.width = width\n",
    "    # define a method to get the area \n",
    "    def area(self):\n",
    "        # calculate area and return it\n",
    "        return self.length*self.width\n",
    "# instantiate the object of Rectangle with some arguments\n",
    "obj_rect = Rectangle('Rectangle', 10, 34)\n",
    "# print the area of rectangle using area() method\n",
    "print(f\"Area of Rectangle = {obj_rect.area()}\")\n",
    "# instantiate the object of Circle with some arguments\n",
    "obj_circle =Circle('Circle', 14)\n",
    "# print the area of Circle using area() method\n",
    "print(f\"Area of Circle = {obj_circle.area()}\")"
   ]
  },
  {
   "cell_type": "markdown",
   "metadata": {},
   "source": [
    "##### 12. Explain the use of abstract base classes (ABCs) in Python and how they relate to inheritance. Provide an example using the `abc` module."
   ]
  },
  {
   "cell_type": "markdown",
   "metadata": {},
   "source": [
    "##### **Ans :** The abstract base classes in python act as the skeleton for child classes. It just provide the empty methods which can be defined by the child classes seperately according to their needs and requirements. Abstract base classes exist to be inherited, but never instantiated. It means these classes can be worked as super class for other classes but object for the abstract class is not possible. Python provides the abc module to define abstract base classes."
   ]
  },
  {
   "cell_type": "code",
   "execution_count": 46,
   "metadata": {},
   "outputs": [
    {
     "name": "stdout",
     "output_type": "stream",
     "text": [
      "Car has properties -> color = red, num_of_tyres = 4, speed = 240\n",
      "Bicycle has properties -> color = black, num_of_tyres = 2, speed = 10\n"
     ]
    }
   ],
   "source": [
    "# from abc module, import ABC class and abstractmethod\n",
    "from abc import abstractmethod, ABC\n",
    "# create a class Vehicle and inherit ABC\n",
    "class Vehicle(ABC) :\n",
    "    # define a method as abstract method\n",
    "    @abstractmethod\n",
    "    def show_details():\n",
    "        pass \n",
    "# create a class Car and inherit Vehicle\n",
    "class Car(Vehicle):\n",
    "    # create a constructor\n",
    "    def __init__(self, num_of_tyres, color, speed) -> None:\n",
    "        # assign values of instance variables\n",
    "        self.num_of_tyres = num_of_tyres \n",
    "        self.color = color\n",
    "        self.speed = speed\n",
    "    # define the method show_details(), this method is abstract in Vehicle class(super class)\n",
    "    def show_details(self):\n",
    "        print(f\"Car has properties -> color = {self.color}, num_of_tyres = {self.num_of_tyres}, speed = {self.speed}\")\n",
    "# create a class Bicycle and inherit Vehicle\n",
    "class BiCycle(Vehicle):\n",
    "    # create a constructor\n",
    "    def __init__(self, num_of_tyres, color, speed) -> None:\n",
    "        # assign values of instance variables\n",
    "        self.num_of_tyres = num_of_tyres \n",
    "        self.color = color\n",
    "        self.speed = speed\n",
    "    # define the method show_details(), this method is abstract in Vehicle class(super class)\n",
    "    def show_details(self):\n",
    "        print(f\"Bicycle has properties -> color = {self.color}, num_of_tyres = {self.num_of_tyres}, speed = {self.speed}\")\n",
    "\n",
    "# create object for class Car\n",
    "car_obj = Car(4,'red', 240)\n",
    "# call the method show_details()\n",
    "car_obj.show_details()\n",
    "# create object for class Bicycle\n",
    "cycle_obj = BiCycle(2,'black', 10)\n",
    "# call the method show_details()\n",
    "cycle_obj.show_details()"
   ]
  },
  {
   "cell_type": "markdown",
   "metadata": {},
   "source": [
    "##### 13. How can you prevent a child class from modifying certain attributes or methods inherited from a parent class in Python?"
   ]
  },
  {
   "cell_type": "markdown",
   "metadata": {},
   "source": [
    "##### **Ans :** We can prevent a child class from modifying certain attributes or method inherited from a parent class in python using encapsulation. We can simply define these member variables/methods as private using `__` before thier names and use getter and setter methods to modify them. This way, we can maintain a kind of authenticity for our data."
   ]
  },
  {
   "cell_type": "markdown",
   "metadata": {},
   "source": [
    "##### 14. Create a Python class called `Employee` with attributes `name` and `salary`. Then, create a child class `Manager` that inherits from `Employee` and adds an attribute `department`. Provide an example."
   ]
  },
  {
   "cell_type": "code",
   "execution_count": 47,
   "metadata": {},
   "outputs": [
    {
     "name": "stdout",
     "output_type": "stream",
     "text": [
      "Employee -> name = Mr. Eneth Lark, salary = 1000000\n",
      "Department is Sales\n"
     ]
    }
   ],
   "source": [
    "# create a class employee\n",
    "class Employee:\n",
    "    # create a constructor \n",
    "    def __init__(self, name, salary) -> None:\n",
    "        # assign values to instance variable\n",
    "        self.name = name \n",
    "        self.salary = salary\n",
    "    # create a method to show details of employee\n",
    "    def show_details(self):\n",
    "        print(f\"Employee -> name = {self.name}, salary = {self.salary}\")\n",
    "# create a class Manager which inherit Employeee\n",
    "class Manager(Employee):\n",
    "    # create a constructor \n",
    "    def __init__(self, name, salary, department) -> None:\n",
    "        # assign values to instance variable\n",
    "        super().__init__(name, salary)\n",
    "        self.department = department\n",
    "    # create a method to show department of manager\n",
    "    def show_department(self):\n",
    "        print(f'Department is {self.department}')\n",
    "# instantiate the object for Manager class\n",
    "obj = Manager('Mr. Eneth Lark', 1000000, 'Sales')\n",
    "# call show_details()\n",
    "obj.show_details()\n",
    "# call show_department\n",
    "obj.show_department()\n"
   ]
  },
  {
   "cell_type": "markdown",
   "metadata": {},
   "source": [
    "##### 15. Discuss the concept of method overloading in Python inheritance. How does it differ from method overriding?"
   ]
  },
  {
   "cell_type": "markdown",
   "metadata": {},
   "source": [
    "##### **Ans :** Method overloading in inheritance is concept where methods have same name but definition, parameter types, number of parameters are different. While Method overriding is a concept of object-oriented programming in which a subclass or child class to provide a specific implementation of a method that is already provided by one of its parent classes. "
   ]
  },
  {
   "cell_type": "markdown",
   "metadata": {},
   "source": [
    "##### 16. Explain the purpose of the `__init__()` method in Python inheritance and how it is utilized in child classes."
   ]
  },
  {
   "cell_type": "markdown",
   "metadata": {},
   "source": [
    "##### **Ans :** ##### **Ans :** The purpose of __ init __() method is to create constructor of a class.The constructor in inheritance in python is a concept via which object is instantiated. It is a special method that is called  when an object is created. The purpose of a python constructor is to assign values to the data members within the class when an object is initialized. Constructor of parent class is inherited in child class using super() method."
   ]
  },
  {
   "cell_type": "markdown",
   "metadata": {},
   "source": [
    "##### 17. Create a Python class called `Bird` with a method `fly()`. Then, create child classes `Eagle` and `Sparrow` that inherit from `Bird` and implement the `fly()` method differently. Provide an example of using these classes."
   ]
  },
  {
   "cell_type": "code",
   "execution_count": 3,
   "metadata": {},
   "outputs": [
    {
     "name": "stdout",
     "output_type": "stream",
     "text": [
      "This is eagle class, it flies with a speed of 200>It is a big and dangerous bird\n",
      "This is Sparrow class, it flies with a speed of 100. It is a small bird\n"
     ]
    }
   ],
   "source": [
    "# create a class Bird \n",
    "class Bird:\n",
    "    # create a constructor\n",
    "    def __init__(self) -> None:\n",
    "        pass\n",
    "    # create a method fly()\n",
    "    def fly(self):\n",
    "        pass \n",
    "# create a class Eagle and inherit Bird class\n",
    "class Eagle(Bird):\n",
    "    # create a constructor\n",
    "    def __init__(self, speed) -> None:\n",
    "        # call constructor of super class\n",
    "        super().__init__()\n",
    "        # assign values to instance variable\n",
    "        self.speed = speed\n",
    "    # define fly() method : method overriding\n",
    "    def fly(self):\n",
    "        # print the message according\n",
    "        print(f'This is eagle class, it flies with a speed of {self.speed}>It is a big and dangerous bird')\n",
    "# create a class Eagle and inherit Bird class\n",
    "class Sparrow(Bird):\n",
    "    # create a constructor\n",
    "    def __init__(self, speed) -> None:\n",
    "        # call constructor of super class\n",
    "        super().__init__()\n",
    "        # assign values to instance variable\n",
    "        self.speed = speed\n",
    "    # define fly() method : method overriding\n",
    "    def fly(self):\n",
    "        # print the message according\n",
    "        print(f'This is Sparrow class, it flies with a speed of {self.speed}. It is a small bird')\n",
    "# create a onject of Eagle class\n",
    "obj_eagle = Eagle(200)\n",
    "# call fly() method\n",
    "obj_eagle.fly()\n",
    "# create a onject of Sparrow class\n",
    "obj_sparrow = Sparrow(100)\n",
    "# call fly() method\n",
    "obj_sparrow.fly()"
   ]
  },
  {
   "cell_type": "markdown",
   "metadata": {},
   "source": [
    "##### 18. What is the \"diamond problem\" in multiple inheritance, and how does Python address it?\n"
   ]
  },
  {
   "cell_type": "markdown",
   "metadata": {},
   "source": [
    "##### **Ans :** The diamomd problem in multiple inheritance is a concept where one sublass tries to inherit the properties of multiple parent classes at the same time. In python, subclass can inherit the properties of multiple parent classes. If any method or variable has same name or signature, then priority will be given to that class's attribute or method which was inheritted first."
   ]
  },
  {
   "cell_type": "markdown",
   "metadata": {},
   "source": [
    "##### 19. Discuss the concept of \"is-a\" and \"has-a\" relationships in inheritance, and provide examples of each.\n"
   ]
  },
  {
   "cell_type": "markdown",
   "metadata": {},
   "source": [
    "##### **Ans :** Is-a relationship is completely inheritance which means one class will inherit the properties of another class. The class which inherits the properties is called child class. The class whose properties are being inherited is called Parent class or super class. \n",
    "##### Has-a relationship is a composition relationship. In this, object of one class has been created in constructor of another class."
   ]
  },
  {
   "cell_type": "markdown",
   "metadata": {},
   "source": [
    "#### example of is-a"
   ]
  },
  {
   "cell_type": "code",
   "execution_count": 8,
   "metadata": {},
   "outputs": [
    {
     "name": "stdout",
     "output_type": "stream",
     "text": [
      "a = 1, b = 2, c = 3\n"
     ]
    },
    {
     "data": {
      "text/plain": [
       "'a = 1, b = 2'"
      ]
     },
     "execution_count": 8,
     "metadata": {},
     "output_type": "execute_result"
    }
   ],
   "source": [
    "# create a class A\n",
    "class A:\n",
    "    # create a constructor\n",
    "    def __init__(self, a,b) -> None:\n",
    "        # assign values to instance variables\n",
    "        self.a = a \n",
    "        self.b = b \n",
    "    # create a method to show a and b\n",
    "    def show_A(self):\n",
    "        return (f'a = {self.a}, b = {self.b}')\n",
    "# create a class B and inherit A\n",
    "class B(A):\n",
    "    # create a constructor\n",
    "    def __init__(self, a, b, c) -> None:\n",
    "        # pass values to members of parent class using super()\n",
    "        super().__init__(a, b) \n",
    "        # assign values to instance variables\n",
    "        self.c = c \n",
    "    # create a method to show a, b, c\n",
    "    def show_B(self):\n",
    "        print(super().show_A() + f\", c = {self.c}\")\n",
    "# create an object of class B\n",
    "obj = B(1,2,3)\n",
    "# call method of sub class\n",
    "obj.show_B()\n",
    "# call method of parent class\n",
    "obj.show_A()\n",
    "\n",
    "\n",
    "    "
   ]
  },
  {
   "cell_type": "markdown",
   "metadata": {},
   "source": [
    "#### example of has-a"
   ]
  },
  {
   "cell_type": "code",
   "execution_count": 11,
   "metadata": {},
   "outputs": [
    {
     "name": "stdout",
     "output_type": "stream",
     "text": [
      "object of class A = a = 1, b = 2\n",
      "c = 3\n"
     ]
    }
   ],
   "source": [
    "# create a class A\n",
    "class A:\n",
    "    # create a constructor\n",
    "    def __init__(self, a,b) -> None:\n",
    "        # assign values to instance variables\n",
    "        self.a = a \n",
    "        self.b = b \n",
    "    # create a method to show a and b\n",
    "    def show_A(self):\n",
    "        return (f'a = {self.a}, b = {self.b}')\n",
    "# create a class B \n",
    "class B:\n",
    "    # create a constructor\n",
    "    def __init__(self,a,b,c) -> None:\n",
    "        # assign values to instance variables\n",
    "        self.obj_a = A(a,b) # create the object of class A inside constructor of class B\n",
    "        self.c = c\n",
    "    # define a method show_B()\n",
    "    def show_B(self):\n",
    "        print(\"object of class A =\",self.obj_a.show_A())\n",
    "        print(\"c =\",self.c)\n",
    "# create an object of class B \n",
    "obj_b = B(1,2,3)\n",
    "# call method show_B() of class B\n",
    "obj_b.show_B()\n"
   ]
  },
  {
   "cell_type": "markdown",
   "metadata": {},
   "source": [
    "##### 20. Create a Python class hierarchy for a university system. Start with a base class `Person` and create child classes `Student` and `Professor`, each with their own attributes and methods. Provide an example of using these classes in a university context."
   ]
  },
  {
   "cell_type": "code",
   "execution_count": 7,
   "metadata": {},
   "outputs": [
    {
     "name": "stdout",
     "output_type": "stream",
     "text": [
      "Student Name = Kirsh Demi, gender = male, age = 20\n",
      "The course = b.tech cs, batch = 2023\n",
      "Professor Name = Dr. Lin Teff, gender = male, age = 53\n",
      "The course = b.tech cs, subject_handled = DSA\n"
     ]
    }
   ],
   "source": [
    "# create a class Person\n",
    "class Person:\n",
    "    # create a constructor\n",
    "    def __init__(self,name, gender, age, profession) -> None:\n",
    "        # assign values to instance variables\n",
    "        self.name = name \n",
    "        self.gender = gender\n",
    "        self.age = age \n",
    "        self.profession = profession\n",
    "    # create a method to show details of persone\n",
    "    def show_details(self):\n",
    "        print(f\"{self.profession} Name = {self.name}, gender = {self.gender}, age = {self.age}\")\n",
    "# create a class Student which inherits Person class\n",
    "class Student(Person):\n",
    "    # create a constructor\n",
    "    def __init__(self, name, gender, age, profession, course, batch) -> None:\n",
    "        # call the constructor of parent class\n",
    "        super().__init__(name, gender, age, profession)\n",
    "        # assign values to instance variables\n",
    "        self.batch = batch \n",
    "        self.course = course\n",
    "    # create the method to show student course details\n",
    "    def show_student_course_details(self):\n",
    "        print(f\"The course = {self.course}, batch = {self.batch}\")\n",
    "# create a class Professor which inherits Person class\n",
    "class Professor(Person):\n",
    "    # create a constructor\n",
    "    def __init__(self, name, gender, age, profession, course, subject_handled) -> None:\n",
    "        # call the constructor of parent class\n",
    "        super().__init__(name, gender, age, profession)\n",
    "        # assign values to instance variables\n",
    "        self.subject_handled = subject_handled \n",
    "        self.course = course\n",
    "    # create the method to show professor subject details\n",
    "    def show_professor_subject_details(self):\n",
    "        print(f\"The course = {self.course}, subject_handled = {self.subject_handled}\")\n",
    "# create object of Student\n",
    "obj_student = Student(\"Kirsh Demi\", 'male', '20','Student', 'b.tech cs', '2023')\n",
    "# call show_details() method\n",
    "obj_student.show_details()\n",
    "# call show_student_course_details() method\n",
    "obj_student.show_student_course_details() \n",
    "\n",
    "# create object of Professor class\n",
    "obj_Professor = Professor(\"Dr. Lin Teff\", 'male', 53, 'Professor', 'b.tech cs', 'DSA')\n",
    "# call show_details() method\n",
    "obj_Professor.show_details()\n",
    "# call show_professor_subject_details() method\n",
    "obj_Professor.show_professor_subject_details() \n",
    "\n"
   ]
  },
  {
   "cell_type": "markdown",
   "metadata": {},
   "source": [
    "# ***`Encapsulation ➖`***"
   ]
  },
  {
   "cell_type": "markdown",
   "metadata": {},
   "source": [
    "##### 1. Explain the concept of encapsulation in Python. What is its role in object-oriented programming?\n"
   ]
  },
  {
   "cell_type": "markdown",
   "metadata": {},
   "source": [
    "##### **Ans :** Encapsulation in python is the concept of hiding important or sensitive dqata information from direct access or modification. Encapsulation in object oriented programming can be used to hide member variables and methods associated with instantiated object. This way, we can easily protect our sensitive class or object attributes or method from unauthorized modification."
   ]
  },
  {
   "cell_type": "markdown",
   "metadata": {},
   "source": [
    "##### 2. Describe the key principles of encapsulation, including access control and data hiding.\n"
   ]
  },
  {
   "cell_type": "markdown",
   "metadata": {},
   "source": [
    "##### **Ans :** Encapsulation is a way to restrict the direct access to some components of an object, so users cannot access all of the sensitive variables of a particular object."
   ]
  },
  {
   "cell_type": "markdown",
   "metadata": {},
   "source": [
    "##### 3. How can you achieve encapsulation in Python classes? Provide an example."
   ]
  },
  {
   "cell_type": "markdown",
   "metadata": {},
   "source": [
    "##### **Ans :** We can achieve encapsulation in python classes by making all important member variables or methods as private."
   ]
  },
  {
   "cell_type": "code",
   "execution_count": null,
   "metadata": {},
   "outputs": [
    {
     "name": "stdout",
     "output_type": "stream",
     "text": [
      "13\n",
      "a = 13, b= 2, c = 1\n"
     ]
    }
   ],
   "source": [
    "# create a class\n",
    "class Example:\n",
    "    # create a constructor\n",
    "    def __init__(self, b, c) -> None:\n",
    "        # create a private variable by using double score followed by variable name example : __a\n",
    "        # assign variable to instance variables\n",
    "        self.__a = None \n",
    "        self.b = b \n",
    "        self.c = c\n",
    "    # use decorator property to create a getter function\n",
    "    @property\n",
    "    def a(self):\n",
    "        return self.__a\n",
    "    # use decortor setter to create a setter function.\n",
    "    @a.setter\n",
    "    def a(self, value):\n",
    "        self.__a = value\n",
    "    # create a method to show the details\n",
    "    def show_details(self):\n",
    "        print(f'a = {self.__a}, b= {self.b}, c = {self.c}')\n",
    "# create object of Example class\n",
    "obj = Example(2,1)\n",
    "# set value of private variable via setter method\n",
    "obj.a = 13\n",
    "# get value of private variable via getter method\n",
    "print(obj.a)\n",
    "# call show_details()\n",
    "obj.show_details()\n"
   ]
  },
  {
   "cell_type": "markdown",
   "metadata": {},
   "source": [
    "##### 4. Discuss the difference between public, private, and protected access modifiers in Python.\n"
   ]
  },
  {
   "cell_type": "markdown",
   "metadata": {},
   "source": [
    "##### **Ans :** Public access modifier provides the flexibility to access the variables and methods outside the class or in another package or in another module.\n",
    "##### Private access modifier allows to access the variables and methods inside the class in which they are defined.\n",
    "##### Protected access modifier allows to access the variables and methods inside the class in which they are defined or in subclass or in subclass outside module."
   ]
  },
  {
   "cell_type": "markdown",
   "metadata": {},
   "source": [
    "##### 5. Create a Python class called `Person` with a private attribute `__name`. Provide methods to get and set the name attribute."
   ]
  },
  {
   "cell_type": "code",
   "execution_count": 1,
   "metadata": {},
   "outputs": [
    {
     "name": "stdout",
     "output_type": "stream",
     "text": [
      "Person Details-> name = Mr. Lin Martin, age = 20, gender = Male\n",
      "Mr. Lin Martin\n"
     ]
    }
   ],
   "source": [
    "# create a class Person\n",
    "class Person:\n",
    "    # create a constructor\n",
    "    def __init__(self,age, gender) -> None:\n",
    "        # create a private variable by using double score followed by variable name example : __a\n",
    "        # assign variable to instance variables\n",
    "        self.__name = None\n",
    "        self.age = age \n",
    "        self.gender = gender\n",
    "    # use decorator property to create a getter function\n",
    "    @property\n",
    "    def name(self):\n",
    "        return self.__name\n",
    "    # use decortor setter to create a setter function.\n",
    "    @name.setter \n",
    "    def name(self, value):\n",
    "        self.__name = value\n",
    "    # create a method to show the details\n",
    "    def show_details(self):\n",
    "        print(f\"Person Details-> name = {self.name}, age = {self.age}, gender = {self.gender}\")\n",
    "# create an object of class Person\n",
    "obj_person = Person(20,'Male')\n",
    "# set value of private variable via setter method\n",
    "obj_person.name = 'Mr. Lin Martin'\n",
    "# call show_details()\n",
    "obj_person.show_details()\n",
    "# get value of private variable via getter method\n",
    "print(obj_person.name)"
   ]
  },
  {
   "cell_type": "markdown",
   "metadata": {},
   "source": [
    "##### 6. Explain the purpose of getter and setter methods in encapsulation. Provide examples.\n"
   ]
  },
  {
   "cell_type": "markdown",
   "metadata": {},
   "source": [
    "##### **Ans :** Encapsultaion is the concept of hiding sensitive data or limiting the access of sensitive members of class instance. It can be achieved by getter and setter methods. The purpose of getter method in encapsulation is to get the value of private variable. The purpose of setter method in encapsulation is to set or assign the value of private variable."
   ]
  },
  {
   "cell_type": "markdown",
   "metadata": {},
   "source": [
    "##### 7. What is name mangling in Python, and how does it affect encapsulation?\n"
   ]
  },
  {
   "cell_type": "markdown",
   "metadata": {},
   "source": [
    "##### **Ans :** In python, name mangling is concept in which class attributes are not being able to be accessed by sub classes. These attributes are designated by naming them a name with one trailing underscore and two leading underscores. example = _classname__varname, Here, classname is name of class whose attribute is to be mangled and varname is the name of the attribute. In Encapsulation, we can provide some level of authentication to class attributes. We can make class attributes unaccessible to subclass."
   ]
  },
  {
   "cell_type": "markdown",
   "metadata": {},
   "source": [
    "##### 8. Create a Python class called `BankAccount` with private attributes for the account balance (`__balance`) and account number (`__account_number`). Provide methods for depositing and withdrawing money."
   ]
  },
  {
   "cell_type": "code",
   "execution_count": 6,
   "metadata": {},
   "outputs": [
    {
     "name": "stdout",
     "output_type": "stream",
     "text": [
      "The money 1000000 has been deposited. The balance is 1000000\n",
      "40000 has been withdrawn. The balance is 960000\n"
     ]
    }
   ],
   "source": [
    "# create a class BankAccount\n",
    "class BankAccount:\n",
    "    # create a constructor with some arguments\n",
    "    def __init__(self, name, age, gender) -> None:\n",
    "        # assign values to instance variables\n",
    "        self.name = name\n",
    "        self.age = age \n",
    "        self.gender = gender\n",
    "        # create a private variable by using double score followed by variable name example : __a\n",
    "        self.__account_number = 0 \n",
    "        self.__balance = 0 \n",
    "    # use decorator property to create a getter function for account number\n",
    "    @property\n",
    "    def account_number(self):\n",
    "        return self.__account_number\n",
    "    # use decorator property to create a getter function for balance\n",
    "    @property\n",
    "    def balance(self):\n",
    "        return self.__balance\n",
    "    # use decortor setter to create a setter function for account number\n",
    "    @account_number.setter\n",
    "    def account_number(self, value):\n",
    "        self.__account_number = value\n",
    "    # use decortor setter to create a setter function for balance\n",
    "    @balance.setter \n",
    "    def balance(self, value):\n",
    "        self.__balance = value \n",
    "    # method to withdraw money from the bank account\n",
    "    def withdraw_money(self, money):\n",
    "        # use a try block to check if the withdrawn mobey is less than or equal to balance or not\n",
    "        try:\n",
    "            # if the withdrawn mobey is less  or equal to than balance\n",
    "            if money<=self.balance:\n",
    "                # deduct the money from the balance and print the result\n",
    "                self.balance -= money\n",
    "                print(f\"{money} has been withdrawn. The balance is {self.balance}\")\n",
    "            # the withdrawn mobey is not greater than balance then\n",
    "            else:\n",
    "                # raise the exception using raise keyword\n",
    "                raise ValueError(\"Balance is insufficient.\")\n",
    "        # catch the exception using except blockand print the exception\n",
    "        except Exception as e :\n",
    "            print(e)\n",
    "    # create a method to deposit money\n",
    "    def deposit_money(self, money):\n",
    "        # add money to balance and print the result\n",
    "        self.balance += money\n",
    "        print(f\"The money {money} has been deposited. The balance is {self.balance}\")\n",
    "# create an object of BankAccount class and pass the values to arguments\n",
    "account1 = BankAccount('Ms. Jennifer Luoise', 22, 'female')\n",
    "# set the accountnumber\n",
    "account1.account_number = 19034093392334\n",
    "# deposit the money using deposit_money() method\n",
    "account1.deposit_money(1000000)\n",
    "# withdraw money using withdraw_money() method. \n",
    "account1.withdraw_money(40000)"
   ]
  },
  {
   "cell_type": "markdown",
   "metadata": {},
   "source": [
    "##### 9. Discuss the advantages of encapsulation in terms of code maintainability and security.\n"
   ]
  },
  {
   "cell_type": "markdown",
   "metadata": {},
   "source": [
    "##### **Ans :** Encapsulation is concept which ensures organization of attributes and thier access control. It also includes the concept of class methods and static methods. Access contol is managed via getter and setter methods. Thus provides clean and maintainable code with data security."
   ]
  },
  {
   "cell_type": "markdown",
   "metadata": {},
   "source": [
    "##### 10. How can you access private attributes in Python? Provide an example demonstrating the use of name mangling."
   ]
  },
  {
   "cell_type": "markdown",
   "metadata": {},
   "source": [
    "##### **Ans :** We can access private attributes in python using setter and getter method via property decorators. Example -"
   ]
  },
  {
   "cell_type": "code",
   "execution_count": 7,
   "metadata": {},
   "outputs": [
    {
     "name": "stdout",
     "output_type": "stream",
     "text": [
      "13\n",
      "a = 13, b= 2, c = 1\n"
     ]
    }
   ],
   "source": [
    "# create a class\n",
    "class Example:\n",
    "    # create a constructor\n",
    "    def __init__(self, b, c) -> None:\n",
    "        # create a private variable by using double score followed by variable name example : __a\n",
    "        # assign variable to instance variables\n",
    "        self.__a = None \n",
    "        self.b = b \n",
    "        self.c = c\n",
    "    # use decorator property to create a getter function\n",
    "    @property\n",
    "    def a(self):\n",
    "        return self.__a\n",
    "    # use decortor setter to create a setter function.\n",
    "    @a.setter\n",
    "    def a(self, value):\n",
    "        self.__a = value\n",
    "    # create a method to show the details\n",
    "    def show_details(self):\n",
    "        print(f'a = {self.__a}, b= {self.b}, c = {self.c}')\n",
    "# create object of Example class\n",
    "obj = Example(2,1)\n",
    "# set value of private variable via setter method\n",
    "obj.a = 13\n",
    "# get value of private variable via getter method\n",
    "print(obj.a)\n",
    "# call show_details()\n",
    "obj.show_details()\n"
   ]
  },
  {
   "cell_type": "markdown",
   "metadata": {},
   "source": [
    "## `11. Create a Python class hierarchy for a school system, including classes for students, teachers, and courses, and implement encapsulation principles to protect sensitive information.`\n"
   ]
  },
  {
   "cell_type": "code",
   "execution_count": null,
   "metadata": {},
   "outputs": [],
   "source": [
    "class School:\n",
    "    def __init__(self, ) -> None:\n",
    "        pass"
   ]
  },
  {
   "cell_type": "markdown",
   "metadata": {},
   "source": [
    "##### 12. Explain the concept of property decorators in Python and how they relate to encapsulation.\n"
   ]
  },
  {
   "cell_type": "markdown",
   "metadata": {},
   "source": [
    "##### **Ans :** Property decorators in python return the modified function which can be called normally. It is a in-built decorator in python which helps in determining the properties without manually calling in-built property() method of python. This property decorator helps in access control in encapsulation. With the help of property decorator, we can make getter and setter for private variables of python class instance. We can create a getter function to get the value of private attribute. We can create setter method using setter functionality of property decorator and can assign the value to private variable."
   ]
  },
  {
   "cell_type": "markdown",
   "metadata": {},
   "source": [
    "##### 13. What is data hiding, and why is it important in encapsulation? Provide examples.\n"
   ]
  },
  {
   "cell_type": "markdown",
   "metadata": {},
   "source": [
    "##### **Ans :** Data hiding is the concept of hiding details by revoking the access from unauthorised access. This is important concept in encapsulation. By this way, we can capsule the important attributes into a capsule so as to avoid or limit the unauthorised access. We can do this via accessors and mutators. For example -"
   ]
  },
  {
   "cell_type": "code",
   "execution_count": 9,
   "metadata": {},
   "outputs": [
    {
     "name": "stdout",
     "output_type": "stream",
     "text": [
      "13\n",
      "a = 13, b= 2, c = 1\n"
     ]
    }
   ],
   "source": [
    "# create a class\n",
    "class Example:\n",
    "    # create a constructor\n",
    "    def __init__(self, b, c) -> None:\n",
    "        # create a private variable by using double score followed by variable name example : __a\n",
    "        # assign variable to instance variables\n",
    "        self.__a = None \n",
    "        self.b = b \n",
    "        self.c = c\n",
    "    # use decorator property to create a getter function\n",
    "    @property\n",
    "    def a(self):\n",
    "        return self.__a\n",
    "    # use decortor setter to create a setter function.\n",
    "    @a.setter\n",
    "    def a(self, value):\n",
    "        self.__a = value\n",
    "    # create a method to show the details\n",
    "    def show_details(self):\n",
    "        print(f'a = {self.__a}, b= {self.b}, c = {self.c}')\n",
    "# create object of Example class\n",
    "obj = Example(2,1)\n",
    "# set value of private variable via setter method\n",
    "obj.a = 13\n",
    "# get value of private variable via getter method\n",
    "print(obj.a)\n",
    "# call show_details()\n",
    "obj.show_details()\n"
   ]
  },
  {
   "cell_type": "markdown",
   "metadata": {},
   "source": [
    "##### 14. Create a Python class called `Employee` with private attributes for salary (`__salary`) and employee ID (`__employee_id`). Provide a method to calculate yearly bonuses.\n"
   ]
  },
  {
   "cell_type": "code",
   "execution_count": 16,
   "metadata": {},
   "outputs": [
    {
     "name": "stdout",
     "output_type": "stream",
     "text": [
      "Employee Details : \n",
      "name = Ms. Kate, age = 22, gender = Female, adhar_no = 127845673268, \n",
      "employee_code = Emp127845673268, salary = 100000, bonus = The yearly bonus is 96000.0\n"
     ]
    }
   ],
   "source": [
    "# create a class Employee\n",
    "class Employee:\n",
    "    # create a constructor\n",
    "    def __init__(self, name, age, gender, department, adhar_number) -> None:\n",
    "        # assign values to instance variables\n",
    "        self.name = name\n",
    "        self.age = age\n",
    "        self.gender = gender\n",
    "        self.department = department\n",
    "        self.adhar_no = adhar_number\n",
    "        # # create a private variable by using double score followed by variable name example : __a\n",
    "        self.__employee_id = \"Emp\"+str(adhar_number)\n",
    "        # create a private valriable for salary  \n",
    "        # if department is tech then initial salary is 1 lakh otherwise it is 80000\n",
    "        if department == 'Tech':\n",
    "            self.__salary = 100000\n",
    "        else :\n",
    "            self.__salary = 80000\n",
    "    \n",
    "    # use decorator property to create a getter function for employee id\n",
    "    @property \n",
    "    def employee_id(self):\n",
    "        return self.__employee_id\n",
    "    # use decorator property to create a getter function for salary\n",
    "    @property\n",
    "    def salary(self):\n",
    "        return self.__salary\n",
    "    # use decortor setter to create a setter function.\n",
    "    @salary.setter\n",
    "    def salary(self, value):\n",
    "        self.__salary = value\n",
    "    # create a method to get the yearly bonus\n",
    "    def get_yearly_bonus(self):\n",
    "        # get the salary for 12 months to make it yearly and get 8% of the yearly salary. \n",
    "        # It will be the bonus.\n",
    "        bonus = (self.salary*12)*8.0/100 \n",
    "        return f'The yearly bonus is {bonus}'\n",
    "    # define __repr__ method to get the details of the current instance.\n",
    "    def __repr__(self) -> str:\n",
    "        return f\"Employee Details : \\nname = {self.name}, age = {self.age}, gender = {self.gender}, adhar_no = {self.adhar_no}, \\nemployee_code = {self.employee_id}, salary = {self.salary}, bonus = {self.get_yearly_bonus()}\"\n",
    "# create the object of Employee class by passing all arguments values\n",
    "emp1 = Employee('Ms. Kate', 22, 'Female', 'Tech', 127845673268)\n",
    "# calculate the yearly bonus by calling get_yearly_bonus() method.\n",
    "emp1.get_yearly_bonus()\n",
    "# print the object details\n",
    "print(emp1)\n"
   ]
  },
  {
   "cell_type": "markdown",
   "metadata": {},
   "source": [
    "##### 15. Discuss the use of accessors and mutators in encapsulation. How do they help maintain control over attribute access?"
   ]
  },
  {
   "cell_type": "markdown",
   "metadata": {},
   "source": [
    "##### **Ans :** The accessors are getters which are used to get the value of a private attribute. The mutators are setter which are used to modify the value of private variables. We can not directly acces the private attributes and modify its state. This way we maintain a specific protocol to access and modify the value of private attributes of class instance. "
   ]
  },
  {
   "cell_type": "markdown",
   "metadata": {},
   "source": [
    "##### 16. What are the potential drawbacks or disadvantages of using encapsulation in Python?\n"
   ]
  },
  {
   "cell_type": "markdown",
   "metadata": {},
   "source": [
    "##### **Ans :** Disadvantages of using encapsulation in python-\n",
    "* The length of code increases because for every private attribute, we need seperate mutators and accessor with specifiers which makes the code length.\n",
    "* For every method or code, we need to provide additional info or instructions which makes it hectic to write long codes."
   ]
  },
  {
   "cell_type": "markdown",
   "metadata": {},
   "source": [
    "## `17. Create a Python class for a library system that encapsulates book information, including titles, authors, and availability status.`"
   ]
  },
  {
   "cell_type": "code",
   "execution_count": null,
   "metadata": {},
   "outputs": [],
   "source": []
  },
  {
   "cell_type": "markdown",
   "metadata": {},
   "source": []
  },
  {
   "cell_type": "markdown",
   "metadata": {},
   "source": [
    "##### 18. Explain how encapsulation enhances code reusability and modularity in Python programs.\n"
   ]
  },
  {
   "cell_type": "markdown",
   "metadata": {},
   "source": [
    "##### **Ans :** Encapsulation promotes modularity by encapsulating the data and methods related to a specific object within a class. For each encapsulated member attributes, there are seperate accessors and mutators which gives us the feel of modularity. We can use these encapsulated instance attributes again and again as per our need hence provides code reusability."
   ]
  },
  {
   "cell_type": "markdown",
   "metadata": {},
   "source": [
    "##### 19. Describe the concept of information hiding in encapsulation. Why is it essential in software development?"
   ]
  },
  {
   "cell_type": "markdown",
   "metadata": {},
   "source": [
    "##### **Ans :** Data hiding is the concept of hiding details by revoking the access from unauthorised access. This is important concept in encapsulation. By this way, we can capsule the important attributes into a capsule so as to avoid or limit the unauthorised access. We can do this via accessors and mutators. It is essential in software development because when we work for real world scenarios, we have huge and complex data with so many crucial information. If this data goes to unreliable hands, it will cost a huge amount of money to the company organisation or the owner of data. So, we need to protect our data from unauthorized access. We need to ensure that our data gets modified only when required and it can be modified by authorised members only. For this purpose, we put some limitation on the access of data via encapsulation."
   ]
  },
  {
   "cell_type": "markdown",
   "metadata": {},
   "source": [
    "##### 20. Create a Python class called `Customer` with private attributes for customer details like name, address, and contact information. Implement encapsulation to ensure data integrity and security."
   ]
  },
  {
   "cell_type": "code",
   "execution_count": 19,
   "metadata": {},
   "outputs": [
    {
     "name": "stdout",
     "output_type": "stream",
     "text": [
      "Customer : name = Mr. Kelvin Tame, age = 40, phone_number = 9375832798, address = ABC, block 2 street, south wales\n"
     ]
    }
   ],
   "source": [
    "# create a class Customer\n",
    "class Customer:\n",
    "    # create a constructor\n",
    "    def __init__(self, name, age, phone_number, address) -> None:\n",
    "        # assign values to instance variables\n",
    "        self.name = name\n",
    "        self.age = age \n",
    "        # create a private variable\n",
    "        self.__phone_number = phone_number\n",
    "        self.address = address\n",
    "    # use decorator property to create a getter function for phone number\n",
    "    @property\n",
    "    def phone_number(self):\n",
    "        return self.__phone_number \n",
    "    # use decortor setter to create a setter function for phone number\n",
    "    @phone_number.setter\n",
    "    def phone_number(self, value):\n",
    "        self.__phone_number = value\n",
    "        print(\"Phone number is updated!!\")\n",
    "    # create a method to show details of customer\n",
    "    def show_details(self):\n",
    "        print(f\"Customer : name = {self.name}, age = {self.age}, phone_number = {self.phone_number}, address = {self.address}\")\n",
    "\n",
    "user1 = Customer('Mr. Kelvin Tame', 40, 9375832798, 'ABC, block 2 street, south wales')\n",
    "user1.show_details()"
   ]
  },
  {
   "cell_type": "markdown",
   "metadata": {},
   "source": [
    "# ***`Polymorphism:-`***"
   ]
  },
  {
   "cell_type": "markdown",
   "metadata": {},
   "source": [
    "##### 1. What is polymorphism in Python? Explain how it is related to object-oriented programming.\n"
   ]
  },
  {
   "cell_type": "markdown",
   "metadata": {},
   "source": [
    "##### "
   ]
  },
  {
   "cell_type": "markdown",
   "metadata": {},
   "source": []
  },
  {
   "cell_type": "markdown",
   "metadata": {},
   "source": [
    "2. Describe the difference between compile-time polymorphism and runtime polymorphism in Python.\n",
    "3. Create a Python class hierarchy for shapes (e.g., circle, square, triangle) and demonstrate polymorphism through a common method, such as `calculate_area()`.\n",
    "4. Explain the concept of method overriding in polymorphism. Provide an example.\n",
    "5. How is polymorphism different from method overloading in Python? Provide examples for both.\n",
    "6. Create a Python class called `Animal` with a method `speak()`. Then, create child classes like `Dog`, `Cat`, and `Bird`, each with their own `speak()` method. Demonstrate polymorphism by calling the `speak()` method on objects of different subclasses.\n",
    "7. Discuss the use of abstract methods and classes in achieving polymorphism in Python. Provide an example using the `abc` module.\n",
    "8. Create a Python class hierarchy for a vehicle system (e.g., car, bicycle, boat) and implement a polymorphic `start()` method that prints a message specific to each vehicle type.\n",
    "9. Explain the significance of the `isinstance()` and `issubclass()` functions in Python polymorphism.\n",
    "10. What is the role of the `@abstractmethod` decorator in achieving polymorphism in Python? Provide an example.\n",
    "11. Create a Python class called `Shape` with a polymorphic method `area()` that calculates the area of different shapes (e.g., circle, rectangle, triangle).\n",
    "12. Discuss the benefits of polymorphism in terms of code reusability and flexibility in Python programs.\n",
    "13. Explain the use of the `super()` function in Python polymorphism. How does it help call methods of parent classes?\n",
    "14. Create a Python class hierarchy for a banking system with various account types (e.g., savings, checking, credit card) and demonstrate polymorphism by implementing a common `withdraw()` method.\n",
    "15. Describe the concept of operator overloading in Python and how it relates to polymorphism. Provide examples using operators like `+` and `*`.\n",
    "16. What is dynamic polymorphism, and how is it achieved in Python?\n",
    "17. Create a Python class hierarchy for employees in a company (e.g., manager, developer, designer) and implement polymorphism through a common `calculate_salary()` method.\n",
    "18. Discuss the concept of function pointers and how they can be used to achieve polymorphism in Python.\n",
    "19. Explain the role of interfaces and abstract classes in polymorphism, drawing comparisons between them.\n",
    "20. Create a Python class for a zoo simulation, demonstrating polymorphism with different animal types (e.g., mammals, birds, reptiles) and their behavior (e.g., eating, sleeping, making sounds).\n",
    "\n",
    "\n",
    "Abstraction:\n",
    "\n",
    "\n",
    "1. What is abstraction in Python, and how does it relate to object-oriented programming?\n",
    "2. Describe the benefits of abstraction in terms of code organization and complexity reduction.\n",
    "3. Create a Python class called `Shape` with an abstract method `calculate_area()`. Then, create child classes (e.g., `Circle`, `Rectangle`) that implement the `calculate_area()` method. Provide an example of using these classes.\n",
    "4. Explain the concept of abstract classes in Python and how they are defined using the `abc` module. Provide an example.\n",
    "5. How do abstract classes differ from regular classes in Python? Discuss their use cases.\n",
    "6. Create a Python class for a bank account and demonstrate abstraction by hiding the account balance and providing methods to deposit and withdraw funds.\n",
    "7. Discuss the concept of interface classes in Python and their role in achieving abstraction.\n",
    "8. Create a Python class hierarchy for animals and implement abstraction by defining common methods (e.g., `eat()`, `sleep()`) in an abstract base class.\n",
    "9. Explain the significance of encapsulation in achieving abstraction. Provide examples.\n",
    "10. What is the purpose of abstract methods, and how do they enforce abstraction in Python classes?\n",
    "11. Create a Python class for a vehicle system and demonstrate abstraction by defining common methods (e.g., `start()`, `stop()`) in an abstract base class.\n",
    "12. Describe the use of abstract properties in Python and how they can be employed in abstract classes.\n",
    "13. Create a Python class hierarchy for employees in a company (e.g., manager, developer, designer) and implement abstraction by defining a common `get_salary()` method.\n",
    "14. Discuss the differences between abstract classes and concrete classes in Python, including their instantiation.\n",
    "15. Explain the concept of abstract data types (ADTs) and their role in achieving abstraction in Python.\n",
    "16. Create a Python class for a computer system, demonstrating abstraction by defining common methods (e.g., `power_on()`, `shutdown()`) in an abstract base class.\n",
    "17. Discuss the benefits of using abstraction in large-scale software development projects.\n",
    "18. Explain how abstraction enhances code reusability and modularity in Python programs.\n",
    "19. Create a Python class for a library system, implementing abstraction by defining common methods (e.g., `add_book()`, `borrow_book()`) in an abstract base class.\n",
    "20. Describe the concept of method abstraction in Python and how it relates to polymorphism.\n",
    "\n",
    "\n",
    "Composition 👍\n",
    "\n",
    "\n",
    "\n",
    "1. Explain the concept of composition in Python and how it is used to build complex objects from simpler ones.\n",
    "2. Describe the difference between composition and inheritance in object-oriented programming.\n",
    "3. Create a Python class called `Author` with attributes for name and birthdate. Then, create a `Book` class that contains an instance of `Author` as a composition. Provide an example of creating a `Book` object.\n",
    "4. Discuss the benefits of using composition over inheritance in Python, especially in terms of code flexibility and reusability.\n",
    "5. How can you implement composition in Python classes? Provide examples of using composition to create complex objects.\n",
    "6. Create a Python class hierarchy for a music player system, using composition to represent playlists and songs.\n",
    "7. Explain the concept of \"has-a\" relationships in composition and how it helps design software systems.\n",
    "8. Create a Python class for a computer system, using composition to represent components like CPU, RAM, and storage devices.\n",
    "9. Describe the concept of \"delegation\" in composition and how it simplifies the design of complex systems.\n",
    "10. Create a Python class for a car, using composition to represent components like the engine, wheels, and transmission.\n",
    "11. How can you encapsulate and hide the details of composed objects in Python classes to maintain abstraction?\n",
    "12. Create a Python class for a university course, using composition to represent students, instructors, and course materials.\n",
    "13. Discuss the challenges and drawbacks of composition, such as increased complexity and potential for tight coupling between objects.\n",
    "14. Create a Python class hierarchy for a restaurant system, using composition to represent menus, dishes, and ingredients.\n",
    "15. Explain how composition enhances code maintainability and modularity in Python programs.\n",
    "16. Create a Python class for a computer game character, using composition to represent attributes like weapons, armor, and inventory.\n",
    "17. Describe the concept of \"aggregation\" in composition and how it differs from simple composition.\n",
    "18. Create a Python class for a house, using composition to represent rooms, furniture, and appliances.\n",
    "19. How can you achieve flexibility in composed objects by allowing them to be replaced or modified dynamically at runtime?\n",
    "20. Create a Python class for a social media application, using composition to represent users, posts, and comments.\n",
    "\n"
   ]
  },
  {
   "cell_type": "code",
   "execution_count": 17,
   "metadata": {},
   "outputs": [
    {
     "data": {
      "text/plain": [
       "-14"
      ]
     },
     "execution_count": 17,
     "metadata": {},
     "output_type": "execute_result"
    }
   ],
   "source": [
    "1 - 14\n",
    "3 - 11\n",
    "3 - 17\n"
   ]
  },
  {
   "cell_type": "markdown",
   "metadata": {},
   "source": []
  },
  {
   "cell_type": "markdown",
   "metadata": {},
   "source": []
  }
 ],
 "metadata": {
  "kernelspec": {
   "display_name": "base",
   "language": "python",
   "name": "python3"
  },
  "language_info": {
   "codemirror_mode": {
    "name": "ipython",
    "version": 3
   },
   "file_extension": ".py",
   "mimetype": "text/x-python",
   "name": "python",
   "nbconvert_exporter": "python",
   "pygments_lexer": "ipython3",
   "version": "3.11.4"
  }
 },
 "nbformat": 4,
 "nbformat_minor": 2
}
