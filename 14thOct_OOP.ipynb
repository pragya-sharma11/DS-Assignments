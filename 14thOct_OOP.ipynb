{
 "cells": [
  {
   "cell_type": "markdown",
   "metadata": {},
   "source": [
    "# ***`Constructor :`***"
   ]
  },
  {
   "cell_type": "markdown",
   "metadata": {},
   "source": [
    "##### 1. What is a constructor in Python? Explain its purpose and usage."
   ]
  },
  {
   "cell_type": "markdown",
   "metadata": {},
   "source": [
    "##### **Ans :** Constructor is a special method for creating and intantiating the object for that class. Constructor is used to assign values to member variables for that object. The purpose of constructor is to construct the object and assign value to object members."
   ]
  },
  {
   "cell_type": "markdown",
   "metadata": {},
   "source": [
    "##### 2. Differentiate between a parameterless constructor and a parameterized constructor in Python.\n"
   ]
  },
  {
   "cell_type": "markdown",
   "metadata": {},
   "source": [
    "##### **Ans :** Parameterized constructor is the constructor that takes one or more arguments. It is used to create objects with some values to its members. On the other hand, Parameterless constructor is the constructor that does not takes any arguments."
   ]
  },
  {
   "cell_type": "markdown",
   "metadata": {},
   "source": [
    "##### 3. How do you define a constructor in a Python class? Provide an example."
   ]
  },
  {
   "cell_type": "markdown",
   "metadata": {},
   "source": [
    "##### **Ans :** Constructor is a special method in class which is used to create object of that class and assign values to the instance members. It can be define by using `__init__` dunder method. This method take one fixed argument which works as the reference to the object of the class"
   ]
  },
  {
   "cell_type": "code",
   "execution_count": 1,
   "metadata": {},
   "outputs": [
    {
     "name": "stdout",
     "output_type": "stream",
     "text": [
      "45\n"
     ]
    }
   ],
   "source": [
    "# create a class\n",
    "class Test:\n",
    "    # create a constructor\n",
    "    def __init__(self, value):\n",
    "        # assign value to instance variable\n",
    "        self.value = value\n",
    "    # create the function to print the value\n",
    "    def print_value(self):\n",
    "        # print the value of instance variable\n",
    "        print(self.value)\n",
    "# instantiate the object of class Test\n",
    "test_obj = Test(45)\n",
    "# call the intance method\n",
    "test_obj.print_value()\n"
   ]
  },
  {
   "cell_type": "markdown",
   "metadata": {},
   "source": [
    "##### 4. Explain the `__init__` method in Python and its role in constructors."
   ]
  },
  {
   "cell_type": "markdown",
   "metadata": {},
   "source": [
    "##### **Ans :** `__init__` is a magic/dunder method.This method is used to create the constructor of a class. This method take one fixed argument which works as the reference to the object of the class. "
   ]
  },
  {
   "cell_type": "markdown",
   "metadata": {},
   "source": [
    "##### 5. In a class named `Person`, create a constructor that initializes the `name` and `age` attributes. Provide an example of creating an object of this class.\n"
   ]
  },
  {
   "cell_type": "code",
   "execution_count": 3,
   "metadata": {},
   "outputs": [
    {
     "name": "stdout",
     "output_type": "stream",
     "text": [
      "age of the person is 23\n",
      "name of the person is Aman\n"
     ]
    }
   ],
   "source": [
    "# create a class named as Person\n",
    "class Person:\n",
    "    # create a constructor that takes 3 arguments as self, name, age\n",
    "    def __init__(self, name, age) -> None:\n",
    "        # assign values to instance variables\n",
    "        self.name = name \n",
    "        self.age = age \n",
    "    # create a method to print the name\n",
    "    def print_name(self):\n",
    "        print(\"name of the person is\",self.name)\n",
    "    # create a method to print thr age\n",
    "    def print_age(self):\n",
    "        print(\"age of the person is\",self.age) \n",
    "# instantiate the object of Person class  \n",
    "obj_person = Person('Aman',23)\n",
    "# call the member methods of the class object\n",
    "obj_person.print_age()\n",
    "obj_person.print_name()  "
   ]
  },
  {
   "cell_type": "markdown",
   "metadata": {},
   "source": [
    "##### 6. How can you call a constructor explicitly in Python? Give an example."
   ]
  },
  {
   "cell_type": "markdown",
   "metadata": {},
   "source": [
    "##### **Ans :**  In python, every class has a  constructor, which can be called using classname followed by open and closed paranthesis. This constructor takes one reference argument by defaultand you can give more argument as required."
   ]
  },
  {
   "cell_type": "code",
   "execution_count": 2,
   "metadata": {},
   "outputs": [
    {
     "name": "stdout",
     "output_type": "stream",
     "text": [
      "sum is 57\n"
     ]
    }
   ],
   "source": [
    "# create a class named as Test \n",
    "class Test:\n",
    "    def __init__(self):\n",
    "        pass\n",
    "    # create a method to get sum of two numbers.\n",
    "    def get_sum(self , a, b):\n",
    "        print(\"sum is\", a+b)\n",
    "# instantiate the object\n",
    "obj_t = Test()\n",
    "# call the get_sum() method.\n",
    "obj_t.get_sum(23,34)"
   ]
  },
  {
   "cell_type": "markdown",
   "metadata": {},
   "source": [
    "##### 7. What is the significance of the `self` parameter in Python constructors? Explain with an example.\n"
   ]
  },
  {
   "cell_type": "markdown",
   "metadata": {},
   "source": [
    "##### **Ans :** In python, constructor has a fixed argument which is compulsory to be passed when we instantiate the object of a class. This fixed argument signifies the reference of the particular object which is to be instantiated. We named this fixed argument as 'self'. But we can give it any name anyways.\n",
    " "
   ]
  },
  {
   "cell_type": "code",
   "execution_count": 5,
   "metadata": {},
   "outputs": [
    {
     "name": "stdout",
     "output_type": "stream",
     "text": [
      "age of the person is 23\n",
      "name of the person is Aman\n"
     ]
    }
   ],
   "source": [
    "# create a class named as Person\n",
    "class Person:\n",
    "    # create a constructor that takes 3 arguments as self, name, age\n",
    "    # here self contains the reference of the object that is to be created.\n",
    "    def __init__(self, name, age) -> None:\n",
    "        # assign values to instance variables\n",
    "        self.name = name \n",
    "        self.age = age \n",
    "    # create a method to print the name\n",
    "    def print_name(self):\n",
    "        print(\"name of the person is\",self.name)\n",
    "    # create a method to print thr age\n",
    "    def print_age(self):\n",
    "        print(\"age of the person is\",self.age) \n",
    "# instantiate the object of Person class  \n",
    "obj_person = Person('Aman',23)\n",
    "# call the member methods of the class object\n",
    "obj_person.print_age()\n",
    "obj_person.print_name()  "
   ]
  },
  {
   "cell_type": "markdown",
   "metadata": {},
   "source": [
    "##### 8. Discuss the concept of default constructors in Python. When are they used?"
   ]
  },
  {
   "cell_type": "markdown",
   "metadata": {},
   "source": [
    "##### **Ans :**  In python, every class has a defualt in-built constructor, which can be called using classname followed by open and closed paranthesis. This constructor takes one reference argument by default. We name this variable as self. But you can give it any name."
   ]
  },
  {
   "cell_type": "code",
   "execution_count": 6,
   "metadata": {},
   "outputs": [
    {
     "name": "stdout",
     "output_type": "stream",
     "text": [
      "sum is 57\n"
     ]
    }
   ],
   "source": [
    "# create a class named as Test \n",
    "class Test:\n",
    "    # create a method to get sum of two numbers.\n",
    "    def get_sum(self , a, b):\n",
    "        print(\"sum is\", a+b)\n",
    "# instantiate the object, as you can see we haven't created any constructor but still we can create the object.\n",
    "obj_t = Test()\n",
    "# call the get_sum() method.\n",
    "obj_t.get_sum(23,34)"
   ]
  },
  {
   "cell_type": "markdown",
   "metadata": {},
   "source": [
    "##### 9. Create a Python class called `Rectangle` with a constructor that initializes the `width` and `height` attributes. Provide a method to calculate the area of the rectangle.\n"
   ]
  },
  {
   "cell_type": "code",
   "execution_count": 4,
   "metadata": {},
   "outputs": [
    {
     "name": "stdout",
     "output_type": "stream",
     "text": [
      "area of ractangle : 96\n"
     ]
    }
   ],
   "source": [
    "# create a class for rectangle\n",
    "class Rectangle:\n",
    "    # initialize the constructor with arguments as - self for object reference, h for height, w for width\n",
    "    def __init__(self, h, w):\n",
    "        # assign value to instance attributes.\n",
    "        self.height = h\n",
    "        self.width  = w\n",
    "    # create an instance method to calculate area and print it\n",
    "    def get_area(self):\n",
    "        # print the area\n",
    "        print(\"area of ractangle :\", self.height*self.width)\n",
    "# instantiate the object\n",
    "obj_rect = Rectangle(12,8)\n",
    "# call the instance method get_area() to get the area of rectangle\n",
    "obj_rect.get_area()"
   ]
  },
  {
   "cell_type": "markdown",
   "metadata": {},
   "source": [
    "##### 10. How can you have multiple constructors in a Python class? Explain with an example.\n"
   ]
  },
  {
   "cell_type": "markdown",
   "metadata": {},
   "source": [
    "##### **Ans :** In python, we can get the feel of multiple constructors using class method."
   ]
  },
  {
   "cell_type": "code",
   "execution_count": 7,
   "metadata": {},
   "outputs": [
    {
     "name": "stdout",
     "output_type": "stream",
     "text": [
      "a = 12 , b = 23\n",
      "a = 12 , b = 23\n"
     ]
    }
   ],
   "source": [
    "# create a class\n",
    "class Test :\n",
    "    # create a constructor\n",
    "    def __init__(self,a,b) -> None:\n",
    "        self.a = a\n",
    "        self.b = b \n",
    "    \n",
    "    # create a class method using @classmethod decorator\n",
    "    @classmethod\n",
    "    def c_details(cls, a, b):\n",
    "        # call the constructor this way.\n",
    "        return cls(a, b) \n",
    "    \n",
    "    # create the method to show details \n",
    "    def get_details(self):\n",
    "        print(f'a = {self.a} , b = {self.b}')\n",
    "# instantiated the object \n",
    "obj = Test(12,23)\n",
    "# call instance method\n",
    "obj.get_details()\n",
    "#call the class method\n",
    "Test.c_details(56, 78)\n",
    "# call instance method\n",
    "obj.get_details()"
   ]
  },
  {
   "cell_type": "markdown",
   "metadata": {},
   "source": [
    "##### 11. What is method overloading, and how is it related to constructors in Python?\n"
   ]
  },
  {
   "cell_type": "markdown",
   "metadata": {},
   "source": [
    "##### **Ans :** Method overloading is a way to create the methods with same name but with different signatures. It means functions with same name but with different number of parameters. We can overload constructor using class method. "
   ]
  },
  {
   "cell_type": "markdown",
   "metadata": {},
   "source": [
    "##### 12. Explain the use of the `super()` function in Python constructors. Provide an example.\n"
   ]
  },
  {
   "cell_type": "markdown",
   "metadata": {},
   "source": [
    "##### **Ans :** Super() method is the method which is used to access the members of parent class in sub-class."
   ]
  },
  {
   "cell_type": "code",
   "execution_count": 1,
   "metadata": {},
   "outputs": [
    {
     "name": "stdout",
     "output_type": "stream",
     "text": [
      "Parent Class data a =1, b=2\n",
      "Sub Class data c =3\n"
     ]
    }
   ],
   "source": [
    "# create a class \n",
    "class parent_class:\n",
    "    # create a constructor for parent class\n",
    "    def __init__(self, a,b) -> None:\n",
    "        # assign values to instance variables \n",
    "        self.a = a \n",
    "        self.b = b \n",
    "    # create a method to show the values of instance variables\n",
    "    def show_details(self):\n",
    "        print(f\"Parent Class data a ={self.a}, b={self.b}\")\n",
    "# create a child class \n",
    "class sub_class(parent_class):\n",
    "    # create a constructor for parent class\n",
    "    def __init__(self, a,b,c) -> None:\n",
    "        # call constructor of super class using super() method and pass values to this constructor\n",
    "        super().__init__(a,b)\n",
    "        # assign values to instance variable\n",
    "        self.c = c \n",
    "    # create a method to show the values of instance variables\n",
    "    def show_details(self):\n",
    "        # call the show_details() method of parent class here using super() method\n",
    "        super().show_details()\n",
    "        print(f'Sub Class data c ={self.c}')\n",
    "# create the object of sub class\n",
    "obj_sub_class = sub_class(1,2,3)\n",
    "# call the instance method show_details() via the object\n",
    "obj_sub_class.show_details()"
   ]
  },
  {
   "cell_type": "markdown",
   "metadata": {},
   "source": [
    "##### 13. Create a class called `Book` with a constructor that initializes the `title`, `author`, and `published_year` attributes. Provide a method to display book details.\n"
   ]
  },
  {
   "cell_type": "code",
   "execution_count": 3,
   "metadata": {},
   "outputs": [
    {
     "name": "stdout",
     "output_type": "stream",
     "text": [
      "The Book named Let us Python is written by Yeshwant Kanetkar in year 2012\n"
     ]
    }
   ],
   "source": [
    "# create a class named Book\n",
    "class Book:\n",
    "    # create a constructor with arguments as self, title, author, published_year\n",
    "    def __init__(self, title, author, published_year) -> None:\n",
    "        # assign values to member variables\n",
    "        self.title = title\n",
    "        self.author = author\n",
    "        self.published_year = published_year\n",
    "    # create a method to display details of book\n",
    "    def display_details(self):\n",
    "        # print the details of book\n",
    "        print(f'The Book named {self.title} is written by {self.author} in year {self.published_year}')\n",
    "# create the object of book by calling the constructor via class name and passing the values to the arguments\n",
    "book_obj = Book('Let us Python', 'Yeshwant Kanetkar', 2012)\n",
    "# call the display_details() method via object\n",
    "book_obj.display_details()"
   ]
  },
  {
   "cell_type": "markdown",
   "metadata": {},
   "source": [
    "##### 14. Discuss the differences between constructors and regular methods in Python classes.\n"
   ]
  },
  {
   "cell_type": "markdown",
   "metadata": {},
   "source": [
    "##### **Ans :**\n",
    "* Constructor is a block of code that helps in creating the object of a class. While, method is a block of code which performs some tasks based upon its execution.\n",
    "* Constructor is used to assign values to member variables or instance variables and attributes. While method is design to perform specific computations.\n",
    "* Constructor do not have any return type, It does not return any value. While Method may or may not return any values."
   ]
  },
  {
   "cell_type": "markdown",
   "metadata": {},
   "source": [
    "##### 15. Explain the role of the `self` parameter in instance variable initialization within a constructor.\n"
   ]
  },
  {
   "cell_type": "markdown",
   "metadata": {},
   "source": [
    "##### **Ans :** Instance variables are the variables which are related to object. The instance variables are initialized in the constructor with the help of self parameter. Self parameter denotes the object reference. So whenever we try to access any instance variable, we need to use self as shown - `self.instance_variable_name`"
   ]
  },
  {
   "cell_type": "markdown",
   "metadata": {},
   "source": [
    "##### 16. How do you prevent a class from having multiple instances by using constructors in Python? Provide an example.\n"
   ]
  },
  {
   "cell_type": "markdown",
   "metadata": {},
   "source": []
  },
  {
   "cell_type": "markdown",
   "metadata": {},
   "source": []
  },
  {
   "cell_type": "markdown",
   "metadata": {},
   "source": [
    "##### 17. Create a Python class called `Student` with a constructor that takes a list of subjects as a parameter and initializes the `subjects` attribute."
   ]
  },
  {
   "cell_type": "code",
   "execution_count": 6,
   "metadata": {},
   "outputs": [
    {
     "name": "stdout",
     "output_type": "stream",
     "text": [
      "The student Kevin Adferd has subjects - \n",
      "['statistics', 'python basics', 'maths', 'calculus', 'npl', 'machine learning', 'imageprocessing']\n"
     ]
    }
   ],
   "source": [
    "# create a class named Student\n",
    "class Student:\n",
    "    # create a constructor with parameters as self, student_name, subject\n",
    "    def __init__(self, student_name, subjects) -> None:\n",
    "        # assign values to instance variables\n",
    "        self.name = student_name\n",
    "        self.subjects_list = subjects \n",
    "    # create a method to show details \n",
    "    def show_details(self):\n",
    "        print(f\"The student {self.name} has subjects - \\n{self.subjects_list}\")\n",
    "# create a list of subjects\n",
    "sub_list = ['statistics', 'python basics', 'maths', 'calculus', 'npl','machine learning', 'imageprocessing']\n",
    "# create an object of Student class via calling the constructor and pass student name and subject list in it\n",
    "obj_student = Student('Kevin Adferd', sub_list)\n",
    "# call the instance method show_details() via object \n",
    "obj_student.show_details()"
   ]
  },
  {
   "cell_type": "markdown",
   "metadata": {},
   "source": [
    "##### 18. What is the purpose of the `__del__` method in Python classes, and how does it relate to constructors?\n"
   ]
  },
  {
   "cell_type": "markdown",
   "metadata": {},
   "source": [
    "##### **Answer :** In Python, the **__ del __()** method is a destructor method. It is called after an object's garbage collection occurs, which happens after all references to the item have been destroyed. When we want to perform some task with a class, we create an object of that class using constructor. When we do all the required operation, object of the class is destroyed with the help of __ del__ () and collected by garbage collector after the purpose of object has been fullfilled."
   ]
  },
  {
   "cell_type": "markdown",
   "metadata": {},
   "source": [
    "##### 19. Explain the use of constructor chaining in Python. Provide a practical example."
   ]
  },
  {
   "cell_type": "markdown",
   "metadata": {},
   "source": [
    "##### **Ans :** Constructor chaining is the process of calling one constructor from another constructor. Constructor chaining is useful when you want to invoke multiple constructors, one after another, by initializing only one instance."
   ]
  },
  {
   "cell_type": "code",
   "execution_count": 2,
   "metadata": {},
   "outputs": [
    {
     "name": "stdout",
     "output_type": "stream",
     "text": [
      "Inside food class constructor\n",
      "Inside Fruit class constructor\n",
      "Inside Mango class constructor\n"
     ]
    }
   ],
   "source": [
    "# create a class food\n",
    "class Food:\n",
    "    # create constructor with some arguments\n",
    "    def __init__(self, solid_or_liquid, is_sweet):\n",
    "        self.solid_or_liquid = solid_or_liquid \n",
    "        self.is_sweet = is_sweet\n",
    "        print(\"Inside food class constructor\")\n",
    "# create a class fruit\n",
    "class Fruit(Food):\n",
    "    # create constructor with some arguments\n",
    "    def __init__(self, solid_or_liquid, is_sweet, has_seed):\n",
    "        # do chaining using super() method and pass argument values\n",
    "        super().__init__(solid_or_liquid=solid_or_liquid, is_sweet=is_sweet)\n",
    "        self.has_seed = has_seed\n",
    "        print(\"Inside Fruit class constructor\")\n",
    "# create a class Mango\n",
    "class Mango(Fruit):\n",
    "    # create constructor with some arguments\n",
    "    def __init__(self, solid_or_liquid, is_sweet, has_seed, color):\n",
    "        # do chaining using super() method and pass argument values\n",
    "        super().__init__(solid_or_liquid=solid_or_liquid, is_sweet=is_sweet, has_seed=has_seed)\n",
    "        self.color = color\n",
    "        print(\"Inside Mango class constructor\")\n",
    "# create object of mango class and pass argument values\n",
    "obj = Mango(\"Solid\", \"yes\", \"yes\", \"Yellow\")\n",
    "\n",
    "\n"
   ]
  },
  {
   "cell_type": "markdown",
   "metadata": {},
   "source": [
    "##### 20. Create a Python class called `Car` with a default constructor that initializes the `make` and `model` attributes. Provide a method to display car information."
   ]
  },
  {
   "cell_type": "code",
   "execution_count": 7,
   "metadata": {},
   "outputs": [
    {
     "name": "stdout",
     "output_type": "stream",
     "text": [
      "This car SUV has been made by Tata\n"
     ]
    }
   ],
   "source": [
    "# create a class named as car\n",
    "class Car:\n",
    "    # create a constructor of car class with arguments as self, make , model\n",
    "    def __init__(self, make, model) -> None:\n",
    "        # assign values to instance variables\n",
    "        self.make = make \n",
    "        self.model = model\n",
    "    # create a method to show details\n",
    "    def display_car_info(self):\n",
    "        print(f\"This car {self.model} has been made by {self.make}\")\n",
    "# create object of car class by calling the constructor and passing the values of make and model\n",
    "obj_car = Car('Tata', 'SUV')\n",
    "# display the car details by calling instance method display_car_info()\n",
    "obj_car.display_car_info()"
   ]
  },
  {
   "cell_type": "markdown",
   "metadata": {},
   "source": [
    "# ***`Inheritance ➖ :`***"
   ]
  },
  {
   "cell_type": "markdown",
   "metadata": {},
   "source": [
    "##### 1. What is inheritance in Python? Explain its significance in object-oriented programming.\n"
   ]
  },
  {
   "cell_type": "markdown",
   "metadata": {},
   "source": [
    "##### **Ans :** Inheritance is a concept of inheriting the properties, methods, attributes of parent class into sub class. In object oriented programming, there is a concept of polymorphism. Inheritance allows child classes to override or extend the functionality of parent class methods hence enables polymorphism. Visibility of member variables and methods in inheritance also leads to encapsulation."
   ]
  },
  {
   "cell_type": "markdown",
   "metadata": {},
   "source": [
    "##### 2. Differentiate between single inheritance and multiple inheritance in Python. Provide examples for each.\n"
   ]
  },
  {
   "cell_type": "markdown",
   "metadata": {},
   "source": [
    "##### **Ans :** Single Inheritance is a concept where a subclass can inherit the properties of single parent class only. While Multiple class inheritance is a concept where a subclass can inherit the properties of more than one parent class. If 2 parent class has a method/attribute with same name then attribute of first inherited parent class will be prioritise."
   ]
  },
  {
   "cell_type": "markdown",
   "metadata": {},
   "source": [
    "* Example of Single Inheritance"
   ]
  },
  {
   "cell_type": "code",
   "execution_count": 3,
   "metadata": {},
   "outputs": [
    {
     "name": "stdout",
     "output_type": "stream",
     "text": [
      "Inside Vehicle Constructor\n",
      "Inside Car Constructor\n"
     ]
    },
    {
     "data": {
      "text/plain": [
       "'Engine is 2000ccand speed is 240'"
      ]
     },
     "execution_count": 3,
     "metadata": {},
     "output_type": "execute_result"
    }
   ],
   "source": [
    "# create a parent class\n",
    "class Vehicle:\n",
    "    # Constructor of Vehicle\n",
    "    def __init__(self, engine):\n",
    "        print('Inside Vehicle Constructor')\n",
    "        self.engine = engine\n",
    "    # create a method to show engine details\n",
    "    def get_engine_data(self):\n",
    "        return f\"Engine is {self.engine}\"\n",
    "# create a class car which ihnerits Vehicle class properties\n",
    "class Car(Vehicle):\n",
    "    # Constructor of Car\n",
    "    def __init__(self, engine, max_speed):\n",
    "        super().__init__(engine)\n",
    "        print('Inside Car Constructor')\n",
    "        self.max_speed = max_speed\n",
    "    # create a method to show car details\n",
    "    def get_data(self):\n",
    "        return super().get_engine_data() + f\"and speed is {self.max_speed}\"\n",
    "# create object of class Car\n",
    "obj = Car('2000cc',240)\n",
    "obj.get_data()"
   ]
  },
  {
   "cell_type": "code",
   "execution_count": 18,
   "metadata": {},
   "outputs": [
    {
     "name": "stdout",
     "output_type": "stream",
     "text": [
      "Inside Car Constructor\n",
      "Inside Electric Car Constructor\n",
      "Engine=1500cc, Max Speed=240, Km range=750, color=red\n"
     ]
    }
   ],
   "source": [
    "class Vehicle:\n",
    "    # Constructor of Vehicle\n",
    "    def __init__(self):\n",
    "        print('Inside Vehicle Constructor')\n",
    "        self.color = \"\"\n",
    "    \n",
    "    def set_color(self,color):\n",
    "        self.color = color\n",
    "    \n",
    "\n",
    "class Car:\n",
    "    # Constructor of Car\n",
    "    def __init__(self, engine, max_speed):\n",
    "        self.engine = engine\n",
    "        print('Inside Car Constructor')\n",
    "        self.max_speed = max_speed\n",
    "\n",
    "class Electric_Car(Car, Vehicle):\n",
    "    # Constructor of Electric Car\n",
    "    def __init__(self, engine, max_speed, km_range):\n",
    "        super().__init__(engine, max_speed)\n",
    "        print('Inside Electric Car Constructor')\n",
    "        self.km_range = km_range\n",
    "    \n",
    "\n",
    "# Object of electric car\n",
    "ev = Electric_Car('1500cc', 240, 750)\n",
    "ev.set_color(\"red\")\n",
    "print(f'Engine={ev.engine}, Max Speed={ev.max_speed}, Km range={ev.km_range}, color={ev.color}')\n",
    "#  Run"
   ]
  },
  {
   "cell_type": "markdown",
   "metadata": {},
   "source": [
    "##### 3. Create a Python class called `Vehicle` with attributes `color` and `speed`. Then, create a child class called `Car` that inherits from `Vehicle` and adds a `brand` attribute. Provide an example of creating a `Car` object."
   ]
  },
  {
   "cell_type": "code",
   "execution_count": 20,
   "metadata": {},
   "outputs": [
    {
     "name": "stdout",
     "output_type": "stream",
     "text": [
      "Car -> color = Black, speed = 300, brand = Ford\n"
     ]
    }
   ],
   "source": [
    "# create a Vehicle class\n",
    "class Vehicle:\n",
    "    # create a constructor\n",
    "    def __init__(self, color, speed) -> None:\n",
    "        # assign values to instance variables\n",
    "        self.color = color\n",
    "        self.speed = speed \n",
    "# create a class Car\n",
    "class Car(Vehicle):\n",
    "    # create a constructor \n",
    "    def __init__(self, color, speed, brand) -> None:\n",
    "        # call constructor for Vehicle class and pass the argument values\n",
    "        super().__init__(color, speed)\n",
    "        # assign value to instance variable\n",
    "        self.brand = brand\n",
    "    # create a method to show the details of car\n",
    "    def show_details(self):\n",
    "        # print the details\n",
    "        print(f\"Car -> color = {self.color}, speed = {self.speed}, brand = {self.brand}\")\n",
    "# create the object of class Car\n",
    "obj_car = Car('Black', 300, 'Ford')\n",
    "# call the show_details() method via object of class Car\n",
    "obj_car.show_details()"
   ]
  },
  {
   "cell_type": "markdown",
   "metadata": {},
   "source": [
    "##### 4. Explain the concept of method overriding in inheritance. Provide a practical example."
   ]
  },
  {
   "cell_type": "markdown",
   "metadata": {},
   "source": [
    "##### **Ans :** Method overriding is concept of object-oriented programming in which a subclass or child class to provide a specific implementation of a method that is already provided by one of its parent classes. When a method in a subclass has the same name, same parameters or signature as a method in its super-class, then the method in the subclass is said to override the method in the super-class."
   ]
  },
  {
   "cell_type": "code",
   "execution_count": 23,
   "metadata": {},
   "outputs": [
    {
     "name": "stdout",
     "output_type": "stream",
     "text": [
      "Engine is 2000ccand speed is 240\n",
      "It is Car class\n"
     ]
    }
   ],
   "source": [
    "# create a parent class\n",
    "class Vehicle:\n",
    "    # Constructor of Vehicle\n",
    "    def __init__(self, engine):\n",
    "        self.engine = engine\n",
    "    # create a method to show engine details\n",
    "    def get_engine_data(self):\n",
    "        return f\"Engine is {self.engine}\"\n",
    "    # define a method to tell about class name\n",
    "    def class_desc(self):\n",
    "        print(\"It is Vehicle class\")\n",
    "# create a class car which ihnerits Vehicle class properties\n",
    "class Car(Vehicle):\n",
    "    # Constructor of Car\n",
    "    def __init__(self, engine, max_speed):\n",
    "        super().__init__(engine)\n",
    "        self.max_speed = max_speed\n",
    "    # create a method to show car details\n",
    "    def get_data(self):\n",
    "        return super().get_engine_data() + f\"and speed is {self.max_speed}\"\n",
    "    # method overriding - define a function with same name and signature as in super class, but the implemention is different\n",
    "    def class_desc(self):\n",
    "        print('It is Car class')\n",
    "# create object of class Car\n",
    "obj = Car('2000cc',240)\n",
    "print(obj.get_data())\n",
    "obj.class_desc()"
   ]
  },
  {
   "cell_type": "markdown",
   "metadata": {},
   "source": [
    "##### 5. How can you access the methods and attributes of a parent class from a child class in Python? Give an example."
   ]
  },
  {
   "cell_type": "markdown",
   "metadata": {},
   "source": [
    "##### **Ans :** Member methods/attributes of a parent class can be easily accessible in child class via object of child class outside child class. If we want to access member methods/attributes of a parent class inside child class, wecan access it using super()."
   ]
  },
  {
   "cell_type": "code",
   "execution_count": 34,
   "metadata": {},
   "outputs": [
    {
     "name": "stdout",
     "output_type": "stream",
     "text": [
      "a = 1, b = 2, c = 3\n",
      "a = 1, b = 2\n",
      "a = 1\n"
     ]
    }
   ],
   "source": [
    "# create a class A\n",
    "class A:\n",
    "    # create a constructor\n",
    "    def __init__(self, a,b) -> None:\n",
    "        # assign values to instance variables\n",
    "        self.a = a \n",
    "        self.b = b \n",
    "    # create a method to show a and b\n",
    "    def show_A(self):\n",
    "        return (f'a = {self.a}, b = {self.b}')\n",
    "# create a class B and inherit A\n",
    "class B(A):\n",
    "    # create a constructor\n",
    "    def __init__(self, a, b, c) -> None:\n",
    "        # pass values to members of parent class using super()\n",
    "        super().__init__(a, b) \n",
    "        # assign values to instance variables\n",
    "        self.c = c \n",
    "    # create a method to show a, b, c\n",
    "    def show_B(self):\n",
    "        print(super().show_A() + f\", c = {self.c}\")\n",
    "# create an object of class B\n",
    "obj = B(1,2,3)\n",
    "# call method of sub class\n",
    "obj.show_B()\n",
    "# call method of parent class via sub class object\n",
    "print(obj.show_A())\n",
    "# get variable of parent class via sub class object\n",
    "print(\"a =\", obj.a)\n",
    "\n",
    "    "
   ]
  },
  {
   "cell_type": "markdown",
   "metadata": {},
   "source": [
    "##### 6. Discuss the use of the `super()` function in Python inheritance. When and why is it used? Provide an example."
   ]
  },
  {
   "cell_type": "markdown",
   "metadata": {},
   "source": [
    "##### **Ans :** super() method in python inheritance is used to access the member methods of parent class inside sub-class. The super() function returns an object that represents the parent class.When this method is called it allows the class to initialize the attributes of the class. In an inherited subclass, a parent class can be referred to with the use of the super() function."
   ]
  },
  {
   "cell_type": "code",
   "execution_count": 35,
   "metadata": {},
   "outputs": [
    {
     "name": "stdout",
     "output_type": "stream",
     "text": [
      "a = 1, b = 2, c = 3\n"
     ]
    }
   ],
   "source": [
    "# create a class A\n",
    "class A:\n",
    "    # create a constructor\n",
    "    def __init__(self, a,b) -> None:\n",
    "        # assign values to instance variables\n",
    "        self.a = a \n",
    "        self.b = b \n",
    "    # create a method to show a and b\n",
    "    def show_A(self):\n",
    "        return (f'a = {self.a}, b = {self.b}')\n",
    "# create a class B and inherit A\n",
    "class B(A):\n",
    "    # create a constructor\n",
    "    def __init__(self, a, b, c) -> None:\n",
    "        # pass values to members of parent class using super()\n",
    "        super().__init__(a, b) \n",
    "        # assign values to instance variables\n",
    "        self.c = c \n",
    "    # create a method to show a, b, c\n",
    "    def show_B(self):\n",
    "        print(super().show_A() + f\", c = {self.c}\")\n",
    "# create an object of class B\n",
    "obj = B(1,2,3)\n",
    "# call method of sub class\n",
    "obj.show_B()\n",
    "\n",
    "\n",
    "    "
   ]
  },
  {
   "cell_type": "markdown",
   "metadata": {},
   "source": [
    "##### 7. Create a Python class called `Animal` with a method `speak()`. Then, create child classes `Dog` and `Cat` that inherit from `Animal` and override the `speak()` method. Provide an example of using these classes."
   ]
  },
  {
   "cell_type": "code",
   "execution_count": 38,
   "metadata": {},
   "outputs": [
    {
     "name": "stdout",
     "output_type": "stream",
     "text": [
      "Cat : Meow Meow\n",
      "Dog : Bark Bark\n"
     ]
    }
   ],
   "source": [
    "# create a class Animal\n",
    "class Animal :\n",
    "    # create a constructor\n",
    "    def __init__(self, name) -> None:\n",
    "        # assign value to instance variable\n",
    "        self.name = name \n",
    "    # define method speak\n",
    "    def speak(self):\n",
    "        # print message\n",
    "        print(\"Animal is speaking\")\n",
    "# create a class Dog\n",
    "class Dog(Animal):\n",
    "    # create a constructor\n",
    "    def __init__(self, name) -> None:\n",
    "        # assign value to instance variable\n",
    "        self.name = name \n",
    "    # define method speak\n",
    "    def speak(self):\n",
    "        # print message\n",
    "        print(\"Dog : Bark Bark\")\n",
    "# create a class Cat\n",
    "class Cat(Animal):\n",
    "    # create a constructor\n",
    "    def __init__(self, name) -> None:\n",
    "        # assign value to instance variable\n",
    "        self.name = name \n",
    "    # define method speak\n",
    "    def speak(self):\n",
    "        # print message\n",
    "        print(\"Cat : Meow Meow\")\n",
    "# create an object for Cat class\n",
    "cat_obj = Cat('Kitty')\n",
    "# call speak() method of cat class\n",
    "cat_obj.speak()\n",
    "# create an object for Dog class\n",
    "dog_obj = Dog('Zen')\n",
    "# call speak() method of Dog class\n",
    "dog_obj.speak()"
   ]
  },
  {
   "cell_type": "markdown",
   "metadata": {},
   "source": [
    "##### 8. Explain the role of the `isinstance()` function in Python and how it relates to inheritance.\n"
   ]
  },
  {
   "cell_type": "markdown",
   "metadata": {},
   "source": [
    "##### **Ans :** The Python's isinstance() function checks whether the object or variable is an instance of the specified class type or data type.It returns True if the specified object is of the specified type, otherwise False. In inheritance, isinstance() returns True when an object/variable is an instance of the specified type or class or parent class of an object"
   ]
  },
  {
   "cell_type": "markdown",
   "metadata": {},
   "source": [
    "##### 9. What is the purpose of the `issubclass()` function in Python? Provide an example."
   ]
  },
  {
   "cell_type": "markdown",
   "metadata": {},
   "source": [
    "##### **Ans :** issubclass() is in-built function which is used to check whether a class is a subclass of another class or not. This function returns True if the given class is the subclass of another class else it returns False."
   ]
  },
  {
   "cell_type": "code",
   "execution_count": 40,
   "metadata": {},
   "outputs": [
    {
     "data": {
      "text/plain": [
       "True"
      ]
     },
     "execution_count": 40,
     "metadata": {},
     "output_type": "execute_result"
    }
   ],
   "source": [
    "# create a class A\n",
    "class A:\n",
    "    # create a constructor for this class\n",
    "    def __init__(self) -> None:\n",
    "        pass \n",
    "# create a class B\n",
    "class B(A):\n",
    "    # create a constructor for this class\n",
    "    def __init__(self) -> None:\n",
    "        pass \n",
    "# check if B is subclass of A using issubclass() method.\n",
    "issubclass(B, A)"
   ]
  },
  {
   "cell_type": "markdown",
   "metadata": {},
   "source": [
    "##### 10. Discuss the concept of constructor inheritance in Python. How are constructors inherited in child classes?"
   ]
  },
  {
   "cell_type": "markdown",
   "metadata": {},
   "source": [
    "##### **Ans :** The constructor in inheritance in python is a concept via which object is instantiated. It is a special method that is called  when an object is created. The purpose of a python constructor is to assign values to the data members within the class when an object is initialized. Constructor of parent class is inherited in child class using super() method."
   ]
  },
  {
   "cell_type": "markdown",
   "metadata": {},
   "source": [
    "##### 11. Create a Python class called `Shape` with a method `area()` that calculates the area of a shape. Then, create child classes `Circle` and `Rectangle` that inherit from `Shape` and implement the `area()` method accordingly. Provide an example."
   ]
  },
  {
   "cell_type": "code",
   "execution_count": 42,
   "metadata": {},
   "outputs": [
    {
     "name": "stdout",
     "output_type": "stream",
     "text": [
      "Area of Rectangle = 340\n",
      "Area of Circle = 615.44\n"
     ]
    }
   ],
   "source": [
    "# create a class shape\n",
    "class Shape : \n",
    "    # create a constructor\n",
    "    def __init__(self, name) -> None:\n",
    "        self.name = name \n",
    "    # define a method to get the area\n",
    "    def area(self):\n",
    "        pass \n",
    "# create a class Circle which inherits class Shape\n",
    "class Circle(Shape):\n",
    "    # create a constructor\n",
    "    def __init__(self, name, radius) -> None:\n",
    "        # call constructor of super class and pass the argument\n",
    "        super().__init__(name)\n",
    "        # assign the value to member variable\n",
    "        self.r = radius\n",
    "    # define a method to get the area\n",
    "    def area(self):\n",
    "        # calculate area of circle\n",
    "        area_of_circle = 3.14*self.r*self.r\n",
    "        # return area of circle \n",
    "        return area_of_circle\n",
    "# create a class Circle which inherits class Shape\n",
    "class Rectangle(Shape):\n",
    "    # create a constructor\n",
    "    def __init__(self, name, length, width) -> None:\n",
    "        # call constructor of super class and pass the argument\n",
    "        super().__init__(name)\n",
    "        # assign the value to member variables\n",
    "        self.length = length \n",
    "        self.width = width\n",
    "    # define a method to get the area \n",
    "    def area(self):\n",
    "        # calculate area and return it\n",
    "        return self.length*self.width\n",
    "# instantiate the object of Rectangle with some arguments\n",
    "obj_rect = Rectangle('Rectangle', 10, 34)\n",
    "# print the area of rectangle using area() method\n",
    "print(f\"Area of Rectangle = {obj_rect.area()}\")\n",
    "# instantiate the object of Circle with some arguments\n",
    "obj_circle =Circle('Circle', 14)\n",
    "# print the area of Circle using area() method\n",
    "print(f\"Area of Circle = {obj_circle.area()}\")"
   ]
  },
  {
   "cell_type": "markdown",
   "metadata": {},
   "source": [
    "##### 12. Explain the use of abstract base classes (ABCs) in Python and how they relate to inheritance. Provide an example using the `abc` module."
   ]
  },
  {
   "cell_type": "markdown",
   "metadata": {},
   "source": [
    "##### **Ans :** The abstract base classes in python act as the skeleton for child classes. It just provide the empty methods which can be defined by the child classes seperately according to their needs and requirements. Abstract base classes exist to be inherited, but never instantiated. It means these classes can be worked as super class for other classes but object for the abstract class is not possible. Python provides the abc module to define abstract base classes."
   ]
  },
  {
   "cell_type": "code",
   "execution_count": 46,
   "metadata": {},
   "outputs": [
    {
     "name": "stdout",
     "output_type": "stream",
     "text": [
      "Car has properties -> color = red, num_of_tyres = 4, speed = 240\n",
      "Bicycle has properties -> color = black, num_of_tyres = 2, speed = 10\n"
     ]
    }
   ],
   "source": [
    "# from abc module, import ABC class and abstractmethod\n",
    "from abc import abstractmethod, ABC\n",
    "# create a class Vehicle and inherit ABC\n",
    "class Vehicle(ABC) :\n",
    "    # define a method as abstract method\n",
    "    @abstractmethod\n",
    "    def show_details():\n",
    "        pass \n",
    "# create a class Car and inherit Vehicle\n",
    "class Car(Vehicle):\n",
    "    # create a constructor\n",
    "    def __init__(self, num_of_tyres, color, speed) -> None:\n",
    "        # assign values of instance variables\n",
    "        self.num_of_tyres = num_of_tyres \n",
    "        self.color = color\n",
    "        self.speed = speed\n",
    "    # define the method show_details(), this method is abstract in Vehicle class(super class)\n",
    "    def show_details(self):\n",
    "        print(f\"Car has properties -> color = {self.color}, num_of_tyres = {self.num_of_tyres}, speed = {self.speed}\")\n",
    "# create a class Bicycle and inherit Vehicle\n",
    "class BiCycle(Vehicle):\n",
    "    # create a constructor\n",
    "    def __init__(self, num_of_tyres, color, speed) -> None:\n",
    "        # assign values of instance variables\n",
    "        self.num_of_tyres = num_of_tyres \n",
    "        self.color = color\n",
    "        self.speed = speed\n",
    "    # define the method show_details(), this method is abstract in Vehicle class(super class)\n",
    "    def show_details(self):\n",
    "        print(f\"Bicycle has properties -> color = {self.color}, num_of_tyres = {self.num_of_tyres}, speed = {self.speed}\")\n",
    "\n",
    "# create object for class Car\n",
    "car_obj = Car(4,'red', 240)\n",
    "# call the method show_details()\n",
    "car_obj.show_details()\n",
    "# create object for class Bicycle\n",
    "cycle_obj = BiCycle(2,'black', 10)\n",
    "# call the method show_details()\n",
    "cycle_obj.show_details()"
   ]
  },
  {
   "cell_type": "markdown",
   "metadata": {},
   "source": [
    "##### 13. How can you prevent a child class from modifying certain attributes or methods inherited from a parent class in Python?"
   ]
  },
  {
   "cell_type": "markdown",
   "metadata": {},
   "source": [
    "##### **Ans :** We can prevent a child class from modifying certain attributes or method inherited from a parent class in python using encapsulation. We can simply define these member variables/methods as private using `__` before thier names and use getter and setter methods to modify them. This way, we can maintain a kind of authenticity for our data."
   ]
  },
  {
   "cell_type": "markdown",
   "metadata": {},
   "source": [
    "##### 14. Create a Python class called `Employee` with attributes `name` and `salary`. Then, create a child class `Manager` that inherits from `Employee` and adds an attribute `department`. Provide an example."
   ]
  },
  {
   "cell_type": "code",
   "execution_count": 47,
   "metadata": {},
   "outputs": [
    {
     "name": "stdout",
     "output_type": "stream",
     "text": [
      "Employee -> name = Mr. Eneth Lark, salary = 1000000\n",
      "Department is Sales\n"
     ]
    }
   ],
   "source": [
    "# create a class employee\n",
    "class Employee:\n",
    "    # create a constructor \n",
    "    def __init__(self, name, salary) -> None:\n",
    "        # assign values to instance variable\n",
    "        self.name = name \n",
    "        self.salary = salary\n",
    "    # create a method to show details of employee\n",
    "    def show_details(self):\n",
    "        print(f\"Employee -> name = {self.name}, salary = {self.salary}\")\n",
    "# create a class Manager which inherit Employeee\n",
    "class Manager(Employee):\n",
    "    # create a constructor \n",
    "    def __init__(self, name, salary, department) -> None:\n",
    "        # assign values to instance variable\n",
    "        super().__init__(name, salary)\n",
    "        self.department = department\n",
    "    # create a method to show department of manager\n",
    "    def show_department(self):\n",
    "        print(f'Department is {self.department}')\n",
    "# instantiate the object for Manager class\n",
    "obj = Manager('Mr. Eneth Lark', 1000000, 'Sales')\n",
    "# call show_details()\n",
    "obj.show_details()\n",
    "# call show_department\n",
    "obj.show_department()\n"
   ]
  },
  {
   "cell_type": "markdown",
   "metadata": {},
   "source": [
    "##### 15. Discuss the concept of method overloading in Python inheritance. How does it differ from method overriding?"
   ]
  },
  {
   "cell_type": "markdown",
   "metadata": {},
   "source": [
    "##### **Ans :** Method overloading in inheritance is concept where methods have same name but definition, parameter types, number of parameters are different. While Method overriding is a concept of object-oriented programming in which a subclass or child class to provide a specific implementation of a method that is already provided by one of its parent classes. "
   ]
  },
  {
   "cell_type": "markdown",
   "metadata": {},
   "source": [
    "##### 16. Explain the purpose of the `__init__()` method in Python inheritance and how it is utilized in child classes."
   ]
  },
  {
   "cell_type": "markdown",
   "metadata": {},
   "source": [
    "##### **Ans :** ##### **Ans :** The purpose of __ init __() method is to create constructor of a class.The constructor in inheritance in python is a concept via which object is instantiated. It is a special method that is called  when an object is created. The purpose of a python constructor is to assign values to the data members within the class when an object is initialized. Constructor of parent class is inherited in child class using super() method."
   ]
  },
  {
   "cell_type": "markdown",
   "metadata": {},
   "source": [
    "##### 17. Create a Python class called `Bird` with a method `fly()`. Then, create child classes `Eagle` and `Sparrow` that inherit from `Bird` and implement the `fly()` method differently. Provide an example of using these classes."
   ]
  },
  {
   "cell_type": "code",
   "execution_count": 3,
   "metadata": {},
   "outputs": [
    {
     "name": "stdout",
     "output_type": "stream",
     "text": [
      "This is eagle class, it flies with a speed of 200>It is a big and dangerous bird\n",
      "This is Sparrow class, it flies with a speed of 100. It is a small bird\n"
     ]
    }
   ],
   "source": [
    "# create a class Bird \n",
    "class Bird:\n",
    "    # create a constructor\n",
    "    def __init__(self) -> None:\n",
    "        pass\n",
    "    # create a method fly()\n",
    "    def fly(self):\n",
    "        pass \n",
    "# create a class Eagle and inherit Bird class\n",
    "class Eagle(Bird):\n",
    "    # create a constructor\n",
    "    def __init__(self, speed) -> None:\n",
    "        # call constructor of super class\n",
    "        super().__init__()\n",
    "        # assign values to instance variable\n",
    "        self.speed = speed\n",
    "    # define fly() method : method overriding\n",
    "    def fly(self):\n",
    "        # print the message according\n",
    "        print(f'This is eagle class, it flies with a speed of {self.speed}>It is a big and dangerous bird')\n",
    "# create a class Eagle and inherit Bird class\n",
    "class Sparrow(Bird):\n",
    "    # create a constructor\n",
    "    def __init__(self, speed) -> None:\n",
    "        # call constructor of super class\n",
    "        super().__init__()\n",
    "        # assign values to instance variable\n",
    "        self.speed = speed\n",
    "    # define fly() method : method overriding\n",
    "    def fly(self):\n",
    "        # print the message according\n",
    "        print(f'This is Sparrow class, it flies with a speed of {self.speed}. It is a small bird')\n",
    "# create a onject of Eagle class\n",
    "obj_eagle = Eagle(200)\n",
    "# call fly() method\n",
    "obj_eagle.fly()\n",
    "# create a onject of Sparrow class\n",
    "obj_sparrow = Sparrow(100)\n",
    "# call fly() method\n",
    "obj_sparrow.fly()"
   ]
  },
  {
   "cell_type": "markdown",
   "metadata": {},
   "source": [
    "##### 18. What is the \"diamond problem\" in multiple inheritance, and how does Python address it?\n"
   ]
  },
  {
   "cell_type": "markdown",
   "metadata": {},
   "source": [
    "##### **Ans :** The diamomd problem in multiple inheritance is a concept where one sublass tries to inherit the properties of multiple parent classes at the same time. In python, subclass can inherit the properties of multiple parent classes. If any method or variable has same name or signature, then priority will be given to that class's attribute or method which was inheritted first."
   ]
  },
  {
   "cell_type": "markdown",
   "metadata": {},
   "source": [
    "##### 19. Discuss the concept of \"is-a\" and \"has-a\" relationships in inheritance, and provide examples of each.\n"
   ]
  },
  {
   "cell_type": "markdown",
   "metadata": {},
   "source": [
    "##### **Ans :** Is-a relationship is completely inheritance which means one class will inherit the properties of another class. The class which inherits the properties is called child class. The class whose properties are being inherited is called Parent class or super class. \n",
    "##### Has-a relationship is a composition relationship. In this, object of one class has been created in constructor of another class."
   ]
  },
  {
   "cell_type": "markdown",
   "metadata": {},
   "source": [
    "#### example of is-a"
   ]
  },
  {
   "cell_type": "code",
   "execution_count": 8,
   "metadata": {},
   "outputs": [
    {
     "name": "stdout",
     "output_type": "stream",
     "text": [
      "a = 1, b = 2, c = 3\n"
     ]
    },
    {
     "data": {
      "text/plain": [
       "'a = 1, b = 2'"
      ]
     },
     "execution_count": 8,
     "metadata": {},
     "output_type": "execute_result"
    }
   ],
   "source": [
    "# create a class A\n",
    "class A:\n",
    "    # create a constructor\n",
    "    def __init__(self, a,b) -> None:\n",
    "        # assign values to instance variables\n",
    "        self.a = a \n",
    "        self.b = b \n",
    "    # create a method to show a and b\n",
    "    def show_A(self):\n",
    "        return (f'a = {self.a}, b = {self.b}')\n",
    "# create a class B and inherit A\n",
    "class B(A):\n",
    "    # create a constructor\n",
    "    def __init__(self, a, b, c) -> None:\n",
    "        # pass values to members of parent class using super()\n",
    "        super().__init__(a, b) \n",
    "        # assign values to instance variables\n",
    "        self.c = c \n",
    "    # create a method to show a, b, c\n",
    "    def show_B(self):\n",
    "        print(super().show_A() + f\", c = {self.c}\")\n",
    "# create an object of class B\n",
    "obj = B(1,2,3)\n",
    "# call method of sub class\n",
    "obj.show_B()\n",
    "# call method of parent class\n",
    "obj.show_A()\n",
    "\n",
    "\n",
    "    "
   ]
  },
  {
   "cell_type": "markdown",
   "metadata": {},
   "source": [
    "#### example of has-a"
   ]
  },
  {
   "cell_type": "code",
   "execution_count": 11,
   "metadata": {},
   "outputs": [
    {
     "name": "stdout",
     "output_type": "stream",
     "text": [
      "object of class A = a = 1, b = 2\n",
      "c = 3\n"
     ]
    }
   ],
   "source": [
    "# create a class A\n",
    "class A:\n",
    "    # create a constructor\n",
    "    def __init__(self, a,b) -> None:\n",
    "        # assign values to instance variables\n",
    "        self.a = a \n",
    "        self.b = b \n",
    "    # create a method to show a and b\n",
    "    def show_A(self):\n",
    "        return (f'a = {self.a}, b = {self.b}')\n",
    "# create a class B \n",
    "class B:\n",
    "    # create a constructor\n",
    "    def __init__(self,a,b,c) -> None:\n",
    "        # assign values to instance variables\n",
    "        self.obj_a = A(a,b) # create the object of class A inside constructor of class B\n",
    "        self.c = c\n",
    "    # define a method show_B()\n",
    "    def show_B(self):\n",
    "        print(\"object of class A =\",self.obj_a.show_A())\n",
    "        print(\"c =\",self.c)\n",
    "# create an object of class B \n",
    "obj_b = B(1,2,3)\n",
    "# call method show_B() of class B\n",
    "obj_b.show_B()\n"
   ]
  },
  {
   "cell_type": "markdown",
   "metadata": {},
   "source": [
    "##### 20. Create a Python class hierarchy for a university system. Start with a base class `Person` and create child classes `Student` and `Professor`, each with their own attributes and methods. Provide an example of using these classes in a university context."
   ]
  },
  {
   "cell_type": "code",
   "execution_count": 7,
   "metadata": {},
   "outputs": [
    {
     "name": "stdout",
     "output_type": "stream",
     "text": [
      "Student Name = Kirsh Demi, gender = male, age = 20\n",
      "The course = b.tech cs, batch = 2023\n",
      "Professor Name = Dr. Lin Teff, gender = male, age = 53\n",
      "The course = b.tech cs, subject_handled = DSA\n"
     ]
    }
   ],
   "source": [
    "# create a class Person\n",
    "class Person:\n",
    "    # create a constructor\n",
    "    def __init__(self,name, gender, age, profession) -> None:\n",
    "        # assign values to instance variables\n",
    "        self.name = name \n",
    "        self.gender = gender\n",
    "        self.age = age \n",
    "        self.profession = profession\n",
    "    # create a method to show details of persone\n",
    "    def show_details(self):\n",
    "        print(f\"{self.profession} Name = {self.name}, gender = {self.gender}, age = {self.age}\")\n",
    "# create a class Student which inherits Person class\n",
    "class Student(Person):\n",
    "    # create a constructor\n",
    "    def __init__(self, name, gender, age, profession, course, batch) -> None:\n",
    "        # call the constructor of parent class\n",
    "        super().__init__(name, gender, age, profession)\n",
    "        # assign values to instance variables\n",
    "        self.batch = batch \n",
    "        self.course = course\n",
    "    # create the method to show student course details\n",
    "    def show_student_course_details(self):\n",
    "        print(f\"The course = {self.course}, batch = {self.batch}\")\n",
    "# create a class Professor which inherits Person class\n",
    "class Professor(Person):\n",
    "    # create a constructor\n",
    "    def __init__(self, name, gender, age, profession, course, subject_handled) -> None:\n",
    "        # call the constructor of parent class\n",
    "        super().__init__(name, gender, age, profession)\n",
    "        # assign values to instance variables\n",
    "        self.subject_handled = subject_handled \n",
    "        self.course = course\n",
    "    # create the method to show professor subject details\n",
    "    def show_professor_subject_details(self):\n",
    "        print(f\"The course = {self.course}, subject_handled = {self.subject_handled}\")\n",
    "# create object of Student\n",
    "obj_student = Student(\"Kirsh Demi\", 'male', '20','Student', 'b.tech cs', '2023')\n",
    "# call show_details() method\n",
    "obj_student.show_details()\n",
    "# call show_student_course_details() method\n",
    "obj_student.show_student_course_details() \n",
    "\n",
    "# create object of Professor class\n",
    "obj_Professor = Professor(\"Dr. Lin Teff\", 'male', 53, 'Professor', 'b.tech cs', 'DSA')\n",
    "# call show_details() method\n",
    "obj_Professor.show_details()\n",
    "# call show_professor_subject_details() method\n",
    "obj_Professor.show_professor_subject_details() \n",
    "\n"
   ]
  },
  {
   "cell_type": "markdown",
   "metadata": {},
   "source": [
    "# ***`Encapsulation ➖`***"
   ]
  },
  {
   "cell_type": "markdown",
   "metadata": {},
   "source": [
    "##### 1. Explain the concept of encapsulation in Python. What is its role in object-oriented programming?\n"
   ]
  },
  {
   "cell_type": "markdown",
   "metadata": {},
   "source": [
    "##### **Ans :** Encapsulation in python is the concept of hiding important or sensitive dqata information from direct access or modification. Encapsulation in object oriented programming can be used to hide member variables and methods associated with instantiated object. This way, we can easily protect our sensitive class or object attributes or method from unauthorized modification."
   ]
  },
  {
   "cell_type": "markdown",
   "metadata": {},
   "source": [
    "##### 2. Describe the key principles of encapsulation, including access control and data hiding.\n"
   ]
  },
  {
   "cell_type": "markdown",
   "metadata": {},
   "source": [
    "##### **Ans :** Encapsulation is a way to restrict the direct access to some components of an object, so users cannot access all of the sensitive variables of a particular object."
   ]
  },
  {
   "cell_type": "markdown",
   "metadata": {},
   "source": [
    "##### 3. How can you achieve encapsulation in Python classes? Provide an example."
   ]
  },
  {
   "cell_type": "markdown",
   "metadata": {},
   "source": [
    "##### **Ans :** We can achieve encapsulation in python classes by making all important member variables or methods as private."
   ]
  },
  {
   "cell_type": "code",
   "execution_count": null,
   "metadata": {},
   "outputs": [
    {
     "name": "stdout",
     "output_type": "stream",
     "text": [
      "13\n",
      "a = 13, b= 2, c = 1\n"
     ]
    }
   ],
   "source": [
    "# create a class\n",
    "class Example:\n",
    "    # create a constructor\n",
    "    def __init__(self, b, c) -> None:\n",
    "        # create a private variable by using double score followed by variable name example : __a\n",
    "        # assign variable to instance variables\n",
    "        self.__a = None \n",
    "        self.b = b \n",
    "        self.c = c\n",
    "    # use decorator property to create a getter function\n",
    "    @property\n",
    "    def a(self):\n",
    "        return self.__a\n",
    "    # use decortor setter to create a setter function.\n",
    "    @a.setter\n",
    "    def a(self, value):\n",
    "        self.__a = value\n",
    "    # create a method to show the details\n",
    "    def show_details(self):\n",
    "        print(f'a = {self.__a}, b= {self.b}, c = {self.c}')\n",
    "# create object of Example class\n",
    "obj = Example(2,1)\n",
    "# set value of private variable via setter method\n",
    "obj.a = 13\n",
    "# get value of private variable via getter method\n",
    "print(obj.a)\n",
    "# call show_details()\n",
    "obj.show_details()\n"
   ]
  },
  {
   "cell_type": "markdown",
   "metadata": {},
   "source": [
    "##### 4. Discuss the difference between public, private, and protected access modifiers in Python.\n"
   ]
  },
  {
   "cell_type": "markdown",
   "metadata": {},
   "source": [
    "##### **Ans :** Public access modifier provides the flexibility to access the variables and methods outside the class or in another package or in another module.\n",
    "##### Private access modifier allows to access the variables and methods inside the class in which they are defined.\n",
    "##### Protected access modifier allows to access the variables and methods inside the class in which they are defined or in subclass or in subclass outside module."
   ]
  },
  {
   "cell_type": "markdown",
   "metadata": {},
   "source": [
    "##### 5. Create a Python class called `Person` with a private attribute `__name`. Provide methods to get and set the name attribute."
   ]
  },
  {
   "cell_type": "code",
   "execution_count": 1,
   "metadata": {},
   "outputs": [
    {
     "name": "stdout",
     "output_type": "stream",
     "text": [
      "Person Details-> name = Mr. Lin Martin, age = 20, gender = Male\n",
      "Mr. Lin Martin\n"
     ]
    }
   ],
   "source": [
    "# create a class Person\n",
    "class Person:\n",
    "    # create a constructor\n",
    "    def __init__(self,age, gender) -> None:\n",
    "        # create a private variable by using double score followed by variable name example : __a\n",
    "        # assign variable to instance variables\n",
    "        self.__name = None\n",
    "        self.age = age \n",
    "        self.gender = gender\n",
    "    # use decorator property to create a getter function\n",
    "    @property\n",
    "    def name(self):\n",
    "        return self.__name\n",
    "    # use decortor setter to create a setter function.\n",
    "    @name.setter \n",
    "    def name(self, value):\n",
    "        self.__name = value\n",
    "    # create a method to show the details\n",
    "    def show_details(self):\n",
    "        print(f\"Person Details-> name = {self.name}, age = {self.age}, gender = {self.gender}\")\n",
    "# create an object of class Person\n",
    "obj_person = Person(20,'Male')\n",
    "# set value of private variable via setter method\n",
    "obj_person.name = 'Mr. Lin Martin'\n",
    "# call show_details()\n",
    "obj_person.show_details()\n",
    "# get value of private variable via getter method\n",
    "print(obj_person.name)"
   ]
  },
  {
   "cell_type": "markdown",
   "metadata": {},
   "source": [
    "##### 6. Explain the purpose of getter and setter methods in encapsulation. Provide examples.\n"
   ]
  },
  {
   "cell_type": "markdown",
   "metadata": {},
   "source": [
    "##### **Ans :** Encapsultaion is the concept of hiding sensitive data or limiting the access of sensitive members of class instance. It can be achieved by getter and setter methods. The purpose of getter method in encapsulation is to get the value of private variable. The purpose of setter method in encapsulation is to set or assign the value of private variable."
   ]
  },
  {
   "cell_type": "markdown",
   "metadata": {},
   "source": [
    "##### 7. What is name mangling in Python, and how does it affect encapsulation?\n"
   ]
  },
  {
   "cell_type": "markdown",
   "metadata": {},
   "source": [
    "##### **Ans :** In python, name mangling is concept in which class attributes are not being able to be accessed by sub classes. These attributes are designated by naming them a name with one trailing underscore and two leading underscores. example = _classname__varname, Here, classname is name of class whose attribute is to be mangled and varname is the name of the attribute. In Encapsulation, we can provide some level of authentication to class attributes. We can make class attributes unaccessible to subclass."
   ]
  },
  {
   "cell_type": "markdown",
   "metadata": {},
   "source": [
    "##### 8. Create a Python class called `BankAccount` with private attributes for the account balance (`__balance`) and account number (`__account_number`). Provide methods for depositing and withdrawing money."
   ]
  },
  {
   "cell_type": "code",
   "execution_count": 6,
   "metadata": {},
   "outputs": [
    {
     "name": "stdout",
     "output_type": "stream",
     "text": [
      "The money 1000000 has been deposited. The balance is 1000000\n",
      "40000 has been withdrawn. The balance is 960000\n"
     ]
    }
   ],
   "source": [
    "# create a class BankAccount\n",
    "class BankAccount:\n",
    "    # create a constructor with some arguments\n",
    "    def __init__(self, name, age, gender) -> None:\n",
    "        # assign values to instance variables\n",
    "        self.name = name\n",
    "        self.age = age \n",
    "        self.gender = gender\n",
    "        # create a private variable by using double score followed by variable name example : __a\n",
    "        self.__account_number = 0 \n",
    "        self.__balance = 0 \n",
    "    # use decorator property to create a getter function for account number\n",
    "    @property\n",
    "    def account_number(self):\n",
    "        return self.__account_number\n",
    "    # use decorator property to create a getter function for balance\n",
    "    @property\n",
    "    def balance(self):\n",
    "        return self.__balance\n",
    "    # use decortor setter to create a setter function for account number\n",
    "    @account_number.setter\n",
    "    def account_number(self, value):\n",
    "        self.__account_number = value\n",
    "    # use decortor setter to create a setter function for balance\n",
    "    @balance.setter \n",
    "    def balance(self, value):\n",
    "        self.__balance = value \n",
    "    # method to withdraw money from the bank account\n",
    "    def withdraw_money(self, money):\n",
    "        # use a try block to check if the withdrawn mobey is less than or equal to balance or not\n",
    "        try:\n",
    "            # if the withdrawn mobey is less  or equal to than balance\n",
    "            if money<=self.balance:\n",
    "                # deduct the money from the balance and print the result\n",
    "                self.balance -= money\n",
    "                print(f\"{money} has been withdrawn. The balance is {self.balance}\")\n",
    "            # the withdrawn mobey is not greater than balance then\n",
    "            else:\n",
    "                # raise the exception using raise keyword\n",
    "                raise ValueError(\"Balance is insufficient.\")\n",
    "        # catch the exception using except blockand print the exception\n",
    "        except Exception as e :\n",
    "            print(e)\n",
    "    # create a method to deposit money\n",
    "    def deposit_money(self, money):\n",
    "        # add money to balance and print the result\n",
    "        self.balance += money\n",
    "        print(f\"The money {money} has been deposited. The balance is {self.balance}\")\n",
    "# create an object of BankAccount class and pass the values to arguments\n",
    "account1 = BankAccount('Ms. Jennifer Luoise', 22, 'female')\n",
    "# set the accountnumber\n",
    "account1.account_number = 19034093392334\n",
    "# deposit the money using deposit_money() method\n",
    "account1.deposit_money(1000000)\n",
    "# withdraw money using withdraw_money() method. \n",
    "account1.withdraw_money(40000)"
   ]
  },
  {
   "cell_type": "markdown",
   "metadata": {},
   "source": [
    "##### 9. Discuss the advantages of encapsulation in terms of code maintainability and security.\n"
   ]
  },
  {
   "cell_type": "markdown",
   "metadata": {},
   "source": [
    "##### **Ans :** Encapsulation is concept which ensures organization of attributes and thier access control. It also includes the concept of class methods and static methods. Access contol is managed via getter and setter methods. Thus provides clean and maintainable code with data security."
   ]
  },
  {
   "cell_type": "markdown",
   "metadata": {},
   "source": [
    "##### 10. How can you access private attributes in Python? Provide an example demonstrating the use of name mangling."
   ]
  },
  {
   "cell_type": "markdown",
   "metadata": {},
   "source": [
    "##### **Ans :** We can access private attributes in python using setter and getter method via property decorators. Example -"
   ]
  },
  {
   "cell_type": "code",
   "execution_count": 7,
   "metadata": {},
   "outputs": [
    {
     "name": "stdout",
     "output_type": "stream",
     "text": [
      "13\n",
      "a = 13, b= 2, c = 1\n"
     ]
    }
   ],
   "source": [
    "# create a class\n",
    "class Example:\n",
    "    # create a constructor\n",
    "    def __init__(self, b, c) -> None:\n",
    "        # create a private variable by using double score followed by variable name example : __a\n",
    "        # assign variable to instance variables\n",
    "        self.__a = None \n",
    "        self.b = b \n",
    "        self.c = c\n",
    "    # use decorator property to create a getter function\n",
    "    @property\n",
    "    def a(self):\n",
    "        return self.__a\n",
    "    # use decortor setter to create a setter function.\n",
    "    @a.setter\n",
    "    def a(self, value):\n",
    "        self.__a = value\n",
    "    # create a method to show the details\n",
    "    def show_details(self):\n",
    "        print(f'a = {self.__a}, b= {self.b}, c = {self.c}')\n",
    "# create object of Example class\n",
    "obj = Example(2,1)\n",
    "# set value of private variable via setter method\n",
    "obj.a = 13\n",
    "# get value of private variable via getter method\n",
    "print(obj.a)\n",
    "# call show_details()\n",
    "obj.show_details()\n"
   ]
  },
  {
   "cell_type": "markdown",
   "metadata": {},
   "source": [
    "## `11. Create a Python class hierarchy for a school system, including classes for students, teachers, and courses, and implement encapsulation principles to protect sensitive information.`\n"
   ]
  },
  {
   "cell_type": "code",
   "execution_count": null,
   "metadata": {},
   "outputs": [],
   "source": [
    "class School:\n",
    "    def __init__(self, ) -> None:\n",
    "        pass"
   ]
  },
  {
   "cell_type": "markdown",
   "metadata": {},
   "source": [
    "##### 12. Explain the concept of property decorators in Python and how they relate to encapsulation.\n"
   ]
  },
  {
   "cell_type": "markdown",
   "metadata": {},
   "source": [
    "##### **Ans :** Property decorators in python return the modified function which can be called normally. It is a in-built decorator in python which helps in determining the properties without manually calling in-built property() method of python. This property decorator helps in access control in encapsulation. With the help of property decorator, we can make getter and setter for private variables of python class instance. We can create a getter function to get the value of private attribute. We can create setter method using setter functionality of property decorator and can assign the value to private variable."
   ]
  },
  {
   "cell_type": "markdown",
   "metadata": {},
   "source": [
    "##### 13. What is data hiding, and why is it important in encapsulation? Provide examples.\n"
   ]
  },
  {
   "cell_type": "markdown",
   "metadata": {},
   "source": [
    "##### **Ans :** Data hiding is the concept of hiding details by revoking the access from unauthorised access. This is important concept in encapsulation. By this way, we can capsule the important attributes into a capsule so as to avoid or limit the unauthorised access. We can do this via accessors and mutators. For example -"
   ]
  },
  {
   "cell_type": "code",
   "execution_count": 9,
   "metadata": {},
   "outputs": [
    {
     "name": "stdout",
     "output_type": "stream",
     "text": [
      "13\n",
      "a = 13, b= 2, c = 1\n"
     ]
    }
   ],
   "source": [
    "# create a class\n",
    "class Example:\n",
    "    # create a constructor\n",
    "    def __init__(self, b, c) -> None:\n",
    "        # create a private variable by using double score followed by variable name example : __a\n",
    "        # assign variable to instance variables\n",
    "        self.__a = None \n",
    "        self.b = b \n",
    "        self.c = c\n",
    "    # use decorator property to create a getter function\n",
    "    @property\n",
    "    def a(self):\n",
    "        return self.__a\n",
    "    # use decortor setter to create a setter function.\n",
    "    @a.setter\n",
    "    def a(self, value):\n",
    "        self.__a = value\n",
    "    # create a method to show the details\n",
    "    def show_details(self):\n",
    "        print(f'a = {self.__a}, b= {self.b}, c = {self.c}')\n",
    "# create object of Example class\n",
    "obj = Example(2,1)\n",
    "# set value of private variable via setter method\n",
    "obj.a = 13\n",
    "# get value of private variable via getter method\n",
    "print(obj.a)\n",
    "# call show_details()\n",
    "obj.show_details()\n"
   ]
  },
  {
   "cell_type": "markdown",
   "metadata": {},
   "source": [
    "##### 14. Create a Python class called `Employee` with private attributes for salary (`__salary`) and employee ID (`__employee_id`). Provide a method to calculate yearly bonuses.\n"
   ]
  },
  {
   "cell_type": "code",
   "execution_count": 16,
   "metadata": {},
   "outputs": [
    {
     "name": "stdout",
     "output_type": "stream",
     "text": [
      "Employee Details : \n",
      "name = Ms. Kate, age = 22, gender = Female, adhar_no = 127845673268, \n",
      "employee_code = Emp127845673268, salary = 100000, bonus = The yearly bonus is 96000.0\n"
     ]
    }
   ],
   "source": [
    "# create a class Employee\n",
    "class Employee:\n",
    "    # create a constructor\n",
    "    def __init__(self, name, age, gender, department, adhar_number) -> None:\n",
    "        # assign values to instance variables\n",
    "        self.name = name\n",
    "        self.age = age\n",
    "        self.gender = gender\n",
    "        self.department = department\n",
    "        self.adhar_no = adhar_number\n",
    "        # # create a private variable by using double score followed by variable name example : __a\n",
    "        self.__employee_id = \"Emp\"+str(adhar_number)\n",
    "        # create a private valriable for salary  \n",
    "        # if department is tech then initial salary is 1 lakh otherwise it is 80000\n",
    "        if department == 'Tech':\n",
    "            self.__salary = 100000\n",
    "        else :\n",
    "            self.__salary = 80000\n",
    "    \n",
    "    # use decorator property to create a getter function for employee id\n",
    "    @property \n",
    "    def employee_id(self):\n",
    "        return self.__employee_id\n",
    "    # use decorator property to create a getter function for salary\n",
    "    @property\n",
    "    def salary(self):\n",
    "        return self.__salary\n",
    "    # use decortor setter to create a setter function.\n",
    "    @salary.setter\n",
    "    def salary(self, value):\n",
    "        self.__salary = value\n",
    "    # create a method to get the yearly bonus\n",
    "    def get_yearly_bonus(self):\n",
    "        # get the salary for 12 months to make it yearly and get 8% of the yearly salary. \n",
    "        # It will be the bonus.\n",
    "        bonus = (self.salary*12)*8.0/100 \n",
    "        return f'The yearly bonus is {bonus}'\n",
    "    # define __repr__ method to get the details of the current instance.\n",
    "    def __repr__(self) -> str:\n",
    "        return f\"Employee Details : \\nname = {self.name}, age = {self.age}, gender = {self.gender}, adhar_no = {self.adhar_no}, \\nemployee_code = {self.employee_id}, salary = {self.salary}, bonus = {self.get_yearly_bonus()}\"\n",
    "# create the object of Employee class by passing all arguments values\n",
    "emp1 = Employee('Ms. Kate', 22, 'Female', 'Tech', 127845673268)\n",
    "# calculate the yearly bonus by calling get_yearly_bonus() method.\n",
    "emp1.get_yearly_bonus()\n",
    "# print the object details\n",
    "print(emp1)\n"
   ]
  },
  {
   "cell_type": "markdown",
   "metadata": {},
   "source": [
    "##### 15. Discuss the use of accessors and mutators in encapsulation. How do they help maintain control over attribute access?"
   ]
  },
  {
   "cell_type": "markdown",
   "metadata": {},
   "source": [
    "##### **Ans :** The accessors are getters which are used to get the value of a private attribute. The mutators are setter which are used to modify the value of private variables. We can not directly acces the private attributes and modify its state. This way we maintain a specific protocol to access and modify the value of private attributes of class instance. "
   ]
  },
  {
   "cell_type": "markdown",
   "metadata": {},
   "source": [
    "##### 16. What are the potential drawbacks or disadvantages of using encapsulation in Python?\n"
   ]
  },
  {
   "cell_type": "markdown",
   "metadata": {},
   "source": [
    "##### **Ans :** Disadvantages of using encapsulation in python-\n",
    "* The length of code increases because for every private attribute, we need seperate mutators and accessor with specifiers which makes the code length.\n",
    "* For every method or code, we need to provide additional info or instructions which makes it hectic to write long codes."
   ]
  },
  {
   "cell_type": "markdown",
   "metadata": {},
   "source": [
    "## `17. Create a Python class for a library system that encapsulates book information, including titles, authors, and availability status.`"
   ]
  },
  {
   "cell_type": "code",
   "execution_count": null,
   "metadata": {},
   "outputs": [],
   "source": []
  },
  {
   "cell_type": "markdown",
   "metadata": {},
   "source": []
  },
  {
   "cell_type": "markdown",
   "metadata": {},
   "source": [
    "##### 18. Explain how encapsulation enhances code reusability and modularity in Python programs.\n"
   ]
  },
  {
   "cell_type": "markdown",
   "metadata": {},
   "source": [
    "##### **Ans :** Encapsulation promotes modularity by encapsulating the data and methods related to a specific object within a class. For each encapsulated member attributes, there are seperate accessors and mutators which gives us the feel of modularity. We can use these encapsulated instance attributes again and again as per our need hence provides code reusability."
   ]
  },
  {
   "cell_type": "markdown",
   "metadata": {},
   "source": [
    "##### 19. Describe the concept of information hiding in encapsulation. Why is it essential in software development?"
   ]
  },
  {
   "cell_type": "markdown",
   "metadata": {},
   "source": [
    "##### **Ans :** Data hiding is the concept of hiding details by revoking the access from unauthorised access. This is important concept in encapsulation. By this way, we can capsule the important attributes into a capsule so as to avoid or limit the unauthorised access. We can do this via accessors and mutators. It is essential in software development because when we work for real world scenarios, we have huge and complex data with so many crucial information. If this data goes to unreliable hands, it will cost a huge amount of money to the company organisation or the owner of data. So, we need to protect our data from unauthorized access. We need to ensure that our data gets modified only when required and it can be modified by authorised members only. For this purpose, we put some limitation on the access of data via encapsulation."
   ]
  },
  {
   "cell_type": "markdown",
   "metadata": {},
   "source": [
    "##### 20. Create a Python class called `Customer` with private attributes for customer details like name, address, and contact information. Implement encapsulation to ensure data integrity and security."
   ]
  },
  {
   "cell_type": "code",
   "execution_count": 19,
   "metadata": {},
   "outputs": [
    {
     "name": "stdout",
     "output_type": "stream",
     "text": [
      "Customer : name = Mr. Kelvin Tame, age = 40, phone_number = 9375832798, address = ABC, block 2 street, south wales\n"
     ]
    }
   ],
   "source": [
    "# create a class Customer\n",
    "class Customer:\n",
    "    # create a constructor\n",
    "    def __init__(self, name, age, phone_number, address) -> None:\n",
    "        # assign values to instance variables\n",
    "        self.name = name\n",
    "        self.age = age \n",
    "        # create a private variable\n",
    "        self.__phone_number = phone_number\n",
    "        self.address = address\n",
    "    # use decorator property to create a getter function for phone number\n",
    "    @property\n",
    "    def phone_number(self):\n",
    "        return self.__phone_number \n",
    "    # use decortor setter to create a setter function for phone number\n",
    "    @phone_number.setter\n",
    "    def phone_number(self, value):\n",
    "        self.__phone_number = value\n",
    "        print(\"Phone number is updated!!\")\n",
    "    # create a method to show details of customer\n",
    "    def show_details(self):\n",
    "        print(f\"Customer : name = {self.name}, age = {self.age}, phone_number = {self.phone_number}, address = {self.address}\")\n",
    "\n",
    "user1 = Customer('Mr. Kelvin Tame', 40, 9375832798, 'ABC, block 2 street, south wales')\n",
    "user1.show_details()"
   ]
  },
  {
   "cell_type": "markdown",
   "metadata": {},
   "source": [
    "# ***`Polymorphism:-`***"
   ]
  },
  {
   "cell_type": "markdown",
   "metadata": {},
   "source": [
    "##### 1. What is polymorphism in Python? Explain how it is related to object-oriented programming.\n"
   ]
  },
  {
   "cell_type": "markdown",
   "metadata": {},
   "source": [
    "##### **Ans :** Poly means different and morphs means forms. Polymorphism in python is a concept or ability of object to take on multiple forms. It is the ability take more than one form of same type. In object oriented programming, polymorphism can be shown via method overloading. It means a class can have functions with same name but can be differentiate using function signature, number of attributes, return type etc."
   ]
  },
  {
   "cell_type": "markdown",
   "metadata": {},
   "source": [
    "##### 2. Describe the difference between compile-time polymorphism and runtime polymorphism in Python.\n"
   ]
  },
  {
   "cell_type": "markdown",
   "metadata": {},
   "source": [
    "##### **Ans :** Compile-time polymorphism is obtained through method overloading.It means a class can have functions with same name but can be differentiate using function signature, number of attributes, return type etc. Runtime polymorphism is obtained through method overriding. In runtime polymorphism, the compiler resolves the object at run time and then it decides which function call should be associated with that object."
   ]
  },
  {
   "cell_type": "markdown",
   "metadata": {},
   "source": [
    "##### 3. Create a Python class hierarchy for shapes (e.g., circle, square, triangle) and demonstrate polymorphism through a common method, such as `calculate_area()`."
   ]
  },
  {
   "cell_type": "code",
   "execution_count": 14,
   "metadata": {},
   "outputs": [
    {
     "name": "stdout",
     "output_type": "stream",
     "text": [
      "Area of circle = 615.44\n",
      "Area of square = 16\n",
      "Area of rectangle = 72\n",
      "Area of triangle = 36.0\n"
     ]
    }
   ],
   "source": [
    "# import ABC, abstractmethod from abc module\n",
    "from abc import ABC, abstractmethod\n",
    "# create a class Shapes that inherits ABC class\n",
    "class Shapes(ABC):\n",
    "    # create an abstract method with the help of @abstractmethod\n",
    "    @abstractmethod\n",
    "    def calculate_area(self):\n",
    "        pass\n",
    "# creata a class for the shapes which has one dimension only. This class inherits Shapes class\n",
    "class One_dimension_shape(Shapes):\n",
    "    # create the constructor of class\n",
    "    def __init__(self, dimension, shape) -> None:\n",
    "        # assign values to instance variable\n",
    "        self.shape = shape\n",
    "        self.dimension = dimension\n",
    "    # define calculate_area() abstract method of Shapes class in the current class\n",
    "    def calculate_area(self):\n",
    "        # shape is circle the calculate area of circle\n",
    "        if self.shape.lower() == 'circle':\n",
    "            return 3.14*self.dimension*self.dimension\n",
    "        # shape is sqaure the calculate area of sqaure\n",
    "        elif self.shape.lower() == 'square':\n",
    "            return self.dimension*self.dimension\n",
    "\n",
    "# creata a class for the shapes which has one dimension only. This class inherits Shapes class\n",
    "class Two_dimension_shape(Shapes):\n",
    "    # create the constructor of class\n",
    "    def __init__(self, height, width, shape) -> None:\n",
    "        # assign values to instance variable\n",
    "        self.height = height\n",
    "        self.width = width\n",
    "        self.shape = shape\n",
    "    # define calculate_area() abstract method of Shapes class in the current class\n",
    "    def calculate_area(self):\n",
    "        # shape is triangle the calculate area of triangle\n",
    "        if self.shape.lower() == 'triangle':\n",
    "            return 0.5*self.height*self.width\n",
    "        # shape is rectangle the calculate area of rectangle\n",
    "        elif self.shape.lower() == 'rectangle':\n",
    "            return self.height*self.width\n",
    "# create object of One_dimension_shape class and call method calculate_area()\n",
    "obj1 = One_dimension_shape(shape='circle', dimension=14)\n",
    "print(f\"Area of {obj1.shape} = {obj1.calculate_area()}\")\n",
    "\n",
    "# create object of One_dimension_shape class and call method calculate_area()\n",
    "obj1 = One_dimension_shape(shape='square', dimension=4)\n",
    "print(f\"Area of {obj1.shape} = {obj1.calculate_area()}\")\n",
    "\n",
    "# create object of Two_dimension_shape class and call method calculate_area()\n",
    "obj1 = Two_dimension_shape(shape='rectangle', width=12, height= 6)\n",
    "print(f\"Area of {obj1.shape} = {obj1.calculate_area()}\")\n",
    "\n",
    "# create object of Two_dimension_shape class and call method calculate_area()\n",
    "obj1 = Two_dimension_shape(shape='triangle', width=12, height= 6)\n",
    "print(f\"Area of {obj1.shape} = {obj1.calculate_area()}\")"
   ]
  },
  {
   "cell_type": "markdown",
   "metadata": {},
   "source": [
    "##### 4. Explain the concept of method overriding in polymorphism. Provide an example.\n"
   ]
  },
  {
   "cell_type": "markdown",
   "metadata": {},
   "source": [
    "##### **Ans :** Method overriding in polymorphism is a concept in which function in super class will also be defined in sub class with same name, signature and return type based on requirements. For example -"
   ]
  },
  {
   "cell_type": "code",
   "execution_count": 2,
   "metadata": {},
   "outputs": [
    {
     "name": "stdout",
     "output_type": "stream",
     "text": [
      "This is  a class B\n",
      "This is a class A\n"
     ]
    }
   ],
   "source": [
    "# create a class A\n",
    "class A:\n",
    "    # create a constructor\n",
    "    def __init__(self) -> None:\n",
    "        pass \n",
    "    # create  a method \n",
    "    def get_data(self):\n",
    "        print(\"This is a class A\")\n",
    "# create a class B that inherits A\n",
    "class B(A):\n",
    "    # create a constructor\n",
    "    def __init__(self) -> None:\n",
    "        super().__init__()\n",
    "    # define a method that has been already existed in Class A\n",
    "    def get_data(self):\n",
    "        print(\"This is  a class B\")\n",
    "# create an object of class B\n",
    "objB = B()\n",
    "# call get_data() method\n",
    "objB.get_data()\n",
    "# create an object of class B\n",
    "objA = A()\n",
    "# call get_data() method\n",
    "objA.get_data()"
   ]
  },
  {
   "cell_type": "markdown",
   "metadata": {},
   "source": [
    "##### 5. How is polymorphism different from method overloading in Python? Provide examples for both.\n"
   ]
  },
  {
   "cell_type": "markdown",
   "metadata": {},
   "source": [
    "##### In polymorphism, a subclass or child class provides a specific implementation of a method that is already provided by one of its super-classes or parent classes. In method overloading, a class has more than one function with same name but different number of parameters or different signature or different return type."
   ]
  },
  {
   "cell_type": "code",
   "execution_count": 3,
   "metadata": {},
   "outputs": [
    {
     "name": "stdout",
     "output_type": "stream",
     "text": [
      "This is  a class B\n",
      "This is a class A\n"
     ]
    }
   ],
   "source": [
    "# example for polymorphism\n",
    "# create a class A\n",
    "class A:\n",
    "    # create a constructor\n",
    "    def __init__(self) -> None:\n",
    "        pass \n",
    "    # create  a method \n",
    "    def get_data(self):\n",
    "        print(\"This is a class A\")\n",
    "# create a class B that inherits A\n",
    "class B(A):\n",
    "    # create a constructor\n",
    "    def __init__(self) -> None:\n",
    "        super().__init__()\n",
    "    # define a method that has been already existed in Class A\n",
    "    def get_data(self):\n",
    "        print(\"This is  a class B\")\n",
    "# create an object of class B\n",
    "objB = B()\n",
    "# call get_data() method\n",
    "objB.get_data()\n",
    "# create an object of class B\n",
    "objA = A()\n",
    "# call get_data() method\n",
    "objA.get_data()"
   ]
  },
  {
   "cell_type": "code",
   "execution_count": 8,
   "metadata": {},
   "outputs": [
    {
     "name": "stdout",
     "output_type": "stream",
     "text": [
      "sum of 2 numbers = 3\n",
      "sum of 3 numbers = 6\n"
     ]
    }
   ],
   "source": [
    "# example for method overloading\n",
    "\n",
    "def sum_2(a, b):\n",
    "    s = a + b\n",
    "    print(\"sum of 2 numbers =\", s)\n",
    "# create a method sum to add 3 elements\n",
    "def sum_3(a, b, c):\n",
    "    s = a + b + c\n",
    "    print(\"sum of 3 numbers =\", s)\n",
    "\n",
    "sum_2(1,2)\n",
    "\n",
    "sum_3(1,2,3)"
   ]
  },
  {
   "cell_type": "markdown",
   "metadata": {},
   "source": [
    "##### 6. Create a Python class called `Animal` with a method `speak()`. Then, create child classes like `Dog`, `Cat`, and `Bird`, each with their own `speak()` method. Demonstrate polymorphism by calling the `speak()` method on objects of different subclasses.\n"
   ]
  },
  {
   "cell_type": "code",
   "execution_count": 10,
   "metadata": {},
   "outputs": [
    {
     "name": "stdout",
     "output_type": "stream",
     "text": [
      "Cat : Meow Meow\n",
      "Dog : Bark Bark\n",
      "Bird : Chirp Chirp\n"
     ]
    }
   ],
   "source": [
    "# create a class Animal\n",
    "class Animal :\n",
    "    # create a constructor\n",
    "    def __init__(self, name) -> None:\n",
    "        # assign value to instance variable\n",
    "        self.name = name \n",
    "    # define method speak\n",
    "    def speak(self):\n",
    "        # print message\n",
    "        print(\"Animal is speaking\")\n",
    "# create a class Dog\n",
    "class Dog(Animal):\n",
    "    # create a constructor\n",
    "    def __init__(self, name) -> None:\n",
    "        # assign value to instance variable\n",
    "        self.name = name \n",
    "    # define method speak\n",
    "    def speak(self):\n",
    "        # print message\n",
    "        print(\"Dog : Bark Bark\")\n",
    "# create a class Cat\n",
    "class Cat(Animal):\n",
    "    # create a constructor\n",
    "    def __init__(self, name) -> None:\n",
    "        # assign value to instance variable\n",
    "        self.name = name \n",
    "    # define method speak\n",
    "    def speak(self):\n",
    "        # print message\n",
    "        print(\"Cat : Meow Meow\")\n",
    "class Bird(Animal):\n",
    "    # create a constructor\n",
    "    def __init__(self, name) -> None:\n",
    "        # assign value to instance variable\n",
    "        self.name = name \n",
    "    # define method speak\n",
    "    def speak(self):\n",
    "        # print message\n",
    "        print(\"Bird : Chirp Chirp\")\n",
    "# create an object for Cat class\n",
    "cat_obj = Cat('Kitty')\n",
    "# call speak() method of cat class\n",
    "cat_obj.speak()\n",
    "# create an object for Dog class\n",
    "dog_obj = Dog('Zen')\n",
    "# call speak() method of Dog class\n",
    "dog_obj.speak()\n",
    "# create an object for Bird class\n",
    "bird_obj = Bird('Tweety')\n",
    "# call speak() method of Bird class\n",
    "bird_obj.speak()"
   ]
  },
  {
   "cell_type": "markdown",
   "metadata": {},
   "source": [
    "##### 7. Discuss the use of abstract methods and classes in achieving polymorphism in Python. Provide an example using the `abc` module."
   ]
  },
  {
   "cell_type": "markdown",
   "metadata": {},
   "source": [
    "##### **Ans :** Abstract class with abstract methods is a concept of providing a base skeleton or a blue print for sub classes to define their functionalities according to their requirements."
   ]
  },
  {
   "cell_type": "code",
   "execution_count": 11,
   "metadata": {},
   "outputs": [
    {
     "name": "stdout",
     "output_type": "stream",
     "text": [
      "Car has properties -> color = red, num_of_tyres = 4, speed = 240\n",
      "Bicycle has properties -> color = black, num_of_tyres = 2, speed = 10\n"
     ]
    }
   ],
   "source": [
    "# from abc module, import ABC class and abstractmethod\n",
    "from abc import abstractmethod, ABC\n",
    "# create a class Vehicle and inherit ABC\n",
    "class Vehicle(ABC) :\n",
    "    # define a method as abstract method\n",
    "    @abstractmethod\n",
    "    def show_details():\n",
    "        pass \n",
    "# create a class Car and inherit Vehicle\n",
    "class Car(Vehicle):\n",
    "    # create a constructor\n",
    "    def __init__(self, num_of_tyres, color, speed) -> None:\n",
    "        # assign values of instance variables\n",
    "        self.num_of_tyres = num_of_tyres \n",
    "        self.color = color\n",
    "        self.speed = speed\n",
    "    # define the method show_details(), this method is abstract in Vehicle class(super class)\n",
    "    def show_details(self):\n",
    "        print(f\"Car has properties -> color = {self.color}, num_of_tyres = {self.num_of_tyres}, speed = {self.speed}\")\n",
    "# create a class Bicycle and inherit Vehicle\n",
    "class BiCycle(Vehicle):\n",
    "    # create a constructor\n",
    "    def __init__(self, num_of_tyres, color, speed) -> None:\n",
    "        # assign values of instance variables\n",
    "        self.num_of_tyres = num_of_tyres \n",
    "        self.color = color\n",
    "        self.speed = speed\n",
    "    # define the method show_details(), this method is abstract in Vehicle class(super class)\n",
    "    def show_details(self):\n",
    "        print(f\"Bicycle has properties -> color = {self.color}, num_of_tyres = {self.num_of_tyres}, speed = {self.speed}\")\n",
    "\n",
    "# create object for class Car\n",
    "car_obj = Car(4,'red', 240)\n",
    "# call the method show_details()\n",
    "car_obj.show_details()\n",
    "# create object for class Bicycle\n",
    "cycle_obj = BiCycle(2,'black', 10)\n",
    "# call the method show_details()\n",
    "cycle_obj.show_details()"
   ]
  },
  {
   "cell_type": "markdown",
   "metadata": {},
   "source": [
    "##### 8. Create a Python class hierarchy for a vehicle system (e.g., car, bicycle, boat) and implement a polymorphic `start()` method that prints a message specific to each vehicle type.\n"
   ]
  },
  {
   "cell_type": "code",
   "execution_count": 12,
   "metadata": {},
   "outputs": [
    {
     "name": "stdout",
     "output_type": "stream",
     "text": [
      "Car has properties -> color = red, num_of_tyres = 4, speed = 240\n",
      "Bicycle has properties -> color = black, num_of_tyres = 2, speed = 10\n"
     ]
    }
   ],
   "source": [
    "# from abc module, import ABC class and abstractmethod\n",
    "from abc import abstractmethod, ABC\n",
    "# create a class Vehicle and inherit ABC\n",
    "class Vehicle(ABC) :\n",
    "    # define a method as abstract method\n",
    "    @abstractmethod\n",
    "    def start():\n",
    "        pass \n",
    "# create a class Car and inherit Vehicle\n",
    "class Car(Vehicle):\n",
    "    # create a constructor\n",
    "    def __init__(self, num_of_tyres, color, speed) -> None:\n",
    "        # assign values of instance variables\n",
    "        self.num_of_tyres = num_of_tyres \n",
    "        self.color = color\n",
    "        self.speed = speed\n",
    "    # define the method start(), this method is abstract in Vehicle class(super class)\n",
    "    def start(self):\n",
    "        print(f\"Car has properties -> color = {self.color}, num_of_tyres = {self.num_of_tyres}, speed = {self.speed}\")\n",
    "# create a class Bicycle and inherit Vehicle\n",
    "class BiCycle(Vehicle):\n",
    "    # create a constructor\n",
    "    def __init__(self, num_of_tyres, color, speed) -> None:\n",
    "        # assign values of instance variables\n",
    "        self.num_of_tyres = num_of_tyres \n",
    "        self.color = color\n",
    "        self.speed = speed\n",
    "    # define the method start(), this method is abstract in Vehicle class(super class)\n",
    "    def start(self):\n",
    "        print(f\"Bicycle has properties -> color = {self.color}, num_of_tyres = {self.num_of_tyres}, speed = {self.speed}\")\n",
    "\n",
    "# create object for class Car\n",
    "car_obj = Car(4,'red', 240)\n",
    "# call the method start()\n",
    "car_obj.start()\n",
    "# create object for class Bicycle\n",
    "cycle_obj = BiCycle(2,'black', 10)\n",
    "# call the method start()\n",
    "cycle_obj.start()"
   ]
  },
  {
   "cell_type": "markdown",
   "metadata": {},
   "source": [
    "##### 9. Explain the significance of the `isinstance()` and `issubclass()` functions in Python polymorphism.\n"
   ]
  },
  {
   "cell_type": "markdown",
   "metadata": {},
   "source": [
    "##### **Ans :** The Python's isinstance() function checks whether the object or variable is an instance of the specified class type or data type.It returns True if the specified object is of the specified type, otherwise False. In inheritance, isinstance() returns True when an object/variable is an instance of the specified type or class or parent class of an object\n",
    "##### issubclass() is in-built function which is used to check whether a class is a subclass of another class or not. This function returns True if the given class is the subclass of another class else it returns False."
   ]
  },
  {
   "cell_type": "markdown",
   "metadata": {},
   "source": [
    "##### 10. What is the role of the `@abstractmethod` decorator in achieving polymorphism in Python? Provide an example."
   ]
  },
  {
   "cell_type": "markdown",
   "metadata": {},
   "source": [
    "##### **Ans :** In polymorphism, @abstractmethod decorator helps in creating abstract method in abstract class. This helps in creating the skeleton or a dummy view for subclasses to perform the task according to their own way. Same abstract function of an abstract class can be used to define differently in diferrent classes hence achieve polymorphism"
   ]
  },
  {
   "cell_type": "code",
   "execution_count": 17,
   "metadata": {},
   "outputs": [
    {
     "name": "stdout",
     "output_type": "stream",
     "text": [
      "Hi This is data science cousre in language python\n",
      "Hi This is DSA cousre in language Java\n"
     ]
    }
   ],
   "source": [
    "# example -:\n",
    "from abc import ABC, abstractmethod\n",
    "# create a class courses\n",
    "class courses:\n",
    "    # create an abstract method using @abstractmethod decorator\n",
    "    @abstractmethod\n",
    "    def course_details():\n",
    "        pass\n",
    "# create a class Datascience that inherits courses\n",
    "class Datascience(courses):\n",
    "    # create a constructor \n",
    "    def __init__(self) -> None:\n",
    "        pass \n",
    "    # define the method course_details() of super class in current sub-class\n",
    "    def course_details(self):\n",
    "        print(\"Hi This is data science cousre in language python\")\n",
    "# create a class DSA that inherits courses\n",
    "class DSA(courses):\n",
    "    # create a constructor \n",
    "    def __init__(self) -> None:\n",
    "        pass \n",
    "    # define the method course_details() of super class in current sub-class\n",
    "    def course_details(self):\n",
    "        print(\"Hi This is DSA cousre in language Java\")\n",
    "# create object of Datascience class \n",
    "obj_ds = Datascience()\n",
    "# call course_details() method of Datascience class\n",
    "obj_ds.course_details()\n",
    "# create object of DSA class \n",
    "obj_dsa = DSA()\n",
    "# call course_details() method of DSA class\n",
    "obj_dsa.course_details()"
   ]
  },
  {
   "cell_type": "markdown",
   "metadata": {},
   "source": [
    "##### 11. Create a Python class called `Shape` with a polymorphic method `area()` that calculates the area of different shapes (e.g., circle, rectangle, triangle)."
   ]
  },
  {
   "cell_type": "code",
   "execution_count": 15,
   "metadata": {},
   "outputs": [
    {
     "name": "stdout",
     "output_type": "stream",
     "text": [
      "Area of circle = 615.44\n",
      "Area of square = 16\n",
      "Area of rectangle = 72\n",
      "Area of triangle = 36.0\n"
     ]
    }
   ],
   "source": [
    "# import ABC, abstractmethod from abc module\n",
    "from abc import ABC, abstractmethod\n",
    "# create a class Shapes that inherits ABC class\n",
    "class Shapes(ABC):\n",
    "    # create an abstract method with the help of @abstractmethod\n",
    "    @abstractmethod\n",
    "    def calculate_area(self):\n",
    "        pass\n",
    "# creata a class for the shapes which has one dimension only. This class inherits Shapes class\n",
    "class One_dimension_shape(Shapes):\n",
    "    # create the constructor of class\n",
    "    def __init__(self, dimension, shape) -> None:\n",
    "        # assign values to instance variable\n",
    "        self.shape = shape\n",
    "        self.dimension = dimension\n",
    "    # define calculate_area() abstract method of Shapes class in the current class\n",
    "    def calculate_area(self):\n",
    "        # shape is circle the calculate area of circle\n",
    "        if self.shape.lower() == 'circle':\n",
    "            return 3.14*self.dimension*self.dimension\n",
    "        # shape is sqaure the calculate area of sqaure\n",
    "        elif self.shape.lower() == 'square':\n",
    "            return self.dimension*self.dimension\n",
    "\n",
    "# creata a class for the shapes which has one dimension only. This class inherits Shapes class\n",
    "class Two_dimension_shape(Shapes):\n",
    "    # create the constructor of class\n",
    "    def __init__(self, height, width, shape) -> None:\n",
    "        # assign values to instance variable\n",
    "        self.height = height\n",
    "        self.width = width\n",
    "        self.shape = shape\n",
    "    # define calculate_area() abstract method of Shapes class in the current class\n",
    "    def calculate_area(self):\n",
    "        # shape is triangle the calculate area of triangle\n",
    "        if self.shape.lower() == 'triangle':\n",
    "            return 0.5*self.height*self.width\n",
    "        # shape is rectangle the calculate area of rectangle\n",
    "        elif self.shape.lower() == 'rectangle':\n",
    "            return self.height*self.width\n",
    "# create object of One_dimension_shape class and call method calculate_area()\n",
    "obj1 = One_dimension_shape(shape='circle', dimension=14)\n",
    "print(f\"Area of {obj1.shape} = {obj1.calculate_area()}\")\n",
    "\n",
    "# create object of One_dimension_shape class and call method calculate_area()\n",
    "obj1 = One_dimension_shape(shape='square', dimension=4)\n",
    "print(f\"Area of {obj1.shape} = {obj1.calculate_area()}\")\n",
    "\n",
    "# create object of Two_dimension_shape class and call method calculate_area()\n",
    "obj1 = Two_dimension_shape(shape='rectangle', width=12, height= 6)\n",
    "print(f\"Area of {obj1.shape} = {obj1.calculate_area()}\")\n",
    "\n",
    "# create object of Two_dimension_shape class and call method calculate_area()\n",
    "obj1 = Two_dimension_shape(shape='triangle', width=12, height= 6)\n",
    "print(f\"Area of {obj1.shape} = {obj1.calculate_area()}\")"
   ]
  },
  {
   "cell_type": "markdown",
   "metadata": {},
   "source": [
    "##### 12. Discuss the benefits of polymorphism in terms of code reusability and flexibility in Python programs.\n"
   ]
  },
  {
   "cell_type": "markdown",
   "metadata": {},
   "source": [
    "##### **Ans :** In polymorphism, we can make skeleton for the classes to give them an ideqa about how to execute their requirements according to their own way via abstract classes. So the same abstract class can be worked fine for all the sub-classes hence achieved reusability and flexibility."
   ]
  },
  {
   "cell_type": "markdown",
   "metadata": {},
   "source": [
    "##### 13. Explain the use of the `super()` function in Python polymorphism. How does it help call methods of parent classes?"
   ]
  },
  {
   "cell_type": "markdown",
   "metadata": {},
   "source": [
    "##### **Ans :** In python polymorphism, super() method is used for method overriding and constructor overriding. Using super() method, we can actually call the methods of super class inside the child class. It means function with same name can exists in both child class and subclass, but we can also bring the functionality of that parent class method in sub class using super() method."
   ]
  },
  {
   "cell_type": "markdown",
   "metadata": {},
   "source": [
    "##### 14. Create a Python class hierarchy for a banking system with various account types (e.g., savings, checking, credit card) and demonstrate polymorphism by implementing a common `withdraw()` method."
   ]
  },
  {
   "cell_type": "code",
   "execution_count": 26,
   "metadata": {},
   "outputs": [
    {
     "name": "stdout",
     "output_type": "stream",
     "text": [
      "Savings Bank Account [Account Owner Name : Mr. Kelvin Clan , Account Number : 1977700999936499 , Account Balance : 29000]\n",
      "Checkin Bank Account [Account Owner Name : Ms. Cristien Alfer , Account Number : 19777009999712442 , Account Balance : 466000]\n",
      "Credit Card Bank Account [Account Owner Name : Mr. Kelvin Clan , Account Number : 1977700999936499 , Account Balance : 29000]\n"
     ]
    }
   ],
   "source": [
    "# import ABC, abstractmethod from abc module\n",
    "from abc import ABC, abstractmethod\n",
    "# create a class BankAccount that inherits ABC class\n",
    "class BankAccount:\n",
    "    # create an abstract method with the help of @abstractmethod\n",
    "    @abstractmethod\n",
    "    def deposit_money():\n",
    "        pass \n",
    "    # create an abstract method with the help of @abstractmethod\n",
    "    @abstractmethod\n",
    "    def withdraw_money():\n",
    "        pass\n",
    "# create a class Savings_Bank_account that inherits Bank_Acccount class\n",
    "class Savings_Bank_account(BankAccount):\n",
    "    # create a class attribute to store all bank account objects\n",
    "    all_accounts = []\n",
    "    # initialize a constructor which takes 3 formal parameters - account name, accountr number, balance\n",
    "    def __init__(account, account_name:str, account_number:int, balance:float):\n",
    "        # create a instance variable to store account number\n",
    "        account.account_number = account_number\n",
    "        # create a instance variable to store account name\n",
    "        account.account_name = account_name\n",
    "        # create a instance variable to store account balance\n",
    "        account.balance = balance\n",
    "        # append the current object in class attribute list \n",
    "        Savings_Bank_account.all_accounts.append(account)\n",
    "    # create a method to diposit amount in bank account\n",
    "    def deposit_money(account, amount):\n",
    "        # create a try block coz user can put negative value to deposit\n",
    "        try:\n",
    "            # if amount is greater than eq. to 0 then add it to balance\n",
    "            if amount>0: \n",
    "                account.balance += amount\n",
    "            # if amount is negative , raise a value error with appropriate message.\n",
    "            else:\n",
    "                raise ValueError(\"Enter a valid positive amount\")\n",
    "        # catch the value error in execpt block and print the message passed with execption\n",
    "        except ValueError as v:\n",
    "            print(v)\n",
    "        # create another except block to catch errors which are anamolous to admin and print the message\n",
    "        except Exception as E:\n",
    "            print(E)\n",
    "    # create a method to withdraw money\n",
    "    def withdraw_money(account, amount):\n",
    "        # create a try block coz there may be a possibility that balance < amount to be withdrawn\n",
    "        try:\n",
    "            # if balance is greater than or eq. to amount to be withdrawn\n",
    "            if account.balance>=amount :\n",
    "                # withdraw the money and decrease the balance.\n",
    "                account.balance -= amount\n",
    "            # otherwise balance < to amount to be withdrawn\n",
    "            else:\n",
    "                # raise the value error exception with an appropriate message.\n",
    "                raise ValueError(\"Balance is not sufficient to withdraw\")\n",
    "        # catch the value error in execpt block and print the message passed with execption\n",
    "        except ValueError as v:\n",
    "            print(v)\n",
    "        # create another except block to catch errors which are anamolous to admin and print the message\n",
    "        except Exception as E:\n",
    "            print(E)\n",
    "    # initialize a repr Dunder method\n",
    "    def __repr__(account) -> str:\n",
    "        # return an appropriate message regarding current object\n",
    "        return f'Savings Bank Account [Account Owner Name : {account.account_name} , Account Number : {account.account_number} , Account Balance : {account.balance}]'\n",
    "\n",
    "# create object of saving bank account\n",
    "account1 = Savings_Bank_account(\"Mr. Kelvin Clan\", 1977700999936499, 0)\n",
    "# call respective method to deposit method\n",
    "account1.deposit_money(30000)\n",
    "# call respective method to withdraw method\n",
    "account1.withdraw_money(1000)\n",
    "print(account1)\n",
    "\n",
    "\n",
    "# create a class Savings_Bank_account that inherits Bank_Acccount class\n",
    "class Checkin_Bank_account(BankAccount):\n",
    "    # create a class attribute to store all bank account objects\n",
    "    all_accounts = []\n",
    "    # initialize a constructor which takes 3 formal parameters - account name, accountr number, balance\n",
    "    def __init__(account, account_name:str, account_number:int, balance:float):\n",
    "        # create a instance variable to store account number\n",
    "        account.account_number = account_number\n",
    "        # create a instance variable to store account name\n",
    "        account.account_name = account_name\n",
    "        # create a instance variable to store account balance\n",
    "        account.balance = balance\n",
    "        # append the current object in class attribute list \n",
    "        Checkin_Bank_account.all_accounts.append(account)\n",
    "    # create a method to diposit amount in bank account\n",
    "    def deposit_money(account, amount):\n",
    "        # create a try block coz user can put negative value to deposit\n",
    "        try:\n",
    "            # if amount is greater than eq. to 0 then add it to balance\n",
    "            if amount>0: \n",
    "                account.balance += amount\n",
    "            # if amount is negative , raise a value error with appropriate message.\n",
    "            else:\n",
    "                raise ValueError(\"Enter a valid positive amount\")\n",
    "        # catch the value error in execpt block and print the message passed with execption\n",
    "        except ValueError as v:\n",
    "            print(v)\n",
    "        # create another except block to catch errors which are anamolous to admin and print the message\n",
    "        except Exception as E:\n",
    "            print(E)\n",
    "    # create a method to withdraw money\n",
    "    def withdraw_money(account, amount):\n",
    "        # create a try block coz there may be a possibility that balance < amount to be withdrawn\n",
    "        try:\n",
    "            # if balance is greater than or eq. to amount to be withdrawn\n",
    "            if account.balance>=amount :\n",
    "                # withdraw the money and decrease the balance.\n",
    "                account.balance -= amount\n",
    "            # otherwise balance < to amount to be withdrawn\n",
    "            else:\n",
    "                # raise the value error exception with an appropriate message.\n",
    "                raise ValueError(\"Balance is not sufficient to withdraw\")\n",
    "        # catch the value error in execpt block and print the message passed with execption\n",
    "        except ValueError as v:\n",
    "            print(v)\n",
    "        # create another except block to catch errors which are anamolous to admin and print the message\n",
    "        except Exception as E:\n",
    "            print(E)\n",
    "    # initialize a repr Dunder method\n",
    "    def __repr__(account) -> str:\n",
    "        # return an appropriate message regarding current object\n",
    "        return f'Checkin Bank Account [Account Owner Name : {account.account_name} , Account Number : {account.account_number} , Account Balance : {account.balance}]'\n",
    "\n",
    "# create object of checking bank account\n",
    "account2 = Checkin_Bank_account(\"Ms. Cristien Alfer\", 19777009999712442, 0)\n",
    "# call respective method to deposit method\n",
    "account2.deposit_money(500000)\n",
    "# call respective method to withdraw method\n",
    "account2.withdraw_money(34000)\n",
    "print(account2)\n",
    "\n",
    "# create a class Credit_Card_Account that inherits Bank_Acccount class\n",
    "class Credit_Card_Account(BankAccount):\n",
    "    # create a class attribute to store all bank account objects\n",
    "    all_accounts = []\n",
    "    # initialize a constructor which takes 3 formal parameters - account name, accountr number, balance\n",
    "    def __init__(account, account_name:str, account_number:int, balance:float):\n",
    "        # create a instance variable to store account number\n",
    "        account.account_number = account_number\n",
    "        # create a instance variable to store account name\n",
    "        account.account_name = account_name\n",
    "        # create a instance variable to store account balance\n",
    "        account.balance = balance\n",
    "        # append the current object in class attribute list \n",
    "        Credit_Card_Account.all_accounts.append(account)\n",
    "    # create a method to diposit amount in bank account\n",
    "    def deposit_money(account, amount):\n",
    "        # create a try block coz user can put negative value to deposit\n",
    "        try:\n",
    "            # if amount is greater than eq. to 0 then add it to balance\n",
    "            if amount>0: \n",
    "                account.balance += amount\n",
    "            # if amount is negative , raise a value error with appropriate message.\n",
    "            else:\n",
    "                raise ValueError(\"Enter a valid positive amount\")\n",
    "        # catch the value error in execpt block and print the message passed with execption\n",
    "        except ValueError as v:\n",
    "            print(v)\n",
    "        # create another except block to catch errors which are anamolous to admin and print the message\n",
    "        except Exception as E:\n",
    "            print(E)\n",
    "    # create a method to withdraw money\n",
    "    def withdraw_money(account, amount):\n",
    "        # create a try block coz there may be a possibility that balance < amount to be withdrawn\n",
    "        try:\n",
    "            # if balance is greater than or eq. to amount to be withdrawn\n",
    "            if account.balance>=amount :\n",
    "                # withdraw the money and decrease the balance.\n",
    "                account.balance -= amount\n",
    "            # otherwise balance < to amount to be withdrawn\n",
    "            else:\n",
    "                # raise the value error exception with an appropriate message.\n",
    "                raise ValueError(\"Balance is not sufficient to withdraw\")\n",
    "        # catch the value error in execpt block and print the message passed with execption\n",
    "        except ValueError as v:\n",
    "            print(v)\n",
    "        # create another except block to catch errors which are anamolous to admin and print the message\n",
    "        except Exception as E:\n",
    "            print(E)\n",
    "    # initialize a repr Dunder method\n",
    "    def __repr__(account) -> str:\n",
    "        # return an appropriate message regarding current object\n",
    "        return f'Credit Card Bank Account [Account Owner Name : {account.account_name} , Account Number : {account.account_number} , Account Balance : {account.balance}]'\n",
    "\n",
    "# create object of Credit_Card_Account\n",
    "account3 = Credit_Card_Account(\"Mr. Kelvin Clan\", 1977700999936499, 0)\n",
    "# call respective method to deposit method\n",
    "account3.deposit_money(30000)\n",
    "# call respective method to withdraw method\n",
    "account3.withdraw_money(1000)\n",
    "print(account3)"
   ]
  },
  {
   "cell_type": "markdown",
   "metadata": {},
   "source": [
    "##### 15. Describe the concept of operator overloading in Python and how it relates to polymorphism. Provide examples using operators like `+` and `*`."
   ]
  },
  {
   "cell_type": "markdown",
   "metadata": {},
   "source": [
    "##### **Ans :** Concept of operator overloading in python states that some specific operators can operate differently according the type of data that they are handling or applied on. Hence show polymorphism because these operators are behaving differently based on diiferent data on which these operators are applied. example -"
   ]
  },
  {
   "cell_type": "code",
   "execution_count": 28,
   "metadata": {},
   "outputs": [
    {
     "name": "stdout",
     "output_type": "stream",
     "text": [
      "56 + 49 = 105\n",
      "red + blue = redblue\n",
      "56 * 2 = 112\n",
      "red * 4 = redredredred\n"
     ]
    }
   ],
   "source": [
    "# example of addition operator +\n",
    "# addition of two number\n",
    "print(f'56 + 49 = {56+49}')\n",
    "\n",
    "# addition of 2 strings\n",
    "c1 = 'red'\n",
    "c2 = 'blue'\n",
    "print(f'{c1} + {c2} = {c1+c2}')\n",
    "\n",
    "# example of multiply *\n",
    "# multiplication of 2 integers\n",
    "print(f'56 * 2 = {56*2}')\n",
    "# multiplication of string with an integer\n",
    "c1 = 'red'\n",
    "c2 = 4\n",
    "print(f'{c1} * {c2} = {c1*c2}')"
   ]
  },
  {
   "cell_type": "markdown",
   "metadata": {},
   "source": [
    "##### 16. What is dynamic polymorphism, and how is it achieved in Python?"
   ]
  },
  {
   "cell_type": "markdown",
   "metadata": {},
   "source": [
    "##### **Ans :** Dynamic Polymorphism is also called late bindning or runtime binding. It is a concept of defining of function in child class that has already been created in parent class. It is achieved via inheritance. A class can inherits the properties, attributes, member functions of parent class. This child class can define these parent class functions according it its requirement hence acieved dynamic polymorphism."
   ]
  },
  {
   "cell_type": "markdown",
   "metadata": {},
   "source": [
    "##### 17. Create a Python class hierarchy for employees in a company (e.g., manager, developer, designer) and implement polymorphism through a common `calculate_salary()` method."
   ]
  },
  {
   "cell_type": "code",
   "execution_count": 8,
   "metadata": {},
   "outputs": [
    {
     "name": "stdout",
     "output_type": "stream",
     "text": [
      "Manager Details : name = Mr. Kelvin Clan, gender = Male, employee_id = emp2652, yearly gross salary = 1000000, monthly salary= 69800.0\n",
      "Developer Details : name = Ms. Cristine, gender = Female, employee_id = emp6274, yearly gross salary = 800000, monthly salary= 56883.333333333336\n",
      "Designer Details : name = Mr. John Doe, gender = Male, employee_id = emp9723, yearly gross salary = 700000, monthly salary= 50216.666666666664\n"
     ]
    }
   ],
   "source": [
    "# import ABC class and abstractmethod decorator from abc module\n",
    "from abc import ABC, abstractmethod\n",
    "# create a class that inherits ABC class\n",
    "class Employees(ABC):\n",
    "    # create abstract method using @abstractmethod\n",
    "    @abstractmethod\n",
    "    def show_employee_details():\n",
    "        pass \n",
    "    # create abstract method using @abstractmethod\n",
    "    @abstractmethod\n",
    "    def calculate_salary():\n",
    "        pass \n",
    "\n",
    "# create a class Manager that inherits Employees class\n",
    "class Manager(Employees):\n",
    "    # create comstructor that receives some arguments related to manager\n",
    "    def __init__(self, name, gender, emp_id, gross_salary) -> None:\n",
    "        # assign values to member attributes\n",
    "        self.name = name \n",
    "        self.gender = gender \n",
    "        self.emp_id = emp_id\n",
    "        self.gross_salary = gross_salary\n",
    "    \n",
    "    # define parent class method in child class to show details\n",
    "    def show_employee_details(self):\n",
    "        print(f'Manager Details : name = {self.name}, gender = {self.gender}, employee_id = {self.emp_id}, yearly gross salary = {self.gross_salary}, monthly salary= {self.calculate_salary()}')\n",
    "    \n",
    "    # define parent class method in child class to calculate salary\n",
    "    def calculate_salary(self):\n",
    "        # calculate hra  i.e. 10% of gross\n",
    "        hra = self.gross_salary *10/100\n",
    "        # professional tax is 200 always\n",
    "        professional_tax = 200\n",
    "        # initialize tax as 0\n",
    "        tax = 0\n",
    "        # if self.gross_salary <= 3lakh then no tax applies\n",
    "        if self.gross_salary<=300000:\n",
    "            tax = 0\n",
    "        # if self.gross_salary is between 3 lakh to 6 lakh then 5% tax is applicable on self.gross_salary above 3 lakh\n",
    "        elif self.gross_salary>300000 and self.gross_salary <= 600000:\n",
    "            tax = (self.gross_salary-300000)*5/100\n",
    "        # if self.gross_salary is between 6lakh to 9 lakh then 5% tax is applicable on amount from 3 lakh to 6lakh and 10% tax is applicable above 6 lakh \n",
    "        elif self.gross_salary>600000 and self.gross_salary<900000:\n",
    "            tax = (self.gross_salary-600000)*10/100 + 300000*5/100 \n",
    "        # if self.gross_salary is between 9lakh to 12 lakh then 5% tax is applicable on amount from 3 lakh to 6lakh and 10% tax is applicable from 6 lakh to 9lakh and \n",
    "        # 15% tax is applicable above 9 lakh \n",
    "        elif self.gross_salary>900000 and self.gross_salary<=1200000:\n",
    "            tax = (self.gross_salary-900000)*15/100 + 300000*10/100 + 300000*5/100 \n",
    "        # if self.gross_salary is between 12lakh to 15 lakh then 5% tax is applicable on amount from 3 lakh to 6lakh and 10% tax is applicable from 6 lakh to 9lakh and \n",
    "        # 15% tax is applicable 9 lakh to 12 lakh and 20% tax on above 12 lakh\n",
    "        elif self.gross_salary>1200000 and self.gross_salary<=1500000:\n",
    "            tax = (self.gross_salary-1200000)*20/100 + 300000*15/100 + 300000*10/100 + 300000*5/100 \n",
    "        # if self.gross_salary > 15lakh then 5% tax is applicable on amount from 3 lakh to 6lakh and 10% tax is applicable from 6 lakh to 9lakh and \n",
    "        # 15% tax is applicable 9 lakh to 12 lakh and 20% tax from 12 lakh to15 lakh and 30% tax on above 15 lakh\n",
    "        else:\n",
    "            tax = (self.gross_salary-1500000)*30/100 + 300000*20/100 + 300000*15/100 + 300000*10/100 + 300000*5/100 \n",
    "        # calculate monthly salary\n",
    "        salary = (self.gross_salary - hra - tax)/12 - professional_tax\n",
    "        # return salary\n",
    "        return salary \n",
    "# create object of Manager class and pass required arguments\n",
    "obj_manager = Manager('Mr. Kelvin Clan', 'Male', 'emp2652', 1000000)\n",
    "# call show_employee_details() method of manager class\n",
    "obj_manager.show_employee_details()\n",
    "\n",
    "\n",
    "\n",
    "# create a class Developer that inherits Employees class\n",
    "class Developer(Employees):\n",
    "    # create comstructor that receives some arguments related to manager\n",
    "    def __init__(self, name, gender, emp_id, gross_salary) -> None:\n",
    "        # assign values to member attributes\n",
    "        self.name = name \n",
    "        self.gender = gender \n",
    "        self.emp_id = emp_id\n",
    "        self.gross_salary = gross_salary\n",
    "    \n",
    "    # define parent class method in child class to show details\n",
    "    def show_employee_details(self):\n",
    "        print(f'Developer Details : name = {self.name}, gender = {self.gender}, employee_id = {self.emp_id}, yearly gross salary = {self.gross_salary}, monthly salary= {self.calculate_salary()}')\n",
    "    \n",
    "    # define parent class method in child class to calculate salary\n",
    "    def calculate_salary(self):\n",
    "        # calculate hra  i.e. 10% of gross\n",
    "        hra = self.gross_salary *10/100\n",
    "        # professional tax is 200 always\n",
    "        professional_tax = 200\n",
    "        # initialize tax as 0\n",
    "        tax = 0\n",
    "        # if self.gross_salary <= 3lakh then no tax applies\n",
    "        if self.gross_salary<=300000:\n",
    "            tax = 0\n",
    "        # if self.gross_salary is between 3 lakh to 6 lakh then 5% tax is applicable on self.gross_salary above 3 lakh\n",
    "        elif self.gross_salary>300000 and self.gross_salary <= 600000:\n",
    "            tax = (self.gross_salary-300000)*5/100\n",
    "        # if self.gross_salary is between 6lakh to 9 lakh then 5% tax is applicable on amount from 3 lakh to 6lakh and 10% tax is applicable above 6 lakh \n",
    "        elif self.gross_salary>600000 and self.gross_salary<900000:\n",
    "            tax = (self.gross_salary-600000)*10/100 + 300000*5/100 \n",
    "        # if self.gross_salary is between 9lakh to 12 lakh then 5% tax is applicable on amount from 3 lakh to 6lakh and 10% tax is applicable from 6 lakh to 9lakh and \n",
    "        # 15% tax is applicable above 9 lakh \n",
    "        elif self.gross_salary>900000 and self.gross_salary<=1200000:\n",
    "            tax = (self.gross_salary-900000)*15/100 + 300000*10/100 + 300000*5/100 \n",
    "        # if self.gross_salary is between 12lakh to 15 lakh then 5% tax is applicable on amount from 3 lakh to 6lakh and 10% tax is applicable from 6 lakh to 9lakh and \n",
    "        # 15% tax is applicable 9 lakh to 12 lakh and 20% tax on above 12 lakh\n",
    "        elif self.gross_salary>1200000 and self.gross_salary<=1500000:\n",
    "            tax = (self.gross_salary-1200000)*20/100 + 300000*15/100 + 300000*10/100 + 300000*5/100 \n",
    "        # if self.gross_salary > 15lakh then 5% tax is applicable on amount from 3 lakh to 6lakh and 10% tax is applicable from 6 lakh to 9lakh and \n",
    "        # 15% tax is applicable 9 lakh to 12 lakh and 20% tax from 12 lakh to15 lakh and 30% tax on above 15 lakh\n",
    "        else:\n",
    "            tax = (self.gross_salary-1500000)*30/100 + 300000*20/100 + 300000*15/100 + 300000*10/100 + 300000*5/100 \n",
    "        # calculate monthly salary\n",
    "        salary = (self.gross_salary - hra - tax)/12 - professional_tax\n",
    "        # return salary\n",
    "        return salary \n",
    "# create object of Developer class and pass required arguments\n",
    "obj_Developer = Developer('Ms. Cristine', 'Female', 'emp6274', 800000)\n",
    "# call show_employee_details() method of Developer class\n",
    "obj_Developer.show_employee_details()\n",
    "\n",
    "\n",
    "\n",
    "# create a class Designer that inherits Employees class\n",
    "class Designer(Employees):\n",
    "    # create comstructor that receives some arguments related to Designer\n",
    "    def __init__(self, name, gender, emp_id, gross_salary) -> None:\n",
    "        # assign values to member attributes\n",
    "        self.name = name \n",
    "        self.gender = gender \n",
    "        self.emp_id = emp_id\n",
    "        self.gross_salary = gross_salary\n",
    "    \n",
    "    # define parent class method in child class to show details\n",
    "    def show_employee_details(self):\n",
    "        print(f'Designer Details : name = {self.name}, gender = {self.gender}, employee_id = {self.emp_id}, yearly gross salary = {self.gross_salary}, monthly salary= {self.calculate_salary()}')\n",
    "    \n",
    "    # define parent class method in child class to calculate salary\n",
    "    def calculate_salary(self):\n",
    "        # calculate hra  i.e. 10% of gross\n",
    "        hra = self.gross_salary *10/100\n",
    "        # professional tax is 200 always\n",
    "        professional_tax = 200\n",
    "        # initialize tax as 0\n",
    "        tax = 0\n",
    "        # if self.gross_salary <= 3lakh then no tax applies\n",
    "        if self.gross_salary<=300000:\n",
    "            tax = 0\n",
    "        # if self.gross_salary is between 3 lakh to 6 lakh then 5% tax is applicable on self.gross_salary above 3 lakh\n",
    "        elif self.gross_salary>300000 and self.gross_salary <= 600000:\n",
    "            tax = (self.gross_salary-300000)*5/100\n",
    "        # if self.gross_salary is between 6lakh to 9 lakh then 5% tax is applicable on amount from 3 lakh to 6lakh and 10% tax is applicable above 6 lakh \n",
    "        elif self.gross_salary>600000 and self.gross_salary<900000:\n",
    "            tax = (self.gross_salary-600000)*10/100 + 300000*5/100 \n",
    "        # if self.gross_salary is between 9lakh to 12 lakh then 5% tax is applicable on amount from 3 lakh to 6lakh and 10% tax is applicable from 6 lakh to 9lakh and \n",
    "        # 15% tax is applicable above 9 lakh \n",
    "        elif self.gross_salary>900000 and self.gross_salary<=1200000:\n",
    "            tax = (self.gross_salary-900000)*15/100 + 300000*10/100 + 300000*5/100 \n",
    "        # if self.gross_salary is between 12lakh to 15 lakh then 5% tax is applicable on amount from 3 lakh to 6lakh and 10% tax is applicable from 6 lakh to 9lakh and \n",
    "        # 15% tax is applicable 9 lakh to 12 lakh and 20% tax on above 12 lakh\n",
    "        elif self.gross_salary>1200000 and self.gross_salary<=1500000:\n",
    "            tax = (self.gross_salary-1200000)*20/100 + 300000*15/100 + 300000*10/100 + 300000*5/100 \n",
    "        # if self.gross_salary > 15lakh then 5% tax is applicable on amount from 3 lakh to 6lakh and 10% tax is applicable from 6 lakh to 9lakh and \n",
    "        # 15% tax is applicable 9 lakh to 12 lakh and 20% tax from 12 lakh to15 lakh and 30% tax on above 15 lakh\n",
    "        else:\n",
    "            tax = (self.gross_salary-1500000)*30/100 + 300000*20/100 + 300000*15/100 + 300000*10/100 + 300000*5/100 \n",
    "        # calculate monthly salary\n",
    "        salary = (self.gross_salary - hra - tax)/12 - professional_tax\n",
    "        # return salary\n",
    "        return salary \n",
    "# create object of Designer class and pass required arguments\n",
    "obj_Designer = Designer('Mr. John Doe', 'Male', 'emp9723', 700000)\n",
    "# call show_employee_details() method of Designer class\n",
    "obj_Designer.show_employee_details()\n"
   ]
  },
  {
   "cell_type": "markdown",
   "metadata": {},
   "source": [
    "##### 18. Discuss the concept of function pointers and how they can be used to achieve polymorphism in Python.\n"
   ]
  },
  {
   "cell_type": "markdown",
   "metadata": {},
   "source": [
    "##### **Ans :** Function pointers are pointers that are used to referenced executable code instead of data. Function pointer is the pointer that points to function. In polymorphism, function pointer is the building blocks for implementation of code and allows to extend the existing logic."
   ]
  },
  {
   "cell_type": "markdown",
   "metadata": {},
   "source": [
    "##### 19. Explain the role of interfaces and abstract classes in polymorphism, drawing comparisons between them.\n"
   ]
  },
  {
   "cell_type": "markdown",
   "metadata": {},
   "source": [
    "##### **Ans :** Abstract classes in polymorphism works as skeleton for sub clasess to define the already created functionalities in their own way. Abstract class can have abstract and non-abstract methods. Abstract class can provide implementation of interface. To use abstact class, we need to inherit it.\n",
    "##### Interface in polymorphism acts as a guideline for the implementation of tasks. Interface only have abstract methods only. Interface can not provide any implementation of any class or method. To use interface, we need to implement it."
   ]
  },
  {
   "cell_type": "markdown",
   "metadata": {},
   "source": [
    "##### 20. Create a Python class for a zoo simulation, demonstrating polymorphism with different animal types (e.g., mammals, birds, reptiles) and their behavior (e.g., eating, sleeping, making sounds).\n",
    "\n"
   ]
  },
  {
   "cell_type": "code",
   "execution_count": 12,
   "metadata": {},
   "outputs": [
    {
     "name": "stdout",
     "output_type": "stream",
     "text": [
      "Mammal : Lion age is 12\n",
      "Mammal : Lion eats meat balls\n",
      "Mammal : Lion sleeps in cage\n",
      "Mammal : Lion speaks Roar Roar\n",
      "Bird : Sparrow age is 1.5\n",
      "Bird : Sparrow eats bajra\n",
      "Bird : Sparrow sleeps in nest\n",
      "Bird : Sparrow speaks chirp chirp\n",
      "Reptile : Crocodile age is 5\n",
      "Reptile : Crocodile eats non-veg\n",
      "Reptile : Crocodile sleeps in forest\n",
      "Reptile : Crocodile speaks Hawn Hawn\n"
     ]
    }
   ],
   "source": [
    "# import ABC class, abstractmethod decorator from abc module\n",
    "from abc import ABC, abstractmethod\n",
    "# create a Zoo class that inherits ABC class\n",
    "class Zoo(ABC):\n",
    "    # create abstract method using @abstractmethod decorator to eat\n",
    "    @abstractmethod\n",
    "    def eat():\n",
    "        pass \n",
    "    # create abstract method using @abstractmethod decorator to sleep\n",
    "    @abstractmethod\n",
    "    def sleep():\n",
    "        pass \n",
    "    # create abstract method using @abstractmethod decorator to speak\n",
    "    @abstractmethod\n",
    "    def speak():\n",
    "        pass \n",
    "    # create abstract method using @abstractmethod decorator to speak\n",
    "    @abstractmethod\n",
    "    def age():\n",
    "        pass \n",
    "# create a class Mammals that inherits Zoo class\n",
    "class Mammals(Zoo):\n",
    "    # create constructor that ask for some arguments\n",
    "    def __init__(self, name, age, sound) -> None:\n",
    "        # assign values to instance variables\n",
    "        self.name = name \n",
    "        self.age_of_mammal = age\n",
    "        self.sound = sound \n",
    "    # define the method age that has already been created in abstract super class\n",
    "    def age(self):\n",
    "        print(f'Mammal : {self.name} age is {self.age_of_mammal}')\n",
    "    # define the method eat that has already been created in abstract super class\n",
    "    def eat(self):\n",
    "        print(f'Mammal : {self.name} eats meat balls')\n",
    "    # define the method sleep that has already been created in abstract super class\n",
    "    def sleep(self):\n",
    "        print(f'Mammal : {self.name} sleeps in cage')\n",
    "    # define the method speak that has already been created in abstract super class\n",
    "    def speak(self):\n",
    "        print(f'Mammal : {self.name} speaks {self.sound}')\n",
    "\n",
    "# create object of Mammal\n",
    "obj_m = Mammals('Lion',12,'Roar Roar')\n",
    "# call the age() method of Mammal class\n",
    "obj_m.age()\n",
    "# call the eat() method of Mammal class\n",
    "obj_m.eat()\n",
    "# call the sleep() method of Mammal class\n",
    "obj_m.sleep()\n",
    "# call the speak() method of Mammal class\n",
    "obj_m.speak()\n",
    "\n",
    "\n",
    "# create a class Birds that inherits Zoo class\n",
    "class Birds(Zoo):\n",
    "    # create constructor that ask for some arguments\n",
    "    def __init__(self, name, age, sound) -> None:\n",
    "        # assign values to instance variables\n",
    "        self.name = name \n",
    "        self.age_of_Bird = age\n",
    "        self.sound = sound \n",
    "    # define the method age that has already been created in abstract super class\n",
    "    def age(self):\n",
    "        print(f'Bird : {self.name} age is {self.age_of_Bird}')\n",
    "    # define the method eat that has already been created in abstract super class\n",
    "    def eat(self):\n",
    "        print(f'Bird : {self.name} eats bajra')\n",
    "    # define the method sleep that has already been created in abstract super class\n",
    "    def sleep(self):\n",
    "        print(f'Bird : {self.name} sleeps in nest')\n",
    "    # define the method speak that has already been created in abstract super class\n",
    "    def speak(self):\n",
    "        print(f'Bird : {self.name} speaks {self.sound}')\n",
    "\n",
    "# create object of Bird\n",
    "obj_m = Birds('Sparrow',1.5,'chirp chirp')\n",
    "# call the age() method of Bird class\n",
    "obj_m.age()\n",
    "# call the eat() method of Bird class\n",
    "obj_m.eat()\n",
    "# call the sleep() method of Bird class\n",
    "obj_m.sleep()\n",
    "# call the speak() method of Bird class\n",
    "obj_m.speak()\n",
    "\n",
    "\n",
    "# create a class Reptiles that inherits Zoo class\n",
    "class Reptiles(Zoo):\n",
    "    # create constructor that ask for some arguments\n",
    "    def __init__(self, name, age, sound) -> None:\n",
    "        # assign values to instance variables\n",
    "        self.name = name \n",
    "        self.age_of_Reptile = age\n",
    "        self.sound = sound \n",
    "    # define the method age that has already been created in abstract super class\n",
    "    def age(self):\n",
    "        print(f'Reptile : {self.name} age is {self.age_of_Reptile}')\n",
    "    # define the method eat that has already been created in abstract super class\n",
    "    def eat(self):\n",
    "        print(f'Reptile : {self.name} eats non-veg')\n",
    "    # define the method sleep that has already been created in abstract super class\n",
    "    def sleep(self):\n",
    "        print(f'Reptile : {self.name} sleeps in forest')\n",
    "    # define the method speak that has already been created in abstract super class\n",
    "    def speak(self):\n",
    "        print(f'Reptile : {self.name} speaks {self.sound}')\n",
    "\n",
    "# create object of Reptile\n",
    "obj_m = Reptiles('Crocodile',5,'Hawn Hawn')\n",
    "# call the age() method of Reptile class\n",
    "obj_m.age()\n",
    "# call the eat() method of Reptile class\n",
    "obj_m.eat()\n",
    "# call the sleep() method of Reptile class\n",
    "obj_m.sleep()\n",
    "# call the speak() method of Reptile class\n",
    "obj_m.speak()"
   ]
  },
  {
   "cell_type": "markdown",
   "metadata": {},
   "source": [
    "# ***`Abstraction:`***"
   ]
  },
  {
   "cell_type": "markdown",
   "metadata": {},
   "source": [
    "##### 1. What is abstraction in Python, and how does it relate to object-oriented programming?\n"
   ]
  },
  {
   "cell_type": "markdown",
   "metadata": {},
   "source": [
    "##### **Ans :** Abstraction in python is a concept of hiding the implementation of task or unnecessary details and expose only necessary information to the user. In object oriented programming, class has so many functions. Each function has specific task to perform but when we create the object of that class, we call these functions using object. We don't need to know what is the logic behind these functions, we call the function and simply get the result."
   ]
  },
  {
   "cell_type": "markdown",
   "metadata": {},
   "source": [
    "##### 2. Describe the benefits of abstraction in terms of code organization and complexity reduction.\n"
   ]
  },
  {
   "cell_type": "markdown",
   "metadata": {},
   "source": [
    "##### **Ans :** Abstraction is a concept of hiding unnecessary details of implementation or logics of the task and showing only necessary details to user. This way, it reduces the complexity for user to get the output of the specific task. It also provides modularity i.e. create seperate funtion to perform a task. This modularity helps in code maintainablity and readability."
   ]
  },
  {
   "cell_type": "markdown",
   "metadata": {},
   "source": [
    "##### 3. Create a Python class called `Shape` with an abstract method `calculate_area()`. Then, create child classes (e.g., `Circle`, `Rectangle`) that implement the `calculate_area()` method. Provide an example of using these classes."
   ]
  },
  {
   "cell_type": "code",
   "execution_count": 13,
   "metadata": {},
   "outputs": [
    {
     "name": "stdout",
     "output_type": "stream",
     "text": [
      "Area of circle = 615.44\n",
      "Area of square = 16\n",
      "Area of rectangle = 72\n",
      "Area of triangle = 36.0\n"
     ]
    }
   ],
   "source": [
    "# import ABC, abstractmethod from abc module\n",
    "from abc import ABC, abstractmethod\n",
    "# create a class Shape that inherits ABC class\n",
    "class Shape(ABC):\n",
    "    # create an abstract method with the help of @abstractmethod\n",
    "    @abstractmethod\n",
    "    def calculate_area(self):\n",
    "        pass\n",
    "# creata a class for the Shape which has one dimension only. This class inherits Shape class\n",
    "class One_dimension_shape(Shape):\n",
    "    # create the constructor of class\n",
    "    def __init__(self, dimension, shape) -> None:\n",
    "        # assign values to instance variable\n",
    "        self.shape = shape\n",
    "        self.dimension = dimension\n",
    "    # define calculate_area() abstract method of Shape class in the current class\n",
    "    def calculate_area(self):\n",
    "        # shape is circle the calculate area of circle\n",
    "        if self.shape.lower() == 'circle':\n",
    "            return 3.14*self.dimension*self.dimension\n",
    "        # shape is sqaure the calculate area of sqaure\n",
    "        elif self.shape.lower() == 'square':\n",
    "            return self.dimension*self.dimension\n",
    "\n",
    "# creata a class for the Shape which has one dimension only. This class inherits Shape class\n",
    "class Two_dimension_shape(Shape):\n",
    "    # create the constructor of class\n",
    "    def __init__(self, height, width, shape) -> None:\n",
    "        # assign values to instance variable\n",
    "        self.height = height\n",
    "        self.width = width\n",
    "        self.shape = shape\n",
    "    # define calculate_area() abstract method of Shape class in the current class\n",
    "    def calculate_area(self):\n",
    "        # shape is triangle the calculate area of triangle\n",
    "        if self.shape.lower() == 'triangle':\n",
    "            return 0.5*self.height*self.width\n",
    "        # shape is rectangle the calculate area of rectangle\n",
    "        elif self.shape.lower() == 'rectangle':\n",
    "            return self.height*self.width\n",
    "# create object of One_dimension_shape class and call method calculate_area()\n",
    "obj1 = One_dimension_shape(shape='circle', dimension=14)\n",
    "print(f\"Area of {obj1.shape} = {obj1.calculate_area()}\")\n",
    "\n",
    "# create object of One_dimension_shape class and call method calculate_area()\n",
    "obj1 = One_dimension_shape(shape='square', dimension=4)\n",
    "print(f\"Area of {obj1.shape} = {obj1.calculate_area()}\")\n",
    "\n",
    "# create object of Two_dimension_shape class and call method calculate_area()\n",
    "obj1 = Two_dimension_shape(shape='rectangle', width=12, height= 6)\n",
    "print(f\"Area of {obj1.shape} = {obj1.calculate_area()}\")\n",
    "\n",
    "# create object of Two_dimension_shape class and call method calculate_area()\n",
    "obj1 = Two_dimension_shape(shape='triangle', width=12, height= 6)\n",
    "print(f\"Area of {obj1.shape} = {obj1.calculate_area()}\")"
   ]
  },
  {
   "cell_type": "markdown",
   "metadata": {},
   "source": [
    "##### 4. Explain the concept of abstract classes in Python and how they are defined using the `abc` module. Provide an example."
   ]
  },
  {
   "cell_type": "markdown",
   "metadata": {},
   "source": [
    "##### **Ans :** Abstract class with abstract methods is a concept of providing a base skeleton or a blue print for sub classes to define their functionalities according to their requirements. in abc module, ABC is an in-built class so whomsoever class inherit it, it shows that this class is an abstract class. In this child abstract class, we can create abstract method usnig @abstractmethod decorator. Example :-"
   ]
  },
  {
   "cell_type": "code",
   "execution_count": 14,
   "metadata": {},
   "outputs": [
    {
     "name": "stdout",
     "output_type": "stream",
     "text": [
      "Hi This is data science cousre in language python\n",
      "Hi This is DSA cousre in language Java\n"
     ]
    }
   ],
   "source": [
    "# example -:\n",
    "from abc import ABC, abstractmethod\n",
    "# create a class courses\n",
    "class courses:\n",
    "    # create an abstract method using @abstractmethod decorator\n",
    "    @abstractmethod\n",
    "    def course_details():\n",
    "        pass\n",
    "# create a class Datascience that inherits courses\n",
    "class Datascience(courses):\n",
    "    # create a constructor \n",
    "    def __init__(self) -> None:\n",
    "        pass \n",
    "    # define the method course_details() of super class in current sub-class\n",
    "    def course_details(self):\n",
    "        print(\"Hi This is data science cousre in language python\")\n",
    "# create a class DSA that inherits courses\n",
    "class DSA(courses):\n",
    "    # create a constructor \n",
    "    def __init__(self) -> None:\n",
    "        pass \n",
    "    # define the method course_details() of super class in current sub-class\n",
    "    def course_details(self):\n",
    "        print(\"Hi This is DSA cousre in language Java\")\n",
    "# create object of Datascience class \n",
    "obj_ds = Datascience()\n",
    "# call course_details() method of Datascience class\n",
    "obj_ds.course_details()\n",
    "# create object of DSA class \n",
    "obj_dsa = DSA()\n",
    "# call course_details() method of DSA class\n",
    "obj_dsa.course_details()"
   ]
  },
  {
   "cell_type": "markdown",
   "metadata": {},
   "source": [
    "##### 5. How do abstract classes differ from regular classes in Python? Discuss their use cases.\n"
   ]
  },
  {
   "cell_type": "markdown",
   "metadata": {},
   "source": [
    "##### **Ans :** Abstract classes are different from regular classes in python.\n",
    "* Abstract class acts as skeleton for its sub classes. Regular classes have their own functionalities which they define for sub class to inherit.\n",
    "* Abstract class has abstract methods . Regular Class doesn't have asbtract method\n",
    "* Abstract class don't have objects. Regular class has objects.\n",
    "* Abstract class always comes into picture when the other class inherits it. Regular class can work independently as well as works with inheritance."
   ]
  },
  {
   "cell_type": "markdown",
   "metadata": {},
   "source": [
    "##### 6. Create a Python class for a bank account and demonstrate abstraction by hiding the account balance and providing methods to deposit and withdraw funds."
   ]
  },
  {
   "cell_type": "markdown",
   "metadata": {},
   "source": [
    "##### **Ans :** Here , we just need to call deposit_money() to deposit the money and withdraw_money() to withdraw the money using object. We need not to knwo the implementation and logics behind these functions, Hence achieved abstraction."
   ]
  },
  {
   "cell_type": "code",
   "execution_count": 15,
   "metadata": {},
   "outputs": [
    {
     "name": "stdout",
     "output_type": "stream",
     "text": [
      "The money 1000000 has been deposited. The balance is 1000000\n",
      "40000 has been withdrawn. The balance is 960000\n"
     ]
    }
   ],
   "source": [
    "# create a class BankAccount\n",
    "class BankAccount:\n",
    "    # create a constructor with some arguments\n",
    "    def __init__(self, name, age, gender,account_number) -> None:\n",
    "        # assign values to instance variables\n",
    "        self.name = name\n",
    "        self.age = age \n",
    "        self.gender = gender\n",
    "        self.account_no = account_number\n",
    "        self.balance = 0\n",
    "    def withdraw_money(self, money):\n",
    "        # use a try block to check if the withdrawn mobey is less than or equal to balance or not\n",
    "        try:\n",
    "            # if the withdrawn mobey is less  or equal to than balance\n",
    "            if money<=self.balance:\n",
    "                # deduct the money from the balance and print the result\n",
    "                self.balance -= money\n",
    "                print(f\"{money} has been withdrawn. The balance is {self.balance}\")\n",
    "            # the withdrawn mobey is not greater than balance then\n",
    "            else:\n",
    "                # raise the exception using raise keyword\n",
    "                raise ValueError(\"Balance is insufficient.\")\n",
    "        # catch the exception using except blockand print the exception\n",
    "        except Exception as e :\n",
    "            print(e)\n",
    "    # create a method to deposit money\n",
    "    def deposit_money(self, money):\n",
    "        # add money to balance and print the result\n",
    "        self.balance += money\n",
    "        print(f\"The money {money} has been deposited. The balance is {self.balance}\")\n",
    "# create an object of BankAccount class and pass the values to arguments\n",
    "account1 = BankAccount('Ms. Jennifer Luoise', 22, 'female', 19034093392334)\n",
    "# deposit the money using deposit_money() method\n",
    "account1.deposit_money(1000000)\n",
    "# withdraw money using withdraw_money() method. \n",
    "account1.withdraw_money(40000)"
   ]
  },
  {
   "cell_type": "markdown",
   "metadata": {},
   "source": [
    "##### 7. Discuss the concept of interface classes in Python and their role in achieving abstraction."
   ]
  },
  {
   "cell_type": "markdown",
   "metadata": {},
   "source": [
    "##### **Ans :** In python, there is no such concept of Interface. But we can say, if all the methods in abstract class are abstract methods then we can say this abstract class is the interface class.Interface class define a set of methods that must be implemented by the sub classes that implement the interface. After implementing these methods, we can directly access these methods via object of sub class without going into deep detail of method implementation.Hence, achieved abstraction."
   ]
  },
  {
   "cell_type": "markdown",
   "metadata": {},
   "source": [
    "##### 8. Create a Python class hierarchy for animals and implement abstraction by defining common methods (e.g., `eat()`, `sleep()`) in an abstract base class."
   ]
  },
  {
   "cell_type": "code",
   "execution_count": 16,
   "metadata": {},
   "outputs": [
    {
     "name": "stdout",
     "output_type": "stream",
     "text": [
      "Mammal : Lion eats meat balls\n",
      "Mammal : Lion sleeps in cage\n",
      "Bird : Sparrow eats bajra\n",
      "Bird : Sparrow sleeps in nest\n"
     ]
    }
   ],
   "source": [
    "# import ABC class, abstractmethod decorator from abc module\n",
    "from abc import ABC, abstractmethod\n",
    "# create a Animal class that inherits ABC class\n",
    "class Animal(ABC):\n",
    "    # create abstract method using @abstractmethod decorator to eat\n",
    "    @abstractmethod\n",
    "    def eat():\n",
    "        pass \n",
    "    # create abstract method using @abstractmethod decorator to sleep\n",
    "    @abstractmethod\n",
    "    def sleep():\n",
    "        pass \n",
    "\n",
    "# create a class Mammals that inherits Animal class\n",
    "class Mammals(Animal):\n",
    "    # create constructor that ask for some arguments\n",
    "    def __init__(self, name, age, sound) -> None:\n",
    "        # assign values to instance variables\n",
    "        self.name = name \n",
    "        self.age_of_mammal = age\n",
    "        self.sound = sound \n",
    "    \n",
    "    # define the method eat that has already been created in abstract super class\n",
    "    def eat(self):\n",
    "        print(f'Mammal : {self.name} eats meat balls')\n",
    "    # define the method sleep that has already been created in abstract super class\n",
    "    def sleep(self):\n",
    "        print(f'Mammal : {self.name} sleeps in cage')\n",
    "    \n",
    "# create object of Mammal\n",
    "obj_m = Mammals('Lion',12,'Roar Roar')\n",
    "# call the eat() method of Mammal class\n",
    "obj_m.eat()\n",
    "# call the sleep() method of Mammal class\n",
    "obj_m.sleep()\n",
    "\n",
    "# create a class Birds that inherits Animal class\n",
    "class Birds(Animal):\n",
    "    # create constructor that ask for some arguments\n",
    "    def __init__(self, name, age, sound) -> None:\n",
    "        # assign values to instance variables\n",
    "        self.name = name \n",
    "        self.age_of_Bird = age\n",
    "        self.sound = sound \n",
    "    \n",
    "    # define the method eat that has already been created in abstract super class\n",
    "    def eat(self):\n",
    "        print(f'Bird : {self.name} eats bajra')\n",
    "    # define the method sleep that has already been created in abstract super class\n",
    "    def sleep(self):\n",
    "        print(f'Bird : {self.name} sleeps in nest')\n",
    "    \n",
    "# create object of Bird\n",
    "obj_m = Birds('Sparrow',1.5,'chirp chirp')\n",
    "# call the eat() method of Bird class\n",
    "obj_m.eat()\n",
    "# call the sleep() method of Bird class\n",
    "obj_m.sleep()\n"
   ]
  },
  {
   "cell_type": "markdown",
   "metadata": {},
   "source": [
    "##### 9. Explain the significance of encapsulation in achieving abstraction. Provide examples."
   ]
  },
  {
   "cell_type": "markdown",
   "metadata": {},
   "source": [
    "##### **Ans :** In encapsulation, we hide the important data and in abstraction we hide implementation information. We can understand this through the below given example. Here we have hide the way through which we can access the file content and modify it. We just provide the function name to user to superficially perform the task he want to."
   ]
  },
  {
   "cell_type": "code",
   "execution_count": 17,
   "metadata": {},
   "outputs": [
    {
     "data": {
      "text/plain": [
       "'Hi, This is the example of encapsulation with abstraction'"
      ]
     },
     "execution_count": 17,
     "metadata": {},
     "output_type": "execute_result"
    }
   ],
   "source": [
    "# example -\n",
    "\n",
    "# create a class for file operations\n",
    "class File_Ops:\n",
    "    # create constructor and pass file name in instance variable\n",
    "    def __init__(self,f) -> None:\n",
    "        self.f = f \n",
    "    # create function to read file\n",
    "    def read_file(self):\n",
    "        # open the file in read mode\n",
    "        with open(self.f, 'r') as file:\n",
    "            # read the file and return the data\n",
    "            return file.read()\n",
    "    # create a function to write in file\n",
    "    def write_file(self,data):\n",
    "        # open file in write mode\n",
    "        with open(self.f, 'w') as file :\n",
    "            # write in the file\n",
    "            file.write(data)\n",
    "# create object of File_Ops class\n",
    "file_obj =  File_Ops('encapsulatio.txt')\n",
    "# call write_file() method to write in file\n",
    "file_obj.write_file('Hi, This is the example of encapsulation with abstraction')\n",
    "# call read_file() method to read from file.\n",
    "file_obj.read_file()"
   ]
  },
  {
   "cell_type": "markdown",
   "metadata": {},
   "source": [
    "##### 10. What is the purpose of abstract methods, and how do they enforce abstraction in Python classes?\n"
   ]
  },
  {
   "cell_type": "markdown",
   "metadata": {},
   "source": [
    "##### **Ans :** Abstract methods are the empty methods created in abstract classes. @abstractmethod decorator helps in creating abstract method in abstract class. This abstract method helps is a skeleton or a dummy view for subclasses to perform or implement the task/logic according to their own way and their requirements. After implementing these methods, we can directly access these methods via object of sub class without going into deep detail of method implementation.Hence, achieved abstraction."
   ]
  },
  {
   "cell_type": "markdown",
   "metadata": {},
   "source": [
    "##### 11. Create a Python class for a vehicle system and demonstrate abstraction by defining common methods (e.g., `start()`, `stop()`) in an abstract base class."
   ]
  },
  {
   "cell_type": "code",
   "execution_count": 18,
   "metadata": {},
   "outputs": [
    {
     "name": "stdout",
     "output_type": "stream",
     "text": [
      "Car has properties -> color = red, num_of_tyres = 4, speed = 240. This car is started\n",
      "Car has properties -> color = red, num_of_tyres = 4, speed = 240. This car is stopped\n",
      "Bicycle has properties -> color = black, num_of_tyres = 2, speed = 10. The bicycle is started\n",
      "Bicycle has properties -> color = black, num_of_tyres = 2, speed = 10. The bicycle is stopped\n"
     ]
    }
   ],
   "source": [
    "# from abc module, import ABC class and abstractmethod\n",
    "from abc import abstractmethod, ABC\n",
    "# create a class Vehicle and inherit ABC\n",
    "class Vehicle(ABC) :\n",
    "    # define a method as abstract method\n",
    "    @abstractmethod\n",
    "    def start():\n",
    "        pass \n",
    "    @abstractmethod\n",
    "    def stop():\n",
    "        pass \n",
    "# create a class Car and inherit Vehicle\n",
    "class Car(Vehicle):\n",
    "    # create a constructor\n",
    "    def __init__(self, num_of_tyres, color, speed) -> None:\n",
    "        # assign values of instance variables\n",
    "        self.num_of_tyres = num_of_tyres \n",
    "        self.color = color\n",
    "        self.speed = speed\n",
    "    # define the method start(), this method is abstract in Vehicle class(super class)\n",
    "    def start(self):\n",
    "        print(f\"Car has properties -> color = {self.color}, num_of_tyres = {self.num_of_tyres}, speed = {self.speed}. This car is started\")\n",
    "    # define the method stop(), this method is abstract in Vehicle class(super class)\n",
    "    def stop(self):\n",
    "        print(f\"Car has properties -> color = {self.color}, num_of_tyres = {self.num_of_tyres}, speed = {self.speed}. This car is stopped\")\n",
    "\n",
    "# create a class Bicycle and inherit Vehicle\n",
    "class BiCycle(Vehicle):\n",
    "    # create a constructor\n",
    "    def __init__(self, num_of_tyres, color, speed) -> None:\n",
    "        # assign values of instance variables\n",
    "        self.num_of_tyres = num_of_tyres \n",
    "        self.color = color\n",
    "        self.speed = speed\n",
    "    # define the method start(), this method is abstract in Vehicle class(super class)\n",
    "    def start(self):\n",
    "        print(f\"Bicycle has properties -> color = {self.color}, num_of_tyres = {self.num_of_tyres}, speed = {self.speed}. The bicycle is started\")\n",
    "    # define the method stop(), this method is abstract in Vehicle class(super class)\n",
    "    def stop(self):\n",
    "        print(f\"Bicycle has properties -> color = {self.color}, num_of_tyres = {self.num_of_tyres}, speed = {self.speed}. The bicycle is stopped\")\n",
    "\n",
    "# create object for class Car\n",
    "car_obj = Car(4,'red', 240)\n",
    "# call the method start()\n",
    "car_obj.start()\n",
    "# call the method stop()\n",
    "car_obj.stop()\n",
    "# create object for class Bicycle\n",
    "cycle_obj = BiCycle(2,'black', 10)\n",
    "# call the method start()\n",
    "cycle_obj.start()\n",
    "# call the method stop()\n",
    "cycle_obj.stop()"
   ]
  },
  {
   "cell_type": "markdown",
   "metadata": {},
   "source": [
    "##### 12. Describe the use of abstract properties in Python and how they can be employed in abstract classes.\n"
   ]
  },
  {
   "cell_type": "markdown",
   "metadata": {},
   "source": [
    "##### **Ans :** Abstract properties in python is a concept of declaration of methods but not providing any implementation for that. It just acts as skeleton for your work. In abstract classes, we can use abstract properties by making abstract methods. In abstract class, abstract methods are declared but its implementation is left for its subclasses. These subclasses inherit all properties of parent abstract class and define the fucntionality of abstract method according to their own requirement."
   ]
  },
  {
   "cell_type": "markdown",
   "metadata": {},
   "source": [
    "##### 13. Create a Python class hierarchy for employees in a company (e.g., manager, developer, designer) and implement abstraction by defining a common `get_salary()` method."
   ]
  },
  {
   "cell_type": "code",
   "execution_count": 19,
   "metadata": {},
   "outputs": [
    {
     "name": "stdout",
     "output_type": "stream",
     "text": [
      "Manager Details : name = Mr. Kelvin Clan, gender = Male, employee_id = emp2652, yearly gross salary = 1000000, monthly salary= 69800.0\n",
      "Developer Details : name = Ms. Cristine, gender = Female, employee_id = emp6274, yearly gross salary = 800000, monthly salary= 56883.333333333336\n",
      "Designer Details : name = Mr. John Doe, gender = Male, employee_id = emp9723, yearly gross salary = 700000, monthly salary= 50216.666666666664\n"
     ]
    }
   ],
   "source": [
    "# import ABC class and abstractmethod decorator from abc module\n",
    "from abc import ABC, abstractmethod\n",
    "# create a class that inherits ABC class\n",
    "class Employees(ABC):\n",
    "    # create abstract method using @abstractmethod\n",
    "    @abstractmethod\n",
    "    def show_employee_details():\n",
    "        pass \n",
    "    # create abstract method using @abstractmethod\n",
    "    @abstractmethod\n",
    "    def get_salary():\n",
    "        pass \n",
    "\n",
    "# create a class Manager that inherits Employees class\n",
    "class Manager(Employees):\n",
    "    # create comstructor that receives some arguments related to manager\n",
    "    def __init__(self, name, gender, emp_id, gross_salary) -> None:\n",
    "        # assign values to member attributes\n",
    "        self.name = name \n",
    "        self.gender = gender \n",
    "        self.emp_id = emp_id\n",
    "        self.gross_salary = gross_salary\n",
    "    \n",
    "    # define parent class method in child class to show details\n",
    "    def show_employee_details(self):\n",
    "        print(f'Manager Details : name = {self.name}, gender = {self.gender}, employee_id = {self.emp_id}, yearly gross salary = {self.gross_salary}, monthly salary= {self.get_salary()}')\n",
    "    \n",
    "    # define parent class method in child class to calculate salary\n",
    "    def get_salary(self):\n",
    "        # calculate hra  i.e. 10% of gross\n",
    "        hra = self.gross_salary *10/100\n",
    "        # professional tax is 200 always\n",
    "        professional_tax = 200\n",
    "        # initialize tax as 0\n",
    "        tax = 0\n",
    "        # if self.gross_salary <= 3lakh then no tax applies\n",
    "        if self.gross_salary<=300000:\n",
    "            tax = 0\n",
    "        # if self.gross_salary is between 3 lakh to 6 lakh then 5% tax is applicable on self.gross_salary above 3 lakh\n",
    "        elif self.gross_salary>300000 and self.gross_salary <= 600000:\n",
    "            tax = (self.gross_salary-300000)*5/100\n",
    "        # if self.gross_salary is between 6lakh to 9 lakh then 5% tax is applicable on amount from 3 lakh to 6lakh and 10% tax is applicable above 6 lakh \n",
    "        elif self.gross_salary>600000 and self.gross_salary<900000:\n",
    "            tax = (self.gross_salary-600000)*10/100 + 300000*5/100 \n",
    "        # if self.gross_salary is between 9lakh to 12 lakh then 5% tax is applicable on amount from 3 lakh to 6lakh and 10% tax is applicable from 6 lakh to 9lakh and \n",
    "        # 15% tax is applicable above 9 lakh \n",
    "        elif self.gross_salary>900000 and self.gross_salary<=1200000:\n",
    "            tax = (self.gross_salary-900000)*15/100 + 300000*10/100 + 300000*5/100 \n",
    "        # if self.gross_salary is between 12lakh to 15 lakh then 5% tax is applicable on amount from 3 lakh to 6lakh and 10% tax is applicable from 6 lakh to 9lakh and \n",
    "        # 15% tax is applicable 9 lakh to 12 lakh and 20% tax on above 12 lakh\n",
    "        elif self.gross_salary>1200000 and self.gross_salary<=1500000:\n",
    "            tax = (self.gross_salary-1200000)*20/100 + 300000*15/100 + 300000*10/100 + 300000*5/100 \n",
    "        # if self.gross_salary > 15lakh then 5% tax is applicable on amount from 3 lakh to 6lakh and 10% tax is applicable from 6 lakh to 9lakh and \n",
    "        # 15% tax is applicable 9 lakh to 12 lakh and 20% tax from 12 lakh to15 lakh and 30% tax on above 15 lakh\n",
    "        else:\n",
    "            tax = (self.gross_salary-1500000)*30/100 + 300000*20/100 + 300000*15/100 + 300000*10/100 + 300000*5/100 \n",
    "        # calculate monthly salary\n",
    "        salary = (self.gross_salary - hra - tax)/12 - professional_tax\n",
    "        # return salary\n",
    "        return salary \n",
    "# create object of Manager class and pass required arguments\n",
    "obj_manager = Manager('Mr. Kelvin Clan', 'Male', 'emp2652', 1000000)\n",
    "# call show_employee_details() method of manager class\n",
    "obj_manager.show_employee_details()\n",
    "\n",
    "\n",
    "\n",
    "# create a class Developer that inherits Employees class\n",
    "class Developer(Employees):\n",
    "    # create comstructor that receives some arguments related to manager\n",
    "    def __init__(self, name, gender, emp_id, gross_salary) -> None:\n",
    "        # assign values to member attributes\n",
    "        self.name = name \n",
    "        self.gender = gender \n",
    "        self.emp_id = emp_id\n",
    "        self.gross_salary = gross_salary\n",
    "    \n",
    "    # define parent class method in child class to show details\n",
    "    def show_employee_details(self):\n",
    "        print(f'Developer Details : name = {self.name}, gender = {self.gender}, employee_id = {self.emp_id}, yearly gross salary = {self.gross_salary}, monthly salary= {self.get_salary()}')\n",
    "    \n",
    "    # define parent class method in child class to calculate salary\n",
    "    def get_salary(self):\n",
    "        # calculate hra  i.e. 10% of gross\n",
    "        hra = self.gross_salary *10/100\n",
    "        # professional tax is 200 always\n",
    "        professional_tax = 200\n",
    "        # initialize tax as 0\n",
    "        tax = 0\n",
    "        # if self.gross_salary <= 3lakh then no tax applies\n",
    "        if self.gross_salary<=300000:\n",
    "            tax = 0\n",
    "        # if self.gross_salary is between 3 lakh to 6 lakh then 5% tax is applicable on self.gross_salary above 3 lakh\n",
    "        elif self.gross_salary>300000 and self.gross_salary <= 600000:\n",
    "            tax = (self.gross_salary-300000)*5/100\n",
    "        # if self.gross_salary is between 6lakh to 9 lakh then 5% tax is applicable on amount from 3 lakh to 6lakh and 10% tax is applicable above 6 lakh \n",
    "        elif self.gross_salary>600000 and self.gross_salary<900000:\n",
    "            tax = (self.gross_salary-600000)*10/100 + 300000*5/100 \n",
    "        # if self.gross_salary is between 9lakh to 12 lakh then 5% tax is applicable on amount from 3 lakh to 6lakh and 10% tax is applicable from 6 lakh to 9lakh and \n",
    "        # 15% tax is applicable above 9 lakh \n",
    "        elif self.gross_salary>900000 and self.gross_salary<=1200000:\n",
    "            tax = (self.gross_salary-900000)*15/100 + 300000*10/100 + 300000*5/100 \n",
    "        # if self.gross_salary is between 12lakh to 15 lakh then 5% tax is applicable on amount from 3 lakh to 6lakh and 10% tax is applicable from 6 lakh to 9lakh and \n",
    "        # 15% tax is applicable 9 lakh to 12 lakh and 20% tax on above 12 lakh\n",
    "        elif self.gross_salary>1200000 and self.gross_salary<=1500000:\n",
    "            tax = (self.gross_salary-1200000)*20/100 + 300000*15/100 + 300000*10/100 + 300000*5/100 \n",
    "        # if self.gross_salary > 15lakh then 5% tax is applicable on amount from 3 lakh to 6lakh and 10% tax is applicable from 6 lakh to 9lakh and \n",
    "        # 15% tax is applicable 9 lakh to 12 lakh and 20% tax from 12 lakh to15 lakh and 30% tax on above 15 lakh\n",
    "        else:\n",
    "            tax = (self.gross_salary-1500000)*30/100 + 300000*20/100 + 300000*15/100 + 300000*10/100 + 300000*5/100 \n",
    "        # calculate monthly salary\n",
    "        salary = (self.gross_salary - hra - tax)/12 - professional_tax\n",
    "        # return salary\n",
    "        return salary \n",
    "# create object of Developer class and pass required arguments\n",
    "obj_Developer = Developer('Ms. Cristine', 'Female', 'emp6274', 800000)\n",
    "# call show_employee_details() method of Developer class\n",
    "obj_Developer.show_employee_details()\n",
    "\n",
    "\n",
    "\n",
    "# create a class Designer that inherits Employees class\n",
    "class Designer(Employees):\n",
    "    # create comstructor that receives some arguments related to Designer\n",
    "    def __init__(self, name, gender, emp_id, gross_salary) -> None:\n",
    "        # assign values to member attributes\n",
    "        self.name = name \n",
    "        self.gender = gender \n",
    "        self.emp_id = emp_id\n",
    "        self.gross_salary = gross_salary\n",
    "    \n",
    "    # define parent class method in child class to show details\n",
    "    def show_employee_details(self):\n",
    "        print(f'Designer Details : name = {self.name}, gender = {self.gender}, employee_id = {self.emp_id}, yearly gross salary = {self.gross_salary}, monthly salary= {self.get_salary()}')\n",
    "    \n",
    "    # define parent class method in child class to calculate salary\n",
    "    def get_salary(self):\n",
    "        # calculate hra  i.e. 10% of gross\n",
    "        hra = self.gross_salary *10/100\n",
    "        # professional tax is 200 always\n",
    "        professional_tax = 200\n",
    "        # initialize tax as 0\n",
    "        tax = 0\n",
    "        # if self.gross_salary <= 3lakh then no tax applies\n",
    "        if self.gross_salary<=300000:\n",
    "            tax = 0\n",
    "        # if self.gross_salary is between 3 lakh to 6 lakh then 5% tax is applicable on self.gross_salary above 3 lakh\n",
    "        elif self.gross_salary>300000 and self.gross_salary <= 600000:\n",
    "            tax = (self.gross_salary-300000)*5/100\n",
    "        # if self.gross_salary is between 6lakh to 9 lakh then 5% tax is applicable on amount from 3 lakh to 6lakh and 10% tax is applicable above 6 lakh \n",
    "        elif self.gross_salary>600000 and self.gross_salary<900000:\n",
    "            tax = (self.gross_salary-600000)*10/100 + 300000*5/100 \n",
    "        # if self.gross_salary is between 9lakh to 12 lakh then 5% tax is applicable on amount from 3 lakh to 6lakh and 10% tax is applicable from 6 lakh to 9lakh and \n",
    "        # 15% tax is applicable above 9 lakh \n",
    "        elif self.gross_salary>900000 and self.gross_salary<=1200000:\n",
    "            tax = (self.gross_salary-900000)*15/100 + 300000*10/100 + 300000*5/100 \n",
    "        # if self.gross_salary is between 12lakh to 15 lakh then 5% tax is applicable on amount from 3 lakh to 6lakh and 10% tax is applicable from 6 lakh to 9lakh and \n",
    "        # 15% tax is applicable 9 lakh to 12 lakh and 20% tax on above 12 lakh\n",
    "        elif self.gross_salary>1200000 and self.gross_salary<=1500000:\n",
    "            tax = (self.gross_salary-1200000)*20/100 + 300000*15/100 + 300000*10/100 + 300000*5/100 \n",
    "        # if self.gross_salary > 15lakh then 5% tax is applicable on amount from 3 lakh to 6lakh and 10% tax is applicable from 6 lakh to 9lakh and \n",
    "        # 15% tax is applicable 9 lakh to 12 lakh and 20% tax from 12 lakh to15 lakh and 30% tax on above 15 lakh\n",
    "        else:\n",
    "            tax = (self.gross_salary-1500000)*30/100 + 300000*20/100 + 300000*15/100 + 300000*10/100 + 300000*5/100 \n",
    "        # calculate monthly salary\n",
    "        salary = (self.gross_salary - hra - tax)/12 - professional_tax\n",
    "        # return salary\n",
    "        return salary \n",
    "# create object of Designer class and pass required arguments\n",
    "obj_Designer = Designer('Mr. John Doe', 'Male', 'emp9723', 700000)\n",
    "# call show_employee_details() method of Designer class\n",
    "obj_Designer.show_employee_details()\n"
   ]
  },
  {
   "cell_type": "markdown",
   "metadata": {},
   "source": [
    "##### 14. Discuss the differences between abstract classes and concrete classes in Python, including their instantiation."
   ]
  },
  {
   "cell_type": "markdown",
   "metadata": {},
   "source": [
    "##### **Ans :** Abstract classes are different from concrete classes in python.\n",
    "* Abstract class acts as skeleton for its sub classes. Concrete classes have their own functionalities which they define for sub class to inherit.\n",
    "* Abstract class has abstract methods . Concrete Class doesn't have asbtract method\n",
    "* Abstract class don't have objects. Concrete class has objects.\n",
    "* Abstract class always comes into picture when the other class inherits it. Concrete class can work independently as well as works with inheritance."
   ]
  },
  {
   "cell_type": "markdown",
   "metadata": {},
   "source": [
    "##### 15. Explain the concept of abstract data types (ADTs) and their role in achieving abstraction in Python.\n"
   ]
  },
  {
   "cell_type": "markdown",
   "metadata": {},
   "source": [
    "##### **Ans :** Abstract data types (ADTs) are a way of encapsulating data and operations on that data into a single unit.The abstract data type is special kind of data type, whose behavior is defined by a set of values and set of operations.ADTs allow users to work with data structures without having to know the implementation details, which can simplify programming and reduce errors. ADT can be implemented using different data structures, which can make it easier to adapt to changing needs and requirements."
   ]
  },
  {
   "cell_type": "markdown",
   "metadata": {},
   "source": [
    "##### 16. Create a Python class for a computer system, demonstrating abstraction by defining common methods (e.g., `power_on()`, `shutdown()`) in an abstract base class."
   ]
  },
  {
   "cell_type": "code",
   "execution_count": 20,
   "metadata": {},
   "outputs": [
    {
     "name": "stdout",
     "output_type": "stream",
     "text": [
      "Computer Sytem Dell Laptop is booting up\n",
      "Computer Sytem Dell Laptop is shut down\n"
     ]
    }
   ],
   "source": [
    "# import ABC class and abstractmethod decorator\n",
    "from abc import ABC, abstractmethod\n",
    "# create a class Computer_System that inherits ABC class\n",
    "class Computer_System(ABC):\n",
    "    # create abstract method using @abstractmethod decorator for power_on the system\n",
    "    @abstractmethod\n",
    "    def power_on():\n",
    "        pass \n",
    "    # create abstract method using @abstractmethod decorator for shut_down the system\n",
    "    @abstractmethod\n",
    "    def shut_down():\n",
    "        pass \n",
    "# create a class MAC that inherits abstract class Computer_system\n",
    "class Linux(Computer_System):\n",
    "    # create a construtor of class that takes some arguments\n",
    "    def __init__(self, name) -> None:\n",
    "        # assign value to instance variable\n",
    "        self.name = name \n",
    "    # define the method power_on() that has already been declared in parent abstract class as abstract method\n",
    "    def power_on(self):\n",
    "        print(f'Computer Sytem {self.name} is booting up')\n",
    "    # define the method shut_down() that has already been declared in parent abstract class as abstract method\n",
    "    def shut_down(self):\n",
    "        print(f'Computer Sytem {self.name} is shut down')\n",
    "\n",
    "# create object of Linux class\n",
    "obj_Linux = Linux('Dell Laptop')\n",
    "# call the power_on() method\n",
    "obj_Linux.power_on()\n",
    "# call the shut_down() method\n",
    "obj_Linux.shut_down()"
   ]
  },
  {
   "cell_type": "markdown",
   "metadata": {},
   "source": [
    "##### 17. Discuss the benefits of using abstraction in large-scale software development projects.\n"
   ]
  },
  {
   "cell_type": "markdown",
   "metadata": {},
   "source": [
    "##### **Ans :** In large scale software development projects, the developers apply so many complex logics, algorithms and mathmetics which is not that easy for the non-tech user to understand or cope-up. To reduce complexity of usage of system and user friendly access for user, abstraction comes into the picture. We need not to show and interact with all these complex logics and code. For easy code maintainabilty, readability and accessbility, we create seperate algorithms and logics for specific task and bind them into seperate methods. Now , we just need to call the methods, and task will be done."
   ]
  },
  {
   "cell_type": "markdown",
   "metadata": {},
   "source": [
    "##### 18. Explain how abstraction enhances code reusability and modularity in Python programs."
   ]
  },
  {
   "cell_type": "markdown",
   "metadata": {},
   "source": [
    "##### **Ans :** Abstraction allows us to create seperate bunch of code for each specific task and bind it into a property called method. This basically allows user to call method to perform the task instead of goin into deep detail. This way we have seperate method for each task , hence, enhances modularity. In abstraction, Abstract classes acts as  a skeleton, it just provide empty methods to implement in sub-class. This helps in code reusabity that same method or property can be used in different classes"
   ]
  },
  {
   "cell_type": "markdown",
   "metadata": {},
   "source": [
    "##### 19. Create a Python class for a library system, implementing abstraction by defining common methods (e.g., `add_book()`, `borrow_book()`) in an abstract base class."
   ]
  },
  {
   "cell_type": "code",
   "execution_count": 24,
   "metadata": {},
   "outputs": [
    {
     "name": "stdout",
     "output_type": "stream",
     "text": [
      "available books are \n",
      " {'maths': 92, 'science': 63, 'hindi': 23, 'english': 78, 'history': 30}\n",
      "1 copy of maths Subject has been borrowed \n",
      "available books are \n",
      " {'maths': 91, 'science': 63, 'hindi': 23, 'english': 78, 'history': 30}\n",
      "54 copies of civics subject have been added\n",
      "available books are \n",
      " {'maths': 91, 'science': 63, 'hindi': 23, 'english': 78, 'history': 30, 'civics': 54}\n"
     ]
    }
   ],
   "source": [
    "from abc import ABC, abstractmethod\n",
    "class Library_System(ABC):\n",
    "    @abstractmethod\n",
    "    def add_book():\n",
    "        pass\n",
    "    @abstractmethod\n",
    "    def borrow_book():\n",
    "        pass\n",
    "\n",
    "# create a class for books management\n",
    "class Books(Library_System) :\n",
    "    # create a dictionary of class type to store subject books along with their number of available copies\n",
    "    all_books = {'maths':92,'science':63,'hindi':23,'english':78, 'history':30}\n",
    "    # define a constructor\n",
    "    def __init__(book) -> None:\n",
    "        pass\n",
    "    # define a function to add books\n",
    "    def add_book(book_name, num_of_copies):\n",
    "        # if subject book is already present in all_books keys, then just increase the value of that subject book\n",
    "        if book_name in Books.all_books:\n",
    "            Books.all_books[book_name] += num_of_copies\n",
    "        # otherwise create a new for that subject in dictionary and assign the value\n",
    "        else: \n",
    "            Books.all_books[book_name] = num_of_copies\n",
    "        # print the appropriate message after adding book\n",
    "        print(f\"{num_of_copies} copies of {book_name} subject have been added\")\n",
    "    # create a function to display all the books along with their number of copies available.\n",
    "    def display_available_books():\n",
    "        # return the dictionary\n",
    "        return Books.all_books\n",
    "# create a class for library management\n",
    "class Library_Management(Books):\n",
    "    # create a list of class type to store info of students who come to borrow books.\n",
    "    all_students = []\n",
    "    # define\n",
    "    #  constructor of the class which takes student name, roll number, and standard as arguments.\n",
    "    def __init__(student, student_name:str, student_rollnumber:int, student_standard:str) -> None:\n",
    "        # initialize the instance variable for student name\n",
    "        student.name = student_name\n",
    "        # initialize the instance variable for student roll number\n",
    "        student.rollnumber = student_rollnumber\n",
    "        # initialize the instance variable for student standard\n",
    "        student.standard = student_standard\n",
    "        # append the current student object in all_students list\n",
    "        Library_Management.all_students.append(student)\n",
    "    #  define a function to borrow books\n",
    "    def borrow_book(student, book_name):\n",
    "        # create a try block to check if required book is available in library or not\n",
    "        try:\n",
    "            # if the book is available in library then decrease the number of copies of that subject book by 1\n",
    "            if book_name in Library_Management.all_books:\n",
    "                Library_Management.all_books[book_name] -= 1\n",
    "                # print the appropriate message\n",
    "                print(f\"1 copy of {book_name} Subject has been borrowed \")\n",
    "            # otherwise raise the error with an appropriate message\n",
    "            else:\n",
    "                raise ValueError(\"Book is not available currently.\")\n",
    "        # create an except block to catch the value error passed in try block \n",
    "        except ValueError as v:\n",
    "            # print the message regarding the error\n",
    "            print(v)\n",
    "        # create an except block to catch the unknown error that unexpectedly in try block \n",
    "        except Exception as e:\n",
    "            # print the message regarding the error\n",
    "            print(e)\n",
    "# print the available books using display_available_books() method\n",
    "print(\"available books are \\n\", Library_Management.display_available_books())\n",
    "# create an object of library management for student and pass the student details as arguments - name, rollnumber, standard.\n",
    "student1 = Library_Management('Suresh', 'std23321', 8)\n",
    "# call the method borrow_book() to borrow book from library.\n",
    "student1.borrow_book(\"maths\")\n",
    "# print the available books using display_available_books() method\n",
    "print(\"available books are \\n\", Library_Management.display_available_books())\n",
    "# add the book in library using add_book() method\n",
    "Library_Management.add_book('civics',54)\n",
    "# print the available books using display_available_books() method\n",
    "print(\"available books are \\n\",Library_Management.display_available_books())\n"
   ]
  },
  {
   "cell_type": "markdown",
   "metadata": {},
   "source": [
    "##### 20. Describe the concept of method abstraction in Python and how it relates to polymorphism.\n"
   ]
  },
  {
   "cell_type": "markdown",
   "metadata": {},
   "source": [
    "##### **Ans :** Method abstraction in python is a concept of declaring the method inside an abstract class but do not provide any implementation. These methods will be implemented in the sub-classes according to their own need. This means same function can perform different task based on different class coz in these classses, these abstract method will be implemented differently. Hence, polymorphism is achieved."
   ]
  },
  {
   "cell_type": "markdown",
   "metadata": {},
   "source": [
    "# ***`Composition 👍`***"
   ]
  },
  {
   "cell_type": "markdown",
   "metadata": {},
   "source": [
    "##### 1. Explain the concept of composition in Python and how it is used to build complex objects from simpler ones."
   ]
  },
  {
   "cell_type": "markdown",
   "metadata": {},
   "source": [
    "##### **Ans :** Composition is the technique in object-oriented programming to implement has-a relationship between objects. This means that a class Composite can contain an object of another class Component. In this concept, we will describe a class that references to one or more objects of other classes as an Instance variable. By using the class name or by creating the object we can access the members of one class inside another class. It enables creating complex types by combining objects of different classes and access their properties into another classes using these objects."
   ]
  },
  {
   "cell_type": "markdown",
   "metadata": {},
   "source": [
    "##### 2. Describe the difference between composition and inheritance in object-oriented programming."
   ]
  },
  {
   "cell_type": "markdown",
   "metadata": {},
   "source": [
    "##### **Ans :** In composition, objects of different classes are combined to create a more complex object, while in inheritance, a new class is created from an existing class by inheriting its properties and behaviors."
   ]
  },
  {
   "cell_type": "markdown",
   "metadata": {},
   "source": [
    "##### 3. Create a Python class called `Author` with attributes for name and birthdate. Then, create a `Book` class that contains an instance of `Author` as a composition. Provide an example of creating a `Book` object."
   ]
  },
  {
   "cell_type": "code",
   "execution_count": 33,
   "metadata": {},
   "outputs": [
    {
     "data": {
      "text/plain": [
       "'Book Details -> name = Let us Python, subject = Python Programming, Author Details -> name = Yashwant Kanetkar, birthday = 23/09/1981'"
      ]
     },
     "execution_count": 33,
     "metadata": {},
     "output_type": "execute_result"
    }
   ],
   "source": [
    "# create Author class\n",
    "class Author:\n",
    "    # create constructor and get some agruments\n",
    "    def __init__(self, author_name, author_birthdate) -> None:\n",
    "        # assign value to instance values\n",
    "        self.author_name = author_name\n",
    "        self.author_birthday = author_birthdate\n",
    "    # create a method to show details of author\n",
    "    def show_author_details(self):\n",
    "        return (f\"Author Details -> name = {self.author_name}, birthday = {self.author_birthday}\")\n",
    "# create Author class\n",
    "class Book:\n",
    "    # create constructor and get some agruments\n",
    "    def __init__(self, bookname, subject, author_name, author_birthdate) -> None:\n",
    "        # assign value to instance values\n",
    "        self.author = Author(author_name, author_birthdate) # composition\n",
    "        self.bookname = bookname\n",
    "        self.subject = subject \n",
    "    # create a method to show details of book\n",
    "    def show_book_details(self):\n",
    "        return f'Book Details -> name = {self.bookname}, subject = {self.subject}, {self.author.show_author_details()}'\n",
    "# create object of Book class and pass the argument values\n",
    "obj_book = Book('Let us Python', 'Python Programming', 'Yashwant Kanetkar', '23/09/1981')\n",
    "# call the method show_book_details()\n",
    "obj_book.show_book_details()"
   ]
  },
  {
   "cell_type": "markdown",
   "metadata": {},
   "source": [
    "##### 4. Discuss the benefits of using composition over inheritance in Python, especially in terms of code flexibility and reusability."
   ]
  },
  {
   "cell_type": "markdown",
   "metadata": {},
   "source": [
    "##### **Ans :** Composition helps in Object oriented programming to reuse the code or properties by adding objects of one class into objects of other class as opposite to inheriting and implementing the property of other classes. In composition, properties of one class can be used as it is in other classes by creating their objects which provides code reusability and flexibity to use already made properties."
   ]
  },
  {
   "cell_type": "markdown",
   "metadata": {},
   "source": [
    "##### 5. How can you implement composition in Python classes? Provide examples of using composition to create complex objects."
   ]
  },
  {
   "cell_type": "markdown",
   "metadata": {},
   "source": [
    "##### **Ans :** Composition in python can be implemented by creating the object of one class into the object of other class. Example - "
   ]
  },
  {
   "cell_type": "code",
   "execution_count": 38,
   "metadata": {},
   "outputs": [
    {
     "name": "stdout",
     "output_type": "stream",
     "text": [
      "a = 12, b = 43\n"
     ]
    }
   ],
   "source": [
    "# create a class A\n",
    "class A:\n",
    "    # create constructor\n",
    "    def __init__(self,a) -> None:\n",
    "        # assign value to instance variable\n",
    "        self.a = a \n",
    "    # create a  method to return the value of a\n",
    "    def show_a(self):\n",
    "        return (self.a)\n",
    "# create a class B\n",
    "class B:\n",
    "    # create a constructor\n",
    "    def __init__(self, a, b) -> None:\n",
    "        # create the object of class A\n",
    "        self.obj_a = A(a)\n",
    "        # assign value of instance variable b\n",
    "        self.b = b \n",
    "    # create a method to show the data\n",
    "    def show(self):\n",
    "        print(f'a = {self.obj_a.show_a()}, b = {self.b}')\n",
    "# create object of class B and pass values of arguments\n",
    "objb = B(12,43)\n",
    "# call the method show() of class B\n",
    "objb.show()"
   ]
  },
  {
   "cell_type": "markdown",
   "metadata": {},
   "source": [
    "##### 6. Create a Python class hierarchy for a music player system, using composition to represent playlists and songs."
   ]
  },
  {
   "cell_type": "code",
   "execution_count": 45,
   "metadata": {},
   "outputs": [
    {
     "name": "stdout",
     "output_type": "stream",
     "text": [
      "Music System = System_1, Playlist = Friction, Songs = [song1, song2, song3, song4]\n"
     ]
    }
   ],
   "source": [
    "# create a class Song\n",
    "class Song:\n",
    "    # create constructor\n",
    "    def __init__(self, name) -> None:\n",
    "        # assign value to instance variable\n",
    "        self.name = name \n",
    "    # define __repr__ method to represent the object with more rich information\n",
    "    def __repr__(self):\n",
    "        return self.name\n",
    "# create class Playlist\n",
    "class Playlist:\n",
    "    # create constructor\n",
    "    def __init__(self, name) -> None:\n",
    "        # assign value to instance variable\n",
    "        self.name = name \n",
    "        # create a list to put list of all songs\n",
    "        self.obj_song = [] \n",
    "    # create the method to add songs to songs list\n",
    "    def add_song_to_playlist(self, song):\n",
    "        # append the song to list\n",
    "        self.obj_song.append(Song(song))\n",
    "    # define __repr__ method to represent the object with more rich information\n",
    "    def __repr__(self):\n",
    "        return f'Playlist = {self.name}, Songs = {self.obj_song}'\n",
    "    \n",
    "# create class Music_System\n",
    "class Music_System:\n",
    "    # create constructor\n",
    "    def __init__(self, system_name, playlist, songs_list) -> None:\n",
    "        # assign value to instance variable\n",
    "        self.system_name = system_name\n",
    "        # create object of Playlist class\n",
    "        self.obj_pl = Playlist(playlist)\n",
    "        # add songs to playlist using add_song_to_playlist()\n",
    "        for song in songs_list:\n",
    "            self.obj_pl.add_song_to_playlist(song)\n",
    "    # create show_music_system() to show details\n",
    "    def show_music_system(self):\n",
    "        return f'Music System = {self.system_name}, {self.obj_pl}'\n",
    "# create object of Music_system and pass values to arguments\n",
    "obj_ms = Music_System('System_1', 'Friction', ['song1', 'song2', 'song3', 'song4'])\n",
    "# print details using show_music_system() method via object\n",
    "print(obj_ms.show_music_system())"
   ]
  },
  {
   "cell_type": "markdown",
   "metadata": {},
   "source": [
    "##### 7. Explain the concept of \"has-a\" relationships in composition and how it helps design software systems."
   ]
  },
  {
   "cell_type": "markdown",
   "metadata": {},
   "source": [
    "##### **Ans :** Composition shows 'has-a' relationship. This means that a class composite can contain object of another class component. In software system design, sometimes we need to perform some tasks on the data which has been computed in another class. So, we can simply instantiate the object of that class by calling the constructor of that class inside our task class and we can simply get data from that object and perform computation on it."
   ]
  },
  {
   "cell_type": "markdown",
   "metadata": {},
   "source": [
    "##### 8. Create a Python class for a computer system, using composition to represent components like CPU, RAM, and storage devices."
   ]
  },
  {
   "cell_type": "code",
   "execution_count": 3,
   "metadata": {},
   "outputs": [
    {
     "name": "stdout",
     "output_type": "stream",
     "text": [
      "Computer System = Linux, Components : RAM = 3.1 GHz, ROM = 16 GB, CPU = 1 TB\n"
     ]
    }
   ],
   "source": [
    "# create a class Components\n",
    "class Components:\n",
    "    # create a constructor\n",
    "    def __init__(self, cpu, ram, rom) -> None:\n",
    "        # assign values to instance variables\n",
    "        self.ram = ram \n",
    "        self.rom = rom\n",
    "        self.cpu = cpu \n",
    "    # define __repr__ method to represent the object with more rich information\n",
    "    def __repr__(self) -> str:\n",
    "        return f'Components : RAM = {self.ram}, ROM = {self.rom}, CPU = {self.cpu}'\n",
    "# create a class Computer_system\n",
    "class Computer_system:\n",
    "    # create a constructor\n",
    "    def __init__(self, system, ram, rom, cpu) -> None:\n",
    "        # instantiate the object of Components class inside constructor : Composition\n",
    "        self.obj_c = Components(cpu, ram, rom)\n",
    "        # assign values to instance variables\n",
    "        self.system = system\n",
    "    # create a method to show details of system\n",
    "    def show_details(self):\n",
    "        return f'Computer System = {self.system}, {self.obj_c}'\n",
    "# instantiate the object of Computer_system and pass values to arguments\n",
    "obj_sys = Computer_system('Linux', '3.1 GHz', '16 GB', '1 TB')\n",
    "# call the show_details() method via object of Computer_system class\n",
    "print(obj_sys.show_details())"
   ]
  },
  {
   "cell_type": "markdown",
   "metadata": {},
   "source": [
    "##### 9. Describe the concept of \"delegation\" in composition and how it simplifies the design of complex systems."
   ]
  },
  {
   "cell_type": "markdown",
   "metadata": {},
   "source": [
    "##### **Ans :** Concept of Delegation in composition allows to use the object of another class as a class member of another class. Delegation is a design pattern in which an object, called the delegate, is responsible for performing certain tasks on behalf of another object, called the delegator. While designing the complex systems, in a class, we sometimes need to perform some computations on the output of methods of another class. For this, we need to go into into deep detailing or inheritance, we just need to instantiate the object of that class and use the properties of its method."
   ]
  },
  {
   "cell_type": "markdown",
   "metadata": {},
   "source": [
    "##### 10. Create a Python class for a car, using composition to represent components like the engine, wheels, and transmission."
   ]
  },
  {
   "cell_type": "code",
   "execution_count": 4,
   "metadata": {},
   "outputs": [
    {
     "name": "stdout",
     "output_type": "stream",
     "text": [
      "Car : model = KUV, Brand = Tata, Components : wheel = 4, transmission = 12, enigine = 1800 cc\n"
     ]
    }
   ],
   "source": [
    "# create a class Components\n",
    "class Components:\n",
    "    # create a constructor\n",
    "    def __init__(self, enigine, wheel, transmission) -> None:\n",
    "        # assign values to instance variables\n",
    "        self.wheel = wheel \n",
    "        self.transmission = transmission\n",
    "        self.enigine = enigine \n",
    "    # define __repr__ method to represent the object with more rich information\n",
    "    def __repr__(self) -> str:\n",
    "        return f'Components : wheel = {self.wheel}, transmission = {self.transmission}, enigine = {self.enigine}'\n",
    "# create a class Car \n",
    "class Car:\n",
    "    # create a constructor\n",
    "    def __init__(self, enigine, wheel, transmission, model, brand) -> None:\n",
    "        # instantiate the object of Components class inside constructor : Composition\n",
    "        self.obj_c = Components(enigine, wheel, transmission)\n",
    "        # assign values to instance variables\n",
    "        self.model = model\n",
    "        self.brand= brand\n",
    "    # create a method to show details of Car\n",
    "    def show_details(self):\n",
    "        return f'Car : model = {self.model}, Brand = {self.brand}, {self.obj_c}'\n",
    "# instantiate the object of Car class\n",
    "obj_car = Car('1800 cc', '4', '12', 'KUV', 'Tata')\n",
    "# call the show_details() method via object of Computer_system class\n",
    "print(obj_car.show_details())"
   ]
  },
  {
   "cell_type": "markdown",
   "metadata": {},
   "source": [
    "##### 11. How can you encapsulate and hide the details of composed objects in Python classes to maintain abstraction?"
   ]
  },
  {
   "cell_type": "markdown",
   "metadata": {},
   "source": []
  },
  {
   "cell_type": "markdown",
   "metadata": {},
   "source": []
  },
  {
   "cell_type": "markdown",
   "metadata": {},
   "source": [
    "12. Create a Python class for a university course, using composition to represent students, instructors, and course materials.\n",
    "13. Discuss the challenges and drawbacks of composition, such as increased complexity and potential for tight coupling between objects.\n",
    "14. Create a Python class hierarchy for a restaurant system, using composition to represent menus, dishes, and ingredients.\n",
    "15. Explain how composition enhances code maintainability and modularity in Python programs.\n",
    "16. Create a Python class for a computer game character, using composition to represent attributes like weapons, armor, and inventory.\n",
    "17. Describe the concept of \"aggregation\" in composition and how it differs from simple composition.\n",
    "18. Create a Python class for a house, using composition to represent rooms, furniture, and appliances.\n",
    "19. How can you achieve flexibility in composed objects by allowing them to be replaced or modified dynamically at runtime?\n",
    "20. Create a Python class for a social media application, using composition to represent users, posts, and comments.\n",
    "\n"
   ]
  },
  {
   "cell_type": "code",
   "execution_count": 17,
   "metadata": {},
   "outputs": [
    {
     "data": {
      "text/plain": [
       "-14"
      ]
     },
     "execution_count": 17,
     "metadata": {},
     "output_type": "execute_result"
    }
   ],
   "source": [
    "1 - 14\n",
    "3 - 11\n",
    "3 - 17\n"
   ]
  },
  {
   "cell_type": "markdown",
   "metadata": {},
   "source": []
  },
  {
   "cell_type": "markdown",
   "metadata": {},
   "source": []
  }
 ],
 "metadata": {
  "kernelspec": {
   "display_name": "base",
   "language": "python",
   "name": "python3"
  },
  "language_info": {
   "codemirror_mode": {
    "name": "ipython",
    "version": 3
   },
   "file_extension": ".py",
   "mimetype": "text/x-python",
   "name": "python",
   "nbconvert_exporter": "python",
   "pygments_lexer": "ipython3",
   "version": "3.11.4"
  }
 },
 "nbformat": 4,
 "nbformat_minor": 2
}
