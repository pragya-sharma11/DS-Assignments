{
 "cells": [
  {
   "cell_type": "markdown",
   "metadata": {},
   "source": [
    "## Find time complexity of below code blocks :"
   ]
  },
  {
   "cell_type": "markdown",
   "metadata": {},
   "source": [
    "##### Problem 1 :\n",
    "* def quicksort(arr):\n",
    "*    if len(arr) <= 1:\n",
    "*    return arr\n",
    "*    pivot = arr[len(arr) // 2]\n",
    "*    left = [x for x in arr if x < pivot]\n",
    "*    middle = [x for x in arr if x == pivot]\n",
    "*    right = [x for x in arr if x > pivot]\n",
    "*    return quicksort(left) + middle + quicksort(right)"
   ]
  },
  {
   "cell_type": "markdown",
   "metadata": {},
   "source": [
    "##### **Ans :** O(nlogn)"
   ]
  },
  {
   "cell_type": "markdown",
   "metadata": {},
   "source": [
    "##### Problem 2 :\n",
    "* def nested_loop_example(matrix):\n",
    "*   rows, cols = len(matrix), len(matrix[0])\n",
    "*   total = 0\n",
    "*   for i in range(rows):\n",
    "*       for j in range(cols):\n",
    "*           total += matrix[i][j]\n",
    "*   return total"
   ]
  },
  {
   "cell_type": "markdown",
   "metadata": {},
   "source": [
    "##### **Ans :** O(n^2)"
   ]
  },
  {
   "cell_type": "markdown",
   "metadata": {},
   "source": [
    "##### Problem 3 :\n",
    "* def example_function(arr):\n",
    "*   result = 0\n",
    "*   for element in arr:\n",
    "*       result += element\n",
    "*   return result"
   ]
  },
  {
   "cell_type": "markdown",
   "metadata": {},
   "source": [
    "##### **Ans :** O(n)"
   ]
  },
  {
   "cell_type": "markdown",
   "metadata": {},
   "source": [
    "##### Problem 4 :\n",
    "* def longest_increasing_subsequence(nums):\n",
    "*   n = len(nums)\n",
    "*   lis = [1] * n\n",
    "*   for i in range(1, n):\n",
    "*       for j in range(0, i):\n",
    "*           if nums[i] > nums[j] and lis[i] < lis[j] + 1:\n",
    "*               lis[i] = lis[j] + 1\n",
    "*   return max(lis)"
   ]
  },
  {
   "cell_type": "markdown",
   "metadata": {},
   "source": [
    "##### **Ans :**  O(n^2)"
   ]
  },
  {
   "cell_type": "markdown",
   "metadata": {},
   "source": [
    "##### Problem 5 :\n",
    "* def mysterious_function(arr):\n",
    "*   n = len(arr)\n",
    "*   result = 0\n",
    "*   for i in range(n):\n",
    "*       for j in range(i, n):\n",
    "*           result += arr[i] * arr[j]\n",
    "*   return result"
   ]
  },
  {
   "cell_type": "markdown",
   "metadata": {},
   "source": [
    "##### **Ans :** O(n^2)"
   ]
  },
  {
   "cell_type": "markdown",
   "metadata": {},
   "source": [
    "## Solve the following problems on recursion"
   ]
  },
  {
   "cell_type": "markdown",
   "metadata": {},
   "source": [
    "##### Problem 6 : Sum of Digits\n",
    "* Write a recursive function to calculate the sum of digits of a given positive integer.\n",
    "* sum_of_digits(123) -> 6"
   ]
  },
  {
   "cell_type": "code",
   "execution_count": 2,
   "metadata": {},
   "outputs": [
    {
     "name": "stdout",
     "output_type": "stream",
     "text": [
      "sum of digits of number 4235 is 14\n"
     ]
    }
   ],
   "source": [
    "# create a method to get sum of digits of a number\n",
    "def sum_of_digits(num):\n",
    "    # if number is 0 then return zero\n",
    "    if num==0:\n",
    "        return 0\n",
    "    # otherwise return (last digit of number + sum of digits of all digits before this last digit using recursive calling)\n",
    "    return num%10 + sum_of_digits(num//10)\n",
    "\n",
    "# driver code\n",
    "num=4235\n",
    "print(f'sum of digits of number {num} is {sum_of_digits(num)}')"
   ]
  },
  {
   "cell_type": "markdown",
   "metadata": {},
   "source": [
    "##### Problem 7: Fibonacci Series\n",
    "* Write a recursive function to generate the first n numbers of the Fibonacci series.\n",
    "* fibonacci_series(6) -> [0, 1, 1, 2, 3, 5]"
   ]
  },
  {
   "cell_type": "code",
   "execution_count": 3,
   "metadata": {},
   "outputs": [
    {
     "name": "stdout",
     "output_type": "stream",
     "text": [
      "0  1  1  2  3  5  "
     ]
    }
   ],
   "source": [
    "# create a method to generate fibonacci number\n",
    "def get_fibo_series(n):\n",
    "    # check for base conditions \n",
    "    if n==0:\n",
    "        return 0\n",
    "    elif n==1:\n",
    "        return 1 \n",
    "    # otherwise recursively call the method for value n-1 and n-2\n",
    "    return get_fibo_series(n-2) + get_fibo_series(n-1)\n",
    "# driver code\n",
    "n=6\n",
    "# execute the loop to generate numbers\n",
    "for i in range(n):\n",
    "    # call the get_fibo_series() method to get fibonacci number\n",
    "    print(get_fibo_series(i), end= '  ')\n"
   ]
  },
  {
   "cell_type": "markdown",
   "metadata": {},
   "source": [
    "##### Problem 8 : Subset Sum\n",
    "* Given a set of positive integers and a target sum, write a recursive function to determine if there exists a subset of the integers that adds up to the target sum.\n",
    "* subset_sum([3, 34, 4, 12, 5, 2], 9) -> True"
   ]
  },
  {
   "cell_type": "code",
   "execution_count": 9,
   "metadata": {},
   "outputs": [
    {
     "name": "stdout",
     "output_type": "stream",
     "text": [
      "True\n"
     ]
    }
   ],
   "source": [
    "# create recursive method to check if there exists a subset of integers that add to target sum\n",
    "def is_subset(lst, target, l):\n",
    "    # if target is 0 this means there exist a null subset\n",
    "    if target ==0:\n",
    "        return True \n",
    "    # if length of list is 0 then target doesn't exist.\n",
    "    elif l == 0:\n",
    "        return False \n",
    "    # if last element is greater than target then we need not to include it in subset so check the subset in remaining list\n",
    "    if lst[l-1]>target:\n",
    "        return is_subset(lst, target, l-1)\n",
    "    # otherwise we can check the subset including the element at index l-1 or\n",
    "    # we can check the subset excluding the element at index l-1  \n",
    "    return is_subset(lst, target, l-1) or is_subset(lst, target-lst[l-1], l-1)\n",
    "# driver code \n",
    "target = 9\n",
    "lst = [3,34,4,12,5,2]\n",
    "print(is_subset(lst, target, len(lst)))"
   ]
  },
  {
   "cell_type": "markdown",
   "metadata": {},
   "source": [
    "##### Problem 9: Word Break\n",
    "* Given a non-empty string and a dictionary of words, write a recursive function to determine if the string can be\n",
    "segmented into a space-separated sequence of dictionary words.\n",
    "* word_break( leetcode , [ leet , code ]) -> True"
   ]
  },
  {
   "cell_type": "code",
   "execution_count": 14,
   "metadata": {},
   "outputs": [
    {
     "name": "stdout",
     "output_type": "stream",
     "text": [
      "True\n"
     ]
    }
   ],
   "source": [
    "# create recursive method to check if string can be segmented\n",
    "def word_break(lst, st, l):\n",
    "    # if st length is 0 return true\n",
    "    if len(st) ==0:\n",
    "        return True \n",
    "    # if length of list is 0 then st doesn't exist in list.\n",
    "    elif l == 0:\n",
    "        return False \n",
    "    # if last element length is greater than st length then we need to exclude it in from checking\n",
    "    if len(lst[l-1])>len(st):\n",
    "        return word_break(lst, st, l-1)\n",
    "    # otherwise we can check the list including the element at index l-1 or\n",
    "    # we can check the list excluding the element at index l-1  \n",
    "    return word_break(lst, st, l-1) or word_break(lst, st.replace(lst[l-1],''), l-1)\n",
    "# driver code \n",
    "st = 'coderedleet'\n",
    "lst = ['leet', 'code', 'nam','king','red','am']\n",
    "print(word_break(lst, st, len(lst)))\n"
   ]
  },
  {
   "cell_type": "markdown",
   "metadata": {},
   "source": [
    "##### Problem 10 : N-Queens\n",
    "* Implement a recursive function to solve the N Queens problem, where you have to place N queens on an N×N\n",
    "chessboard in such a way that no two queens threaten each other.\n",
    "* n_queens(4)\n",
    "* [\n",
    "* [\".Q..\",\n",
    "* \"...Q\",\n",
    "* \"Q...\",\n",
    "* \"..Q.\"],\n",
    "* [\"..Q.\",\n",
    "* \"Q...\",\n",
    "* \"...Q\",\n",
    "* \".Q..\"]\n",
    "* ]"
   ]
  },
  {
   "cell_type": "code",
   "execution_count": 20,
   "metadata": {},
   "outputs": [
    {
     "name": "stdout",
     "output_type": "stream",
     "text": [
      ". . . . . . \n",
      ". . . . . . \n",
      ". . . . . . \n",
      ". . . . . . \n",
      ". . . . . . \n",
      ". . . . . . \n",
      ". . . Q . . \n",
      "Q . . . . . \n",
      ". . . . Q . \n",
      ". Q . . . . \n",
      ". . . . . Q \n",
      ". . Q . . . \n"
     ]
    },
    {
     "data": {
      "text/plain": [
       "True"
      ]
     },
     "execution_count": 20,
     "metadata": {},
     "output_type": "execute_result"
    }
   ],
   "source": [
    "\n",
    "global N\n",
    "N = 6\n",
    " \n",
    "# create a function to check if a queen can\n",
    "# be placed on board[row][col]. Note that this\n",
    "# function is called when \"col\" queens are\n",
    "# already placed in columns from 0 to col -1.\n",
    "# So we need to check only left side for\n",
    "# attacking queens\n",
    "def isSafe(board, row, col):\n",
    " \n",
    "    # Check this row on left side\n",
    "    for i in range(col):\n",
    "        if board[row][i] == 1:\n",
    "            return False\n",
    " \n",
    "    # Check upper diagonal on left side\n",
    "    for i, j in zip(range(row, -1, -1),\n",
    "                    range(col, -1, -1)):\n",
    "        if board[i][j] == 1:\n",
    "            return False\n",
    " \n",
    "    # Check lower diagonal on left side\n",
    "    for i, j in zip(range(row, N, 1),\n",
    "                    range(col, -1, -1)):\n",
    "        if board[i][j] == 1:\n",
    "            return False\n",
    " \n",
    "    return True\n",
    " \n",
    " \n",
    "def solve_n_queen(board, col):\n",
    " \n",
    "    # Base case: If all queens are placed\n",
    "    # then return true\n",
    "    if col >= N:\n",
    "        return True\n",
    " \n",
    "    # Consider this column and try placing\n",
    "    # this queen in all rows one by one\n",
    "    for i in range(N):\n",
    " \n",
    "        if isSafe(board, i, col):\n",
    " \n",
    "            # Place this queen in board[i][col]\n",
    "            board[i][col] = 1\n",
    " \n",
    "            # Recur to place rest of the queens\n",
    "            if solve_n_queen(board, col + 1) == True:\n",
    "                return True\n",
    " \n",
    "            # If placing queen in board[i][col\n",
    "            # doesn't lead to a solution, then\n",
    "            # queen from board[i][col]\n",
    "            board[i][col] = 0\n",
    " \n",
    "    # If the queen can not be placed in any row in\n",
    "    # this column col then return false\n",
    "    return False\n",
    "# create method to print board\n",
    "def printSolution(board):\n",
    "    for i in range(N):\n",
    "        for j in range(N):\n",
    "            if board[i][j] == 1:\n",
    "                print(\"Q\",end=\" \")\n",
    "            else:\n",
    "                print(\".\",end=\" \")\n",
    "        print()\n",
    "# create method to sove n queen problem\n",
    "def solveNQ(n):\n",
    "    # create board of N X N\n",
    "    board = []\n",
    "    for i in range(n):\n",
    "        board.append([0 for j in range(n)])\n",
    "    # check if there exist a solution or not usog solve_n_queen() method\n",
    "    if solve_n_queen(board, 0) == False:\n",
    "        print(\"Solution does not exist\")\n",
    "        return False\n",
    "    # if exists, then print the solution board\n",
    "    printSolution(board)\n",
    "    return True\n",
    "# driver code \n",
    "solveNQ(N)\n",
    " \n",
    " "
   ]
  },
  {
   "cell_type": "code",
   "execution_count": null,
   "metadata": {},
   "outputs": [],
   "source": []
  }
 ],
 "metadata": {
  "kernelspec": {
   "display_name": "base",
   "language": "python",
   "name": "python3"
  },
  "language_info": {
   "codemirror_mode": {
    "name": "ipython",
    "version": 3
   },
   "file_extension": ".py",
   "mimetype": "text/x-python",
   "name": "python",
   "nbconvert_exporter": "python",
   "pygments_lexer": "ipython3",
   "version": "3.11.4"
  }
 },
 "nbformat": 4,
 "nbformat_minor": 2
}
