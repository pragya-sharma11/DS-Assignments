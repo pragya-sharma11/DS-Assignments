{
 "cells": [
  {
   "cell_type": "markdown",
   "metadata": {},
   "source": [
    "## Find time complexity of below code blocks :"
   ]
  },
  {
   "cell_type": "markdown",
   "metadata": {},
   "source": [
    "##### Problem 1 :\n",
    "* def quicksort(arr):\n",
    "*    if len(arr) <= 1:\n",
    "*    return arr\n",
    "*    pivot = arr[len(arr) // 2]\n",
    "*    left = [x for x in arr if x < pivot]\n",
    "*    middle = [x for x in arr if x == pivot]\n",
    "*    right = [x for x in arr if x > pivot]\n",
    "*    return quicksort(left) + middle + quicksort(right)"
   ]
  },
  {
   "cell_type": "markdown",
   "metadata": {},
   "source": [
    "##### **Ans :** O(nlogn)"
   ]
  },
  {
   "cell_type": "markdown",
   "metadata": {},
   "source": [
    "##### Problem 2 :\n",
    "* def nested_loop_example(matrix):\n",
    "*   rows, cols = len(matrix), len(matrix[0])\n",
    "*   total = 0\n",
    "*   for i in range(rows):\n",
    "*       for j in range(cols):\n",
    "*           total += matrix[i][j]\n",
    "*   return total"
   ]
  },
  {
   "cell_type": "markdown",
   "metadata": {},
   "source": [
    "##### **Ans :** O(n^2)"
   ]
  },
  {
   "cell_type": "markdown",
   "metadata": {},
   "source": [
    "##### Problem 3 :\n",
    "* def example_function(arr):\n",
    "*   result = 0\n",
    "*   for element in arr:\n",
    "*       result += element\n",
    "*   return result"
   ]
  },
  {
   "cell_type": "markdown",
   "metadata": {},
   "source": [
    "##### **Ans :** O(n)"
   ]
  },
  {
   "cell_type": "markdown",
   "metadata": {},
   "source": [
    "##### Problem 4 :\n",
    "* def longest_increasing_subsequence(nums):\n",
    "*   n = len(nums)\n",
    "*   lis = [1] * n\n",
    "*   for i in range(1, n):\n",
    "*       for j in range(0, i):\n",
    "*           if nums[i] > nums[j] and lis[i] < lis[j] + 1:\n",
    "*               lis[i] = lis[j] + 1\n",
    "*   return max(lis)"
   ]
  },
  {
   "cell_type": "markdown",
   "metadata": {},
   "source": [
    "##### **Ans :**  O(n^2)"
   ]
  },
  {
   "cell_type": "markdown",
   "metadata": {},
   "source": [
    "##### Problem 5 :\n",
    "* def mysterious_function(arr):\n",
    "*   n = len(arr)\n",
    "*   result = 0\n",
    "*   for i in range(n):\n",
    "*       for j in range(i, n):\n",
    "*           result += arr[i] * arr[j]\n",
    "*   return result"
   ]
  },
  {
   "cell_type": "markdown",
   "metadata": {},
   "source": [
    "##### **Ans :** O(n^2)"
   ]
  },
  {
   "cell_type": "markdown",
   "metadata": {},
   "source": [
    "## Solve the following problems on recursion"
   ]
  },
  {
   "cell_type": "markdown",
   "metadata": {},
   "source": [
    "##### Problem 6 : Sum of Digits\n",
    "* Write a recursive function to calculate the sum of digits of a given positive integer.\n",
    "* sum_of_digits(123) -> 6"
   ]
  },
  {
   "cell_type": "code",
   "execution_count": null,
   "metadata": {},
   "outputs": [],
   "source": []
  }
 ],
 "metadata": {
  "language_info": {
   "name": "python"
  }
 },
 "nbformat": 4,
 "nbformat_minor": 2
}
