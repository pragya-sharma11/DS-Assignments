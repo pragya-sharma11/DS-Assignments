{
 "cells": [
  {
   "cell_type": "markdown",
   "metadata": {},
   "source": [
    "## QUEUE Implementation"
   ]
  },
  {
   "cell_type": "code",
   "execution_count": 1,
   "metadata": {},
   "outputs": [],
   "source": [
    "class Queue :\n",
    "  def __init__(self, capacity):\n",
    "    self.arr = [None]*capacity\n",
    "    self.capacity = capacity\n",
    "    self.front = -1\n",
    "    self.rear = -1 #in the begining both front and rear should be -1\n",
    "    self.size =0\n",
    "\n",
    "  def isEmpty(self):\n",
    "    return self.front == -1\n",
    "\n",
    "  def isFull(self):\n",
    "    return (self.front +1)%self.capacity == self.rear\n",
    "\n",
    "  def enQueue(self, data):\n",
    "    if self.isFull() :\n",
    "      print(\"Queue overflow\")\n",
    "      return\n",
    "    #Move the front to the right one position\n",
    "    self.front = (self.front + 1) % self.capacity # ensure index is correct\n",
    "    self.arr[self.front]=data\n",
    "\n",
    "    if self.rear == -1:  #when the first element is inserted\n",
    "      self.rear =0\n",
    "    self.size +=1\n",
    "\n",
    "  def deQueue(self):\n",
    "    if self.isEmpty():\n",
    "      print(\"Queue underflow\")\n",
    "      return\n",
    "    data = self.arr[self.rear]\n",
    "    #Check if this was the only element\n",
    "    if self.rear == self.front:\n",
    "      self.rear = -1\n",
    "      self.front = -1\n",
    "      #Because it was the only element, and after removal it's empty\n",
    "    else :\n",
    "      self.rear = (self.rear+1)%self.capacity #ensure we are in correct index range\n",
    "    self.size -=1\n",
    "    return data\n",
    "\n",
    "  def size(self):\n",
    "    return self.size\n",
    "\n",
    "  def traverse(self):\n",
    "    for i in range(self.size):\n",
    "      print(self.arr[self.rear+i%self.capacity])\n",
    "\n",
    "\n"
   ]
  },
  {
   "cell_type": "markdown",
   "metadata": {},
   "source": [
    "## Linked List queue"
   ]
  },
  {
   "cell_type": "code",
   "execution_count": 2,
   "metadata": {},
   "outputs": [],
   "source": [
    "class Node :\n",
    "\n",
    "  def __init__(self, data, next=None):\n",
    "    self.data = data\n",
    "    self.next = next\n",
    "\n",
    "  def getData(self):\n",
    "    return self.data\n",
    "\n",
    "  def setData(self, data):\n",
    "    self.data = data\n",
    "\n",
    "  def setNext(self, next):\n",
    "    self.next = next\n",
    "\n",
    "  def getNext(self):\n",
    "    return self.next"
   ]
  },
  {
   "cell_type": "code",
   "execution_count": 12,
   "metadata": {},
   "outputs": [
    {
     "name": "stdout",
     "output_type": "stream",
     "text": [
      "32\n"
     ]
    }
   ],
   "source": [
    "class QueueLL :\n",
    "  def __init__(self):\n",
    "    self.head = None\n",
    "    self.tail = None\n",
    "    self.size =0\n",
    "\n",
    "  def isEmpty(self):\n",
    "    return self.head == None # self.tail == None\n",
    "\n",
    "  def enQueue(self, data):\n",
    "    node = Node(data)\n",
    "\n",
    "    if self.isEmpty():\n",
    "      self.head = node\n",
    "      self.tail = node\n",
    "    else :\n",
    "      self.tail.setNext(node)\n",
    "      self.tail = self.tail.getNext()\n",
    "    self.size +=1\n",
    "\n",
    "  def deQueue(self):\n",
    "    if self.isEmpty():\n",
    "      print(\"Queue underflow\")\n",
    "      return\n",
    "    data = self.head.getData()\n",
    "\n",
    "    #chek if it's the only element\n",
    "    if(self.head == self.tail):\n",
    "      self.head = None\n",
    "      self.tail= None #Becase after deQue, Queue will be empty\n",
    "    else:\n",
    "      self.head = self.head.getNext()\n",
    "    self.size -= 1\n",
    "    return data\n",
    "\n",
    "  def traverse(self):\n",
    "    temp = self.head\n",
    "    while(temp.getNext() ):\n",
    "      print(temp.getData(), end=\"->\")\n",
    "      temp = temp.getNext()\n",
    "    print(temp.getData())\n",
    "    # print()\n",
    "\n",
    "q = QueueLL()\n",
    "q.enQueue(32)\n",
    "q.traverse()\n",
    "\n",
    "\n"
   ]
  },
  {
   "cell_type": "markdown",
   "metadata": {},
   "source": [
    "## Stack formation using 2 Queues"
   ]
  },
  {
   "cell_type": "code",
   "execution_count": 13,
   "metadata": {},
   "outputs": [
    {
     "name": "stdout",
     "output_type": "stream",
     "text": [
      "32->54->82->32->54\n"
     ]
    }
   ],
   "source": [
    "class StackQ:\n",
    "    def __init__(self) -> None:\n",
    "        self.q1 = QueueLL() #it will act as the main queue.\n",
    "        self.q2 = QueueLL()\n",
    "    def isEmpty(self):\n",
    "        return self.q1.isEmpty()\n",
    "    def push(self, data):\n",
    "        self.q1.enQueue(data)\n",
    "    def pop(self):\n",
    "        if self.isEmpty():\n",
    "            return 'Stack underflow'\n",
    "        # we need to pick the last element added\n",
    "        data = None\n",
    "        while not self.q1.isEmpty():\n",
    "            data = self.q1.deQueue()\n",
    "            if not self.q1.isEmpty():\n",
    "                self.q2.enQueue(data)\n",
    "        self.q1, self.q2 = self.q2, self.q1 \n",
    "        return data \n",
    "    def traverse(self):\n",
    "        self.q1.traverse()\n",
    "stack = StackQ()\n",
    "stack.push(32)\n",
    "stack.push(54)\n",
    "stack.push(82)\n",
    "stack.push(32)\n",
    "stack.push(54)\n",
    "stack.push(82)\n",
    "stack.pop()\n",
    "stack.traverse()"
   ]
  },
  {
   "cell_type": "code",
   "execution_count": null,
   "metadata": {},
   "outputs": [],
   "source": []
  }
 ],
 "metadata": {
  "kernelspec": {
   "display_name": "base",
   "language": "python",
   "name": "python3"
  },
  "language_info": {
   "codemirror_mode": {
    "name": "ipython",
    "version": 3
   },
   "file_extension": ".py",
   "mimetype": "text/x-python",
   "name": "python",
   "nbconvert_exporter": "python",
   "pygments_lexer": "ipython3",
   "version": "3.11.4"
  }
 },
 "nbformat": 4,
 "nbformat_minor": 2
}
