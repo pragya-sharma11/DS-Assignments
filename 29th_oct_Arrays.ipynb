{
 "cells": [
  {
   "cell_type": "markdown",
   "metadata": {},
   "source": [
    "##### 1. Given an array, check if it contains any duplicates or not.\n",
    "* arr = [1, 2, 4, 2, 5, 9]\n",
    "* Output = True"
   ]
  },
  {
   "cell_type": "code",
   "execution_count": 3,
   "metadata": {},
   "outputs": [
    {
     "name": "stdout",
     "output_type": "stream",
     "text": [
      "The input array is : ['1', '3', '54', '76', '23', '2', '23', '3']\n",
      "OutPut :  True\n"
     ]
    }
   ],
   "source": [
    "# create method to check if array has duplicates\n",
    "def check_duplicates(arr):\n",
    "    # create an empty helping array\n",
    "    extra_arr = []\n",
    "    # iterate a loop over elements of array\n",
    "    for i in inp_arr:\n",
    "        # if element is not present in the helping array then append this element into it.\n",
    "        if i not in extra_arr:\n",
    "            extra_arr.append(i)\n",
    "        # otherwise, it is already present in the heling array, return True\n",
    "        else :\n",
    "            return True\n",
    "    # return False, if no duplicate found.\n",
    "    return False\n",
    "\n",
    "# driver code\n",
    "# take input from user using input(), split the elements using split() based on spaces\n",
    "inp_arr = input(\"Enter space seperated elements\").split()\n",
    "# print input array\n",
    "print(\"The input array is :\", inp_arr)\n",
    "# call the function and print the result\n",
    "print(\"OutPut : \",check_duplicates(inp_arr))"
   ]
  },
  {
   "cell_type": "markdown",
   "metadata": {},
   "source": [
    "##### 2. Given an array and an integer k, rotate the array to the right by k steps.\n",
    "* arr = [1, 2, 3, 4, 5, 6, 7]\n",
    "* k = 3\n",
    "* Output = [5, 6, 7, 1, 2, 3, 4]"
   ]
  },
  {
   "cell_type": "code",
   "execution_count": 3,
   "metadata": {},
   "outputs": [
    {
     "name": "stdout",
     "output_type": "stream",
     "text": [
      "The input array ['1', '2', '3', '4', '5', '6', '7', '8', '9'] is to be rotated by 5 value\n",
      "OutPut :  ['5', '6', '7', '8', '9', '1', '2', '3', '4']\n"
     ]
    }
   ],
   "source": [
    "# create a method to rotate array\n",
    "def rotate_array(arr, k):\n",
    "    # get the length of array using len() method.\n",
    "    l = len(arr)\n",
    "    # concatenate the last k values of array with remaining previous values and return the array\n",
    "    return arr[l-k:]+arr[:l-k]\n",
    "# driver code\n",
    "# take input from user using input(), split the elements using split() based on spaces\n",
    "inp_arr = input(\"Enter space seperated elements\").split()\n",
    "# take input for integer to rotate array using input() and convert it into integer using int()\n",
    "k = int(input('Enter the value by which array needs to be rotated'))\n",
    "# print input array\n",
    "print(f\"The input array {inp_arr} is to be rotated by {k} value\")\n",
    "# call the function and print the result\n",
    "print(\"OutPut : \",rotate_array(inp_arr, k))"
   ]
  },
  {
   "cell_type": "markdown",
   "metadata": {},
   "source": [
    "##### 3. Reverse the given array in-place, means without using any extra data structure.\n",
    "* arr = [2, 4, 5, 7, 9, 12]\n",
    "* Output = [12, 9, 7, 5, 4, 2]\n"
   ]
  },
  {
   "cell_type": "code",
   "execution_count": 4,
   "metadata": {},
   "outputs": [
    {
     "name": "stdout",
     "output_type": "stream",
     "text": [
      "The input array is : ['1', '2', '3', '4', '5', '6', '7', '8']\n",
      "OutPut :  ['8', '7', '6', '5', '4', '3', '2', '1']\n"
     ]
    }
   ],
   "source": [
    "# create method to reverse the array\n",
    "def reverse_array(arr):\n",
    "    # get the length of array using len()\n",
    "    l = len(arr) \n",
    "    # iterate a loop from 0 to half of the length of array\n",
    "    for i in range(l//2):\n",
    "        # swap the first ith value to last ith value\n",
    "        arr[i], arr[l-i-1] = arr[l-i-1], arr[i]\n",
    "    return arr \n",
    "# driver code\n",
    "# take input from user using input(), split the elements using split() based on spaces\n",
    "inp_arr = input(\"Enter space seperated elements\").split()\n",
    "# print input array\n",
    "print(\"The input array is :\", inp_arr)\n",
    "# call the function and print the result\n",
    "print(\"OutPut : \",reverse_array(inp_arr))"
   ]
  },
  {
   "cell_type": "markdown",
   "metadata": {},
   "source": [
    "##### 4. Given an array of integers, find the maximum element in an array\n",
    "* arr = [10, 5, 20, 8, 15]\n",
    "* Output = 20"
   ]
  },
  {
   "cell_type": "code",
   "execution_count": 6,
   "metadata": {},
   "outputs": [
    {
     "name": "stdout",
     "output_type": "stream",
     "text": [
      "The input array is : [23, 45, 93, 46, 85, 72, 62]\n",
      "OutPut :  93\n"
     ]
    }
   ],
   "source": [
    "# create a function to calculate the maximum value in array\n",
    "def get_max(arr):\n",
    "    maxm = -1000000000\n",
    "    # iterate over elements of array\n",
    "    for i in arr:\n",
    "        # check if current element is greater than maxm value then put the element in maxm variable\n",
    "        maxm = maxm if maxm>i else i\n",
    "    return maxm\n",
    "# driver code\n",
    "# take input from user using input(), split the elements using split() based on spaces\n",
    "# convert its elements into integer using map() and convert the map object to array using list()\n",
    "inp_arr = list(map(int,input(\"Enter space seperated elements\").split()))\n",
    "# print input array\n",
    "print(\"The input array is :\", inp_arr)\n",
    "# call the function and print the result\n",
    "print(\"OutPut : \",get_max(inp_arr))"
   ]
  },
  {
   "cell_type": "markdown",
   "metadata": {},
   "source": [
    "##### 5. Given a sorted array, remove the duplicate element without using any extra data structure.\n",
    "* arr = [1, 1, 2, 2, 2, 3, 3, 4, 4, 4, 5, 5]\n",
    "* Output = [1, 2, 3, 4, 5]"
   ]
  },
  {
   "cell_type": "code",
   "execution_count": 17,
   "metadata": {},
   "outputs": [
    {
     "name": "stdout",
     "output_type": "stream",
     "text": [
      "The input array is : ['1', '1', '2', '2', '2', '3', '3', '4', '4', '4', '5', '5', '6', '6', '6', '6', '6', '7', '8', '9', '0']\n",
      "OutPut :  ['1', '2', '3', '4', '5', '6', '7', '8', '9', '0']\n"
     ]
    }
   ],
   "source": [
    "# create a method to remove duplicates from array\n",
    "def remove_duplicates(arr):\n",
    "    # get the length of array using len()\n",
    "    l = len(arr)\n",
    "    # if array has one element or no element the return the array.\n",
    "    if l<=1:\n",
    "        return arr\n",
    "    # initialize a loop variable with value 1\n",
    "    i=1\n",
    "    # execute a loop util value of loop variable is less then length of array\n",
    "    while i<len(arr):\n",
    "        # if value at index i is equal to value at index i-1 the delete the value at current index\n",
    "        if arr[i]==arr[i-1]:\n",
    "            del arr[i]\n",
    "        # otherwise increase the value of loop variable by 1\n",
    "        else :\n",
    "            i+=1\n",
    "    # return the loop after removing all duplicates from array.\n",
    "    return arr\n",
    "# driver code\n",
    "# take input from user using input(), split the elements using split() based on spaces\n",
    "inp_arr = input(\"Enter space seperated sorted elements\").split()\n",
    "# print input array\n",
    "print(\"The input array is :\", inp_arr)\n",
    "# call the function and print the result\n",
    "print(\"OutPut : \",remove_duplicates(inp_arr))"
   ]
  }
 ],
 "metadata": {
  "kernelspec": {
   "display_name": "base",
   "language": "python",
   "name": "python3"
  },
  "language_info": {
   "codemirror_mode": {
    "name": "ipython",
    "version": 3
   },
   "file_extension": ".py",
   "mimetype": "text/x-python",
   "name": "python",
   "nbconvert_exporter": "python",
   "pygments_lexer": "ipython3",
   "version": "3.11.4"
  }
 },
 "nbformat": 4,
 "nbformat_minor": 2
}
