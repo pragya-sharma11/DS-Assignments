{
 "cells": [
  {
   "cell_type": "markdown",
   "metadata": {},
   "source": [
    "##### Problem 1.Given an array of n numbers, give an algorithm which gives the element appearing maximum number of times?"
   ]
  },
  {
   "cell_type": "code",
   "execution_count": 1,
   "metadata": {},
   "outputs": [
    {
     "name": "stdout",
     "output_type": "stream",
     "text": [
      "Element appearing maximum number of times is 4\n"
     ]
    }
   ],
   "source": [
    "# create a method to calculate element which appears maximum number of times.\n",
    "def max_count(arr):\n",
    "    # create a dict to calculate count of each element\n",
    "    element_count = dict() \n",
    "    # iterate over each element of array\n",
    "    for i in arr:\n",
    "        # if element i is not present as key in element_count dict \n",
    "        if i not in element_count.keys():\n",
    "            # then add this key with value 1\n",
    "            element_count[i] = 1\n",
    "        # otherwise increase the value of that key by 1\n",
    "        else :\n",
    "            element_count[i] += 1\n",
    "    # initialize a variable to store maximum count\n",
    "    maxm = -1 \n",
    "    # initialize a variable to store key\n",
    "    key = None\n",
    "    # iterate over keys of element_count dict \n",
    "    for i in element_count.keys():\n",
    "        # if value of maxm is less than value of key i\n",
    "        if maxm<element_count[i]:\n",
    "            # then put it in key variable \n",
    "            key = i\n",
    "            # update the value of maxm\n",
    "            maxm = element_count[i]\n",
    "    # if value of maxm is greater than -1 then print the key\n",
    "    if maxm>-1:\n",
    "        print(f\"Element appearing maximum number of times is {key}\")\n",
    "    else :\n",
    "        print('No value')\n",
    "max_count([43,6,6,4,4,7,9,4,1,2])\n",
    "    "
   ]
  },
  {
   "cell_type": "markdown",
   "metadata": {},
   "source": [
    "##### Problem 2 : We are given a list of n-1 integers and these integers are in the range of 1 to n . There are no duplicates in the list. One of the integers is missing in the list. Give an algorithm to find that element Ex: [1,2,4,6,3,7,8] 5 is the missing num."
   ]
  },
  {
   "cell_type": "code",
   "execution_count": 3,
   "metadata": {},
   "outputs": [
    {
     "name": "stdout",
     "output_type": "stream",
     "text": [
      "The missing element = 5\n"
     ]
    }
   ],
   "source": [
    "from  functools import *\n",
    "# create a method to find missing element\n",
    "def find_missing(arr):\n",
    "    # get the length of arr coz length of this array +1 will  be equal to n (referred in the question)\n",
    "    n = len(arr) + 1\n",
    "    # calculate sum of values from 1 to n using formula n*(n+1)/2\n",
    "    sum_n = n*(n+1)//2\n",
    "    # calulate the sum of element of array \n",
    "    sum_arr = reduce(lambda x, y: x+y, arr)\n",
    "    # get missing element by subtracting sum opf array from sum of n natural numbers\n",
    "    missing_element = sum_n - sum_arr\n",
    "    # print the missing element\n",
    "    print(\"The missing element =\", missing_element)\n",
    "# call the function\n",
    "find_missing([1,2,4,6,3,7,8])\n"
   ]
  },
  {
   "cell_type": "markdown",
   "metadata": {},
   "source": [
    "##### Problem 3 : Given an array of n positive numbers. All numbers occurs even number of times except 1 which occurs odd number of times. Find that number in O(n) time and O(1) space. Ex: [1,2,3,2,3,1,3]. 3 is repeats odd times."
   ]
  },
  {
   "cell_type": "code",
   "execution_count": 4,
   "metadata": {},
   "outputs": [
    {
     "name": "stdout",
     "output_type": "stream",
     "text": [
      "The element which occurs odd number of time in array [1, 2, 3, 2, 3, 1, 3] is 3\n"
     ]
    }
   ],
   "source": [
    "# create a method to find element which occurs odd number of time\n",
    "def find_element(arr):\n",
    "    # initialize a variable to set occurence of each element as on/off.\n",
    "    val = 0 \n",
    "    # iterate over elements of array\n",
    "    for i in arr:\n",
    "        # do xor operation to set the flag as on/off based on the occurence\n",
    "        val = val^i \n",
    "    # return the val\n",
    "    return val \n",
    "# driver's code \n",
    "arr = [1,2,3,2,3,1,3]\n",
    "# get the element which occurs odd number of time using find_element() method\n",
    "print(f'The element which occurs odd number of time in array {arr} is {find_element(arr)}')"
   ]
  },
  {
   "cell_type": "markdown",
   "metadata": {},
   "source": [
    "##### Problem 4 : Given an array of n elements. Find two elements in the array such that their sum is equal to given element K."
   ]
  },
  {
   "cell_type": "code",
   "execution_count": 7,
   "metadata": {},
   "outputs": [
    {
     "name": "stdout",
     "output_type": "stream",
     "text": [
      "The 2 elements whose sum is equal to 9 = (4, 5)\n"
     ]
    }
   ],
   "source": [
    "# create a method to sort an array\n",
    "def sort_array(arr):\n",
    "    # iterate over elements of array\n",
    "    for i in range(len(arr)-1):\n",
    "        # iterate over elements of array for comparison\n",
    "        for j in range(0, len(arr)-i-1):\n",
    "            # if current element is greater than next element then swap them\n",
    "            if arr[j]>arr[j+1]:\n",
    "                arr[j], arr[j+1] = arr[j+1] , arr[j]\n",
    "    # return array\n",
    "    return arr \n",
    "# create a method to get the 2 elements whose sum is equal to k\n",
    "def get_pair(arr,k):\n",
    "    # get the sorted array using sort_array() method\n",
    "    arr = sort_array(arr) \n",
    "    # initialize 2 counter variables for start and end of array index\n",
    "    i = 0 \n",
    "    j = len(arr)  - 1 \n",
    "    # iterate till i<=j\n",
    "    while i<=j:\n",
    "        # if sum of elements at index i and j is equal to k then return these elements\n",
    "        if arr[i] + arr[j] == k:\n",
    "            return (arr[i], arr[j])\n",
    "        # if sum of elements at index i and j < k then increase index i by 1\n",
    "        elif arr[i] + arr[j] < k:\n",
    "            i+=1 \n",
    "        # if sum of elements at index i and j > k then decrease index j by 1\n",
    "        elif arr[i] + arr[j] > k:\n",
    "            j-=1\n",
    "# driver code\n",
    "k = 9\n",
    "arr = [1,5,3,7,4,3,9,4]\n",
    "# get the elements and print it\n",
    "print(f\"The 2 elements whose sum is equal to {k} = {get_pair(arr,k)}\")"
   ]
  },
  {
   "cell_type": "markdown",
   "metadata": {},
   "source": [
    "##### Problem 5 : Given an array of both positive and negative numbers, find two numbers such that their sum is closest to 0. Ex: [ 1 ,60 ,-10, 70, -80,85]. Ans : -80,85."
   ]
  },
  {
   "cell_type": "code",
   "execution_count": 16,
   "metadata": {},
   "outputs": [
    {
     "name": "stdout",
     "output_type": "stream",
     "text": [
      "The 2 elements whose sum is close to 0 = (-80, 85)\n"
     ]
    }
   ],
   "source": [
    "# create a method to sort an array\n",
    "def sort_array(arr):\n",
    "    # iterate over elements of array\n",
    "    for i in range(len(arr)-1):\n",
    "        # iterate over elements of array for comparison\n",
    "        for j in range(0, len(arr)-i-1):\n",
    "            # if current element is greater than next element then swap them\n",
    "            if arr[j]>arr[j+1]:\n",
    "                arr[j], arr[j+1] = arr[j+1] , arr[j]\n",
    "    # return array\n",
    "    return arr \n",
    "# create a method to get the 2 elements whose sum is equal to k\n",
    "def get_pair(arr,k):\n",
    "    # get the sorted array using sort_array() method\n",
    "    arr = sort_array(arr) \n",
    "    # initialize 2 counter variables for start and end of array index\n",
    "    i = 0 \n",
    "    j = len(arr)  - 1 \n",
    "    # initialize a variable to store the value close to 0\n",
    "    val = 10000000000000\n",
    "    a, b = None, None\n",
    "    # iterate till i<=j\n",
    "    while i<=j:\n",
    "        sm = abs(arr[i] + arr[j]) \n",
    "        if val >= sm:\n",
    "            val,a,b = sm, arr[i], arr[j] \n",
    "        # if sum of elements at index i and j is equal to k then return these elements\n",
    "        if sm == k:\n",
    "            return (arr[i], arr[j])\n",
    "        # if sum of elements at index i and j < k then increase index i by 1\n",
    "        elif sm < k:\n",
    "            i+=1 \n",
    "        # if sum of elements at index i and j > k then decrease index j by 1\n",
    "        elif sm > k:\n",
    "            j-=1\n",
    "    return (a,b)\n",
    "        \n",
    "# driver code\n",
    "k = 0\n",
    "arr = [1,60,-10,70,-80,85]\n",
    "# -80 -10 1 60 70 85\n",
    "# get the elements and print it\n",
    "print(f\"The 2 elements whose sum is close to {k} = {get_pair(arr,k)}\")"
   ]
  },
  {
   "cell_type": "markdown",
   "metadata": {},
   "source": [
    "##### Problem 6 : Given an array of n elements . Find three elements such that their sum is equal to the given number."
   ]
  },
  {
   "cell_type": "code",
   "execution_count": 9,
   "metadata": {},
   "outputs": [
    {
     "name": "stdout",
     "output_type": "stream",
     "text": [
      "The 3 elements whose sum is equal to 15 = (1, 5, 9)\n"
     ]
    }
   ],
   "source": [
    "# create a method to sort an array\n",
    "def sort_array(arr):\n",
    "    # iterate over elements of array\n",
    "    for i in range(len(arr)-1):\n",
    "        # iterate over elements of array for comparison\n",
    "        for j in range(0, len(arr)-i-1):\n",
    "            # if current element is greater than next element then swap them\n",
    "            if arr[j]>arr[j+1]:\n",
    "                arr[j], arr[j+1] = arr[j+1] , arr[j]\n",
    "    # return array\n",
    "    return arr \n",
    "# create a method to get the 3 elements whose sum is equal to k\n",
    "def get_triplet(arr,k):\n",
    "    # get the sorted array using sort_array() method\n",
    "    arr = sort_array(arr) \n",
    "    for m in range(len(arr)-2):\n",
    "        # initialize 2 counter variables for start and end of array index\n",
    "        i = m+1 \n",
    "        j = len(arr)  - 1 \n",
    "        # iterate till i<=j\n",
    "        while i<=j:\n",
    "            sm = arr[i] + arr[j]+arr[m]\n",
    "            # if sum of elements at index i and j is equal to k then return these elements\n",
    "            if  sm== k:\n",
    "                return (arr[m],arr[i], arr[j])\n",
    "            # if sum of elements at index i and j < k then increase index i by 1\n",
    "            elif sm < k:\n",
    "                i+=1 \n",
    "            # if sum of elements at index i and j > k then decrease index j by 1\n",
    "            elif sm > k:\n",
    "                j-=1\n",
    "\n",
    "# driver code\n",
    "k = 15\n",
    "arr = [1,5,3,7,4,3,9,4]\n",
    "# get the elements and print it\n",
    "print(f\"The 3 elements whose sum is equal to {k} = {get_triplet(arr,k)}\")"
   ]
  },
  {
   "cell_type": "markdown",
   "metadata": {},
   "source": [
    "##### Problem 7 : Given an array of n elements . Find three elements i, j, k in the array such that i * i + j * j = k*k."
   ]
  },
  {
   "cell_type": "code",
   "execution_count": 17,
   "metadata": {},
   "outputs": [
    {
     "name": "stdout",
     "output_type": "stream",
     "text": [
      "The 3 elements which satisfy the condition i*i + j*j = K*k are  (5, 3, 4)\n"
     ]
    }
   ],
   "source": [
    "# create a method to sort an array\n",
    "def sort_array(arr):\n",
    "    # iterate over elements of array\n",
    "    for i in range(len(arr)-1):\n",
    "        # iterate over elements of array for comparison\n",
    "        for j in range(0, len(arr)-i-1):\n",
    "            # if current element is greater than next element then swap them\n",
    "            if arr[j]>arr[j+1]:\n",
    "                arr[j], arr[j+1] = arr[j+1] , arr[j]\n",
    "    # return array\n",
    "    return arr \n",
    "# create a method to get the 3 elements whose sum is equal to k\n",
    "def get_triplet(arr):\n",
    "    # get the sorted array using sort_array() method\n",
    "    arr = sort_array(arr) \n",
    "    for m in range(len(arr)-1, 1,-1):\n",
    "        # initialize 2 counter variables for start and end of array index\n",
    "        i = 0 \n",
    "        j =  m-1\n",
    "        k = arr[m]**2\n",
    "        # iterate till i<=j\n",
    "        while i<=j:\n",
    "            sm = arr[i]**2 + arr[j]**2\n",
    "            # if sum of elements at index i and j is equal to k then return these elements\n",
    "            if  sm == k:\n",
    "                return (arr[m],arr[i], arr[j])\n",
    "            # if sum of elements at index i and j < k then increase index i by 1\n",
    "            elif sm < k:\n",
    "                i+=1 \n",
    "            # if sum of elements at index i and j > k then decrease index j by 1\n",
    "            elif sm > k:\n",
    "                j-=1\n",
    "    return \"Triplets doesn't exists\"\n",
    "\n",
    "# driver code\n",
    "arr = [1,5,3,7,4,3,9,4]\n",
    "# get the elements and print it\n",
    "print(f\"The 3 elements which satisfy the condition i*i + j*j = K*k are  {get_triplet(arr)}\")"
   ]
  },
  {
   "cell_type": "markdown",
   "metadata": {},
   "source": [
    "##### Problem 8 : An element is a majority if it appears more than n/2 times. Give an algorithm takes an array of n element as argument and identifies a majority (if it exists)."
   ]
  },
  {
   "cell_type": "code",
   "execution_count": 5,
   "metadata": {},
   "outputs": [
    {
     "name": "stdout",
     "output_type": "stream",
     "text": [
      "Majority element is 3\n"
     ]
    }
   ],
   "source": [
    "# create a method to find majority element\n",
    "def find_majority(arr):\n",
    "    # initialize a variable to store index of majority element\n",
    "    ind = 0\n",
    "    # initialize a counter variable to store count of element at index 'ind'\n",
    "    count = 0\n",
    "    # iterate over the elements of the array\n",
    "    for i in range(len(arr)):\n",
    "        # if the element at index i is equal to element at index ind\n",
    "        if arr[ind] == arr[i]:\n",
    "            # increase the value of count by 1\n",
    "            count += 1\n",
    "        # otherwise decrease the count by 1\n",
    "        else :\n",
    "            count -= 1\n",
    "        # if count is 0\n",
    "        if count == 0:\n",
    "            # then change the value index ind to value of index i \n",
    "            ind = i \n",
    "            # change the value of count as 1\n",
    "            count = 1\n",
    "    # return the element at index ind\n",
    "    return arr[ind]\n",
    "# create a method to check that the element passed in argument is majority element or not\n",
    "def is_majority(arr, num):\n",
    "    # initialize a counter variable to store count of num present in array\n",
    "    cnt = 0\n",
    "    # iterate over the elements of the array\n",
    "    for i in arr:\n",
    "        # if current array element is equal to the num\n",
    "        if i == num:\n",
    "            # increase cnt by 1\n",
    "            cnt += 1\n",
    "    # return the boolean value if the num is majority or not\n",
    "    return cnt>= len(arr)//2\n",
    "# drivers code\n",
    "arr = [1,2,3,3,3,2,3,2]\n",
    "# find majority element using find_majority() \n",
    "element = find_majority(arr)\n",
    "# check if this element is majority element \n",
    "if is_majority(arr, element):\n",
    "    # print the result\n",
    "    print(\"Majority element is\", element)\n",
    "else:\n",
    "    print('No majority element existed')"
   ]
  },
  {
   "cell_type": "markdown",
   "metadata": {},
   "source": [
    "##### Problem 9 : Given n × n matrix, and in each row all 1’s are followed by 0’s. Find the row with the maximum number of 0’s.\n"
   ]
  },
  {
   "cell_type": "code",
   "execution_count": 21,
   "metadata": {},
   "outputs": [
    {
     "name": "stdout",
     "output_type": "stream",
     "text": [
      "Row with maximum zeros = [0, 0, 0, 0]\n"
     ]
    }
   ],
   "source": [
    "# create a method to find the row with maximum zeros \n",
    "def max_zero(matrix):\n",
    "    # initialize a variable to store minimum sum of row\n",
    "    minm = 100000000000000000000\n",
    "    # initialize a list to store that row\n",
    "    rn = []\n",
    "    # iterate over each row\n",
    "    for i in range(len(matrix)):\n",
    "        sm_row =0\n",
    "        # iterate over each element of row\n",
    "        for j in range(len(matrix[i])):\n",
    "            # calculate sum of each element\n",
    "            sm_row = sm_row + matrix[i][j]\n",
    "        # if sum of current row is lesser than previous then assign it as minimum sum and store this row in rn\n",
    "        if minm > sm_row:\n",
    "            minm = sm_row \n",
    "            rn = matrix[i]\n",
    "    # return the row with least sum\n",
    "    return rn \n",
    "\n",
    "# drivers code \n",
    "matrix = [[1,0,1,0],[0,1,0,0],[0,0,1,0],[0,0,0,0]]\n",
    "# call max_zero() method to get the result\n",
    "print(f'Row with maximum zeros = {max_zero(matrix)}')\n",
    "\n",
    "\n"
   ]
  },
  {
   "cell_type": "markdown",
   "metadata": {},
   "source": [
    "##### Problem 10 : Sort an array of 0’s, 1’s and 2’s [or R’s, G’s and B’s]: Given an array A[] consisting of 0’s, 1’s and 2’s, give an algorithm for sorting A[].The algorithm should put all 0’s first, then all 1’s and finally all 2’s at the end. Example Input = {0,1,1,0,1,2,1,2,0,0,0,1}, Output = {0,0,0,0,0,1,1,1,1,1,2,2}"
   ]
  },
  {
   "cell_type": "code",
   "execution_count": 26,
   "metadata": {},
   "outputs": [
    {
     "name": "stdout",
     "output_type": "stream",
     "text": [
      "sorted array =  [0, 0, 0, 0, 0, 1, 1, 1, 1, 1, 2, 2]\n"
     ]
    }
   ],
   "source": [
    "# create a method to sort the array with 3 distinct elements\n",
    "def sort_arr(arr):\n",
    "    # initialize variables for start, mid and end counters\n",
    "    i = 0\n",
    "    j = len(arr)-1\n",
    "    mid = 0 \n",
    "    # iterate over the elements\n",
    "    while i<=j and mid<=j:\n",
    "        # if mid element is 0 then swap it with ith element\n",
    "        if arr[mid] == 0:\n",
    "            # swap the elements\n",
    "            arr[mid], arr[i] = arr[i], arr[mid]\n",
    "            # increase it counters\n",
    "            mid += 1\n",
    "            i+=1\n",
    "        # if mid element is 1 then swap increase the counter\n",
    "        elif arr[mid] == 1:\n",
    "            mid +=1\n",
    "        # otherwise swap the mid element with jth element\n",
    "        else :\n",
    "            arr[j], arr[mid] = arr[mid] , arr[j]\n",
    "            # decrease the jth counter\n",
    "            j-=1\n",
    "    # return the array\n",
    "    return arr \n",
    "# sort the array using sort_arr() method\n",
    "print(\"sorted array = \",sort_arr([0,1,1,0,1,2,1,2,0,0,0,1]))\n",
    "\n",
    "        \n"
   ]
  },
  {
   "cell_type": "markdown",
   "metadata": {},
   "source": []
  }
 ],
 "metadata": {
  "kernelspec": {
   "display_name": "base",
   "language": "python",
   "name": "python3"
  },
  "language_info": {
   "codemirror_mode": {
    "name": "ipython",
    "version": 3
   },
   "file_extension": ".py",
   "mimetype": "text/x-python",
   "name": "python",
   "nbconvert_exporter": "python",
   "pygments_lexer": "ipython3",
   "version": "3.11.4"
  }
 },
 "nbformat": 4,
 "nbformat_minor": 2
}
