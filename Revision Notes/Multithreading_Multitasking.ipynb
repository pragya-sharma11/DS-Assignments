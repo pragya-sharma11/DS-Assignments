{
 "cells": [
  {
   "cell_type": "code",
   "execution_count": 3,
   "metadata": {},
   "outputs": [
    {
     "name": "stdout",
     "output_type": "stream",
     "text": [
      "100  -  1\n",
      "\n",
      "200  -  1\n",
      "\n",
      "300  -  1\n",
      "\n"
     ]
    },
    {
     "name": "stdout",
     "output_type": "stream",
     "text": [
      "100  -  2\n",
      "200  -  2\n",
      "\n",
      "\n",
      "300  -  2\n",
      "\n",
      "300  -  3\n",
      "200  -  3\n",
      "\n",
      "100  -  3\n",
      "\n",
      "\n",
      "200  -  4\n",
      "100  -  4\n",
      "\n",
      "300  -  4\n",
      "\n",
      "\n",
      "200  -  5\n",
      "100  -  5\n",
      "\n",
      "300  -  5\n",
      "\n",
      "\n",
      "100  -  6\n",
      "\n",
      "200  -  6\n",
      "\n",
      "300  -  6\n",
      "\n",
      "300  -  7\n",
      "200  -  7\n",
      "\n",
      "100  -  7\n",
      "\n",
      "\n",
      "100  -  8\n",
      "200  -  8\n",
      "\n",
      "300  -  8\n",
      "\n",
      "\n",
      "100  -  9\n",
      "\n",
      "300  -  9\n",
      "\n",
      "200  -  9\n",
      "\n",
      "300  -  10\n",
      "100  -  10\n",
      "\n",
      "200  -  10\n",
      "\n",
      "\n"
     ]
    }
   ],
   "source": [
    "import time \n",
    "import threading\n",
    "\n",
    "def loop1(x):\n",
    "    for i in range(1, 11):\n",
    "        print(f'{x}  -  {i}\\n')\n",
    "        time.sleep(1)\n",
    "threads = [threading.Thread(target=loop1, args=(i,)) for i in [100,200,300]]\n",
    "\n",
    "for thread in threads:\n",
    "    thread.start()"
   ]
  },
  {
   "cell_type": "code",
   "execution_count": 18,
   "metadata": {},
   "outputs": [
    {
     "name": "stdout",
     "output_type": "stream",
     "text": [
      "1112  -  1\n",
      "\n",
      "3241  -  2\n",
      "\n",
      "325  -  3\n",
      "\n",
      "765  -  4\n",
      "\n"
     ]
    },
    {
     "name": "stdout",
     "output_type": "stream",
     "text": [
      "325  -  5\n",
      "\n",
      "1112  -  6\n",
      "\n",
      "765  -  7\n",
      "\n",
      "3241  -  8\n",
      "\n"
     ]
    }
   ],
   "source": [
    "shared_var = 0 \n",
    "lock_var = threading.Lock()\n",
    "def experiment_with_shared_var(x):\n",
    "    global shared_var\n",
    "    with lock_var:\n",
    "        shared_var +=1 \n",
    "        print(f'{x}  -  {shared_var}\\n')\n",
    "        time.sleep(1)\n",
    "        shared_var +=1 \n",
    "        print(f'{x}  -  {shared_var}\\n')\n",
    "    # shared_var +=1 \n",
    "    # print(f'{x}  -  {shared_var}\\n')\n",
    "    # time.sleep(1)\n",
    "    # shared_var +=1 \n",
    "    # print(f'{x}  -  {shared_var}\\n')\n",
    "threads = [threading.Thread(target=experiment_with_shared_var, args=(i,)) for i in [1112,3241,325,765]]\n",
    "\n",
    "for thread in threads:\n",
    "    thread.start()"
   ]
  },
  {
   "cell_type": "code",
   "execution_count": 21,
   "metadata": {},
   "outputs": [
    {
     "name": "stdout",
     "output_type": "stream",
     "text": [
      "Sleeping for 1 sec...\n",
      "Done sleeping...\n",
      "finished in 1.0 seconds\n"
     ]
    }
   ],
   "source": [
    "def do_something():\n",
    "    print('Sleeping for 1 sec...')\n",
    "    time.sleep(1)\n",
    "    print('Done sleeping...')\n",
    "start = time.perf_counter()\n",
    "do_something()\n",
    "finish = time.perf_counter()\n",
    "\n",
    "print(f'finished in {round(finish - start, 2)} seconds')\n"
   ]
  },
  {
   "cell_type": "code",
   "execution_count": 24,
   "metadata": {},
   "outputs": [
    {
     "name": "stdout",
     "output_type": "stream",
     "text": [
      "Sleeping for 1 sec...\n",
      "Done sleeping...\n",
      "Sleeping for 1 sec...\n",
      "Done sleeping...\n",
      "Sleeping for 1 sec...\n",
      "Done sleeping...\n",
      "Sleeping for 1 sec...\n",
      "Done sleeping...\n",
      "finished in 4.0 seconds\n"
     ]
    }
   ],
   "source": [
    "start = time.perf_counter()\n",
    "do_something()\n",
    "do_something()\n",
    "do_something()\n",
    "do_something()\n",
    "finish = time.perf_counter()\n",
    "\n",
    "print(f'finished in {round(finish - start, 2)} seconds')"
   ]
  },
  {
   "cell_type": "code",
   "execution_count": 29,
   "metadata": {},
   "outputs": [
    {
     "name": "stdout",
     "output_type": "stream",
     "text": [
      "Sleeping for 1 sec...\n",
      "Sleeping for 1 sec...\n",
      "Sleeping for 1 sec...\n",
      "Sleeping for 1 sec...\n",
      "Sleeping for 1 sec...\n",
      "finished in 0.01 seconds\n"
     ]
    },
    {
     "name": "stdout",
     "output_type": "stream",
     "text": [
      "Done sleeping...Done sleeping...\n",
      "\n",
      "Done sleeping...\n",
      "Done sleeping...\n",
      "Done sleeping...\n"
     ]
    }
   ],
   "source": [
    "threads = [threading.Thread(target= do_something) for i in [1,2,3,4,5]]\n",
    "start = time.perf_counter()\n",
    "for t in threads:\n",
    "    t.start()\n",
    "finish = time.perf_counter()\n",
    "\n",
    "print(f'finished in {round(finish - start, 2)} seconds')"
   ]
  },
  {
   "cell_type": "code",
   "execution_count": 32,
   "metadata": {},
   "outputs": [
    {
     "name": "stdout",
     "output_type": "stream",
     "text": [
      "Sleeping for 1 sec...Sleeping for 1 sec...\n",
      "\n",
      "finished in 0.0 seconds\n"
     ]
    },
    {
     "name": "stdout",
     "output_type": "stream",
     "text": [
      "Done sleeping...Done sleeping...\n",
      "\n"
     ]
    }
   ],
   "source": [
    "t1 = threading.Thread(target= do_something)\n",
    "t2 = threading.Thread(target= do_something)\n",
    "\n",
    "start = time.perf_counter()\n",
    "t1.start()\n",
    "t2.start()\n",
    "finish = time.perf_counter()\n",
    "\n",
    "print(f'finished in {round(finish - start, 2)} seconds')"
   ]
  },
  {
   "cell_type": "code",
   "execution_count": 34,
   "metadata": {},
   "outputs": [
    {
     "name": "stdout",
     "output_type": "stream",
     "text": [
      "Sleeping for 1 sec...\n",
      "Sleeping for 1 sec...\n",
      "Done sleeping...Done sleeping...\n",
      "\n",
      "finished in 1.01 seconds\n"
     ]
    }
   ],
   "source": [
    "t1 = threading.Thread(target= do_something)\n",
    "t2 = threading.Thread(target= do_something)\n",
    "\n",
    "start = time.perf_counter()\n",
    "t1.start()\n",
    "t2.start()\n",
    "t1.join()\n",
    "t2.join()\n",
    "finish = time.perf_counter()\n",
    "\n",
    "print(f'finished in {round(finish - start, 2)} seconds')"
   ]
  },
  {
   "cell_type": "code",
   "execution_count": null,
   "metadata": {},
   "outputs": [],
   "source": []
  }
 ],
 "metadata": {
  "kernelspec": {
   "display_name": "base",
   "language": "python",
   "name": "python3"
  },
  "language_info": {
   "codemirror_mode": {
    "name": "ipython",
    "version": 3
   },
   "file_extension": ".py",
   "mimetype": "text/x-python",
   "name": "python",
   "nbconvert_exporter": "python",
   "pygments_lexer": "ipython3",
   "version": "3.11.4"
  }
 },
 "nbformat": 4,
 "nbformat_minor": 2
}
