{
 "cells": [
  {
   "cell_type": "markdown",
   "metadata": {},
   "source": [
    "# ***`Basic If-Else Statements:`***"
   ]
  },
  {
   "cell_type": "markdown",
   "metadata": {},
   "source": [
    "##### 1. Write a Python program to check if a given number is positive or negative.\n"
   ]
  },
  {
   "cell_type": "code",
   "execution_count": 3,
   "metadata": {},
   "outputs": [
    {
     "name": "stdout",
     "output_type": "stream",
     "text": [
      "the number is - 57\n",
      "Number is positive\n"
     ]
    }
   ],
   "source": [
    "# take input interegr value using input() and convert it into integer using int()\n",
    "n = int(input(\"enter an integer value\"))\n",
    "# print the input number\n",
    "print(\"the number is -\", n)\n",
    "# check if number is greater than 0 for positive number and print the result\n",
    "if n>0:\n",
    "    print(\"Number is positive\")\n",
    "# if number is lesser than 0 then it is a negative number\n",
    "elif n<0 :\n",
    "    print(\"Number is negative\")"
   ]
  },
  {
   "cell_type": "markdown",
   "metadata": {},
   "source": [
    "##### 2. Create a program that determines if a person is eligible to vote based on their age.\n"
   ]
  },
  {
   "cell_type": "code",
   "execution_count": 4,
   "metadata": {},
   "outputs": [
    {
     "name": "stdout",
     "output_type": "stream",
     "text": [
      "The age - 19\n",
      "Congrats, you are eligible to vote\n"
     ]
    }
   ],
   "source": [
    "# take input interegr value for age using input() and convert it into integer using int()\n",
    "age = int(input(\"Enter your age\"))\n",
    "# print age entered\n",
    "print(\"The age -\", age)\n",
    "# check if age is greater than equal to 18 for boting eligibility and print the message\n",
    "if age>=18:\n",
    "    print(\"Congrats, you are eligible to vote\")\n",
    "else :\n",
    "    print(\"Sorry, you are not eligible to vote\")"
   ]
  },
  {
   "cell_type": "markdown",
   "metadata": {},
   "source": [
    "##### 3. Develop a program to find the maximum of two numbers using if-else statements.\n"
   ]
  },
  {
   "cell_type": "code",
   "execution_count": 5,
   "metadata": {},
   "outputs": [
    {
     "name": "stdout",
     "output_type": "stream",
     "text": [
      "The numbers entered are -45, 576 \n",
      "The larger number is 576\n"
     ]
    }
   ],
   "source": [
    "# take input 2 interegr values using input() and convert it into integer using int()\n",
    "a = int(input(\"Enter 1st value\"))\n",
    "b = int(input(\"Enter 2nd value\"))\n",
    "# print the entered numbers \n",
    "print(\"The numbers entered are -{}, {} \".format(a,b))\n",
    "# check if a is greater than b then a is greater otherwise b is greater\n",
    "if a>b:\n",
    "    print(\"The larger number is\",a)\n",
    "else:\n",
    "    print(\"The larger number is\",b)"
   ]
  },
  {
   "cell_type": "markdown",
   "metadata": {},
   "source": [
    "##### 4. Write a Python script to classify a given year as a leap year or not.\n"
   ]
  },
  {
   "cell_type": "code",
   "execution_count": 7,
   "metadata": {},
   "outputs": [
    {
     "name": "stdout",
     "output_type": "stream",
     "text": [
      "the year is - 3000\n",
      "It is not a leap year\n"
     ]
    }
   ],
   "source": [
    "# take input interegr year value using input() and convert it into integer using int()\n",
    "y = int(input(\"enter an integer value\"))\n",
    "# print the entered age\n",
    "print(\"the year is -\", y)\n",
    "''' \n",
    "approach - if year is divisible by 4, it is leap year. But if we are checking for centuries, we need to \n",
    "check if year is divisible by 400 to be a leap year\n",
    "'''\n",
    "# check if it a century, by checking if it evenly divisble by 100\n",
    "if y%100==0 :\n",
    "    # if the century is divisible by 400 evenly, then it is leap year \n",
    "    if y%400 == 0:\n",
    "        print(\"Leap year\")\n",
    "    else :\n",
    "        print(\"It is not a leap year\")\n",
    "# if it is not century, it is a normal year\n",
    "else:\n",
    "    #  we need to check if it is divisible by 4 then it is a leap yaer.\n",
    "    if y%4 == 0:\n",
    "        print(\"Leap year\")\n",
    "    else :\n",
    "        print(\"It is not a leap year\")\n",
    "\n",
    "\n"
   ]
  },
  {
   "cell_type": "markdown",
   "metadata": {},
   "source": [
    "##### 5. Create a program that checks whether a character is a vowel or a consonant.\n"
   ]
  },
  {
   "cell_type": "code",
   "execution_count": 8,
   "metadata": {},
   "outputs": [
    {
     "name": "stdout",
     "output_type": "stream",
     "text": [
      "The entered character - e\n",
      "It is a vowel\n"
     ]
    }
   ],
   "source": [
    "# take a character input from user using input() \n",
    "char = input(\"Enter a character\")\n",
    "# print the entered character\n",
    "print(\"The entered character -\", char)\n",
    "# check if it is a vowel, print the result\n",
    "if char in 'aeiouAEIOU':\n",
    "    print(\"It is a vowel\")\n",
    "else :\n",
    "    print(\"It is not a vowel\")"
   ]
  },
  {
   "cell_type": "markdown",
   "metadata": {},
   "source": [
    "##### 6. Implement a program to determine whether a given number is even or odd.\n"
   ]
  },
  {
   "cell_type": "code",
   "execution_count": 9,
   "metadata": {},
   "outputs": [
    {
     "name": "stdout",
     "output_type": "stream",
     "text": [
      "the number is - 46\n",
      "Number is even\n"
     ]
    }
   ],
   "source": [
    "# take input interegr value using input() and convert it into integer using int()\n",
    "n = int(input(\"enter an integer value\"))\n",
    "# print the entered number\n",
    "print(\"the number is -\", n)\n",
    "# check if the number is even and print the resultant output\n",
    "if n%2 == 0 :\n",
    "    print(\"Number is even\") \n",
    "else :\n",
    "    print(\"Number is odd\")"
   ]
  },
  {
   "cell_type": "markdown",
   "metadata": {},
   "source": [
    "##### 7. Write a Python function to calculate the absolute value of a number without using the `abs()` function.\n"
   ]
  },
  {
   "cell_type": "code",
   "execution_count": 13,
   "metadata": {},
   "outputs": [
    {
     "name": "stdout",
     "output_type": "stream",
     "text": [
      "the number : -32\n",
      "The absolute number is  32\n"
     ]
    }
   ],
   "source": [
    "# take input interegr value using input() and convert it into integer using int()\n",
    "n = int(input(\"enter an integer value\"))\n",
    "# print the entered number\n",
    "print(\"the number :\", n)\n",
    "# if number is less than 0 then make it positive\n",
    "if n<0:\n",
    "    print(\"The absolute number is \",-n)\n",
    "# if it is not less than 0, print it as it is\n",
    "else :\n",
    "    print(\"The absolute number -\", n)"
   ]
  },
  {
   "cell_type": "markdown",
   "metadata": {},
   "source": [
    "##### 8. Develop a program that determines the largest of three given numbers using if-else statements.\n"
   ]
  },
  {
   "cell_type": "code",
   "execution_count": 27,
   "metadata": {},
   "outputs": [
    {
     "name": "stdout",
     "output_type": "stream",
     "text": [
      "The numbers entered are 6, 2, 8 \n",
      "the largest number is 8\n"
     ]
    }
   ],
   "source": [
    "# take input 3 interegr values using input() and convert it into integer using int()\n",
    "a = int(input(\"Enter 1st value\"))\n",
    "b = int(input(\"Enter 2nd value\"))\n",
    "c = int(input(\"Enter 3rd value\"))\n",
    "# print the entered numbers \n",
    "print(\"The numbers entered are {}, {}, {} \".format(a,b,c))\n",
    "print(\"the largest number is\", end=\" \")\n",
    "# if a is greater than a and b the print a\n",
    "if a>b and a>c:\n",
    "    print(a)\n",
    "# if b is greater than c and b the print b\n",
    "elif b>c and b>a:\n",
    "    print(b)\n",
    "# it a and b are not largest then it means c is largest\n",
    "else :\n",
    "    print(c)"
   ]
  },
  {
   "cell_type": "markdown",
   "metadata": {},
   "source": [
    "##### 9. Create a program that checks if a given string is a palindrome."
   ]
  },
  {
   "cell_type": "code",
   "execution_count": 23,
   "metadata": {},
   "outputs": [
    {
     "name": "stdout",
     "output_type": "stream",
     "text": [
      "String entered by user is =  Madam\n",
      "String is palindrome but case is different\n"
     ]
    }
   ],
   "source": [
    "'''Palindrome meanse the word is equals to reverse of itself for example - *madam* reads same forward and backward\n",
    "approach will be- \n",
    "1 - we input the string\n",
    "2 - We calculate the reverse of the word\n",
    "3 - We check if the word is equal to its reverse word, but it has three possibilites \n",
    "3.1 - Word is palindrome but case of letters are diiferent for example Bab,\n",
    "reverse of Bab = baB. It is palindrome but in 1st word first B is capital and last b is small but in\n",
    "2nd word, last B is capital and first b is small. So we call it - String is palindrome but case is different.\n",
    "3.2 - Word is palindrome and case of all letters in words and its reverse are same.'\n",
    "3.3 - Word is not palindrome, word is not equal to its reversed word.\n",
    "'''\n",
    "\n",
    "# taking input from user by using input() function\n",
    "p1 = input(\"Enter a string\")\n",
    "\n",
    "# to get the reverse of the input string, we use slicing with negative jump.\n",
    "p2 = p1[::-1]\n",
    "print('String entered by user is = ',p1)\n",
    "\n",
    "''' to check the equality, we use if statement. \n",
    "first we check \n",
    "1 - if string is palindrome after changing the case of both strings using lower().\n",
    "if yes then we check if they are equal along with upper and lower case letters, if yes then string is palindrome\n",
    "if no then string is palindrome but case is different\n",
    "2 - If string is not palindrome  after changing the case of both strings to lower then \n",
    "string is not palindrome.'''\n",
    "\n",
    "if p1.lower() == p2.lower():\n",
    "    if p1==p2:\n",
    "        print('String is palindrome')\n",
    "    else:\n",
    "        print('String is palindrome but case is different')\n",
    "else:\n",
    "    print('String is not palindrome') "
   ]
  },
  {
   "cell_type": "markdown",
   "metadata": {},
   "source": [
    "##### 10. Write a Python program to calculate the grade based on a student's score."
   ]
  },
  {
   "cell_type": "code",
   "execution_count": 26,
   "metadata": {},
   "outputs": [
    {
     "name": "stdout",
     "output_type": "stream",
     "text": [
      "the score is - 90.5\n",
      "The grade is A+\n"
     ]
    }
   ],
   "source": [
    "# take input interegr value using input() and convert it into float value using float()\n",
    "score = float(input(\"enter a student score\"))\n",
    "print(\"the score is -\", score)\n",
    "# print the grade\n",
    "print(\"The grade is\", end=\" \")\n",
    "# check the score using if - elif ladder and print the result\n",
    "if score>=90:\n",
    "    print(\"A+\")\n",
    "elif score>=80 and score<90:\n",
    "    print(\"A\")\n",
    "elif score>=70 and score<80:\n",
    "    print(\"B\")\n",
    "elif score>=60 and score<70:\n",
    "    print(\"C\")\n",
    "elif score>=50 and score<60:\n",
    "    print(\"D\")\n",
    "elif score>=40 and score<50:\n",
    "    print(\"E\")\n",
    "else:\n",
    "    print(\"Fail\")\n"
   ]
  },
  {
   "cell_type": "markdown",
   "metadata": {},
   "source": [
    "# ***`Nested If-Else Statements:`***"
   ]
  },
  {
   "cell_type": "markdown",
   "metadata": {},
   "source": [
    "##### 11. Write a program to find the largest among three numbers using nested if-else statements.\n"
   ]
  },
  {
   "cell_type": "code",
   "execution_count": 29,
   "metadata": {},
   "outputs": [
    {
     "name": "stdout",
     "output_type": "stream",
     "text": [
      "The numbers entered are 4, 16, 12 \n",
      "the largest number is 16\n"
     ]
    }
   ],
   "source": [
    "# take input 3 interegr values using input() and convert it into integer using int()\n",
    "a = int(input(\"Enter 1st value\"))\n",
    "b = int(input(\"Enter 2nd value\"))\n",
    "c = int(input(\"Enter 3rd value\"))\n",
    "# print the entered numbers \n",
    "print(\"The numbers entered are {}, {}, {} \".format(a,b,c))\n",
    "print(\"the largest number is\", end=\" \")\n",
    "# if a is greater than b\n",
    "if a>b:\n",
    "    # if a is greater than c too, print a is largest\n",
    "    if a>c:\n",
    "        print(a)\n",
    "    # if a is greater than b but a is not greater than c. It means c is greater than a and a is greater than b\n",
    "    # hence c is largest\n",
    "    else:\n",
    "        print(c)\n",
    "# if a is not greater than b then we check if b is greater than c \n",
    "elif b>c:\n",
    "    print(b)\n",
    "# if a and b are not greatest, it means c is greatest\n",
    "else :\n",
    "    print(c)"
   ]
  },
  {
   "cell_type": "markdown",
   "metadata": {},
   "source": [
    "##### 12. Implement a program to determine if a triangle is equilateral, isosceles, or scalene.\n"
   ]
  },
  {
   "cell_type": "code",
   "execution_count": 30,
   "metadata": {},
   "outputs": [
    {
     "name": "stdout",
     "output_type": "stream",
     "text": [
      "The length of 3 sides entered are 4, 4, 6 \n",
      "the Triangle is Isosceles Triangle\n"
     ]
    }
   ],
   "source": [
    "# take input 3 interegr values for sides length using input() and convert it into integer using int()\n",
    "a = int(input(\"Enter 1st side length value\"))\n",
    "b = int(input(\"Enter 2nd side length value\"))\n",
    "c = int(input(\"Enter 3rd side length value\"))\n",
    "# print the entered numbers \n",
    "print(\"The length of 3 sides entered are {}, {}, {} \".format(a,b,c))\n",
    "print(\"the Triangle is\", end=\" \")\n",
    "# check if all 3 sides are equal, means it is equilateral triangle\n",
    "if a == b and a==c and b==c:\n",
    "    print(\"Equilateral Triangle\")\n",
    "# check if any 2 sides are equal, means it is isosceles triangle\n",
    "elif a == b or a==c or b==c:\n",
    "    print(\"Isosceles Triangle\")\n",
    "# otherwise it is scalene triangle\n",
    "else :\n",
    "    print(\"Scalene Triangle\")"
   ]
  },
  {
   "cell_type": "markdown",
   "metadata": {},
   "source": [
    "##### 13. Develop a program that checks if a year is a leap year and also if it is a century year.\n"
   ]
  },
  {
   "cell_type": "code",
   "execution_count": 33,
   "metadata": {},
   "outputs": [
    {
     "name": "stdout",
     "output_type": "stream",
     "text": [
      "the year is - 2012\n",
      "Leap year but not century year\n"
     ]
    }
   ],
   "source": [
    "# take input interegr year value using input() and convert it into integer using int()\n",
    "y = int(input(\"enter an integer value\"))\n",
    "print(\"the year is -\", y)\n",
    "''' \n",
    "approach - if year is divisible by 4, it is leap year. But if we are checking for centuries, we need to \n",
    "check if year is divisible by 400 to be a leap year\n",
    "'''\n",
    "# check if it a century, by checking if it evenly divisble by 100\n",
    "if y%100==0 :\n",
    "    # if the century is divisible by 400 evenly, then it is leap year \n",
    "    if y%400 == 0:\n",
    "        print(\"Leap year and century year\")\n",
    "    else :\n",
    "        print(\"It is not a leap year but It is century year\")\n",
    "# if it is not century, it is a normal year\n",
    "else:\n",
    "    #  we need to check if it is divisible by 4 then it is a leap yaer.\n",
    "    if y%4 == 0:\n",
    "        print(\"Leap year but not century year\")\n",
    "    else :\n",
    "        print(\"It is neither a leap year nor century year\")\n",
    "\n",
    "\n"
   ]
  },
  {
   "cell_type": "markdown",
   "metadata": {},
   "source": [
    "##### 14. Write a Python script to determine if a number is positive, negative, or zero.\n"
   ]
  },
  {
   "cell_type": "code",
   "execution_count": 37,
   "metadata": {},
   "outputs": [
    {
     "name": "stdout",
     "output_type": "stream",
     "text": [
      "the number is - 56\n",
      "Number is positive\n"
     ]
    }
   ],
   "source": [
    "# take input interegr value using input() and convert it into integer using int()\n",
    "n = int(input(\"enter an integer value\"))\n",
    "# print the input number\n",
    "print(\"the number is -\", n)\n",
    "# check if number is greater than 0 for positive number and print the result\n",
    "if n>0:\n",
    "    print(\"Number is positive\")\n",
    "# if number is lesser than 0 then it is a negative number\n",
    "elif n<0 :\n",
    "    print(\"Number is negative\")\n",
    "# if number is 0 then print the message\n",
    "elif n==0 :\n",
    "    print(\"It is zero\")"
   ]
  },
  {
   "cell_type": "markdown",
   "metadata": {},
   "source": [
    "##### 15. Create a program to check if a person is a teenager (between 13 and 19 years old).\n"
   ]
  },
  {
   "cell_type": "code",
   "execution_count": 38,
   "metadata": {},
   "outputs": [
    {
     "name": "stdout",
     "output_type": "stream",
     "text": [
      "The age - 14\n",
      "you are teenager\n"
     ]
    }
   ],
   "source": [
    "# take input interegr value for age using input() and convert it into integer using int()\n",
    "age = int(input(\"Enter your age\"))\n",
    "# print age entered\n",
    "print(\"The age -\", age)\n",
    "# check if age is between 13 and 19, print the message accordingle\n",
    "if age>=13 and age<=19:\n",
    "    print(\"you are teenager\")\n",
    "else :\n",
    "    print(\"you are not a teenager\")"
   ]
  },
  {
   "cell_type": "markdown",
   "metadata": {},
   "source": [
    "##### 16. Develop a program that determines the type of angle based on its measure (acute, obtuse, or right).\n"
   ]
  },
  {
   "cell_type": "code",
   "execution_count": 41,
   "metadata": {},
   "outputs": [
    {
     "name": "stdout",
     "output_type": "stream",
     "text": [
      "The angle is 135.0\n",
      "Obtuse angle\n"
     ]
    }
   ],
   "source": [
    "# input angle from user using input() \n",
    "angle = float(input(\"enter angle\"))\n",
    "# print the input angle \n",
    "print(\"The angle is\", angle)\n",
    "# check if angle is 90 then it is right angle\n",
    "if angle == 90:\n",
    "    print(\"Right angle\")\n",
    "# check if angle is less than 90 then it is acute angle\n",
    "elif angle<90:\n",
    "    print(\"Acute angle\")\n",
    "# otherwise angle will be greater than 90 so it is obtuse angle\n",
    "else:\n",
    "    print(\"Obtuse angle\")"
   ]
  },
  {
   "cell_type": "markdown",
   "metadata": {},
   "source": [
    "##### 17. Write a Python program to calculate the roots of a quadratic equation.\n"
   ]
  },
  {
   "cell_type": "code",
   "execution_count": 27,
   "metadata": {},
   "outputs": [
    {
     "name": "stdout",
     "output_type": "stream",
     "text": [
      "Example of equation is : ax^2 + bx +c = 0 where a,b,c are constants.\n",
      "Your equation looks like this : (4x^2) + (4x) + (1)  = 0\n",
      "Roots are real and same : -0.5, -0.5\n"
     ]
    }
   ],
   "source": [
    "# import module math \n",
    "import math\n",
    "# print the equation\n",
    "print(\"Example of equation is : ax^2 + bx +c = 0 where a,b,c are constants.\")\n",
    "# take input values from user for a,b,c using input and convert then into integer using int()\n",
    "a = int(input(\"Enter a\"))\n",
    "b = int(input(\"Enter b\"))\n",
    "c = int(input(\"Enter c\"))\n",
    "# print the equation for user \n",
    "print(\"Your equation looks like this : ({}x^2) + ({}x) + ({})  = 0\".format(a,b,c))\n",
    "# apply formula for roots of quadratic equation to get 2 roots of equation\n",
    "# coefficient of x^2 is 0 it means it is not quadratic equation\n",
    "if a == 0:\n",
    "    print(\"Not a quadratic equation\")\n",
    "# calculate the value of d\n",
    "d = b * b - 4 * a * c\n",
    "# calculate the value of sq. root of d\n",
    "sqrt_val = math.sqrt(abs(d))\n",
    " \n",
    "# check is d>0 then real and diff. roots and print the roots\n",
    "if d > 0:\n",
    "    print(\"Roots are real and different : {} , {}\".format((-b + sqrt_val)/(2 * a),(-b - sqrt_val)/(2 * a)))\n",
    "# if d = 0 then roots are real and same, and print the roots\n",
    "elif d == 0:\n",
    "    print(\"Roots are real and same : {}, {}\".format(-b / (2*a), -b / (2*a)))\n",
    "\n",
    "# when d<0 the roots are complex and print the roots\n",
    "else:  # d<0\n",
    "    print(\"Roots are complex\".format((- b / (2*a), \" + i\", sqrt_val / (2 * a)), (- b / (2*a), \" - i\", sqrt_val / (2 * a))))\n"
   ]
  },
  {
   "cell_type": "markdown",
   "metadata": {},
   "source": [
    "##### 18. Implement a program to determine the day of the week based on a user-provided number (1 for Monday, 2 for Tuesday, etc.).\n"
   ]
  },
  {
   "cell_type": "code",
   "execution_count": 43,
   "metadata": {},
   "outputs": [
    {
     "name": "stdout",
     "output_type": "stream",
     "text": [
      "the number is  7\n",
      "the output: Sunday\n"
     ]
    }
   ],
   "source": [
    "# take input interegr value using input() and convert it into integer using int()\n",
    "n = int(input(\"enter an integer value from 1 to 7\"))\n",
    "print(\"the number is \", n)\n",
    "print(\"the output:\", end=\" \")\n",
    "\n",
    "# check the entered value and print the dayname\n",
    "if n == 1:\n",
    "    print(\"Monday\")\n",
    "elif n == 2:\n",
    "    print(\"Tuesday\")\n",
    "elif n == 3:\n",
    "    print(\"Wednesday\")\n",
    "elif n == 4:\n",
    "    print(\"Thursday\")\n",
    "elif n == 5:\n",
    "    print(\"Friday\")\n",
    "elif n == 6:\n",
    "    print(\"Saturday\")\n",
    "elif n == 7:\n",
    "    print(\"Sunday\")\n"
   ]
  },
  {
   "cell_type": "markdown",
   "metadata": {},
   "source": [
    "##### 19. Create a program that determines if a year is a leap year and also if it is evenly divisible by 400.\n"
   ]
  },
  {
   "cell_type": "code",
   "execution_count": 45,
   "metadata": {},
   "outputs": [
    {
     "name": "stdout",
     "output_type": "stream",
     "text": [
      "the year is - 2000\n",
      "Leap year and evenly divisible by 400\n"
     ]
    }
   ],
   "source": [
    "# take input interegr year value using input() and convert it into integer using int()\n",
    "y = int(input(\"enter an integer value\"))\n",
    "print(\"the year is -\", y)\n",
    "''' \n",
    "approach - if year is divisible by 4, it is leap year. But if we are checking for centuries, we need to \n",
    "check if year is divisible by 400 to be a leap year\n",
    "'''\n",
    "# check if it a century, by checking if it evenly divisble by 100\n",
    "if y%100==0 :\n",
    "    # if the century is divisible by 400 evenly, then it is leap year \n",
    "    if y%400 == 0:\n",
    "        print(\"Leap year and evenly divisible by 400\")\n",
    "    else :\n",
    "        print(\"It is not a leap year and not evenly divisible by 400\")\n",
    "# if it is not century, it is a normal year\n",
    "else:\n",
    "    #  we need to check if it is divisible by 4 then it is a leap yaer.\n",
    "    if y%4 == 0:\n",
    "        print(\"Leap year but not evenly divisible by 400\")\n",
    "    else :\n",
    "        print(\"It is neither a leap year nor evenly divisible by 400\")\n",
    "\n",
    "\n"
   ]
  },
  {
   "cell_type": "markdown",
   "metadata": {},
   "source": [
    "##### 20. Develop a program that checks if a given number is prime or not using nested if-else statements."
   ]
  },
  {
   "cell_type": "code",
   "execution_count": 8,
   "metadata": {},
   "outputs": [
    {
     "name": "stdout",
     "output_type": "stream",
     "text": [
      "the entered number is - 97\n",
      "Prime Number\n"
     ]
    }
   ],
   "source": [
    "# take input interegr value using input() and convert it into integer using int()\n",
    "n = int(input(\"enter an integer \"))\n",
    "# print the entered number \n",
    "print(\"the entered number is -\", n)\n",
    "# initialize a flag to store True if it is divisible by any number and false if it is not divisible by any number, means it is prime\n",
    "flag = 0\n",
    "# execute a loop from 2 to n/2\n",
    "for i in range(2,n//2+1):\n",
    "    # if it is divisible by any number in range between stated above\n",
    "    if n%i == 0:\n",
    "        # on the flag\n",
    "        flag = 1\n",
    "        # stop the loop and move out of loop\n",
    "        break \n",
    "# if flag is false and number is greater than 1 then it is prime\n",
    "if flag == 0 and n>1:\n",
    "    print(\"Prime Number\")\n",
    "# otherwise it is not prime\n",
    "else:\n",
    "    print(\"Non-Prime Number\")"
   ]
  },
  {
   "cell_type": "markdown",
   "metadata": {},
   "source": [
    "# ***`Elif Statements:`***"
   ]
  },
  {
   "cell_type": "markdown",
   "metadata": {},
   "source": [
    "\n",
    "##### 21. Write a Python program to assign grades based on different ranges of scores using elif statements.\n"
   ]
  },
  {
   "cell_type": "code",
   "execution_count": 9,
   "metadata": {},
   "outputs": [
    {
     "name": "stdout",
     "output_type": "stream",
     "text": [
      "the score is - 89.0\n",
      "The grade is A\n"
     ]
    }
   ],
   "source": [
    "# take input  value using input() and convert it into float value using float()\n",
    "score = float(input(\"enter a student score\"))\n",
    "print(\"the score is -\", score)\n",
    "# print the grade\n",
    "print(\"The grade is\", end=\" \")\n",
    "# check the score using if - elif ladder and print the result\n",
    "if score>=90:\n",
    "    print(\"A+\")\n",
    "elif score>=80 and score<90:\n",
    "    print(\"A\")\n",
    "elif score>=70 and score<80:\n",
    "    print(\"B\")\n",
    "elif score>=60 and score<70:\n",
    "    print(\"C\")\n",
    "elif score>=50 and score<60:\n",
    "    print(\"D\")\n",
    "elif score>=40 and score<50:\n",
    "    print(\"E\")\n",
    "else:\n",
    "    print(\"Fail\")\n"
   ]
  },
  {
   "cell_type": "markdown",
   "metadata": {},
   "source": [
    "##### 22. Implement a program to determine the type of a triangle based on its angles.\n"
   ]
  },
  {
   "cell_type": "code",
   "execution_count": 12,
   "metadata": {},
   "outputs": [
    {
     "name": "stdout",
     "output_type": "stream",
     "text": [
      "The length of 3 angles entered are 60, 60, 60 \n",
      "the Triangle is Equilateral Triangle\n"
     ]
    }
   ],
   "source": [
    "# take input 3 values for angle using input() and convert it into integer using int()\n",
    "a = int(input(\"Enter 1st angle value\"))\n",
    "b = int(input(\"Enter 2nd angle value\"))\n",
    "c = int(input(\"Enter 3rd angle value\"))\n",
    "# print the entered angles \n",
    "print(\"The length of 3 angles entered are {}, {}, {} \".format(a,b,c))\n",
    "print(\"the Triangle is\", end=\" \")\n",
    "# check if all 3 angle are equal, means it is equilateral triangle\n",
    "if a == b and a==c and b==c:\n",
    "    print(\"Equilateral Triangle\")\n",
    "# check if any 2 angle are equal, means it is isosceles triangle\n",
    "elif a == b or a==c or b==c:\n",
    "    print(\"Isosceles Triangle\")\n",
    "# otherwise it is scalene triangle\n",
    "else :\n",
    "    print(\"Scalene Triangle\")"
   ]
  },
  {
   "cell_type": "markdown",
   "metadata": {},
   "source": [
    "##### 23. Develop a program to categorize a given person's BMI into underweight, normal, overweight, or obese using elif statements.\n"
   ]
  },
  {
   "cell_type": "code",
   "execution_count": 2,
   "metadata": {},
   "outputs": [
    {
     "name": "stdout",
     "output_type": "stream",
     "text": [
      "the BMI is - 34.4\n",
      "The category is Obesity\n"
     ]
    }
   ],
   "source": [
    "# take input number value using input() and convert it into float value using float()\n",
    "bmi = float(input(\"enter a BMI\"))\n",
    "print(\"the BMI is -\", bmi)\n",
    "# print the category\n",
    "print(\"The category is\", end=\" \")\n",
    "''' \n",
    "under 18.5 – This is described as underweight.\n",
    "between 18.5 and 24.9 – This is described as the 'healthy range'.\n",
    "between 25 and 29.9 – This is described as overweight.\n",
    "between 30 and 39.9 – This is described as obesity.\n",
    "40 or over –  This is described as severe obesity.\n",
    "'''\n",
    "# check the BMI using if - elif ladder and print the result\n",
    "if bmi<=18.5 :\n",
    "    print(\"Under weight\")\n",
    "elif bmi>18.5 and bmi<=24.9:\n",
    "    print(\"Healty\")\n",
    "elif bmi>=25 and bmi<=29.9:\n",
    "    print(\"OverWeight\")\n",
    "elif bmi>=30 and bmi<=39.9:\n",
    "    print(\"Obesity\")\n",
    "else :\n",
    "    print(\"Severe Obesity\")"
   ]
  },
  {
   "cell_type": "markdown",
   "metadata": {},
   "source": [
    "##### 24. Create a program that determines whether a given number is positive, negative, or zero using elif statements."
   ]
  },
  {
   "cell_type": "code",
   "execution_count": 3,
   "metadata": {},
   "outputs": [
    {
     "name": "stdout",
     "output_type": "stream",
     "text": [
      "the number is - 32\n",
      "Number is positive\n"
     ]
    }
   ],
   "source": [
    "# take input interegr value using input() and convert it into integer using int()\n",
    "n = int(input(\"enter an integer value\"))\n",
    "# print the input number\n",
    "print(\"the number is -\", n)\n",
    "# check if number is greater than 0 for positive number and print the result\n",
    "if n>0:\n",
    "    print(\"Number is positive\")\n",
    "# if number is lesser than 0 then it is a negative number\n",
    "elif n<0 :\n",
    "    print(\"Number is negative\")\n",
    "# if number is 0 then print the message\n",
    "elif n==0 :\n",
    "    print(\"It is zero\")"
   ]
  },
  {
   "cell_type": "markdown",
   "metadata": {},
   "source": [
    "##### 25. Write a Python script to determine the type of a character (uppercase, lowercase, or special) using elif statements."
   ]
  },
  {
   "cell_type": "code",
   "execution_count": 7,
   "metadata": {},
   "outputs": [
    {
     "name": "stdout",
     "output_type": "stream",
     "text": [
      "The input character- @\n",
      "The character is special charcter\n"
     ]
    }
   ],
   "source": [
    "# take a character as input from user using input()\n",
    "char = input(\"Enter a character\")\n",
    "# print the input character \n",
    "print(\"The input character-\",char)\n",
    "print(\"The character is \",end='')\n",
    "# check if it is lower case\n",
    "if char.islower():\n",
    "    print(\"Lower case letter\")\n",
    "# check if it is upper case\n",
    "elif char.isupper():\n",
    "    print(\"Upper case letter\")\n",
    "# check if it is digit\n",
    "elif char.isdigit():\n",
    "    print(\"digit\")\n",
    "# otherwise\n",
    "else:\n",
    "    print(\"special charcter\")"
   ]
  },
  {
   "cell_type": "markdown",
   "metadata": {},
   "source": [
    "##### 26. Implement a program to calculate the discounted price based on different purchase amounts using elif statements."
   ]
  },
  {
   "cell_type": "code",
   "execution_count": 9,
   "metadata": {},
   "outputs": [
    {
     "name": "stdout",
     "output_type": "stream",
     "text": [
      "The input amount - 2500.0\n",
      "The price after deducting discount - 2375.0\n"
     ]
    }
   ],
   "source": [
    "# take input for total purchase amount using input() and then convert it into float values using float()\n",
    "amount = float(input(\"Enter amount\"))\n",
    "# print the amount entered\n",
    "print(\"The input amount -\",amount)\n",
    "# initialize a variable to store discount% according to the amount\n",
    "discount = 0\n",
    "''' \n",
    "amount < 1000 - discount = 2%\n",
    "amount is between 1001 to 5000, discount = 5%\n",
    "amount is between 5001 to 10000, discount = 7%\n",
    "amount > 10000, discount = 10%\n",
    "'''\n",
    "# check the discount according to the amount entered and put the discount value in discount variable\n",
    "if amount<=1000:\n",
    "    discount = 2 \n",
    "elif amount>1000 and amount<=5000:\n",
    "    discount = 5\n",
    "elif amount>5000 and amount<=10000:\n",
    "    discount = 7 \n",
    "else :\n",
    "    discount = 10 \n",
    "# calculate the actual price after deducting the discount amount from the purchase amount\n",
    "price_after_discount = amount - discount*amount/100\n",
    "# print the actual price\n",
    "print(\"The price after deducting discount -\", price_after_discount)"
   ]
  },
  {
   "cell_type": "markdown",
   "metadata": {},
   "source": [
    "##### 27. Develop a program to calculate the electricity bill based on different consumption slabs using elif statements."
   ]
  },
  {
   "cell_type": "code",
   "execution_count": 10,
   "metadata": {},
   "outputs": [
    {
     "name": "stdout",
     "output_type": "stream",
     "text": [
      "The input units - 567.0\n",
      "The price after deducting charge - 2769.0\n"
     ]
    }
   ],
   "source": [
    "# take input for total units consumed using input() and then convert it into float values using float()\n",
    "units = float(input(\"Enter units in watts\"))\n",
    "# print the units entered\n",
    "print(\"The input units -\",units)\n",
    "# initialize a variable to store charge according to the units\n",
    "charge = 0\n",
    "bill = 0\n",
    "''' \n",
    "units < 200 - charge = 4 per unit\n",
    "units is between 201 to 500, charge = 200*4 +  5 per unit above 200 \n",
    "units is between 501 to 1000, charge = 200*4 + 300*5 + 7 per unit above 500\n",
    "units > 10000, charge = 200*4 + 300*5 + 500*7 + 10 per unit above 1000\n",
    "'''\n",
    "# check the charge according to the units entered and put the charge value in charge variable\n",
    "if units<=200:\n",
    "    # calculate bill after calculating the charge for units \n",
    "    bill += 4*units\n",
    "elif units>200 and units<=500:\n",
    "    # calculate bill after calculating the charge for units \n",
    "    bill += 200*4 + 5*(units-200)\n",
    "elif units>500 and units<=1000:\n",
    "    # calculate bill after calculating the charge for units \n",
    "    bill += 200*4 + 300*5 + 7*(units-500)\n",
    "else :\n",
    "    # calculate bill after calculating the charge for units \n",
    "    bill += 200*4 + 300*5 + 500*7 + 10*(units-1000)\n",
    "\n",
    "# print the actual price\n",
    "print(\"The bill is \", bill)"
   ]
  },
  {
   "cell_type": "markdown",
   "metadata": {},
   "source": [
    "##### 28. Create a program to determine the type of quadrilateral based on its angles and sides using elif statements."
   ]
  },
  {
   "cell_type": "code",
   "execution_count": 3,
   "metadata": {},
   "outputs": [
    {
     "name": "stdout",
     "output_type": "stream",
     "text": [
      "It is a square\n"
     ]
    }
   ],
   "source": [
    "# take input for 4 sides of quadrilateral using input() and convert them into integer using int()\n",
    "ab = int(input(\"Enter side AB\"))\n",
    "bc = int(input(\"Enter side BC\"))\n",
    "cd = int(input(\"Enter side CD\"))\n",
    "da = int(input(\"Enter side DA\"))\n",
    "# take input for 4 angles of quadrilateral using input() and convert them into integer using int()\n",
    "abc = int(input(\"Enter Anlge ABC\"))\n",
    "bcd = int(input(\"Enter Anlge BCD\"))\n",
    "cda = int(input(\"Enter Anlge CDA\"))\n",
    "dab = int(input(\"Enter Anlge DAB\"))\n",
    "# check if sum of all angles is not equal to 360 then it is not a qaudrilateral\n",
    "if (abc+bcd+cda+dab)!=360 :\n",
    "    # print message\n",
    "    print(\"it is not a quadrilateral\")\n",
    "# now as we know sum of angles is 360, if all sides are equal and all angles are equal , it is square\n",
    "elif abc == bcd and bcd == cda and cda == dab and ab == bc and bc == cd and cd == da:\n",
    "    # print message\n",
    "    print(\"It is a square\") \n",
    "# now as we know sum of angles is 360, if opposite sides are equal and all angles are equal , it is rectangle\n",
    "elif abc == bcd and bcd == cda and cda == dab and ab == cd and bc == da:\n",
    "    # print message\n",
    "    print(\"It is a rectangle\")\n",
    "# now as we know sum of angles is 360, if opposite angles are equal , it is parallelogram\n",
    "elif abc == cda and bcd == dab  :\n",
    "     # print message\n",
    "     print(\"It is a parallelogram\")\n",
    "# if no other conditions are matching then it may be other kind of quadrilateral which we are not able to detect just by checking angles and sides.\n",
    "else : \n",
    "    # print message\n",
    "    print(\"others\")\n"
   ]
  },
  {
   "cell_type": "markdown",
   "metadata": {},
   "source": [
    "##### 29. Write a Python script to determine the season based on a user-provided month using elif statements.\n"
   ]
  },
  {
   "cell_type": "code",
   "execution_count": 20,
   "metadata": {},
   "outputs": [
    {
     "name": "stdout",
     "output_type": "stream",
     "text": [
      "spring season\n"
     ]
    }
   ],
   "source": [
    "# create a list to store month names\n",
    "month_list = []\n",
    "# import calender module to get month names\n",
    "import calendar\n",
    "# execute a loop for range between 1 to 12\n",
    "for i in range(1, 13):\n",
    "    # append the month name in list using calender.month_name and convert it into lower case\n",
    "    month_list.append((calendar.month_name[i]).lower())\n",
    "# take input for month and convert it into lower case using lower()\n",
    "m = input(\"Please enter the month's full name\").lower()\n",
    "''' \n",
    "consider for example -:\n",
    "november, december, january, february - winter season\n",
    "march, april - spring season\n",
    "may, june, july - summer season\n",
    "august, september, october - rainy season\n",
    "'''\n",
    "# if entered month not present in month_list then it is invalid month\n",
    "if m not in  month_list:\n",
    "    print(\"Invalid Month entered\")\n",
    "# check if month is one of november, december, january, february. We check this by checking index of input month in month list\n",
    "elif month_list.index(m) in [10,11,0,1]:\n",
    "    print(\"Winter season\")\n",
    "# check if month is one of march, april. We check this by checking index of input month in month list\n",
    "elif month_list.index(m) in [2,3]:\n",
    "    print(\"spring season\")\n",
    "# check if month is one of may, june, july. We check this by checking index of input month in month list\n",
    "elif month_list.index(m) in [4,5,6]:\n",
    "    print(\"Summer season\")\n",
    "# check if month is one of august, september, october. We check this by checking index of input month in month list\n",
    "elif month_list.index(m) in [7,8,9]:\n",
    "    print(\"Rainy or Monsoon season\")\n",
    "\n"
   ]
  },
  {
   "cell_type": "markdown",
   "metadata": {},
   "source": [
    "##### 30. Implement a program to determine the type of a year (leap or common) and month (30 or 31 days) using elif statements."
   ]
  },
  {
   "cell_type": "code",
   "execution_count": 13,
   "metadata": {},
   "outputs": [
    {
     "name": "stdout",
     "output_type": "stream",
     "text": [
      "the year is  2016\n",
      "the month is april\n",
      "leap year but not century year\n",
      "Month has 30 days\n"
     ]
    }
   ],
   "source": [
    "# take input interegr year value using input() and convert it into integer using int()\n",
    "y = int(input(\"enter an integer value\"))\n",
    "# take input for month\n",
    "m = input(\"Please enter the month's full name\")\n",
    "print(\"the year is \", y)\n",
    "print(\"the month is\",m)\n",
    "\n",
    "# CHECKING FOR YEAR\n",
    "''' \n",
    "approach - if year is divisible by 4, it is leap year. But if we are checking for centuries, we need to \n",
    "check if year is divisible by 400 to be a leap year\n",
    "'''\n",
    "# check if it a century, by checking if it evenly divisble by 100\n",
    "if y%100==0 :\n",
    "    # if the century is divisible by 400 evenly, then it is leap year \n",
    "    if y%400 == 0:\n",
    "        print(\"Leap year and century year\")\n",
    "    else :\n",
    "        print(\"It is  a common year but It is century year\")\n",
    "# if it is not century, it is a normal year\n",
    "else:\n",
    "    #  we need to check if it is divisible by 4 then it is a leap yaer.\n",
    "    if y%4 == 0:\n",
    "        print(\"leap year but not century year\")\n",
    "    else :\n",
    "        print(\"It is common year but not century year\")\n",
    "\n",
    "# CHECKING FOR MONTH\n",
    "# we create a list of all those months which has 31 days\n",
    "l = ['january', 'march', 'may', 'july', 'august', 'october', 'december']\n",
    "# create a list of all months\n",
    "months_list = ['january', 'february', 'march', 'april', 'may','june', 'july', 'august', 'september', 'october', 'november', 'december']\n",
    "# check if month is a valid month or not\n",
    "if m.lower() not in months_list:\n",
    "    print(\"Invalid month\")\n",
    "# check if month exists in l list (list having months which has 31 days)then it has 31 days\n",
    "elif m.lower() in l:\n",
    "    print(\"Month has 31 days\")\n",
    "# check if month is not in l list and it is not february then it has 30 days\n",
    "elif m.lower() not in l and m.lower()!='february':\n",
    "    print('Month has 30 days')\n",
    "# if all above conditions dis-satisfied, it means it's february\n",
    "else :\n",
    "    print(\"Month has 28 days\")\n"
   ]
  },
  {
   "cell_type": "markdown",
   "metadata": {},
   "source": [
    "# ***`Basic Level:`***"
   ]
  },
  {
   "cell_type": "markdown",
   "metadata": {},
   "source": [
    "##### 1. Write a Python program that checks if a given number is positive, negative, or zero.\n"
   ]
  },
  {
   "cell_type": "code",
   "execution_count": 21,
   "metadata": {},
   "outputs": [
    {
     "name": "stdout",
     "output_type": "stream",
     "text": [
      "the number is - 56\n",
      "Number is positive\n"
     ]
    }
   ],
   "source": [
    "# take input interegr value using input() and convert it into integer using int()\n",
    "n = int(input(\"enter an integer value\"))\n",
    "# print the input number\n",
    "print(\"the number is -\", n)\n",
    "# check if number is greater than 0 for positive number and print the result\n",
    "if n>0:\n",
    "    print(\"Number is positive\")\n",
    "# if number is lesser than 0 then it is a negative number\n",
    "elif n<0 :\n",
    "    print(\"Number is negative\")\n",
    "# if number is 0 then print the message\n",
    "elif n==0 :\n",
    "    print(\"It is zero\")"
   ]
  },
  {
   "cell_type": "markdown",
   "metadata": {},
   "source": [
    "##### 2. Create a program to determine if a person is eligible to vote based on their age.\n"
   ]
  },
  {
   "cell_type": "code",
   "execution_count": 22,
   "metadata": {},
   "outputs": [
    {
     "name": "stdout",
     "output_type": "stream",
     "text": [
      "The age - 20\n",
      "Congrats, you are eligible to vote\n"
     ]
    }
   ],
   "source": [
    "# take input interegr value for age using input() and convert it into integer using int()\n",
    "age = int(input(\"Enter your age\"))\n",
    "# print age entered\n",
    "print(\"The age -\", age)\n",
    "# check if age is greater than equal to 18 for boting eligibility and print the message\n",
    "if age>=18:\n",
    "    print(\"Congrats, you are eligible to vote\")\n",
    "else :\n",
    "    print(\"Sorry, you are not eligible to vote\")"
   ]
  },
  {
   "cell_type": "markdown",
   "metadata": {},
   "source": [
    "##### 3. Write a program to find the maximum of two given numbers using conditional statements.\n"
   ]
  },
  {
   "cell_type": "code",
   "execution_count": 24,
   "metadata": {},
   "outputs": [
    {
     "name": "stdout",
     "output_type": "stream",
     "text": [
      "The numbers entered are 4, 2 \n",
      "The larger number is 4\n"
     ]
    }
   ],
   "source": [
    "# take input 2 interegr values using input() and convert it into integer using int()\n",
    "a = int(input(\"Enter 1st value\"))\n",
    "b = int(input(\"Enter 2nd value\"))\n",
    "# print the entered numbers \n",
    "print(\"The numbers entered are {}, {} \".format(a,b))\n",
    "# check if a is greater than b then a is greater otherwise b is greater\n",
    "if a>b:\n",
    "    print(\"The larger number is\",a)\n",
    "else:\n",
    "    print(\"The larger number is\",b)"
   ]
  },
  {
   "cell_type": "markdown",
   "metadata": {},
   "source": [
    "##### 4. Develop a program that calculates the grade of a student based on their exam score.\n"
   ]
  },
  {
   "cell_type": "code",
   "execution_count": 25,
   "metadata": {},
   "outputs": [
    {
     "name": "stdout",
     "output_type": "stream",
     "text": [
      "the score is - 85.0\n",
      "The grade is A\n"
     ]
    }
   ],
   "source": [
    "# take input  value using input() and convert it into float value using float()\n",
    "score = float(input(\"enter a student score\"))\n",
    "print(\"the score is -\", score)\n",
    "# print the grade\n",
    "print(\"The grade is\", end=\" \")\n",
    "# check the score using if - elif ladder and print the result\n",
    "if score>=90:\n",
    "    print(\"A+\")\n",
    "elif score>=80 and score<90:\n",
    "    print(\"A\")\n",
    "elif score>=70 and score<80:\n",
    "    print(\"B\")\n",
    "elif score>=60 and score<70:\n",
    "    print(\"C\")\n",
    "elif score>=50 and score<60:\n",
    "    print(\"D\")\n",
    "elif score>=40 and score<50:\n",
    "    print(\"E\")\n",
    "else:\n",
    "    print(\"Fail\")\n"
   ]
  },
  {
   "cell_type": "markdown",
   "metadata": {},
   "source": [
    "##### 5. Create a program that checks if a year is a leap year or not.\n"
   ]
  },
  {
   "cell_type": "code",
   "execution_count": 26,
   "metadata": {},
   "outputs": [
    {
     "name": "stdout",
     "output_type": "stream",
     "text": [
      "the year is - 2024\n",
      "Leap year\n"
     ]
    }
   ],
   "source": [
    "# take input interegr year value using input() and convert it into integer using int()\n",
    "y = int(input(\"enter an integer value\"))\n",
    "# print the entered age\n",
    "print(\"the year is -\", y)\n",
    "''' \n",
    "approach - if year is divisible by 4, it is leap year. But if we are checking for centuries, we need to \n",
    "check if year is divisible by 400 to be a leap year\n",
    "'''\n",
    "# check if it a century, by checking if it evenly divisble by 100\n",
    "if y%100==0 :\n",
    "    # if the century is divisible by 400 evenly, then it is leap year \n",
    "    if y%400 == 0:\n",
    "        print(\"Leap year\")\n",
    "    else :\n",
    "        print(\"It is not a leap year\")\n",
    "# if it is not century, it is a normal year\n",
    "else:\n",
    "    #  we need to check if it is divisible by 4 then it is a leap yaer.\n",
    "    if y%4 == 0:\n",
    "        print(\"Leap year\")\n",
    "    else :\n",
    "        print(\"It is not a leap year\")\n",
    "\n",
    "\n"
   ]
  },
  {
   "cell_type": "markdown",
   "metadata": {},
   "source": [
    "##### 6. Write a program to classify a triangle based on its sides' lengths.\n"
   ]
  },
  {
   "cell_type": "code",
   "execution_count": 27,
   "metadata": {},
   "outputs": [
    {
     "name": "stdout",
     "output_type": "stream",
     "text": [
      "The length of 3 sides entered are 23, 23, 43 \n",
      "the Triangle is Isosceles Triangle\n"
     ]
    }
   ],
   "source": [
    "# take input 3 interegr values for sides length using input() and convert it into integer using int()\n",
    "a = int(input(\"Enter 1st side length value\"))\n",
    "b = int(input(\"Enter 2nd side length value\"))\n",
    "c = int(input(\"Enter 3rd side length value\"))\n",
    "# print the entered numbers \n",
    "print(\"The length of 3 sides entered are {}, {}, {} \".format(a,b,c))\n",
    "print(\"the Triangle is\", end=\" \")\n",
    "# check if all 3 sides are equal, means it is equilateral triangle\n",
    "if a == b and a==c and b==c:\n",
    "    print(\"Equilateral Triangle\")\n",
    "# check if any 2 sides are equal, means it is isosceles triangle\n",
    "elif a == b or a==c or b==c:\n",
    "    print(\"Isosceles Triangle\")\n",
    "# otherwise it is scalene triangle\n",
    "else :\n",
    "    print(\"Scalene Triangle\")"
   ]
  },
  {
   "cell_type": "markdown",
   "metadata": {},
   "source": [
    "##### 7. Build a program that determines the largest of three given numbers."
   ]
  },
  {
   "cell_type": "code",
   "execution_count": 28,
   "metadata": {},
   "outputs": [
    {
     "name": "stdout",
     "output_type": "stream",
     "text": [
      "The numbers entered are 2, 8, 6 \n",
      "the largest number is 8\n"
     ]
    }
   ],
   "source": [
    "# take input 3 interegr values using input() and convert it into integer using int()\n",
    "a = int(input(\"Enter 1st value\"))\n",
    "b = int(input(\"Enter 2nd value\"))\n",
    "c = int(input(\"Enter 3rd value\"))\n",
    "# print the entered numbers \n",
    "print(\"The numbers entered are {}, {}, {} \".format(a,b,c))\n",
    "print(\"the largest number is\", end=\" \")\n",
    "# if a is greater than b\n",
    "if a>b:\n",
    "    # if a is greater than c too, print a is largest\n",
    "    if a>c:\n",
    "        print(a)\n",
    "    # if a is greater than b but a is not greater than c. It means c is greater than a and a is greater than b\n",
    "    # hence c is largest\n",
    "    else:\n",
    "        print(c)\n",
    "# if a is not greater than b then we check if b is greater than c \n",
    "elif b>c:\n",
    "    print(b)\n",
    "# if a and b are not greatest, it means c is greatest\n",
    "else :\n",
    "    print(c)"
   ]
  },
  {
   "cell_type": "markdown",
   "metadata": {},
   "source": [
    "##### 8. Develop a program that checks whether a character is a vowel or a consonant."
   ]
  },
  {
   "cell_type": "code",
   "execution_count": 32,
   "metadata": {},
   "outputs": [
    {
     "name": "stdout",
     "output_type": "stream",
     "text": [
      "The entered character - w\n",
      "It is  a constant\n"
     ]
    }
   ],
   "source": [
    "# take a character input from user using input() \n",
    "char = input(\"Enter a character\")\n",
    "# print the entered character\n",
    "print(\"The entered character -\", char)\n",
    "# check if it is a vowel, print the result\n",
    "if char in 'aeiouAEIOU':\n",
    "    print(\"It is a vowel\")\n",
    "# if it in not vowel, it means if the character is alphabet then it will surely be a constant\n",
    "elif char.isalpha() :\n",
    "    print(\"It is  a constant\")\n",
    "# if it is not alpha then it can't be constant or vowel.\n",
    "else:\n",
    "    print(\"It is neither vowel nor constant\")"
   ]
  },
  {
   "cell_type": "markdown",
   "metadata": {},
   "source": [
    "##### 9. Create a program to calculate the total cost of a shopping cart based on discounts."
   ]
  },
  {
   "cell_type": "code",
   "execution_count": 34,
   "metadata": {},
   "outputs": [
    {
     "name": "stdout",
     "output_type": "stream",
     "text": [
      "The input amount - 4568.0\n",
      "The price after deducting discount - 4339.6\n"
     ]
    }
   ],
   "source": [
    "# take input for total purchase amount using input() and then convert it into float values using float()\n",
    "amount = float(input(\"Enter amount\"))\n",
    "# print the amount entered\n",
    "print(\"The input amount -\",amount)\n",
    "# initialize a variable to store discount% according to the amount\n",
    "discount = 0\n",
    "''' \n",
    "amount < 1000 - discount = 2%\n",
    "amount is between 1001 to 5000, discount = 5%\n",
    "amount is between 5001 to 10000, discount = 7%\n",
    "amount > 10000, discount = 10%\n",
    "'''\n",
    "# check the discount according to the amount entered and put the discount value in discount variable\n",
    "if amount<=1000:\n",
    "    discount = 2 \n",
    "elif amount>1000 and amount<=5000:\n",
    "    discount = 5\n",
    "elif amount>5000 and amount<=10000:\n",
    "    discount = 7 \n",
    "else :\n",
    "    discount = 10 \n",
    "# calculate the actual price after deducting the discount amount from the purchase amount\n",
    "price_after_discount = amount - discount*amount/100\n",
    "# print the actual price\n",
    "print(\"The price after deducting discount -\", price_after_discount)"
   ]
  },
  {
   "cell_type": "markdown",
   "metadata": {},
   "source": [
    "##### 10. Write a program that checks if a given number is even or odd."
   ]
  },
  {
   "cell_type": "code",
   "execution_count": 33,
   "metadata": {},
   "outputs": [
    {
     "name": "stdout",
     "output_type": "stream",
     "text": [
      "the number is - 46\n",
      "Number is even\n"
     ]
    }
   ],
   "source": [
    "# take input interegr value using input() and convert it into integer using int()\n",
    "n = int(input(\"enter an integer value\"))\n",
    "# print the entered number\n",
    "print(\"the number is -\", n)\n",
    "# check if the number is even and print the resultant output\n",
    "if n%2 == 0 :\n",
    "    print(\"Number is even\") \n",
    "else :\n",
    "    print(\"Number is odd\")"
   ]
  },
  {
   "cell_type": "markdown",
   "metadata": {},
   "source": [
    "# ***`Intermediate Level:`***"
   ]
  },
  {
   "cell_type": "markdown",
   "metadata": {},
   "source": [
    "##### 11. Write a program that calculates the roots of a quadratic equation .\n"
   ]
  },
  {
   "cell_type": "code",
   "execution_count": 8,
   "metadata": {},
   "outputs": [
    {
     "name": "stdout",
     "output_type": "stream",
     "text": [
      "Example of equation is : ax^2 + bx +c = 0 where a,b,c are constants.\n",
      "Your equation looks like this : (16x^2) + (-32x) + (1) = 0\n",
      "Roots are 7.491933384829668, -23.491933384829668\n"
     ]
    }
   ],
   "source": [
    "# print the equation\n",
    "print(\"Example of equation is : ax^2 + bx +c = 0 where a,b,c are constants.\")\n",
    "# take input values from user for a,b,c using input and convert then into integer using int()\n",
    "a = int(input(\"Enter a\"))\n",
    "b = int(input(\"Enter b\"))\n",
    "c = int(input(\"Enter c\"))\n",
    "# print the equation for user \n",
    "print(\"Your equation looks like this : ({}x^2) + ({}x) + ({}) = 0\".format(a,b,c))\n",
    "# apply formula for roots of quadratic equation to get 2 roots of equation\n",
    "x1 = ((b*b - 4*a*c)**0.5 - a)/2 \n",
    "x2 = (-(b*b - 4*a*c)**0.5 - a)/2 \n",
    "print(\"Roots are {}, {}\".format(x1,x2))"
   ]
  },
  {
   "cell_type": "markdown",
   "metadata": {},
   "source": [
    "##### 12. Create a program that determines the day of the week based on the day number (1-7)."
   ]
  },
  {
   "cell_type": "code",
   "execution_count": 35,
   "metadata": {},
   "outputs": [
    {
     "name": "stdout",
     "output_type": "stream",
     "text": [
      "the number is  6\n",
      "the output: Saturday\n"
     ]
    }
   ],
   "source": [
    "# take input interegr value using input() and convert it into integer using int()\n",
    "n = int(input(\"enter an integer value from 1 to 7\"))\n",
    "print(\"the number is \", n)\n",
    "print(\"the output:\", end=\" \")\n",
    "\n",
    "# check the entered value and print the dayname\n",
    "if n == 1:\n",
    "    print(\"Monday\")\n",
    "elif n == 2:\n",
    "    print(\"Tuesday\")\n",
    "elif n == 3:\n",
    "    print(\"Wednesday\")\n",
    "elif n == 4:\n",
    "    print(\"Thursday\")\n",
    "elif n == 5:\n",
    "    print(\"Friday\")\n",
    "elif n == 6:\n",
    "    print(\"Saturday\")\n",
    "elif n == 7:\n",
    "    print(\"Sunday\")\n"
   ]
  },
  {
   "cell_type": "markdown",
   "metadata": {},
   "source": [
    "##### 13. Develop a program that calculates the factorial of a given number using recursion.\n"
   ]
  },
  {
   "cell_type": "code",
   "execution_count": 38,
   "metadata": {},
   "outputs": [
    {
     "name": "stdout",
     "output_type": "stream",
     "text": [
      "The factorial of 6 is 720\n"
     ]
    }
   ],
   "source": [
    "def get_factorial(num:int):\n",
    "    if num==1:\n",
    "        return 1\n",
    "    return num*get_factorial(num-1)\n",
    "n = int(input(\"Enter a number\"))\n",
    "print(\"The factorial of {} is {}\".format(n, get_factorial(n)))"
   ]
  },
  {
   "cell_type": "markdown",
   "metadata": {},
   "source": [
    "##### 14. Write a program to find the largest among three numbers without using the `max()` function.\n"
   ]
  },
  {
   "cell_type": "code",
   "execution_count": 39,
   "metadata": {},
   "outputs": [
    {
     "name": "stdout",
     "output_type": "stream",
     "text": [
      "The numbers entered are 4, 78, 34 \n",
      "the largest number is 78\n"
     ]
    }
   ],
   "source": [
    "# take input 3 interegr values using input() and convert it into integer using int()\n",
    "a = int(input(\"Enter 1st value\"))\n",
    "b = int(input(\"Enter 2nd value\"))\n",
    "c = int(input(\"Enter 3rd value\"))\n",
    "# print the entered numbers \n",
    "print(\"The numbers entered are {}, {}, {} \".format(a,b,c))\n",
    "print(\"the largest number is\", end=\" \")\n",
    "# if a is greater than b\n",
    "if a>b:\n",
    "    # if a is greater than c too, print a is largest\n",
    "    if a>c:\n",
    "        print(a)\n",
    "    # if a is greater than b but a is not greater than c. It means c is greater than a and a is greater than b\n",
    "    # hence c is largest\n",
    "    else:\n",
    "        print(c)\n",
    "# if a is not greater than b then we check if b is greater than c \n",
    "elif b>c:\n",
    "    print(b)\n",
    "# if a and b are not greatest, it means c is greatest\n",
    "else :\n",
    "    print(c)"
   ]
  },
  {
   "cell_type": "markdown",
   "metadata": {},
   "source": [
    "##### 15. Create a program that simulates a basic ATM transaction menu."
   ]
  },
  {
   "cell_type": "code",
   "execution_count": 6,
   "metadata": {},
   "outputs": [
    {
     "name": "stdout",
     "output_type": "stream",
     "text": [
      "Enter 1 for withdraw\n",
      "Enter 2 for deposit\n",
      "Enter 3 for checking balance\n",
      "Enter 4 for stop transaction\n",
      "Your current balance : 100000\n",
      "Enter 1 for withdraw\n",
      "Enter 2 for deposit\n",
      "Enter 3 for checking balance\n",
      "Enter 4 for stop transaction\n",
      "Enter a amount to be withdrawn\n",
      "Amount is withdrawn, please collect your money : 30000\n",
      "Enter 1 for withdraw\n",
      "Enter 2 for deposit\n",
      "Enter 3 for checking balance\n",
      "Enter 4 for stop transaction\n",
      "Enter a amount to be deposit\n",
      "Amount is depositted\n",
      "Enter 1 for withdraw\n",
      "Enter 2 for deposit\n",
      "Enter 3 for checking balance\n",
      "Enter 4 for stop transaction\n",
      "Your current balance : 71500\n",
      "Enter 1 for withdraw\n",
      "Enter 2 for deposit\n",
      "Enter 3 for checking balance\n",
      "Enter 4 for stop transaction\n",
      "Your transaction is finished.\n"
     ]
    }
   ],
   "source": [
    "# initialize a variable to store balance \n",
    "balance = 100000\n",
    "# execute a while loop for transaction\n",
    "while(True):\n",
    "    # print the choices user can have in ATM machine\n",
    "    print(\"Enter 1 for withdraw\")\n",
    "    print(\"Enter 2 for deposit\")\n",
    "    print(\"Enter 3 for checking balance\")\n",
    "    print(\"Enter 4 for stop transaction\")\n",
    "    # ask user's chioce using input() and convert it into integer using int()\n",
    "    choice = int(input(\"Enter your choice\"))\n",
    "    # if choice is 4, it means we need to stop the transcation.\n",
    "    if choice == 4:\n",
    "        # print the appropriate message\n",
    "        print(\"Your transaction is finished.\")\n",
    "        # stop the transaction (loop), using break statement\n",
    "        break \n",
    "    # if choice is 1, then we need to withdraw\n",
    "    elif choice == 1:\n",
    "        # print the appropriate message\n",
    "        print(\"Enter a amount to be withdrawn\")\n",
    "        # ask user to input amount to be withdrawn using input() and convert it into integer using int()\n",
    "        w_amount = int(input(\"Enter amount\"))\n",
    "        # deduct the withdrawn amount from actual balance\n",
    "        balance -= w_amount\n",
    "        # print the appropriate message\n",
    "        print(\"Amount is withdrawn, please collect your money :\",w_amount)\n",
    "    # if choice is 2 it means user wants to deposit money\n",
    "    elif choice == 2:\n",
    "        # print the appropriate message\n",
    "        print(\"Enter a amount to be deposit\")\n",
    "        # ask user to input amount to be deposited using input() and convert it into integer using int()\n",
    "        d_amount = int(input(\"Enter amount\"))\n",
    "        # add the deposit amount to actual balance\n",
    "        balance += d_amount\n",
    "        # print the appropriate message\n",
    "        print(\"Amount is depositted\")\n",
    "    # if choice is 3, he wants to check his balance.\n",
    "    elif choice == 3:\n",
    "        # print the appropriate message\n",
    "        print(\"Your current balance :\",balance)\n",
    "    #  if he enter the value which is not in the menu then ask user to input valid number.\n",
    "    else :\n",
    "        # print the appropriate message\n",
    "        print(\"please enter a valid number from the list given\")\n",
    "    "
   ]
  },
  {
   "cell_type": "markdown",
   "metadata": {},
   "source": [
    "##### 16. Build a program that checks if a given string is a palindrome or not."
   ]
  },
  {
   "cell_type": "code",
   "execution_count": 40,
   "metadata": {},
   "outputs": [
    {
     "name": "stdout",
     "output_type": "stream",
     "text": [
      "String entered by user is =  Naman\n",
      "String is palindrome but case is different\n"
     ]
    }
   ],
   "source": [
    "'''Palindrome meanse the word is equals to reverse of itself for example - *madam* reads same forward and backward\n",
    "approach will be- \n",
    "1 - we input the string\n",
    "2 - We calculate the reverse of the word\n",
    "3 - We check if the word is equal to its reverse word, but it has three possibilites \n",
    "3.1 - Word is palindrome but case of letters are diiferent for example Bab,\n",
    "reverse of Bab = baB. It is palindrome but in 1st word first B is capital and last b is small but in\n",
    "2nd word, last B is capital and first b is small. So we call it - String is palindrome but case is different.\n",
    "3.2 - Word is palindrome and case of all letters in words and its reverse are same.'\n",
    "3.3 - Word is not palindrome, word is not equal to its reversed word.\n",
    "'''\n",
    "\n",
    "# taking input from user by using input() function\n",
    "p1 = input(\"Enter a string\")\n",
    "\n",
    "# to get the reverse of the input string, we use slicing with negative jump.\n",
    "p2 = p1[::-1]\n",
    "print('String entered by user is = ',p1)\n",
    "\n",
    "''' to check the equality, we use if statement. \n",
    "first we check \n",
    "1 - if string is palindrome after changing the case of both strings using lower().\n",
    "if yes then we check if they are equal along with upper and lower case letters, if yes then string is palindrome\n",
    "if no then string is palindrome but case is different\n",
    "2 - If string is not palindrome  after changing the case of both strings to lower then \n",
    "string is not palindrome.'''\n",
    "\n",
    "if p1.lower() == p2.lower():\n",
    "    if p1==p2:\n",
    "        print('String is palindrome')\n",
    "    else:\n",
    "        print('String is palindrome but case is different')\n",
    "else:\n",
    "    print('String is not palindrome') "
   ]
  },
  {
   "cell_type": "markdown",
   "metadata": {},
   "source": [
    "##### 17. Write a program that calculates the average of a list of numbers, excluding the smallest and largest values.\n"
   ]
  },
  {
   "cell_type": "code",
   "execution_count": 11,
   "metadata": {},
   "outputs": [
    {
     "name": "stdout",
     "output_type": "stream",
     "text": [
      "entered list: [3, 4, 5, 6, 5, 7, 8, 9, 9, 3, 3]\n",
      "Average of elements 5.833333333333333\n"
     ]
    }
   ],
   "source": [
    "# take space seperated integer values as elements of list from user using input() \n",
    "# and split these numbers using split() and convert them into integer using int()\n",
    "l = list(map(int, input(\"Enter space seperated values for list\").split()))\n",
    "# print the entered list\n",
    "print(\"entered list:\",l)\n",
    "# get the maximum value in list using max()\n",
    "maxm = max(l)\n",
    "# get the minimum value in list using min()\n",
    "minm = min(l)\n",
    "# initialize a variable to store sum of elements excluding smallest and largest values in list\n",
    "sum_of_elements = 0\n",
    "# initialize a variable to length of elements excluding smallest and largest values in list\n",
    "length_of_list = 0\n",
    "# iterate over elements of list \n",
    "for i in l:\n",
    "    # check if element is not minimum and element is not maximum\n",
    "    if maxm!=i and minm!=i:\n",
    "        # add this element to sum variable\n",
    "        sum_of_elements+= i \n",
    "        # increase the length of list by 1\n",
    "        length_of_list+= 1\n",
    "# calculate of average\n",
    "average = sum_of_elements/length_of_list\n",
    "# print the average\n",
    "print(\"Average of elements\", average)"
   ]
  },
  {
   "cell_type": "markdown",
   "metadata": {},
   "source": [
    "##### 18. Develop a program that converts a given temperature from Celsius to Fahrenheit.\n"
   ]
  },
  {
   "cell_type": "code",
   "execution_count": 7,
   "metadata": {},
   "outputs": [
    {
     "name": "stdout",
     "output_type": "stream",
     "text": [
      "for 45.0°C Temperature in fahrenheit = 113.0\n"
     ]
    }
   ],
   "source": [
    "''' input the value of temperature from user by using input() function \n",
    "and converting the user input value to float using float() function'''\n",
    "temperatue_celsius = float(input(\"enter temperature in celcius\"))\n",
    "\n",
    "# calculate the temperature in fahrenheit using formula - temperature_celsius*(9/5) + 32\n",
    "# here bodmas will be applied, at first inner bracket will be solve so 9/5 is excuted at first\n",
    "# then value of 9/5 is multiplied by temperature_celsius\n",
    "# then 32 is added to above calculated value.\n",
    "temperatue_fahrenheit = (temperatue_celsius*(9/5)) + 32\n",
    "\n",
    "# print the value of calculated temperature\n",
    "print(\"for\",str(temperatue_celsius)+\"°C Temperature in fahrenheit =\", temperatue_fahrenheit)\n"
   ]
  },
  {
   "cell_type": "markdown",
   "metadata": {},
   "source": [
    "##### 19. Create a program that simulates a basic calculator for addition, subtraction, multiplication, and division.\n"
   ]
  },
  {
   "cell_type": "code",
   "execution_count": 2,
   "metadata": {},
   "outputs": [
    {
     "name": "stdout",
     "output_type": "stream",
     "text": [
      "Enter + for addition\n",
      "Enter - for subtraction\n",
      "Enter * for multiplication\n",
      "Enter / for division\n",
      "Enter # to stop calculation\n",
      "Now you need to enter 2 values for multiplication\n",
      "Multiplication is 16\n",
      "Enter + for addition\n",
      "Enter - for subtraction\n",
      "Enter * for multiplication\n",
      "Enter / for division\n",
      "Enter # to stop calculation\n",
      "Now you need to enter 2 values for addition\n",
      "sum is 14\n",
      "Enter + for addition\n",
      "Enter - for subtraction\n",
      "Enter * for multiplication\n",
      "Enter / for division\n",
      "Enter # to stop calculation\n",
      "Calculation has been stopped.\n"
     ]
    }
   ],
   "source": [
    "while True :\n",
    "    # print the options user can have in calculator \n",
    "    print(\"Enter + for addition\")\n",
    "    print(\"Enter - for subtraction\")\n",
    "    print(\"Enter * for multiplication\")\n",
    "    print(\"Enter / for division\")\n",
    "    print(\"Enter # to stop calculation\")\n",
    "    choice = input(\"Enter your choice\")\n",
    "    if choice == '+':\n",
    "        # print message to tell user to input values you want to add \n",
    "        print(\"Now you need to enter 2 values for addition\")\n",
    "        a, b = map(int, input(\"Enter 2 space seperated integer values\").split())\n",
    "        print(\"sum is\",a+b)\n",
    "    elif choice == '-':\n",
    "        # print message to tell user to input values you want to subtract \n",
    "        print(\"Now you need to enter 2 values for subtraction -> first value - second value\")\n",
    "        a, b = map(int, input(\"Enter 2 space seperated integer values\").split())\n",
    "        print(\"Subtraction is\",a-b)\n",
    "    elif choice == '*':\n",
    "        # print message to tell user to input values you want to multiply \n",
    "        print(\"Now you need to enter 2 values for multiplication\")\n",
    "        a, b = map(int, input(\"Enter 2 space seperated integer values\").split())\n",
    "        print(\"Multiplication is\",a*b)\n",
    "    elif choice == '/':\n",
    "        # print message to tell user to input values you want to divide \n",
    "        print(\"Now you need to enter 2 values for division -> first value / second value\")\n",
    "        a, b = map(int, input(\"Enter 2 space seperated integer values\").split())\n",
    "        print(\"division is\",a/b)\n",
    "    elif choice == '#':\n",
    "        # print the appropriate message \n",
    "        print(\"Calculation has been stopped.\")\n",
    "        break\n",
    "    else :\n",
    "        # print the appropriate message \n",
    "        print(\"Invalid choice is entered, please re-enter.\")"
   ]
  },
  {
   "cell_type": "markdown",
   "metadata": {},
   "source": [
    "##### 20. Write a program that determines the roots of a cubic equation using the Cardano formula."
   ]
  },
  {
   "cell_type": "code",
   "execution_count": 26,
   "metadata": {},
   "outputs": [
    {
     "name": "stdout",
     "output_type": "stream",
     "text": [
      "The cubic equation looks like -> ax^3+bx^2+cx+d=0\n",
      "Please enter the value of a b c d\n",
      "your equation is ( (1+0j)x^3 + (3+0j)x^2 + (3+0j)x + 0j = 0)\n",
      "the roots of equation are :- \n",
      "{0j, (-1.5-0.8660254037844386j), (-1.5+0.8660254037844386j)}\n"
     ]
    }
   ],
   "source": [
    "# import everything from cmath\n",
    "from cmath import *\n",
    "# initialize a set to store the solution roots\n",
    "solutions = set()\n",
    "\n",
    "# create a function to calculate roots of equation\n",
    "def cbrt(polynomial):\n",
    "    # initialize a set to store the roots\n",
    "    solution = set()\n",
    "    # calculate first root\n",
    "    root1 = polynomial ** (1 / 3)\n",
    "    # calculate second root\n",
    "    root2 = (polynomial ** (1 / 3)) * (-1 / 2 + (sqrt(3) * 1j) / 2)\n",
    "    # calculate 3rd root\n",
    "    root3 = (polynomial ** (1 / 3)) * (-1 / 2 - (sqrt(3) * 1j) / 2)\n",
    "    # add them in set and return the solution set\n",
    "    solution.update({root1, root2, root3})\n",
    "    return solution\n",
    "\n",
    "# print the example of cubic equation\n",
    "print('The cubic equation looks like -> ax^3+bx^2+cx+d=0')\n",
    "print(\"Please enter the value of a b c d\")\n",
    "# take input from user using input() , split them on the basis of space using split() and convert them into complex using map()\n",
    "a, b, c, d = map(complex, input().split())\n",
    "print(f\"your equation is ( {a}x^3 + {b}x^2 + {c}x + {d} = 0)\")\n",
    "# if a is not equal to 0\n",
    "if a != 0:\n",
    "    # calculate p\n",
    "    p = (3 * a * c - b ** 2) / (3 * a ** 2)\n",
    "    # calculate q\n",
    "    q = (2 * b ** 3 - 9 * a * b * c + 27 * a ** 2 * d) / (27 * a ** 3)\n",
    "    # calculate alpha\n",
    "    alpha = cbrt(-q / 2 + sqrt((q / 2) ** 2 + (p / 3) ** 3))\n",
    "    # calculate beeta \n",
    "    beta = cbrt(-q / 2 - sqrt((q / 2) ** 2 + (p / 3) ** 3))\n",
    "    # execute the loop for values in alpha\n",
    "    for i in alpha:\n",
    "        # execute the loop for values in beta\n",
    "        for j in beta:\n",
    "            # check the condition \n",
    "            if abs((i * j) + p / 3) <= 0.00001:\n",
    "                # calculate the value of x\n",
    "                x = i + j - b / (3 * a)\n",
    "                # add it in solution set\n",
    "                solutions.add(x)\n",
    "# if b is not equal to 0\n",
    "elif b != 0:\n",
    "    # calculate d and add roots to solutions set\n",
    "    D = c ** 2 - 4 * b * d\n",
    "    solutions.add((-c - sqrt(D)) / 2 * b)\n",
    "    solutions.add((-c + sqrt(D)) / 2 * b)\n",
    "# if c is not equals to 0\n",
    "elif c != 0:\n",
    "    # add -d/c to solution set\n",
    "    solutions.add(-d / c)\n",
    "# print the solution roots\n",
    "print(\"the roots of equation are :- \")\n",
    "print(solutions)"
   ]
  },
  {
   "cell_type": "markdown",
   "metadata": {},
   "source": [
    "# ***`Advanced Level:`***"
   ]
  },
  {
   "cell_type": "markdown",
   "metadata": {},
   "source": [
    "##### 21. Create a program that calculates the income tax based on the user's income and tax brackets."
   ]
  },
  {
   "cell_type": "markdown",
   "metadata": {},
   "source": [
    "* Rs 0 to Rs 3 lakh - 0% tax rate\n",
    "* Rs 3 lakh to 6 lakh - 5%\n",
    "* Rs 6 lakh to 9 lakh - 10%\n",
    "* Rs 9 lakh to Rs 12 lakh - 15%\n",
    "* Rs 12 lakh to Rs 15 lakh - 20%\n",
    "* Above Rs 15 lakh - 30%"
   ]
  },
  {
   "cell_type": "code",
   "execution_count": 14,
   "metadata": {},
   "outputs": [
    {
     "name": "stdout",
     "output_type": "stream",
     "text": [
      "The Tax is 240000.0\n"
     ]
    }
   ],
   "source": [
    "# initialize a variable to store value of tax.\n",
    "tax = 0\n",
    "# take input from user for income using input() and convert it into integer using int()\n",
    "income = int(input(\"Enter your income\"))\n",
    "# if income <= 3lakh then no tax applies\n",
    "if income<=300000:\n",
    "    print(\"No Tax applied\")\n",
    "# if income is between 3 lakh to 6 lakh then 5% tax is applicable on income above 3 lakh\n",
    "elif income>300000 and income <= 600000:\n",
    "    tax = (income-300000)*5/100\n",
    "# if income is between 6lakh to 9 lakh then 5% tax is applicable on amount from 3 lakh to 6lakh and 10% tax is applicable above 6 lakh \n",
    "elif income>600000 and income<900000:\n",
    "    tax = (income-600000)*10/100 + 300000*5/100 \n",
    "# if income is between 9lakh to 12 lakh then 5% tax is applicable on amount from 3 lakh to 6lakh and 10% tax is applicable from 6 lakh to 9lakh and \n",
    "# 15% tax is applicable above 9 lakh \n",
    "elif income>900000 and income<=1200000:\n",
    "    tax = (income-900000)*15/100 + 300000*10/100 + 300000*5/100 \n",
    "# if income is between 12lakh to 15 lakh then 5% tax is applicable on amount from 3 lakh to 6lakh and 10% tax is applicable from 6 lakh to 9lakh and \n",
    "# 15% tax is applicable 9 lakh to 12 lakh and 20% tax on above 12 lakh\n",
    "elif income>1200000 and income<=1500000:\n",
    "    tax = (income-1200000)*20/100 + 300000*15/100 + 300000*10/100 + 300000*5/100 \n",
    "# if income > 15lakh then 5% tax is applicable on amount from 3 lakh to 6lakh and 10% tax is applicable from 6 lakh to 9lakh and \n",
    "# 15% tax is applicable 9 lakh to 12 lakh and 20% tax from 12 lakh to15 lakh and 30% tax on above 15 lakh\n",
    "else:\n",
    "    tax = (income-1500000)*30/100 + 300000*20/100 + 300000*15/100 + 300000*10/100 + 300000*5/100 \n",
    "# print the tax amount \n",
    "print(\"The Tax is\", tax)\n"
   ]
  },
  {
   "cell_type": "markdown",
   "metadata": {},
   "source": [
    "##### 22. Write a program that simulates a rock-paper-scissors game against the computer.\n"
   ]
  },
  {
   "cell_type": "code",
   "execution_count": 12,
   "metadata": {},
   "outputs": [
    {
     "name": "stdout",
     "output_type": "stream",
     "text": [
      "Enter your choice : rock, paper, scissors.\n",
      " enter 'stop' to stop the game\n",
      "It's a tie!\n",
      "Enter your choice : rock, paper, scissors.\n",
      " enter 'stop' to stop the game\n",
      "You win.\n",
      "Enter your choice : rock, paper, scissors.\n",
      " enter 'stop' to stop the game\n",
      "Game has been stopped\n"
     ]
    }
   ],
   "source": [
    "# define a trial() having user_choice and system_choice\n",
    "def trial(user_choice, system_choice):\n",
    "    # if user and system choose same value then it is a tie.\n",
    "    if user_choice == system_choice:\n",
    "        return \"It's a tie!\"\n",
    "    # if user chooses paper and system chooses rock then user win else system win\n",
    "    elif user_choice == \"paper\":\n",
    "        if system_choice == \"rock\":\n",
    "            return \"You win.\"\n",
    "        else:\n",
    "            return \"You lose.\"\n",
    "    # if user chooses rock and system chooses scissors then user win else system win\n",
    "    elif user_choice == \"rock\":\n",
    "        if system_choice == \"scissors\":\n",
    "            return \"You win!\"\n",
    "        else:\n",
    "            return \"You lose.\"\n",
    "    # if user chooses scissors and system chooses paper then user win else system win\n",
    "    elif user_choice == \"scissors\":\n",
    "        if system_choice == \"paper\":\n",
    "            return \"You win!\"\n",
    "        else:\n",
    "            return \"You lose.\"\n",
    "# import the random module \n",
    "import random \n",
    "# make a list of choices which a system can opt\n",
    "choices = ['rock','paper','scissors']\n",
    "# run the while loop : initially for infite time but we can break it when user want to stop.\n",
    "while(True):\n",
    "    # print message to ask user for input\n",
    "    print(\"Enter your choice : rock, paper, scissors.\\nenter 'stop' to stop the game\")\n",
    "    # take input from user using input()\n",
    "    user_choice = input(\"Enter your choice\")\n",
    "    # for sytem's input, we choose from list using randome.choice, for making a random choice via system.\n",
    "    system_choice = random.choice(choices)\n",
    "    # if user has ask for stop or enter invalid input, we stop the game.\n",
    "    if user_choice == 'stop':\n",
    "        print(\"Game has been stopped\")\n",
    "        break \n",
    "    elif user_choice not in choices:\n",
    "        print(\"Invalid choice, game is stopped.\")\n",
    "        break\n",
    "    # if user input a valid choice then we compile it using trial()  \n",
    "    else :\n",
    "        print(trial(user_choice=user_choice, system_choice=system_choice))\n",
    "\n"
   ]
  },
  {
   "cell_type": "markdown",
   "metadata": {},
   "source": [
    "##### 23. Develop a program that generates a random password based on user preferences (length, complexity)."
   ]
  },
  {
   "cell_type": "code",
   "execution_count": 5,
   "metadata": {},
   "outputs": [
    {
     "name": "stdout",
     "output_type": "stream",
     "text": [
      "enter the length of password\n",
      "does it include alphabets - yes/no\n",
      "does it include special characters - yes/no\n",
      "does it include digits - yes/no\n",
      "The password is dGuP7jS1(w)!\n"
     ]
    }
   ],
   "source": [
    "# import random module and string module \n",
    "import random\n",
    "import string\n",
    "# initialize a list to store characters which user can choose for  password\n",
    "choices_characters = []\n",
    "# initialize a list to store password.\n",
    "password_list = []\n",
    "# take length input from user using input() and convert it into integer using int()\n",
    "print(\"enter the length of password\")\n",
    "length = int(input())\n",
    "# ask user if he wants alphabets\n",
    "print(\"does it include alphabets - yes/no\")\n",
    "ch = input()\n",
    "# if he wants alphabets\n",
    "if ch == 'yes':\n",
    "    # add all upper case and lower case alphabets in the list using list comprehension\n",
    "    choices_characters.extend([chr(i) for i in range(65,90)])\n",
    "    choices_characters.extend([chr(i) for i in range(97,122)])\n",
    "# ask user if he wants special characters in password\n",
    "print(\"does it include special characters - yes/no\")\n",
    "ch = input()\n",
    "# if he wants special characters in his password\n",
    "if ch == 'yes':\n",
    "    # get a list for all the special charaters using string.punctuation and put them into the list using extend\n",
    "    choices_characters.extend(list(string.punctuation))\n",
    "# ask user if he wants digit characters in password\n",
    "print(\"does it include digits - yes/no\")\n",
    "ch = input()\n",
    "# if user if he wants special characters in password\n",
    "if ch == 'yes':\n",
    "    # add all digit characters in the list using list comprehension\n",
    "    choices_characters.extend([str(i) for i in range(0,10)])\n",
    "# as user wants password of length n , we run for loop for n times\n",
    "for i in range(length):\n",
    "    # each time we randomly choose a character from choices_character list and put it into password list\n",
    "    password_list.append(random.choice(choices_characters))\n",
    "# print the password by joining the characters of password_list using join()\n",
    "print(\"The password is\",''.join(password_list))"
   ]
  },
  {
   "cell_type": "markdown",
   "metadata": {},
   "source": [
    "##### 24. Create a program that implements a simple text-based adventure game with branching scenarios."
   ]
  },
  {
   "cell_type": "code",
   "execution_count": 2,
   "metadata": {},
   "outputs": [
    {
     "name": "stdout",
     "output_type": "stream",
     "text": [
      "Welcome to this adventurous game!!\n",
      "In this game, you will face challenges. You will so many adventurous things to do.\n",
      "Believe in youself and fight against the problems.\n",
      "Please enter your name to start\n",
      "Hi Hunter, Let's start the game\n",
      "please enter your direction of movement - left/right/forward/backward.\n",
      "You entered in war zone\n",
      "please enter your direction of movement - left/right/forward/backward.\n",
      "The door opened with a wall on which a sword is hangging\n",
      "please enter your direction of movement - left/right/forward/backward.\n",
      "You encounted a zombie, you entered in fighting zone\n",
      "Enter your choice - fight/flee\n",
      "You win, Exit\n"
     ]
    }
   ],
   "source": [
    "# make a global variable \n",
    "arms = False \n",
    "# create a entry point of game\n",
    "def enter_the_game():\n",
    "    # create a list of choices for next doors\n",
    "    choices = ['left', 'right', 'forward']\n",
    "    # initialize a variable to store direction of user for doors\n",
    "    ch = \"\"\n",
    "    # run a while loop\n",
    "    while ch not in choices:\n",
    "        # ask user for his choice\n",
    "        print(\"please enter your direction of movement - left/right/forward/backward.\")\n",
    "        ch = input(\"enter your direction\")\n",
    "        # if user enters left, he goes to zombie zone\n",
    "        if ch == \"left\":\n",
    "            print(\"You entered in zombie zone\")\n",
    "            # call zombie function\n",
    "            return zombie()\n",
    "        # if user chooses right, he enters to war zone\n",
    "        elif ch == \"right\":\n",
    "            print(\"You entered in war zone\")\n",
    "            # call the war_zone() and return its output\n",
    "            return war_zone()\n",
    "        # if user chooses forward, he enters to haunted house\n",
    "        elif ch == \"forward\":\n",
    "            print(\"You entered in haunted house\")\n",
    "            # call the haunted_house() and return its output\n",
    "            return haunted_house()\n",
    "        # if user chooses backward, he get a wall.\n",
    "        elif ch == \"backward\":\n",
    "            print(\"The door opened into a blank wall\")\n",
    "        # if user chooses invalid value, he needs to re-enter it\n",
    "        else :\n",
    "            print(\"Invalid choice, please choose again!!\")\n",
    "# define zombie()\n",
    "def zombie():\n",
    "    # create a list of choices for next doors\n",
    "    choices = ['left', 'forward', 'backward']\n",
    "    # initialize a variable to store direction of user for doors\n",
    "    ch = \"\"\n",
    "    # run a while loop\n",
    "    while ch not in choices:\n",
    "        # call the global variable inside the function\n",
    "        global arms\n",
    "        # ask user for his choice\n",
    "        print(\"please enter your direction of movement - left/right/forward/backward.\")\n",
    "        ch = input(\"enter your direction\")\n",
    "        # if user enters left, he goes to haunted_house\n",
    "        if ch == \"left\":\n",
    "            print(\"You entered in haunted house\")\n",
    "            # call the haunted_house() and return its output\n",
    "            return haunted_house()\n",
    "        # if he enters right, he get a wall and a sword, so on the flag of arms\n",
    "        elif ch == \"right\":\n",
    "            print(\"The door opened with a wall on which a sword is hangging\")\n",
    "            arms = True\n",
    "        # if he enters forward, he encounter zombie for fighting, call fight()\n",
    "        elif ch == \"forward\":\n",
    "            print(\"You encounted a weird zombie, you entered in fighting zone\")\n",
    "            return fight()\n",
    "        # if he enters backward, call enter_the_game()\n",
    "        elif ch == \"backward\":\n",
    "            print(\"You again enter to the place where you started\")\n",
    "            enter_the_game()\n",
    "        # if user enters invalid choice, ask him to re-enter\n",
    "        else :\n",
    "            print(\"Invalid choice, please choose again!!\")\n",
    "\n",
    "def war_zone():\n",
    "    # create a list of choices for next doors\n",
    "    choices = ['left', 'forward', 'backward']\n",
    "    # initialize a variable to store direction of user for doors\n",
    "    ch = \"\"\n",
    "    # run a while loop\n",
    "    while ch not in choices:\n",
    "        global arms\n",
    "        # ask user for his choice\n",
    "        print(\"please enter your direction of movement - left/right/forward/backward.\")\n",
    "        ch = input(\"enter your direction\")\n",
    "        # if he enter left, he enters to zombie zone\n",
    "        if ch == \"left\":\n",
    "            print(\"You entered in zombie zone\")\n",
    "            # call zombie() and return its value\n",
    "            return zombie()\n",
    "        # if he enters right, he get a wall and a sword, so on the flag of arms\n",
    "        elif ch == \"right\":\n",
    "            print(\"The door opened with a wall on which a sword is hangging\")\n",
    "            arms = True\n",
    "        # if he enters forward, he encounter soldier for fighting, call fight()\n",
    "        elif ch == \"forward\":\n",
    "            print(\"You encounted a soldier, you entered in fighting zone\")\n",
    "            return fight()\n",
    "        # if he enters backward, call enter_the_game()\n",
    "        elif ch == \"backward\":\n",
    "            print(\"You again enter to the place where you started\")\n",
    "            enter_the_game()\n",
    "        # if user enters invalid choice, ask him to re-enter\n",
    "        else :\n",
    "            print(\"Invalid choice, please choose again!!\")\n",
    "# define haunted_house()\n",
    "def haunted_house():\n",
    "    # create a list of choices for next doors\n",
    "    choices = ['left', 'right', 'backward']\n",
    "    # initialize a variable to store direction of user for doors\n",
    "    ch = \"\"\n",
    "    # run a while loop\n",
    "    while ch not in choices:\n",
    "        # call the global variable \n",
    "        global arms\n",
    "        # ask user for his choice\n",
    "        print(\"please enter your direction of movement - left/right/forward/backward.\")\n",
    "        ch = input(\"enter your direction\")\n",
    "        # if he chooses left, he enters war zone\n",
    "        if ch == \"left\":\n",
    "            print(\"You entered in war zone\")\n",
    "            # call the war_zone() and return its output\n",
    "            return war_zone()\n",
    "        # if he enters forward, he get a wall and a sword, so on the flag of arms\n",
    "        elif ch == \"forward\":\n",
    "            print(\"The door opened with a wall on which a sword is hangging\")\n",
    "            arms = True\n",
    "        # if he enters right, he encounter zombie for fighting, call fight()   \n",
    "        elif ch == \"right\":\n",
    "            print(\"You encounted a weird creature, you entered in fighting zone\")\n",
    "            return fight()\n",
    "        # if he enters backward, call enter_the_game()\n",
    "        elif ch == \"backward\":\n",
    "            print(\"You again enter to the place where you started\")\n",
    "            enter_the_game()\n",
    "        # if user enters invalid choice, ask him to re-enter\n",
    "        else :\n",
    "            print(\"Invalid choice, please choose again!!\")\n",
    "# define fight()\n",
    "def fight():\n",
    "    global arms\n",
    "    # create a list of choices \n",
    "    choices = [\"fight\",\"flee\"]\n",
    "    # initialize a variable to store choice of user\n",
    "    ch =''\n",
    "    # run a while loop\n",
    "    while ch not in choices: \n",
    "        # ask user for his choice\n",
    "        print(\"Enter your choice - fight/flee\")\n",
    "        ch = input(\"Enter your choice\")\n",
    "        # if user chooses for fight, check if he has any weapon\n",
    "        if ch == 'fight':\n",
    "            # if he has any weapon, he kill the creature and win \n",
    "            if arms:\n",
    "                print(\"You win, Exit\")\n",
    "                return 'exit'\n",
    "            # otherwise he lose \n",
    "            else:\n",
    "                print(\"you got killed.\")\n",
    "                return 'exit'\n",
    "        # if user chooses to flee, he got killed and game over\n",
    "        elif ch == 'flee':\n",
    "            print(\"you got killed.\")\n",
    "            return 'exit'\n",
    "        # if he enters invalid choice, ask him to re-enter\n",
    "        else :\n",
    "            print(\"Please enter valid choice\")\n",
    "# print the introduction message\n",
    "print(\"Welcome to this adventurous game!!\")\n",
    "print(\"In this game, you will face challenges. You will so many adventurous things to do.\")\n",
    "print(\"Believe in youself and fight against the problems.\")\n",
    "print(\"Please enter your name to start\")\n",
    "# take input from user for his name using input()\n",
    "name = input(\"Enter your name\")\n",
    "print(f\"Hi {name}, Let's start the game\")\n",
    "# start the game by calling enter_the_game()\n",
    "ans = enter_the_game()"
   ]
  },
  {
   "cell_type": "markdown",
   "metadata": {},
   "source": [
    "##### 25. Build a program that solves a linear equation for x, considering different cases."
   ]
  },
  {
   "cell_type": "code",
   "execution_count": 6,
   "metadata": {},
   "outputs": [
    {
     "name": "stdout",
     "output_type": "stream",
     "text": [
      "The linear equation looks like - y = mx+c, where x,y are x and y axis, m is slope of line, c is constant or intercept.\n",
      "Now you have to enter value of m and c\n",
      "your equation is y = (2.0)x + (2.0)\n",
      "the (x, y) co-ordinates are - \n",
      "(-1.0, 0)\n",
      "(-0.5, 1)\n",
      "(0.0, 2)\n",
      "(0.5, 3)\n",
      "(1.0, 4)\n",
      "(1.5, 5)\n",
      "(2.0, 6)\n",
      "(2.5, 7)\n",
      "(3.0, 8)\n",
      "(3.5, 9)\n",
      "(4.0, 10)\n"
     ]
    }
   ],
   "source": [
    "# print the explaination of linear equation\n",
    "print(\"The linear equation looks like - y = mx+c, where x,y are x and y axis, m is slope of line, c is constant or intercept.\")\n",
    "print(\"Now you have to enter value of m and c\")\n",
    "# take input from user for m and c using input() and convert them into floart value using float()\n",
    "m = float(input(\"Enter value of m\"))\n",
    "c = float(input(\"Enter value of c\"))\n",
    "# print the final equation\n",
    "print(f\"your equation is y = ({m})x + ({c})\")\n",
    "# print the message for co-ordinates\n",
    "print(\"the (x, y) co-ordinates are - \")\n",
    "# run loop for 11 times to get 11 pair of co-ordinates\n",
    "for y in range(0,11):\n",
    "    # get value of x as value of y changes\n",
    "    x = (y-c)/m \n",
    "    # print the co-ordinates\n",
    "    print(f\"({x}, {y})\")"
   ]
  },
  {
   "cell_type": "markdown",
   "metadata": {},
   "source": [
    "##### 26. Write a program that simulates a basic quiz game with multiple-choice questions and scoring."
   ]
  },
  {
   "cell_type": "code",
   "execution_count": 4,
   "metadata": {},
   "outputs": [
    {
     "name": "stdout",
     "output_type": "stream",
     "text": [
      "the quiz starts - \n",
      "which function is used to convert value to integer?\n",
      "a. str()\n",
      "b. tuple()\n",
      "c. ord()\n",
      "d. int()\n",
      "you choose d\n",
      "Is string mutable?\n",
      "a. Yes\n",
      "b. No\n",
      "you choose b\n",
      "Which of the following is immutable?\n",
      "a. tuple\n",
      "b. List\n",
      "c. Dict\n",
      "d. Set\n",
      "you choose a\n",
      "Which keywords is used to define a function?\n",
      "a. try\n",
      "b. def\n",
      "c. except\n",
      "d. break\n",
      "you choose b\n",
      "How many values a function can return?\n",
      "a. any number of values\n",
      "b. only one\n",
      "c. only 2\n",
      "d. no value\n",
      "you choose a\n",
      "Your total score is 10\n"
     ]
    }
   ],
   "source": [
    "# intialize a variable to store total score of student\n",
    "total_score = 0\n",
    "# make a list for questions \n",
    "ques_list = [\"which function is used to convert value to integer?\", \"Is string mutable?\", \"Which of the following is immutable?\", \"Which keywords is used to define a function?\", \"How many values a function can return?\"]\n",
    "# make a list of options which user can see regarding each quation\n",
    "option_list = [[\"a. str()\",\"b. tuple()\",\"c. ord()\",\"d. int()\"], [\"a. Yes\",\"b. No\"], [\"a. tuple\",\"b. List\",\"c. Dict\",\"d. Set\"],[\"a. try\",\"b. def\",\"c. except\",\"d. break\"],[\"a. any number of values\",\"b. only one\",\"c. only 2\",\"d. no value\"]]\n",
    "# make a list of correct answers regarding each question\n",
    "ans_list = [\"d\", \"b\", \"a\", \"b\", \"a\"]\n",
    "print(\"the quiz starts - \")\n",
    "# iterate over each question\n",
    "for i in range(len(ques_list)):\n",
    "    # print the question\n",
    "    print(ques_list[i])\n",
    "    # iterate over the options for the current question\n",
    "    for j in option_list[i]:\n",
    "        # print the option\n",
    "        print(j)\n",
    "    # ask user for the input\n",
    "    choice = input(\"Enter your answer - a/b/c/d\")\n",
    "    print(\"you choose\",choice)\n",
    "    # if user has chosen correct answer, increase score by 2\n",
    "    if choice == ans_list[i]:\n",
    "        total_score += 2\n",
    "# print the total score at the end of quiz.\n",
    "print(\"Your total score is\", total_score)\n",
    "\n",
    "\n",
    "\n"
   ]
  },
  {
   "cell_type": "markdown",
   "metadata": {},
   "source": [
    "##### 27. Develop a program that determines whether a given year is a prime number or not."
   ]
  },
  {
   "cell_type": "code",
   "execution_count": 8,
   "metadata": {},
   "outputs": [
    {
     "name": "stdout",
     "output_type": "stream",
     "text": [
      "the entered year is - 2027\n",
      "Prime Year\n"
     ]
    }
   ],
   "source": [
    "# take input interegr value using input() and convert it into integer using int()\n",
    "n = int(input(\"enter a year \"))\n",
    "# print the entered year \n",
    "print(\"the entered year is -\", n)\n",
    "# initialize a flag to store True if it is divisible by any year and false if it is not divisible by any number, means it is prime\n",
    "flag = 0\n",
    "# execute a loop from 2 to n/2\n",
    "for i in range(2,n//2+1):\n",
    "    # if it is divisible by any number in range between stated above\n",
    "    if n%i == 0:\n",
    "        # on the flag\n",
    "        flag = 1\n",
    "        # stop the loop and move out of loop\n",
    "        break \n",
    "# if flag is false and year is greater than 1 then it is prime\n",
    "if flag == 0 and n>1:\n",
    "    print(\"Prime Year\")\n",
    "# otherwise it is not prime\n",
    "else:\n",
    "    print(\"Non-Prime Year\")"
   ]
  },
  {
   "cell_type": "markdown",
   "metadata": {},
   "source": [
    "##### 28. Create a program that sorts three numbers in ascending order using conditional statements."
   ]
  },
  {
   "cell_type": "code",
   "execution_count": 5,
   "metadata": {},
   "outputs": [
    {
     "name": "stdout",
     "output_type": "stream",
     "text": [
      "The three numbers are : [18, 10, 2]\n",
      "The sorted values are : [2, 10, 18]\n"
     ]
    }
   ],
   "source": [
    "# take 3 space seperated integer values from user using input() and split them using split() and convert them into integer using int()\n",
    "# and put these values into a list using list() .\n",
    "l = list(map(int,input(\"Enter 3 space seperated integer values\").split()))\n",
    "# print the initial list of 3 numbers\n",
    "print(\"The three numbers are :\", l)\n",
    "# if 2nd value is smaller than 1st value then swap them\n",
    "if l[1]<l[0]:\n",
    "    l[1],l[0] = l[0], l[1]\n",
    "# if 3rd value is smaller than 2nd value then swap them\n",
    "if l[2]<l[1]:\n",
    "    l[2],l[1] = l[1],l[2]\n",
    "    # if 2nd value is smaller than 1st value then swap them\n",
    "    if l[1]<l[0]:\n",
    "        l[1],l[0] = l[0], l[1]\n",
    "# print the sorted values\n",
    "print(\"The sorted values are :\", l)\n"
   ]
  },
  {
   "cell_type": "markdown",
   "metadata": {},
   "source": [
    "##### 29. Build a program that determines the roots of a quadratic equation using numerical methods.\n"
   ]
  },
  {
   "cell_type": "code",
   "execution_count": 1,
   "metadata": {},
   "outputs": [
    {
     "name": "stdout",
     "output_type": "stream",
     "text": [
      "Example of equation is : ax^2 + bx +c = 0 where a,b,c are constants.\n",
      "Your equation looks like this : (16x^2) + (32x) + (1)  = 0\n",
      "Roots are real and different : -0.031754163448145745 , -1.9682458365518543\n"
     ]
    }
   ],
   "source": [
    "import math\n",
    "# print the equation\n",
    "print(\"Example of equation is : ax^2 + bx +c = 0 where a,b,c are constants.\")\n",
    "# take input values from user for a,b,c using input and convert then into integer using int()\n",
    "a = int(input(\"Enter a\"))\n",
    "b = int(input(\"Enter b\"))\n",
    "c = int(input(\"Enter c\"))\n",
    "# print the equation for user \n",
    "print(\"Your equation looks like this : ({}x^2) + ({}x) + ({})  = 0\".format(a,b,c))\n",
    "# apply formula for roots of quadratic equation to get 2 roots of equation\n",
    "\n",
    "# coefficient of x^2 is 0 it means it is not quadratic equation\n",
    "if a == 0:\n",
    "    print(\"Not a quadratic equation\")\n",
    "# calculate the value of d\n",
    "d = b * b - 4 * a * c\n",
    "# calculate the value of sq. root of d\n",
    "sqrt_val = math.sqrt(abs(d))\n",
    " \n",
    "# check is d>0 then real and diff. roots and print the roots\n",
    "if d > 0:\n",
    "    print(\"Roots are real and different : {} , {}\".format((-b + sqrt_val)/(2 * a),(-b - sqrt_val)/(2 * a)))\n",
    "# if d = 0 then roots are real and same, and print the roots\n",
    "elif d == 0:\n",
    "    print(\"Roots are real and same : {}, {}\".format(-b / (2*a), -b / (2*a)))\n",
    "\n",
    "# when d<0 the roots are complex and print the roots\n",
    "else:  # d<0\n",
    "    print(\"Roots are complex\".format((- b / (2*a), \" + i\", sqrt_val / (2 * a)), (- b / (2*a), \" - i\", sqrt_val / (2 * a))))\n"
   ]
  },
  {
   "cell_type": "markdown",
   "metadata": {},
   "source": [
    "##### 30. Write a program that calculates the BMI (Body Mass Index) and provides health recommendations based on the user's input."
   ]
  },
  {
   "cell_type": "code",
   "execution_count": 25,
   "metadata": {},
   "outputs": [
    {
     "name": "stdout",
     "output_type": "stream",
     "text": [
      "the BMI is - 29.411764705882355\n",
      "The category is OverWeight, please try to control your diet and do some exercise\n"
     ]
    }
   ],
   "source": [
    "# take input from user for height and weight using input() and convert these into float using float.\n",
    "weigth = float(input(\"enter weight in kgs\"))\n",
    "height = float(input(\"Enter height in meters\"))\n",
    "# calculate BMI\n",
    "bmi = weigth/height\n",
    "print(\"the BMI is -\", bmi)\n",
    "# print the category\n",
    "print(\"The category is\", end=\" \")\n",
    "''' \n",
    "under 18.5 – This is described as underweight.\n",
    "between 18.5 and 24.9 – This is described as the 'healthy range'.\n",
    "between 25 and 29.9 – This is described as overweight.\n",
    "between 30 and 39.9 – This is described as obesity.\n",
    "40 or over –  This is described as severe obesity.\n",
    "'''\n",
    "# check the BMI using if - elif ladder and print the result\n",
    "if bmi<=18.5 :\n",
    "    print(\"Under weight, try to focus on you diet\")\n",
    "elif bmi>18.5 and bmi<=24.9:\n",
    "    print(\"Healty, you are well. Keep it up\")\n",
    "elif bmi>=25 and bmi<=29.9:\n",
    "    print(\"OverWeight, please try to control your diet and do some exercise\")\n",
    "elif bmi>=30 and bmi<=39.9:\n",
    "    print(\"Obesity, do regular exercise and maintain your diet\")\n",
    "else :\n",
    "    print(\"Severe Obesity, consult with a doctor please.\")"
   ]
  },
  {
   "cell_type": "markdown",
   "metadata": {},
   "source": [
    "# ***`Challenge Level:`***"
   ]
  },
  {
   "cell_type": "markdown",
   "metadata": {},
   "source": [
    "##### 31. Create a program that validates a password based on complexity rules (length, characters, etc.).\n"
   ]
  },
  {
   "cell_type": "code",
   "execution_count": null,
   "metadata": {},
   "outputs": [],
   "source": [
    "# import string module\n",
    "import string\n",
    "# define check_password() function to validate the password\n",
    "# a valid password has atleast one special character, one uppercase letter, one lower case letter, one digit, and has minimum 8 characters\n",
    "def check_password(password):\n",
    "    # get string for special characters using string.punctuation\n",
    "    special_character = string.punctuation\n",
    "    # initialize a variable with all upper case letters\n",
    "    upper_aplhabets = \"ABCDEFGHIJKLMNOPQRSTUVWXYZ\"\n",
    "    # initialize a variable with all lower case letters\n",
    "    lower_alphabets = \"abcdefghijklmnopqrstuvwxyz\"\n",
    "    # initialize a variable with all digit characters\n",
    "    digits = '1234567890'\n",
    "    # initialize a flag for presence of special character in password\n",
    "    is_special_character = False\n",
    "    # initialize a flag for presence of upper case letter character in password\n",
    "    is_upper_aplhabet = False\n",
    "    # initialize a flag for presence of lower case letter character in password\n",
    "    is_lower_alphabet = False\n",
    "    # initialize a flag for presence of digit character in password\n",
    "    is_digit = False\n",
    "    # if length of password is less than 8 then it is not valid password, return false\n",
    "    if len(password)<8 :\n",
    "        return False\n",
    "    # if length is not less than 8 \n",
    "    else:\n",
    "        # iterate over the elements of password string \n",
    "        for i in password:\n",
    "            # if character is digit, then on is_digit flag\n",
    "            if i in digits:\n",
    "                is_digit = \"True\"\n",
    "            # if character is upper case, then on is_upper_alphabet flag\n",
    "            elif i in upper_aplhabets:\n",
    "                is_upper_aplhabet = True \n",
    "            # if character is lower case, then on is_lower_alphabet flag\n",
    "            elif i in lower_alphabets:\n",
    "                is_lower_alphabet = True \n",
    "            # if character is special character, then on special_character flag\n",
    "            elif i in special_character:\n",
    "                is_special_character = True \n",
    "        # return true if all the flags are on otherwise return false\n",
    "        return is_digit and is_special_character and is_upper_aplhabet and is_lower_alphabet\n",
    "# print message to show definition of valid password\n",
    "print(\"A password is valid when it contains atleast one digit, one uppercase alphabet, one lowercase alphabet, one special character and have minimum 8 characters\")\n",
    "# take input from user for password using input()\n",
    "print(\"please enter a paswword to validate\")\n",
    "password = input()\n",
    "# check if the password is valid and print appropriate message.\n",
    "print(\"Valid Password\") if check_password(password) else print(\"not a valid password\")"
   ]
  },
  {
   "cell_type": "markdown",
   "metadata": {},
   "source": [
    "##### 32. Develop a program that performs matrix addition and subtraction based on user input.\n"
   ]
  },
  {
   "cell_type": "code",
   "execution_count": 9,
   "metadata": {},
   "outputs": [
    {
     "name": "stdout",
     "output_type": "stream",
     "text": [
      "Enter you choice for matrix operations - add/subtract\n",
      "Your choice is add\n",
      "Matrix Addition -> [[6, 8, 10, 12], [6, 8, 10, 12], [6, 8, 10, 12], [6, 8, 10, 12]]\n"
     ]
    }
   ],
   "source": [
    "# define matrix_operation() function to perform operation base on user's choice\n",
    "def matrix_operation(matrix1, matrix2, operation):\n",
    "    # create a list of same dimension as the matrix1 and matrix2\n",
    "    ans_list = [[0 for i in range(len(matrix1[0])) ] for j in range(len(matrix1))]\n",
    "    # iterate over each row of matrix\n",
    "    for i in range(len(matrix1)):\n",
    "        # iterate over each element of that row \n",
    "        for j in range(len(matrix1[0])):\n",
    "            # if user'choice is add then add the elements of the 2 matrix and put it in ans_list\n",
    "            if operation == 'add':\n",
    "                ans_list[i][j] = matrix1[i][j] + matrix2[i][j]\n",
    "            # if user'choice is subtract then subtraction the elements of the 2 matrix and put it in ans_list\n",
    "            elif operation == 'subtract':\n",
    "                ans_list[i][j] = matrix1[i][j] - matrix2[i][j]\n",
    "    # return the answer list\n",
    "    return ans_list\n",
    "# create 2 matrix of same dimension on which addition and subtraction is to be performed.\n",
    "matrix1 = [[1,2,3,4],[1,2,3,4],[1,2,3,4],[1,2,3,4]]\n",
    "matrix2 = [[5,6,7,8],[5,6,7,8],[5,6,7,8],[5,6,7,8]]\n",
    "# ask for user choice if he wants to add or subtract\n",
    "print(\"Enter you choice for matrix operations - add/subtract\")\n",
    "user_choice = input()\n",
    "# print user choice\n",
    "print(\"Your choice is\",user_choice)\n",
    "# if user enters add, then call matrix_operation() with appropriate arguments  and print the result\n",
    "if user_choice == 'add':\n",
    "    print(\"Matrix Addition ->\", matrix_operation(matrix1, matrix2, user_choice))\n",
    "# if user enters subtract, then call matrix_operation() with appropriate arguments  and print the result\n",
    "if user_choice == 'subtract':\n",
    "    print(\"Matrix Subtraction ->\", matrix_operation(matrix1, matrix2, user_choice))"
   ]
  },
  {
   "cell_type": "markdown",
   "metadata": {},
   "source": [
    "##### 33. Write a program that calculates the greatest common divisor (GCD) of two numbers using the Euclidean algorithm."
   ]
  },
  {
   "cell_type": "code",
   "execution_count": 1,
   "metadata": {},
   "outputs": [
    {
     "name": "stdout",
     "output_type": "stream",
     "text": [
      "The GCD is 5\n"
     ]
    }
   ],
   "source": [
    "# take 2 integer numbers from user using input() and convert them into integer using int()\n",
    "a = int(input(\"Enter 1st number\"))\n",
    "b = int(input(\"Enter 2nd number\"))\n",
    "# put maximum value of 2 entered values in a and minimum value in b\n",
    "a,b = max(a,b), min(a,b)\n",
    "# initialize a variable to store remainder\n",
    "r = 0 \n",
    "# run a while loop until b is greater than 0\n",
    "while(b>0):\n",
    "    # caclulate the remainder on dividing a by b\n",
    "    r = a%b\n",
    "    # put vale of b in a and remainder in b\n",
    "    a, b = b, r \n",
    "# print the gcd\n",
    "print(f\"The GCD is {a}\" )\n"
   ]
  },
  {
   "cell_type": "markdown",
   "metadata": {},
   "source": [
    "##### 34. Build a program that performs matrix multiplication using nested loops and conditional statements."
   ]
  },
  {
   "cell_type": "code",
   "execution_count": 2,
   "metadata": {},
   "outputs": [
    {
     "name": "stdout",
     "output_type": "stream",
     "text": [
      "[[10, 20, 40], [10, 20, 40], [10, 20, 40]]\n"
     ]
    }
   ],
   "source": [
    "# create two matrix such that number of column in first matrix is equal to number of rows in 2nd matrix\n",
    "matrix1 = [[1,2,3,4],[1,2,3,4],[1,2,3,4]]\n",
    "matrix2 = [[1,2,4],[1,2,4],[1,2,4],[1,2,4]]\n",
    "# initialize an answer list such that rows should be equal to number of rows in first matrix and \n",
    "# columns should be equal to number of column in second matrix\n",
    "ans_list = [[0 for j in range(len(matrix2[0]))] for i in range(len(matrix1))]\n",
    "# initialze variavle to store sum of multiplication\n",
    "elements_sum = 0\n",
    "# iterate for each row in first matrix\n",
    "for i in range(len(matrix1)):\n",
    "    # itterate for each column in second matrix\n",
    "    for j in range(len(matrix2[0])):\n",
    "        # put 0 to elements_sum\n",
    "        elements_sum = 0\n",
    "        # iterate for elements in row for 1st matrix and elements of columns in second matrix\n",
    "        for k in range(len(matrix1[0])):\n",
    "            # multiply each corresponding elements in 1st and 2nd matrix and add to the value of elements_sum and put it back in elements_sum\n",
    "            elements_sum += matrix1[i][k]*matrix2[k][j]\n",
    "        # put the value of element_sum in answer list at respective position\n",
    "        ans_list[i][j] = elements_sum\n",
    "# print the answer matrix\n",
    "print(ans_list)"
   ]
  },
  {
   "cell_type": "markdown",
   "metadata": {},
   "source": [
    "##### 35. Create a program that simulates a basic text-based tic-tac-toe game against the computer."
   ]
  },
  {
   "cell_type": "code",
   "execution_count": 86,
   "metadata": {},
   "outputs": [
    {
     "name": "stdout",
     "output_type": "stream",
     "text": [
      "|---|---|---|\n",
      "| 1 | 2 | 3 |\n",
      "|---|---|---|\n",
      "| 4 | 5 | 6 |\n",
      "|---|---|---|\n",
      "| 7 | 8 | 9 |\n",
      "|---|---|---|\n",
      "X's turn, please enter your input on the any remaining box\n",
      "value placed.\n",
      "|---|---|---|\n",
      "| 1 | X | 3 |\n",
      "|---|---|---|\n",
      "| 4 | 5 | 6 |\n",
      "|---|---|---|\n",
      "| 7 | 8 | 9 |\n",
      "|---|---|---|\n",
      "O's turn, please enter your input on the any remaining box\n",
      "value placed.\n",
      "|---|---|---|\n",
      "| O | X | 3 |\n",
      "|---|---|---|\n",
      "| 4 | 5 | 6 |\n",
      "|---|---|---|\n",
      "| 7 | 8 | 9 |\n",
      "|---|---|---|\n",
      "X's turn, please enter your input on the any remaining box\n",
      "value placed.\n",
      "|---|---|---|\n",
      "| O | X | 3 |\n",
      "|---|---|---|\n",
      "| 4 | 5 | X |\n",
      "|---|---|---|\n",
      "| 7 | 8 | 9 |\n",
      "|---|---|---|\n",
      "O's turn, please enter your input on the any remaining box\n",
      "value placed.\n",
      "|---|---|---|\n",
      "| O | X | 3 |\n",
      "|---|---|---|\n",
      "| 4 | O | X |\n",
      "|---|---|---|\n",
      "| 7 | 8 | 9 |\n",
      "|---|---|---|\n",
      "X's turn, please enter your input on the any remaining box\n",
      "Position is already filled.\n",
      "|---|---|---|\n",
      "| O | X | 3 |\n",
      "|---|---|---|\n",
      "| 4 | O | X |\n",
      "|---|---|---|\n",
      "| 7 | 8 | 9 |\n",
      "|---|---|---|\n",
      "X's turn, please enter your input on the any remaining box\n",
      "value placed.\n",
      "|---|---|---|\n",
      "| O | X | X |\n",
      "|---|---|---|\n",
      "| 4 | O | X |\n",
      "|---|---|---|\n",
      "| 7 | 8 | 9 |\n",
      "|---|---|---|\n",
      "O's turn, please enter your input on the any remaining box\n",
      "value placed.\n",
      "|---|---|---|\n",
      "| O | X | X |\n",
      "|---|---|---|\n",
      "| 4 | O | X |\n",
      "|---|---|---|\n",
      "| 7 | 8 | O |\n",
      "|---|---|---|\n",
      "O Wins\n"
     ]
    }
   ],
   "source": [
    "# initialize a flag for alternative turns of X and O\n",
    "turn = True\n",
    "# create a function print_board() to print the tic tac toe board\n",
    "def print_board(board):\n",
    "    print(\"|---|---|---|\")\n",
    "    print(\"| \" + board[0] + \" | \"+ board[1] + \" | \" + board[2]+ \" |\")\n",
    "    print(\"|---|---|---|\")\n",
    "    print(\"| \" + board[3] + \" | \"+ board[4] + \" | \" + board[5]+ \" |\")\n",
    "    print(\"|---|---|---|\")\n",
    "    print(\"| \" + board[6] + \" | \"+ board[7] + \" | \" + board[8]+ \" |\")\n",
    "    print(\"|---|---|---|\")\n",
    "# create a value on pisition of user's choice\n",
    "def put_value(position, board, value):\n",
    "    # call the global variable here\n",
    "    global turn\n",
    "    # if position is already filled by O or X then as user to choose anothe position\n",
    "    if board[position-1] in \"XO\":\n",
    "        return \"Position is already filled.\"\n",
    "    # if position is not filled then \n",
    "    else :\n",
    "        # put the value in that position\n",
    "        board[position-1] = value \n",
    "        # pass the turn to other member\n",
    "        turn = not turn\n",
    "        # return the status that value has been placed on chosen position successfully\n",
    "        return \"value placed.\"\n",
    "# create a function get_winner() to check if we get our winner\n",
    "def get_winner(board):\n",
    "    # call global variable here\n",
    "    global turn\n",
    "    # initialize a variable to store pattern for winner \n",
    "    pattern = \"\"\n",
    "    # we can get only  8 patterns to get the winner and check the pattern one by one\n",
    "    for i in range(8):\n",
    "        # check for pattern 1\n",
    "        if i==0:\n",
    "            # get pattern 1\n",
    "            pattern = board[0]+board[1]+board[2]\n",
    "        # check for pattern 2\n",
    "        elif i==1:\n",
    "            # get pattern 2\n",
    "            pattern = board[3]+board[4]+board[5]\n",
    "        # check for pattern 3\n",
    "        elif i==2:\n",
    "            # get pattern 3\n",
    "            pattern = board[6]+board[7]+board[8]\n",
    "        # check for pattern 4\n",
    "        elif i==3:\n",
    "            # get pattern 4\n",
    "            pattern = board[0]+board[3]+board[6]\n",
    "        # check for pattern 5\n",
    "        elif i==4:\n",
    "            # get pattern 5\n",
    "            pattern = board[1]+board[4]+board[7]\n",
    "        # check for pattern 6\n",
    "        elif i==5:\n",
    "            # get pattern 6\n",
    "            pattern = board[2]+board[5]+board[8]\n",
    "        # check for pattern 7\n",
    "        elif i==6:\n",
    "            # get pattern 7\n",
    "            pattern = board[0]+board[4]+board[8]\n",
    "        # check for pattern 8\n",
    "        elif i==7:\n",
    "            # get pattern 8\n",
    "            pattern = board[2]+board[4]+board[6]\n",
    "        # check the pattern we get is `X X X ` then winner is X\n",
    "        if pattern == \"XXX\":\n",
    "            return \"X Wins\"\n",
    "        # check the pattern we get is `OOO` then winner is O\n",
    "        elif pattern == \"OOO\":\n",
    "            return \"O Wins\"\n",
    "    # if we don't get the winner then-\n",
    "    # iterate over each position to check if we still left with any position unfilled\n",
    "    for i in range(9):\n",
    "        if board[i].isdigit():\n",
    "            break \n",
    "        # if we reach to last position and didn't get any unfilled position then it means it is draw\n",
    "        elif i == 8:\n",
    "            return \"draw\"\n",
    "    # if any place is unfilled ask for next turn\n",
    "    return (\"X\" if turn else \"O\")+\"'s turn, please enter your input on the any remaining box\"\n",
    "\n",
    "# create a start_game() to start the game\n",
    "def start_game():\n",
    "    # call global variable here\n",
    "    global turn\n",
    "    # initialize a variable to store winner and control the iteration of loop\n",
    "    winner = \"\"\n",
    "    # initialize a variable to store ans\n",
    "    ans = \"\"\n",
    "    # create a list with value 1 to 9 as positions in board\n",
    "    board = [\"1\", \"2\", \"3\",\"4\",\"5\", \"6\", \"7\",\"8\",\"9\"]\n",
    "    # print the board\n",
    "    print_board(board)\n",
    "    # ask user to fill the position on its turn\n",
    "    print((\"X\" if turn else \"O\")+\"'s turn, please enter your input on the any remaining box\")\n",
    "    # execute the while loop\n",
    "    while not winner:\n",
    "        # check if any one wins or match gets draw\n",
    "        if ans in (\"X Wins\", \"O Wins\", \"draw\"):\n",
    "            winner = ans \n",
    "        # if no one wins, we carry on the game\n",
    "        else:\n",
    "            # ask user for his input\n",
    "            user_input = int(input())\n",
    "            # if input is between 1 to 9\n",
    "            if user_input>=1 and user_input<=9:\n",
    "                # put the respective value on entered position on board using put_value() and print the board using print_board()\n",
    "                print(put_value(user_input, board, \"X\" if turn else \"O\"))\n",
    "                print_board(board)\n",
    "                # check if we get the winner using get_winner()\n",
    "                ans = get_winner(board)\n",
    "                # print the value retuned by get_winner() \n",
    "                print(ans)\n",
    "                # if any one wins we stop the game using break statement\n",
    "                if ans in (\"X Wins\", \"O Wins\", \"draw\"):\n",
    "                    break\n",
    "            # if user enters any value which is not in range 1 to 9 , ask user to re-enter a valid value\n",
    "            else:\n",
    "                print(\"Invalid choice, please re-enter value between 1 to 9\")\n",
    "\n",
    "\n",
    "# call start_game() to start the game\n",
    "start_game()\n",
    "\n",
    "\n",
    "\n",
    "    \n"
   ]
  },
  {
   "cell_type": "markdown",
   "metadata": {},
   "source": [
    "##### 36. Write a program that generates Fibonacci numbers up to a specified term using iterative methods.\n"
   ]
  },
  {
   "cell_type": "code",
   "execution_count": 22,
   "metadata": {},
   "outputs": [
    {
     "name": "stdout",
     "output_type": "stream",
     "text": [
      "First 15 fibonacci numbers are-\n",
      "0\n",
      "1\n",
      "1\n",
      "2\n",
      "3\n",
      "5\n",
      "8\n",
      "13\n",
      "21\n",
      "34\n",
      "55\n",
      "89\n",
      "144\n",
      "233\n",
      "377\n"
     ]
    }
   ],
   "source": [
    "# take input from user for number of terms of series using input() and convert it into integer using int()\n",
    "n = int(input(\"enter number of terms you want in fibonacci series.\"))\n",
    "# initialize first variable f with value 0 as first elemnt of series\n",
    "f=0\n",
    "# initialize second variable s with value 1 as second element of series\n",
    "s=1\n",
    "print(\"First {} fibonacci numbers are-\".format(n))\n",
    "# now we need to iterate for n number of times to get values of series.\n",
    "for i in range(n):\n",
    "    # print the number\n",
    "    print(f)\n",
    "    # calculate the next number of series by adding up the previous 2 numbers\n",
    "    f,s = s, s+f \n",
    "    \n"
   ]
  },
  {
   "cell_type": "markdown",
   "metadata": {},
   "source": [
    "##### 37. Develop a program that calculates the nth term of the Fibonacci sequence using memoization.\n"
   ]
  },
  {
   "cell_type": "code",
   "execution_count": 39,
   "metadata": {},
   "outputs": [
    {
     "name": "stdout",
     "output_type": "stream",
     "text": [
      "First 15 fibonacci numbers are-\n",
      "The elements of fibonacci series are [0, 1, 1, 2, 3, 5, 8, 13, 21, 34, 55, 89, 144, 233, 377]\n"
     ]
    }
   ],
   "source": [
    "# take input from user for number of terms of series using input() and convert it into integer using int()\n",
    "n = int(input(\"enter number of terms you want in fibonacci series.\"))\n",
    "print(\"First {} fibonacci numbers are-\".format(n))\n",
    "# intialize a list to store numbers of series for memoization\n",
    "list1 = []\n",
    "# if n is 1, put first value of series in list \n",
    "if n==1 :\n",
    "    list1 = [0]\n",
    "# if n > 1, put first two value of series in list \n",
    "if n>1:\n",
    "    list1=[0,1]\n",
    "\n",
    "# now we already have put first 2 values in list so we need to get only n-2 numbers of series\n",
    "for i in range(2,n):\n",
    "    # using memoization, we need to add last two numbers of series list and put in the list at last\n",
    "    list1.append(list1[i-1]+list1[i-2])\n",
    "# print the series list\n",
    "print(f\"The elements of fibonacci series are {list1}\")\n"
   ]
  },
  {
   "cell_type": "markdown",
   "metadata": {},
   "source": [
    "##### 38. Create a program that generates a calendar for a given month and year using conditional statements."
   ]
  },
  {
   "cell_type": "code",
   "execution_count": 66,
   "metadata": {},
   "outputs": [
    {
     "name": "stdout",
     "output_type": "stream",
     "text": [
      "calender for 2023, 08\n",
      "Su Mo Tu We Th Fr Sa\n",
      "      01 02 03 04 05 \n",
      "06 07 08 09 10 11 12 \n",
      "13 14 15 16 17 18 19 \n",
      "20 21 22 23 24 25 26 \n",
      "27 28 29 30 31 "
     ]
    }
   ],
   "source": [
    "# take value of year from user using input() and convert it into integer using int()\n",
    "year = int(input(\"Enter year\"))\n",
    "# take value of month from user using input() and convert it into integer using int()\n",
    "month = int(input(\"Enter month number\"))\n",
    "# initialize a list for number of days in each month  for non-leap year\n",
    "non_leap_year = [0,31,28,31,30,31,30,31,31,30,31,30,31]\n",
    "# initialize a list for number of days in each month for leap year\n",
    "leap_year = [0,31,29,31,30,31,30,31,31,30,31,30,31]\n",
    "# initialize a variable to store number of days\n",
    "c = 1\n",
    "# get number of days from start of entered year till the month\n",
    "c += sum(leap_year[1:month]) if (year%400==0) or (year%100!=0 and year%4==0) else sum(non_leap_year[1:month])\n",
    "# get the list of days for the year entered\n",
    "calender_days = leap_year.copy() if (year%400==0) or (year%100!=0 and year%4==0) else non_leap_year.copy()\n",
    "# calculate start day of month\n",
    "s = (year-1) + (year-1)//4 + (year-1)//400 - (year-1)//100 + c\n",
    "week = (s)%7 \n",
    "print(f'calender for {year}, {(\"0\" if month<10 else \"\")}{month}')\n",
    "print('Su Mo Tu We Th Fr Sa')\n",
    "# print the spaces before the start day of month in that week\n",
    "for i in range(week):\n",
    "    print(\"   \", end = \"\")\n",
    "# iterate over the rage of days in month\n",
    "for i in range(1, calender_days[month]+1):\n",
    "    # if the day number is end of week, bring the cursor to next line\n",
    "    if (week+i-1)%7==0:\n",
    "        print()\n",
    "    # if day number is less than 10 , add a 0 before it\n",
    "    if i<10:\n",
    "        print(\"0\", end='')\n",
    "    # print the day number.\n",
    "    print(i, end=' ')\n"
   ]
  },
  {
   "cell_type": "markdown",
   "metadata": {},
   "source": [
    "##### 39. Build a program that simulates a basic text-based blackjack game against the computer."
   ]
  },
  {
   "cell_type": "code",
   "execution_count": 16,
   "metadata": {},
   "outputs": [
    {
     "name": "stdout",
     "output_type": "stream",
     "text": [
      "Dealer has 4 and X\n",
      "You have [2, 5] for a total of 7\n",
      "Enter your choice \n",
      "1 : for leave\n",
      "2 : for choose\n",
      "You choose to opt for next card\n",
      "Dealer has (4, 3) and X\n",
      "You have [2, 5, 8] for a total of 15\n",
      "Enter your choice \n",
      "1 : for leave\n",
      "2 : for choose\n",
      "Enter valid choice\n",
      "Dealer has (4, 3) and X\n",
      "You have [2, 5, 8] for a total of 15\n",
      "Enter your choice \n",
      "1 : for leave\n",
      "2 : for choose\n",
      "You choose to opt for next card\n",
      "Dealer has (4, 3) and X\n",
      "You have [2, 5, 8, 5] for a total of 20\n",
      "Enter your choice \n",
      "1 : for leave\n",
      "2 : for choose\n",
      "You choose to leave\n",
      "You have [2, 5, 8, 5]for a total of 20\n",
      "Dealer has [4, 3, 10] for a total of 17\n",
      "you win!!\n"
     ]
    }
   ],
   "source": [
    "import random \n",
    "# initialize a flag for player to show if he can choose next card \n",
    "player_flag = True \n",
    "# initialize a flag for dealer to show if he can choose next card \n",
    "dealer_flag = True\n",
    "# deck of cards \n",
    "# create list of cards \n",
    "deck = ['A',2,3,4,5,6,7,8,9,10,'J','Q','K',\n",
    "        'A',2,3,4,5,6,7,8,9,10,'J','Q','K',\n",
    "        'A',2,3,4,5,6,7,8,9,10,'J','Q','K',\n",
    "        'A',2,3,4,5,6,7,8,9,10,'J','Q','K']\n",
    "# create a list for players hand\n",
    "player_card_list =[]\n",
    "# create a list for dealer hand\n",
    "dealer_card_list = []\n",
    "# deal with cards.\n",
    "def get_cards(turn):\n",
    "    # choose a random card from deck of cards\n",
    "    card = random.choice(deck)\n",
    "    # append this card in turn to either pass it to player or to dealer\n",
    "    turn.append(card)\n",
    "    # take out that choosen card from the deck\n",
    "    deck.remove(card)\n",
    "# calculate the total of each hand\n",
    "''' \n",
    "2 to 10 - will have value equals to it number\n",
    "J,K,Q - have value equals to 10\n",
    "A - can have either 1 or 11 value\n",
    "'''\n",
    "def total(turn):\n",
    "    # initialize a variable to store total score\n",
    "    total = 0\n",
    "    # initialize a list to store all face cards\n",
    "    face = ['K','J','Q']\n",
    "    # iterate over each element in turn list\n",
    "    for card in turn:\n",
    "        # if card is in range 2 to 10,add it in total\n",
    "        if card in range(2,11):\n",
    "            total+=card \n",
    "        # if card is a face card execpt 'A' then add 10 to total\n",
    "        elif card in face:\n",
    "            total+=10 \n",
    "        # if card is Ace then check if total is less than 11\n",
    "        else :\n",
    "            # if total is less than 11 then add 11 to total else add 1 to total\n",
    "            total += 1 if total>11 else 11 \n",
    "    # return total value of the cards of that player/dealer\n",
    "    return total \n",
    "# create a function to get the cards of dealer\n",
    "def get_dealer_cards():\n",
    "    # if length of dealers list is 2 then show 1st card only\n",
    "    if len(dealer_card_list) == 2:\n",
    "        return dealer_card_list[0]\n",
    "    # if dealer has more than 2 cards then show 2 cards.\n",
    "    elif len(dealer_card_list)>2:\n",
    "        return dealer_card_list[0], dealer_card_list[1]\n",
    "# execute a loop for 2 times to get initial 2 cards.\n",
    "for i in range(2):\n",
    "    # get cards for player using get_cards()\n",
    "    get_cards(dealer_card_list)\n",
    "    # get cards for dealer using get_cards()\n",
    "    get_cards(player_card_list)\n",
    "# initialize a variable to store user choice for next step\n",
    "stayOrHit = ''   \n",
    "# execute a loop until both player and dealer stop choosing or one of them win or one of them get bust \n",
    "while player_flag or dealer_flag :\n",
    "    # show dealer's card\n",
    "    print(f\"Dealer has {get_dealer_cards()} and X\")\n",
    "    # show player cards\n",
    "    print(f\"You have {player_card_list} for a total of {total(player_card_list)}\")\n",
    "    # if player flag is on , ask player for next step whether he wants to choose more cards or want to just stop here\n",
    "    if player_flag:\n",
    "        print(\"Enter your choice \\n1 : for leave\\n2 : for choose\")\n",
    "        # take user's input using input()\n",
    "        stayOrHit = input()\n",
    "    # if user chooses 1 means he wants to stop choosing\n",
    "    if stayOrHit =='1':\n",
    "        print(\"You choose to leave\")\n",
    "        # off the player flag\n",
    "        player_flag = False \n",
    "    # if user want to choose next card\n",
    "    elif stayOrHit == '2':\n",
    "        print(\"You choose to opt for next card\")\n",
    "        # give him next card using get_cards() function\n",
    "        get_cards(player_card_list)\n",
    "    # if user has enter invalid choice, ask him to re-enter a valid choice.\n",
    "    elif stayOrHit != '1' and stayOrHit != '2':\n",
    "        print(\"Enter valid choice\")\n",
    "        continue\n",
    "    # if dealer's card has total of 17 or more the stop dealer to choose further card\n",
    "    if total(dealer_card_list)>16:\n",
    "        # off the dealer flag\n",
    "        dealer_flag = False \n",
    "    # else choose a card for dealer using get_cards()\n",
    "    else :\n",
    "        get_cards(dealer_card_list)\n",
    "    # if player's cards have total of 21 or more , stop the iteration using break statement\n",
    "    if total(player_card_list)>=21:\n",
    "        break\n",
    "    # if dealer's cards have total of 21 or more , stop the iteration using break statement\n",
    "    elif total(dealer_card_list)>=21:\n",
    "        break \n",
    "# if player has total of 21 then show cards' total of both player and dealer,  and annouce player as winner  \n",
    "if total(player_card_list)==21:\n",
    "    print(f\"You have {player_card_list}for a total of {total(player_card_list)}\")\n",
    "    print(f\"Dealer has {dealer_card_list} for a total of {total(dealer_card_list)}\")\n",
    "    print(\"Blackjack. you win!!\")\n",
    "# if dealel has total of 21 then show cards' total of both player and dealer, and annouce dealer as winner  \n",
    "elif total(dealer_card_list)==21:\n",
    "    print(f\"You have {player_card_list}for a total of {total(player_card_list)}\")\n",
    "    print(f\"Dealer has {dealer_card_list} for a total of {total(dealer_card_list)}\")\n",
    "    print(\"Blackjack. Dealer wins!!\")\n",
    "# if both of them has total less than 21 and total of player cards is greater than dealer cards then announce player as winner\n",
    "elif total(dealer_card_list)<total(player_card_list) and total(player_card_list)<21:\n",
    "    print(f\"You have {player_card_list}for a total of {total(player_card_list)}\")\n",
    "    print(f\"Dealer has {dealer_card_list} for a total of {total(dealer_card_list)}\")\n",
    "    print(\"you win!!\")\n",
    "# if both of them has total less than 21 and total of player cards is lesser than dealer cards then announce dealer as winner\n",
    "elif total(dealer_card_list)>total(player_card_list) and total(dealer_card_list)<21:\n",
    "    print(f\"You have {player_card_list}for a total of {total(player_card_list)}\")\n",
    "    print(f\"Dealer has {dealer_card_list} for a total of {total(dealer_card_list)}\")\n",
    "    print(\"Dealer win!!\")\n",
    "# if player has total of more than 21, player is bust, dealer is winner\n",
    "elif total(player_card_list)>21:\n",
    "    print(f\"You have {player_card_list}for a total of {total(player_card_list)}\")\n",
    "    print(f\"Dealer has {dealer_card_list} for a total of {total(dealer_card_list)}\")\n",
    "    print(\"You bust! Dealer wins\")\n",
    "# if dealer has total of more than 21, dealer is bust, player is winner\n",
    "elif total(dealer_card_list)>21:\n",
    "    print(f\"You have {player_card_list}for a total of {total(player_card_list)}\")\n",
    "    print(f\"Dealer has {dealer_card_list} for a total of {total(dealer_card_list)}\")\n",
    "    print(\"Dealer bust! You wins\")"
   ]
  },
  {
   "cell_type": "markdown",
   "metadata": {},
   "source": [
    "##### 40. Write a program that generates the prime factors of a given number using trial division."
   ]
  },
  {
   "cell_type": "code",
   "execution_count": 69,
   "metadata": {},
   "outputs": [
    {
     "name": "stdout",
     "output_type": "stream",
     "text": [
      "The prime factors are -:\n",
      "3\n",
      "5\n",
      "15\n",
      "17\n",
      "25\n",
      "51\n",
      "75\n",
      "85\n",
      "255\n",
      "425\n",
      "1275\n"
     ]
    }
   ],
   "source": [
    "# take input from user using input() and convert it into integer using int()\n",
    "n = int(input())\n",
    "print(\"The prime factors are -:\")\n",
    "# iterate a loop for values ranging from 2 to sq. root of n\n",
    "for i in range(2,int(n**2)):\n",
    "    # if n is divisible by any number between this range, it means it is prime factor of n.\n",
    "    if n%i==0:\n",
    "        # print the prime factor\n",
    "        print(i)"
   ]
  }
 ],
 "metadata": {
  "kernelspec": {
   "display_name": "base",
   "language": "python",
   "name": "python3"
  },
  "language_info": {
   "codemirror_mode": {
    "name": "ipython",
    "version": 3
   },
   "file_extension": ".py",
   "mimetype": "text/x-python",
   "name": "python",
   "nbconvert_exporter": "python",
   "pygments_lexer": "ipython3",
   "version": "3.11.4"
  },
  "orig_nbformat": 4
 },
 "nbformat": 4,
 "nbformat_minor": 2
}
