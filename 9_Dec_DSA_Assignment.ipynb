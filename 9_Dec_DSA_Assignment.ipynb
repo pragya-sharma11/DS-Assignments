{
 "cells": [
  {
   "cell_type": "markdown",
   "metadata": {},
   "source": [
    "##### Question 1. Given a rotated array, we need to find the number of times the array gets sorted. Given the array was sorted before rotating. "
   ]
  },
  {
   "cell_type": "code",
   "execution_count": 1,
   "metadata": {},
   "outputs": [
    {
     "name": "stdout",
     "output_type": "stream",
     "text": [
      "2\n"
     ]
    }
   ],
   "source": [
    "# Linear search method.\n",
    "arr = [15,18,1,3,6,7,8,9]\n",
    "for i in range(len(arr)-1):\n",
    "    if arr[i]> arr[i+1]:\n",
    "        rotations = i+1\n",
    "        break \n",
    "print(rotations)"
   ]
  },
  {
   "cell_type": "code",
   "execution_count": 5,
   "metadata": {},
   "outputs": [
    {
     "name": "stdout",
     "output_type": "stream",
     "text": [
      "2\n"
     ]
    }
   ],
   "source": [
    "# binary search\n",
    "arr = [15,18,1,3,6,7,8,9]\n",
    "n = len(arr)\n",
    "i = 0 \n",
    "j = n-1\n",
    "x=0\n",
    "while i<=j:\n",
    "    mid = (i+j)//2\n",
    "    before = (mid-1+n)%n \n",
    "    after = (mid+1)%n\n",
    "    if arr[mid]<arr[after] and arr[mid]<=arr[before]:\n",
    "        x = mid \n",
    "        break \n",
    "    elif arr[mid]>arr[j]:\n",
    "        i = mid+1\n",
    "    elif arr[mid]<arr[i]:\n",
    "        j = mid-1 \n",
    "    else :\n",
    "        break\n",
    "print(x)"
   ]
  },
  {
   "cell_type": "markdown",
   "metadata": {},
   "source": [
    "##### Question 2. Given an array we need to print the elements in such a way that 1st term is largest, 2nd term is smallest, 3rd term is second largest and 4th term is second smallest and so on.."
   ]
  },
  {
   "cell_type": "code",
   "execution_count": 5,
   "metadata": {},
   "outputs": [
    {
     "name": "stdout",
     "output_type": "stream",
     "text": [
      "76\n",
      "3\n",
      "34\n",
      "4\n",
      "31\n",
      "5\n",
      "13\n",
      "6\n",
      "7\n"
     ]
    }
   ],
   "source": [
    "arr = [3,34,13,76,4,5,6,7,31]\n",
    "for i in range(len(arr)-1):\n",
    "    for j in range(len(arr)-i-1):\n",
    "        if arr[j]>arr[j+1]:\n",
    "            t = arr[j]\n",
    "            arr[j] = arr[j+1]\n",
    "            arr[j+1] = t \n",
    "\n",
    "l = 0 \n",
    "r = len(arr)-1 \n",
    "while l<=r:\n",
    "    if l==r:\n",
    "        print(arr[l])\n",
    "    else:\n",
    "        print(arr[r])\n",
    "        print(arr[l])\n",
    "    r-=1 \n",
    "    l+=1 \n"
   ]
  },
  {
   "cell_type": "markdown",
   "metadata": {},
   "source": [
    "##### Question 3. Given an array, we need to find print array in wave form."
   ]
  },
  {
   "cell_type": "code",
   "execution_count": 2,
   "metadata": {},
   "outputs": [
    {
     "name": "stdout",
     "output_type": "stream",
     "text": [
      "[76, 3, 34, 4, 31, 5, 13, 6, 7]\n"
     ]
    }
   ],
   "source": [
    "arr = [3,34,13,76,4,5,6,7,31]\n",
    "for i in range(len(arr)-1):\n",
    "    for j in range(len(arr)-i-1):\n",
    "        if arr[j]>arr[j+1]:\n",
    "            arr[j], arr[j+1] = arr[j+1],arr[j]\n",
    "\n",
    "l = 0 \n",
    "r = len(arr)-1 \n",
    "lst = []\n",
    "while l<=r:\n",
    "    if l==r:\n",
    "        lst.append(arr[l])\n",
    "    else:\n",
    "        lst.append(arr[r])\n",
    "        lst.append(arr[l])\n",
    "    r-=1 \n",
    "    l+=1\n",
    "print(lst)"
   ]
  },
  {
   "cell_type": "markdown",
   "metadata": {},
   "source": [
    "Question 4. Given 2 sorted array with size n and m. We need to merge 2 sorted array in sorted order."
   ]
  },
  {
   "cell_type": "code",
   "execution_count": 11,
   "metadata": {},
   "outputs": [
    {
     "name": "stdout",
     "output_type": "stream",
     "text": [
      "[2, 3, 4, 5, 5, 6, 6, 7, 8, 9]\n"
     ]
    }
   ],
   "source": [
    "ar1 = [2,4,5,6,7,8,9]\n",
    "ar2 = [3,5,6]\n",
    "i = len(ar1)-1\n",
    "j = len(ar2)-1\n",
    "merge = [-1 for i in range(len(ar1)+len(ar2))]\n",
    "k = len(ar1)+len(ar2)-1\n",
    "while(i>=0 and j>=0):\n",
    "    if ar1[i]>ar2[j]:\n",
    "        merge[k] = ar1[i]\n",
    "        i-=1\n",
    "    elif ar1[i]<ar2[j]:\n",
    "        merge[k] = ar2[j]\n",
    "        j-=1\n",
    "    else :\n",
    "        merge[k] = ar1[i]\n",
    "        i-=1\n",
    "        k-=1\n",
    "        merge[k] = ar2[j]\n",
    "        j-=1\n",
    "    k-=1\n",
    "while j>=0:\n",
    "    merge[k] = ar2[j]\n",
    "    j-=1\n",
    "    k-=1\n",
    "while i>=0:\n",
    "    merge[k] = ar1[i]\n",
    "    i-=1\n",
    "    k-=1 \n",
    "print(merge)\n",
    "\n"
   ]
  },
  {
   "cell_type": "markdown",
   "metadata": {},
   "source": [
    "##### Question 5. Given an array with 0s and 1s. Need to sort this array."
   ]
  },
  {
   "cell_type": "code",
   "execution_count": 4,
   "metadata": {},
   "outputs": [
    {
     "name": "stdout",
     "output_type": "stream",
     "text": [
      "[0, 0, 0, 0, 0, 1, 1, 1, 1]\n"
     ]
    }
   ],
   "source": [
    "arr = [0,0,1,1,0,1,0,1,0]\n",
    "i = 0 \n",
    "j = len(arr)-1 \n",
    "while i<=j:\n",
    "    if arr[i]==arr[j] and arr[j] == 0:\n",
    "        i+=1 \n",
    "    elif arr[i]==arr[j] and arr[j] == 1:\n",
    "        j-=1\n",
    "    elif  arr[i]>arr[j]:\n",
    "        arr[i],arr[j] = arr[j], arr[i]\n",
    "        i+=1\n",
    "        j-=1 \n",
    "    else:\n",
    "        i+=1\n",
    "        j-=1\n",
    "print(arr)"
   ]
  },
  {
   "cell_type": "code",
   "execution_count": null,
   "metadata": {},
   "outputs": [],
   "source": []
  }
 ],
 "metadata": {
  "kernelspec": {
   "display_name": "base",
   "language": "python",
   "name": "python3"
  },
  "language_info": {
   "codemirror_mode": {
    "name": "ipython",
    "version": 3
   },
   "file_extension": ".py",
   "mimetype": "text/x-python",
   "name": "python",
   "nbconvert_exporter": "python",
   "pygments_lexer": "ipython3",
   "version": "3.11.4"
  }
 },
 "nbformat": 4,
 "nbformat_minor": 2
}
