{
 "cells": [
  {
   "cell_type": "markdown",
   "metadata": {},
   "source": [
    "### 1. Find the value of T(2) for the recurrence relation T(n) = 3T(n-1) + 12n, given that T(0)=5."
   ]
  },
  {
   "cell_type": "markdown",
   "metadata": {},
   "source": [
    "##### **Ans :** \n",
    "* T(n) = 3T(n-1) +12n       ------ eq 1\n",
    "* for  n = n-1,\n",
    "* T(n-1) = 3T(n-1 - 1) +12(n-1) = 3T(n-2) +12(n-1) ------eq 2\n",
    "* put value of T(n-1) from eq 2 in eq 1 \n",
    "* T(n) = 3T(n-1) + 12n = 3 * 3T(n-2) + 3 * 12(n-1) + 12n  ---------eq 3\n",
    "* Put n = 2\n",
    "* T(2) = 9T(2-2) + 3 * 12 (2-1) + 12*2\n",
    "* T(2) = 9T(0) + 36 + 24\n",
    "* T(2) = 9*5 + 60 = 45+60 = 105\n",
    "* T(2) = 105"
   ]
  },
  {
   "cell_type": "markdown",
   "metadata": {},
   "source": [
    "### 2. Given a recurrence relation, solve it using the substitution method:"
   ]
  },
  {
   "cell_type": "markdown",
   "metadata": {},
   "source": [
    "##### a. T(n) = T(n-1) + c"
   ]
  },
  {
   "cell_type": "markdown",
   "metadata": {},
   "source": [
    "##### **Ans :**\n",
    "* T(n) = T(n-1) + c       --------eq1\n",
    "* put n=n-1\n",
    "* T(n-1) = T(n-1 - 1) + c = T(n-2) + c --------eq2\n",
    "* put n= n-2\n",
    "* T(n-2) = T(n-2 - 1) + c = T(n-3) + c --------eq3\n",
    "* put value of T(n-1) from eq 2 in eq1\n",
    "* T(n) = T(n-1) + c = T(n-2) + c+ c = T(n-2) + 2c ----eq4\n",
    "* put value of T(n-2) from eq 3 in eq 4\n",
    "* T(n) = T(n-3) + c + 2c  = T(n-3) + 3c\n",
    "* repeat the process for k times\n",
    "* T(n) = T(n-k-1) + kc ---------eq 5\n",
    "* assume n-k = 1  ======> k = n-1, put value of k in eq 5\n",
    "* T(n) = T(n-(n-1)-1) + (n-1)c\n",
    "* T(n) = T(0) + nc - c = 0+nc-c = n\n",
    "* Ans  : O(n)\n"
   ]
  },
  {
   "cell_type": "markdown",
   "metadata": {},
   "source": [
    "##### b. T(n) = 2T(n/2) + n"
   ]
  },
  {
   "cell_type": "markdown",
   "metadata": {},
   "source": [
    "##### **Ans :**\n",
    "* T(n) = 2T(n/2) + n -------------eq1\n",
    "* put n= n/2\n",
    "* T(n/2) = 2T(n/4) + n/2 ------------eq2\n",
    "* put n = n/4\n",
    "* T(n/4) = 2T(n/8) + n/4 ---------eq3\n",
    "* put value of T(n/2) from eq2 in eq1\n",
    "* T(n) = 2(2T(n/4) + n/2) + n\n",
    "* T(n) = 4T(n/4) + n + n\n",
    "* T(n) = 4T(n/4) + 2n\n",
    "* put value of T(n/4) from eq3 \n",
    "* T(n) = 4(2T(n/8) + n/4) + 2n\n",
    "* T(n) = 8T(n/8) + n + 2n\n",
    "* T(n) = 8T(n/8) + 3n\n",
    "* repeat the process k times\n",
    "* T(n) = (2^k)*T(n/(2^k)) + kn\n",
    "* as n/2^k = 1  ===> n = 2^k ====> k = logn\n",
    "* T(n) = 2^k * t(1) + kn\n",
    "* T(n) = n * 1 + nlogn = n + nlogn\n",
    "* Ans : O(nlogn)"
   ]
  },
  {
   "cell_type": "markdown",
   "metadata": {},
   "source": [
    "##### c. T(n) = 2T(n/2) + c"
   ]
  },
  {
   "cell_type": "markdown",
   "metadata": {},
   "source": [
    "##### **Ans :**\n",
    "* T(n) = 2T(n/2) + c\n",
    "* put n= n/2\n",
    "* T(n/2) = 2T(n/4) + c ------------eq2\n",
    "* put n = n/4\n",
    "* T(n/4) = 2T(n/8) + c ---------eq3\n",
    "* put value of T(n/2) from eq2 in eq1\n",
    "* T(n) = 2(2T(n/4) + c) + c\n",
    "* T(n) = 4T(n/4) + 2c + c\n",
    "* T(n) = 4T(n/4) + 3c\n",
    "* put value of T(n/4) from eq3 \n",
    "* T(n) = 4(2T(n/8) + c) + 3c\n",
    "* T(n) = 8T(n/8) + 4c + 3c\n",
    "* T(n) = 8T(n/8) + 7c\n",
    "* repeat the process k times \n",
    "* T(n) = (2^k) * T(n/(2^k)) + (2^k - 1)c\n",
    "* as n/2^k = 1  ===> n = 2^k ====> k = logn\n",
    "* put values in the equation\n",
    "* T(n) = n * 1 + (n-1)c = n + nc -c = n(1+c) - c\n",
    "* Ans : O(n)"
   ]
  },
  {
   "cell_type": "markdown",
   "metadata": {},
   "source": [
    "##### d. T(n) = T(n/2) + c"
   ]
  },
  {
   "cell_type": "markdown",
   "metadata": {},
   "source": [
    "##### **Ans :**\n",
    "* T(n) = T(n/2) + c\n",
    "* put n= n/2\n",
    "* T(n/2) = T(n/4) + c ------------eq2\n",
    "* put n = n/4\n",
    "* T(n/4) = T(n/8) + c ---------eq3\n",
    "* put value of T(n/2) from eq2 in eq1\n",
    "* T(n) = (T(n/4) + c) + c\n",
    "* T(n) = T(n/4) + c + c\n",
    "* T(n) = T(n/4) + 2c\n",
    "* put value of T(n/4) from eq3 \n",
    "* T(n) = (T(n/8) + c) + 2c\n",
    "* T(n) = T(n/8) + 3c\n",
    "* repeat the process k times \n",
    "* T(n) = T(n/(2^k)) + kc\n",
    "* as n/2^k = 1  ===> n = 2^k ====> k = logn\n",
    "* put values in the equation\n",
    "* T(n) = T(1) + clogn\n",
    "* Ans : O(logn)"
   ]
  },
  {
   "cell_type": "markdown",
   "metadata": {},
   "source": [
    "### 3. Given a recurrence relation, solve it using the recursive tree approach:"
   ]
  },
  {
   "cell_type": "markdown",
   "metadata": {},
   "source": [
    "##### a. T(n) = 2T(n-1) + C"
   ]
  },
  {
   "cell_type": "markdown",
   "metadata": {},
   "source": [
    "##### **Ans :** \n",
    "* T(n) = T(n-1)  + T(n-1) + c\n",
    "*                                                T(n) + c\n",
    "*                     T(n-1)  + c                                      T(n-1) + c\n",
    "*            T(n-2)+c             T(n-2)+c                    T(n-2)+c            T(n-2)+c\n",
    "*      T(n-3)+c   T(n-3)+c    T(n-3)+c   T(n-3)+c        T(n-3)+c  T(n-3)+c   T(n-3)+c   T(n-3)+c\n",
    "\n",
    "* until k level - \n",
    "* left side -                                                    \n",
    "* n-k = 1                                                        \n",
    "* n = k                                                          \n",
    "\n",
    "* right side - \n",
    "* n-k = 1\n",
    "* n = k\n",
    "\n",
    "* for constants - \n",
    "* (2^0)C + (2^1)C + (2^2)C + (2^3)C + (2^4)C + .......... + (2^k)C \n",
    "* common ratio = 2 \n",
    "* It is a GP series, so sum of GP = a(r^n - 1)/(r-1)\n",
    "* c(2^n - 1)/2-1 = c * 2^n - c\n",
    "* Ans : O(2^n)"
   ]
  },
  {
   "cell_type": "markdown",
   "metadata": {},
   "source": [
    "##### b. T(n) = 2T(n/2) + n"
   ]
  },
  {
   "cell_type": "markdown",
   "metadata": {},
   "source": [
    "##### **Ans :** \n",
    "* T(n) = 2T(n/2) + n\n",
    "*                                                T(n) \n",
    "*                 T(n/2)+n                                 T(n/2)+n                        n\n",
    "*        T(n/4)            T(n/4)                 T(n/4)            T(n/4)                 2 * n/2\n",
    "* T(n/8)   T(n/8)      T(n/8)  T(n/8)        T(n/8)    T(n/8)   T(n/8)   T(n/8)            4 * n/4\n",
    "\n",
    "* until k level - \n",
    "* left and middle side ->                                                   \n",
    "* n/2^k = 1                                                        \n",
    "* logn = k                                                          \n",
    "\n",
    "* right side - \n",
    "* n+ n+ ...k times... n = k*n = nlog(n)\n",
    "* Ans : O(nlogn)\n"
   ]
  },
  {
   "cell_type": "markdown",
   "metadata": {},
   "source": []
  }
 ],
 "metadata": {
  "language_info": {
   "name": "python"
  }
 },
 "nbformat": 4,
 "nbformat_minor": 2
}
