{
 "cells": [
  {
   "cell_type": "markdown",
   "metadata": {},
   "source": [
    "##### 1. What is a Python library? Why do we use Python libraries?"
   ]
  },
  {
   "cell_type": "markdown",
   "metadata": {},
   "source": [
    "##### **Ans :** Python library is a collection of modules that contain codes which can be used in different programs to perform takes in oprtimized way. We use python libraries because it makes out codes easier and simpler to understand. Many related methods and modules are contained in a same collection which can be reused at so many times. Hence it provides modularity, reusabilty and abstraction upto some extent."
   ]
  },
  {
   "cell_type": "markdown",
   "metadata": {},
   "source": [
    "##### 2. What is the difference between Numpy array and List?\n"
   ]
  },
  {
   "cell_type": "markdown",
   "metadata": {},
   "source": [
    "##### **Ans :** Difference between Numpy array and List are - \n",
    "* Numpy array has continuous memory allocation while lists may not store elements in contiguous memory locations, causing memory fragmentation and inefficiency.\n",
    "* Numpy array restricts the data object to be homogeneous in nature while list can contain different type of objects.\n",
    "* Numpy array is much faster than list because Numpy array contains data values while list stores memory location of data values.\n",
    "* Size of array is preknown in numpy array while size of list need not to be preknown in list"
   ]
  },
  {
   "cell_type": "markdown",
   "metadata": {},
   "source": [
    "##### 3. Find the shape, size and dimension of the following array?\n",
    "* [[1, 2, 3, 4]\n",
    "* [5, 6, 7, 8],\n",
    "* [9, 10, 11, 12]]"
   ]
  },
  {
   "cell_type": "code",
   "execution_count": 3,
   "metadata": {},
   "outputs": [
    {
     "name": "stdout",
     "output_type": "stream",
     "text": [
      "size of array - 12\n",
      "shape of array - (3, 4)\n",
      "dimension of array - 2\n"
     ]
    }
   ],
   "source": [
    "# import the numpy library \n",
    "import numpy as np\n",
    "# create an array\n",
    "arr = np.array([[1,2,3,4],[5,6,7,8],[9,10,11,12]])\n",
    "# get the size, shape and dimension of array\n",
    "print(\"size of array -\", arr.size)\n",
    "print(\"shape of array -\", arr.shape)\n",
    "print(\"dimension of array -\", arr.ndim)\n"
   ]
  },
  {
   "cell_type": "markdown",
   "metadata": {},
   "source": [
    "##### 4. Write python code to access the first row of the following array?\n",
    "* [[1, 2, 3, 4]\n",
    "* [5, 6, 7, 8],\n",
    "* [9, 10, 11, 12]]"
   ]
  },
  {
   "cell_type": "code",
   "execution_count": 5,
   "metadata": {},
   "outputs": [
    {
     "name": "stdout",
     "output_type": "stream",
     "text": [
      "first row of array - [1 2 3 4]\n"
     ]
    }
   ],
   "source": [
    "# import the numpy library \n",
    "import numpy as np\n",
    "# create an array\n",
    "arr = np.array([[1,2,3,4],[5,6,7,8],[9,10,11,12]])\n",
    "# get first row of array\n",
    "print(\"first row of array -\", arr[0])\n",
    "\n"
   ]
  },
  {
   "cell_type": "markdown",
   "metadata": {},
   "source": [
    "##### 5. How do you access the element at the third row and fourth column from the given numpy array?\n",
    "* [[1, 2, 3, 4]\n",
    "* [5, 6, 7, 8],\n",
    "* [9, 10, 11, 12]]"
   ]
  },
  {
   "cell_type": "code",
   "execution_count": 6,
   "metadata": {},
   "outputs": [
    {
     "name": "stdout",
     "output_type": "stream",
     "text": [
      "element at third row and fourth column from the array - 12\n"
     ]
    }
   ],
   "source": [
    "# import the numpy library \n",
    "import numpy as np\n",
    "# create an array\n",
    "arr = np.array([[1,2,3,4],[5,6,7,8],[9,10,11,12]])\n",
    "# get element at third row and fourth column from the array\n",
    "print(\"element at third row and fourth column from the array -\", arr[2][3])\n",
    "\n"
   ]
  },
  {
   "cell_type": "markdown",
   "metadata": {},
   "source": [
    "##### 6. Write code to extract all odd-indexed elements from the given numpy array?\n",
    "* [[1, 2, 3, 4]\n",
    "* [5, 6, 7, 8],\n",
    "* [9, 10, 11, 12]]"
   ]
  },
  {
   "cell_type": "code",
   "execution_count": 7,
   "metadata": {},
   "outputs": [
    {
     "name": "stdout",
     "output_type": "stream",
     "text": [
      "6\n",
      "8\n"
     ]
    }
   ],
   "source": [
    "# import the numpy library \n",
    "import numpy as np\n",
    "# create an array\n",
    "arr = np.array([[1,2,3,4],[5,6,7,8],[9,10,11,12]])\n",
    "# get all odd indexed elements of array\n",
    "for i in range(len(arr)):\n",
    "    for j in range(len(arr[0])):\n",
    "        if i%2==1 and j%2==1:\n",
    "            print(arr[i][j])\n",
    "\n"
   ]
  },
  {
   "cell_type": "markdown",
   "metadata": {},
   "source": [
    "##### 7. How can you generate a random 3x3 matrix with values between 0 and 1?"
   ]
  },
  {
   "cell_type": "code",
   "execution_count": 19,
   "metadata": {},
   "outputs": [
    {
     "data": {
      "text/plain": [
       "array([[0.22345892, 0.81901155, 0.69732034],\n",
       "       [0.46456032, 0.18190432, 0.53892724],\n",
       "       [0.45816126, 0.20241388, 0.78693764]])"
      ]
     },
     "execution_count": 19,
     "metadata": {},
     "output_type": "execute_result"
    }
   ],
   "source": [
    "# import the numpy library \n",
    "import numpy as np\n",
    "lst = np.random.rand(3,3)\n",
    "lst"
   ]
  },
  {
   "cell_type": "markdown",
   "metadata": {},
   "source": [
    "##### 8. Describe the difference between np.random.rand and np.random.randn?"
   ]
  },
  {
   "cell_type": "markdown",
   "metadata": {},
   "source": [
    "##### **Ans :** randn generates numbers from a normal distribution with a mean of 0 and a standard deviation of 1, while rand generates numbers from a uniform distribution between 0 and 1."
   ]
  },
  {
   "cell_type": "markdown",
   "metadata": {},
   "source": [
    "##### 9. Write code to increase the dimension of the following array?\n",
    "* [[1, 2, 3, 4]\n",
    "* [5, 6, 7, 8],\n",
    "* [9, 10, 11, 12]]"
   ]
  },
  {
   "cell_type": "code",
   "execution_count": 22,
   "metadata": {},
   "outputs": [
    {
     "data": {
      "text/plain": [
       "array([[[ 1,  2,  3],\n",
       "        [ 4,  5,  6]],\n",
       "\n",
       "       [[ 7,  8,  9],\n",
       "        [10, 11, 12]]])"
      ]
     },
     "execution_count": 22,
     "metadata": {},
     "output_type": "execute_result"
    }
   ],
   "source": [
    "# import the numpy library \n",
    "import numpy as np\n",
    "# create an array\n",
    "arr = np.array([[1,2,3,4],[5,6,7,8],[9,10,11,12]])\n",
    "# increase the dimesion of array using resize\n",
    "arr.resize(2,2,3)\n",
    "arr"
   ]
  },
  {
   "cell_type": "markdown",
   "metadata": {},
   "source": [
    "##### 10. How to transpose the following array in NumPy?\n",
    "* [[1, 2, 3, 4]\n",
    "* [5, 6, 7, 8],\n",
    "* [9, 10, 11, 12]]"
   ]
  },
  {
   "cell_type": "code",
   "execution_count": 20,
   "metadata": {},
   "outputs": [
    {
     "data": {
      "text/plain": [
       "array([[ 1,  5,  9],\n",
       "       [ 2,  6, 10],\n",
       "       [ 3,  7, 11],\n",
       "       [ 4,  8, 12]])"
      ]
     },
     "execution_count": 20,
     "metadata": {},
     "output_type": "execute_result"
    }
   ],
   "source": [
    "# import the numpy library \n",
    "import numpy as np\n",
    "# create an array\n",
    "arr = np.array([[1,2,3,4],[5,6,7,8],[9,10,11,12]])\n",
    "# transpose the array\n",
    "arr.T"
   ]
  },
  {
   "cell_type": "markdown",
   "metadata": {},
   "source": [
    "##### 11. Consider the following matrix:\n",
    "* Matrix A2 [[1, 2, 3, 4] [5, 6, 7, 8],[9, 10, 11, 12]]\n",
    "* Matrix B2 [[1, 2, 3, 4] [5, 6, 7, 8],[9, 10, 11, 12]]"
   ]
  },
  {
   "cell_type": "markdown",
   "metadata": {},
   "source": [
    "##### Perform the following operation using Python:\n",
    "* 1. Index wise multiplication"
   ]
  },
  {
   "cell_type": "code",
   "execution_count": 31,
   "metadata": {},
   "outputs": [
    {
     "data": {
      "text/plain": [
       "[[1, 4, 9, 16], [25, 36, 49, 64], [81, 100, 121, 144]]"
      ]
     },
     "execution_count": 31,
     "metadata": {},
     "output_type": "execute_result"
    }
   ],
   "source": [
    "matA = [[1, 2, 3, 4], [5, 6, 7, 8],[9, 10, 11, 12]]\n",
    "matB = [[1, 2, 3, 4], [5, 6, 7, 8],[9, 10, 11, 12]]\n",
    "# zip each row of 1st matrics to the respective row of 2nd matrix, then zip the respective columns of thos rows and compute multiplication\n",
    "index_wise_multiplication = [[(a*b) for a,b in zip(l1,l2)] for l1,l2 in zip(matA, matB)]\n",
    "index_wise_multiplication"
   ]
  },
  {
   "cell_type": "markdown",
   "metadata": {},
   "source": [
    "* 2. matrix multiplication"
   ]
  },
  {
   "cell_type": "code",
   "execution_count": 36,
   "metadata": {},
   "outputs": [
    {
     "data": {
      "text/plain": [
       "[[38, 44, 50, 56], [98, 116, 134, 152], [158, 188, 218, 248]]"
      ]
     },
     "execution_count": 36,
     "metadata": {},
     "output_type": "execute_result"
    }
   ],
   "source": [
    "# for each row of matA, zip each column of matB, then \n",
    "# then zip the elements of row of matA and column of matb\n",
    "# then perform multiplication and addall values for that position \n",
    "multiplication_matrix = [[sum(a*b for a,b in zip(a_mat,b_mat)) for b_mat in zip(*matB)] for a_mat in matA]\n",
    "multiplication_matrix"
   ]
  },
  {
   "cell_type": "markdown",
   "metadata": {},
   "source": [
    "* 3. Add both matrix"
   ]
  },
  {
   "cell_type": "code",
   "execution_count": 37,
   "metadata": {},
   "outputs": [
    {
     "data": {
      "text/plain": [
       "[[2, 4, 6, 8], [10, 12, 14, 16], [18, 20, 22, 24]]"
      ]
     },
     "execution_count": 37,
     "metadata": {},
     "output_type": "execute_result"
    }
   ],
   "source": [
    "# zip each row of 1st matrics to the respective row of 2nd matrix, then zip the respective columns of thos rows and compute addition\n",
    "addition = [[(a+b) for a,b in zip(l1,l2)] for l1,l2 in zip(matA, matB)]\n",
    "addition"
   ]
  },
  {
   "cell_type": "markdown",
   "metadata": {},
   "source": [
    "* 4. Subtract matrix B from Matrix A"
   ]
  },
  {
   "cell_type": "code",
   "execution_count": 40,
   "metadata": {},
   "outputs": [
    {
     "data": {
      "text/plain": [
       "[[0, 0, 0, 0], [0, 0, 0, 0], [0, 0, 0, 0]]"
      ]
     },
     "execution_count": 40,
     "metadata": {},
     "output_type": "execute_result"
    }
   ],
   "source": [
    "# zip each row of 1st matrics to the respective row of 2nd matrix, then zip the respective columns of thos rows and compute substraction\n",
    "substraction = [[(b-a) for a,b in zip(l1,l2)] for l1,l2 in zip(matA, matB)]\n",
    "substraction"
   ]
  },
  {
   "cell_type": "markdown",
   "metadata": {},
   "source": [
    "* 5. Divide matrix B by A"
   ]
  },
  {
   "cell_type": "code",
   "execution_count": 41,
   "metadata": {},
   "outputs": [
    {
     "data": {
      "text/plain": [
       "[[1.0, 1.0, 1.0, 1.0], [1.0, 1.0, 1.0, 1.0], [1.0, 1.0, 1.0, 1.0]]"
      ]
     },
     "execution_count": 41,
     "metadata": {},
     "output_type": "execute_result"
    }
   ],
   "source": [
    "# zip each row of 1st matrics to the respective row of 2nd matrix, then zip the respective columns of thos rows and compute division\n",
    "division = [[(b/a) for a,b in zip(l1,l2)] for l1,l2 in zip(matA, matB)]\n",
    "division"
   ]
  },
  {
   "cell_type": "markdown",
   "metadata": {},
   "source": [
    "##### 12. Which function in Numpy can be used to swap the byte order of an array?"
   ]
  },
  {
   "cell_type": "markdown",
   "metadata": {},
   "source": [
    "##### **Ans :** np.ndarray.byteswap()"
   ]
  },
  {
   "cell_type": "markdown",
   "metadata": {},
   "source": [
    "##### 13. What is the significance of the np.linalg.inv function?"
   ]
  },
  {
   "cell_type": "markdown",
   "metadata": {},
   "source": [
    "##### **Ans :** numpy. linalg. inv() function is used to calculate the inverse of a matrix."
   ]
  },
  {
   "cell_type": "markdown",
   "metadata": {},
   "source": [
    "##### 14. What does the np.reshape function do, and how is it used?"
   ]
  },
  {
   "cell_type": "markdown",
   "metadata": {},
   "source": [
    "##### **Ans :** np.reshape() is used to change the shape of array.It can be used as -"
   ]
  },
  {
   "cell_type": "code",
   "execution_count": 44,
   "metadata": {},
   "outputs": [
    {
     "data": {
      "text/plain": [
       "array([[ 1,  2,  3,  4,  5,  6],\n",
       "       [ 7,  8,  9, 10, 11, 12]])"
      ]
     },
     "execution_count": 44,
     "metadata": {},
     "output_type": "execute_result"
    }
   ],
   "source": [
    "# import the numpy library \n",
    "import numpy as np\n",
    "# create an array\n",
    "arr = np.array([[1,2,3,4],[5,6,7,8],[9,10,11,12]])\n",
    "# changing shape from 3X4 to 2X6\n",
    "arr.reshape(2,6)"
   ]
  },
  {
   "cell_type": "markdown",
   "metadata": {},
   "source": [
    "##### 15. What is broadcasting in Numpy?"
   ]
  },
  {
   "cell_type": "markdown",
   "metadata": {},
   "source": [
    "##### **Ans :** In broadcasting, numpy treats arrays with different shapes during arithmetic operations. The smaller array is broadcast to same shape as of larger array so that they can be compatible to each other during operations."
   ]
  },
  {
   "cell_type": "markdown",
   "metadata": {},
   "source": []
  }
 ],
 "metadata": {
  "kernelspec": {
   "display_name": "base",
   "language": "python",
   "name": "python3"
  },
  "language_info": {
   "codemirror_mode": {
    "name": "ipython",
    "version": 3
   },
   "file_extension": ".py",
   "mimetype": "text/x-python",
   "name": "python",
   "nbconvert_exporter": "python",
   "pygments_lexer": "ipython3",
   "version": "3.11.4"
  }
 },
 "nbformat": 4,
 "nbformat_minor": 2
}
