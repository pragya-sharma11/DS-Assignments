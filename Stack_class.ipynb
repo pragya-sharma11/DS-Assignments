{
 "cells": [
  {
   "cell_type": "markdown",
   "metadata": {},
   "source": [
    "colab link - https://colab.research.google.com/drive/1cqxCngDj7Ab2ii945_c19TtnPC4gyVf-?usp=sharing"
   ]
  },
  {
   "cell_type": "markdown",
   "metadata": {},
   "source": [
    "## Stack Code - Array"
   ]
  },
  {
   "cell_type": "code",
   "execution_count": 24,
   "metadata": {},
   "outputs": [],
   "source": [
    "class Stack:\n",
    "    def __init__(self, capacity) -> None:\n",
    "        self.top = -1 \n",
    "        self.arr = [None] * capacity\n",
    "        self.capacity = capacity\n",
    "    def is_empty(self):\n",
    "        return self.top == -1\n",
    "    def is_full(self):\n",
    "        return self.top == self.capacity-1\n",
    "    def peek(self):\n",
    "        if self.is_empty():\n",
    "            return 'stack underflow'\n",
    "        return self.arr[self.top]\n",
    "    def pop(self):\n",
    "        if self.is_empty():\n",
    "            return 'stack underflow'\n",
    "        val = self.arr[self.top]\n",
    "        self.arr[self.top] = None\n",
    "        self.top-=1\n",
    "        return val\n",
    "    def push(self, val):\n",
    "        if self.is_full():\n",
    "            return 'Stack Overflow'\n",
    "        self.top+=1 \n",
    "        self.arr[self.top] = val\n",
    "    def __repr__(self) -> str:\n",
    "        ans = []\n",
    "        if self.is_empty!= True:\n",
    "            for i in range(self.top+1):\n",
    "                ans.append(self.arr[i])\n",
    "\n",
    "        return str(ans)\n",
    "    # def __str__(self) -> str:\n",
    "    #     return str(self.arr)\n"
   ]
  },
  {
   "cell_type": "code",
   "execution_count": 36,
   "metadata": {},
   "outputs": [
    {
     "name": "stdout",
     "output_type": "stream",
     "text": [
      "stack is = [17, 27, 37, 47, 57, 67, 77, 87]\n"
     ]
    }
   ],
   "source": [
    "stack = Stack(8)\n",
    "stack.push(17)\n",
    "stack.push(27)\n",
    "stack.push(37)\n",
    "stack.push(47)\n",
    "stack.push(57)\n",
    "stack.push(67)\n",
    "stack.push(77)\n",
    "stack.push(87)\n",
    "print(f'stack is = {stack}')"
   ]
  },
  {
   "cell_type": "code",
   "execution_count": 37,
   "metadata": {},
   "outputs": [
    {
     "data": {
      "text/plain": [
       "87"
      ]
     },
     "execution_count": 37,
     "metadata": {},
     "output_type": "execute_result"
    }
   ],
   "source": [
    "\n",
    "stack.pop()"
   ]
  },
  {
   "cell_type": "code",
   "execution_count": 38,
   "metadata": {},
   "outputs": [
    {
     "data": {
      "text/plain": [
       "77"
      ]
     },
     "execution_count": 38,
     "metadata": {},
     "output_type": "execute_result"
    }
   ],
   "source": [
    "stack.peek()"
   ]
  },
  {
   "cell_type": "code",
   "execution_count": 39,
   "metadata": {},
   "outputs": [
    {
     "data": {
      "text/plain": [
       "[17, 27, 37, 47, 57, 67, 77]"
      ]
     },
     "execution_count": 39,
     "metadata": {},
     "output_type": "execute_result"
    }
   ],
   "source": [
    "stack"
   ]
  },
  {
   "cell_type": "markdown",
   "metadata": {},
   "source": [
    "## Stack Code - Linked List"
   ]
  },
  {
   "cell_type": "code",
   "execution_count": 1,
   "metadata": {},
   "outputs": [],
   "source": [
    "class Node :\n",
    "    def __init__(self, data = None, next = None) -> None:\n",
    "        self.data = data \n",
    "        self.next = next \n",
    "    def get_data(self):\n",
    "        return self.data \n",
    "    def get_next(self):\n",
    "        return self.next \n",
    "    def set_data(self,val):\n",
    "        self.data = val\n",
    "    def set_next(self,val):\n",
    "        self.next = val "
   ]
  },
  {
   "cell_type": "code",
   "execution_count": 15,
   "metadata": {},
   "outputs": [],
   "source": [
    "class Dynamic_Stack:\n",
    "    def __init__(self) -> None:\n",
    "        self.head = None \n",
    "        self.size = 0\n",
    "    def push(self, val):\n",
    "        new_node = Node(val, self.head)\n",
    "        self.head = new_node\n",
    "        self.size+=1\n",
    "    def is_empty(self):\n",
    "        return self.head == None \n",
    "    def pop(self):\n",
    "        if self.is_empty():\n",
    "            return 'Stack Underflow'\n",
    "        node = self.head \n",
    "        self.head = self.head.get_next()\n",
    "        self.size-=1\n",
    "        return node.get_data()\n",
    "    def peek(self):\n",
    "        if self.is_empty():\n",
    "            return 'Stack Underflow'\n",
    "        node = self.head \n",
    "        return node.get_data()\n",
    "    def get_size(self):\n",
    "        return self.size\n",
    "    def __repr__(self) -> str:\n",
    "        if self.is_empty():\n",
    "            return 'No data'\n",
    "        st=''\n",
    "        while self.head!=None:\n",
    "            st = st+str(self.head.get_data())+' --> '\n",
    "            self.head = self.head.get_next()\n",
    "        return st+'None'\n",
    "        "
   ]
  },
  {
   "cell_type": "code",
   "execution_count": 21,
   "metadata": {},
   "outputs": [
    {
     "data": {
      "text/plain": [
       "3"
      ]
     },
     "execution_count": 21,
     "metadata": {},
     "output_type": "execute_result"
    }
   ],
   "source": [
    "stack = Dynamic_Stack()\n",
    "stack.push(10)\n",
    "stack.push(20)\n",
    "stack.push(30)\n",
    "stack.get_size()"
   ]
  },
  {
   "cell_type": "code",
   "execution_count": 22,
   "metadata": {},
   "outputs": [
    {
     "name": "stdout",
     "output_type": "stream",
     "text": [
      "30\n"
     ]
    },
    {
     "data": {
      "text/plain": [
       "2"
      ]
     },
     "execution_count": 22,
     "metadata": {},
     "output_type": "execute_result"
    }
   ],
   "source": [
    "print(stack.pop())\n",
    "stack.get_size()\n"
   ]
  },
  {
   "cell_type": "markdown",
   "metadata": {},
   "source": [
    "### Balancing of brackets"
   ]
  },
  {
   "cell_type": "code",
   "execution_count": 29,
   "metadata": {},
   "outputs": [
    {
     "data": {
      "text/plain": [
       "False"
      ]
     },
     "execution_count": 29,
     "metadata": {},
     "output_type": "execute_result"
    }
   ],
   "source": [
    "def is_balanced(st):\n",
    "    stack = Stack(len(st))\n",
    "    for i in st:\n",
    "        if i in '([{':\n",
    "            stack.push(i)\n",
    "        else:\n",
    "            if stack.is_empty():\n",
    "                return False\n",
    "            val = stack.pop()\n",
    "            if (val =='(' and i != ')') or (val =='{' and i != '}') or (val =='[' and i != ']') : \n",
    "                return False\n",
    "    return stack.is_empty()\n",
    "is_balanced('[{(}{)}]')\n",
    "    "
   ]
  },
  {
   "cell_type": "code",
   "execution_count": null,
   "metadata": {},
   "outputs": [],
   "source": []
  }
 ],
 "metadata": {
  "kernelspec": {
   "display_name": "base",
   "language": "python",
   "name": "python3"
  },
  "language_info": {
   "codemirror_mode": {
    "name": "ipython",
    "version": 3
   },
   "file_extension": ".py",
   "mimetype": "text/x-python",
   "name": "python",
   "nbconvert_exporter": "python",
   "pygments_lexer": "ipython3",
   "version": "3.11.4"
  }
 },
 "nbformat": 4,
 "nbformat_minor": 2
}
