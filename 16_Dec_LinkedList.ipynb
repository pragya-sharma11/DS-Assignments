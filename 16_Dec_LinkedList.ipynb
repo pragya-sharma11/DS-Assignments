{
 "cells": [
  {
   "cell_type": "markdown",
   "metadata": {},
   "source": [
    "### Node Creation   "
   ]
  },
  {
   "cell_type": "code",
   "execution_count": 38,
   "metadata": {},
   "outputs": [],
   "source": [
    "class Node:\n",
    "    def __init__(self, data = None, next = None) -> None:\n",
    "        self.__data = data\n",
    "        self.__next = next \n",
    "    @property\n",
    "    def data(self):\n",
    "        return self.__data\n",
    "\n",
    "    @data.setter\n",
    "    def data(self, data=None):\n",
    "        self.__data = data \n",
    "    \n",
    "    @property\n",
    "    def next(self):\n",
    "        return self.__next\n",
    "\n",
    "    @next.setter\n",
    "    def next(self, next=None):\n",
    "        self.__next = next \n"
   ]
  },
  {
   "cell_type": "markdown",
   "metadata": {},
   "source": [
    "### Linked List creation"
   ]
  },
  {
   "cell_type": "code",
   "execution_count": 39,
   "metadata": {},
   "outputs": [],
   "source": [
    "head = Node(1)\n",
    "node2 = Node(2)\n",
    "node3 = Node(3)\n",
    "node4 = Node(4)\n",
    "node5 = Node(5)\n",
    "\n",
    "head.next = node2 \n",
    "node2.next = node3 \n",
    "node3.next = node4 \n",
    "node4.next = node5"
   ]
  },
  {
   "cell_type": "markdown",
   "metadata": {},
   "source": [
    "### Traversing the linked list"
   ]
  },
  {
   "cell_type": "code",
   "execution_count": 40,
   "metadata": {},
   "outputs": [
    {
     "name": "stdout",
     "output_type": "stream",
     "text": [
      "via Loop\n",
      "1   2   3   4   5   \n",
      "Via recursion\n",
      "1   2   3   4   5   "
     ]
    }
   ],
   "source": [
    "# via loop \n",
    "print('via Loop')\n",
    "temp = head \n",
    "while(temp):\n",
    "    print(temp.data ,' ', end= ' ')\n",
    "    temp = temp.next \n",
    "print()\n",
    "print('Via recursion')\n",
    "def rec(temp):\n",
    "    if temp:\n",
    "        print(temp.data,' ', end= ' ')\n",
    "        rec(temp.next)\n",
    "    else :\n",
    "        return\n",
    "\n",
    "rec(head)\n",
    "\n"
   ]
  },
  {
   "cell_type": "markdown",
   "metadata": {},
   "source": [
    "### insertion"
   ]
  },
  {
   "cell_type": "code",
   "execution_count": 41,
   "metadata": {},
   "outputs": [
    {
     "name": "stdout",
     "output_type": "stream",
     "text": [
      "1   2   3   agfhidd   4   5   "
     ]
    }
   ],
   "source": [
    "def insert(temp,new_node, index):\n",
    "    if index==0:\n",
    "        new_node.next = temp \n",
    "        return new_node\n",
    "    # calc length \n",
    "    l = 0\n",
    "    node = temp\n",
    "    while node:\n",
    "        l+=1 \n",
    "        node = node.next \n",
    "    \n",
    "    if index<=l:\n",
    "        i=0\n",
    "        node = temp\n",
    "        while i<index-1:\n",
    "            i+=1 \n",
    "            node = node.next \n",
    "        new_node.next = node.next \n",
    "        node.next = new_node \n",
    "    return temp\n",
    "\n",
    "rec(insert(head, Node('agfhidd'),3) )\n",
    "\n",
    "\n"
   ]
  },
  {
   "cell_type": "markdown",
   "metadata": {},
   "source": [
    "### deletion"
   ]
  },
  {
   "cell_type": "code",
   "execution_count": 42,
   "metadata": {},
   "outputs": [
    {
     "name": "stdout",
     "output_type": "stream",
     "text": [
      "1   2   3   4   5   "
     ]
    }
   ],
   "source": [
    "def delete(temp, index):\n",
    "    if index == 0:\n",
    "        return temp.next \n",
    "    # calc length \n",
    "    l = 0\n",
    "    node = temp\n",
    "    while node:\n",
    "        l+=1 \n",
    "        node = node.next \n",
    "    if index<=l:\n",
    "        i=0\n",
    "        node = temp\n",
    "        while i<index-1:\n",
    "            i+=1 \n",
    "            node = node.next \n",
    "        node.next = (node.next).next\n",
    "    return temp\n",
    "\n",
    "head = (delete(head,3) )\n",
    "rec(head)"
   ]
  },
  {
   "cell_type": "markdown",
   "metadata": {},
   "source": [
    "### find mid_point"
   ]
  },
  {
   "cell_type": "code",
   "execution_count": 43,
   "metadata": {},
   "outputs": [
    {
     "name": "stdout",
     "output_type": "stream",
     "text": [
      "3\n"
     ]
    }
   ],
   "source": [
    "def mid_point(head):\n",
    "    f = head \n",
    "    s = head \n",
    "    while  f and f.next :    \n",
    "        f = f.next.next \n",
    "        s = s.next \n",
    "    print(s.data)\n",
    "mid_point(head)"
   ]
  },
  {
   "cell_type": "markdown",
   "metadata": {},
   "source": [
    "### reverse the linked list"
   ]
  },
  {
   "cell_type": "code",
   "execution_count": 46,
   "metadata": {},
   "outputs": [],
   "source": [
    "new_head = Node()\n",
    "def reverseList(head):\n",
    "    if head and head.next == None :\n",
    "        new_head = head\n",
    "        return head \n",
    "    temp = reverseList(head.next)\n",
    "    head.next = None\n",
    "    temp.next = head \n",
    "    return head\n",
    "h = reverseList(head)\n",
    "rec(new_head)"
   ]
  },
  {
   "cell_type": "code",
   "execution_count": null,
   "metadata": {},
   "outputs": [],
   "source": []
  }
 ],
 "metadata": {
  "kernelspec": {
   "display_name": "base",
   "language": "python",
   "name": "python3"
  },
  "language_info": {
   "codemirror_mode": {
    "name": "ipython",
    "version": 3
   },
   "file_extension": ".py",
   "mimetype": "text/x-python",
   "name": "python",
   "nbconvert_exporter": "python",
   "pygments_lexer": "ipython3",
   "version": "3.11.4"
  }
 },
 "nbformat": 4,
 "nbformat_minor": 2
}
