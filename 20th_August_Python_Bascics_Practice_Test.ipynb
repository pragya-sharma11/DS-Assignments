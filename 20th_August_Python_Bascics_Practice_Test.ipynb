{
 "cells": [
  {
   "cell_type": "markdown",
   "metadata": {},
   "source": [
    "## TOPIC: String Based Assignment Problem"
   ]
  },
  {
   "cell_type": "markdown",
   "metadata": {},
   "source": [
    "##### 1. Write a program to reverse a string."
   ]
  },
  {
   "cell_type": "code",
   "execution_count": 2,
   "metadata": {},
   "outputs": [
    {
     "name": "stdout",
     "output_type": "stream",
     "text": [
      "String input by user - Python Basics\n",
      "reversed string - scisaB nohtyP\n"
     ]
    }
   ],
   "source": [
    "# # taking input from user by using input() function\n",
    "st = input(\"Enter a string\")\n",
    "#  get reversed string using slicing operator with negative jump.\n",
    "reversed_string = st[::-1]\n",
    "# print the original string\n",
    "print(\"String input by user -\", st)\n",
    "# print the reversed string\n",
    "print(\"reversed string -\", reversed_string)"
   ]
  },
  {
   "cell_type": "markdown",
   "metadata": {},
   "source": [
    "##### 2. Check if a string is a palindrome."
   ]
  },
  {
   "cell_type": "code",
   "execution_count": 47,
   "metadata": {},
   "outputs": [
    {
     "name": "stdout",
     "output_type": "stream",
     "text": [
      "String entered by user is =  Madam\n",
      "String is palindrome but case is different\n"
     ]
    }
   ],
   "source": [
    "'''Palindrome meanse the word is equals to reverse of itself for example - *madam* reads same forward and backward\n",
    "approach will be- \n",
    "1 - we input the string\n",
    "2 - We calculate the reverse of the word\n",
    "3 - We check if the word is equal to its reverse word, but it has three possibilites \n",
    "3.1 - Word is palindrome but case of letters are diiferent for example Bab,\n",
    "reverse of Bab = baB. It is palindrome but in 1st word first B is capital and last b is small but in\n",
    "2nd word, last B is capital and first b is small. So we call it - String is palindrome but case is different.\n",
    "3.2 - Word is palindrome and case of all letters in words and its reverse are same.'\n",
    "3.3 - Word is not palindrome, word is not equal to its reversed word.\n",
    "'''\n",
    "\n",
    "# taking input from user by using input() function\n",
    "p1 = input(\"Enter a string\")\n",
    "\n",
    "# to get the reverse of the input string, we use slicing with negative jump.\n",
    "p2 = p1[::-1]\n",
    "print('String entered by user is = ',p1)\n",
    "\n",
    "''' to check the equality, we use if statement. \n",
    "first we check \n",
    "1 - if string is palindrome after changing the case of both strings using lower().\n",
    "if yes then we check if they are equal along with upper and lower case letters, if yes then string is palindrome\n",
    "if no then string is palindrome but case is different\n",
    "2 - If string is not palindrome  after changing the case of both strings to lower then \n",
    "string is not palindrome.'''\n",
    "\n",
    "if p1.lower() == p2.lower():\n",
    "    if p1==p2:\n",
    "        print('String is palindrome')\n",
    "    else:\n",
    "        print('String is palindrome but case is different')\n",
    "else:\n",
    "    print('String is not palindrome') "
   ]
  },
  {
   "cell_type": "markdown",
   "metadata": {},
   "source": [
    "##### 3. Convert a string to uppercase."
   ]
  },
  {
   "cell_type": "code",
   "execution_count": 9,
   "metadata": {},
   "outputs": [
    {
     "name": "stdout",
     "output_type": "stream",
     "text": [
      "Input String - python basics\n",
      "Output - PYTHON BASICS\n"
     ]
    }
   ],
   "source": [
    "# taking input from user by using input() function\n",
    "st = input(\"Enter a string\")\n",
    "# print original string\n",
    "print(\"Input String -\", st)\n",
    "# get the string converted into upper case by using upper() method and print the  result.\n",
    "print(\"Output -\", st.upper())"
   ]
  },
  {
   "cell_type": "markdown",
   "metadata": {},
   "source": [
    "##### 4. Convert a string to lowercase."
   ]
  },
  {
   "cell_type": "code",
   "execution_count": 10,
   "metadata": {},
   "outputs": [
    {
     "name": "stdout",
     "output_type": "stream",
     "text": [
      "Input String - PYTHON BASICS\n",
      "Output - python basics\n"
     ]
    }
   ],
   "source": [
    "# taking input from user by using input() function\n",
    "st = input(\"Enter a string\")\n",
    "# print original string\n",
    "print(\"Input String -\", st)\n",
    "# get the string converted into lower case by using lower() method and print the  result.\n",
    "\n",
    "print(\"Output -\", st.lower())"
   ]
  },
  {
   "cell_type": "markdown",
   "metadata": {},
   "source": [
    "##### 5. Count the number of vowels in a string."
   ]
  },
  {
   "cell_type": "code",
   "execution_count": 11,
   "metadata": {},
   "outputs": [
    {
     "name": "stdout",
     "output_type": "stream",
     "text": [
      "Input String - PythON Basics\n",
      "Number of vowels - 3\n"
     ]
    }
   ],
   "source": [
    "# taking input from user by using input() function\n",
    "st = input(\"Enter a string\")\n",
    "# print original string\n",
    "print(\"Input String -\", st)\n",
    "\n",
    "# initialize a variable counter to store count of vowel elements in string \n",
    "count_vowel = 0\n",
    "#  iterate over elements in string using for loop\n",
    "for i in st:\n",
    "    #  if the character belongs to any upper case vowel letter or lower case vowel letter\n",
    "    if i in ('aeiouAEIOU'):\n",
    "        # increase the value of count by 1\n",
    "        count_vowel += 1\n",
    "# print the total number of vowels in input string\n",
    "print(\"Number of vowels -\", count_vowel)"
   ]
  },
  {
   "cell_type": "markdown",
   "metadata": {},
   "source": [
    "##### 6. Count the number of consonants in a string."
   ]
  },
  {
   "cell_type": "code",
   "execution_count": 14,
   "metadata": {},
   "outputs": [
    {
     "name": "stdout",
     "output_type": "stream",
     "text": [
      "Input String - Python Basics - 20th Aug!!\n",
      "Number of Consonants - 12\n"
     ]
    }
   ],
   "source": [
    "# taking input from user by using input() function\n",
    "st = input(\"Enter a string\")\n",
    "# print original string\n",
    "print(\"Input String -\", st)\n",
    "\n",
    "# initialize a variable counter to store count of consonant elements in string \n",
    "\n",
    "count_consonant = 0\n",
    "# convert string into lower case\n",
    "st = st.lower()\n",
    "\n",
    "#  iterate over elements in string using for loop\n",
    "for i in st:\n",
    "    # for consonant we will check 2 necessarily conditions - it should not be a vowel and it should be an alphabet.\n",
    "    if i not in ('aeiouAEIOU') and i.isalpha():\n",
    "        # if condition is true, increase the value of counter\n",
    "        count_consonant += 1\n",
    "# print the result\n",
    "print(\"Number of Consonants -\", count_consonant)"
   ]
  },
  {
   "cell_type": "markdown",
   "metadata": {},
   "source": [
    "##### 7. Remove all whitespaces from a string."
   ]
  },
  {
   "cell_type": "code",
   "execution_count": 17,
   "metadata": {},
   "outputs": [
    {
     "name": "stdout",
     "output_type": "stream",
     "text": [
      "Input String -     python basics   \n",
      "Output String -python basics\n"
     ]
    }
   ],
   "source": [
    "# taking input from user by using input() function\n",
    "st = input(\"Enter a string\")\n",
    "# print original string\n",
    "print(\"Input String -\", st)\n",
    "# remove all the white spaces from string via strip() and print the result.\n",
    "print(\"Output String -\"+st.strip())"
   ]
  },
  {
   "cell_type": "markdown",
   "metadata": {},
   "source": [
    "##### 8. Find the length of a string without using the `len()` function."
   ]
  },
  {
   "cell_type": "code",
   "execution_count": 18,
   "metadata": {},
   "outputs": [
    {
     "name": "stdout",
     "output_type": "stream",
     "text": [
      "Input String - python basics\n",
      "Length of input string - 13\n"
     ]
    }
   ],
   "source": [
    "# taking input from user by using input() function\n",
    "st = input(\"Enter a string\")\n",
    "# print original string\n",
    "print(\"Input String -\", st)\n",
    "# initialize a variable to store total number of elements in string\n",
    "count_values = 0\n",
    "# iterate over each element\n",
    "for i in st:\n",
    "    #  as the loop run for each element, each time counter will be increased by 1\n",
    "    count_values += 1 \n",
    "# print the value of counter as length of string\n",
    "print(\"Length of input string -\", count_values)\n"
   ]
  },
  {
   "cell_type": "markdown",
   "metadata": {},
   "source": [
    "##### 9. Check if a string contains a specific word."
   ]
  },
  {
   "cell_type": "code",
   "execution_count": 20,
   "metadata": {},
   "outputs": [
    {
     "name": "stdout",
     "output_type": "stream",
     "text": [
      "Input String - I am learning python basics\n",
      "Word is present\n"
     ]
    }
   ],
   "source": [
    "# taking input string from user by using input() function\n",
    "st = input(\"Enter a string\")\n",
    "# taking input search word from user by using input() function\n",
    "search_word = input(\"Enter a word to be searched\")\n",
    "#  print the string\n",
    "print(\"Input String -\",st)\n",
    "# check if search word is present in the string entered using 'in' operator. And print the respective result\n",
    "print(\"Word is present\") if search_word in st else print(\"Word is not present\")\n"
   ]
  },
  {
   "cell_type": "markdown",
   "metadata": {},
   "source": [
    "##### 10. Replace a word in a string with another word."
   ]
  },
  {
   "cell_type": "code",
   "execution_count": 23,
   "metadata": {},
   "outputs": [
    {
     "name": "stdout",
     "output_type": "stream",
     "text": [
      "Input String - I am going to USA\n",
      "Output String - I am going to Varanasi\n"
     ]
    }
   ],
   "source": [
    "# take user input using input()\n",
    "st = input(\"Enter a string\")\n",
    "# take input from user for the word which is to be replaced\n",
    "replacing_word = input(\"Enter a word to be replaced in a string\")\n",
    "# # take input from user for the word which will replace the above entered word\n",
    "replaced_word = input(\"Enter a word which will replace word in a string\")\n",
    "# print the original string\n",
    "print(\"Input String -\", st)\n",
    "# replace the words with each other using replace()\n",
    "new_string = st.replace(replacing_word, replaced_word)\n",
    "# print the result\n",
    "print(\"Output String -\", new_string)"
   ]
  },
  {
   "cell_type": "markdown",
   "metadata": {},
   "source": [
    "##### 11. Count the occurrences of a word in a string."
   ]
  },
  {
   "cell_type": "code",
   "execution_count": 25,
   "metadata": {},
   "outputs": [
    {
     "name": "stdout",
     "output_type": "stream",
     "text": [
      "Input String - red blue green red yellow red red\n",
      "Number of occurences of [red] - 4\n"
     ]
    }
   ],
   "source": [
    "# take string from user input using input()\n",
    "st = input(\"Enter a string\")\n",
    "# take input for a word whose occurence is needed to be counted.\n",
    "counted_word = input(\"Enter a word whose occurence is to be counted\")\n",
    "# print the input string\n",
    "print(\"Input String -\", st)\n",
    "# count the frequency of the input word in the input string using count() function\n",
    "counts = st.count(counted_word)\n",
    "# print thw frequency of that word accordingly.\n",
    "print(\"Number of occurences of [\"+counted_word+\"] -\", counts)\n"
   ]
  },
  {
   "cell_type": "markdown",
   "metadata": {},
   "source": [
    "##### 12. Find the first occurrence of a word in a string."
   ]
  },
  {
   "cell_type": "code",
   "execution_count": 29,
   "metadata": {},
   "outputs": [
    {
     "name": "stdout",
     "output_type": "stream",
     "text": [
      "Input String - I am not going to USA, I am not going to Africa\n",
      "First occurence of [not] - 5\n"
     ]
    }
   ],
   "source": [
    "# take input from user using input()\n",
    "st = input(\"Enter a string\")\n",
    "# take input for a word whose first occurence is to be searched\n",
    "word = input(\"Enter a word whose first occurence is to be searched\")\n",
    "# print the input string\n",
    "print(\"Input String -\", st)\n",
    "# calculate the first occurenc eof word using index() and print the result accordingly.\n",
    "print(\"First occurence of [\"+word+\"] -\",st.index(word))\n"
   ]
  },
  {
   "cell_type": "markdown",
   "metadata": {},
   "source": [
    "##### 13. Find the last occurrence of a word in a string.\n",
    "\n"
   ]
  },
  {
   "cell_type": "code",
   "execution_count": 41,
   "metadata": {},
   "outputs": [
    {
     "name": "stdout",
     "output_type": "stream",
     "text": [
      "last occurence of the word python is 46\n"
     ]
    }
   ],
   "source": [
    "#  create a string \n",
    "str1 = \"Hi, I am learning python. I am doing codes on python\"\n",
    "# initialize a word whose last occurence is need to be find\n",
    "word = \"python\"\n",
    "# calculate the index of the word from right to left using rfind()\n",
    "word_index = str1.rfind(word)\n",
    "# if word_index contains -1 it means word is not found.\n",
    "#  so check this above condition using if statement and print the result accordingly.\n",
    "print(\"last occurence of the word {} is {}\".format(word, word_index)) if word_index>-1 else print(\"Word is not found\")"
   ]
  },
  {
   "cell_type": "markdown",
   "metadata": {},
   "source": [
    "##### 14. Split a string into a list of words."
   ]
  },
  {
   "cell_type": "code",
   "execution_count": 30,
   "metadata": {},
   "outputs": [
    {
     "name": "stdout",
     "output_type": "stream",
     "text": [
      "Input string is I am leaning python basics\n",
      "list is ['I', 'am', 'leaning', 'python', 'basics']\n"
     ]
    }
   ],
   "source": [
    "# take input from user using input()\n",
    "st = input(\"Enter a string\")\n",
    "# split the input bases on space using split() and pass the output in list() method to convert the output to list\n",
    "list1 = list(st.split())\n",
    "# print initial string\n",
    "print(\"Input string is\",st)\n",
    "# print list of string\n",
    "print(\"list is\", list1)"
   ]
  },
  {
   "cell_type": "markdown",
   "metadata": {},
   "source": [
    "##### 15. Join a list of words into a string."
   ]
  },
  {
   "cell_type": "code",
   "execution_count": 31,
   "metadata": {},
   "outputs": [
    {
     "name": "stdout",
     "output_type": "stream",
     "text": [
      "List is ['I', 'am', 'a', 'human']\n",
      "Output String - I am a human\n"
     ]
    }
   ],
   "source": [
    "# create a list\n",
    "list1 = ['I', 'am', 'a', 'human']\n",
    "# join the elements of list, connecting the elements with space character using join() method\n",
    "st = ' '.join(list1)\n",
    "# print initial list\n",
    "print(\"List is\", list1)\n",
    "# print output list\n",
    "print(\"Output String -\", st)"
   ]
  },
  {
   "cell_type": "markdown",
   "metadata": {},
   "source": [
    "#####  16. Convert a string where words are separated by spaces to one where words are separated by underscores.\n"
   ]
  },
  {
   "cell_type": "code",
   "execution_count": 32,
   "metadata": {},
   "outputs": [
    {
     "name": "stdout",
     "output_type": "stream",
     "text": [
      "Input String - I am a human living on earth\n",
      "Output String - I_am_a_human_living_on_earth\n"
     ]
    }
   ],
   "source": [
    "# take input string by using input()\n",
    "st = input(\"Enter a string\")\n",
    "# split the input bases on space using split() and pass the output in list() method to convert the output to list\n",
    "list1 = list(st.split())\n",
    "# join the elements of list, connecting the elements with '_' character using join() method\n",
    "st_output = '_'.join(list1)\n",
    "# print initial list\n",
    "print(\"Input String -\", st)\n",
    "# print output list\n",
    "print(\"Output String -\", st_output)"
   ]
  },
  {
   "cell_type": "markdown",
   "metadata": {},
   "source": [
    "##### 17. Check if a string starts with a specific word or phrase.\n"
   ]
  },
  {
   "cell_type": "code",
   "execution_count": 37,
   "metadata": {},
   "outputs": [
    {
     "name": "stdout",
     "output_type": "stream",
     "text": [
      "Input String - I am not going to USA\n",
      "OUTPUT : Input String starts with - I am not\n"
     ]
    }
   ],
   "source": [
    "# take input from user via input()\n",
    "st = input(\"Enter a string\")\n",
    "# take input word from user via input()\n",
    "word = input(\"Enter a word or phrase to check the condition\")\n",
    "# print initial string\n",
    "print(\"Input String -\", st)\n",
    "# check if input string starts with the input word using startswith() method and print the result accordingly\n",
    "# this function returns True/False\n",
    "print(\"OUTPUT : Input String starts with -\", word) if st.startswith(word) else print(\"OUTPUT : Input String does not start with -\", word)"
   ]
  },
  {
   "cell_type": "markdown",
   "metadata": {},
   "source": [
    "##### 18. Check if a string ends with a specific word or phrase.\n"
   ]
  },
  {
   "cell_type": "code",
   "execution_count": 38,
   "metadata": {},
   "outputs": [
    {
     "name": "stdout",
     "output_type": "stream",
     "text": [
      "Input String - I am not going to USA\n",
      "OUTPUT : Input String ends with - USA\n"
     ]
    }
   ],
   "source": [
    "# take input from user via input()\n",
    "\n",
    "st = input(\"Enter a string\")\n",
    "# take input word from user via input()\n",
    "word = input(\"Enter a word or phrase to check the condition\")\n",
    "# print initial string\n",
    "print(\"Input String -\", st)\n",
    "# check if input string ends with the input word using endswith() method and print the result accordingly\n",
    "# this function returns True/False\n",
    "print(\"OUTPUT : Input String ends with -\", word) if st.endswith(word) else print(\"OUTPUT : Input String does not end with -\", word)"
   ]
  },
  {
   "cell_type": "markdown",
   "metadata": {},
   "source": [
    "##### 19. Convert a string to title case (e.g., \"hello world\" to \"Hello World\").\n"
   ]
  },
  {
   "cell_type": "code",
   "execution_count": 42,
   "metadata": {},
   "outputs": [
    {
     "name": "stdout",
     "output_type": "stream",
     "text": [
      "Title case: Hello World\n"
     ]
    }
   ],
   "source": [
    "# create a string\n",
    "st1 = \"hello world\"\n",
    "# convert it to title case using title()\n",
    "title_case = st1.title()\n",
    "# print the result\n",
    "print(\"Title case:\", title_case)"
   ]
  },
  {
   "cell_type": "markdown",
   "metadata": {},
   "source": [
    "##### 20. Find the longest word in a string.\n",
    "* approach - we will compare the length of each word, word with largest length will be considered as longest word"
   ]
  },
  {
   "cell_type": "code",
   "execution_count": 42,
   "metadata": {},
   "outputs": [
    {
     "name": "stdout",
     "output_type": "stream",
     "text": [
      "entered string - I am going to Caladonia\n",
      "Longest word - Caladonia\n"
     ]
    }
   ],
   "source": [
    "# take a input string from user using input()\n",
    "string1 = input(\"Enter a string\")\n",
    "# convert it into list of words by spliting it on the bases of space using split() and pass output of split() to list()\n",
    "st = list(string1.split())\n",
    "# initialize a variable to store longest word\n",
    "word = ''\n",
    "# initialize the variable to store the length of longest word\n",
    "maxm = 0 \n",
    "\n",
    "# iterate over each element in list of words.\n",
    "for i in st:\n",
    "    # get the length of element using len() method\n",
    "    length = len(i)\n",
    "    # compare if length of the word is greater then value maxm (maximum length value till now) \n",
    "    if length>maxm:\n",
    "        # if condition satisfies, then store the word in 'word' variable and length of the word in maxm variable\n",
    "        word = i \n",
    "        maxm = length\n",
    "# after execution of loop, print the input string and longest word in string\n",
    "print(\"entered string -\", string1)\n",
    "print(\"Longest word -\", word)"
   ]
  },
  {
   "cell_type": "markdown",
   "metadata": {},
   "source": [
    "##### 21. Find the shortest word in a string."
   ]
  },
  {
   "cell_type": "markdown",
   "metadata": {},
   "source": [
    "* approach - we will compare the length of each word, word with smallert length will be considered as shortest word"
   ]
  },
  {
   "cell_type": "code",
   "execution_count": 45,
   "metadata": {},
   "outputs": [
    {
     "name": "stdout",
     "output_type": "stream",
     "text": [
      "entered string - I am going to Caladonia\n",
      "Shortest word - I\n"
     ]
    }
   ],
   "source": [
    "# take a input string from user using input()\n",
    "string1 = input(\"Enter a string\")\n",
    "# convert it into list of words by spliting it on the bases of space using split() and pass output of split() to list()\n",
    "st = list(string1.split())\n",
    "# initialize a variable to store shortest word\n",
    "word = ''\n",
    "# initialize the variable to store the length of shortest word\n",
    "# initially we will store the length of string in this variable coz length of string will always be greater then length of word in it.\n",
    "# so we will check if any word length is smaller than this current value\n",
    "minm = len(string1)\n",
    "# iterate over each element in list of words.\n",
    "for i in st:\n",
    "    # get the length of element using len() method\n",
    "    length = len(i)\n",
    "    # compare if length of the word is smaller then value maxm (minimum length value till now)\n",
    "    if length<minm:\n",
    "        # if condition satisfies, then store the word in 'word' variable and length of the word in minm variable\n",
    "        word = i \n",
    "        minm = length\n",
    "        \n",
    "# after execution of loop, print the input string and shortest word in string\n",
    "print(\"entered string -\", string1)\n",
    "print(\"Shortest word -\", word)"
   ]
  },
  {
   "cell_type": "markdown",
   "metadata": {},
   "source": [
    "##### 22. Reverse the order of words in a string.\n"
   ]
  },
  {
   "cell_type": "code",
   "execution_count": 46,
   "metadata": {},
   "outputs": [
    {
     "name": "stdout",
     "output_type": "stream",
     "text": [
      "Input String - I am a human\n",
      "Output String - human a am I\n"
     ]
    }
   ],
   "source": [
    "# take a input string from user using input()\n",
    "string1 = input(\"Enter a string\")\n",
    "# convert it into list of words by spliting it on the bases of space using split() and pass output of split() to list()\n",
    "st = list(string1.split())\n",
    "# print the initial input string\n",
    "print(\"Input String -\", string1)\n",
    "# we reverse the order of words in list using slicing operator with negative jump\n",
    "# and then join the words in list with space character using join() method.\n",
    "# then print the output string\n",
    "print(\"Output String -\", ' '.join(st[::-1]))"
   ]
  },
  {
   "cell_type": "markdown",
   "metadata": {},
   "source": [
    "##### 23. Check if a string is alphanumeric.\n"
   ]
  },
  {
   "cell_type": "code",
   "execution_count": 52,
   "metadata": {},
   "outputs": [
    {
     "name": "stdout",
     "output_type": "stream",
     "text": [
      "Input String - Python123\n",
      "String is alphanumeric\n"
     ]
    }
   ],
   "source": [
    "# take a input string from user using input()\n",
    "st = input(\"Enter a string\")\n",
    "# print original string\n",
    "print(\"Input String -\", st)\n",
    "# check if string is alpha numeric by using isalnum() and print the result accordingly\n",
    "# alpha numeric string is a string which either has alphabets or digits or both.\n",
    "print(\"String is alphanumeric\") if st.isalnum() else print(\"String is not alphanumeric\")"
   ]
  },
  {
   "cell_type": "markdown",
   "metadata": {},
   "source": [
    "##### 24. Extract all digits from a string.\n"
   ]
  },
  {
   "cell_type": "code",
   "execution_count": 53,
   "metadata": {},
   "outputs": [
    {
     "name": "stdout",
     "output_type": "stream",
     "text": [
      "Input String - Python123 ##\n",
      "OUTPUT : The digits are-\n",
      "1\n",
      "2\n",
      "3\n"
     ]
    }
   ],
   "source": [
    "# take a input string from user using input()\n",
    "st = input(\"Enter a string\")\n",
    "# print original string\n",
    "print(\"Input String -\", st)\n",
    "print(\"OUTPUT : The digits are-\")\n",
    "# iterate over each element in string\n",
    "for i in st:\n",
    "    # check if the element is digit using isdigit()\n",
    "    if i.isdigit():\n",
    "        # if condition satisfies, print the result\n",
    "        print(i)"
   ]
  },
  {
   "cell_type": "markdown",
   "metadata": {},
   "source": [
    "##### 25. Extract all alphabets from a string.\n"
   ]
  },
  {
   "cell_type": "code",
   "execution_count": 54,
   "metadata": {},
   "outputs": [
    {
     "name": "stdout",
     "output_type": "stream",
     "text": [
      "Input String - Python123 ##\n",
      "OUTPUT : The Alphabets are-\n",
      "P\n",
      "y\n",
      "t\n",
      "h\n",
      "o\n",
      "n\n"
     ]
    }
   ],
   "source": [
    "# take a input string from user using input()\n",
    "st = input(\"Enter a string\")\n",
    "# print original string\n",
    "print(\"Input String -\", st)\n",
    "print(\"OUTPUT : The Alphabets are-\")\n",
    "# iterate over each element in string\n",
    "for i in st:\n",
    "    # check if element is alphabet letter using isalpha() function\n",
    "    if i.isalpha():\n",
    "        # if condition satisfies, print the result\n",
    "        print(i)"
   ]
  },
  {
   "cell_type": "markdown",
   "metadata": {},
   "source": [
    "##### 26. Count the number of uppercase letters in a string.\n"
   ]
  },
  {
   "cell_type": "code",
   "execution_count": 55,
   "metadata": {},
   "outputs": [
    {
     "name": "stdout",
     "output_type": "stream",
     "text": [
      "Input String - Red Blue Green Yellow\n",
      "number of upper case letters are 4\n"
     ]
    }
   ],
   "source": [
    "# take a input string from user using input()\n",
    "st = input(\"Enter a string\")\n",
    "# print original string\n",
    "print(\"Input String -\", st)\n",
    "# initialize a counter variable to store the frequency of upper case letters\n",
    "count_letters = 0\n",
    "# iterate over each element in string\n",
    "for i in st:\n",
    "    # check if the element is upper case using isupper() method\n",
    "    if i.isupper():\n",
    "        # increase the value of counter by 1 if condition satifies. \n",
    "        count_letters += 1\n",
    "# after execution of loop, print the result\n",
    "print(\"number of upper case letters are\", count_letters)\n"
   ]
  },
  {
   "cell_type": "markdown",
   "metadata": {},
   "source": [
    "##### 27. Count the number of lowercase letters in a string.\n"
   ]
  },
  {
   "cell_type": "code",
   "execution_count": 56,
   "metadata": {},
   "outputs": [
    {
     "name": "stdout",
     "output_type": "stream",
     "text": [
      "Input String - Red Blue Green Yellow\n",
      "number of lower case letters are 14\n"
     ]
    }
   ],
   "source": [
    "# take a input string from user using input()\n",
    "st = input(\"Enter a string\")\n",
    "# print original string\n",
    "print(\"Input String -\", st)\n",
    "# initialize a counter variable to store the frequency of lower case letters\n",
    "count_letters = 0\n",
    "# iterate over each element in string\n",
    "for i in st:\n",
    "    # check if the element is lower case using islower() method\n",
    "    if i.islower():\n",
    "        # increase the value of counter by 1 if condition satifies. \n",
    "        count_letters += 1\n",
    "# after execution of loop, print the result\n",
    "print(\"number of lower case letters are\", count_letters)\n"
   ]
  },
  {
   "cell_type": "markdown",
   "metadata": {},
   "source": [
    "##### 28. Swap the case of each character in a string.\n"
   ]
  },
  {
   "cell_type": "code",
   "execution_count": 57,
   "metadata": {},
   "outputs": [
    {
     "name": "stdout",
     "output_type": "stream",
     "text": [
      "Input String - Red Blue Green Yellow\n",
      "Output String - rED bLUE gREEN yELLOW\n"
     ]
    }
   ],
   "source": [
    "# take a input string from user using input()\n",
    "st = input(\"Enter a string\")\n",
    "# print original string\n",
    "print(\"Input String -\", st)\n",
    "# initialize an empty string to store the result\n",
    "new_st = ''\n",
    "# iterate over each element in string\n",
    "for i in st:\n",
    "    # check if the element is lower case using islower() method\n",
    "    if i.islower():\n",
    "        # convert the string element to upper case using upper() method if the element is in lower case\n",
    "        new_st += i.upper()\n",
    "    # check if the element is upper case using isupper() method\n",
    "    elif i.isupper():\n",
    "        # convert the string element to lower case using lower() method if the element is in upper case\n",
    "        new_st += i.lower()\n",
    "    # if element is not an alphabet, add the element in new string without any change\n",
    "    else:\n",
    "        new_st += i \n",
    "# after execution of loop, print the result\n",
    "print(\"Output String -\",new_st)"
   ]
  },
  {
   "cell_type": "markdown",
   "metadata": {},
   "source": [
    "##### 29. Remove a specific word from a string.\n"
   ]
  },
  {
   "cell_type": "code",
   "execution_count": 58,
   "metadata": {},
   "outputs": [
    {
     "name": "stdout",
     "output_type": "stream",
     "text": [
      "Input String - Red Blue Green Yellow\n",
      "Output String - Red  Green Yellow\n"
     ]
    }
   ],
   "source": [
    "''' \n",
    "the approach is - to remove a specific word, we can actually replace the word \n",
    "with a blank string or null string\n",
    "'''\n",
    "\n",
    "# take input string from user using input() method\n",
    "st = input(\"Enter a string\")\n",
    "# take input word which is needed to be removed from user using input() method\n",
    "word = input(\"entered word to be removed\")\n",
    "# print the initial string\n",
    "print(\"Input String -\", st)\n",
    "# replace the input word with blank / null string using replace() method\n",
    "st = st.replace(word,'')\n",
    "# print the output string\n",
    "print(\"Output String -\", st)"
   ]
  },
  {
   "cell_type": "markdown",
   "metadata": {},
   "source": [
    "##### 30. Check if a string is a valid email address."
   ]
  },
  {
   "cell_type": "code",
   "execution_count": 81,
   "metadata": {},
   "outputs": [
    {
     "name": "stdout",
     "output_type": "stream",
     "text": [
      "Input Email Address - abc.ghi1@gmail.com\n",
      "It is valid email\n"
     ]
    }
   ],
   "source": [
    "'''\n",
    "approach - here we will use regex.\n",
    "A RegEx or Regular Expression, is a sequence of characters that forms a search pattern.\n",
    "Here we will try .\n",
    "The pattern uses the following components:\n",
    "  * [A-Za-z0-9-.*_]+: Matches one or more word characters (letters, digits, underscores) or dots or hyphens, which are valid characters in the username part of the email.\n",
    "  * @: Matches the \"@\" symbol.\n",
    "  * [A-Za-z0-9]+: Matches one or more word characters (letters, digits), which are valid characters in the domain name of the email.\n",
    "  * \\.: Escapes and matches the literal dot (.) symbol.\n",
    "  * [A-Za-z] : Matches one or more word characters (letters), which are valid characters in the top level domain part of the email.\n",
    "Use re.match(pattern, email) to match the email against the pattern. If the match is successful, the email is considered valid.\n",
    "If the match is successful, the function returns True, otherwise it returns False.\n",
    "'''\n",
    "# import re module to work with regex expressions\n",
    "import re \n",
    "# take input email from user using input()\n",
    "email_string = input(\"Enter an email address for example\")\n",
    "# Regular expression pattern for a basic email validation\n",
    "pattern = re.compile(r'[A-Za-z0-9-.*_]+@[A-Za-z0-9]+\\.[A-Za-z]+')\n",
    "# check if pattern matches using match() and print the result accordingly\n",
    "# match() - checks the string to be matched for a pattern in the RegEx \n",
    "# and returns the first occurrence of such a pattern match\n",
    "matches = pattern.match(email_string)\n",
    "print(\"Input Email Address -\", email_string)\n",
    "print(\"It is valid email\") if matches!=None else print(\"It is not a valid email\") "
   ]
  },
  {
   "cell_type": "markdown",
   "metadata": {},
   "source": [
    "##### 31. Extract the username from an email address string.\n"
   ]
  },
  {
   "cell_type": "code",
   "execution_count": 19,
   "metadata": {},
   "outputs": [
    {
     "name": "stdout",
     "output_type": "stream",
     "text": [
      "Input Email Address - abc.dfg@gmail.com\n",
      "Output username -  abc.dfg\n"
     ]
    }
   ],
   "source": [
    "'''\n",
    "approach - here we will use regex.\n",
    "A RegEx or Regular Expression, is a sequence of characters that forms a search pattern.\n",
    "Here we will try .\n",
    "The pattern uses the following components:\n",
    "  * [A-Za-z0-9-.*_]+: Matches one or more word characters (letters, digits, underscores) or dots or hyphens, which are valid characters in the username part of the email.\n",
    "  * @: Matches the \"@\" symbol.\n",
    "  * [A-Za-z0-9]+: Matches one or more word characters (letters, digits), which are valid characters in the domain name of the email.\n",
    "  * \\.: Escapes and matches the literal dot (.) symbol.\n",
    "  * [A-Za-z] : Matches one or more word characters (letters), which are valid characters in the top level domain part of the email.\n",
    "Use re.match(pattern, email) to match the email against the pattern. If the match is successful, the email is considered valid.\n",
    "If the match is successful, the function returns True, otherwise it returns False.\n",
    "'''\n",
    "# import re module to work with regex expressions\n",
    "import re \n",
    "# take input email from user using input()\n",
    "email_string = input(\"Enter an email address for example\")\n",
    "# Regular expression pattern for a basic email validation\n",
    "pattern = re.compile(r'([A-Za-z0-9-.*_]+)@([A-Za-z0-9]+)\\.([A-Za-z]+)')\n",
    "# we will first search for match pattern using finditer()\n",
    "#  finditer() - returns an iterator that goes over all non-overlapping matches of the pattern in the text\n",
    "matches = pattern.finditer(email_string)\n",
    "print(\"Input Email Address -\", email_string)\n",
    "# iterate over the iterator and extract the group 1 of each element of iterator using group()\n",
    "for i in matches:\n",
    "    # print the result\n",
    "    print(\"Output username - \",i.group(1))"
   ]
  },
  {
   "cell_type": "markdown",
   "metadata": {},
   "source": [
    "##### 32. Extract the domain name from an email address string.\n"
   ]
  },
  {
   "cell_type": "code",
   "execution_count": 23,
   "metadata": {},
   "outputs": [
    {
     "name": "stdout",
     "output_type": "stream",
     "text": [
      "Input Email Address - abc.dfg@gmail.com\n",
      "Output domain name -  gmail\n"
     ]
    }
   ],
   "source": [
    "'''\n",
    "approach - here we will use regex.\n",
    "A RegEx or Regular Expression, is a sequence of characters that forms a search pattern.\n",
    "Here we will try .\n",
    "The pattern uses the following components:\n",
    "  * [A-Za-z0-9-.*_]+: Matches one or more word characters (letters, digits, underscores) or dots or hyphens, which are valid characters in the username part of the email.\n",
    "  * @: Matches the \"@\" symbol.\n",
    "  * [A-Za-z0-9]+: Matches one or more word characters (letters, digits), which are valid characters in the domain name of the email.\n",
    "  * \\.: Escapes and matches the literal dot (.) symbol.\n",
    "  * [A-Za-z] : Matches one or more word characters (letters), which are valid characters in the top level domain part of the email.\n",
    "Use re.match(pattern, email) to match the email against the pattern. If the match is successful, the email is considered valid.\n",
    "If the match is successful, the function returns True, otherwise it returns False.\n",
    "'''\n",
    "# import re module to work with regex expressions\n",
    "import re \n",
    "# take input email from user using input()\n",
    "email_string = input(\"Enter an email address for example\")\n",
    "# Regular expression pattern for a basic email validation\n",
    "pattern = re.compile(r'([A-Za-z0-9-.*_]+)@([A-Za-z0-9]+)\\.([A-Za-z]+)')\n",
    "# we will first search for match pattern using finditer()\n",
    "#  finditer() - returns an iterator that goes over all non-overlapping matches of the pattern in the text\n",
    "matches = pattern.finditer(email_string)\n",
    "print(\"Input Email Address -\", email_string)\n",
    "# iterate over the iterator and extract the group 2 of each element of iterator using group() fro getting domain name\n",
    "for i in matches:\n",
    "    # print the result\n",
    "    print(\"Output domain name - \",i.group(2))"
   ]
  },
  {
   "cell_type": "markdown",
   "metadata": {},
   "source": [
    "##### 33. Replace multiple spaces in a string with a single space.\n"
   ]
  },
  {
   "cell_type": "code",
   "execution_count": 27,
   "metadata": {},
   "outputs": [
    {
     "name": "stdout",
     "output_type": "stream",
     "text": [
      "Input string -     we are    good  \n",
      "Output string - we are good\n"
     ]
    }
   ],
   "source": [
    "''''  \n",
    "approach - split the string on the basis of space and put the elements in list\n",
    "then join the elements of list with a single space between them and print the result. \n",
    "'''\n",
    "# take input from string using input()\n",
    "st = input(\"Enter a string\")\n",
    "# print initial string\n",
    "print(\"Input string -\", st)\n",
    "# split the string on the bases of string using split() and convert it into list using list() function\n",
    "l = list(st.split())\n",
    "# join the elements of list with single space using join()\n",
    "st = \" \".join(l)\n",
    "# print the result.\n",
    "print(\"Output string -\", st)"
   ]
  },
  {
   "cell_type": "markdown",
   "metadata": {},
   "source": [
    "##### 34. Check if a string is a valid URL.\n"
   ]
  },
  {
   "cell_type": "code",
   "execution_count": 32,
   "metadata": {},
   "outputs": [
    {
     "name": "stdout",
     "output_type": "stream",
     "text": [
      "Input URL - https://youtube.com\n",
      "It is valid url\n"
     ]
    }
   ],
   "source": [
    "'''\n",
    "approach - here we will use regex.\n",
    "A RegEx or Regular Expression, is a sequence of characters that forms a search pattern.\n",
    "Here we will try .\n",
    "The pattern uses the following components:\n",
    "  * () : means group \n",
    "  * | : means either this or that , it is or operator\n",
    "  * s? : either frequency of letter 's' is 0 or 1 at that position\n",
    "  * (http)s? : matches 'http' or 'https' \n",
    "  * :// : matches with '://'\n",
    "  * (www.)? : means frequency of 'www.' is 0 or 1 at that position\n",
    "  * (\\w+) : matches with one or more than one characters\n",
    "  * @: Matches the \"@\" symbol.\n",
    "  * (\\.\\w+) : matches with dot followed by one or more characters\n",
    "Use pattern.match(pattern, url) to match the url against the pattern. If the match is successful, the url is considered valid.\n",
    "If the match is successful, the function returns True, otherwise it returns False.\n",
    "'''\n",
    "# import re module to work with regex expressions\n",
    "import re \n",
    "# take input url from user using input()\n",
    "url_string = input(\"Enter an  for example\")\n",
    "# Regular expression pattern for a basic url validation\n",
    "pattern = re.compile(r'(http)s?://(www.)?(\\w+)(\\.\\w+)')\n",
    "# check if pattern matches using match() and print the result accordingly\n",
    "# match() - checks the string to be matched for a pattern in the RegEx \n",
    "# and returns the first occurrence of such a pattern match\n",
    "matches = pattern.match(url_string)\n",
    "print(\"Input URL -\", url_string)\n",
    "print(\"It is valid url\") if matches!=None else print(\"It is not a valid url\") "
   ]
  },
  {
   "cell_type": "markdown",
   "metadata": {},
   "source": [
    "##### 35. Extract the protocol (http or https) from a URL string.\n"
   ]
  },
  {
   "cell_type": "code",
   "execution_count": 1,
   "metadata": {},
   "outputs": [
    {
     "name": "stdout",
     "output_type": "stream",
     "text": [
      "Input url - http://abc.jn\n",
      "Output protocol - http\n"
     ]
    }
   ],
   "source": [
    "'''\n",
    "approach - here we will use regex.\n",
    "A RegEx or Regular Expression, is a sequence of characters that forms a search pattern.\n",
    "Here we will try .\n",
    "The pattern uses the following components:\n",
    "  * () : means group \n",
    "  * | : means either this or that , it is or operator\n",
    "  * s? : either frequency of letter 's' is 0 or 1 at that position\n",
    "  * (http)s? : matches 'http' or 'https' \n",
    "  * :// : matches with '://'\n",
    "  * (www.)? : means frequency of 'www.' is 0 or 1 at that position\n",
    "  * (\\w+) : matches with one or more than one characters\n",
    "  * @: Matches the \"@\" symbol.\n",
    "  * (\\.\\w+) : matches with dot followed by one or more characters\n",
    "Use pattern.match(pattern, url) to match the url against the pattern. If the match is successful, the url is considered valid.\n",
    "If the match is successful, the function returns True, otherwise it returns False.\n",
    "'''\n",
    "# import re module to work with regex expressions\n",
    "import re \n",
    "# take input url from user using input()\n",
    "url_string = input(\"Enter an url for example\")\n",
    "# Regular expression pattern for a basic url validation\n",
    "pattern = re.compile(r'(http|https)://(www.)?(\\w+)(\\.\\w+)')\n",
    "# we will first search for match pattern using finditer()\n",
    "#  finditer() - returns an iterator that goes over all non-overlapping matches of the pattern in the text\n",
    "matches = pattern.finditer(url_string)\n",
    "print(\"Input url -\", url_string)\n",
    "# initialize an empty string variable to store protocol\n",
    "ans = ''\n",
    "# iterate over the iterator and extract the group 2 of each element of iterator using group() fro getting domain name\n",
    "for i in matches:\n",
    "    ans = i.group(1)\n",
    "# check if ans is not empty and print the resultant protocol.\n",
    "print(\"Output protocol -\", ans) if ans!='' else print(\"No protocol mentioned\")"
   ]
  },
  {
   "cell_type": "markdown",
   "metadata": {},
   "source": [
    "##### 36. Find the frequency of each character in a string.\n"
   ]
  },
  {
   "cell_type": "code",
   "execution_count": 41,
   "metadata": {},
   "outputs": [
    {
     "name": "stdout",
     "output_type": "stream",
     "text": [
      "Input String - aaaggcccufgg\n",
      "Frequency of a is 3\n",
      "Frequency of g is 4\n",
      "Frequency of c is 3\n",
      "Frequency of u is 1\n",
      "Frequency of f is 1\n"
     ]
    }
   ],
   "source": [
    "'''' \n",
    "approach - here we will use dictionary where we make character of string as keys of dictionary and count of\n",
    "that character as value regarding that key.\n",
    "'''\n",
    "# take input from user\n",
    "st = input(\"enter a string\")\n",
    "# print the initial string\n",
    "print(\"Input String -\", st)\n",
    "# initialize an empty dictionary\n",
    "count_dict = {}\n",
    "# iterate over elements of string\n",
    "for i in st:\n",
    "    # if element is not present as key of dict then create its key and give it value as 1 showing as count = 1 initially\n",
    "    if i not in count_dict.keys():\n",
    "        count_dict[i] = 1\n",
    "    # if element key is present in dict, increase the value of key by 1\n",
    "    else :\n",
    "        count_dict[i] += 1\n",
    "# print the frequency of each character.\n",
    "for i in count_dict.keys():\n",
    "    print(\"Frequency of \"+i+\" is \"+str(count_dict[i]))"
   ]
  },
  {
   "cell_type": "markdown",
   "metadata": {},
   "source": [
    "##### 37. Remove all punctuation from a string.\n"
   ]
  },
  {
   "cell_type": "code",
   "execution_count": 43,
   "metadata": {},
   "outputs": [
    {
     "name": "stdout",
     "output_type": "stream",
     "text": [
      "Input String - I am good!!\n",
      "Output string - I am good\n"
     ]
    }
   ],
   "source": [
    "# import string module coz string module has punctuation field which contains string containing all puctuation characters\n",
    "import string  \n",
    "# store the string of punctuation in a variable\n",
    "punctuation = string.punctuation\n",
    "# take input from user using input()\n",
    "st = input(\"enter a string\")\n",
    "# print the initial string\n",
    "print(\"Input String -\", st)\n",
    "# initialize an empty list to store non-punctuation elements of string\n",
    "list_ans  = []\n",
    "# iterate over elements of string\n",
    "for i in st:\n",
    "    # check if character is not punctuation\n",
    "    if i not in punctuation:\n",
    "        # add the element in list\n",
    "        list_ans.append(i)\n",
    "# join the elements of list using join()\n",
    "st = ''.join(list_ans)\n",
    "# print the result\n",
    "print(\"Output string -\", st)\n"
   ]
  },
  {
   "cell_type": "markdown",
   "metadata": {},
   "source": [
    "##### 38. Check if a string contains only digits.\n"
   ]
  },
  {
   "cell_type": "code",
   "execution_count": 4,
   "metadata": {},
   "outputs": [
    {
     "name": "stdout",
     "output_type": "stream",
     "text": [
      "Input String - dolphin3456\n",
      "OUTPUT : It does not have digits only\n"
     ]
    }
   ],
   "source": [
    "''' \n",
    "approach - we need to check if atleast one character is non-digit it means it doesn't contain only digits \n",
    "'''\n",
    "# take input from user using input()\n",
    "st = input(\"enter a string\")\n",
    "# print the initial string\n",
    "print(\"Input String -\", st)\n",
    "# flag for atleast one non-digit element, initailly it is off i.e 0\n",
    "flag = 0\n",
    "for i in st:\n",
    "    # check if element is non-digit using isdigit(), it returns true if string element is digit  else false\n",
    "    if i.isdigit() == False:\n",
    "        # on the flag, i.e. 1\n",
    "        flag = 1\n",
    "        break\n",
    "# if flag is 0 means no non-digit element is found so print the result accordingly\n",
    "if flag == 0:\n",
    "    print(\"OUTPUT : It has digits only\")\n",
    "else:\n",
    "    print(\"OUTPUT : It does not have digits only\")"
   ]
  },
  {
   "cell_type": "markdown",
   "metadata": {},
   "source": [
    "##### 39. Check if a string contains only alphabets.\n"
   ]
  },
  {
   "cell_type": "code",
   "execution_count": 6,
   "metadata": {},
   "outputs": [
    {
     "name": "stdout",
     "output_type": "stream",
     "text": [
      "Input String - dolphin\n",
      "OUTPUT : It has alphabets only\n"
     ]
    }
   ],
   "source": [
    "''' \n",
    "approach - we need to check if atleast one character is non-alphabetic element it means it doesn't contain only alphabets \n",
    "'''\n",
    "# take input from user using input()\n",
    "st = input(\"enter a string\")\n",
    "# print the initial string\n",
    "print(\"Input String -\", st)\n",
    "# flag for atleast one non-alphabate element, initailly it is off i.e 0\n",
    "flag = 0\n",
    "for i in st:\n",
    "    # check if element is non-alphabate using isalpha(), it returns true if string element is alphabate  else false\n",
    "    if i.isalpha() == False:\n",
    "        # on the flag, i.e. 1\n",
    "        flag = 1\n",
    "        break\n",
    "\n",
    "# if flag is 0 means no non-alphabate element is found so print the result accordingly\n",
    "if flag == 0:\n",
    "    print(\"OUTPUT : It has alphabets only\")\n",
    "else:\n",
    "    print(\"OUTPUT : It does not have alphabets only\")"
   ]
  },
  {
   "cell_type": "markdown",
   "metadata": {},
   "source": [
    "##### 40. Convert a string to a list of characters.\n"
   ]
  },
  {
   "cell_type": "code",
   "execution_count": 7,
   "metadata": {},
   "outputs": [
    {
     "name": "stdout",
     "output_type": "stream",
     "text": [
      "Input String - Dolphins are crazy\n",
      "output list - ['D', 'o', 'l', 'p', 'h', 'i', 'n', 's', ' ', 'a', 'r', 'e', ' ', 'c', 'r', 'a', 'z', 'y']\n"
     ]
    }
   ],
   "source": [
    "# take input from user using input()\n",
    "st = input(\"enter a string\")\n",
    "# print initial string\n",
    "print(\"Input String -\", st)\n",
    "# convert the string into list of characters using list()\n",
    "ans = list(st)\n",
    "# print the output list\n",
    "print(\"output list -\", ans)"
   ]
  },
  {
   "cell_type": "markdown",
   "metadata": {},
   "source": [
    "##### 41. Check if two strings are anagrams.\n"
   ]
  },
  {
   "cell_type": "code",
   "execution_count": 2,
   "metadata": {},
   "outputs": [
    {
     "name": "stdout",
     "output_type": "stream",
     "text": [
      "First String - !Hyarur!\n",
      "Second String - Hurray!!\n",
      "Strings are anagrams\n"
     ]
    }
   ],
   "source": [
    "''' \n",
    "approach - anagrams basically menas one string is permutaion of other i.e \n",
    "same elements with same frequency are present in both strings but order of characters may be different\n",
    "here we will first check if length are equal or not. If lengths are not equal then they are not anagrams.\n",
    "then we sort both the strings, if sorted strings are equal then strings are anagrams otherwise strings are not anagrams.\n",
    "'''\n",
    "# enter two strings from user using input()\n",
    "st1 = input(\"enter first string\")\n",
    "print(\"First String -\", st1)\n",
    "st2 = input(\"enter second string\")\n",
    "print(\"Second String -\", st2)\n",
    "# check if length of two strings are same or not.\n",
    "if len(st1) != len(st2):\n",
    "    # if lengths are not same then print strings are not anagrams\n",
    "    print(\"Strings are not anagrams\")\n",
    "# if length are same.\n",
    "else :\n",
    "    # sort both strings\n",
    "    s1 = sorted(st1)\n",
    "    s2 = sorted(st2)\n",
    "    # check if both sorted strings are equal or not\n",
    "    print(\"Strings are anagrams\") if s1==s2 else print(\"Strings are not anagrams\")"
   ]
  },
  {
   "cell_type": "markdown",
   "metadata": {},
   "source": [
    "##### 42. Encode a string using a Caesar cipher.\n"
   ]
  },
  {
   "cell_type": "code",
   "execution_count": 24,
   "metadata": {},
   "outputs": [
    {
     "name": "stdout",
     "output_type": "stream",
     "text": [
      "Entered string - PYTHON and entered key - 15\n",
      "Output Encrypted String - ENIWDC\n"
     ]
    }
   ],
   "source": [
    "''' \n",
    "Caesar cipher encoding - there is a text and a key. key  =  number of positions to shift each letter.\n",
    "'''\n",
    "# take input from user using input() and convert it into upper case using upper() method\n",
    "st = input(\"Enter a uppercase string\").upper()\n",
    "# take input key from user using input() and convert it into integer using int() method\n",
    "key = int(input(\"Enter key\"))\n",
    "print(\"Entered string -\",st, \"and entered key -\", key)\n",
    "# initialize a variable with list of upper case letters from A to Z\n",
    "l= [chr(i) for i in range(65,91)]\n",
    "# initialize an empty list for storing the resultant string letters.\n",
    "ans = []\n",
    "# Iterate through each character in the input text.\n",
    "for i in st:\n",
    "    # check if element is alphabet using isalpha()\n",
    "    if i.isalpha():\n",
    "        # Calculate the encoded character's Unicode code point value by shifting it by the specified amount.\n",
    "        # Ensure the value wraps around within the upper case alphabet range (A-Z).\n",
    "        # here we get the index of resultant alphabet according to alphabet list\n",
    "        ch = (ord(i)-ord('A')+key)%26\n",
    "        # append the corresponding alphabet in list\n",
    "        ans.append(l[ch])\n",
    "    # if it is not an alphabet, append it in answer list as it is\n",
    "    else:\n",
    "        ans.append(i) \n",
    "# join the elements in list using join()\n",
    "# print the encoded string  \n",
    "print(\"Output Encrypted String -\",''.join(ans))"
   ]
  },
  {
   "cell_type": "markdown",
   "metadata": {},
   "source": [
    "##### 43. Decode a Caesar cipher encoded string.\n"
   ]
  },
  {
   "cell_type": "code",
   "execution_count": 26,
   "metadata": {},
   "outputs": [
    {
     "name": "stdout",
     "output_type": "stream",
     "text": [
      "Entered string - PYTHON and entered key - 17\n",
      "Output Dencrypted String - YHCQXW\n"
     ]
    }
   ],
   "source": [
    "# take input from user using input() and convert it into upper case using upper() metho\n",
    "st = input(\"Enter a uppercase string\").upper()\n",
    "# take input key from user using input() and convert it into integer using int() method\n",
    "key = int(input(\"Enter key\"))\n",
    "print(\"Entered string -\",st, \"and entered key -\", key)\n",
    "# initialize a variable with list of upper case letters from A to Z\n",
    "l= [chr(i) for i in range(65,91)]\n",
    "# initialize an empty list for storing the resultant string letters.\n",
    "ans = []\n",
    "# Iterate through each character in the input text.\n",
    "for i in st:\n",
    "    # check if element is alphabet using isalpha()\n",
    "    if i.isalpha():\n",
    "        # Calculate index for the decoded character using the shift value and append it into ans list\n",
    "        ch = (ord(i)-ord('A')-key)%26\n",
    "        ch = (26 - ch) if ch<0 else ch\n",
    "        ans.append(l[ch])\n",
    "    else:\n",
    "        ans.append(i) \n",
    "# join the elements in list using join()\n",
    "# print the decoded string  \n",
    "print(\"Output Dencrypted String -\",''.join(ans))"
   ]
  },
  {
   "cell_type": "markdown",
   "metadata": {},
   "source": [
    "##### 44. Find the most frequent word in a string.\n"
   ]
  },
  {
   "cell_type": "code",
   "execution_count": 31,
   "metadata": {},
   "outputs": [
    {
     "name": "stdout",
     "output_type": "stream",
     "text": [
      "input string - I did not go to market. I went to gym.\n",
      "Most frequent words  - \n",
      "I\n",
      "to\n"
     ]
    }
   ],
   "source": [
    "'''' \n",
    "approach - here we will use dictionary where we make character of string as keys of dictionary and count of\n",
    "that character as value regarding that key. We will print the key/keys whose value in dict is greatest.\n",
    "'''\n",
    "# take input form user using input()\n",
    "st = input(\"enter a string\")\n",
    "# print the initial string\n",
    "print(\"input string -\", st)\n",
    "# convert string into list of words by splitting it on basis of space using split()\n",
    "l = st.split()\n",
    "# initialize an empty dictionary\n",
    "count_dict = {}\n",
    "# take a variable to store the maximum value in the dict\n",
    "maxm = 0\n",
    "# iterate over elements of list\n",
    "for i in l:\n",
    "    # if element is not present as key of dict then create its key and give it value as 1 showing as count = 1 initially\n",
    "    if i not in count_dict.keys():\n",
    "        count_dict[i] = 1\n",
    "        #  check if value regarding this key is greater than maxm then store the value in maxm\n",
    "        maxm = max(count_dict[i], maxm)\n",
    "    # if element key is present in dict, increase the value of key by 1\n",
    "    else :\n",
    "        count_dict[i] += 1\n",
    "         #  check if value regarding this key is greater than maxm then store the value in maxm\n",
    "        maxm = max(count_dict[i], maxm)\n",
    "print(\"Most frequent words  - \")\n",
    "# iterate over keys of dict.\n",
    "for i in count_dict.keys():\n",
    "    # if value corresponding the key is equal to value of maxm then print that word\n",
    "    if count_dict[i] == maxm:\n",
    "        print(i)\n"
   ]
  },
  {
   "cell_type": "markdown",
   "metadata": {},
   "source": [
    "##### 45. Find all unique words in a string.\n"
   ]
  },
  {
   "cell_type": "code",
   "execution_count": 32,
   "metadata": {},
   "outputs": [
    {
     "name": "stdout",
     "output_type": "stream",
     "text": [
      "input string - I did not go to market. I went to gym.\n",
      "Unique words  - \n",
      "did\n",
      "not\n",
      "go\n",
      "market.\n",
      "went\n",
      "gym.\n"
     ]
    }
   ],
   "source": [
    "'''' \n",
    "approach - here we will use dictionary where we make character of string as keys of dictionary and count of\n",
    "that character as value regarding that key. We will print the key/keys whose value in dict is 1.\n",
    "'''\n",
    "# take input form user using input()\n",
    "st = input(\"enter a string\")\n",
    "# print the initial string\n",
    "print(\"input string -\", st)\n",
    "# convert string into list of words by splitting it on basis of space using split()\n",
    "l = st.split()\n",
    "# initialize an empty dictionary\n",
    "count_dict = {}\n",
    "# iterate over elements of string\n",
    "for i in l:\n",
    "    # if element is not present as key of dict then create its key and give it value as 1 showing as count = 1 initially\n",
    "    if i not in count_dict.keys():\n",
    "        count_dict[i] = 1\n",
    "    # if element key is present in dict, increase the value of key by 1\n",
    "    else :\n",
    "        count_dict[i] += 1\n",
    "print(\"Unique words  - \")\n",
    "# iterate over keys of dict.\n",
    "for i in count_dict.keys():\n",
    "    # if value corresponding the key is equal to 1 then print that word\n",
    "    if count_dict[i] == 1:\n",
    "        print(i)\n"
   ]
  },
  {
   "cell_type": "markdown",
   "metadata": {},
   "source": [
    "##### 46. Count the number of syllables in a string."
   ]
  },
  {
   "cell_type": "code",
   "execution_count": 3,
   "metadata": {},
   "outputs": [
    {
     "name": "stdout",
     "output_type": "stream",
     "text": [
      "'Python' has 2 syllables.\n",
      "'GameZone' has 4 syllables.\n",
      "'ReadIt' has 2 syllables.\n"
     ]
    }
   ],
   "source": [
    "''' \n",
    "We import the re module for regular expressions.\n",
    "We define a function count_syllables(word) that takes a word as input.\n",
    "Inside the function, we use the re.findall() method with a regular expression [aeiouy]+ to find all sequences of vowels (vowel groups) in the word, ignoring the case.\n",
    "The re.IGNORECASE flag ensures that the regular expression matches both - lowercase and uppercase vowels.\n",
    "We return the count of vowel groups as the number of syllables.\n",
    "We provide example words word1, word2, and word3.\n",
    "We call the count_syllables() function for each word to count the syllables and store the results in syllables1, syllables2, and syllables3.\n",
    "Finally, we print the syllable count for each word using print() statements.\n",
    "'''\n",
    "import re\n",
    "\n",
    "def count_syllables(word):\n",
    "    # Count vowel groups using regular expression\n",
    "    vowel_groups = re.findall(r'[aeiouy]+', word, re.IGNORECASE)\n",
    "\n",
    "    return len(vowel_groups)\n",
    "\n",
    "# Example words\n",
    "word1 = \"Python\"\n",
    "word2 = \"GameZone\"\n",
    "word3 = \"ReadIt\"\n",
    "\n",
    "# Count syllables\n",
    "syllables1 = count_syllables(word1)\n",
    "syllables2 = count_syllables(word2)\n",
    "syllables3 = count_syllables(word3)\n",
    "\n",
    "# Print the results\n",
    "print(f\"'{word1}' has {syllables1} syllables.\")\n",
    "print(f\"'{word2}' has {syllables2} syllables.\")\n",
    "print(f\"'{word3}' has {syllables3} syllables.\")"
   ]
  },
  {
   "cell_type": "markdown",
   "metadata": {},
   "source": [
    "##### 47. Check if a string contains any special characters.\n"
   ]
  },
  {
   "cell_type": "code",
   "execution_count": 33,
   "metadata": {},
   "outputs": [
    {
     "name": "stdout",
     "output_type": "stream",
     "text": [
      "Input String - Hurray!! we win\n",
      "This String contains special character\n"
     ]
    }
   ],
   "source": [
    "# import string module coz string module has punctuation field which contains string containing all puctuation characters\n",
    "import string  \n",
    "# store the string of punctuation in a variable\n",
    "punctuation = string.punctuation\n",
    "# take input from user using input()\n",
    "st = input(\"enter a string\")\n",
    "# print the initial string\n",
    "print(\"Input String -\", st)\n",
    "# initialize an empty list to store non-punctuation elements of string\n",
    "list_ans  = []\n",
    "# iterate over elements of string\n",
    "for i in st:\n",
    "    # check if character is not punctuation\n",
    "    if i not in punctuation:\n",
    "        # print the output\n",
    "        print(\"This String contains special character\")\n",
    "        break"
   ]
  },
  {
   "cell_type": "markdown",
   "metadata": {},
   "source": [
    "##### 48. Remove the nth word from a string.\n"
   ]
  },
  {
   "cell_type": "code",
   "execution_count": 36,
   "metadata": {},
   "outputs": [
    {
     "name": "stdout",
     "output_type": "stream",
     "text": [
      "Input String - I am not well\n",
      "Output String - I am well\n"
     ]
    }
   ],
   "source": [
    "# # take input from user using input()\n",
    "st = input(\"Enter a string\")\n",
    "# take input from user for n using input() then convert it into integer using int()\n",
    "n = int(input(\"enter value of n\"))\n",
    "# print the initial string\n",
    "print(\"Input String -\", st)\n",
    "# split the string into words using split() and store it in variable as list\n",
    "l = st.split()\n",
    "# pop n-1 th element from list as index of list starts from 0\n",
    "l.pop(n-1)\n",
    "# join the elements of list using join()\n",
    "st = ' '.join(l)\n",
    "# print the output string\n",
    "print(\"Output String -\", st)"
   ]
  },
  {
   "cell_type": "markdown",
   "metadata": {},
   "source": [
    "##### 49. Insert a word at the nth position in a string.\n"
   ]
  },
  {
   "cell_type": "code",
   "execution_count": 39,
   "metadata": {},
   "outputs": [
    {
     "name": "stdout",
     "output_type": "stream",
     "text": [
      "Input String - asd asd asd asd\n",
      "fgh needed to be inserted at 2 position\n",
      "Output String - asd fgh asd asd asd\n"
     ]
    }
   ],
   "source": [
    "# take input from user using input()\n",
    "st = input(\"Enter a string\")\n",
    "# take input from user for n using input() then convert it into integer using int()\n",
    "n = int(input(\"enter value of n\"))\n",
    "# take input from user for word to be inserted using input() \n",
    "word = input(\"enter word to be inserted\")\n",
    "# print initial string\n",
    "print(\"Input String -\", st)\n",
    "print(word , \"needed to be inserted at\", n ,\"position\")\n",
    "# split the string into words using split() and store it in variable as list\n",
    "l = st.split()\n",
    "# insert the word at n-1 index using insert()\n",
    "l.insert(n-1,word)\n",
    "# join the elements of list using join()\n",
    "st = ' '.join(l)\n",
    "# print the output string\n",
    "print(\"Output String -\", st)"
   ]
  },
  {
   "cell_type": "markdown",
   "metadata": {},
   "source": [
    "##### 50. Convert a CSV string to a list of lists."
   ]
  },
  {
   "cell_type": "code",
   "execution_count": 43,
   "metadata": {},
   "outputs": [
    {
     "name": "stdout",
     "output_type": "stream",
     "text": [
      "List is -  [['period', 'series_reference', 'region_name', 'filled jobs', 'filled jobs revised', 'filled jobs diff', 'filled jobs % diff', 'total_earnings', 'total earnings revised', 'earnings diff', 'earnings % diff'], ['2020.09', 'BDCQ.SED1RA', 'Northland', '65520', '65904', '384', '0.6', '953', '959', '6', '0.6'], ['2020.09', 'BDCQ.SED1RB', 'Auckland', '708372', '714506', '6134', '0.9', '12420', '12530', '110', '0.9'], ['2020.09', 'BDCQ.SED1RC', 'Waikato', '198776', '200265', '1489', '0.7', '3041', '3058', '17', '0.6'], ['2020.09', 'BDCQ.SED1RD', 'Bay of Plenty', '127323', '128540', '1217', '1', '1881', '1899', '18', '1'], ['2020.09', 'BDCQ.SED1RE', 'Gisborne', '20417', '20632', '215', '1.1', '276', '279', '3', '1.1'], ['2020.09', 'BDCQ.SED1RF', \"Hawke's Bay\", '71967', '72600', '633', '0.9', '1028', '1036', '8', '0.8'], ['2020.09', 'BDCQ.SED1RG', 'Taranaki', '49239', '49599', '360', '0.7', '745', '750', '5', '0.7'], ['2020.09', 'BDCQ.SED1RH', 'Manawatu-Whanganui', '101946', '102617', '671', '0.7', '1455', '1464', '9', '0.6'], ['2020.09', 'BDCQ.SED1RI', 'Wellington', '237102', '239076', '1974', '0.8', '4358', '4394', '36', '0.8'], ['2020.09', 'BDCQ.SED1RJ', 'Tasman', '22298', '22482', '184', '0.8', '307', '309', '2', '0.7'], ['2020.09', 'BDCQ.SED1RK', 'Nelson', '19009', '19190', '181', '1', '268', '272', '4', '1.5'], ['2020.09', 'BDCQ.SED1RL', 'Marlborough', '24745', '24844', '99', '0.4', '349', '349', '0', '0'], ['2020.09', 'BDCQ.SED1RM', 'West Coast', '13626', '13646', '20', '0.1', '193', '193', '0', '0'], ['2020.09', 'BDCQ.SED1RN', 'Canterbury', '275569', '278290', '2721', '1', '4232', '4269', '37', '0.9'], ['2020.09', 'BDCQ.SED1RO', 'Otago', '103405', '104211', '806', '0.8', '1473', '1484', '11', '0.7'], ['2020.09', 'BDCQ.SED1RP', 'Southland', '43598', '44007', '409', '0.9', '609', '616', '7', '1.1'], ['2020.12', 'BDCQ.SED1RA', 'Northland', '67629', '68137', '508', '0.8', '974', '982', '8', '0.8'], ['2020.12', 'BDCQ.SED1RB', 'Auckland', '713636', '721492', '7856', '1.1', '12597', '12738', '141', '1.1'], ['2020.12', 'BDCQ.SED1RC', 'Waikato', '203030', '204389', '1359', '0.7', '3105', '3125', '20', '0.6'], ['2020.12', 'BDCQ.SED1RD', 'Bay of Plenty', '130557', '132364', '1807', '1.4', '1921', '1950', '29', '1.5'], ['2020.12', 'BDCQ.SED1RE', 'Gisborne', '21450', '21638', '188', '0.9', '286', '289', '3', '1'], ['2020.12', 'BDCQ.SED1RF', \"Hawke's Bay\", '74413', '75220', '807', '1.1', '1057', '1069', '12', '1.1'], ['2020.12', 'BDCQ.SED1RG', 'Taranaki', '50073', '50570', '497', '1', '761', '770', '9', '1.2'], ['2020.12', 'BDCQ.SED1RH', 'Manawatu-Whanganui', '104474', '105209', '735', '0.7', '1484', '1493', '9', '0.6'], ['2020.12', 'BDCQ.SED1RI', 'Wellington', '241506', '243161', '1655', '0.7', '4356', '4381', '25', '0.6'], ['2020.12', 'BDCQ.SED1RJ', 'Tasman', '22794', '22987', '193', '0.8', '309', '312', '3', '1'], ['2020.12', 'BDCQ.SED1RK', 'Nelson', '19480', '19605', '125', '0.6', '273', '276', '3', '1.1'], ['2020.12', 'BDCQ.SED1RL', 'Marlborough', '25074', '25179', '105', '0.4', '352', '352', '0', '0'], ['2020.12', 'BDCQ.SED1RM', 'West Coast', '13974', '13970', '-4', '0', '196', '196', '0', '0'], ['2020.12', 'BDCQ.SED1RN', 'Canterbury', '278420', '282281', '3861', '1.4', '4266', '4325', '59', '1.4'], ['2020.12', 'BDCQ.SED1RO', 'Otago', '104841', '105684', '843', '0.8', '1503', '1514', '11', '0.7'], ['2020.12', 'BDCQ.SED1RP', 'Southland', '45280', '45689', '409', '0.9', '643', '648', '5', '0.8'], ['2021.03', 'BDCQ.SED1RA', 'Northland', '67128', '67640', '512', '0.8', '950', '958', '8', '0.8'], ['2021.03', 'BDCQ.SED1RB', 'Auckland', '708896', '715771', '6875', '1', '12466', '12586', '120', '1'], ['2021.03', 'BDCQ.SED1RC', 'Waikato', '202584', '203703', '1119', '0.6', '3039', '3055', '16', '0.5'], ['2021.03', 'BDCQ.SED1RD', 'Bay of Plenty', '130306', '131440', '1134', '0.9', '1896', '1915', '19', '1'], ['2021.03', 'BDCQ.SED1RE', 'Gisborne', '21616', '21790', '174', '0.8', '285', '288', '3', '1.1'], ['2021.03', 'BDCQ.SED1RF', \"Hawke's Bay\", '75658', '76359', '701', '0.9', '1073', '1084', '11', '1'], ['2021.03', 'BDCQ.SED1RG', 'Taranaki', '50405', '50758', '353', '0.7', '754', '760', '6', '0.8'], ['2021.03', 'BDCQ.SED1RH', 'Manawatu-Whanganui', '104144', '104706', '562', '0.5', '1461', '1467', '6', '0.4'], ['2021.03', 'BDCQ.SED1RI', 'Wellington', '239815', '241057', '1242', '0.5', '4452', '4475', '23', '0.5'], ['2021.03', 'BDCQ.SED1RJ', 'Tasman', '22914', '23104', '190', '0.8', '311', '314', '3', '1'], ['2021.03', 'BDCQ.SED1RK', 'Nelson', '19382', '19525', '143', '0.7', '271', '274', '3', '1.1'], ['2021.03', 'BDCQ.SED1RL', 'Marlborough', '25005', '25099', '94', '0.4', '351', '351', '0', '0'], ['2021.03', 'BDCQ.SED1RM', 'West Coast', '13900', '13910', '10', '0.1', '194', '193', '-1', '-0.5'], ['2021.03', 'BDCQ.SED1RN', 'Canterbury', '277381', '280156', '2775', '1', '4196', '4239', '43', '1'], ['2021.03', 'BDCQ.SED1RO', 'Otago', '104361', '105359', '998', '1', '1486', '1500', '14', '0.9'], ['2021.03', 'BDCQ.SED1RP', 'Southland', '45855', '46351', '496', '1.1', '645', '653', '8', '1.2'], ['2021.06', 'BDCQ.SED1RA', 'Northland', '68288', '69064', '776', '1.1', '1001', '1015', '14', '1.4'], ['2021.06', 'BDCQ.SED1RB', 'Auckland', '720874', '729746', '8872', '1.2', '12972', '13136', '164', '1.3'], ['2021.06', 'BDCQ.SED1RC', 'Waikato', '204615', '206487', '1872', '0.9', '3170', '3197', '27', '0.9'], ['2021.06', 'BDCQ.SED1RD', 'Bay of Plenty', '134675', '136353', '1678', '1.2', '2046', '2076', '30', '1.5'], ['2021.06', 'BDCQ.SED1RE', 'Gisborne', '21455', '21893', '438', '2', '291', '297', '6', '2.1'], ['2021.06', 'BDCQ.SED1RF', \"Hawke's Bay\", '76083', '76894', '811', '1.1', '1128', '1141', '13', '1.2'], ['2021.06', 'BDCQ.SED1RG', 'Taranaki', '50626', '51256', '630', '1.2', '789', '801', '12', '1.5'], ['2021.06', 'BDCQ.SED1RH', 'Manawatu-Whanganui', '104227', '105614', '1387', '1.3', '1500', '1520', '20', '1.3'], ['2021.06', 'BDCQ.SED1RI', 'Wellington', '239064', '243770', '4706', '2', '4360', '4478', '118', '2.7'], ['2021.06', 'BDCQ.SED1RJ', 'Tasman', '22883', '23119', '236', '1', '320', '324', '4', '1.3'], ['2021.06', 'BDCQ.SED1RK', 'Nelson', '19398', '19543', '145', '0.7', '278', '282', '4', '1.4'], ['2021.06', 'BDCQ.SED1RL', 'Marlborough', '24942', '25091', '149', '0.6', '361', '362', '1', '0.3'], ['2021.06', 'BDCQ.SED1RM', 'West Coast', '13745', '13920', '175', '1.3', '195', '198', '3', '1.5'], ['2021.06', 'BDCQ.SED1RN', 'Canterbury', '279418', '283782', '4364', '1.6', '4341', '4409', '68', '1.6'], ['2021.06', 'BDCQ.SED1RO', 'Otago', '104201', '105559', '1358', '1.3', '1531', '1550', '19', '1.2'], ['2021.06', 'BDCQ.SED1RP', 'Southland', '45261', '45736', '475', '1', '657', '665', '8', '1.2'], ['2021.09', 'BDCQ.SED1RA', 'Northland', '68905', '69401', '496', '0.7', '1012', '1020', '8', '0.8'], ['2021.09', 'BDCQ.SED1RB', 'Auckland', '725395', '734238', '8843', '1.2', '13299', '13457', '158', '1.2'], ['2021.09', 'BDCQ.SED1RC', 'Waikato', '206530', '208279', '1749', '0.8', '3238', '3264', '26', '0.8'], ['2021.09', 'BDCQ.SED1RD', 'Bay of Plenty', '132652', '134022', '1370', '1', '2030', '2053', '23', '1.1'], ['2021.09', 'BDCQ.SED1RE', 'Gisborne', '21102', '21501', '399', '1.9', '295', '300', '5', '1.7'], ['2021.09', 'BDCQ.SED1RF', \"Hawke's Bay\", '74836', '75505', '669', '0.9', '1103', '1114', '11', '1'], ['2021.09', 'BDCQ.SED1RG', 'Taranaki', '51002', '51448', '446', '0.9', '781', '789', '8', '1'], ['2021.09', 'BDCQ.SED1RH', 'Manawatu-Whanganui', '105139', '106029', '890', '0.8', '1525', '1540', '15', '1'], ['2021.09', 'BDCQ.SED1RI', 'Wellington', '242981', '244981', '2000', '0.8', '4624', '4656', '32', '0.7'], ['2021.09', 'BDCQ.SED1RJ', 'Tasman', '22778', '23065', '287', '1.3', '322', '326', '4', '1.2'], ['2021.09', 'BDCQ.SED1RK', 'Nelson', '19423', '19647', '224', '1.2', '282', '287', '5', '1.8'], ['2021.09', 'BDCQ.SED1RL', 'Marlborough', '24881', '25166', '285', '1.1', '359', '363', '4', '1.1'], ['2021.09', 'BDCQ.SED1RM', 'West Coast', '13685', '13771', '86', '0.6', '196', '197', '1', '0.5'], ['2021.09', 'BDCQ.SED1RN', 'Canterbury', '282838', '285722', '2884', '1', '4450', '4494', '44', '1'], ['2021.09', 'BDCQ.SED1RO', 'Otago', '104818', '105885', '1067', '1', '1549', '1564', '15', '1'], ['2021.09', 'BDCQ.SED1RP', 'Southland', '44758', '45207', '449', '1', '641', '650', '9', '1.4'], ['2021.12', 'BDCQ.SED1RA', 'Northland', '71012', '71494', '482', '0.7', '1093', '1102', '9', '0.8'], ['2021.12', 'BDCQ.SED1RB', 'Auckland', '741145', '748627', '7482', '1', '13977', '14131', '154', '1.1'], ['2021.12', 'BDCQ.SED1RC', 'Waikato', '212340', '213543', '1203', '0.6', '3475', '3495', '20', '0.6'], ['2021.12', 'BDCQ.SED1RD', 'Bay of Plenty', '137090', '137993', '903', '0.7', '2174', '2191', '17', '0.8'], ['2021.12', 'BDCQ.SED1RE', 'Gisborne', '22116', '22336', '220', '1', '319', '322', '3', '0.9'], ['2021.12', 'BDCQ.SED1RF', \"Hawke's Bay\", '77231', '78013', '782', '1', '1189', '1201', '12', '1'], ['2021.12', 'BDCQ.SED1RG', 'Taranaki', '52263', '52718', '455', '0.9', '842', '849', '7', '0.8'], ['2021.12', 'BDCQ.SED1RH', 'Manawatu-Whanganui', '108016', '108719', '703', '0.7', '1639', '1646', '7', '0.4'], ['2021.12', 'BDCQ.SED1RI', 'Wellington', '248776', '250317', '1541', '0.6', '4823', '4849', '26', '0.5'], ['2021.12', 'BDCQ.SED1RJ', 'Tasman', '23415', '23741', '326', '1.4', '341', '345', '4', '1.2'], ['2021.12', 'BDCQ.SED1RK', 'Nelson', '19947', '20108', '161', '0.8', '300', '304', '4', '1.3'], ['2021.12', 'BDCQ.SED1RL', 'Marlborough', '25563', '25793', '230', '0.9', '384', '386', '2', '0.5'], ['2021.12', 'BDCQ.SED1RM', 'West Coast', '14215', '14251', '36', '0.3', '212', '214', '2', '0.9'], ['2021.12', 'BDCQ.SED1RN', 'Canterbury', '289799', '292743', '2944', '1', '4734', '4782', '48', '1'], ['2021.12', 'BDCQ.SED1RO', 'Otago', '107466', '108500', '1034', '1', '1655', '1669', '14', '0.8'], ['2021.12', 'BDCQ.SED1RP', 'Southland', '46478', '46808', '330', '0.7', '700', '706', '6', '0.9'], ['2022.03', 'BDCQ.SED1RA', 'Northland', '69868', '70477', '609', '0.9', '1056', '1070', '14', '1.3'], ['2022.03', 'BDCQ.SED1RB', 'Auckland', '735186', '741891', '6705', '0.9', '13788', '14022', '234', '1.7'], ['2022.03', 'BDCQ.SED1RC', 'Waikato', '210543', '211775', '1232', '0.6', '3391', '3410', '19', '0.6'], ['2022.03', 'BDCQ.SED1RD', 'Bay of Plenty', '134796', '135832', '1036', '0.8', '2113', '2130', '17', '0.8'], ['2022.03', 'BDCQ.SED1RE', 'Gisborne', '21580', '22122', '542', '2.5', '304', '311', '7', '2.3'], ['2022.03', 'BDCQ.SED1RF', \"Hawke's Bay\", '78010', '78447', '437', '0.6', '1189', '1198', '9', '0.8'], ['2022.03', 'BDCQ.SED1RG', 'Taranaki', '51791', '52263', '472', '0.9', '823', '829', '6', '0.7'], ['2022.03', 'BDCQ.SED1RH', 'Manawatu-Whanganui', '107205', '107814', '609', '0.6', '1596', '1602', '6', '0.4'], ['2022.03', 'BDCQ.SED1RI', 'Wellington', '246085', '247613', '1528', '0.6', '4712', '4741', '29', '0.6'], ['2022.03', 'BDCQ.SED1RJ', 'Tasman', '23527', '23750', '223', '0.9', '344', '347', '3', '0.9'], ['2022.03', 'BDCQ.SED1RK', 'Nelson', '19747', '19823', '76', '0.4', '296', '299', '3', '1'], ['2022.03', 'BDCQ.SED1RL', 'Marlborough', '25368', '25592', '224', '0.9', '380', '382', '2', '0.5'], ['2022.03', 'BDCQ.SED1RM', 'West Coast', '14056', '14118', '62', '0.4', '207', '209', '2', '1'], ['2022.03', 'BDCQ.SED1RN', 'Canterbury', '286920', '289628', '2708', '0.9', '4607', '4650', '43', '0.9'], ['2022.03', 'BDCQ.SED1RO', 'Otago', '106680', '107815', '1135', '1.1', '1625', '1640', '15', '0.9'], ['2022.03', 'BDCQ.SED1RP', 'Southland', '46787', '47114', '327', '0.7', '697', '703', '6', '0.9'], ['2022.06', 'BDCQ.SED1RA', 'Northland', '70390', '71012', '622', '0.9', '1108', '1119', '11', '1'], ['2022.06', 'BDCQ.SED1RB', 'Auckland', '738297', '747141', '8844', '1.2', '14234', '14423', '189', '1.3'], ['2022.06', 'BDCQ.SED1RC', 'Waikato', '211521', '213038', '1517', '0.7', '3502', '3531', '29', '0.8'], ['2022.06', 'BDCQ.SED1RD', 'Bay of Plenty', '138518', '140067', '1549', '1.1', '2236', '2265', '29', '1.3'], ['2022.06', 'BDCQ.SED1RE', 'Gisborne', '21828', '22211', '383', '1.8', '316', '322', '6', '1.9'], ['2022.06', 'BDCQ.SED1RF', \"Hawke's Bay\", '78682', '79212', '530', '0.7', '1244', '1252', '8', '0.6'], ['2022.06', 'BDCQ.SED1RG', 'Taranaki', '51872', '52310', '438', '0.8', '865', '872', '7', '0.8'], ['2022.06', 'BDCQ.SED1RH', 'Manawatu-Whanganui', '106806', '107554', '748', '0.7', '1645', '1655', '10', '0.6'], ['2022.06', 'BDCQ.SED1RI', 'Wellington', '246674', '248666', '1992', '0.8', '4820', '4870', '50', '1'], ['2022.06', 'BDCQ.SED1RJ', 'Tasman', '23906', '24165', '259', '1.1', '358', '362', '4', '1.1'], ['2022.06', 'BDCQ.SED1RK', 'Nelson', '19803', '19868', '65', '0.3', '302', '304', '2', '0.7'], ['2022.06', 'BDCQ.SED1RL', 'Marlborough', '25264', '25440', '176', '0.7', '390', '391', '1', '0.3'], ['2022.06', 'BDCQ.SED1RM', 'West Coast', '14045', '14059', '14', '0.1', '213', '213', '0', '0'], ['2022.06', 'BDCQ.SED1RN', 'Canterbury', '288387', '291078', '2691', '0.9', '4762', '4809', '47', '1'], ['2022.06', 'BDCQ.SED1RO', 'Otago', '106111', '107108', '997', '0.9', '1660', '1676', '16', '1'], ['2022.06', 'BDCQ.SED1RP', 'Southland', '45514', '45919', '405', '0.9', '699', '707', '8', '1.1'], ['2022.09', 'BDCQ.SED1RA', 'Northland', '70417', '71031', '614', '0.9', '1114', '1124', '10', '0.9'], ['2022.09', 'BDCQ.SED1RB', 'Auckland', '741564', '749147', '7583', '1', '14631', '14783', '152', '1'], ['2022.09', 'BDCQ.SED1RC', 'Waikato', '212557', '213928', '1371', '0.6', '3588', '3614', '26', '0.7'], ['2022.09', 'BDCQ.SED1RD', 'Bay of Plenty', '136246', '137396', '1150', '0.8', '2239', '2258', '19', '0.8'], ['2022.09', 'BDCQ.SED1RE', 'Gisborne', '21695', '21962', '267', '1.2', '321', '325', '4', '1.2'], ['2022.09', 'BDCQ.SED1RF', \"Hawke's Bay\", '76353', '76934', '581', '0.8', '1213', '1224', '11', '0.9'], ['2022.09', 'BDCQ.SED1RG', 'Taranaki', '52067', '52511', '444', '0.9', '852', '860', '8', '0.9'], ['2022.09', 'BDCQ.SED1RH', 'Manawatu-Whanganui', '107216', '108118', '902', '0.8', '1651', '1664', '13', '0.8'], ['2022.09', 'BDCQ.SED1RI', 'Wellington', '246959', '249410', '2451', '1', '4975', '5032', '57', '1.1'], ['2022.09', 'BDCQ.SED1RJ', 'Tasman', '23446', '23589', '143', '0.6', '357', '359', '2', '0.6'], ['2022.09', 'BDCQ.SED1RK', 'Nelson', '19682', '19884', '202', '1', '310', '314', '4', '1.3'], ['2022.09', 'BDCQ.SED1RL', 'Marlborough', '25156', '25342', '186', '0.7', '394', '396', '2', '0.5'], ['2022.09', 'BDCQ.SED1RM', 'West Coast', '13933', '13949', '16', '0.1', '212', '212', '0', '0'], ['2022.09', 'BDCQ.SED1RN', 'Canterbury', '290386', '292661', '2275', '0.8', '4900', '4942', '42', '0.9'], ['2022.09', 'BDCQ.SED1RO', 'Otago', '106694', '107716', '1022', '1', '1704', '1719', '15', '0.9'], ['2022.09', 'BDCQ.SED1RP', 'Southland', '45131', '45665', '534', '1.2', '697', '706', '9', '1.3'], ['2022.12', 'BDCQ.SED1RA', 'Northland', '72276', '72801', '525', '0.7', '1171', '1181', '10', '0.9'], ['2022.12', 'BDCQ.SED1RB', 'Auckland', '756716', '765991', '9275', '1.2', '15076', '15258', '182', '1.2'], ['2022.12', 'BDCQ.SED1RC', 'Waikato', '217715', '219366', '1651', '0.8', '3754', '3783', '29', '0.8'], ['2022.12', 'BDCQ.SED1RD', 'Bay of Plenty', '138254', '139879', '1625', '1.2', '2307', '2340', '33', '1.4'], ['2022.12', 'BDCQ.SED1RE', 'Gisborne', '21829', '22440', '611', '2.8', '326', '338', '12', '3.7'], ['2022.12', 'BDCQ.SED1RF', \"Hawke's Bay\", '77356', '78100', '744', '1', '1259', '1272', '13', '1'], ['2022.12', 'BDCQ.SED1RG', 'Taranaki', '52895', '53326', '431', '0.8', '898', '906', '8', '0.9'], ['2022.12', 'BDCQ.SED1RH', 'Manawatu-Whanganui', '108850', '109736', '886', '0.8', '1737', '1750', '13', '0.7'], ['2022.12', 'BDCQ.SED1RI', 'Wellington', '250305', '252045', '1740', '0.7', '5139', '5177', '38', '0.7'], ['2022.12', 'BDCQ.SED1RJ', 'Tasman', '24126', '24228', '102', '0.4', '371', '372', '1', '0.3'], ['2022.12', 'BDCQ.SED1RK', 'Nelson', '20192', '20324', '132', '0.7', '322', '325', '3', '0.9'], ['2022.12', 'BDCQ.SED1RL', 'Marlborough', '25707', '25909', '202', '0.8', '409', '413', '4', '1'], ['2022.12', 'BDCQ.SED1RM', 'West Coast', '14315', '14347', '32', '0.2', '226', '227', '1', '0.4'], ['2022.12', 'BDCQ.SED1RN', 'Canterbury', '296998', '299921', '2923', '1', '5113', '5161', '48', '0.9'], ['2022.12', 'BDCQ.SED1RO', 'Otago', '109243', '110509', '1266', '1.2', '1784', '1803', '19', '1.1'], ['2022.12', 'BDCQ.SED1RP', 'Southland', '46964', '47437', '473', '1', '752', '760', '8', '1.1']]\n",
      "Data in list of list -\n",
      "['period', 'series_reference', 'region_name', 'filled jobs', 'filled jobs revised', 'filled jobs diff', 'filled jobs % diff', 'total_earnings', 'total earnings revised', 'earnings diff', 'earnings % diff']\n",
      "['2020.09', 'BDCQ.SED1RA', 'Northland', '65520', '65904', '384', '0.6', '953', '959', '6', '0.6']\n",
      "['2020.09', 'BDCQ.SED1RB', 'Auckland', '708372', '714506', '6134', '0.9', '12420', '12530', '110', '0.9']\n",
      "['2020.09', 'BDCQ.SED1RC', 'Waikato', '198776', '200265', '1489', '0.7', '3041', '3058', '17', '0.6']\n",
      "['2020.09', 'BDCQ.SED1RD', 'Bay of Plenty', '127323', '128540', '1217', '1', '1881', '1899', '18', '1']\n",
      "['2020.09', 'BDCQ.SED1RE', 'Gisborne', '20417', '20632', '215', '1.1', '276', '279', '3', '1.1']\n",
      "['2020.09', 'BDCQ.SED1RF', \"Hawke's Bay\", '71967', '72600', '633', '0.9', '1028', '1036', '8', '0.8']\n",
      "['2020.09', 'BDCQ.SED1RG', 'Taranaki', '49239', '49599', '360', '0.7', '745', '750', '5', '0.7']\n",
      "['2020.09', 'BDCQ.SED1RH', 'Manawatu-Whanganui', '101946', '102617', '671', '0.7', '1455', '1464', '9', '0.6']\n",
      "['2020.09', 'BDCQ.SED1RI', 'Wellington', '237102', '239076', '1974', '0.8', '4358', '4394', '36', '0.8']\n",
      "['2020.09', 'BDCQ.SED1RJ', 'Tasman', '22298', '22482', '184', '0.8', '307', '309', '2', '0.7']\n",
      "['2020.09', 'BDCQ.SED1RK', 'Nelson', '19009', '19190', '181', '1', '268', '272', '4', '1.5']\n",
      "['2020.09', 'BDCQ.SED1RL', 'Marlborough', '24745', '24844', '99', '0.4', '349', '349', '0', '0']\n",
      "['2020.09', 'BDCQ.SED1RM', 'West Coast', '13626', '13646', '20', '0.1', '193', '193', '0', '0']\n",
      "['2020.09', 'BDCQ.SED1RN', 'Canterbury', '275569', '278290', '2721', '1', '4232', '4269', '37', '0.9']\n",
      "['2020.09', 'BDCQ.SED1RO', 'Otago', '103405', '104211', '806', '0.8', '1473', '1484', '11', '0.7']\n",
      "['2020.09', 'BDCQ.SED1RP', 'Southland', '43598', '44007', '409', '0.9', '609', '616', '7', '1.1']\n",
      "['2020.12', 'BDCQ.SED1RA', 'Northland', '67629', '68137', '508', '0.8', '974', '982', '8', '0.8']\n",
      "['2020.12', 'BDCQ.SED1RB', 'Auckland', '713636', '721492', '7856', '1.1', '12597', '12738', '141', '1.1']\n",
      "['2020.12', 'BDCQ.SED1RC', 'Waikato', '203030', '204389', '1359', '0.7', '3105', '3125', '20', '0.6']\n",
      "['2020.12', 'BDCQ.SED1RD', 'Bay of Plenty', '130557', '132364', '1807', '1.4', '1921', '1950', '29', '1.5']\n",
      "['2020.12', 'BDCQ.SED1RE', 'Gisborne', '21450', '21638', '188', '0.9', '286', '289', '3', '1']\n",
      "['2020.12', 'BDCQ.SED1RF', \"Hawke's Bay\", '74413', '75220', '807', '1.1', '1057', '1069', '12', '1.1']\n",
      "['2020.12', 'BDCQ.SED1RG', 'Taranaki', '50073', '50570', '497', '1', '761', '770', '9', '1.2']\n",
      "['2020.12', 'BDCQ.SED1RH', 'Manawatu-Whanganui', '104474', '105209', '735', '0.7', '1484', '1493', '9', '0.6']\n",
      "['2020.12', 'BDCQ.SED1RI', 'Wellington', '241506', '243161', '1655', '0.7', '4356', '4381', '25', '0.6']\n",
      "['2020.12', 'BDCQ.SED1RJ', 'Tasman', '22794', '22987', '193', '0.8', '309', '312', '3', '1']\n",
      "['2020.12', 'BDCQ.SED1RK', 'Nelson', '19480', '19605', '125', '0.6', '273', '276', '3', '1.1']\n",
      "['2020.12', 'BDCQ.SED1RL', 'Marlborough', '25074', '25179', '105', '0.4', '352', '352', '0', '0']\n",
      "['2020.12', 'BDCQ.SED1RM', 'West Coast', '13974', '13970', '-4', '0', '196', '196', '0', '0']\n",
      "['2020.12', 'BDCQ.SED1RN', 'Canterbury', '278420', '282281', '3861', '1.4', '4266', '4325', '59', '1.4']\n",
      "['2020.12', 'BDCQ.SED1RO', 'Otago', '104841', '105684', '843', '0.8', '1503', '1514', '11', '0.7']\n",
      "['2020.12', 'BDCQ.SED1RP', 'Southland', '45280', '45689', '409', '0.9', '643', '648', '5', '0.8']\n",
      "['2021.03', 'BDCQ.SED1RA', 'Northland', '67128', '67640', '512', '0.8', '950', '958', '8', '0.8']\n",
      "['2021.03', 'BDCQ.SED1RB', 'Auckland', '708896', '715771', '6875', '1', '12466', '12586', '120', '1']\n",
      "['2021.03', 'BDCQ.SED1RC', 'Waikato', '202584', '203703', '1119', '0.6', '3039', '3055', '16', '0.5']\n",
      "['2021.03', 'BDCQ.SED1RD', 'Bay of Plenty', '130306', '131440', '1134', '0.9', '1896', '1915', '19', '1']\n",
      "['2021.03', 'BDCQ.SED1RE', 'Gisborne', '21616', '21790', '174', '0.8', '285', '288', '3', '1.1']\n",
      "['2021.03', 'BDCQ.SED1RF', \"Hawke's Bay\", '75658', '76359', '701', '0.9', '1073', '1084', '11', '1']\n",
      "['2021.03', 'BDCQ.SED1RG', 'Taranaki', '50405', '50758', '353', '0.7', '754', '760', '6', '0.8']\n",
      "['2021.03', 'BDCQ.SED1RH', 'Manawatu-Whanganui', '104144', '104706', '562', '0.5', '1461', '1467', '6', '0.4']\n",
      "['2021.03', 'BDCQ.SED1RI', 'Wellington', '239815', '241057', '1242', '0.5', '4452', '4475', '23', '0.5']\n",
      "['2021.03', 'BDCQ.SED1RJ', 'Tasman', '22914', '23104', '190', '0.8', '311', '314', '3', '1']\n",
      "['2021.03', 'BDCQ.SED1RK', 'Nelson', '19382', '19525', '143', '0.7', '271', '274', '3', '1.1']\n",
      "['2021.03', 'BDCQ.SED1RL', 'Marlborough', '25005', '25099', '94', '0.4', '351', '351', '0', '0']\n",
      "['2021.03', 'BDCQ.SED1RM', 'West Coast', '13900', '13910', '10', '0.1', '194', '193', '-1', '-0.5']\n",
      "['2021.03', 'BDCQ.SED1RN', 'Canterbury', '277381', '280156', '2775', '1', '4196', '4239', '43', '1']\n",
      "['2021.03', 'BDCQ.SED1RO', 'Otago', '104361', '105359', '998', '1', '1486', '1500', '14', '0.9']\n",
      "['2021.03', 'BDCQ.SED1RP', 'Southland', '45855', '46351', '496', '1.1', '645', '653', '8', '1.2']\n",
      "['2021.06', 'BDCQ.SED1RA', 'Northland', '68288', '69064', '776', '1.1', '1001', '1015', '14', '1.4']\n",
      "['2021.06', 'BDCQ.SED1RB', 'Auckland', '720874', '729746', '8872', '1.2', '12972', '13136', '164', '1.3']\n",
      "['2021.06', 'BDCQ.SED1RC', 'Waikato', '204615', '206487', '1872', '0.9', '3170', '3197', '27', '0.9']\n",
      "['2021.06', 'BDCQ.SED1RD', 'Bay of Plenty', '134675', '136353', '1678', '1.2', '2046', '2076', '30', '1.5']\n",
      "['2021.06', 'BDCQ.SED1RE', 'Gisborne', '21455', '21893', '438', '2', '291', '297', '6', '2.1']\n",
      "['2021.06', 'BDCQ.SED1RF', \"Hawke's Bay\", '76083', '76894', '811', '1.1', '1128', '1141', '13', '1.2']\n",
      "['2021.06', 'BDCQ.SED1RG', 'Taranaki', '50626', '51256', '630', '1.2', '789', '801', '12', '1.5']\n",
      "['2021.06', 'BDCQ.SED1RH', 'Manawatu-Whanganui', '104227', '105614', '1387', '1.3', '1500', '1520', '20', '1.3']\n",
      "['2021.06', 'BDCQ.SED1RI', 'Wellington', '239064', '243770', '4706', '2', '4360', '4478', '118', '2.7']\n",
      "['2021.06', 'BDCQ.SED1RJ', 'Tasman', '22883', '23119', '236', '1', '320', '324', '4', '1.3']\n",
      "['2021.06', 'BDCQ.SED1RK', 'Nelson', '19398', '19543', '145', '0.7', '278', '282', '4', '1.4']\n",
      "['2021.06', 'BDCQ.SED1RL', 'Marlborough', '24942', '25091', '149', '0.6', '361', '362', '1', '0.3']\n",
      "['2021.06', 'BDCQ.SED1RM', 'West Coast', '13745', '13920', '175', '1.3', '195', '198', '3', '1.5']\n",
      "['2021.06', 'BDCQ.SED1RN', 'Canterbury', '279418', '283782', '4364', '1.6', '4341', '4409', '68', '1.6']\n",
      "['2021.06', 'BDCQ.SED1RO', 'Otago', '104201', '105559', '1358', '1.3', '1531', '1550', '19', '1.2']\n",
      "['2021.06', 'BDCQ.SED1RP', 'Southland', '45261', '45736', '475', '1', '657', '665', '8', '1.2']\n",
      "['2021.09', 'BDCQ.SED1RA', 'Northland', '68905', '69401', '496', '0.7', '1012', '1020', '8', '0.8']\n",
      "['2021.09', 'BDCQ.SED1RB', 'Auckland', '725395', '734238', '8843', '1.2', '13299', '13457', '158', '1.2']\n",
      "['2021.09', 'BDCQ.SED1RC', 'Waikato', '206530', '208279', '1749', '0.8', '3238', '3264', '26', '0.8']\n",
      "['2021.09', 'BDCQ.SED1RD', 'Bay of Plenty', '132652', '134022', '1370', '1', '2030', '2053', '23', '1.1']\n",
      "['2021.09', 'BDCQ.SED1RE', 'Gisborne', '21102', '21501', '399', '1.9', '295', '300', '5', '1.7']\n",
      "['2021.09', 'BDCQ.SED1RF', \"Hawke's Bay\", '74836', '75505', '669', '0.9', '1103', '1114', '11', '1']\n",
      "['2021.09', 'BDCQ.SED1RG', 'Taranaki', '51002', '51448', '446', '0.9', '781', '789', '8', '1']\n",
      "['2021.09', 'BDCQ.SED1RH', 'Manawatu-Whanganui', '105139', '106029', '890', '0.8', '1525', '1540', '15', '1']\n",
      "['2021.09', 'BDCQ.SED1RI', 'Wellington', '242981', '244981', '2000', '0.8', '4624', '4656', '32', '0.7']\n",
      "['2021.09', 'BDCQ.SED1RJ', 'Tasman', '22778', '23065', '287', '1.3', '322', '326', '4', '1.2']\n",
      "['2021.09', 'BDCQ.SED1RK', 'Nelson', '19423', '19647', '224', '1.2', '282', '287', '5', '1.8']\n",
      "['2021.09', 'BDCQ.SED1RL', 'Marlborough', '24881', '25166', '285', '1.1', '359', '363', '4', '1.1']\n",
      "['2021.09', 'BDCQ.SED1RM', 'West Coast', '13685', '13771', '86', '0.6', '196', '197', '1', '0.5']\n",
      "['2021.09', 'BDCQ.SED1RN', 'Canterbury', '282838', '285722', '2884', '1', '4450', '4494', '44', '1']\n",
      "['2021.09', 'BDCQ.SED1RO', 'Otago', '104818', '105885', '1067', '1', '1549', '1564', '15', '1']\n",
      "['2021.09', 'BDCQ.SED1RP', 'Southland', '44758', '45207', '449', '1', '641', '650', '9', '1.4']\n",
      "['2021.12', 'BDCQ.SED1RA', 'Northland', '71012', '71494', '482', '0.7', '1093', '1102', '9', '0.8']\n",
      "['2021.12', 'BDCQ.SED1RB', 'Auckland', '741145', '748627', '7482', '1', '13977', '14131', '154', '1.1']\n",
      "['2021.12', 'BDCQ.SED1RC', 'Waikato', '212340', '213543', '1203', '0.6', '3475', '3495', '20', '0.6']\n",
      "['2021.12', 'BDCQ.SED1RD', 'Bay of Plenty', '137090', '137993', '903', '0.7', '2174', '2191', '17', '0.8']\n",
      "['2021.12', 'BDCQ.SED1RE', 'Gisborne', '22116', '22336', '220', '1', '319', '322', '3', '0.9']\n",
      "['2021.12', 'BDCQ.SED1RF', \"Hawke's Bay\", '77231', '78013', '782', '1', '1189', '1201', '12', '1']\n",
      "['2021.12', 'BDCQ.SED1RG', 'Taranaki', '52263', '52718', '455', '0.9', '842', '849', '7', '0.8']\n",
      "['2021.12', 'BDCQ.SED1RH', 'Manawatu-Whanganui', '108016', '108719', '703', '0.7', '1639', '1646', '7', '0.4']\n",
      "['2021.12', 'BDCQ.SED1RI', 'Wellington', '248776', '250317', '1541', '0.6', '4823', '4849', '26', '0.5']\n",
      "['2021.12', 'BDCQ.SED1RJ', 'Tasman', '23415', '23741', '326', '1.4', '341', '345', '4', '1.2']\n",
      "['2021.12', 'BDCQ.SED1RK', 'Nelson', '19947', '20108', '161', '0.8', '300', '304', '4', '1.3']\n",
      "['2021.12', 'BDCQ.SED1RL', 'Marlborough', '25563', '25793', '230', '0.9', '384', '386', '2', '0.5']\n",
      "['2021.12', 'BDCQ.SED1RM', 'West Coast', '14215', '14251', '36', '0.3', '212', '214', '2', '0.9']\n",
      "['2021.12', 'BDCQ.SED1RN', 'Canterbury', '289799', '292743', '2944', '1', '4734', '4782', '48', '1']\n",
      "['2021.12', 'BDCQ.SED1RO', 'Otago', '107466', '108500', '1034', '1', '1655', '1669', '14', '0.8']\n",
      "['2021.12', 'BDCQ.SED1RP', 'Southland', '46478', '46808', '330', '0.7', '700', '706', '6', '0.9']\n",
      "['2022.03', 'BDCQ.SED1RA', 'Northland', '69868', '70477', '609', '0.9', '1056', '1070', '14', '1.3']\n",
      "['2022.03', 'BDCQ.SED1RB', 'Auckland', '735186', '741891', '6705', '0.9', '13788', '14022', '234', '1.7']\n",
      "['2022.03', 'BDCQ.SED1RC', 'Waikato', '210543', '211775', '1232', '0.6', '3391', '3410', '19', '0.6']\n",
      "['2022.03', 'BDCQ.SED1RD', 'Bay of Plenty', '134796', '135832', '1036', '0.8', '2113', '2130', '17', '0.8']\n",
      "['2022.03', 'BDCQ.SED1RE', 'Gisborne', '21580', '22122', '542', '2.5', '304', '311', '7', '2.3']\n",
      "['2022.03', 'BDCQ.SED1RF', \"Hawke's Bay\", '78010', '78447', '437', '0.6', '1189', '1198', '9', '0.8']\n",
      "['2022.03', 'BDCQ.SED1RG', 'Taranaki', '51791', '52263', '472', '0.9', '823', '829', '6', '0.7']\n",
      "['2022.03', 'BDCQ.SED1RH', 'Manawatu-Whanganui', '107205', '107814', '609', '0.6', '1596', '1602', '6', '0.4']\n",
      "['2022.03', 'BDCQ.SED1RI', 'Wellington', '246085', '247613', '1528', '0.6', '4712', '4741', '29', '0.6']\n",
      "['2022.03', 'BDCQ.SED1RJ', 'Tasman', '23527', '23750', '223', '0.9', '344', '347', '3', '0.9']\n",
      "['2022.03', 'BDCQ.SED1RK', 'Nelson', '19747', '19823', '76', '0.4', '296', '299', '3', '1']\n",
      "['2022.03', 'BDCQ.SED1RL', 'Marlborough', '25368', '25592', '224', '0.9', '380', '382', '2', '0.5']\n",
      "['2022.03', 'BDCQ.SED1RM', 'West Coast', '14056', '14118', '62', '0.4', '207', '209', '2', '1']\n",
      "['2022.03', 'BDCQ.SED1RN', 'Canterbury', '286920', '289628', '2708', '0.9', '4607', '4650', '43', '0.9']\n",
      "['2022.03', 'BDCQ.SED1RO', 'Otago', '106680', '107815', '1135', '1.1', '1625', '1640', '15', '0.9']\n",
      "['2022.03', 'BDCQ.SED1RP', 'Southland', '46787', '47114', '327', '0.7', '697', '703', '6', '0.9']\n",
      "['2022.06', 'BDCQ.SED1RA', 'Northland', '70390', '71012', '622', '0.9', '1108', '1119', '11', '1']\n",
      "['2022.06', 'BDCQ.SED1RB', 'Auckland', '738297', '747141', '8844', '1.2', '14234', '14423', '189', '1.3']\n",
      "['2022.06', 'BDCQ.SED1RC', 'Waikato', '211521', '213038', '1517', '0.7', '3502', '3531', '29', '0.8']\n",
      "['2022.06', 'BDCQ.SED1RD', 'Bay of Plenty', '138518', '140067', '1549', '1.1', '2236', '2265', '29', '1.3']\n",
      "['2022.06', 'BDCQ.SED1RE', 'Gisborne', '21828', '22211', '383', '1.8', '316', '322', '6', '1.9']\n",
      "['2022.06', 'BDCQ.SED1RF', \"Hawke's Bay\", '78682', '79212', '530', '0.7', '1244', '1252', '8', '0.6']\n",
      "['2022.06', 'BDCQ.SED1RG', 'Taranaki', '51872', '52310', '438', '0.8', '865', '872', '7', '0.8']\n",
      "['2022.06', 'BDCQ.SED1RH', 'Manawatu-Whanganui', '106806', '107554', '748', '0.7', '1645', '1655', '10', '0.6']\n",
      "['2022.06', 'BDCQ.SED1RI', 'Wellington', '246674', '248666', '1992', '0.8', '4820', '4870', '50', '1']\n",
      "['2022.06', 'BDCQ.SED1RJ', 'Tasman', '23906', '24165', '259', '1.1', '358', '362', '4', '1.1']\n",
      "['2022.06', 'BDCQ.SED1RK', 'Nelson', '19803', '19868', '65', '0.3', '302', '304', '2', '0.7']\n",
      "['2022.06', 'BDCQ.SED1RL', 'Marlborough', '25264', '25440', '176', '0.7', '390', '391', '1', '0.3']\n",
      "['2022.06', 'BDCQ.SED1RM', 'West Coast', '14045', '14059', '14', '0.1', '213', '213', '0', '0']\n",
      "['2022.06', 'BDCQ.SED1RN', 'Canterbury', '288387', '291078', '2691', '0.9', '4762', '4809', '47', '1']\n",
      "['2022.06', 'BDCQ.SED1RO', 'Otago', '106111', '107108', '997', '0.9', '1660', '1676', '16', '1']\n",
      "['2022.06', 'BDCQ.SED1RP', 'Southland', '45514', '45919', '405', '0.9', '699', '707', '8', '1.1']\n",
      "['2022.09', 'BDCQ.SED1RA', 'Northland', '70417', '71031', '614', '0.9', '1114', '1124', '10', '0.9']\n",
      "['2022.09', 'BDCQ.SED1RB', 'Auckland', '741564', '749147', '7583', '1', '14631', '14783', '152', '1']\n",
      "['2022.09', 'BDCQ.SED1RC', 'Waikato', '212557', '213928', '1371', '0.6', '3588', '3614', '26', '0.7']\n",
      "['2022.09', 'BDCQ.SED1RD', 'Bay of Plenty', '136246', '137396', '1150', '0.8', '2239', '2258', '19', '0.8']\n",
      "['2022.09', 'BDCQ.SED1RE', 'Gisborne', '21695', '21962', '267', '1.2', '321', '325', '4', '1.2']\n",
      "['2022.09', 'BDCQ.SED1RF', \"Hawke's Bay\", '76353', '76934', '581', '0.8', '1213', '1224', '11', '0.9']\n",
      "['2022.09', 'BDCQ.SED1RG', 'Taranaki', '52067', '52511', '444', '0.9', '852', '860', '8', '0.9']\n",
      "['2022.09', 'BDCQ.SED1RH', 'Manawatu-Whanganui', '107216', '108118', '902', '0.8', '1651', '1664', '13', '0.8']\n",
      "['2022.09', 'BDCQ.SED1RI', 'Wellington', '246959', '249410', '2451', '1', '4975', '5032', '57', '1.1']\n",
      "['2022.09', 'BDCQ.SED1RJ', 'Tasman', '23446', '23589', '143', '0.6', '357', '359', '2', '0.6']\n",
      "['2022.09', 'BDCQ.SED1RK', 'Nelson', '19682', '19884', '202', '1', '310', '314', '4', '1.3']\n",
      "['2022.09', 'BDCQ.SED1RL', 'Marlborough', '25156', '25342', '186', '0.7', '394', '396', '2', '0.5']\n",
      "['2022.09', 'BDCQ.SED1RM', 'West Coast', '13933', '13949', '16', '0.1', '212', '212', '0', '0']\n",
      "['2022.09', 'BDCQ.SED1RN', 'Canterbury', '290386', '292661', '2275', '0.8', '4900', '4942', '42', '0.9']\n",
      "['2022.09', 'BDCQ.SED1RO', 'Otago', '106694', '107716', '1022', '1', '1704', '1719', '15', '0.9']\n",
      "['2022.09', 'BDCQ.SED1RP', 'Southland', '45131', '45665', '534', '1.2', '697', '706', '9', '1.3']\n",
      "['2022.12', 'BDCQ.SED1RA', 'Northland', '72276', '72801', '525', '0.7', '1171', '1181', '10', '0.9']\n",
      "['2022.12', 'BDCQ.SED1RB', 'Auckland', '756716', '765991', '9275', '1.2', '15076', '15258', '182', '1.2']\n",
      "['2022.12', 'BDCQ.SED1RC', 'Waikato', '217715', '219366', '1651', '0.8', '3754', '3783', '29', '0.8']\n",
      "['2022.12', 'BDCQ.SED1RD', 'Bay of Plenty', '138254', '139879', '1625', '1.2', '2307', '2340', '33', '1.4']\n",
      "['2022.12', 'BDCQ.SED1RE', 'Gisborne', '21829', '22440', '611', '2.8', '326', '338', '12', '3.7']\n",
      "['2022.12', 'BDCQ.SED1RF', \"Hawke's Bay\", '77356', '78100', '744', '1', '1259', '1272', '13', '1']\n",
      "['2022.12', 'BDCQ.SED1RG', 'Taranaki', '52895', '53326', '431', '0.8', '898', '906', '8', '0.9']\n",
      "['2022.12', 'BDCQ.SED1RH', 'Manawatu-Whanganui', '108850', '109736', '886', '0.8', '1737', '1750', '13', '0.7']\n",
      "['2022.12', 'BDCQ.SED1RI', 'Wellington', '250305', '252045', '1740', '0.7', '5139', '5177', '38', '0.7']\n",
      "['2022.12', 'BDCQ.SED1RJ', 'Tasman', '24126', '24228', '102', '0.4', '371', '372', '1', '0.3']\n",
      "['2022.12', 'BDCQ.SED1RK', 'Nelson', '20192', '20324', '132', '0.7', '322', '325', '3', '0.9']\n",
      "['2022.12', 'BDCQ.SED1RL', 'Marlborough', '25707', '25909', '202', '0.8', '409', '413', '4', '1']\n",
      "['2022.12', 'BDCQ.SED1RM', 'West Coast', '14315', '14347', '32', '0.2', '226', '227', '1', '0.4']\n",
      "['2022.12', 'BDCQ.SED1RN', 'Canterbury', '296998', '299921', '2923', '1', '5113', '5161', '48', '0.9']\n",
      "['2022.12', 'BDCQ.SED1RO', 'Otago', '109243', '110509', '1266', '1.2', '1784', '1803', '19', '1.1']\n",
      "['2022.12', 'BDCQ.SED1RP', 'Southland', '46964', '47437', '473', '1', '752', '760', '8', '1.1']\n"
     ]
    }
   ],
   "source": [
    "# import csv module to work with csv file\n",
    "import csv\n",
    "# open the file in read format using open()\n",
    "with open('business_data.csv', 'r') as read_obj:\n",
    "    # read csv file using reader()\n",
    "    reader = csv.reader(read_obj)\n",
    "    # convert the read data into list using list()\n",
    "    list1 = list(reader)\n",
    "    # print the list\n",
    "    print(\"List is - \", list1)\n",
    "    print(\"Data in list of list -\")\n",
    "    # iterate over each element of list and print it\n",
    "    for i in list1:\n",
    "        print(i)"
   ]
  },
  {
   "cell_type": "markdown",
   "metadata": {},
   "source": [
    "## List Based Practice Problem :"
   ]
  },
  {
   "cell_type": "markdown",
   "metadata": {},
   "source": [
    "##### 1. Create a list with integers from 1 to 10."
   ]
  },
  {
   "cell_type": "code",
   "execution_count": 45,
   "metadata": {},
   "outputs": [
    {
     "name": "stdout",
     "output_type": "stream",
     "text": [
      "List is  [1, 2, 3, 4, 5, 6, 7, 8, 9, 10]\n"
     ]
    }
   ],
   "source": [
    "# create a list from 1 to 10 using list comprehension method\n",
    "l = [i for i in range(1,11)]\n",
    "# print the list\n",
    "print(\"List is \",l)"
   ]
  },
  {
   "cell_type": "markdown",
   "metadata": {},
   "source": [
    "##### 2. Find the length of a list without using the `len()` function.\n"
   ]
  },
  {
   "cell_type": "code",
   "execution_count": 46,
   "metadata": {},
   "outputs": [
    {
     "name": "stdout",
     "output_type": "stream",
     "text": [
      "Entered list - ['1', '2', '3', '4', '5', '6']\n",
      "length of list - 6\n"
     ]
    }
   ],
   "source": [
    "# take space seperated values and split them as elements using slipt() and store the output in variable as list\n",
    "l = input(\"Enter space seperated values as elements in list\").split()\n",
    "# initialize a variable to store length of list\n",
    "length = 0\n",
    "# print initial list\n",
    "print(\"Entered list -\", l)\n",
    "# iterate over elements of list\n",
    "for i in l:\n",
    "    # increase the value of the length variable by 1 in each iteration\n",
    "    length += 1\n",
    "# print the output length\n",
    "print(\"length of list -\", length)\n"
   ]
  },
  {
   "cell_type": "markdown",
   "metadata": {},
   "source": [
    "##### 3. Append an element to the end of a list.\n"
   ]
  },
  {
   "cell_type": "code",
   "execution_count": 47,
   "metadata": {},
   "outputs": [
    {
     "name": "stdout",
     "output_type": "stream",
     "text": [
      "Entered list - ['1', '2', '3', '4', '5', '6', '7', '8']\n",
      "List after appending the element - ['1', '2', '3', '4', '5', '6', '7', '8', 'fghj']\n"
     ]
    }
   ],
   "source": [
    "# take space seperated values and split them as elements using slipt() and store the output in variable as list\n",
    "l = input(\"Enter space seperated values as elements in list\").split()\n",
    "# take input from user for element to be apppend using input()\n",
    "element = input(\"Enter element\")\n",
    "# print initial list\n",
    "print(\"Entered list -\", l)\n",
    "# append the input element in list using append()\n",
    "l.append(element)\n",
    "# print the list after appending the element\n",
    "print(\"List after appending the element -\", l)"
   ]
  },
  {
   "cell_type": "markdown",
   "metadata": {},
   "source": [
    "##### 4. Insert an element at a specific index in a list.\n"
   ]
  },
  {
   "cell_type": "code",
   "execution_count": 49,
   "metadata": {},
   "outputs": [
    {
     "name": "stdout",
     "output_type": "stream",
     "text": [
      "Entered list - ['12', '3', '4', '5', '6', '3', '6']\n",
      "List after inserting the element - ['12', '3', '4', 'abc', '5', '6', '3', '6']\n"
     ]
    }
   ],
   "source": [
    "# take input from user for n using input() then convert it into integer using int()\n",
    "l = input(\"Enter space seperated values as elements in list\").split()\n",
    "# take input from user for element to be insert using input()\n",
    "element = input(\"Enter element\")\n",
    "# take input from user for index at which element is to be insert using input()\n",
    "index = int(input(\"enter the index at which element is inserted\"))\n",
    "# print input list\n",
    "print(\"Entered list -\", l)\n",
    "# insert the element in list at index 'index' using insert()\n",
    "l.insert(index, element)\n",
    "# print the list\n",
    "print(\"List after inserting the element -\", l)"
   ]
  },
  {
   "cell_type": "markdown",
   "metadata": {},
   "source": [
    "##### 5. Remove an element from a list by its value.\n"
   ]
  },
  {
   "cell_type": "code",
   "execution_count": 51,
   "metadata": {},
   "outputs": [
    {
     "name": "stdout",
     "output_type": "stream",
     "text": [
      "Entered list - ['a', 's', 'd', 'f', 'g', 'h', 'j', 'k', 'l']\n",
      "element needed to be removed d\n",
      "List after removing the element - ['a', 's', 'f', 'g', 'h', 'j', 'k', 'l']\n"
     ]
    }
   ],
   "source": [
    "# take space seperated values and split them as elements using slipt() and store the output in variable as list\n",
    "l = input(\"Enter space seperated values as elements in list\").split()\n",
    "# take input from user for element to be removed using input()\n",
    "element = input(\"Enter element\")\n",
    "# print the initial list and element\n",
    "print(\"Entered list -\", l)\n",
    "print(\"element needed to be removed\", element)\n",
    "# remove the element from list using remove()\n",
    "l.remove(element)\n",
    "# print the list after removal of word.\n",
    "print(\"List after removing the element -\", l)"
   ]
  },
  {
   "cell_type": "markdown",
   "metadata": {},
   "source": [
    "##### 6. Remove an element from a list by its index."
   ]
  },
  {
   "cell_type": "code",
   "execution_count": 56,
   "metadata": {},
   "outputs": [
    {
     "name": "stdout",
     "output_type": "stream",
     "text": [
      "Entered list - ['a', 's', 'd', 'f', 'g', 'h', 'j', 'k', 'l', '2']\n",
      "index on which element is needed to be removed -  4\n",
      "List after removing the element - ['a', 's', 'd', 'f', 'h', 'j', 'k', 'l', '2']\n"
     ]
    }
   ],
   "source": [
    "# take space seperated values and split them as elements using slipt() and store the output in variable as list\n",
    "l = input(\"Enter space seperated values as elements in list\").split()\n",
    "# take input from user for index at which element is to be removed using input()\n",
    "index = int(input(\"Enter index\"))\n",
    "# print the initial list and index\n",
    "print(\"Entered list -\", l)\n",
    "print(\"index on which element is needed to be removed - \", index)\n",
    "# remove the element at index using pop()\n",
    "l.pop(index)\n",
    "# print list\n",
    "print(\"List after removing the element -\", l)"
   ]
  },
  {
   "cell_type": "markdown",
   "metadata": {},
   "source": [
    "##### 7. Check if an element exists in a list."
   ]
  },
  {
   "cell_type": "code",
   "execution_count": 4,
   "metadata": {},
   "outputs": [
    {
     "name": "stdout",
     "output_type": "stream",
     "text": [
      "entered list - ['a', 'g', 'h', 'd', 's', 'g', 'yu', 'li']\n",
      "entered element - a\n",
      "element exists in list\n"
     ]
    }
   ],
   "source": [
    "# take space seperated values and split them as elements using slipt() and store the output in variable as list\n",
    "l = input(\"Enter space seperated values as elements in list\").split()\n",
    "# take input from user for element to be searched using input()\n",
    "element = input(\"Enter element\")\n",
    "# print initial list and element entered\n",
    "print(\"entered list -\", l)\n",
    "print(\"entered element -\", element)\n",
    "# check if element exists in list using 'in' operator and print the result accordingly\n",
    "print(\"element exists in list\") if element in l else print(\"element does not exist in list\")"
   ]
  },
  {
   "cell_type": "markdown",
   "metadata": {},
   "source": [
    "##### 8. Find the index of the first occurrence of an element in a list."
   ]
  },
  {
   "cell_type": "code",
   "execution_count": 5,
   "metadata": {},
   "outputs": [
    {
     "name": "stdout",
     "output_type": "stream",
     "text": [
      "entered list - ['a', 'fr', 'y', 'e', 'g', 'j', 'rf', 'y']\n",
      "entered element - y\n",
      "index of element -  2\n"
     ]
    }
   ],
   "source": [
    "# take space seperated values and split them as elements using slipt() and store the output in variable as list\n",
    "l = input(\"Enter space seperated values as elements in list\").split()\n",
    "# take input from user for element whose first occurence is need to be find.\n",
    "element = input(\"Enter element\")\n",
    "# print the initial list and  element\n",
    "print(\"entered list -\", l)\n",
    "print(\"entered element -\", element)\n",
    "# we can find the first occurence of element using index() and print the result\n",
    "print(\"index of element - \", l.index(element))"
   ]
  },
  {
   "cell_type": "markdown",
   "metadata": {},
   "source": [
    "##### 9. Count the occurrences of an element in a list."
   ]
  },
  {
   "cell_type": "code",
   "execution_count": 60,
   "metadata": {},
   "outputs": [
    {
     "name": "stdout",
     "output_type": "stream",
     "text": [
      "entered string - ['a', 's', 'd', 's', 'd', 'f', 's', 'd', 'g', 'h', 'j']\n",
      "entered element - s\n",
      "occurenced of element -  3\n"
     ]
    }
   ],
   "source": [
    "# take space seperated values and split them as elements using slipt() and store the output in variable as list\n",
    "l = input(\"Enter space seperated values as elements in list\").split()\n",
    "# take input from user for element whose  occurences  needed to be find.\n",
    "element = input(\"Enter element\")\n",
    "# print the entered list and element\n",
    "print(\"entered list -\", l)\n",
    "print(\"entered element -\", element)\n",
    "# count the frequency of element using count() and print it.\n",
    "print(\"occurenced of element - \", l.count(element))"
   ]
  },
  {
   "cell_type": "markdown",
   "metadata": {},
   "source": [
    "##### 10. Reverse the order of elements in a list."
   ]
  },
  {
   "cell_type": "code",
   "execution_count": 6,
   "metadata": {},
   "outputs": [
    {
     "name": "stdout",
     "output_type": "stream",
     "text": [
      "entered list - ['2', '4', '7', '1', '4', '2', '7', '09']\n",
      "New list - ['09', '7', '2', '4', '1', '7', '4', '2']\n"
     ]
    }
   ],
   "source": [
    "# take space seperated values and split them as elements using slipt() and store the output in variable as list\n",
    "l = input(\"Enter space seperated values as elements in list\").split()\n",
    "# print the initial list\n",
    "print(\"entered list -\", l)\n",
    "# reverse the list using reversed() and convert it into list using list()\n",
    "new_list = list(reversed(l))\n",
    "# print the new list\n",
    "print(\"New list -\", new_list)"
   ]
  },
  {
   "cell_type": "markdown",
   "metadata": {},
   "source": [
    "##### 11. Sort a list in ascending order."
   ]
  },
  {
   "cell_type": "code",
   "execution_count": 65,
   "metadata": {},
   "outputs": [
    {
     "name": "stdout",
     "output_type": "stream",
     "text": [
      "entered string - [1, 9, 6, 3, 5, 2, 6, 9, 8]\n",
      "Reverse order sorted list - [1, 2, 3, 5, 6, 6, 8, 9, 9]\n"
     ]
    }
   ],
   "source": [
    "# take space seperated values and split them as elements using slipt() and pass this output in map() to convert each variable in integer.\n",
    "# store the output in variable as list using list()\n",
    "l = list(map(int,input(\"Enter space seperated values as elements in list\").split()))\n",
    "# print the initial list\n",
    "print(\"entered list -\", l)\n",
    "# sort the list using sort()\n",
    "l.sort()\n",
    "# print the ordered list\n",
    "print(\"order sorted list -\", l)"
   ]
  },
  {
   "cell_type": "markdown",
   "metadata": {},
   "source": [
    "##### 12. Sort a list in descending order."
   ]
  },
  {
   "cell_type": "code",
   "execution_count": 66,
   "metadata": {},
   "outputs": [
    {
     "name": "stdout",
     "output_type": "stream",
     "text": [
      "entered string - [1, 2, 5, 3, 7, 4, 9, 3, 1]\n",
      "Reverse order sorted list - [9, 7, 5, 4, 3, 3, 2, 1, 1]\n"
     ]
    }
   ],
   "source": [
    "# take space seperated values and split them as elements using slipt() and pass this output in map() to convert each variable in integer.\n",
    "# store the output in variable as list using list()\n",
    "l = list(map(int,input(\"Enter space seperated values as elements in list\").split()))\n",
    "# print the initial list\n",
    "print(\"entered list -\", l)\n",
    "# sort the list using sort() and passing True in 'reverse' parameter\n",
    "l.sort(reverse= True)\n",
    "# print the Reversed ordered list\n",
    "print(\"Reverse order sorted list -\", l)"
   ]
  },
  {
   "cell_type": "markdown",
   "metadata": {},
   "source": [
    "##### 13. Create a list of even numbers from 1 to 20.\n"
   ]
  },
  {
   "cell_type": "code",
   "execution_count": 71,
   "metadata": {},
   "outputs": [
    {
     "name": "stdout",
     "output_type": "stream",
     "text": [
      "Even numbers list from 1 to 20 - [2, 4, 6, 8, 10, 12, 14, 16, 18, 20]\n"
     ]
    }
   ],
   "source": [
    "# create a list of even numbers by using list comprehension method,\n",
    "# here we execute a loop from 1 to 21 as loop runs upto (upper bound - 1)\n",
    "# and we check if element in this range is divisible by 2, if it is divisible we will include it in list\n",
    "l = [i for i in range(1, 21) if i%2 == 0]\n",
    "# print the list\n",
    "print(\"Even numbers list from 1 to 20 -\", l)"
   ]
  },
  {
   "cell_type": "markdown",
   "metadata": {},
   "source": [
    "##### 14. Create a list of odd numbers from 1 to 20.\n"
   ]
  },
  {
   "cell_type": "code",
   "execution_count": 72,
   "metadata": {},
   "outputs": [
    {
     "name": "stdout",
     "output_type": "stream",
     "text": [
      "Odd numbers list from 1 to 20 - [1, 3, 5, 7, 9, 11, 13, 15, 17, 19]\n"
     ]
    }
   ],
   "source": [
    "# create a list of odd numbers by using list comprehension method,\n",
    "# here we execute a loop from 1 to 21 as loop runs upto (upper bound - 1)\n",
    "# and we check if element in this range is not divisible by 2, if it is not divisible we will include it in list\n",
    "l = [i for i in range(1, 21) if i%2 == 1]\n",
    "# print the odd numbers list\n",
    "print(\"Odd numbers list from 1 to 20 -\", l)"
   ]
  },
  {
   "cell_type": "markdown",
   "metadata": {},
   "source": [
    "##### 15. Find the sum of all elements in a list.\n"
   ]
  },
  {
   "cell_type": "code",
   "execution_count": 4,
   "metadata": {},
   "outputs": [
    {
     "name": "stdout",
     "output_type": "stream",
     "text": [
      "entered list - [1, 2, 5, 23, 56, 89, 34, 12, 4]\n",
      "Sum of elements via function - 226\n",
      "Sum of element via loop - 226\n"
     ]
    }
   ],
   "source": [
    "# take space seperated values from user using input and split them on the basis of space using split() as elements of list\n",
    "# then convert each element into integer using map() and pass the output of map() to list() to convert it to list\n",
    "l = list(map(int,input(\"Enter space seperated values as elements in list\").split()))\n",
    "# print the input list\n",
    "print(\"entered list -\", l)\n",
    "# approach 1 : is to get sum of all elements of list using sum()\n",
    "print(\"Sum of elements via function -\", sum(l))\n",
    "''' \n",
    "approach 2 : \n",
    "initialize a variable to store sum of list elements\n",
    "iterate over each element of list and add the element to the variable initialized initially at each iteration\n",
    "'''\n",
    "s = 0\n",
    "for i in l:\n",
    "    s += i\n",
    "print(\"Sum of element via loop -\", s)"
   ]
  },
  {
   "cell_type": "markdown",
   "metadata": {},
   "source": [
    "##### 16. Find the maximum value in a list.\n"
   ]
  },
  {
   "cell_type": "code",
   "execution_count": 3,
   "metadata": {},
   "outputs": [
    {
     "name": "stdout",
     "output_type": "stream",
     "text": [
      "entered list - [1, 2, 5, 23, 56, 89, 34, 12, 4]\n",
      "Max value of list via function - 89\n",
      "Max value of list via loop - 89\n"
     ]
    }
   ],
   "source": [
    "# take space seperated values from user using input and split them on the basis of space using split() as elements of list\n",
    "# then convert each element into integer using map() and pass the output of map() to list() to convert it to list\n",
    "l = list(map(int,input(\"Enter space seperated values as elements in list\").split()))\n",
    "# print the input list\n",
    "print(\"entered list -\", l)\n",
    "''' \n",
    "appraoch 1 : we can use max() method to get the maximum value in list.\n",
    "'''\n",
    "print(\"Max value of list via function -\", max(l))\n",
    "''' \n",
    "approach 2 - we initialize a variable  'maxm' with value as 0. This variable will be used to store maximum element in list\n",
    "We iterate over each element in list and check if any element is greater than value of maxm variable then we store that element in maxm variable \n",
    "in each iteration.\n",
    "'''\n",
    "# initialize a variable to store maximum value\n",
    "maxm = 0\n",
    "# iterate throught the elements in list\n",
    "for i in l:\n",
    "    # check if current element is greater than maxm value then put the element in maxm variable\n",
    "    maxm = maxm if maxm>i else i\n",
    "# print the maximum value\n",
    "print(\"Max value of list via loop -\", maxm)"
   ]
  },
  {
   "cell_type": "markdown",
   "metadata": {},
   "source": [
    "##### 17. Find the minimum value in a list."
   ]
  },
  {
   "cell_type": "code",
   "execution_count": 2,
   "metadata": {},
   "outputs": [
    {
     "name": "stdout",
     "output_type": "stream",
     "text": [
      "entered list - [1, 2, 5, 23, 56, 89, 34, 12, 4]\n",
      "Minimum value of list via function - 1\n",
      "Minimum value of list via loop - 1\n"
     ]
    }
   ],
   "source": [
    "# take space seperated values from user using input and split them on the basis of space using split() as elements of list\n",
    "# then convert each element into integer using map() and pass the output of map() to list() to convert it to list\n",
    "l = list(map(int,input(\"Enter space seperated values as elements in list\").split()))\n",
    "# print input list\n",
    "print(\"entered list -\", l)\n",
    "''' \n",
    "appraoch 1 : we can use min() method to get the minimum value in list.\n",
    "'''\n",
    "print(\"Minimum value of list via function -\", min(l))\n",
    "''' \n",
    "approach 2 - we initialize a variable  'minm' with value as 1000000000000. This variable will be used to store minimum element in list\n",
    "We iterate over each element in list and check if any element is smaller than value of minm variable then we store that element in minm variable \n",
    "in each iteration.\n",
    "'''\n",
    "# initialize a variable to store minimum value\n",
    "minm = 1000000000000\n",
    "# iterate throught the elements in list\n",
    "for i in l:\n",
    "    # check if current element is smaller than minm value then put the element in minm variable\n",
    "    minm = minm if minm<i else i\n",
    "# print the minimum value\n",
    "print(\"Minimum value of list via loop -\", minm)"
   ]
  },
  {
   "cell_type": "markdown",
   "metadata": {},
   "source": [
    "##### 18. Create a list of squares of numbers from 1 to 10."
   ]
  },
  {
   "cell_type": "code",
   "execution_count": 78,
   "metadata": {},
   "outputs": [
    {
     "name": "stdout",
     "output_type": "stream",
     "text": [
      "List of squares -  [1, 4, 9, 16, 25, 36, 49, 64, 81, 100]\n"
     ]
    }
   ],
   "source": [
    "# create a list of numbers by using list comprehension method,\n",
    "# here we execute a loop from 1 to 11 as loop runs upto (upper bound - 1) and we put square of element at each iteration\n",
    "l = [i*i for i in range(1,11)]\n",
    "# print the list\n",
    "print(\"List of squares - \",l)"
   ]
  },
  {
   "cell_type": "markdown",
   "metadata": {},
   "source": [
    "##### 19. Create a list of random numbers."
   ]
  },
  {
   "cell_type": "code",
   "execution_count": 84,
   "metadata": {},
   "outputs": [
    {
     "name": "stdout",
     "output_type": "stream",
     "text": [
      "List -  [70, 93, 60, 33, 87, 25, 75, 63, 54, 63, 100, 62, 14, 16, 76]\n"
     ]
    }
   ],
   "source": [
    "# import random module. It is an in-built module of Python that is used to generate random numbers in Python. \n",
    "import random\n",
    "# take input length from user using input() and convert it into integer using int()\n",
    "length = int(input(\"enter length of list\"))\n",
    "# take two input values from user convert them into integer using map() \n",
    "# these two values are basically the upper bound and lower bound values for generating random values.\n",
    "# This is basically to tell user random values should be in this range only\n",
    "minm, maxm = map(int,input(\"enter range as space seperated value - min max for random numbers\").split())\n",
    "# we will generate a list of random values between min and max.\n",
    "# we will execute loop from 0 to length to keep the length of list as input by user\n",
    "# Random variables will be generated by using randint().\n",
    "# randint() function is used to generate the random integers between the two given numbers passed as parameters.\n",
    "l = [random.randint(minm, maxm) for i in range(length)]\n",
    "# print the list of random values\n",
    "print(\"List - \", l)"
   ]
  },
  {
   "cell_type": "markdown",
   "metadata": {},
   "source": [
    "##### 20. Remove duplicates from a list."
   ]
  },
  {
   "cell_type": "code",
   "execution_count": 87,
   "metadata": {},
   "outputs": [
    {
     "name": "stdout",
     "output_type": "stream",
     "text": [
      "entered string - ['1', '2', '4', '2', '4', '5', '3', '6', '2', '7', '4', '6', '7']\n",
      "After removing duplicates - ['1', '2', '4', '5', '3', '6', '7']\n"
     ]
    }
   ],
   "source": [
    "# take space seperated values and split them as elements using slipt() and store the output in variable as list\n",
    "l = input(\"Enter space seperated values as elements in list\").split()\n",
    "# print the input list\n",
    "print(\"entered list -\", l)\n",
    "# initialize an empty list to store unique values\n",
    "new_list = []\n",
    "# iterate over elements in list\n",
    "for i in l:\n",
    "    # check the element is not in new_list using `in` operator.\n",
    "    if i not in new_list:\n",
    "        # if condition satisfies , append the element in new_list\n",
    "        new_list.append(i)\n",
    "# print the list\n",
    "l = new_list\n",
    "print(\"After removing duplicates -\",l)"
   ]
  },
  {
   "cell_type": "markdown",
   "metadata": {},
   "source": [
    "##### 21. Find the common elements between two lists."
   ]
  },
  {
   "cell_type": "code",
   "execution_count": 6,
   "metadata": {},
   "outputs": [
    {
     "name": "stdout",
     "output_type": "stream",
     "text": [
      "entered list - ['1', '2', '3', '4', '5', '6']\n",
      "entered list - ['3', '4', '5', '6', '7']\n",
      "element which are common in both list - ['3', '4', '5', '6']\n"
     ]
    }
   ],
   "source": [
    "# take space seperated values and split them as elements using slipt() and store the output in variable as list1\n",
    "l1 = input(\"Enter space seperated values as elements in first list\").split()\n",
    "# take space seperated values and split them as elements using slipt() and store the output in variable as list1\n",
    "l2 = input(\"Enter space seperated values as elements in second list\").split()\n",
    "# print the input lists\n",
    "print(\"entered list -\", l1)\n",
    "print(\"entered list -\", l2)\n",
    "# initialize an empty list to store common values\n",
    "ans = []\n",
    "'''\n",
    "approach is : we will check each element of list1 if it is present in list2.\n",
    "if it is present in list two, it means it is common in both list\n",
    "'''\n",
    "# iterate over each elemnt of list1\n",
    "for i in l1:\n",
    "    # check if it exists in list2 using in operator and append it in ans list\n",
    "    if i in l2:\n",
    "        ans.append(i)\n",
    "# print the list os common elements.\n",
    "print(\"element which are common in both list -\", ans)"
   ]
  },
  {
   "cell_type": "markdown",
   "metadata": {},
   "source": [
    "##### 22. Find the difference between two lists."
   ]
  },
  {
   "cell_type": "code",
   "execution_count": 8,
   "metadata": {},
   "outputs": [
    {
     "name": "stdout",
     "output_type": "stream",
     "text": [
      "entered list - ['1', '2', '3', '4', '5']\n",
      "entered list - ['3', '4', '5', '6', '7', '8']\n",
      "element which are not common in both list - ['1', '2', '6', '7', '8']\n"
     ]
    }
   ],
   "source": [
    "# take space seperated values and split them as elements using slipt() and store the output in variable as list1\n",
    "l1 = input(\"Enter space seperated values as elements in first list\").split()\n",
    "# take space seperated values and split them as elements using slipt() and store the output in variable as list1\n",
    "l2 = input(\"Enter space seperated values as elements in second list\").split()\n",
    "# print the input lists\n",
    "print(\"entered list -\", l1)\n",
    "print(\"entered list -\", l2)\n",
    "''' \n",
    "approach is : we will check each element of list1 if it is not present in list2.\n",
    "if it is not present in list 2, we will append it in ans list. Same we do it again for list 2 elements\n",
    "we will check each element of list2 if it is not present in list2.\n",
    "if it is not present in list 1, we will append it in ans list.\n",
    "'''\n",
    "# initialize an empty list to store different values\n",
    "ans = []\n",
    "# iterate over each elemnt of list1\n",
    "for i in l1:\n",
    "    # check if it does not exist in list2 using in operator and append it in ans list\n",
    "    if i not in l2:\n",
    "        ans.append(i)\n",
    "# iterate over each elemnt of list2\n",
    "for i in l2:\n",
    "    # check if it does not exist in list1 using in operator and append it in ans list\n",
    "    if i not in l1:\n",
    "        ans.append(i)\n",
    "# print the list of different elements.\n",
    "print(\"element which are not common in both list -\", ans)"
   ]
  },
  {
   "cell_type": "markdown",
   "metadata": {},
   "source": [
    "##### 23. Merge two lists."
   ]
  },
  {
   "cell_type": "code",
   "execution_count": 9,
   "metadata": {},
   "outputs": [
    {
     "name": "stdout",
     "output_type": "stream",
     "text": [
      "first entered list - ['1', '2', '3', '4', '5']\n",
      "second entered list - ['6', '7', '8', '9']\n",
      "Merge using extend() -  ['1', '2', '3', '4', '5', '6', '7', '8', '9']\n",
      "Merge using for loop -  ['1', '2', '3', '4', '5', '6', '7', '8', '9']\n"
     ]
    }
   ],
   "source": [
    "# take space seperated values and split them as elements using slipt() and store the output in variable as list1\n",
    "l1 = input(\"Enter space seperated values as elements in first list\").split()\n",
    "# take space seperated values and split them as elements using slipt() and store the output in variable as list1\n",
    "l2 = input(\"Enter space seperated values as elements in second list\").split()\n",
    "# print the input lists\n",
    "print(\"first entered list -\", l1)\n",
    "print(\"second entered list -\", l2)\n",
    "''' \n",
    "approach 1 : using extend()\n",
    "we make copy of list1 as ans list. Then, we append the elemnts of list 2 in ans list using extend()\n",
    "extend() is used to append more than one elements of list in another list as individual elements. \n",
    "'''\n",
    "ans = l1.copy()\n",
    "ans.extend(l2)\n",
    "# print the merge list\n",
    "print(\"Merge using extend() - \", ans)\n",
    "''' \n",
    "approach 2 : iterate over each elemnt of list2 and append them one by one in list1\n",
    "'''\n",
    "for i in l2:\n",
    "    l1.append(i)\n",
    "# print the merge list\n",
    "print(\"Merge using for loop - \", ans)"
   ]
  },
  {
   "cell_type": "markdown",
   "metadata": {},
   "source": [
    "##### 24. Multiply all elements in a list by 2.\n"
   ]
  },
  {
   "cell_type": "code",
   "execution_count": 10,
   "metadata": {},
   "outputs": [
    {
     "name": "stdout",
     "output_type": "stream",
     "text": [
      "entered list - [1, 2, 3, 4, 5, 6, 7, 8]\n",
      "Output List - [2, 4, 6, 8, 10, 12, 14, 16]\n"
     ]
    }
   ],
   "source": [
    "# take space seperated values from user using input and split them on the basis of space using split() as elements of list\n",
    "# then convert each element into integer using map() and pass the output of map() to list() to convert it to list\n",
    "l = list(map(int,input(\"Enter space seperated values as elements in list\").split()))\n",
    "# print input list\n",
    "print(\"entered list -\", l)\n",
    "# we will use list comprehension, iterate over each element of list and \n",
    "# multiply each elemnt by 2 and put in list\n",
    "ans = [i*2 for i in l]\n",
    "# print the list\n",
    "l = ans\n",
    "print(\"Output List -\", l)"
   ]
  },
  {
   "cell_type": "markdown",
   "metadata": {},
   "source": [
    "##### 25. Filter out all even numbers from a list."
   ]
  },
  {
   "cell_type": "code",
   "execution_count": 11,
   "metadata": {},
   "outputs": [
    {
     "name": "stdout",
     "output_type": "stream",
     "text": [
      "entered list - [1, 2, 3, 4, 5, 6, 7, 8]\n",
      "all even numbers in entered List - [2, 4, 6, 8]\n"
     ]
    }
   ],
   "source": [
    "# take space seperated values from user using input and split them on the basis of space using split() as elements of list\n",
    "# then convert each element into integer using map() and pass the output of map() to list() to convert it to list\n",
    "l = list(map(int,input(\"Enter space seperated values as elements in list\").split()))\n",
    "# print the input list\n",
    "print(\"entered list -\", l)\n",
    "# use list comprehension, iterate over elements of list\n",
    "# if element is even, put it in list\n",
    "ans = [i for i in l if i%2==0]\n",
    "# print list of even numbers from input list \n",
    "print(\"all even numbers in entered List -\", ans)"
   ]
  },
  {
   "cell_type": "markdown",
   "metadata": {},
   "source": [
    "##### 26. Convert a list of strings to a list of integers."
   ]
  },
  {
   "cell_type": "code",
   "execution_count": 1,
   "metadata": {},
   "outputs": [
    {
     "name": "stdout",
     "output_type": "stream",
     "text": [
      "Entered list - ['1', '2', '3', '4', '5', '6']\n",
      "Output List - [1, 2, 3, 4, 5, 6]\n"
     ]
    }
   ],
   "source": [
    "# take space seperated values and split them as elements using slipt() and store the output in variable as list1\n",
    "l = input(\"Enter space seperated values as elements in list\").split()\n",
    "# print the input list\n",
    "print(\"Entered list -\", l)\n",
    "# convert each element into integer using map() and pass the output of map() to list() to convert it to list\n",
    "integer_list = list(map(int, l))\n",
    "# print the output list\n",
    "print(\"Output List -\", integer_list)"
   ]
  },
  {
   "cell_type": "markdown",
   "metadata": {},
   "source": [
    "##### 27. Convert a list of integers to a list of strings."
   ]
  },
  {
   "cell_type": "code",
   "execution_count": 2,
   "metadata": {},
   "outputs": [
    {
     "name": "stdout",
     "output_type": "stream",
     "text": [
      "List - [1, 2, 3, 4, 5, 6, 7, 8]\n",
      "Output List - ['1', '2', '3', '4', '5', '6', '7', '8']\n"
     ]
    }
   ],
   "source": [
    "# create a list of integers\n",
    "l = [1,2,3,4,5,6,7,8]\n",
    "print(\"List -\", l)\n",
    "# convert each element into string using map() and pass the output of map() to list() to convert it to list\n",
    "string_list = list(map(str, l))\n",
    "# print the list \n",
    "print(\"Output List -\", string_list)"
   ]
  },
  {
   "cell_type": "markdown",
   "metadata": {},
   "source": [
    "##### 28. Flatten a nested list."
   ]
  },
  {
   "cell_type": "code",
   "execution_count": 1,
   "metadata": {},
   "outputs": [
    {
     "name": "stdout",
     "output_type": "stream",
     "text": [
      "List to be flattened - [[1, 2, 3, 4], [6, 7, 8, 9], [10, 11, 12, 13]]\n",
      "Output List - [1, 2, 3, 4, 6, 7, 8, 9, 10, 11, 12, 13]\n"
     ]
    }
   ],
   "source": [
    "# create a 2-D list i.e. (lists inside list) or (nested list)\n",
    "l = [[1,2,3,4],[6,7,8,9],[10,11,12,13]]\n",
    "# print initial list\n",
    "print(\"List to be flattened -\",l)\n",
    "# initialize an empty list to store flattened list\n",
    "ans = []\n",
    "# iterate over each list inside the nested list\n",
    "for i in l:\n",
    "    # use extend to insert elements of list as individual elements using extend() function\n",
    "    ans.extend(i)\n",
    "# print the output list\n",
    "print(\"Output List -\",ans)\n"
   ]
  },
  {
   "cell_type": "markdown",
   "metadata": {},
   "source": [
    "##### 29. Create a list of the first 10 Fibonacci numbers.\n"
   ]
  },
  {
   "cell_type": "code",
   "execution_count": null,
   "metadata": {},
   "outputs": [],
   "source": [
    "# fibonacci series -  each element is sum of previous 2 numbers \n",
    "# This series starts from 0 followed by 1\n",
    "# initialize an empty list to store fibonacci numbers\n",
    "l = [] \n",
    "# append 0, 1 as first 2 fixed elemnts of fibanacci series\n",
    "l.append(0)\n",
    "l.append(1)\n",
    "# we need to ppend 10 fibonacci numbers, but we have already appended 2 elements\n",
    "# so we execute loop for 8 numbers only\n",
    "for i in range(0,8):\n",
    "    # append the sum of previous 2 numbers of list as next fibonacci number.\n",
    "    l.append(l[i-1]+l[i-2])\n",
    "# print the list \n",
    "print(\"List of first 10 fibonacci numbers\", l)"
   ]
  },
  {
   "cell_type": "markdown",
   "metadata": {},
   "source": [
    "##### 30. Check if a list is sorted."
   ]
  },
  {
   "cell_type": "code",
   "execution_count": 2,
   "metadata": {},
   "outputs": [
    {
     "name": "stdout",
     "output_type": "stream",
     "text": [
      "List is sorted\n"
     ]
    }
   ],
   "source": [
    "''' \n",
    "approach - to check list is sorted or not. We first sort the list and check if it's equal to initial list\n",
    "'''\n",
    "# take space seperated values and split them as elements using slipt() and store the output in variable as list1\n",
    "l = input(\"Enter space seperated values as elements in list\").split()\n",
    "# create a copy of input list\n",
    "l_new = l.copy()\n",
    "# sort the copied list\n",
    "l_new.sort()\n",
    "# check if they both are equal and print the result accordingly\n",
    "if l_new == l:\n",
    "    print(\"List is sorted\")\n",
    "else :\n",
    "    print(\"List is not sorted\")"
   ]
  },
  {
   "cell_type": "markdown",
   "metadata": {},
   "source": [
    "##### 31. Rotate a list to the left by `n` positions."
   ]
  },
  {
   "cell_type": "code",
   "execution_count": 22,
   "metadata": {},
   "outputs": [
    {
     "name": "stdout",
     "output_type": "stream",
     "text": [
      "Entered List - ['2', '3', '4', '5', '6', '7', '8', '9']\n",
      "List After Rotation - ['6', '7', '8', '9', '2', '3', '4', '5']\n"
     ]
    }
   ],
   "source": [
    "# take space seperated values and split them as elements using slipt() and store the output in variable as list1\n",
    "l = input(\"Enter space seperated values as elements in list\").split()\n",
    "# input the value of n using input() and convert it into integer using int()\n",
    "n = int(input(\"enter the value of n\"))\n",
    "# print the input list\n",
    "print(\"Entered List -\", l)\n",
    "# if n is greater than the length of input string then bring it into range between 0 to length of list \n",
    "n = n % len(l)\n",
    "''' \n",
    "approach - to rotate it to left by n positions, we simply take first n elements out of list and \n",
    "put those elements at the last of the list. We can do it by using slicing operator\n",
    "'''\n",
    "# take out first n elements\n",
    "l1 = l[0:n]\n",
    "# take out remaining element of list\n",
    "l2 = l[n:]\n",
    "# put the remaining elemnts of list in a list\n",
    "l = l2.copy()\n",
    "# then push the first n elements of the input list in the new list at the end using extend()\n",
    "l.extend(l1)\n",
    "# print the new list\n",
    "print(\"List After Rotation -\", l)"
   ]
  },
  {
   "cell_type": "markdown",
   "metadata": {},
   "source": [
    "##### 32. Rotate a list to the right by `n` positions.\n"
   ]
  },
  {
   "cell_type": "code",
   "execution_count": 23,
   "metadata": {},
   "outputs": [
    {
     "name": "stdout",
     "output_type": "stream",
     "text": [
      "Entered List - ['1', '2', '3', '4', '5', '6', '7', '8', '9', '0', '10']\n",
      "List after rotation - ['6', '7', '8', '9', '0', '10', '1', '2', '3', '4', '5']\n"
     ]
    }
   ],
   "source": [
    "# take space seperated values and split them as elements using slipt() and store the output in variable as list1\n",
    "l = input(\"Enter space seperated values as elements in list\").split()\n",
    "# input the value of n using input() and convert it into integer using int()\n",
    "n = int(input(\"enter the value of n\"))\n",
    "# print the input list\n",
    "print(\"Entered List -\", l)\n",
    "# calculate length of list using len()\n",
    "length = len(l)\n",
    "# if n is greater than the length of input string then bring it into range between 0 to length of list \n",
    "n = n % length\n",
    "''' \n",
    "approach - create a new list by taking last n elements out of the input list and take remaing elemnts of \n",
    "input list and push them at the last of newly created n-elements list\n",
    "we will do this using slicing operator.\n",
    "'''\n",
    "l1 = l[0:length-n]\n",
    "l2 = l[length - n:]\n",
    "l2.extend(l1)\n",
    "l = l2.copy()\n",
    "print(\"List after rotation -\", l)"
   ]
  },
  {
   "cell_type": "markdown",
   "metadata": {},
   "source": [
    "##### 33. Create a list of prime numbers up to 50.\n"
   ]
  },
  {
   "cell_type": "code",
   "execution_count": 14,
   "metadata": {},
   "outputs": [
    {
     "name": "stdout",
     "output_type": "stream",
     "text": [
      "Prime list - [2, 3, 5, 7, 11]\n"
     ]
    }
   ],
   "source": [
    "''' \n",
    "prime numbers are those numbers which are divisible by 1 or by itself.\n",
    "Note: 1 is not prime number\n",
    "'''\n",
    "def is_prime(num:int):\n",
    "    # execute a loop from 2 to num/2, if num is divisible by any of the number in this range, it will not be a prime number\n",
    "    for i in range(2,num//2+1):\n",
    "        # if num is divisible by i then it is not prime, so return False\n",
    "        if num%i==0 :\n",
    "            return False\n",
    "    return num>1\n",
    "# initialize an empty list to store prime values\n",
    "prime_list = list()\n",
    "# initialize a variable with 2 as we know 1 is not considered as prime\n",
    "i=2\n",
    "# run the loop until length of list is 5\n",
    "while len(prime_list)<5:\n",
    "    # if i is prime then add it into list\n",
    "    if is_prime(i):\n",
    "        prime_list.append(i)\n",
    "    # increase the value of i by 1 at each iteration\n",
    "    i+=1\n",
    "# print the resultant list\n",
    "print(\"Prime list -\", prime_list)\n"
   ]
  },
  {
   "cell_type": "markdown",
   "metadata": {},
   "source": [
    "##### 34. Split a list into chunks of size `n`."
   ]
  },
  {
   "cell_type": "code",
   "execution_count": 13,
   "metadata": {},
   "outputs": [
    {
     "name": "stdout",
     "output_type": "stream",
     "text": [
      "Entered List - ['1', '2', '3', '4', '5', '6', '7', '8', '9', '10', '11', '12', '13', '14', '15', '16', '17', '18', '19', '20']\n",
      "Chunks list - [['1', '2', '3', '4', '5', '6', '7'], ['8', '9', '10', '11', '12', '13', '14'], ['15', '16', '17', '18', '19', '20']]\n"
     ]
    }
   ],
   "source": [
    "# take space seperated values and split them as elements using slipt() and store the output in variable as list1\n",
    "l = input(\"Enter space seperated values as elements in list\").split()\n",
    "# take input value of n using input() and convert it into integer using int()\n",
    "n = int(input(\"enter the value of n\"))\n",
    "# print the input list\n",
    "print(\"Entered List -\", l)\n",
    "# calculate the length of list using len()\n",
    "length = len(l)\n",
    "# initialize empty list to store the chunks\n",
    "ans = []\n",
    "# intialize a pointer to point the start of every chunk\n",
    "pointer = 0\n",
    "''' \n",
    "approach - initially we point the pointer at start index of list, take elements from index - pointer to n+pointer\n",
    "to take the chunk of length n.\n",
    "Then increase the pointer by n at each iteration and repeat the same. \n",
    "\n",
    "'''\n",
    "while pointer<length:\n",
    "    ans.append(l[pointer:pointer+n])\n",
    "    pointer += n \n",
    "# print the list of chunks\n",
    "print(\"Chunks list -\", ans)\n",
    "\n"
   ]
  },
  {
   "cell_type": "markdown",
   "metadata": {},
   "source": [
    "##### 35. Find the second largest number in a list.\n"
   ]
  },
  {
   "cell_type": "code",
   "execution_count": 16,
   "metadata": {},
   "outputs": [
    {
     "name": "stdout",
     "output_type": "stream",
     "text": [
      "Entered List - [2, 14, 13, 18, 17]\n",
      "Second largest number - 17\n"
     ]
    }
   ],
   "source": [
    "# take space seperated values from user using input and split them on the basis of space using split() as elements of list\n",
    "# then convert each element into integer using map() and pass the output of map() to list() to convert it to list\n",
    "l = list(map(int,input(\"Enter space seperated positive integer as elements in list\").split()))\n",
    "# print the input list\n",
    "print(\"Entered List -\", l)\n",
    "\n",
    "'''\n",
    "approach - initialize two variables to store largest `f_max` and second largest `s_max` elemnt in list\n",
    "iterate over each element, check if any element is greater than s_max then we check if this elemnt is greater \n",
    "than f_max then put values of f_max in s_max and value of current element in f_max\n",
    "if element is greater than s_max but not greater than f_max, put element in s_max.\n",
    "'''\n",
    "f_max = -1\n",
    "s_max = -1\n",
    "for i in l:\n",
    "    if i>s_max:\n",
    "        if i>=f_max:\n",
    "            s_max = f_max \n",
    "            f_max = i\n",
    "        else:\n",
    "            s_max=i\n",
    "print(\"Second largest number -\", s_max)\n"
   ]
  },
  {
   "cell_type": "markdown",
   "metadata": {},
   "source": [
    "##### 36. Replace every element in a list with its square.\n"
   ]
  },
  {
   "cell_type": "code",
   "execution_count": 18,
   "metadata": {},
   "outputs": [
    {
     "name": "stdout",
     "output_type": "stream",
     "text": [
      "Entered List - [1, 2, 3, 4, 5, 6, 7, 8, 9, 10, 11, 12, 13, 14, 15, 16, 17, 18, 19, 20]\n",
      "List after replacing each element with its square -  [1, 4, 9, 16, 25, 36, 49, 64, 81, 100, 121, 144, 169, 196, 225, 256, 289, 324, 361, 400]\n"
     ]
    }
   ],
   "source": [
    "# take space seperated values from user using input and split them on the basis of space using split() as elements of list\n",
    "# then convert each element into integer using map() and pass the output of map() to list() to convert it to list\n",
    "l = list(map(int,input(\"Enter space seperated values as elements in list\").split()))\n",
    "# print the input list\n",
    "print(\"Entered List -\", l)\n",
    "# using list comprehension, we take each element of list, calculate sqaure of it and put in list\n",
    "l = [i*i for i in l]\n",
    "# print the new list\n",
    "print(\"List after replacing each element with its square - \", l)"
   ]
  },
  {
   "cell_type": "markdown",
   "metadata": {},
   "source": [
    "##### 37. Convert a list to a dictionary where list elements become keys and their indices become values.\n"
   ]
  },
  {
   "cell_type": "code",
   "execution_count": 20,
   "metadata": {},
   "outputs": [
    {
     "name": "stdout",
     "output_type": "stream",
     "text": [
      "Entered List - ['2', '4', '5', '6', '7', '8']\n",
      "Dictionary of list - {'2': 0, '4': 1, '5': 2, '6': 3, '7': 4, '8': 5}\n"
     ]
    }
   ],
   "source": [
    "# take space seperated values from user using input and split them on the basis of space using split() as elements of list\n",
    "l = input(\"Enter space seperated values as elements in list\").split()\n",
    "# print input list\n",
    "print(\"Entered List -\", l)\n",
    "# initialize an empty dictionary \n",
    "d = {} \n",
    "# iterate over each element using index ranging from 0 to length of list (length is calculated using len() method)\n",
    "for i in range(0,len(l)):\n",
    "    # make elemnt at index i as key and put i as value corresponding to the key\n",
    "    d[l[i]] = i\n",
    "# print the resultant dictionary\n",
    "print(\"Dictionary of list -\", d)"
   ]
  },
  {
   "cell_type": "markdown",
   "metadata": {},
   "source": [
    "##### 38. Shuffle the elements of a list randomly.\n"
   ]
  },
  {
   "cell_type": "code",
   "execution_count": 22,
   "metadata": {},
   "outputs": [
    {
     "name": "stdout",
     "output_type": "stream",
     "text": [
      "Entered List - ['4', 'd', '6', 'g', '8n', 'f']\n",
      "Shuffle list - ['g', 'd', '4', '8n', 'f', '6']\n"
     ]
    }
   ],
   "source": [
    "# import random module,an in-built module of Python that is used to generate random numbers in Python. \n",
    "import random\n",
    "# take space seperated values from user using input and split them on the basis of space using split() as elements of list\n",
    "l = input(\"Enter space seperated values as elements in list\").split()\n",
    "# print input list\n",
    "print(\"Entered List -\", l)\n",
    "# randomly shuffle the elements of list using shuffle() method of random module \n",
    "random.shuffle(l)\n",
    "# print resultant list\n",
    "print(\"Shuffle list -\", l)"
   ]
  },
  {
   "cell_type": "markdown",
   "metadata": {},
   "source": [
    "##### 39. Create a list of the first 10 factorial numbers.\n"
   ]
  },
  {
   "cell_type": "code",
   "execution_count": 25,
   "metadata": {},
   "outputs": [
    {
     "name": "stdout",
     "output_type": "stream",
     "text": [
      "list of 10 factorial numbers - [1, 2, 6, 24, 120, 720, 5040, 40320, 362880, 3628800]\n"
     ]
    }
   ],
   "source": [
    "''' \n",
    "approach - take a variable 'a' to store factorial of number. Initialize it as 1\n",
    "execute a for loop from 1 to 11 (UpperBound + 1) and at each iteration multiply variable `a` with loop variable \n",
    "and store it in 'a' to calculate factorial of that number (loop variable)\n",
    "'''\n",
    "# initialize a variable to calculate factorial\n",
    "a = 1\n",
    "# initialize an empty list to store factorials of numbers from 1 to 10\n",
    "l = []\n",
    "# execute loop ranging from 1 to 11\n",
    "for i in range(1,11):\n",
    "    # multiply a with loop variable to calculate factorial of loop variable\n",
    "    a *= i\n",
    "    # append the factorial in list\n",
    "    l.append(a)\n",
    "# print the list of factorials\n",
    "print(\"list of 10 factorial numbers -\", l)"
   ]
  },
  {
   "cell_type": "markdown",
   "metadata": {},
   "source": [
    "##### 40. Check if two lists have at least one element in common."
   ]
  },
  {
   "cell_type": "code",
   "execution_count": 26,
   "metadata": {},
   "outputs": [
    {
     "name": "stdout",
     "output_type": "stream",
     "text": [
      "First List - ['2', '4', '6', '7', '9', '4', '2']\n",
      "Second List - ['2', '5', '7', '8']\n",
      "Yes, lists have atleast one element in common\n"
     ]
    }
   ],
   "source": [
    "# take space seperated values and split them as elements using slipt() and store the output in variable as list1\n",
    "l1 = input(\"Enter space seperated values as elements in list 1\").split()\n",
    "# take space seperated values and split them as elements using slipt() and store the output in variable as list12\n",
    "l2 = input(\"Enter space seperated values as elements in list 2\").split()\n",
    "# print the input lists\n",
    "print(\"First List -\", l1)\n",
    "print(\"Second List -\", l2)\n",
    "# create a flag to check if lists have any thing n common\n",
    "# initially this flag is false\n",
    "f = False\n",
    "# iterate over elements of list1\n",
    "for i in l1:\n",
    "    # if this element in list2\n",
    "    if i in l2:\n",
    "        # print the resultant message\n",
    "        print(\"Yes, lists have atleast one element in common\")\n",
    "        # on the flag, showing lists have common element\n",
    "        f = True \n",
    "        # stop the loop using break statement\n",
    "        break\n",
    "# if flag is off, showing lists have nothing in common\n",
    "if f==False:\n",
    "    # print resultant message\n",
    "    print(\"No, lists have not anything element in common\")"
   ]
  },
  {
   "cell_type": "markdown",
   "metadata": {},
   "source": [
    "##### 41. Remove all elements from a list."
   ]
  },
  {
   "cell_type": "code",
   "execution_count": 27,
   "metadata": {},
   "outputs": [
    {
     "name": "stdout",
     "output_type": "stream",
     "text": [
      "Entered List - ['q', '34r5g', 'y76', 'y', 'f34', 'r16']\n",
      "List is - []\n"
     ]
    }
   ],
   "source": [
    "# take space seperated values and split them as elements using slipt() and store the output in variable as list\n",
    "l = input(\"Enter space seperated values as elements in list\").split()\n",
    "# print input message\n",
    "print(\"Entered List -\", l)\n",
    "# remove all elements from list using clear()\n",
    "l.clear()\n",
    "# print the list\n",
    "print(\"List is -\",l)"
   ]
  },
  {
   "cell_type": "markdown",
   "metadata": {},
   "source": [
    "##### 42. Replace negative numbers in a list with 0."
   ]
  },
  {
   "cell_type": "code",
   "execution_count": 33,
   "metadata": {},
   "outputs": [
    {
     "name": "stdout",
     "output_type": "stream",
     "text": [
      "Entered List - [-2, 3, -6, 3, 8, 9, -3, -1]\n",
      "Output List - [0, 3, 0, 3, 8, 9, 0, 0]\n"
     ]
    }
   ],
   "source": [
    "# take space seperated values from user using input and split them on the basis of space using split() as elements of list\n",
    "# then convert each element into integer using map() and pass the output of map() to list() to convert it to list\n",
    "l = list(map(int,input(\"Enter space seperated values as elements in list\").split()))\n",
    "# print the input list\n",
    "print(\"Entered List -\", l)\n",
    "# use list comprehension, iterate over elements of list and check if element is less than 0 then put 0 else put the element\n",
    "l = [i if i>0 else 0 for i in l ]\n",
    "# print the list\n",
    "print(\"Output List -\", l)"
   ]
  },
  {
   "cell_type": "markdown",
   "metadata": {},
   "source": [
    "##### 43. Convert a string into a list of words.\n"
   ]
  },
  {
   "cell_type": "code",
   "execution_count": 34,
   "metadata": {},
   "outputs": [
    {
     "name": "stdout",
     "output_type": "stream",
     "text": [
      "Input string is I am a human\n",
      "list is ['I', 'am', 'a', 'human']\n"
     ]
    }
   ],
   "source": [
    "# take input string from user using input()\n",
    "st = input(\"Enter a string\")\n",
    "# split the string using split() and create the list of these words using list()\n",
    "list1 = list(st.split())\n",
    "# print input string\n",
    "print(\"Input string is\",st)\n",
    "# print list from string words\n",
    "print(\"list is\", list1)"
   ]
  },
  {
   "cell_type": "markdown",
   "metadata": {},
   "source": [
    "##### 44. Convert a list of words into a string.\n"
   ]
  },
  {
   "cell_type": "code",
   "execution_count": 36,
   "metadata": {},
   "outputs": [
    {
     "name": "stdout",
     "output_type": "stream",
     "text": [
      "List is ['a', 'bn', 'gh', 'ty', 'ui']\n",
      "Output String - a bn gh ty ui\n"
     ]
    }
   ],
   "source": [
    "# take space seperated values from user using input and split them on the basis of space using split() as elements of list\n",
    "list1 = input(\"Enter space seperated words as elements in list\").split()\n",
    "# join the words of list with space using join()\n",
    "st = ' '.join(list1)\n",
    "# print the input list\n",
    "print(\"List is\", list1)\n",
    "# print the output string\n",
    "print(\"Output String -\", st)"
   ]
  },
  {
   "cell_type": "markdown",
   "metadata": {},
   "source": [
    "##### 45. Create a list of the first `n` powers of 2.\n"
   ]
  },
  {
   "cell_type": "code",
   "execution_count": 39,
   "metadata": {},
   "outputs": [
    {
     "name": "stdout",
     "output_type": "stream",
     "text": [
      "Entered value of n - 7\n",
      "Output List - [1, 2, 4, 8, 16, 32, 64]\n"
     ]
    }
   ],
   "source": [
    "# take input value of n from user using input() \n",
    "n = int(input(\"enter the value of n\"))\n",
    "# print the value entered by user\n",
    "print(\"Entered value of n -\", n)\n",
    "# initialize empty list to store results\n",
    "l = [] \n",
    "# execute a loop from 0 to n\n",
    "for i in range(n):\n",
    "    # calculate 2 to the power i using pow() and append it into list using append()\n",
    "    l.append(pow(2,i))\n",
    "# print output list\n",
    "print(\"Output List -\",l)"
   ]
  },
  {
   "cell_type": "markdown",
   "metadata": {},
   "source": [
    "##### 46. Find the longest string in a list of strings.\n"
   ]
  },
  {
   "cell_type": "code",
   "execution_count": 43,
   "metadata": {},
   "outputs": [
    {
     "name": "stdout",
     "output_type": "stream",
     "text": [
      "entered list - ['I am playing', 'I am eating', 'I am sleeping', 'I am going to market.']\n",
      "Longest String - I am going to market.\n"
     ]
    }
   ],
   "source": [
    "# take pipe seperated values from user using input and split them on the basis of pipe using split() as elements of list\n",
    "l = input(\"Enter pipe(||) seperated strings as elements in list\").split(\"||\")\n",
    "# print the input list\n",
    "print(\"entered list -\", l)\n",
    "''' \n",
    "approach - we take a variable to store maximum length and ans variable to store longest string\n",
    "while iterating over elemnts of list, we check if cuurent string's length is greater than previous string's length\n",
    "if it is then we will replace it will maxm value and put string in ans variable.\n",
    "'''\n",
    "# initialize a variable to store maximum length \n",
    "max_len = 0\n",
    "# initialize an empty string to store longest string\n",
    "ans = \"\"\n",
    "# iterate over each element of list\n",
    "for i in l:\n",
    "    # check if length of current string is greater than value of maxm\n",
    "    if len(i)>max_len:\n",
    "        # put length of string in maxm\n",
    "        max_len = len(i)\n",
    "        # store string in ans\n",
    "        ans = i \n",
    "# print the longest string\n",
    "print(\"Longest String -\",ans)"
   ]
  },
  {
   "cell_type": "markdown",
   "metadata": {},
   "source": [
    "##### 47. Find the shortest string in a list of strings.\n"
   ]
  },
  {
   "cell_type": "code",
   "execution_count": 45,
   "metadata": {},
   "outputs": [
    {
     "name": "stdout",
     "output_type": "stream",
     "text": [
      "entered list - ['Human Being', 'Basket Ball', 'Human', 'Honey Bee']\n",
      "Longest String - Human\n"
     ]
    }
   ],
   "source": [
    "# take pipe seperated values from user using input and split them on the basis of pipe using split() as elements of list\n",
    "l = input(\"Enter pipe(||) seperated strings as elements in list\").split(\"||\")\n",
    "# print the input list\n",
    "print(\"entered list -\", l)\n",
    "''' \n",
    "approach - we take a variable to store minimum length and ans variable to store shortest string\n",
    "while iterating over elemnts of list, we check if current string's length is smaller than previous string's length\n",
    "if it is then we will replace it will minm value and put string in ans variable.\n",
    "'''\n",
    "# initialize a variable to store minimum length \n",
    "# we need to initialize it with a ver big value so...\n",
    "# if in future we can get a string with less than this value we can easily get the smaller string\n",
    "min_len = 10000000000\n",
    "# initialize an empty string to store shortest string\n",
    "ans = \"\"\n",
    "# iterate over each element of list\n",
    "for i in l:\n",
    "    # check if length of current string is smaller than value of minm\n",
    "    if len(i)<min_len:\n",
    "        # put length of string in minm\n",
    "        min_len = len(i)\n",
    "        # store string in ans\n",
    "        ans = i \n",
    "# print the shortest string\n",
    "print(\"shortest String -\",ans)"
   ]
  },
  {
   "cell_type": "markdown",
   "metadata": {},
   "source": [
    "##### 48. Create a list of the first `n` triangular numbers.\n"
   ]
  },
  {
   "cell_type": "code",
   "execution_count": 48,
   "metadata": {},
   "outputs": [
    {
     "name": "stdout",
     "output_type": "stream",
     "text": [
      "Entered value of n = 7\n",
      "Output List - [1, 3, 6, 10, 15, 21, 28]\n"
     ]
    }
   ],
   "source": [
    "# take value of n from user using input() and convert it into integer using int()\n",
    "n = int(input(\"Enter the value of n\"))\n",
    "# print the input value of n\n",
    "print(\"Entered value of n =\",n)\n",
    "# initialize an empty list to store results\n",
    "ans = []\n",
    "# run a loop from 1 to n+1\n",
    "for i in range(1,n+1):\n",
    "    # calculate triangular number for each value in range from 1 to n\n",
    "    value = int(i*(i+1)/2)\n",
    "    # append value  of triangular number in ans list using append()\n",
    "    ans.append(value)\n",
    "# print the output list\n",
    "print(\"Output List -\", ans)"
   ]
  },
  {
   "cell_type": "markdown",
   "metadata": {},
   "source": [
    "##### 49. Check if a list contains another list as a subsequence. \n"
   ]
  },
  {
   "cell_type": "code",
   "execution_count": 55,
   "metadata": {},
   "outputs": [
    {
     "name": "stdout",
     "output_type": "stream",
     "text": [
      "First List - ['1', '2', '3', '4', '5', '6', '7', '8', '9', '0']\n",
      "Second List - ['3', '5', '7', '9']\n",
      "Yes, It has subsequence list\n"
     ]
    }
   ],
   "source": [
    "# take space seperated values and split them as elements using slipt() and store the output in variable as parentlist\n",
    "parent_list = input(\"Enter space seperated values as elements in list 1(Parent list)\").split()\n",
    "# take space seperated values and split them as elements using slipt() and store the output in variable as sub_list\n",
    "sub_list = input(\"Enter space seperated values as elements in list 2(Subsequence list)\").split()\n",
    "# print the input lists\n",
    "print(\"First List -\", parent_list)\n",
    "print(\"Second List -\", sub_list)\n",
    "''' \n",
    "approach - A subsequence is just some of the terms of the original sequence, kept in order.\n",
    "So we start to keep a record of index in subquence matched element using a variable 'ind'.\n",
    "if element at index 0 of subsequence list is matched with parent list element and we increase value of ind by 1.\n",
    "so we now need to check if next element of subsequence is matching with an element of parent list after the mecthed elemnt of parent list.\n",
    "We will repeat the same for all element of parent list. \n",
    "If anywhere till the end of loop, we get all the elements of subsequence list matched with parent list elements in same order\n",
    "It means it is subsequence list is subsequence of parent list\n",
    "'''\n",
    "# initialize a variable to store index of elements matched for subsequence\n",
    "# initially this variable will store 0 coz index of list starts from 0 \n",
    "ind = 0\n",
    "# intialize a flag to show if value of ind variable is equalto length of subsequence list\n",
    "flag = False\n",
    "# iterate over the elements of parent_list\n",
    "for i in parent_list:\n",
    "    # if element of parent_list is matched with element of sub_list at index ind \n",
    "    if i == sub_list[ind]:\n",
    "        # increase the value if ind by 1\n",
    "        ind += 1\n",
    "    # if ind is equal to length of sub_list, means it is a subsequence\n",
    "    if ind == len(sub_list):\n",
    "        # on the flag\n",
    "        flag = True\n",
    "        # print the resultant message\n",
    "        print(\"Yes, It has subsequence list\")\n",
    "        # stop the loop by using break statement\n",
    "        break\n",
    "# if flag is off, means it is not subsequence of parent list\n",
    "if flag == False:\n",
    "    print(\"No, It has not contained subsequence list\")"
   ]
  },
  {
   "cell_type": "markdown",
   "metadata": {},
   "source": [
    "##### 50. Swap two elements in a list by their indices."
   ]
  },
  {
   "cell_type": "code",
   "execution_count": 53,
   "metadata": {},
   "outputs": [
    {
     "name": "stdout",
     "output_type": "stream",
     "text": [
      "Entered List - ['a', 'd', 'g', 'j', 'l', 'w', 'r', 'y', 'i', 'p']\n",
      "Index 1 -  3\n",
      "Index 2 -  8\n",
      "Output List - ['a', 'd', 'g', 'i', 'l', 'w', 'r', 'y', 'j', 'p']\n"
     ]
    }
   ],
   "source": [
    "# take space seperated values from user using input and split them on the basis of space using split() as elements of list\n",
    "l = input(\"Enter space seperated words as elements in list\").split()\n",
    "# take value of index1 from user using input() and convert it into integer using int()\n",
    "ind1 = int(input(\"Enter first index\"))\n",
    "# take value of index2 from user using input() and convert it into integer using int()\n",
    "ind2 = int(input(\"Enter second index\"))\n",
    "# print the input values\n",
    "print(\"Entered List -\", l)\n",
    "print(\"Index 1 - \", ind1)\n",
    "print(\"Index 2 - \", ind2)\n",
    "# swap the values of index1 and index2 using assignment operator\n",
    "l[ind1],l[ind2] = l[ind2],l[ind1]\n",
    "# print the output list after swapping\n",
    "print(\"Output List -\",l)"
   ]
  },
  {
   "cell_type": "markdown",
   "metadata": {},
   "source": [
    "## Tuple Based Questions"
   ]
  },
  {
   "cell_type": "markdown",
   "metadata": {},
   "source": [
    "##### 1. Create a tuple with integers from 1 to 5.\n"
   ]
  },
  {
   "cell_type": "code",
   "execution_count": 56,
   "metadata": {},
   "outputs": [
    {
     "name": "stdout",
     "output_type": "stream",
     "text": [
      "Tuple -  (1, 2, 3, 4, 5)\n"
     ]
    }
   ],
   "source": [
    "# create a tuple having values from 1 to 5\n",
    "t = (1,2,3,4,5)\n",
    "# print the tuple\n",
    "print(\"Tuple - \", t)"
   ]
  },
  {
   "cell_type": "markdown",
   "metadata": {},
   "source": [
    "##### 2. Access the third element of a tuple.\n"
   ]
  },
  {
   "cell_type": "code",
   "execution_count": 58,
   "metadata": {},
   "outputs": [
    {
     "name": "stdout",
     "output_type": "stream",
     "text": [
      "Entered Tuple -  ('a', 's', 'd', 'f', 'g', 'h', 'j', 'k', 'l')\n",
      "third element - d\n"
     ]
    }
   ],
   "source": [
    "# take space seperated values and split them as elements using slipt() and store the output in variable as tuple\n",
    "# convert this into tuple using tuple()\n",
    "t = tuple(input(\"Enter space seperated words as elements in tuple\").split())\n",
    "# print the input tuple\n",
    "print(\"Entered Tuple - \", t)\n",
    "# print the third tuple using indexing.\n",
    "# here index of 3rd element will 2 coz index in tuple starts from 0\n",
    "print(\"third element -\", t[2])"
   ]
  },
  {
   "cell_type": "markdown",
   "metadata": {},
   "source": [
    "##### 3. Find the length of a tuple without using the `len()` function.\n"
   ]
  },
  {
   "cell_type": "code",
   "execution_count": 59,
   "metadata": {},
   "outputs": [
    {
     "name": "stdout",
     "output_type": "stream",
     "text": [
      "Entered Tuple -  ('a', 'w', 'f', 't', 'c', 'e', 'y', 'u')\n",
      "Length of tuple - 8\n"
     ]
    }
   ],
   "source": [
    "# take space seperated values and split them as elements using slipt() and store the output in variable as tuple\n",
    "# convert this into tuple using tuple()\n",
    "t = tuple(input(\"Enter space seperated words as elements in tuple\").split())\n",
    "# print the input tuple\n",
    "print(\"Entered Tuple - \", t)\n",
    "# intialize a counter variable as 0 to store the length of tuple\n",
    "counter =0\n",
    "# iterate over the elements of tuple\n",
    "for i in t:\n",
    "    # increase the counter by 1 at each iteration\n",
    "    counter += 1\n",
    "# print the length\n",
    "print(\"Length of tuple -\", counter)"
   ]
  },
  {
   "cell_type": "markdown",
   "metadata": {},
   "source": [
    "##### 4. Count the occurrences of an element in a tuple.\n"
   ]
  },
  {
   "cell_type": "code",
   "execution_count": 61,
   "metadata": {},
   "outputs": [
    {
     "name": "stdout",
     "output_type": "stream",
     "text": [
      "Entered Tuple -  ('a', 'd', 'f', 'g', 'h', 'a', 'd', 'a', 'a', 'a')\n",
      "occurence of element - 5\n"
     ]
    }
   ],
   "source": [
    "# take space seperated values and split them as elements using slipt() and store the output in variable as tuple\n",
    "# convert this into tuple using tuple()\n",
    "t = tuple(input(\"Enter space seperated words as elements in tuple\").split())\n",
    "# take input value of element whose occurence needed to be find using input()\n",
    "element = (input(\"Enter elment whose occurence needed to be counted\"))\n",
    "# print the entered tuple\n",
    "print(\"Entered Tuple - \", t)\n",
    "# intialize a counter variable with 0 to store frequency of element\n",
    "counter =0\n",
    "# iterate over the elements of tuple\n",
    "for i in t:\n",
    "    # if input element is matched with current element then incraese the value of counter by 1\n",
    "    if i == element:\n",
    "        counter += 1\n",
    "# print the occurence of element\n",
    "print(\"occurence of element -\", counter)"
   ]
  },
  {
   "cell_type": "markdown",
   "metadata": {},
   "source": [
    "##### 5. Find the index of the first occurrence of an element in a tuple.\n"
   ]
  },
  {
   "cell_type": "code",
   "execution_count": 62,
   "metadata": {},
   "outputs": [
    {
     "name": "stdout",
     "output_type": "stream",
     "text": [
      "Entered Tuple -  ('2', 's', 'd', '5', 'f', '7', 'g', '8', 'h')\n",
      "First occurence of element is  6\n"
     ]
    }
   ],
   "source": [
    "# take space seperated values and split them as elements using slipt() and store the output in variable as tuple\n",
    "# convert this into tuple using tuple()\n",
    "t = tuple(input(\"Enter space seperated words as elements in tuple\").split())\n",
    "# take input value of element whose first occurence needed to be find using input()\n",
    "element = (input(\"Enter elment whose first occurence needed to be find\"))\n",
    "# print the input tuple\n",
    "print(\"Entered Tuple - \", t)\n",
    "# initialize a variable to store first occurence of element in tuple\n",
    "ind = -1\n",
    "# iterate over tuple elements via index\n",
    "for i in range(len(t)):\n",
    "    # if element at index i is matched with searched element the store it in ind variable and break the loop\n",
    "    if t[i] == element:\n",
    "        ind = i \n",
    "        break\n",
    "# if ind value is -1 it means element is not present in tuple \n",
    "if ind == -1:\n",
    "    # print the result\n",
    "    print(\"element is not present in tuple\")\n",
    "# if ind value is not equal to -1 the print the result\n",
    "else :\n",
    "    print(\"First occurence of element is \", ind)"
   ]
  },
  {
   "cell_type": "markdown",
   "metadata": {},
   "source": [
    "##### 6. Check if an element exists in a tuple.\n"
   ]
  },
  {
   "cell_type": "code",
   "execution_count": 64,
   "metadata": {},
   "outputs": [
    {
     "name": "stdout",
     "output_type": "stream",
     "text": [
      "Entered Tuple -  ('a', 'd', 'g', 'h', 'j', 't', 'e', 'd')\n",
      "element - g\n",
      "Element is present in tuple\n"
     ]
    }
   ],
   "source": [
    "# take space seperated values and split them as elements using slipt() and store the output in variable as tuple\n",
    "# convert this into tuple using tuple()\n",
    "t = tuple(input(\"Enter space seperated words as elements in tuple\").split())\n",
    "# take input value of element whose first occurence needed to be find using input()\n",
    "element = (input(\"Enter elment whose first occurence needed to be find\"))\n",
    "# print the input tuple\n",
    "print(\"Entered Tuple - \", t)\n",
    "# print input element\n",
    "print(\"element -\", element)\n",
    "# initialize a variable to store first occurence of element in tuple\n",
    "ind = -1\n",
    "# iterate over tuple elements via index\n",
    "for i in range(len(t)):\n",
    "    # if element at index i is matched with searched element the store it in ind variable and break the loop\n",
    "    if t[i] == element:\n",
    "        ind = i \n",
    "        break\n",
    "# if ind value is -1 it means element is not present in tuple \n",
    "if ind == -1:\n",
    "    # print the result\n",
    "    print(\"element is not present in tuple\")\n",
    "# if ind value is not equal to -1 the print the result\n",
    "else :\n",
    "    print(\"Element is present in tuple\")"
   ]
  },
  {
   "cell_type": "markdown",
   "metadata": {},
   "source": [
    "##### 7. Convert a tuple to a list.\n"
   ]
  },
  {
   "cell_type": "code",
   "execution_count": 67,
   "metadata": {},
   "outputs": [
    {
     "name": "stdout",
     "output_type": "stream",
     "text": [
      "Tuple is  (1, 2, 4, 6, 8, 13)\n",
      "List of tuple  [1, 2, 4, 6, 8, 13]\n"
     ]
    }
   ],
   "source": [
    "# create a tuple with some values\n",
    "l = (1, 2, 4, 6, 8, 13)\n",
    "# print initial tuple\n",
    "print(\"Tuple is \", l)\n",
    "# convert the tuple into list using list()\n",
    "list_of_tuple = list(l)\n",
    "# print the list\n",
    "print(\"List of tuple \", list_of_tuple)"
   ]
  },
  {
   "cell_type": "markdown",
   "metadata": {},
   "source": [
    "##### 8. Convert a list to a tuple.\n"
   ]
  },
  {
   "cell_type": "code",
   "execution_count": 68,
   "metadata": {},
   "outputs": [
    {
     "name": "stdout",
     "output_type": "stream",
     "text": [
      "List is  [1, 2, 4, 6, 8, 13]\n",
      "Tuple of list  (1, 2, 4, 6, 8, 13)\n"
     ]
    }
   ],
   "source": [
    "# create a list of some values\n",
    "l = [1, 2, 4, 6, 8, 13]\n",
    "# print the initial list\n",
    "print(\"List is \", l)\n",
    "# convert the list into tuple using tuple()\n",
    "tuple_of_list = tuple(l)\n",
    "# print the tuple from list\n",
    "print(\"Tuple of list \", tuple_of_list)"
   ]
  },
  {
   "cell_type": "markdown",
   "metadata": {},
   "source": [
    "##### 9. Unpack the elements of a tuple into variables.\n"
   ]
  },
  {
   "cell_type": "code",
   "execution_count": 74,
   "metadata": {},
   "outputs": [
    {
     "name": "stdout",
     "output_type": "stream",
     "text": [
      "value 1 =  21787\n",
      "value 2 =  345\n",
      "value 3 =  467\n"
     ]
    }
   ],
   "source": [
    "# create a tuple with some values\n",
    "l = (21787, 345, 467)\n",
    "# assign the values in tuple to variables using assignment operator\n",
    "a,b,c = l\n",
    "# print thos variables\n",
    "print(\"value 1 = \",a)\n",
    "print(\"value 2 = \",b)\n",
    "print(\"value 3 = \",c)"
   ]
  },
  {
   "cell_type": "markdown",
   "metadata": {},
   "source": [
    "##### 10. Create a tuple of even numbers from 1 to 10.\n"
   ]
  },
  {
   "cell_type": "code",
   "execution_count": 12,
   "metadata": {},
   "outputs": [
    {
     "name": "stdout",
     "output_type": "stream",
     "text": [
      "Tuple for even numbers - (0, 2, 4, 6, 8, 10)\n"
     ]
    }
   ],
   "source": [
    "# create a tuple of even numbers by using list comprehension method,\n",
    "# here we execute a loop from 1 to 21 as loop runs upto (upper bound - 1)\n",
    "# and we check if element in this range is divisible by 2, if it is divisible we will include it in tuple\n",
    "even = tuple(i for i in range(0,11) if i%2==0)\n",
    "# print the tuple\n",
    "print(\"Tuple for even numbers -\", even)"
   ]
  },
  {
   "cell_type": "markdown",
   "metadata": {},
   "source": [
    "##### 11. Create a tuple of odd numbers from 1 to 10.\n"
   ]
  },
  {
   "cell_type": "code",
   "execution_count": 11,
   "metadata": {},
   "outputs": [
    {
     "name": "stdout",
     "output_type": "stream",
     "text": [
      "Tuple for odd numbers - (1, 3, 5, 7, 9)\n"
     ]
    }
   ],
   "source": [
    "# create a tuple of odd numbers by using tuple comprehension method,\n",
    "# here we execute a loop from 1 to 21 as loop runs upto (upper bound - 1)\n",
    "# and we check if element in this range is divisible by 2, if it is divisible we will include it in tuple\n",
    "\n",
    "odd = tuple(i for i in range(0,11) if i%2!=0)\n",
    "# print the tuple\n",
    "print(\"Tuple for odd numbers -\", odd)"
   ]
  },
  {
   "cell_type": "markdown",
   "metadata": {},
   "source": [
    "##### 12. Concatenate two tuples.\n"
   ]
  },
  {
   "cell_type": "code",
   "execution_count": 78,
   "metadata": {},
   "outputs": [
    {
     "name": "stdout",
     "output_type": "stream",
     "text": [
      "Tuple1 -  (1, 2, 3, 4, 5)\n",
      "Tuple2 - (6, 7, 8, 9, 0)\n",
      "Concatenated tuple -  (1, 2, 3, 4, 5, 6, 7, 8, 9, 0)\n"
     ]
    }
   ],
   "source": [
    "# create two tuples\n",
    "tuple1 = (1,2,3,4,5)\n",
    "tuple2 = (6,7,8,9,0)\n",
    "# print the initial tuples\n",
    "print(\"Tuple1 - \",tuple1)\n",
    "print(\"Tuple2 -\", tuple2)\n",
    "# concatenate two tuples using + operator\n",
    "ans_tuple = tuple1 + tuple2\n",
    "# print the concatenated tuple\n",
    "print(\"Concatenated tuple - \",ans_tuple)"
   ]
  },
  {
   "cell_type": "markdown",
   "metadata": {},
   "source": [
    "##### 13. Repeat a tuple three times.\n"
   ]
  },
  {
   "cell_type": "code",
   "execution_count": 80,
   "metadata": {},
   "outputs": [
    {
     "name": "stdout",
     "output_type": "stream",
     "text": [
      "Input Tuple - (1, 2, 3, 4, 5)\n",
      "Output Tuple - (1, 2, 3, 4, 5, 1, 2, 3, 4, 5, 1, 2, 3, 4, 5)\n"
     ]
    }
   ],
   "source": [
    "# create tuple having some values\n",
    "tuple1 = (1,2,3,4,5)\n",
    "# print the initial tuple\n",
    "print(\"Input Tuple -\",tuple1)\n",
    "# to repeat tuple 3 times, we need to multiply the tuple by 3 , it will automatically repeat elements of tuple thrice\n",
    "print(\"Output Tuple -\", tuple1*3)"
   ]
  },
  {
   "cell_type": "markdown",
   "metadata": {},
   "source": [
    "##### 14. Check if a tuple is empty.\n"
   ]
  },
  {
   "cell_type": "code",
   "execution_count": 86,
   "metadata": {},
   "outputs": [
    {
     "name": "stdout",
     "output_type": "stream",
     "text": [
      "Tuple entered - ('d', 'g', 'h', 'j', 'y', 'r', 'e')\n",
      "tuple is not empty\n"
     ]
    }
   ],
   "source": [
    "# take space seperated values and split them as elements using slipt() and store the output in variable as tuple\n",
    "# convert this into tuple using tuple()\n",
    "input_tuple = tuple(input(\"Enter space seperated values for tuple\").split())\n",
    "# print the initial tuple\n",
    "print(\"Tuple entered -\", input_tuple)\n",
    "# check if tuple is empty. if tuple is empty then 'if' statement interprets False\n",
    "print(\"tuple is not empty\") if input_tuple else print(\"Tuple is empty\")"
   ]
  },
  {
   "cell_type": "markdown",
   "metadata": {},
   "source": [
    "##### 15. Create a nested tuple."
   ]
  },
  {
   "cell_type": "code",
   "execution_count": 87,
   "metadata": {},
   "outputs": [
    {
     "name": "stdout",
     "output_type": "stream",
     "text": [
      "Nested tuple -  ((32, 43, 56), ('d', 'f', 'g', 'h', 'j', 'k'), (1, 2, 3, 'a', 's', 'f'))\n"
     ]
    }
   ],
   "source": [
    "# create a nested tuple i.e. tuples inside tuple\n",
    "nested_tuple = ((32,43,56),('d','f','g','h','j','k'),(1,2,3,'a','s','f'))\n",
    "# print the nested tuple\n",
    "print(\"Nested tuple - \", nested_tuple)"
   ]
  },
  {
   "cell_type": "markdown",
   "metadata": {},
   "source": [
    "##### 16. Access the first element of a nested tuple.\n"
   ]
  },
  {
   "cell_type": "code",
   "execution_count": 88,
   "metadata": {},
   "outputs": [
    {
     "name": "stdout",
     "output_type": "stream",
     "text": [
      "first element of Nested tuple -  (32, 43, 56)\n"
     ]
    }
   ],
   "source": [
    "# create a nested tuple i.e. tuples inside tuple\n",
    "nested_tuple = ((32,43,56),('d','f','g','h','j','k'),(1,2,3,'a','s','f'))\n",
    "# we can take out first element in tuple using indexing.\n",
    "# we can use index 0 to take out 1st element coz indexing starts from 0\n",
    "# print the result\n",
    "print(\"first element of Nested tuple - \", nested_tuple[0])"
   ]
  },
  {
   "cell_type": "markdown",
   "metadata": {},
   "source": [
    "##### 17. Create a tuple with a single element."
   ]
  },
  {
   "cell_type": "code",
   "execution_count": 89,
   "metadata": {},
   "outputs": [
    {
     "name": "stdout",
     "output_type": "stream",
     "text": [
      "Tuple with one element - (1,)\n"
     ]
    }
   ],
   "source": [
    "# create tuple having one element only\n",
    "single_element_tuple = (1,)\n",
    "# print the tuple\n",
    "print(\"Tuple with one element -\", single_element_tuple)"
   ]
  },
  {
   "cell_type": "markdown",
   "metadata": {},
   "source": [
    "##### 18. Compare two tuples."
   ]
  },
  {
   "cell_type": "code",
   "execution_count": 91,
   "metadata": {},
   "outputs": [
    {
     "name": "stdout",
     "output_type": "stream",
     "text": [
      "tuple1 == tuple2: False\n",
      "tuple1 > tuple2: False\n",
      "tuple1 < tuple2: True\n",
      "tuple1 != tuple2: True\n",
      "tuple1 >= tuple2: False\n",
      "tuple1 <= tuple2: True\n"
     ]
    }
   ],
   "source": [
    "#Create two tuples\n",
    "t1 = ('a','b','c','d')\n",
    "t2 = ('a','e','d','v')\n",
    "\n",
    "# Step 2: Compare the two tuples using comparison operators\n",
    "print(\"tuple1 == tuple2:\", t1 == t2)  # equality check\n",
    "print(\"tuple1 > tuple2:\", t1 > t2)    # greater than check\n",
    "print(\"tuple1 < tuple2:\", t1 < t2)    # less than check\n",
    "\n",
    "print(\"tuple1 != tuple2:\", t1 != t2)  # inequality check\n",
    "print(\"tuple1 >= tuple2:\", t1 >= t2)  # greater than or equal to check\n",
    "print(\"tuple1 <= tuple2:\", t1 <= t2)  # less than or equal to check\n"
   ]
  },
  {
   "cell_type": "markdown",
   "metadata": {},
   "source": [
    "##### 19. Delete a tuple."
   ]
  },
  {
   "cell_type": "code",
   "execution_count": 92,
   "metadata": {},
   "outputs": [
    {
     "name": "stdout",
     "output_type": "stream",
     "text": [
      "Input Tuple - (1, 2, 3, 4, 5, 6, 6, 7)\n"
     ]
    },
    {
     "ename": "NameError",
     "evalue": "name 't' is not defined",
     "output_type": "error",
     "traceback": [
      "\u001b[1;31m---------------------------------------------------------------------------\u001b[0m",
      "\u001b[1;31mNameError\u001b[0m                                 Traceback (most recent call last)",
      "Cell \u001b[1;32mIn[92], line 4\u001b[0m\n\u001b[0;32m      2\u001b[0m \u001b[39mprint\u001b[39m(\u001b[39m\"\u001b[39m\u001b[39mInput Tuple -\u001b[39m\u001b[39m\"\u001b[39m, t)\n\u001b[0;32m      3\u001b[0m \u001b[39mdel\u001b[39;00m t \n\u001b[1;32m----> 4\u001b[0m \u001b[39mprint\u001b[39m(\u001b[39m\"\u001b[39m\u001b[39mOutput Tuple -\u001b[39m\u001b[39m\"\u001b[39m, t )\n",
      "\u001b[1;31mNameError\u001b[0m: name 't' is not defined"
     ]
    }
   ],
   "source": [
    "# create a tuple having some values\n",
    "t = (1,2,3,4,5,6,6,7)\n",
    "# print the input tuple\n",
    "print(\"Input Tuple -\", t)\n",
    "# delete the tuple using del keyword\n",
    "del t \n",
    "# print the tuple after deletion.\n",
    "# you can see, it gives error coz now tuple doesn't exist anymore.\n",
    "print(\"Output Tuple -\", t )"
   ]
  },
  {
   "cell_type": "markdown",
   "metadata": {},
   "source": [
    "##### 20. Slice a tuple.\n"
   ]
  },
  {
   "cell_type": "code",
   "execution_count": 94,
   "metadata": {},
   "outputs": [
    {
     "name": "stdout",
     "output_type": "stream",
     "text": [
      "Input Tuple - (1, 2, 3, 4, 56, 6, 7, 8, 9, 12, 13, 15)\n",
      "Sliced Tuple - (4, 56, 6, 7)\n"
     ]
    }
   ],
   "source": [
    "# create a tuple with some values\n",
    "t1 = (1,2,3,4,56,6,7,8,9,12,13,15)\n",
    "# print initial tuple\n",
    "print(\"Input Tuple -\", t1)\n",
    "# do slicing of tuple using slicing operator.\n",
    "# here we want to take out the elements from index 3 to 6 \n",
    "# so we want to keep upper bound to 7 coz it takes elemnt till upper bound-1\n",
    "sliced_tuple = t1[3:7]\n",
    "# print the sliced tuple\n",
    "print(\"Sliced Tuple -\", sliced_tuple)\n"
   ]
  },
  {
   "cell_type": "markdown",
   "metadata": {},
   "source": [
    "##### 21. Find the maximum value in a tuple."
   ]
  },
  {
   "cell_type": "code",
   "execution_count": 95,
   "metadata": {},
   "outputs": [
    {
     "name": "stdout",
     "output_type": "stream",
     "text": [
      "Input Tuple - (1, 2, 3, 4, 56, 6, 7, 8, 9, 12, 13, 15)\n",
      "Maximum value of tuple - 56\n"
     ]
    }
   ],
   "source": [
    "# create a tuple \n",
    "t1 = (1,2,3,4,56,6,7,8,9,12,13,15)\n",
    "# print the original tuple\n",
    "print(\"Input Tuple -\", t1)\n",
    "# calculate the maximum value in tuple using max() function\n",
    "maxm_value = max(t1)\n",
    "# print the maximum element in tuple\n",
    "print(\"Maximum value of tuple -\", maxm_value)\n"
   ]
  },
  {
   "cell_type": "markdown",
   "metadata": {},
   "source": [
    "##### 22. Find the minimum value in a tuple."
   ]
  },
  {
   "cell_type": "code",
   "execution_count": 96,
   "metadata": {},
   "outputs": [
    {
     "name": "stdout",
     "output_type": "stream",
     "text": [
      "Input Tuple - (1, 2, 3, 4, 56, 6, 7, 8, 9, 12, 13, 15)\n",
      "Maximum value of tuple - 1\n"
     ]
    }
   ],
   "source": [
    "# create a tuple \n",
    "t1 = (1,2,3,4,56,6,7,8,9,12,13,15)\n",
    "# print the original tuple\n",
    "print(\"Input Tuple -\", t1)\n",
    "# calculate the minimum value in tuple using min() function\n",
    "min_value = min(t1)\n",
    "# print the maximum element in tuple\n",
    "print(\"Maximum value of tuple -\", min_value)"
   ]
  },
  {
   "cell_type": "markdown",
   "metadata": {},
   "source": [
    "##### 23. Convert a string to a tuple of characters.\n"
   ]
  },
  {
   "cell_type": "code",
   "execution_count": 97,
   "metadata": {},
   "outputs": [
    {
     "name": "stdout",
     "output_type": "stream",
     "text": [
      "Input String - Python is used for machine learning\n",
      "Tuple of String - ('P', 'y', 't', 'h', 'o', 'n', ' ', 'i', 's', ' ', 'u', 's', 'e', 'd', ' ', 'f', 'o', 'r', ' ', 'm', 'a', 'c', 'h', 'i', 'n', 'e', ' ', 'l', 'e', 'a', 'r', 'n', 'i', 'n', 'g')\n"
     ]
    }
   ],
   "source": [
    "# create a string with some charaters\n",
    "input_string = \"Python is used for machine learning\"\n",
    "# print initial string\n",
    "print(\"Input String -\", input_string)\n",
    "# convert the string into tuple using tuple()\n",
    "tuple_of_string = tuple(input_string)\n",
    "# print tuple of characters in string \n",
    "print(\"Tuple of String -\", tuple_of_string)"
   ]
  },
  {
   "cell_type": "markdown",
   "metadata": {},
   "source": [
    "##### 24. Convert a tuple of characters to a string."
   ]
  },
  {
   "cell_type": "code",
   "execution_count": 98,
   "metadata": {},
   "outputs": [
    {
     "name": "stdout",
     "output_type": "stream",
     "text": [
      "String from tuple: python\n"
     ]
    }
   ],
   "source": [
    "# Step 1: Create a tuple of characters\n",
    "tuple_of_chars = ('p','y','t','h','o','n')\n",
    "\n",
    "# Step 2: Convert the tuple of characters to a string using the 'join()' method\n",
    "string_of_tuple = ''.join(tuple_of_chars)\n",
    "\n",
    "# Step 3: Print the resulting string\n",
    "print(\"String from tuple:\", string_of_tuple)"
   ]
  },
  {
   "cell_type": "markdown",
   "metadata": {},
   "source": [
    "##### 25. Create a tuple from multiple data types.\n"
   ]
  },
  {
   "cell_type": "code",
   "execution_count": 99,
   "metadata": {},
   "outputs": [
    {
     "name": "stdout",
     "output_type": "stream",
     "text": [
      "Output -  ('a', 'asfw', 23, True, [1, 2, 3, 'd', False])\n"
     ]
    }
   ],
   "source": [
    "# create a tuple with different data values\n",
    "tuple1 = ('a','asfw',23,True,[1,2,3,'d',False])\n",
    "# print the output tuple\n",
    "print(\"Output - \",tuple1)"
   ]
  },
  {
   "cell_type": "markdown",
   "metadata": {},
   "source": [
    "##### 26. Check if two tuples are identical."
   ]
  },
  {
   "cell_type": "code",
   "execution_count": 101,
   "metadata": {},
   "outputs": [
    {
     "name": "stdout",
     "output_type": "stream",
     "text": [
      "tuple1 and tuple2 are identical: False\n",
      "tuple2 and tuple3 are identical: True\n"
     ]
    }
   ],
   "source": [
    "# 1: Create two tuples\n",
    "t1 = (1, 2, 3)\n",
    "t2 = (4, 5, 6)\n",
    "t3 = (4, 5, 6)\n",
    "\n",
    "# 2: Print the results on comparing the tuples for identity using the equality operator\n",
    "print(\"tuple1 and tuple2 are identical:\", t1 == t2)\n",
    "print(\"tuple2 and tuple3 are identical:\", t2 == t3)"
   ]
  },
  {
   "cell_type": "markdown",
   "metadata": {},
   "source": [
    "##### 27. Sort the elements of a tuple.\n"
   ]
  },
  {
   "cell_type": "code",
   "execution_count": 104,
   "metadata": {},
   "outputs": [
    {
     "name": "stdout",
     "output_type": "stream",
     "text": [
      "Tuple entered - ('1', '6', '9', '5', '3', '2')\n",
      "Sorted Tuple - ('1', '2', '3', '5', '6', '9')\n"
     ]
    }
   ],
   "source": [
    "# take space seperated values and split them as elements using slipt() and store the output in variable as tuple\n",
    "# convert this into tuple using tuple()\n",
    "t1 = tuple(input(\"Enter space seperated values for tuple\").split())\n",
    "# print the input tuple\n",
    "print(\"Tuple entered -\", t1)\n",
    "# sort the tuple using sorted() and convert it into tuple using tuple() function and print the result\n",
    "print(\"Sorted Tuple -\", tuple(sorted(t1)))"
   ]
  },
  {
   "cell_type": "markdown",
   "metadata": {},
   "source": [
    "##### 28. Convert a tuple of integers to a tuple of strings.\n"
   ]
  },
  {
   "cell_type": "code",
   "execution_count": 105,
   "metadata": {},
   "outputs": [
    {
     "name": "stdout",
     "output_type": "stream",
     "text": [
      "Tuple of strings - ('1', '2', '3', '4', '5', '6')\n"
     ]
    }
   ],
   "source": [
    "# create a tuple with some integer values\n",
    "int_tuple = (1,2,3,4,5,6)\n",
    "# convert the elements in tuple into string using map() and convert the output bunch of elements into tuple using tuple()\n",
    "string_tuple = tuple(map(str,int_tuple))\n",
    "# print the output tuple\n",
    "print(\"Tuple of strings -\", string_tuple)"
   ]
  },
  {
   "cell_type": "markdown",
   "metadata": {},
   "source": [
    "##### 29. Convert a tuple of strings to a tuple of integers.\n"
   ]
  },
  {
   "cell_type": "code",
   "execution_count": 107,
   "metadata": {},
   "outputs": [
    {
     "name": "stdout",
     "output_type": "stream",
     "text": [
      "Tuple of int -  (1, 2, 3, 4, 5)\n"
     ]
    }
   ],
   "source": [
    "# create a tuple with some strings containing only digit characters\n",
    "str_tuple = (\"1\",\"2\",\"3\",\"4\",\"5\")\n",
    "# convert the elements in tuple into integer using map() and convert the output bunch of elements into tuple using tuple()\n",
    "int_tuple = tuple(map(int, str_tuple))\n",
    "# print the tuple \n",
    "print(\"Tuple of int - \", int_tuple)"
   ]
  },
  {
   "cell_type": "markdown",
   "metadata": {},
   "source": [
    "##### 30. Merge two tuples."
   ]
  },
  {
   "cell_type": "code",
   "execution_count": 108,
   "metadata": {},
   "outputs": [
    {
     "name": "stdout",
     "output_type": "stream",
     "text": [
      "Merged Tuple - (1, 2, 3, 4, 5, 6)\n"
     ]
    }
   ],
   "source": [
    "# create two tuples\n",
    "t1 = (1,2,3)\n",
    "t2 = (4,5,6)\n",
    "# merge the tuples using concatenation i.e. by using + operator\n",
    "t3 = t1+t2\n",
    "# print the merge tuple\n",
    "print(\"Merged Tuple -\", t3)"
   ]
  },
  {
   "cell_type": "markdown",
   "metadata": {},
   "source": [
    "##### 31. Flatten a nested tuple."
   ]
  },
  {
   "cell_type": "code",
   "execution_count": 110,
   "metadata": {},
   "outputs": [
    {
     "name": "stdout",
     "output_type": "stream",
     "text": [
      "Flattened Tuple - (1, 2, 3, 4, 5, 6, 7, 8, 9)\n"
     ]
    }
   ],
   "source": [
    "# create a nested tuple i.e. tuples inside a tuple\n",
    "nested_tuple = ((1,2,3),(4,5,6),(7,8,9))\n",
    "# initialize an empty list to store flattened tuple values\n",
    "ans_list = []\n",
    "# iterate over elements of tuple\n",
    "for i in nested_tuple:\n",
    "    # convert tuple element into list using list()\n",
    "    # then append this list into ans_list using extend()\n",
    "    ans_list.extend(list(i))\n",
    "# convert the output list into tuple\n",
    "ans_tuple = tuple(ans_list)\n",
    "# print the tuple\n",
    "print(\"Flattened Tuple -\", ans_tuple)"
   ]
  },
  {
   "cell_type": "markdown",
   "metadata": {},
   "source": [
    "##### 32. Create a tuple of the first 5 prime numbers.\n"
   ]
  },
  {
   "cell_type": "code",
   "execution_count": 13,
   "metadata": {},
   "outputs": [
    {
     "name": "stdout",
     "output_type": "stream",
     "text": [
      "Prime list - (2, 3, 5, 7, 11)\n"
     ]
    }
   ],
   "source": [
    "''' \n",
    "prime numbers are those numbers which are divisible by 1 or by itself.\n",
    "Note: 1 is not prime number\n",
    "'''\n",
    "def is_prime(num:int):\n",
    "    # execute a loop from 2 to num/2, if num is divisible by any of the number in this range, it will not be a prime number\n",
    "    for i in range(2,num//2+1):\n",
    "        # if num is divisible by i then it is not prime, so return False\n",
    "        if num%i==0 :\n",
    "            return False\n",
    "    return num>1\n",
    "# initialize an empty list to store prime values\n",
    "prime_list = list()\n",
    "# initialize a variable with 2 as we know 1 is not considered as prime\n",
    "i=2\n",
    "# run the loop until length of list is 5\n",
    "while len(prime_list)<5:\n",
    "    # if i is prime then add it into list\n",
    "    if is_prime(i):\n",
    "        prime_list.append(i)\n",
    "    # increase the value of i by 1 at each iteration\n",
    "    i+=1\n",
    "# print the resultant tuple by converting list into tuple using tuple()\n",
    "print(\"Prime list -\", tuple(prime_list))\n"
   ]
  },
  {
   "cell_type": "markdown",
   "metadata": {},
   "source": [
    "##### 33. Check if a tuple is a palindrome."
   ]
  },
  {
   "cell_type": "code",
   "execution_count": 2,
   "metadata": {},
   "outputs": [
    {
     "name": "stdout",
     "output_type": "stream",
     "text": [
      "Enter values of tuple - ('1', '2', '3', '2', '1')\n",
      "Tuple is palindrome\n"
     ]
    }
   ],
   "source": [
    "# take space seperated values and split them as elements using slipt() and store the output in variable as tuple\n",
    "# convert this into tuple using tuple()\n",
    "input_tuple = tuple(input(\"Enter space seperated values as elements of tuple\").split())\n",
    "# print the input tuple\n",
    "print(\"Enter values of tuple -\", input_tuple)\n",
    "# reverse the tuple elements using slicing operator with negative jump\n",
    "reversed_tuple = input_tuple[::-1]\n",
    "# if input tuple and reversed tuple are equal then input tuple is palindrome\n",
    "print(\"Tuple is palindrome\") if input_tuple == reversed_tuple else print(\"Tuple is not palindrome\")"
   ]
  },
  {
   "cell_type": "markdown",
   "metadata": {},
   "source": [
    "##### 34. Create a tuple of squares of numbers from 1 to 5.\n"
   ]
  },
  {
   "cell_type": "code",
   "execution_count": 10,
   "metadata": {},
   "outputs": [
    {
     "name": "stdout",
     "output_type": "stream",
     "text": [
      "Tuple of squares from 1 to 5 - (1, 4, 9, 16, 25)\n"
     ]
    }
   ],
   "source": [
    "# use list comprehension \n",
    "# execute a for loop from 1 to 6 inside list comprehension \n",
    "# do square of each element in range 1 to 5 using ** operator and convert this into tuple using tuple()\n",
    "square_tuple= tuple(i*i for i in range(1,6))\n",
    "# print the tuple of square from 1 to 5\n",
    "print(\"Tuple of squares from 1 to 5 -\", square_tuple)"
   ]
  },
  {
   "cell_type": "markdown",
   "metadata": {},
   "source": [
    "##### 35. Filter out all even numbers from a tuple.\n"
   ]
  },
  {
   "cell_type": "code",
   "execution_count": 9,
   "metadata": {},
   "outputs": [
    {
     "name": "stdout",
     "output_type": "stream",
     "text": [
      "Enter values of tuple - (1, 2, 3, 4, 5, 6, 7, 8, 9, 10)\n",
      "even numbers in entered tuple - (2, 4, 6, 8, 10)\n"
     ]
    }
   ],
   "source": [
    "# take space seperated values and split them as elements using slipt() and store the output in variable as tuple\n",
    "# convert the elements into integer using map()\n",
    "# convert this into tuple using tuple()\n",
    "input_tuple = tuple(map(int,input(\"Enter space seperated values as elements of tuple\").split()))\n",
    "# print the input tuple\n",
    "print(\"Enter values of tuple -\", input_tuple)\n",
    "# use tuple comprehension, iterate over elements of list\n",
    "# if element is even, put it in tuple\n",
    "even_tuple = tuple(i for i in input_tuple if i%2==0)\n",
    "# print the tuple of even elements\n",
    "print(\"even numbers in entered tuple -\", even_tuple)"
   ]
  },
  {
   "cell_type": "markdown",
   "metadata": {},
   "source": [
    "##### 36. Multiply all elements in a tuple by 2.\n"
   ]
  },
  {
   "cell_type": "code",
   "execution_count": 8,
   "metadata": {},
   "outputs": [
    {
     "name": "stdout",
     "output_type": "stream",
     "text": [
      "Enter values of tuple - (1, 2, 3, 4, 5, 6, 7, 8, 9, 10)\n",
      "tuple after multiplying its elements by 2 - (2, 4, 6, 8, 10, 12, 14, 16, 18, 20)\n"
     ]
    }
   ],
   "source": [
    "# take space seperated values and split them as elements using slipt() and store the output in variable as tuple\n",
    "# convert the elements into integer using map()\n",
    "# convert this into tuple using tuple()\n",
    "input_tuple = tuple(map(int,input(\"Enter space seperated values as elements of tuple\").split()))\n",
    "# print the input tuple\n",
    "print(\"Enter values of tuple -\", input_tuple)\n",
    "# use list comprehension, iterate over elements of list\n",
    "# multiply each element by 2, put it in list\n",
    "multiplied_tuple = tuple(i*2 for i in input_tuple)\n",
    "# print the output element\n",
    "print(\"tuple after multiplying its elements by 2 -\", multiplied_tuple)"
   ]
  },
  {
   "cell_type": "markdown",
   "metadata": {},
   "source": [
    "##### 37. Create a tuple of random numbers.\n"
   ]
  },
  {
   "cell_type": "code",
   "execution_count": 13,
   "metadata": {},
   "outputs": [
    {
     "name": "stdout",
     "output_type": "stream",
     "text": [
      "Random number tuple - (30, 27, 55, 81, 92, 6, 18, 35, 32, 37, 78, 6, 16, 14, 99, 26, 83, 71, 49, 55, 9, 27, 14, 65, 92, 7, 13, 97, 68, 94, 2, 2, 59, 42, 6, 60, 9, 26, 59, 80, 30, 54, 58, 40, 61, 45, 92, 37, 36, 54, 84, 65, 93, 86, 38, 91, 74, 32, 50, 81, 72, 87, 82, 59, 88, 63, 72, 64, 50, 92, 30, 79, 81, 36, 77, 80, 38, 78, 90, 88, 90, 16, 79, 99, 94, 32, 29, 56, 90, 86, 100, 23, 1, 81, 60, 78, 43, 28, 80, 84)\n"
     ]
    }
   ],
   "source": [
    "import random\n",
    "\n",
    "# Create a tuple of random numbers using a list comprehension\n",
    "# Generating 100 random numbers between 1 and 100\n",
    "random_tuple = tuple(random.randint(1, 100) for i in range(100))  \n",
    "# Print the tuple of random numbers\n",
    "print(\"Random number tuple -\", random_tuple)"
   ]
  },
  {
   "cell_type": "markdown",
   "metadata": {},
   "source": [
    "##### 38. Check if a tuple is sorted."
   ]
  },
  {
   "cell_type": "code",
   "execution_count": 17,
   "metadata": {},
   "outputs": [
    {
     "name": "stdout",
     "output_type": "stream",
     "text": [
      "Enter values of tuple - (1, 3, 5, 7, 9, 11, 12, 13)\n",
      "Tuple is sorted in ascending order!!\n"
     ]
    }
   ],
   "source": [
    "# take space seperated values and split them as elements using slipt() and store the output in variable as tuple\n",
    "# convert the elements into integer using map()\n",
    "# convert this into tuple using tuple()\n",
    "input_tuple = tuple(map(int,input(\"Enter space seperated values as elements of tuple\").split()))\n",
    "# print the input tuple\n",
    "print(\"Enter values of tuple -\", input_tuple)\n",
    "# initialize a flag, initially off. It basically stores tuple is sorted\n",
    "flag = 0\n",
    "# iterate over elements in tuple using index from 1 to length of tuple\n",
    "for i in range(1,len(input_tuple)):\n",
    "    # check if current element is greater than element just earlier than this element\n",
    "    if input_tuple[i]<input_tuple[i-1]:\n",
    "        # print the message\n",
    "        print(\"tuple is not sorted in ascending order!!\")\n",
    "        # on the flag\n",
    "        flag = 1\n",
    "        # stop the loop using break statement\n",
    "        break \n",
    "# if flag is off means tuple is not sorted\n",
    "if flag==0:\n",
    "    print(\"Tuple is sorted in ascending order!!\")"
   ]
  },
  {
   "cell_type": "markdown",
   "metadata": {},
   "source": [
    "##### 39. Rotate a tuple to the left by `n` positions.\n"
   ]
  },
  {
   "cell_type": "code",
   "execution_count": 24,
   "metadata": {},
   "outputs": [
    {
     "name": "stdout",
     "output_type": "stream",
     "text": [
      "we need to rotate tuple - (1, 2, 3, 4, 5, 6, 7, 8, 9, 10) by 5 positions\n",
      "Rotated Tuple - (6, 7, 8, 9, 10, 1, 2, 3, 4, 5)\n"
     ]
    }
   ],
   "source": [
    "# take space seperated values and split them as elements using slipt() and store the output in variable as tuple\n",
    "# convert the elements into integer using map()\n",
    "# convert this into tuple using tuple()\n",
    "input_tuple = tuple(map(int,input(\"Enter space seperated values as elements of tuple\").split()))\n",
    "# take value of n from user using input() and convert it into integer using int()\n",
    "n = int(input(\"Enter the value of n\"))\n",
    "# print tuple and value of n\n",
    "print(\"we need to rotate tuple - {} by {} positions\".format(input_tuple,n))\n",
    "# if n is greater than the length of input string then bring it into range between 0 to length of tuple \n",
    "n = n % len(input_tuple)\n",
    "''' \n",
    "approach - to rotate it to left by n positions, we simply take first n elements out of tuple and \n",
    "put those elements at the last of the tuple. We can do it by using slicing operator\n",
    "'''\n",
    "# take out first n elements (tuple1), take out remaining element of tuple(tuple)\n",
    "# concate -> tuple2+tuple1\n",
    "rotated_tuple = input_tuple[n:] + input_tuple[:n]\n",
    "# print the rotated tuple\n",
    "print(\"Rotated Tuple -\", rotated_tuple)"
   ]
  },
  {
   "cell_type": "markdown",
   "metadata": {},
   "source": [
    "##### 40. Rotate a tuple to the right by `n` positions."
   ]
  },
  {
   "cell_type": "code",
   "execution_count": 25,
   "metadata": {},
   "outputs": [
    {
     "name": "stdout",
     "output_type": "stream",
     "text": [
      "we need to rotate tuple - (1, 2, 3, 4, 5, 6, 7, 8, 9, 10) by 4 positions\n",
      "Rotated Tuple - (7, 8, 9, 10, 1, 2, 3, 4, 5, 6)\n"
     ]
    }
   ],
   "source": [
    "# take space seperated values and split them as elements using slipt() and store the output in variable as tuple\n",
    "# convert the elements into integer using map()\n",
    "# convert this into tuple using tuple()\n",
    "input_tuple = tuple(map(int,input(\"Enter space seperated values as elements of tuple\").split()))\n",
    "# take value of n from user using input() and convert it into integer using int()\n",
    "n = int(input(\"Enter the value of n\"))\n",
    "# print tuple and value of n\n",
    "print(\"we need to rotate tuple - {} by {} positions\".format(input_tuple,n))\n",
    "# if n is greater than the length of input string then bring it into range between 0 to length of tuple \n",
    "length = len(input_tuple)\n",
    "n = n % length\n",
    "''' \n",
    "approach - create a new tuple by taking last n elements out of the input tuple and take remaing elemnts of \n",
    "input tuple and push them at the last of newly created n-elements tuple\n",
    "we will do this using slicing operator.\n",
    "'''\n",
    "rotated_tuple = input_tuple[length-n:] + input_tuple[:length-n]\n",
    "print(\"Rotated Tuple -\", rotated_tuple)"
   ]
  },
  {
   "cell_type": "markdown",
   "metadata": {},
   "source": [
    "##### 41. Create a tuple of the first 5 Fibonacci numbers.\n"
   ]
  },
  {
   "cell_type": "code",
   "execution_count": 26,
   "metadata": {},
   "outputs": [
    {
     "name": "stdout",
     "output_type": "stream",
     "text": [
      "Tuple of first 5 fibonacci numbers - (0, 1, 1, 2, 3)\n"
     ]
    }
   ],
   "source": [
    "# create a list with 0, 1 as first 2 fixed elemnts of fibanacci series\n",
    "fibo_list = [0,1]\n",
    "# # we need to ppend 5 fibonacci numbers, but we have already appended 2 elements\n",
    "# so we execute loop for 3 numbers only\n",
    "# initialize a index variable 'i', this will keep record of the elements\n",
    "i=2\n",
    "while len(fibo_list)<5:\n",
    "    # append the sum of previous 2 numbers of list as next fibonacci number.\n",
    "    fibo_list.append(fibo_list[i-1]+fibo_list[i-2])\n",
    "    # increase the index by 1\n",
    "    i+=1\n",
    "# print the tuple\n",
    "print(\"Tuple of first 5 fibonacci numbers -\", tuple(fibo_list))"
   ]
  },
  {
   "cell_type": "markdown",
   "metadata": {},
   "source": [
    "##### 42. Create a tuple from user input."
   ]
  },
  {
   "cell_type": "code",
   "execution_count": 28,
   "metadata": {},
   "outputs": [
    {
     "name": "stdout",
     "output_type": "stream",
     "text": [
      "User input tuple: ('1', '2', '3', '4', '5', '6', '7', '8', '9', '10')\n"
     ]
    }
   ],
   "source": [
    "# Taking user input for creating a tuple\n",
    "input_str = input(\"Enter elements separated by space: \")\n",
    "\n",
    "# Splitting the input string into a list of strings\n",
    "str_list = input_str.split()\n",
    "\n",
    "# Converting the list of strings to a tuple\n",
    "list_to_tuple = tuple(str_list)\n",
    "\n",
    "# Printing the created tuple\n",
    "print(\"User input tuple:\", list_to_tuple)"
   ]
  },
  {
   "cell_type": "markdown",
   "metadata": {},
   "source": [
    "##### 43. Swap two elements in a tuple."
   ]
  },
  {
   "cell_type": "code",
   "execution_count": 29,
   "metadata": {},
   "outputs": [
    {
     "name": "stdout",
     "output_type": "stream",
     "text": [
      "Swapped tuple - (1, 2, 3, 9, 5, 6, 7, 8, 4, 10)\n"
     ]
    }
   ],
   "source": [
    "# create a tuple\n",
    "input_tuple = (1,2,3,4,5,6,7,8,9,10)\n",
    "# take 2 index values for which elements are need to be swapped\n",
    "ind1 = 3\n",
    "ind2 = 8\n",
    "# using tuple comprehension iterate over elements of tuple\n",
    "# here we check if current index is not matching ind1 and ind2 then no change in values\n",
    "# if current index is ind1 then put elemnt of index 'ind2 ' else put element value of 'ind1'\n",
    "swapped_tuple = tuple(input_tuple[i] if i not in (ind1, ind2) else input_tuple[ind2] if i == ind1 else input_tuple[ind1] for i in range(len(input_tuple)))\n",
    "# print the tuple\n",
    "print(\"Swapped tuple -\", swapped_tuple)\n"
   ]
  },
  {
   "cell_type": "markdown",
   "metadata": {},
   "source": [
    "##### 44. Reverse the elements of a tuple.\n"
   ]
  },
  {
   "cell_type": "code",
   "execution_count": 30,
   "metadata": {},
   "outputs": [
    {
     "name": "stdout",
     "output_type": "stream",
     "text": [
      "reversed tuple - (10, 9, 8, 7, 6, 5, 4, 3, 2, 1)\n"
     ]
    }
   ],
   "source": [
    "# create a tuple with some values\n",
    "input_tuple = (1,2,3,4,5,6,7,8,9,10)\n",
    "# reverse the tuple using slicing operator with negative jump and print the result\n",
    "print(\"reversed tuple -\", input_tuple[::-1])"
   ]
  },
  {
   "cell_type": "markdown",
   "metadata": {},
   "source": [
    "##### 45. Create a tuple of the first `n` powers of 2.\n"
   ]
  },
  {
   "cell_type": "code",
   "execution_count": 31,
   "metadata": {},
   "outputs": [
    {
     "name": "stdout",
     "output_type": "stream",
     "text": [
      "tuple of first 5 powers of 2 (1, 2, 4, 8, 16)\n"
     ]
    }
   ],
   "source": [
    "# take input value of n from user using input() and convert it into integer using int()\n",
    "n = int(input(\"enter the value of n\"))\n",
    "# using tuple comprehension, we run a loop from 0 to n and at each iteration we 2 to the power i using ** operator.\n",
    "# i is basically a loop variable which is pointing to the value between 0 to n-1\n",
    "power_tuple = tuple(2**i for i in range(n))\n",
    "print(\"tuple of first {} powers of 2 {}\".format(n, power_tuple))"
   ]
  },
  {
   "cell_type": "markdown",
   "metadata": {},
   "source": [
    "##### 46. Find the longest string in a tuple of strings.\n"
   ]
  },
  {
   "cell_type": "code",
   "execution_count": 35,
   "metadata": {},
   "outputs": [
    {
     "name": "stdout",
     "output_type": "stream",
     "text": [
      "Longest string: mutjyhtbg\n"
     ]
    }
   ],
   "source": [
    "# Create a tuple of strings\n",
    "string_tuple = (\"sdgfb\", \"afr\", \"gtrd\", \"mutjyhtbg\", \"acwdreg4\")\n",
    "\n",
    "# Find the longest string in the tuple\n",
    "longest_str = max(string_tuple, key=len)\n",
    "\n",
    "# Print the longest string\n",
    "print(\"Longest string:\", longest_str)"
   ]
  },
  {
   "cell_type": "markdown",
   "metadata": {},
   "source": [
    "##### 47. Find the shortest string in a tuple of strings."
   ]
  },
  {
   "cell_type": "code",
   "execution_count": 34,
   "metadata": {},
   "outputs": [
    {
     "name": "stdout",
     "output_type": "stream",
     "text": [
      "Shortest string: afr\n"
     ]
    }
   ],
   "source": [
    "# Create a tuple of strings\n",
    "string_tuple = (\"sdgfb\", \"afr\", \"gtrd\", \"mutjyhtbg\", \"acwdreg4\")\n",
    "\n",
    "# Find the longest string in the tuple\n",
    "shorest_str = min(string_tuple, key=len)\n",
    "\n",
    "# Print the longest string\n",
    "print(\"Shortest string:\", shorest_str)"
   ]
  },
  {
   "cell_type": "markdown",
   "metadata": {},
   "source": [
    "##### 48. Create a tuple of the first `n` triangular numbers.\n"
   ]
  },
  {
   "cell_type": "code",
   "execution_count": 36,
   "metadata": {},
   "outputs": [
    {
     "name": "stdout",
     "output_type": "stream",
     "text": [
      "Tuple of the first 6 triangular numbers - (1, 3, 6, 10, 15, 21)\n"
     ]
    }
   ],
   "source": [
    "# take input value of n from user using input() and convert it into integer using int()\n",
    "n = int(input(\"enter the value of n\"))\n",
    "# Create a tuple of the first n triangular numbers using a list comprehension\n",
    "triangular_numbers_tuple = tuple((i * (i + 1)) // 2 for i in range(1, n + 1))\n",
    "\n",
    "# Print the tuple of triangular numbers\n",
    "print(\"Tuple of the first {} triangular numbers - {}\".format(n,triangular_numbers_tuple))"
   ]
  },
  {
   "cell_type": "markdown",
   "metadata": {},
   "source": [
    "##### 49. Check if a tuple contains another tuple as a subsequence.\n"
   ]
  },
  {
   "cell_type": "code",
   "execution_count": 37,
   "metadata": {},
   "outputs": [
    {
     "name": "stdout",
     "output_type": "stream",
     "text": [
      "First tuple - ['1', '2', '3', '4', '5', '6', '7', '8', '9', '10']\n",
      "Second tuple - ['2', '4', '5', '8']\n",
      "Yes, It has subsequence tuple\n"
     ]
    }
   ],
   "source": [
    "# take space seperated values and split them as elements using slipt() and store the output in variable as parent_tuple\n",
    "# convert this into tuple using tuple()\n",
    "parent_tuple = tuple(input(\"Enter space seperated values as elements in tuple 1(Parent tuple)\").split())\n",
    "# take space seperated values and split them as elements using slipt() and store the output in variable as sun_tuple\n",
    "# convert this into tuple using tuple()\n",
    "sub_tuple = tuple(input(\"Enter space seperated values as elements in tuple 2(Subsequence tuple)\").split())\n",
    "# print the input tuples\n",
    "print(\"First tuple -\", parent_tuple)\n",
    "print(\"Second tuple -\", sub_tuple)\n",
    "''' \n",
    "approach - A subsequence is just some of the terms of the original sequence, kept in order.\n",
    "So we start to keep a record of index in subquence matched element using a variable 'ind'.\n",
    "if element at index 0 of subsequence tuple is matched with parent tuple element and we increase value of ind by 1.\n",
    "so we now need to check if next element of subsequence is matching with an element of parent tuple after the mecthed elemnt of parent tuple.\n",
    "We will repeat the same for all element of parent tuple. \n",
    "If anywhere till the end of loop, we get all the elements of subsequence tuple matched with parent tuple elements in same order\n",
    "It means it is subsequence tuple is subsequence of parent tuple\n",
    "'''\n",
    "# initialize a variable to store index of elements matched for subsequence\n",
    "# initially this variable will store 0 coz index of tuple starts from 0 \n",
    "ind = 0\n",
    "# intialize a flag to show if value of ind variable is equalto length of subsequence tuple\n",
    "flag = False\n",
    "# iterate over the elements of parent_tuple\n",
    "for i in parent_tuple:\n",
    "    # if element of parent_tuple is matched with element of sub_tuple at index ind \n",
    "    if i == sub_tuple[ind]:\n",
    "        # increase the value if ind by 1\n",
    "        ind += 1\n",
    "    # if ind is equal to length of sub_tuple, means it is a subsequence\n",
    "    if ind == len(sub_tuple):\n",
    "        # on the flag\n",
    "        flag = True\n",
    "        # print the resultant message\n",
    "        print(\"Yes, It has subsequence tuple\")\n",
    "        # stop the loop by using break statement\n",
    "        break\n",
    "# if flag is off, means it is not subsequence of parent tuple\n",
    "if flag == False:\n",
    "    print(\"No, It has not contained subsequence tuple\")\n",
    "\n"
   ]
  },
  {
   "cell_type": "markdown",
   "metadata": {},
   "source": [
    "##### 50. Create a tuple of alternating 1s and 0s of length `n`."
   ]
  },
  {
   "cell_type": "code",
   "execution_count": 16,
   "metadata": {},
   "outputs": [
    {
     "name": "stdout",
     "output_type": "stream",
     "text": [
      "Tuple of 0 1 of length 8 is (1, 0, 1, 0, 1, 0, 1, 0)\n"
     ]
    }
   ],
   "source": [
    "# take input value of n from user using input() and convert it into integer using int()\n",
    "n = int(input(\"enter the value of n\"))\n",
    "# usin tuple comprehension, we iterate loop in the range from 0 to n-1\n",
    "# at each iteration we check if i is divisible by 2 if it is , then put 1 else put 0\n",
    "tuple_0_1 = tuple(int(i%2==0) for i in range(n))\n",
    "# print the tuple\n",
    "print(\"Tuple of 0 1 of length {} is {}\".format(n, tuple_0_1))"
   ]
  },
  {
   "cell_type": "markdown",
   "metadata": {},
   "source": [
    "## Set Based Questions"
   ]
  },
  {
   "cell_type": "markdown",
   "metadata": {},
   "source": [
    "##### 1. Create a set with integers from 1 to 5.\n"
   ]
  },
  {
   "cell_type": "code",
   "execution_count": 6,
   "metadata": {},
   "outputs": [
    {
     "name": "stdout",
     "output_type": "stream",
     "text": [
      "set of 1 to 5 - {1, 2, 3, 4, 5}\n"
     ]
    }
   ],
   "source": [
    "# creating a set by using list comprehension and then pass it in set().\n",
    "#In list comprehension, execute the for loop from 1 to 6\n",
    "set1 = set(i for i in range(1,6))\n",
    "\n",
    "#print the output set\n",
    "print(\"set of 1 to 5 -\", set1)"
   ]
  },
  {
   "cell_type": "markdown",
   "metadata": {},
   "source": [
    "##### 2. Add an element to a set.\n"
   ]
  },
  {
   "cell_type": "markdown",
   "metadata": {},
   "source": [
    "* approach - use add(). This function basically adds element in the set."
   ]
  },
  {
   "cell_type": "code",
   "execution_count": 4,
   "metadata": {},
   "outputs": [
    {
     "name": "stdout",
     "output_type": "stream",
     "text": [
      "Input Set - {1, 2, 3, 4, 5, 6}\n",
      "Set after addition of element 8 - {1, 2, 3, 4, 5, 6, 8}\n"
     ]
    }
   ],
   "source": [
    "# create a set having elements 1 to 6 by using {} brackets\n",
    "set1 = {1,2,3,4,5,6}\n",
    "# print input set\n",
    "print(\"Input Set -\", set1)\n",
    "\n",
    "# use add() to add element 8 in set created above.\n",
    "set1.add(8)\n",
    "\n",
    "# print set after addition.\n",
    "print(\"Set after addition of element 8 -\", set1)"
   ]
  },
  {
   "cell_type": "markdown",
   "metadata": {},
   "source": [
    "##### 3. Remove an element from a set.\n"
   ]
  },
  {
   "cell_type": "markdown",
   "metadata": {},
   "source": [
    "* approach - use discard(). This function is used to remove the particular element from the set."
   ]
  },
  {
   "cell_type": "code",
   "execution_count": 7,
   "metadata": {},
   "outputs": [
    {
     "name": "stdout",
     "output_type": "stream",
     "text": [
      "Input Set - {1, 2, 3, 4, 5, 6}\n",
      "Set after removal of element 4 - {1, 2, 3, 5, 6}\n"
     ]
    }
   ],
   "source": [
    "# create a set having elements 1 to 6 by using {} brackets\n",
    "set1 = {1,2,3,4,5,6}\n",
    "# print input set\n",
    "print(\"Input Set -\", set1)\n",
    "\n",
    "# use discard() to remove element 4\n",
    "set1.discard(4)\n",
    "# print set after removal of element 4\n",
    "print(\"Set after removal of element 4 -\", set1)"
   ]
  },
  {
   "cell_type": "markdown",
   "metadata": {},
   "source": [
    "##### 4. Check if an element exists in a set."
   ]
  },
  {
   "cell_type": "code",
   "execution_count": 9,
   "metadata": {},
   "outputs": [
    {
     "name": "stdout",
     "output_type": "stream",
     "text": [
      "Input Set - {1, 2, 3, 4, 5, 6}\n",
      "Element 3 is present\n"
     ]
    }
   ],
   "source": [
    "# create a set having elements 1 to 6 by using {} brackets\n",
    "set1 = {1,2,3,4,5,6}\n",
    "# print input set\n",
    "print(\"Input Set -\", set1)\n",
    "\n",
    "# initialize a variable named search_element, give it the value you want to check\n",
    "search_element = 3\n",
    "\n",
    "# check if element is present in set using 'in' operator.\n",
    "# If it is present, print the respective message.\n",
    "# else print -> element is not present.\n",
    "print(\"Element {} is present\".format(search_element)) if search_element in set1 else print(\"Element {} is not present\".format(search_element))"
   ]
  },
  {
   "cell_type": "markdown",
   "metadata": {},
   "source": [
    "##### 5. Find the length of a set without using the `len()` function.\n"
   ]
  },
  {
   "cell_type": "code",
   "execution_count": 12,
   "metadata": {},
   "outputs": [
    {
     "name": "stdout",
     "output_type": "stream",
     "text": [
      "Input Set - {1, 2, 3, 4, 5, 6, 7, 8, 9, 10}\n",
      "Length of set {1, 2, 3, 4, 5, 6, 7, 8, 9, 10} is 10\n"
     ]
    }
   ],
   "source": [
    "# create a set having elements 1 to 6 by using {} brackets\n",
    "set1 = {1,2,3,4,5,6,7,8,9,10}\n",
    "# print input set\n",
    "print(\"Input Set -\", set1)\n",
    "# initialize the variable as 0 to store the length of set\n",
    "counter = 0\n",
    "# iterate over elements of set\n",
    "for i in set1:\n",
    "    # increase the value of counter by 1 at each iteration\n",
    "    counter += 1\n",
    "# print the result.\n",
    "print(\"Length of set {} is {}\".format(set1, counter))"
   ]
  },
  {
   "cell_type": "markdown",
   "metadata": {},
   "source": [
    "##### 6. Clear all elements from a set.\n"
   ]
  },
  {
   "cell_type": "markdown",
   "metadata": {},
   "source": [
    "- We create a set named set1 containing the integers from 1 to 5 using the curly braces {}.\n",
    "- We use the print() function to display the contents of the original set set1.\n",
    "- We call the clear() method on the set1 set. This method removes all elements from the set, effectively emptying it.\n",
    "- We again use the print() function to display the contents of the set after it has been cleared. Since all elements have been removed, the set will be empty, and this will be reflected in the output."
   ]
  },
  {
   "cell_type": "code",
   "execution_count": 13,
   "metadata": {},
   "outputs": [
    {
     "name": "stdout",
     "output_type": "stream",
     "text": [
      "Input Set - {1, 2, 3, 4, 5, 6, 7, 8, 9, 10}\n",
      "Set after clearing all elements -  set()\n"
     ]
    }
   ],
   "source": [
    "# create a set having elements 1 to 6 by using {} brackets\n",
    "set1 = {1,2,3,4,5,6,7,8,9,10}\n",
    "# print input set\n",
    "print(\"Input Set -\", set1)\n",
    "# to clear the elements from set, we use clear()\n",
    "set1.clear()\n",
    "# print the resultant set\n",
    "print(\"Set after clearing all elements - \", set1)"
   ]
  },
  {
   "cell_type": "markdown",
   "metadata": {},
   "source": [
    "##### 7. Create a set of even numbers from 1 to 10.\n"
   ]
  },
  {
   "cell_type": "code",
   "execution_count": 14,
   "metadata": {},
   "outputs": [
    {
     "name": "stdout",
     "output_type": "stream",
     "text": [
      "Set of even numbers from 1 to 10 - {2, 4, 6, 8, 10}\n"
     ]
    }
   ],
   "source": [
    "# initialize an empty set to store even elements\n",
    "even_set = set()\n",
    "# execute a loop from 1 to 11\n",
    "for i in range(1,11):\n",
    "    # check if i is divisible by 2\n",
    "    if i%2==0:\n",
    "        # add the element in even_set\n",
    "        even_set.add(i)\n",
    "# print the resultant set\n",
    "print(\"Set of even numbers from 1 to 10 -\", even_set)"
   ]
  },
  {
   "cell_type": "markdown",
   "metadata": {},
   "source": [
    "##### 8. Create a set of odd numbers from 1 to 10.\n"
   ]
  },
  {
   "cell_type": "code",
   "execution_count": 15,
   "metadata": {},
   "outputs": [
    {
     "name": "stdout",
     "output_type": "stream",
     "text": [
      "Set of odd numbers from 1 to 10 - {1, 3, 5, 7, 9}\n"
     ]
    }
   ],
   "source": [
    "# initialize an empty set to store odd elements\n",
    "odd_set = set()\n",
    "# execute a loop from 1 to 11\n",
    "for i in range(1,11):\n",
    "    # check if i is not divisible by 2\n",
    "    if i%2!=0:\n",
    "        # add the element in odd_set\n",
    "        odd_set.add(i)\n",
    "# print the resultant set\n",
    "print(\"Set of odd numbers from 1 to 10 -\", odd_set)"
   ]
  },
  {
   "cell_type": "markdown",
   "metadata": {},
   "source": [
    "##### 9. Find the union of two sets.\n"
   ]
  },
  {
   "cell_type": "code",
   "execution_count": 16,
   "metadata": {},
   "outputs": [
    {
     "name": "stdout",
     "output_type": "stream",
     "text": [
      "Set 1: {1, 2, 3, 4, 5}\n",
      "Set 2: {4, 5, 6, 7, 8}\n",
      "Union of Set 1 and Set 2: {1, 2, 3, 4, 5, 6, 7, 8}\n"
     ]
    }
   ],
   "source": [
    "# define two sets\n",
    "set1 = {1, 2, 3, 4, 5}\n",
    "set2 = {4, 5, 6, 7, 8}\n",
    "# initial sets\n",
    "print(\"Set 1:\", set1)\n",
    "print(\"Set 2:\", set2)\n",
    "# calculate union of the two sets using the 'union()' method\n",
    "union_set = set1.union(set2)\n",
    "\n",
    "# Print union of sets\n",
    "print(\"Union of Set 1 and Set 2:\", union_set)"
   ]
  },
  {
   "cell_type": "markdown",
   "metadata": {},
   "source": [
    "##### 10. Find the intersection of two sets."
   ]
  },
  {
   "cell_type": "code",
   "execution_count": 17,
   "metadata": {},
   "outputs": [
    {
     "name": "stdout",
     "output_type": "stream",
     "text": [
      "Set 1: {1, 2, 3, 4, 5}\n",
      "Set 2: {4, 5, 6, 7, 8}\n",
      "intersection of Set 1 and Set 2: {4, 5}\n"
     ]
    }
   ],
   "source": [
    "# define two sets\n",
    "set1 = {1, 2, 3, 4, 5}\n",
    "set2 = {4, 5, 6, 7, 8}\n",
    "# initial sets\n",
    "print(\"Set 1:\", set1)\n",
    "print(\"Set 2:\", set2)\n",
    "# calculate intersection of the two sets using the 'intersection()' method\n",
    "intersection_set = set1.intersection(set2)\n",
    "\n",
    "# Print intersection of sets\n",
    "print(\"intersection of Set 1 and Set 2:\", intersection_set)"
   ]
  },
  {
   "cell_type": "markdown",
   "metadata": {},
   "source": [
    "##### 11. Find the difference between two sets.\n"
   ]
  },
  {
   "cell_type": "code",
   "execution_count": 18,
   "metadata": {},
   "outputs": [
    {
     "name": "stdout",
     "output_type": "stream",
     "text": [
      "Set 1: {1, 2, 3, 4, 5}\n",
      "Set 2: {4, 5, 6, 7, 8}\n",
      "difference of Set 1 and Set 2: {1, 2, 3}\n"
     ]
    }
   ],
   "source": [
    "# define two sets\n",
    "set1 = {1, 2, 3, 4, 5}\n",
    "set2 = {4, 5, 6, 7, 8}\n",
    "# initial sets\n",
    "print(\"Set 1:\", set1)\n",
    "print(\"Set 2:\", set2)\n",
    "# calculate difference of the two sets using the 'difference()' method\n",
    "difference_set = set1.difference(set2)\n",
    "\n",
    "# Print difference of sets\n",
    "print(\"difference of Set 1 and Set 2:\", difference_set)"
   ]
  },
  {
   "cell_type": "markdown",
   "metadata": {},
   "source": [
    "##### 12. Check if a set is a subset of another set.\n"
   ]
  },
  {
   "cell_type": "code",
   "execution_count": 23,
   "metadata": {},
   "outputs": [
    {
     "name": "stdout",
     "output_type": "stream",
     "text": [
      "Set 1: {1, 2, 3, 4, 5}\n",
      "Set 2: {1, 2, 3, 4, 5, 6, 7, 8}\n",
      "set1 is subset of set2 - True\n"
     ]
    }
   ],
   "source": [
    "# define two sets\n",
    "set1 = {1, 2, 3, 4, 5}\n",
    "set2 = {1, 2, 3, 4, 5,6,7,8}\n",
    "# initial sets\n",
    "print(\"Set 1:\", set1)\n",
    "print(\"Set 2:\", set2)\n",
    "# check if set1 is subset of set2  'issubset()' method\n",
    "is_subset = set1.issubset(set2)\n",
    "\n",
    "# Print union of sets\n",
    "print(\"set1 is subset of set2 -\", is_subset)"
   ]
  },
  {
   "cell_type": "markdown",
   "metadata": {},
   "source": [
    "##### 13. Check if a set is a superset of another set.\n"
   ]
  },
  {
   "cell_type": "code",
   "execution_count": 22,
   "metadata": {},
   "outputs": [
    {
     "name": "stdout",
     "output_type": "stream",
     "text": [
      "Set 1: {1, 2, 3, 4, 5}\n",
      "Set 2: {1, 2, 3}\n",
      "set1 is superset of set2 - True\n"
     ]
    }
   ],
   "source": [
    "# define two sets\n",
    "set1 = {1, 2, 3, 4, 5}\n",
    "set2 = {1, 2, 3}\n",
    "# initial sets\n",
    "print(\"Set 1:\", set1)\n",
    "print(\"Set 2:\", set2)\n",
    "# check if set1 is superset of set2 'issubset()' method\n",
    "is_superset = set1.issuperset(set2)\n",
    "\n",
    "# Print union of sets\n",
    "print(\"set1 is superset of set2 -\", is_superset)"
   ]
  },
  {
   "cell_type": "markdown",
   "metadata": {},
   "source": [
    "##### 14. Create a set from a list.\n"
   ]
  },
  {
   "cell_type": "code",
   "execution_count": 26,
   "metadata": {},
   "outputs": [
    {
     "name": "stdout",
     "output_type": "stream",
     "text": [
      "The list is [1, 2, 3, 4, 5, 6, 7]\n",
      "Set from list : - {1, 2, 3, 4, 5, 6, 7}\n"
     ]
    }
   ],
   "source": [
    "#create a list \n",
    "l = [1,2,3,4,5,6,7]\n",
    "# print the initial list \n",
    "print(\"The list is\", l)\n",
    "\n",
    "# Use the set() constructor to convert the list into a set\n",
    "# This automatically removes duplicates and creates a set with unique elements\n",
    "set1 = set(l)\n",
    "\n",
    "# print the set\n",
    "print(\"Set from list : -\", set1)"
   ]
  },
  {
   "cell_type": "markdown",
   "metadata": {},
   "source": [
    "##### 15. Convert a set to a list.\n"
   ]
  },
  {
   "cell_type": "code",
   "execution_count": 27,
   "metadata": {},
   "outputs": [
    {
     "name": "stdout",
     "output_type": "stream",
     "text": [
      "The set is {1, 2, 3, 4, 5, 6, 7, 8, 9}\n",
      "the list is [1, 2, 3, 4, 5, 6, 7, 8, 9]\n"
     ]
    }
   ],
   "source": [
    "# create a set \n",
    "set1 = {1,2,3,4,5,6,7,8,9}\n",
    "# print set \n",
    "print(\"The set is\",set1)\n",
    "# Convert the set to a list using the list() function\n",
    "list1 = list(set1)\n",
    "# print the list from set \n",
    "print(\"the list is\", list1)\n"
   ]
  },
  {
   "cell_type": "markdown",
   "metadata": {},
   "source": [
    "##### 16. Remove a random element from a set."
   ]
  },
  {
   "cell_type": "code",
   "execution_count": 28,
   "metadata": {},
   "outputs": [
    {
     "name": "stdout",
     "output_type": "stream",
     "text": [
      "Input set: {1, 2, 3, 4, 5}\n",
      "Updated set after removing 4 - {1, 2, 3, 5}\n"
     ]
    }
   ],
   "source": [
    "import random\n",
    "# Import the random module\n",
    "\n",
    "# Create a set \n",
    "set1 = {1, 2, 3, 4, 5}\n",
    "\n",
    "# print the  set\n",
    "print(\"Input set:\", set1)\n",
    "\n",
    "# Choose a random element from the set using the random.choice() function\n",
    "random_element = random.choice(list(set1))\n",
    "\n",
    "# Remove the chosen random element from the set using the remove() method\n",
    "set1.remove(random_element)\n",
    "\n",
    "# Display the updated set after removing the random element\n",
    "print(\"The output set after removing {} - {}\".format(random_element, set1))"
   ]
  },
  {
   "cell_type": "markdown",
   "metadata": {},
   "source": [
    "##### 17. Pop an element from a set."
   ]
  },
  {
   "cell_type": "code",
   "execution_count": 29,
   "metadata": {},
   "outputs": [
    {
     "name": "stdout",
     "output_type": "stream",
     "text": [
      "Input set: {1, 2, 3, 4, 5}\n",
      "set after Popping element 1 is {2, 3, 4, 5}\n"
     ]
    }
   ],
   "source": [
    "# Create a set with some elements\n",
    "set1 = {1, 2, 3, 4, 5}\n",
    "\n",
    "# Print the set\n",
    "print(\"Input set:\", set1)\n",
    "\n",
    "# Pop an element from the set using the pop() method\n",
    "pop_element = set1.pop()\n",
    "\n",
    "# Print the element that was popped and the set\n",
    "print(\"set after Popping element {} is {}\".format( pop_element, set1))"
   ]
  },
  {
   "cell_type": "markdown",
   "metadata": {},
   "source": [
    "##### 18. Check if two sets have no elements in common.\n"
   ]
  },
  {
   "cell_type": "code",
   "execution_count": 33,
   "metadata": {},
   "outputs": [
    {
     "name": "stdout",
     "output_type": "stream",
     "text": [
      "Set 1 -  {1, 2, 3, 4, 8}\n",
      "set 2 - {8, 5, 6, 7}\n",
      "The two sets have common elements- {8}\n"
     ]
    }
   ],
   "source": [
    "# Create two sets\n",
    "set1 = {1, 2, 3, 4,8}\n",
    "set2 = {5, 6, 7, 8}\n",
    "# print the sets\n",
    "print(\"Set 1 - \", set1)\n",
    "print(\"set 2 -\", set2)\n",
    "# Step 2: Check if the intersection of the two sets is empty and print the result\n",
    "# The intersection is the set of elements that are common to both sets\n",
    "print(\"The two sets have no common elements.\") if not set1.intersection(set2) else print(\"The two sets have common elements-\", set1.intersection(set2))\n",
    "\n"
   ]
  },
  {
   "cell_type": "markdown",
   "metadata": {},
   "source": [
    "##### 19. Find the symmetric difference between two sets.\n"
   ]
  },
  {
   "cell_type": "code",
   "execution_count": 34,
   "metadata": {},
   "outputs": [
    {
     "name": "stdout",
     "output_type": "stream",
     "text": [
      "Set 1 -  {1, 2, 3, 4, 5}\n",
      "set 2 - {4, 5, 6, 7, 8}\n",
      "Symmetric Difference: {1, 2, 3, 6, 7, 8}\n"
     ]
    }
   ],
   "source": [
    "# Define two sets\n",
    "set1 = {1, 2, 3, 4, 5}\n",
    "set2 = {4, 5, 6, 7, 8}\n",
    "# print the sets\n",
    "print(\"Set 1 - \", set1)\n",
    "print(\"set 2 -\", set2)\n",
    "# Calculate the symmetric difference using the ^ operator\n",
    "difference_set = set1 ^ set2\n",
    "\n",
    "# Print the symmetric difference\n",
    "print(\"symmetric difference:\", difference_set)"
   ]
  },
  {
   "cell_type": "markdown",
   "metadata": {},
   "source": [
    "##### 20. Update a set with elements from another set.\n"
   ]
  },
  {
   "cell_type": "code",
   "execution_count": 35,
   "metadata": {},
   "outputs": [
    {
     "name": "stdout",
     "output_type": "stream",
     "text": [
      "Set 1 - {1, 2, 3}\n",
      "Set 2 - {3, 4, 5}\n",
      "Updated Set 1: {1, 2, 3, 4, 5}\n"
     ]
    }
   ],
   "source": [
    "# Create the sets\n",
    "set1 = {1, 2, 3}\n",
    "set2 = {3, 4, 5}\n",
    "\n",
    "# print the sets\n",
    "print(\"Set 1 -\", set1)\n",
    "print(\"Set 2 -\", set2)\n",
    "\n",
    "# Update set1 with elements from set2 using update()\n",
    "set1.update(set2)\n",
    "# print the result\n",
    "print(\"Updated Set 1:\", set1)"
   ]
  },
  {
   "cell_type": "markdown",
   "metadata": {},
   "source": [
    "##### 21. Create a set of the first 5 prime numbers.\n"
   ]
  },
  {
   "cell_type": "code",
   "execution_count": 3,
   "metadata": {},
   "outputs": [
    {
     "name": "stdout",
     "output_type": "stream",
     "text": [
      "Prime set - {2, 3, 5, 7, 11}\n"
     ]
    }
   ],
   "source": [
    "''' \n",
    "prime numbers are those numbers which are divisible by 1 or by itself.\n",
    "Note: 1 is not prime number\n",
    "'''\n",
    "def is_prime(num):\n",
    "    # execute a loop from 2 to num/2, if num is divisible by any of the number in this range, it will not be a prime number\n",
    "    for i in range(2,num//2+1):\n",
    "        # if num is divisible by i then it is not prime, so return False\n",
    "        if num%i==0 :\n",
    "            return False\n",
    "    return num>1\n",
    "# initialize an empty set to store prime values\n",
    "prime_set = set()\n",
    "# initialize a variable with 2 as we know 1 is not considered as prime\n",
    "i=2\n",
    "# run the loop until length of set is 5\n",
    "while len(prime_set)<5:\n",
    "    # if i is prime then add it into set\n",
    "    if is_prime(i):\n",
    "        prime_set.add(i)\n",
    "    # increase the value of i by 1 at each iteration\n",
    "    i+=1\n",
    "# print the resultant set\n",
    "print(\"Prime set -\", prime_set)\n"
   ]
  },
  {
   "cell_type": "markdown",
   "metadata": {},
   "source": [
    "##### 22. Check if two sets are identical.\n"
   ]
  },
  {
   "cell_type": "code",
   "execution_count": null,
   "metadata": {},
   "outputs": [],
   "source": [
    "# create two sets\n",
    "set1 = {1, 2, 3, 4, 5}\n",
    "set2 = {3, 1, 5, 2, 4}  \n",
    "# The order of elements doesn't matter in sets\n",
    "\n",
    "# Check if the sets are identical using the `==` operator\n",
    "# Sets are unordered collections, so the order of elements doesn't matter.\n",
    "# The `==` operator compares the content of the sets.\n",
    "if set1 == set2:\n",
    "    print(\"The sets are identical.\")\n",
    "else:\n",
    "    print(\"The sets are not identical.\")"
   ]
  },
  {
   "cell_type": "markdown",
   "metadata": {},
   "source": [
    "##### 23. Create a frozen set."
   ]
  },
  {
   "cell_type": "code",
   "execution_count": 40,
   "metadata": {},
   "outputs": [
    {
     "name": "stdout",
     "output_type": "stream",
     "text": [
      "Frozen Set: {1, 2, 3, 4, 5}\n"
     ]
    }
   ],
   "source": [
    "# create a list\n",
    "list1 = [1, 2, 3, 4, 5]\n",
    "\n",
    "# Create a frozen set using the 'frozenset' constructor and passing list1\n",
    "frozen_set = frozenset(list1)\n",
    "\n",
    "# Print the frozen set\n",
    "print(\"Frozen Set:\", set(frozen_set))"
   ]
  },
  {
   "cell_type": "markdown",
   "metadata": {},
   "source": [
    "##### 24. Check if a set is disjoint with another set.\n"
   ]
  },
  {
   "cell_type": "code",
   "execution_count": 41,
   "metadata": {},
   "outputs": [
    {
     "name": "stdout",
     "output_type": "stream",
     "text": [
      "The sets are disjoint \n"
     ]
    }
   ],
   "source": [
    "# create two sets \n",
    "set1 = {1, 2, 3, 4}\n",
    "set2 = {5, 6, 7, 8}\n",
    "\n",
    "# Use the isdisjoint() method to check if the sets are disjoint\n",
    "# The `isdisjoint()` method returns True if the sets have no common elements,\n",
    "# and False if they have at least one common element.\n",
    "# print the result\n",
    "print(\"The sets are disjoint \") if set1.isdisjoint(set2) else print(\"The sets are not disjoint \") "
   ]
  },
  {
   "cell_type": "markdown",
   "metadata": {},
   "source": [
    "##### 25. Create a set of squares of numbers from 1 to 5.\n"
   ]
  },
  {
   "cell_type": "code",
   "execution_count": 42,
   "metadata": {},
   "outputs": [
    {
     "name": "stdout",
     "output_type": "stream",
     "text": [
      "The set is - {1, 4, 9, 16, 25}\n"
     ]
    }
   ],
   "source": [
    "# use list comprehension \n",
    "# execute a for loop from 1 to 6 inside list comprehension \n",
    "# do square of each element in range 1 to 5 using ** operator\n",
    "square_set = set(i**2 for i in range(1,6))\n",
    "# print the result\n",
    "print(\"The set is -\", square_set)"
   ]
  },
  {
   "cell_type": "markdown",
   "metadata": {},
   "source": [
    "##### 26. Filter out all even numbers from a set."
   ]
  },
  {
   "cell_type": "code",
   "execution_count": 1,
   "metadata": {},
   "outputs": [
    {
     "name": "stdout",
     "output_type": "stream",
     "text": [
      "Input set = {1, 2, 3, 4, 5}\n",
      "Even numbers from set - {2, 4}\n"
     ]
    }
   ],
   "source": [
    "# Create a set with some elements\n",
    "set1 = {1, 2, 3, 4, 5}\n",
    "# print the set\n",
    "print(\"Input set =\", set1)\n",
    "\n",
    "# we can get the even numbers by using list comprehension inside set()\n",
    "# using list comprehension , we get all the evn numbers,\n",
    "# set() will create a set of all even numbers given by list comprehension\n",
    "\n",
    "even_set = set(i for i in set1 if i%2==0)\n",
    "\n",
    "# print the output\n",
    "print(\"Even numbers from set -\", even_set)"
   ]
  },
  {
   "cell_type": "markdown",
   "metadata": {},
   "source": [
    "##### 27. Multiply all elements in a set by 2.\n"
   ]
  },
  {
   "cell_type": "code",
   "execution_count": 4,
   "metadata": {},
   "outputs": [
    {
     "name": "stdout",
     "output_type": "stream",
     "text": [
      "Input set = {1, 2, 3, 4, 5}\n",
      "Output set - {2, 4, 6, 8, 10}\n"
     ]
    }
   ],
   "source": [
    "# Create a set with some elements\n",
    "set1 = {1, 2, 3, 4, 5}\n",
    "# print the set\n",
    "print(\"Input set =\", set1)\n",
    "\n",
    "# we can get all elements multiplied by 2 by using list comprehension inside set()\n",
    "# using list comprehension , we get all the elements in set and multiplied them by 2,\n",
    "# set() will create a set of result given by list comprehension\n",
    "multiplied_set = set(i*2 for i in set1)\n",
    "\n",
    "# print the output\n",
    "print(\"Output set -\", multiplied_set)"
   ]
  },
  {
   "cell_type": "markdown",
   "metadata": {},
   "source": [
    "##### 28. Create a set of random numbers.\n"
   ]
  },
  {
   "cell_type": "code",
   "execution_count": 5,
   "metadata": {},
   "outputs": [
    {
     "name": "stdout",
     "output_type": "stream",
     "text": [
      "set of random numbers: {5, 9, 12, 13, 49}\n"
     ]
    }
   ],
   "source": [
    "# Import the random module to generate random numbers\n",
    "import random\n",
    "\n",
    "# choose the number of elements in set i.e. length of set\n",
    "length = 5\n",
    "\n",
    "# Initialize an empty set to store the random numbers\n",
    "random_number_set = set()\n",
    "\n",
    "# Use a for loop to get random numbers and add them to the set\n",
    "# we will run this loop from 0 to length-1\n",
    "for _ in range(length):\n",
    "    # get a random integer using the randint() function from the 'random' module\n",
    "    random_num = random.randint(1, 50)  # Generate a random number between 1 and 50\n",
    "    # Add the random number to the set\n",
    "    random_number_set.add(random_num)\n",
    "\n",
    "# Print the output set\n",
    "print(\"set of random numbers:\", random_number_set)"
   ]
  },
  {
   "cell_type": "markdown",
   "metadata": {},
   "source": [
    "##### 29. Check if a set is empty."
   ]
  },
  {
   "cell_type": "code",
   "execution_count": 13,
   "metadata": {},
   "outputs": [
    {
     "name": "stdout",
     "output_type": "stream",
     "text": [
      "Set1 is empty\n",
      "Set2 is not empty\n"
     ]
    }
   ],
   "source": [
    "# create two sets\n",
    "set1 = set()\n",
    "set2 = {1,2,3,4,5}\n",
    "\n",
    "# check if sets are empty or not and print the result message.\n",
    "print(\"Set1 is not empty\") if set1 else print(\"Set1 is empty\") \n",
    "print(\"Set2 is not empty\") if set2 else print(\"Set2 is empty\") "
   ]
  },
  {
   "cell_type": "markdown",
   "metadata": {},
   "source": [
    "##### 30. Create a nested set (hint: use frozenset).\n"
   ]
  },
  {
   "cell_type": "code",
   "execution_count": 12,
   "metadata": {},
   "outputs": [
    {
     "name": "stdout",
     "output_type": "stream",
     "text": [
      "Nested Set - {frozenset({1, 2, 3, 4, 5}), frozenset({6, 7, 8, 9, 10})}\n"
     ]
    }
   ],
   "source": [
    "# Create two sets\n",
    "set1 = {1, 2, 3, 4, 5}\n",
    "set2 = {6, 7, 8, 9, 10}\n",
    "\n",
    "# Create frozensets from the two sets via frozenset() function\n",
    "frozen_set1 = frozenset(set1)\n",
    "frozen_set2 = frozenset(set2)\n",
    "\n",
    "# Create the nested set using the frozensets\n",
    "nested_set = {frozen_set1, frozen_set2}\n",
    "\n",
    "# Print the nested set\n",
    "print(\"Nested Set -\", (nested_set))"
   ]
  },
  {
   "cell_type": "markdown",
   "metadata": {},
   "source": [
    "##### 31. Remove an element from a set using the discard method.\n"
   ]
  },
  {
   "cell_type": "code",
   "execution_count": 15,
   "metadata": {},
   "outputs": [
    {
     "name": "stdout",
     "output_type": "stream",
     "text": [
      "Initial set - {1, 2, 3, 4, 5, 6, 7}\n",
      "Set after removal - {1, 2, 3, 4, 5, 6}\n"
     ]
    }
   ],
   "source": [
    "# create a set\n",
    "set1 = {1,2,3,4,5,6,7}\n",
    "# print the initial set\n",
    "print(\"Initial set -\", set1)\n",
    "\n",
    "# let's say we need to remove element '7' from set, we will use discard() to do this\n",
    "set1.discard(7)\n",
    "\n",
    "# print the set after removal of element\n",
    "print(\"Set after removal -\", set1)"
   ]
  },
  {
   "cell_type": "markdown",
   "metadata": {},
   "source": [
    "##### 32. Compare two sets."
   ]
  },
  {
   "cell_type": "code",
   "execution_count": 1,
   "metadata": {},
   "outputs": [
    {
     "name": "stdout",
     "output_type": "stream",
     "text": [
      "set1 == set2: False\n",
      "set1 > set2: False\n",
      "set1 < set2: False\n",
      "set1 != set2: True\n",
      "set1 >= set2: False\n",
      "set1 <= set2: False\n"
     ]
    }
   ],
   "source": [
    "#Create two tuples\n",
    "set1 = {'a','b','c','d'}\n",
    "set2 = {'a','e','d','v'}\n",
    "\n",
    "# Step 2: Compare the two sets using comparison operators\n",
    "print(\"set1 == set2:\", set1==set2)  # equality check\n",
    "print(\"set1 > set2:\", set1>set2)    # greater than check\n",
    "print(\"set1 < set2:\", set1<set2)    # less than check\n",
    "\n",
    "print(\"set1 != set2:\", set1!=set2)  # inequality check\n",
    "print(\"set1 >= set2:\", set1>=set2)  # greater than or equal to check\n",
    "print(\"set1 <= set2:\", set1<=set2)  # less than or equal to check\n"
   ]
  },
  {
   "cell_type": "markdown",
   "metadata": {},
   "source": [
    "##### 33. Create a set from a string.\n"
   ]
  },
  {
   "cell_type": "code",
   "execution_count": 2,
   "metadata": {},
   "outputs": [
    {
     "name": "stdout",
     "output_type": "stream",
     "text": [
      "Input String - Hello Python\n",
      "Output set from string- {'t', 'y', 'e', 'l', ' ', 'P', 'H', 'n', 'o', 'h'}\n"
     ]
    }
   ],
   "source": [
    "#  create a string\n",
    "string1 = \"Hello Python\"\n",
    "# initial string is -\n",
    "print(\"Input String -\", string1)\n",
    "\n",
    "# convert the string into set using set()\n",
    "set_from_string = set(string1)\n",
    "\n",
    "# print the output set\n",
    "print(\"Output set from string-\", set_from_string)"
   ]
  },
  {
   "cell_type": "markdown",
   "metadata": {},
   "source": [
    "##### 34. Convert a set of strings to a set of integers.\n"
   ]
  },
  {
   "cell_type": "code",
   "execution_count": 4,
   "metadata": {},
   "outputs": [
    {
     "name": "stdout",
     "output_type": "stream",
     "text": [
      "Set of strings - {'4', '2', '3', '1'}\n",
      "Set of integers - {1, 2, 3, 4}\n"
     ]
    }
   ],
   "source": [
    "# create a set of strings\n",
    "set1 = {'1', '2','3','4'}\n",
    "# print the initial set\n",
    "print(\"Set of strings -\", set1)\n",
    "\n",
    "# convert the elements of set into integers.\n",
    "#  we use map() to convert each element of set1 to int\n",
    "# then pass the output of map function in set() as parameter which will convert it into set \n",
    "set1 = set(map(int, set1))\n",
    "\n",
    "# print the output set\n",
    "print(\"Set of integers -\", set1)"
   ]
  },
  {
   "cell_type": "markdown",
   "metadata": {},
   "source": [
    "##### 35. Convert a set of integers to a set of strings.\n"
   ]
  },
  {
   "cell_type": "code",
   "execution_count": 1,
   "metadata": {},
   "outputs": [
    {
     "name": "stdout",
     "output_type": "stream",
     "text": [
      "Set of strings - {1, 2, 3, 4, 5, 6}\n",
      "Set of strings - {'1', '2', '3', '5', '4', '6'}\n"
     ]
    }
   ],
   "source": [
    "# create a set of integers\n",
    "set1 = {1, 2, 3, 4, 5, 6}\n",
    "# print the initial set\n",
    "print(\"Set of strings -\", set1)\n",
    "\n",
    "# convert the elements of set into strings.\n",
    "#  we use map() to convert each element of set1 to strings\n",
    "# then pass the output of map function in set() as parameter which will convert it into set \n",
    "set1 = set(map(str, set1))\n",
    "\n",
    "# print the output set\n",
    "print(\"Set of strings -\", set1)"
   ]
  },
  {
   "cell_type": "markdown",
   "metadata": {},
   "source": [
    "##### 36. Create a set from a tuple.\n"
   ]
  },
  {
   "cell_type": "code",
   "execution_count": 4,
   "metadata": {},
   "outputs": [
    {
     "name": "stdout",
     "output_type": "stream",
     "text": [
      "initial tuple - (1, 2, 3, 4, 5, 6)\n",
      "The set from tuple - {1, 2, 3, 4, 5, 6}\n"
     ]
    }
   ],
   "source": [
    "# create a tuple of integers\n",
    "tuple1 = (1, 2, 3, 4, 5, 6)\n",
    "# print the initial tuple\n",
    "print(\"initial tuple -\", tuple1)\n",
    "\n",
    "# convert the tuple into set using set()\n",
    "tuple_to_set = set(tuple1)\n",
    "# print the output tuple \n",
    "print(\"The set from tuple -\", tuple_to_set)"
   ]
  },
  {
   "cell_type": "markdown",
   "metadata": {},
   "source": [
    "##### 37. Convert a set to a tuple."
   ]
  },
  {
   "cell_type": "code",
   "execution_count": 5,
   "metadata": {},
   "outputs": [
    {
     "name": "stdout",
     "output_type": "stream",
     "text": [
      "Initial set - {1, 2, 3, 4, 5, 6}\n",
      "The tuple from set - (1, 2, 3, 4, 5, 6)\n"
     ]
    }
   ],
   "source": [
    "# create a set of integers\n",
    "set1 = {1, 2, 3, 4, 5, 6}\n",
    "# print the initial set\n",
    "print(\"Initial set -\", set1)\n",
    "\n",
    "# convert the set into tuple using tuple()\n",
    "set_to_tuple = tuple(set1)\n",
    "# print the output tuple \n",
    "print(\"The tuple from set -\", set_to_tuple)"
   ]
  },
  {
   "cell_type": "markdown",
   "metadata": {},
   "source": [
    "##### 38. Find the maximum value in a set.\n"
   ]
  },
  {
   "cell_type": "code",
   "execution_count": 7,
   "metadata": {},
   "outputs": [
    {
     "name": "stdout",
     "output_type": "stream",
     "text": [
      "Initial input set - {1, 2, 4, 7, 8, 9, 11, 24}\n",
      "Maximum value in set - 24\n"
     ]
    }
   ],
   "source": [
    "# we take input from use via input().\n",
    "# As we instructed user to enter space seperated values, we will split each element by split()\n",
    "# FYI : if we store the output of input().split in single variable, it will be created as list.\n",
    "# then we pass output of input().split() in map() to convert input values as integers\n",
    "# so we pass the output of map as parameters in set() to bunch those elements inside the set.\n",
    "# and store this in variable named set1\n",
    "set1 = set(map(int,input(\"Enter space seperated positive integer values as elements of set\").split()))\n",
    "\n",
    "# print initial set\n",
    "print(\"Initial input set -\" , set1)\n",
    "\n",
    "# initialize a variable to store maximum value.\n",
    "maxm = -1 \n",
    "\n",
    "# iterate over each  element\n",
    "for i in set1:\n",
    "    #  check each element if it is greater than value inside 'maxm'\n",
    "    if maxm<i:\n",
    "        # if it is greater then mamx, store its value in maxm\n",
    "        maxm = i \n",
    "\n",
    "# after execution of loop, print the maximum value\n",
    "print(\"Maximum value in set -\", maxm)\n"
   ]
  },
  {
   "cell_type": "markdown",
   "metadata": {},
   "source": [
    "##### 39. Find the minimum value in a set."
   ]
  },
  {
   "cell_type": "code",
   "execution_count": 8,
   "metadata": {},
   "outputs": [
    {
     "name": "stdout",
     "output_type": "stream",
     "text": [
      "Initial input set - {2, 67, 6, -87, 9, 23, -6, -3, -1}\n",
      "minimum value in set - -87\n"
     ]
    }
   ],
   "source": [
    "# we take input from use via input().\n",
    "# As we instructed user to enter space seperated values, we will split each element by split()\n",
    "# FYI : if we store the output of input().split in single variable, it will be created as list.\n",
    "# then we pass output of input().split() in map() to convert input values as integers\n",
    "# so we pass the output of map as parameters in set() to bunch those elements inside the set.\n",
    "# and store this in variable named set1\n",
    "set1 = set(map(int,input(\"Enter space seperated integer values as elements of set\").split()))\n",
    "\n",
    "# print initial set\n",
    "print(\"Initial input set -\" , set1)\n",
    "\n",
    "# initialize a variable to store minimum value.\n",
    "minm = 10000000000 \n",
    "\n",
    "# iterate over each  element\n",
    "for i in set1:\n",
    "    #  check each element if it is smaller than value inside 'maxm'\n",
    "    if minm>i:\n",
    "        # if it is smaller then minm, store its value in minm\n",
    "        minm = i \n",
    "\n",
    "# after execution of loop, print the minimum value\n",
    "print(\"minimum value in set -\", minm)\n"
   ]
  },
  {
   "cell_type": "markdown",
   "metadata": {},
   "source": [
    "##### 40. Create a set from user input."
   ]
  },
  {
   "cell_type": "code",
   "execution_count": 9,
   "metadata": {},
   "outputs": [
    {
     "name": "stdout",
     "output_type": "stream",
     "text": [
      "Entered set - {1, 2, 4, 6, 8, 45, 87}\n"
     ]
    }
   ],
   "source": [
    "# we take input from use via input().\n",
    "# As we instructed user to enter space seperated values, we will split each element by split()\n",
    "# FYI : if we store the output of input().split in single variable, it will be created as list.\n",
    "# then we pass output of input().split() in map() to convert input values as integers\n",
    "# so we pass the output of map as parameters in set() to bunch those elements inside the set.\n",
    "# and store this in variable named set1\n",
    "set1 = set(map(int,input(\"Enter space seperated integer values as elements of set\").split()))\n",
    "\n",
    "# print the input set \n",
    "print(\"Entered set -\", set1) "
   ]
  },
  {
   "cell_type": "markdown",
   "metadata": {},
   "source": [
    "##### 41. Check if the intersection of two sets is empty.\n"
   ]
  },
  {
   "cell_type": "code",
   "execution_count": 10,
   "metadata": {},
   "outputs": [
    {
     "name": "stdout",
     "output_type": "stream",
     "text": [
      "The intersection of the two sets is not empty.\n"
     ]
    }
   ],
   "source": [
    "# create two sets\n",
    "set1 = {1, 2, 3, 4, 5}\n",
    "set2 = {4, 5, 6, 7, 8}\n",
    "\n",
    "# calculate intersection of the two sets using the intersection() function\n",
    "intersection_set = set1.intersection(set2)\n",
    "\n",
    "# Check if the intersection result is empty\n",
    "if intersection_set:\n",
    "    print(\"The intersection of the two sets is not empty.\")\n",
    "else:\n",
    "    print(\"The intersection of the two sets is empty.\")"
   ]
  },
  {
   "cell_type": "markdown",
   "metadata": {},
   "source": [
    "##### 42. Create a set of the first 5 Fibonacci numbers.\n"
   ]
  },
  {
   "cell_type": "code",
   "execution_count": 20,
   "metadata": {},
   "outputs": [
    {
     "name": "stdout",
     "output_type": "stream",
     "text": [
      "Set of first five values of fibonacci series - {0, 1, 2, 3, 5}\n"
     ]
    }
   ],
   "source": [
    "# create an empty set\n",
    "fibo_set = set() \n",
    "\n",
    "# initialize two varaiables to store first 2 starting values of fibonacci series.\n",
    "f = 0\n",
    "s = 1 \n",
    "\n",
    "# add these values in set\n",
    "fibo_set.add(f)\n",
    "fibo_set.add(s)\n",
    "\n",
    "#  as we have already put 2 two values in set, we just need to add 3 more values of fibonacci series.\n",
    "for i in range(4):\n",
    "    #  calculate next fibonacci number\n",
    "    f, s = s, f+s \n",
    "    #  add the value in set\n",
    "    fibo_set.add(s)\n",
    "    \n",
    "# print the set\n",
    "print(\"Set of first five values of fibonacci series -\", fibo_set)\n",
    "\n"
   ]
  },
  {
   "cell_type": "markdown",
   "metadata": {},
   "source": [
    "##### 43. Remove duplicates from a list using sets.\n"
   ]
  },
  {
   "cell_type": "code",
   "execution_count": 21,
   "metadata": {},
   "outputs": [
    {
     "name": "stdout",
     "output_type": "stream",
     "text": [
      "Original List: [1, 1, 2, 3, 4, 5, 2, 3, 1, 2, 4, 1]\n",
      "List with Duplicates Removed: [1, 2, 3, 4, 5]\n"
     ]
    }
   ],
   "source": [
    "# create a list with duplicates\n",
    "list1 = [1,1,2,3,4,5,2,3,1,2,4,1]\n",
    "\n",
    "# Convert the list to a set\n",
    "unique_set = set(list1)\n",
    "# Now, 'unique_set' contains only unique elements from 'list1'\n",
    "\n",
    "# Convert the set back to a list\n",
    "unique_list = list(unique_set)\n",
    "# 'unique_list' is a list containing only unique elements\n",
    "\n",
    "# print the original list and the list with duplicates removed\n",
    "print(\"Original List:\", list1)\n",
    "print(\"List with Duplicates Removed:\", unique_list)"
   ]
  },
  {
   "cell_type": "markdown",
   "metadata": {},
   "source": [
    "##### 44. Check if two sets have the same elements, regardless of their count.\n"
   ]
  },
  {
   "cell_type": "code",
   "execution_count": 22,
   "metadata": {},
   "outputs": [
    {
     "name": "stdout",
     "output_type": "stream",
     "text": [
      "sets have same elements.\n"
     ]
    }
   ],
   "source": [
    "# create two sets\n",
    "set1 = {1, 2, 3, 4, 5, 7}\n",
    "set2 = {4, 2, 7, 1, 2, 3, 7, 2, 5}\n",
    "\n",
    "# Check if the sets have the same elements\n",
    "# convert the set into list and sort them.\n",
    "# check if both the sorted lists of sets are same.\n",
    "same_set = sorted(list(set1)) == sorted(list(set2))\n",
    "# Print the result\n",
    "if same_set:\n",
    "    print(\"sets have same elements.\")\n",
    "else:\n",
    "    print(\"sets do not have same elements.\")"
   ]
  },
  {
   "cell_type": "markdown",
   "metadata": {},
   "source": [
    "##### 45. Create a set of the first `n` powers of 2."
   ]
  },
  {
   "cell_type": "code",
   "execution_count": 28,
   "metadata": {},
   "outputs": [
    {
     "name": "stdout",
     "output_type": "stream",
     "text": [
      "The values of n entered by user - 5\n",
      "The resultant set is - {1, 2, 4, 8, 16}\n"
     ]
    }
   ],
   "source": [
    "# enter the value of n\n",
    "n = int(input(\"Enter value of n\"))\n",
    "# print the value of n\n",
    "print(\"The values of n entered by user -\", n)\n",
    "\n",
    "# we can use list comprehension by executing the loop from 0 to n to get  '2 to the power 0' to '2 to the power n'\n",
    "# we can calculate 2 to the power n by using ** operator.\n",
    "# pass the output of list comprehension in set() to convert it to set\n",
    "power_set = set(2**i for i in range(n))\n",
    "\n",
    "# print the resultant set\n",
    "print(\"The resultant set is -\", power_set)"
   ]
  },
  {
   "cell_type": "markdown",
   "metadata": {},
   "source": [
    "##### 46. Find the common elements between a set and a list.\n"
   ]
  },
  {
   "cell_type": "code",
   "execution_count": 29,
   "metadata": {},
   "outputs": [
    {
     "name": "stdout",
     "output_type": "stream",
     "text": [
      "The resultant set - {1, 2, 3, 4}\n"
     ]
    }
   ],
   "source": [
    "# create a set \n",
    "set1 = {1,2,3,4,5,6,7,8}\n",
    "# create a list \n",
    "list1 = [1,2,3,4,11,12,13,14]\n",
    "# create an empty set to store the result\n",
    "ans_set = set()\n",
    "# iterate over the elements of list \n",
    "for i in list1:\n",
    "    # check if the element exists in set\n",
    "    if i in set1:\n",
    "        # put the element in ans_set\n",
    "        ans_set.add(i)\n",
    "# print the resultant set\n",
    "print(\"The resultant set -\", ans_set)\n"
   ]
  },
  {
   "cell_type": "markdown",
   "metadata": {},
   "source": [
    "##### 47. Create a set of the first `n` triangular numbers.\n"
   ]
  },
  {
   "cell_type": "code",
   "execution_count": 33,
   "metadata": {},
   "outputs": [
    {
     "name": "stdout",
     "output_type": "stream",
     "text": [
      "The values of n entered by user - 6\n",
      "Set of triangular nunmbers - {1, 3, 6, 10, 15, 21}\n"
     ]
    }
   ],
   "source": [
    "# enter the value of n\n",
    "n = int(input(\"Enter value of n\"))\n",
    "# print the value of n\n",
    "print(\"The values of n entered by user -\", n)\n",
    "\n",
    "# create an empty set to store the result\n",
    "ans_set = set()\n",
    "\n",
    "for i in range(1, n + 1):\n",
    "    triangular_number = i * (i + 1) // 2  # Calculate the ith triangular number using the formula\n",
    "    ans_set.add(triangular_number)  # Add the calculated triangular number to the set\n",
    "\n",
    "# print the resultant set \n",
    "print(\"Set of triangular nunmbers -\", ans_set)\n",
    "    "
   ]
  },
  {
   "cell_type": "markdown",
   "metadata": {},
   "source": [
    "##### 48. Check if a set contains another set as a subset.\n"
   ]
  },
  {
   "cell_type": "code",
   "execution_count": 34,
   "metadata": {},
   "outputs": [
    {
     "name": "stdout",
     "output_type": "stream",
     "text": [
      "set2 is a subset of set1\n"
     ]
    }
   ],
   "source": [
    "# craete two sets\n",
    "set1 = {1, 2, 3, 4, 5}\n",
    "set2 = {1, 5,3,2}\n",
    "\n",
    "# Check if set2 is a subset of set1\n",
    "if set2.issubset(set1):\n",
    "    # Print the result\n",
    "    print(\"set2 is a subset of set1\")\n",
    "else:\n",
    "    # Print the result\n",
    "    print(\"set2 is not a subset of set1\")"
   ]
  },
  {
   "cell_type": "markdown",
   "metadata": {},
   "source": [
    "##### 49. Create a set of alternating 1s and 0s of length `n`.\n"
   ]
  },
  {
   "cell_type": "code",
   "execution_count": 38,
   "metadata": {},
   "outputs": [
    {
     "name": "stdout",
     "output_type": "stream",
     "text": [
      "The values of n entered by user - 6\n",
      "Set of alternating 0 and 1 of length 6 - {0, 1}\n"
     ]
    }
   ],
   "source": [
    "# enter the value of n\n",
    "n = int(input(\"Enter value of n\"))\n",
    "# print the value of n\n",
    "print(\"The values of n entered by user -\", n)\n",
    "\n",
    "# create an empty set to store the result\n",
    "ans_set = set()\n",
    "\n",
    "for i in range(n):\n",
    "    #  get 0 or 1 by checking the 'divisible by 2' condition inside int().\n",
    "    # if it gives true, int() will interpret as 1 else interpret as 0\n",
    "    get_1_0 = int(i%2==0)\n",
    "    # add the get_1_0 value in set\n",
    "    ans_set.add(get_1_0)\n",
    "# print the result \n",
    "print(\"Set of alternating 0 and 1 of length {} - {}\".format(n, ans_set))"
   ]
  },
  {
   "cell_type": "markdown",
   "metadata": {},
   "source": [
    "\n",
    "##### 50. Merge multiple sets into one."
   ]
  },
  {
   "cell_type": "code",
   "execution_count": 40,
   "metadata": {},
   "outputs": [
    {
     "name": "stdout",
     "output_type": "stream",
     "text": [
      "Merged Set: {1, 2, 3, 4, 5, 6, 7}\n"
     ]
    }
   ],
   "source": [
    "# Create multiple sets\n",
    "set1 = {1, 2, 3}\n",
    "set2 = {3, 4, 5}\n",
    "set3 = {5, 6, 7}\n",
    "\n",
    "# Use the union() method to merge sets\n",
    "merged_set = set1.union(set2, set3)\n",
    "# you can use the | operator ---->>> merged_set = set1 | set2 | set3\n",
    "\n",
    "# Print the merged set\n",
    "print(\"Merged Set:\", merged_set)"
   ]
  },
  {
   "cell_type": "code",
   "execution_count": null,
   "metadata": {},
   "outputs": [],
   "source": []
  }
 ],
 "metadata": {
  "kernelspec": {
   "display_name": "base",
   "language": "python",
   "name": "python3"
  },
  "language_info": {
   "codemirror_mode": {
    "name": "ipython",
    "version": 3
   },
   "file_extension": ".py",
   "mimetype": "text/x-python",
   "name": "python",
   "nbconvert_exporter": "python",
   "pygments_lexer": "ipython3",
   "version": "3.11.4"
  },
  "orig_nbformat": 4
 },
 "nbformat": 4,
 "nbformat_minor": 2
}
