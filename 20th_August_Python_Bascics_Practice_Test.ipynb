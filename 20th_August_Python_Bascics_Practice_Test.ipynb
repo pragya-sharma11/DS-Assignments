{
 "cells": [
  {
   "cell_type": "markdown",
   "metadata": {},
   "source": [
    "## TOPIC: String Based Assignment Problem"
   ]
  },
  {
   "cell_type": "markdown",
   "metadata": {},
   "source": [
    "##### 1. Write a program to reverse a string."
   ]
  },
  {
   "cell_type": "code",
   "execution_count": 2,
   "metadata": {},
   "outputs": [
    {
     "name": "stdout",
     "output_type": "stream",
     "text": [
      "String input by user - Python Basics\n",
      "reversed string - scisaB nohtyP\n"
     ]
    }
   ],
   "source": [
    "st = input(\"Enter a string\")\n",
    "reversed_string = st[::-1]\n",
    "print(\"String input by user -\", st)\n",
    "print(\"reversed string -\", reversed_string)"
   ]
  },
  {
   "cell_type": "markdown",
   "metadata": {},
   "source": [
    "##### 2. Check if a string is a palindrome."
   ]
  },
  {
   "cell_type": "code",
   "execution_count": 47,
   "metadata": {},
   "outputs": [
    {
     "name": "stdout",
     "output_type": "stream",
     "text": [
      "String entered by user is =  Madam\n",
      "String is palindrome but case is different\n"
     ]
    }
   ],
   "source": [
    "'''Palindrome meanse the word is equals to reverse of itself for example - *madam* reads same forward and backward\n",
    "approach will be- \n",
    "1 - we input the string\n",
    "2 - We calculate the reverse of the word\n",
    "3 - We check if the word is equal to its reverse word, but it has three possibilites \n",
    "3.1 - Word is palindrome but case of letters are diiferent for example Bab,\n",
    "reverse of Bab = baB. It is palindrome but in 1st word first B is capital and last b is small but in\n",
    "2nd word, last B is capital and first b is small. So we call it - String is palindrome but case is different.\n",
    "3.2 - Word is palindrome and case of all letters in words and its reverse are same.'\n",
    "3.3 - Word is not palindrome, word is not equal to its reversed word.\n",
    "'''\n",
    "\n",
    "# taking input from user by using input() function\n",
    "p1 = input(\"Enter a string\")\n",
    "\n",
    "# to get the reverse of the input string, we use slicing with negative jump.\n",
    "p2 = p1[::-1]\n",
    "print('String entered by user is = ',p1)\n",
    "\n",
    "''' to check the equality, we use if statement. \n",
    "first we check \n",
    "1 - if string is palindrome after changing the case of both strings using lower().\n",
    "if yes then we check if they are equal along with upper and lower case letters, if yes then string is palindrome\n",
    "if no then string is palindrome but case is different\n",
    "2 - If string is not palindrome  after changing the case of both strings to lower then \n",
    "string is not palindrome.'''\n",
    "\n",
    "if p1.lower() == p2.lower():\n",
    "    if p1==p2:\n",
    "        print('String is palindrome')\n",
    "    else:\n",
    "        print('String is palindrome but case is different')\n",
    "else:\n",
    "    print('String is not palindrome') "
   ]
  },
  {
   "cell_type": "markdown",
   "metadata": {},
   "source": [
    "##### 3. Convert a string to uppercase."
   ]
  },
  {
   "cell_type": "code",
   "execution_count": 9,
   "metadata": {},
   "outputs": [
    {
     "name": "stdout",
     "output_type": "stream",
     "text": [
      "Input String - python basics\n",
      "Output - PYTHON BASICS\n"
     ]
    }
   ],
   "source": [
    "st = input(\"Enter a string\")\n",
    "print(\"Input String -\", st)\n",
    "print(\"Output -\", st.upper())"
   ]
  },
  {
   "cell_type": "markdown",
   "metadata": {},
   "source": [
    "##### 4. Convert a string to lowercase."
   ]
  },
  {
   "cell_type": "code",
   "execution_count": 10,
   "metadata": {},
   "outputs": [
    {
     "name": "stdout",
     "output_type": "stream",
     "text": [
      "Input String - PYTHON BASICS\n",
      "Output - python basics\n"
     ]
    }
   ],
   "source": [
    "st = input(\"Enter a string\")\n",
    "print(\"Input String -\", st)\n",
    "print(\"Output -\", st.lower())"
   ]
  },
  {
   "cell_type": "markdown",
   "metadata": {},
   "source": [
    "##### 5. Count the number of vowels in a string."
   ]
  },
  {
   "cell_type": "code",
   "execution_count": 11,
   "metadata": {},
   "outputs": [
    {
     "name": "stdout",
     "output_type": "stream",
     "text": [
      "Input String - PythON Basics\n",
      "Number of vowels - 3\n"
     ]
    }
   ],
   "source": [
    "st = input(\"Enter a string\")\n",
    "print(\"Input String -\", st)\n",
    "count_vowel = 0\n",
    "for i in st:\n",
    "    if i in ('aeiouAEIOU'):\n",
    "        count_vowel += 1\n",
    "print(\"Number of vowels -\", count_vowel)"
   ]
  },
  {
   "cell_type": "markdown",
   "metadata": {},
   "source": [
    "##### 6. Count the number of consonants in a string."
   ]
  },
  {
   "cell_type": "code",
   "execution_count": 14,
   "metadata": {},
   "outputs": [
    {
     "name": "stdout",
     "output_type": "stream",
     "text": [
      "Input String - Python Basics - 20th Aug!!\n",
      "Number of Consonants - 12\n"
     ]
    }
   ],
   "source": [
    "st = input(\"Enter a string\")\n",
    "print(\"Input String -\", st)\n",
    "count_consonant = 0\n",
    "st = st.lower()\n",
    "for i in st:\n",
    "    if i not in ('aeiouAEIOU') and i.isalpha():\n",
    "        count_consonant += 1\n",
    "print(\"Number of Consonants -\", count_consonant)"
   ]
  },
  {
   "cell_type": "markdown",
   "metadata": {},
   "source": [
    "##### 7. Remove all whitespaces from a string."
   ]
  },
  {
   "cell_type": "code",
   "execution_count": 17,
   "metadata": {},
   "outputs": [
    {
     "name": "stdout",
     "output_type": "stream",
     "text": [
      "Input String -     python basics   \n",
      "Output String -python basics\n"
     ]
    }
   ],
   "source": [
    "st = input(\"Enter a string\")\n",
    "print(\"Input String -\"+st)\n",
    "print(\"Output String -\"+st.strip())"
   ]
  },
  {
   "cell_type": "markdown",
   "metadata": {},
   "source": [
    "##### 8. Find the length of a string without using the `len()` function."
   ]
  },
  {
   "cell_type": "code",
   "execution_count": 18,
   "metadata": {},
   "outputs": [
    {
     "name": "stdout",
     "output_type": "stream",
     "text": [
      "Input String - python basics\n",
      "Length of input string - 13\n"
     ]
    }
   ],
   "source": [
    "st = input(\"Enter a string\")\n",
    "print(\"Input String -\",st)\n",
    "count_values = 0\n",
    "for i in st:\n",
    "    count_values += 1 \n",
    "print(\"Length of input string -\", count_values)\n"
   ]
  },
  {
   "cell_type": "markdown",
   "metadata": {},
   "source": [
    "##### 9. Check if a string contains a specific word."
   ]
  },
  {
   "cell_type": "code",
   "execution_count": 20,
   "metadata": {},
   "outputs": [
    {
     "name": "stdout",
     "output_type": "stream",
     "text": [
      "Input String - I am learning python basics\n",
      "Word is present\n"
     ]
    }
   ],
   "source": [
    "st = input(\"Enter a string\")\n",
    "search_word = input(\"Enter a word to be searched\")\n",
    "print(\"Input String -\",st)\n",
    "print(\"Word is present\") if search_word in st else print(\"Word is not present\")\n"
   ]
  },
  {
   "cell_type": "markdown",
   "metadata": {},
   "source": [
    "##### 10. Replace a word in a string with another word."
   ]
  },
  {
   "cell_type": "code",
   "execution_count": 23,
   "metadata": {},
   "outputs": [
    {
     "name": "stdout",
     "output_type": "stream",
     "text": [
      "Input String - I am going to USA\n",
      "Output String - I am going to Varanasi\n"
     ]
    }
   ],
   "source": [
    "st = input(\"Enter a string\")\n",
    "replacing_word = input(\"Enter a word to be replaced in a string\")\n",
    "replaced_word = input(\"Enter a word which will replace word in a string\")\n",
    "print(\"Input String -\", st)\n",
    "new_string = st.replace(replacing_word, replaced_word)\n",
    "print(\"Output String -\", new_string)"
   ]
  },
  {
   "cell_type": "markdown",
   "metadata": {},
   "source": [
    "##### 11. Count the occurrences of a word in a string."
   ]
  },
  {
   "cell_type": "code",
   "execution_count": 25,
   "metadata": {},
   "outputs": [
    {
     "name": "stdout",
     "output_type": "stream",
     "text": [
      "Input String - red blue green red yellow red red\n",
      "Number of occurences of [red] - 4\n"
     ]
    }
   ],
   "source": [
    "st = input(\"Enter a string\")\n",
    "counted_word = input(\"Enter a word whose occurence is to be counted\")\n",
    "print(\"Input String -\", st)\n",
    "counts = st.count(counted_word)\n",
    "print(\"Number of occurences of [\"+counted_word+\"] -\", counts)\n"
   ]
  },
  {
   "cell_type": "markdown",
   "metadata": {},
   "source": [
    "##### 12. Find the first occurrence of a word in a string."
   ]
  },
  {
   "cell_type": "code",
   "execution_count": 29,
   "metadata": {},
   "outputs": [
    {
     "name": "stdout",
     "output_type": "stream",
     "text": [
      "Input String - I am not going to USA, I am not going to Africa\n",
      "First occurence of [not] - 5\n"
     ]
    }
   ],
   "source": [
    "st = input(\"Enter a string\")\n",
    "word = input(\"Enter a word whose first occurence is to be searched\")\n",
    "print(\"Input String -\", st)\n",
    "print(\"First occurence of [\"+word+\"] -\",st.index(word))\n"
   ]
  },
  {
   "cell_type": "markdown",
   "metadata": {},
   "source": [
    "##### 13. Find the last occurrence of a word in a string.\n",
    "\n"
   ]
  },
  {
   "cell_type": "code",
   "execution_count": null,
   "metadata": {},
   "outputs": [],
   "source": []
  },
  {
   "cell_type": "markdown",
   "metadata": {},
   "source": [
    "##### 14. Split a string into a list of words."
   ]
  },
  {
   "cell_type": "code",
   "execution_count": 30,
   "metadata": {},
   "outputs": [
    {
     "name": "stdout",
     "output_type": "stream",
     "text": [
      "Input string is I am leaning python basics\n",
      "list is ['I', 'am', 'leaning', 'python', 'basics']\n"
     ]
    }
   ],
   "source": [
    "st = input(\"Enter a string\")\n",
    "list1 = list(st.split())\n",
    "print(\"Input string is\",st)\n",
    "print(\"list is\", list1)"
   ]
  },
  {
   "cell_type": "markdown",
   "metadata": {},
   "source": [
    "##### 15. Join a list of words into a string."
   ]
  },
  {
   "cell_type": "code",
   "execution_count": 31,
   "metadata": {},
   "outputs": [
    {
     "name": "stdout",
     "output_type": "stream",
     "text": [
      "List is ['I', 'am', 'a', 'human']\n",
      "Output String - I am a human\n"
     ]
    }
   ],
   "source": [
    "list1 = ['I', 'am', 'a', 'human']\n",
    "st = ' '.join(list1)\n",
    "print(\"List is\", list1)\n",
    "print(\"Output String -\", st)"
   ]
  },
  {
   "cell_type": "markdown",
   "metadata": {},
   "source": [
    "#####  16. Convert a string where words are separated by spaces to one where words are separated by underscores.\n"
   ]
  },
  {
   "cell_type": "code",
   "execution_count": 32,
   "metadata": {},
   "outputs": [
    {
     "name": "stdout",
     "output_type": "stream",
     "text": [
      "Input String - I am a human living on earth\n",
      "Output String - I_am_a_human_living_on_earth\n"
     ]
    }
   ],
   "source": [
    "st = input(\"Enter a string\")\n",
    "list1 = list(st.split())\n",
    "st_output = '_'.join(list1)\n",
    "print(\"Input String -\", st)\n",
    "print(\"Output String -\", st_output)"
   ]
  },
  {
   "cell_type": "markdown",
   "metadata": {},
   "source": [
    "##### 17. Check if a string starts with a specific word or phrase.\n"
   ]
  },
  {
   "cell_type": "code",
   "execution_count": 37,
   "metadata": {},
   "outputs": [
    {
     "name": "stdout",
     "output_type": "stream",
     "text": [
      "Input String - I am not going to USA\n",
      "OUTPUT : Input String starts with - I am not\n"
     ]
    }
   ],
   "source": [
    "st = input(\"Enter a string\")\n",
    "word = input(\"Enter a word or phrase to check the condition\")\n",
    "print(\"Input String -\", st)\n",
    "print(\"OUTPUT : Input String starts with -\", word) if st.startswith(word) else print(\"OUTPUT : Input String does not start with -\", word)"
   ]
  },
  {
   "cell_type": "markdown",
   "metadata": {},
   "source": [
    "##### 18. Check if a string ends with a specific word or phrase.\n"
   ]
  },
  {
   "cell_type": "code",
   "execution_count": 38,
   "metadata": {},
   "outputs": [
    {
     "name": "stdout",
     "output_type": "stream",
     "text": [
      "Input String - I am not going to USA\n",
      "OUTPUT : Input String ends with - USA\n"
     ]
    }
   ],
   "source": [
    "st = input(\"Enter a string\")\n",
    "word = input(\"Enter a word or phrase to check the condition\")\n",
    "print(\"Input String -\", st)\n",
    "print(\"OUTPUT : Input String ends with -\", word) if st.endswith(word) else print(\"OUTPUT : Input String does not end with -\", word)"
   ]
  },
  {
   "cell_type": "markdown",
   "metadata": {},
   "source": [
    "##### 19. Convert a string to title case (e.g., \"hello world\" to \"Hello World\").\n"
   ]
  },
  {
   "cell_type": "code",
   "execution_count": null,
   "metadata": {},
   "outputs": [],
   "source": []
  },
  {
   "cell_type": "markdown",
   "metadata": {},
   "source": [
    "##### 20. Find the longest word in a string.\n"
   ]
  },
  {
   "cell_type": "code",
   "execution_count": 42,
   "metadata": {},
   "outputs": [
    {
     "name": "stdout",
     "output_type": "stream",
     "text": [
      "entered string - I am going to Caladonia\n",
      "Longest word - Caladonia\n"
     ]
    }
   ],
   "source": [
    "string1 = input(\"Enter a string\")\n",
    "st = list(string1.split())\n",
    "word = ''\n",
    "maxm = 0 \n",
    "for i in st:\n",
    "    length = len(i)\n",
    "    if length>maxm:\n",
    "        word = i \n",
    "        maxm = length\n",
    "print(\"entered string -\", string1)\n",
    "print(\"Longest word -\", word)"
   ]
  },
  {
   "cell_type": "markdown",
   "metadata": {},
   "source": [
    "##### 21. Find the shortest word in a string."
   ]
  },
  {
   "cell_type": "code",
   "execution_count": 45,
   "metadata": {},
   "outputs": [
    {
     "name": "stdout",
     "output_type": "stream",
     "text": [
      "entered string - I am going to Caladonia\n",
      "Shortest word - I\n"
     ]
    }
   ],
   "source": [
    "string1 = input(\"Enter a string\")\n",
    "st = list(string1.split())\n",
    "word = ''\n",
    "minm = len(string1)+2\n",
    "for i in st:\n",
    "    length = len(i)\n",
    "    if length<minm:\n",
    "        word = i \n",
    "        minm = length\n",
    "print(\"entered string -\", string1)\n",
    "print(\"Shortest word -\", word)"
   ]
  },
  {
   "cell_type": "markdown",
   "metadata": {},
   "source": [
    "##### 22. Reverse the order of words in a string.\n"
   ]
  },
  {
   "cell_type": "code",
   "execution_count": 46,
   "metadata": {},
   "outputs": [
    {
     "name": "stdout",
     "output_type": "stream",
     "text": [
      "Input String - I am a human\n",
      "Output String - human a am I\n"
     ]
    }
   ],
   "source": [
    "string1 = input(\"Enter a string\")\n",
    "st = list(string1.split())\n",
    "print(\"Input String -\", string1)\n",
    "print(\"Output String -\", ' '.join(st[::-1]))"
   ]
  },
  {
   "cell_type": "markdown",
   "metadata": {},
   "source": [
    "##### 23. Check if a string is alphanumeric.\n"
   ]
  },
  {
   "cell_type": "code",
   "execution_count": 52,
   "metadata": {},
   "outputs": [
    {
     "name": "stdout",
     "output_type": "stream",
     "text": [
      "Input String - Python123\n",
      "String is alphanumeric\n"
     ]
    }
   ],
   "source": [
    "st = input(\"Enter a string\")\n",
    "print(\"Input String -\", st)\n",
    "print(\"String is alphanumeric\") if st.isalnum() else print(\"String is not alphanumeric\")"
   ]
  },
  {
   "cell_type": "markdown",
   "metadata": {},
   "source": [
    "##### 24. Extract all digits from a string.\n"
   ]
  },
  {
   "cell_type": "code",
   "execution_count": 53,
   "metadata": {},
   "outputs": [
    {
     "name": "stdout",
     "output_type": "stream",
     "text": [
      "Input String - Python123 ##\n",
      "OUTPUT : The digits are-\n",
      "1\n",
      "2\n",
      "3\n"
     ]
    }
   ],
   "source": [
    "st = input(\"Enter a string\")\n",
    "print(\"Input String -\", st)\n",
    "print(\"OUTPUT : The digits are-\")\n",
    "for i in st:\n",
    "    if i.isdigit():\n",
    "        print(i)"
   ]
  },
  {
   "cell_type": "markdown",
   "metadata": {},
   "source": [
    "##### 25. Extract all alphabets from a string.\n"
   ]
  },
  {
   "cell_type": "code",
   "execution_count": 54,
   "metadata": {},
   "outputs": [
    {
     "name": "stdout",
     "output_type": "stream",
     "text": [
      "Input String - Python123 ##\n",
      "OUTPUT : The Alphabets are-\n",
      "P\n",
      "y\n",
      "t\n",
      "h\n",
      "o\n",
      "n\n"
     ]
    }
   ],
   "source": [
    "st = input(\"Enter a string\")\n",
    "print(\"Input String -\", st)\n",
    "print(\"OUTPUT : The Alphabets are-\")\n",
    "for i in st:\n",
    "    if i.isalpha():\n",
    "        print(i)"
   ]
  },
  {
   "cell_type": "markdown",
   "metadata": {},
   "source": [
    "##### 26. Count the number of uppercase letters in a string.\n"
   ]
  },
  {
   "cell_type": "code",
   "execution_count": 55,
   "metadata": {},
   "outputs": [
    {
     "name": "stdout",
     "output_type": "stream",
     "text": [
      "Input String - Red Blue Green Yellow\n",
      "number of upper case letters are 4\n"
     ]
    }
   ],
   "source": [
    "st = input(\"Enter a string\")\n",
    "print(\"Input String -\", st)\n",
    "count_letters = 0\n",
    "for i in st:\n",
    "    if i.isupper():\n",
    "        count_letters += 1\n",
    "print(\"number of upper case letters are\", count_letters)\n"
   ]
  },
  {
   "cell_type": "markdown",
   "metadata": {},
   "source": [
    "##### 27. Count the number of lowercase letters in a string.\n"
   ]
  },
  {
   "cell_type": "code",
   "execution_count": 56,
   "metadata": {},
   "outputs": [
    {
     "name": "stdout",
     "output_type": "stream",
     "text": [
      "Input String - Red Blue Green Yellow\n",
      "number of lower case letters are 14\n"
     ]
    }
   ],
   "source": [
    "st = input(\"Enter a string\")\n",
    "print(\"Input String -\", st)\n",
    "count_letters = 0\n",
    "for i in st:\n",
    "    if i.islower():\n",
    "        count_letters += 1\n",
    "print(\"number of lower case letters are\", count_letters)\n"
   ]
  },
  {
   "cell_type": "markdown",
   "metadata": {},
   "source": [
    "##### 28. Swap the case of each character in a string.\n"
   ]
  },
  {
   "cell_type": "code",
   "execution_count": 57,
   "metadata": {},
   "outputs": [
    {
     "name": "stdout",
     "output_type": "stream",
     "text": [
      "Input String - Red Blue Green Yellow\n",
      "Output String - rED bLUE gREEN yELLOW\n"
     ]
    }
   ],
   "source": [
    "st = input(\"Enter a string\")\n",
    "print(\"Input String -\", st)\n",
    "new_st = ''\n",
    "for i in st:\n",
    "    if i.islower():\n",
    "        new_st += i.upper()\n",
    "    elif i.isupper():\n",
    "        new_st += i.lower()\n",
    "    else:\n",
    "        new_st += i \n",
    "print(\"Output String -\",new_st)"
   ]
  },
  {
   "cell_type": "markdown",
   "metadata": {},
   "source": [
    "##### 29. Remove a specific word from a string.\n"
   ]
  },
  {
   "cell_type": "code",
   "execution_count": 58,
   "metadata": {},
   "outputs": [
    {
     "name": "stdout",
     "output_type": "stream",
     "text": [
      "Input String - Red Blue Green Yellow\n",
      "Output String - Red  Green Yellow\n"
     ]
    }
   ],
   "source": [
    "st = input(\"Enter a string\")\n",
    "word = input(\"entered word to be removed\")\n",
    "print(\"Input String -\", st)\n",
    "st = st.replace(word,'')\n",
    "print(\"Output String -\", st)"
   ]
  },
  {
   "cell_type": "markdown",
   "metadata": {},
   "source": [
    "##### 30. Check if a string is a valid email address."
   ]
  },
  {
   "cell_type": "code",
   "execution_count": 81,
   "metadata": {},
   "outputs": [
    {
     "name": "stdout",
     "output_type": "stream",
     "text": [
      "Input Email Address - abc.ghi1@gmail.com\n",
      "It is valid email\n"
     ]
    }
   ],
   "source": [
    "import re \n",
    "email_string = input(\"Enter an email address for example\")\n",
    "pattern = re.compile(r'[A-Za-z0-9-.*_]+@[A-Za-z0-9]+\\.[A-Za-z]+')\n",
    "matches = pattern.match(email_string)\n",
    "print(\"Input Email Address -\", email_string)\n",
    "print(\"It is valid email\") if matches!=None else print(\"It is not a valid email\") "
   ]
  },
  {
   "cell_type": "markdown",
   "metadata": {},
   "source": [
    "##### 31. Extract the username from an email address string.\n"
   ]
  },
  {
   "cell_type": "code",
   "execution_count": 19,
   "metadata": {},
   "outputs": [
    {
     "name": "stdout",
     "output_type": "stream",
     "text": [
      "Input Email Address - abc.dfg@gmail.com\n",
      "Output username -  abc.dfg\n"
     ]
    }
   ],
   "source": [
    "import re \n",
    "email_string = input(\"Enter an email address for example\")\n",
    "pattern = re.compile(r'([A-Za-z0-9-.*_]+)@([A-Za-z0-9]+)\\.([A-Za-z]+)')\n",
    "matches = pattern.finditer(email_string)\n",
    "print(\"Input Email Address -\", email_string)\n",
    "for i in matches:\n",
    "    print(\"Output username - \",i.group(1))"
   ]
  },
  {
   "cell_type": "markdown",
   "metadata": {},
   "source": [
    "##### 32. Extract the domain name from an email address string.\n"
   ]
  },
  {
   "cell_type": "code",
   "execution_count": 23,
   "metadata": {},
   "outputs": [
    {
     "name": "stdout",
     "output_type": "stream",
     "text": [
      "Input Email Address - abc.dfg@gmail.com\n",
      "Output domain name -  gmail\n"
     ]
    }
   ],
   "source": [
    "import re \n",
    "email_string = input(\"Enter an email address for example\")\n",
    "pattern = re.compile(r'([A-Za-z0-9-.*_]+)@([A-Za-z0-9]+)\\.([A-Za-z]+)')\n",
    "matches = pattern.finditer(email_string)\n",
    "print(\"Input Email Address -\", email_string)\n",
    "for i in matches:\n",
    "    print(\"Output domain name - \",i.group(2))"
   ]
  },
  {
   "cell_type": "markdown",
   "metadata": {},
   "source": [
    "##### 33. Replace multiple spaces in a string with a single space.\n"
   ]
  },
  {
   "cell_type": "code",
   "execution_count": 27,
   "metadata": {},
   "outputs": [
    {
     "name": "stdout",
     "output_type": "stream",
     "text": [
      "Input string -     we are    good  \n",
      "Output string - we are good\n"
     ]
    }
   ],
   "source": [
    "st = input(\"Enter a string\")\n",
    "print(\"Input string -\", st)\n",
    "l = list(st.split())\n",
    "st = \" \".join(l)\n",
    "print(\"Output string -\", st)"
   ]
  },
  {
   "cell_type": "markdown",
   "metadata": {},
   "source": [
    "##### 34. Check if a string is a valid URL.\n"
   ]
  },
  {
   "cell_type": "code",
   "execution_count": 32,
   "metadata": {},
   "outputs": [
    {
     "name": "stdout",
     "output_type": "stream",
     "text": [
      "Input URL - https://youtube.com\n",
      "It is valid url\n"
     ]
    }
   ],
   "source": [
    "import re \n",
    "url_string = input(\"Enter an  for example\")\n",
    "pattern = re.compile(r'(http)s?://(www.)?(\\w+)(\\.\\w+)')\n",
    "matches = pattern.match(url_string)\n",
    "print(\"Input URL -\", url_string)\n",
    "print(\"It is valid url\") if matches!=None else print(\"It is not a valid url\") "
   ]
  },
  {
   "cell_type": "markdown",
   "metadata": {},
   "source": [
    "##### 35. Extract the protocol (http or https) from a URL string.\n"
   ]
  },
  {
   "cell_type": "code",
   "execution_count": 38,
   "metadata": {},
   "outputs": [
    {
     "name": "stdout",
     "output_type": "stream",
     "text": [
      "Input url - http://abc.jn\n",
      "Output protocol - http\n"
     ]
    }
   ],
   "source": [
    "import re \n",
    "url_string = input(\"Enter an url for example\")\n",
    "pattern = re.compile(r'(http|https)://(www.)?(\\w+)(\\.\\w+)')\n",
    "matches = pattern.finditer(url_string)\n",
    "print(\"Input url -\", url_string)\n",
    "ans = ''\n",
    "for i in matches:\n",
    "    ans = i.group(1)\n",
    "print(\"Output protocol -\", ans) if ans!='' else print(\"No protocol mentioned\")"
   ]
  },
  {
   "cell_type": "markdown",
   "metadata": {},
   "source": [
    "##### 36. Find the frequency of each character in a string.\n"
   ]
  },
  {
   "cell_type": "code",
   "execution_count": 41,
   "metadata": {},
   "outputs": [
    {
     "name": "stdout",
     "output_type": "stream",
     "text": [
      "Input String - aaaggcccufgg\n",
      "Frequency of a is 3\n",
      "Frequency of g is 4\n",
      "Frequency of c is 3\n",
      "Frequency of u is 1\n",
      "Frequency of f is 1\n"
     ]
    }
   ],
   "source": [
    "st = input(\"enter a string\")\n",
    "print(\"Input String -\", st)\n",
    "count_dict = {}\n",
    "for i in st:\n",
    "    if i not in count_dict.keys():\n",
    "        count_dict[i] = 1\n",
    "    else :\n",
    "        count_dict[i] += 1\n",
    "for i in count_dict.keys():\n",
    "    print(\"Frequency of \"+i+\" is \"+str(count_dict[i]))"
   ]
  },
  {
   "cell_type": "markdown",
   "metadata": {},
   "source": [
    "##### 37. Remove all punctuation from a string.\n"
   ]
  },
  {
   "cell_type": "code",
   "execution_count": 43,
   "metadata": {},
   "outputs": [
    {
     "name": "stdout",
     "output_type": "stream",
     "text": [
      "Input String - I am good!!\n",
      "Output string - I am good\n"
     ]
    }
   ],
   "source": [
    "import string  \n",
    "punctuation = string.punctuation\n",
    "st = input(\"enter a string\")\n",
    "print(\"Input String -\", st)\n",
    "list_ans  = []\n",
    "for i in st:\n",
    "    if i not in punctuation:\n",
    "        list_ans.append(i)\n",
    "st = ''.join(list_ans)\n",
    "print(\"Output string -\", st)\n"
   ]
  },
  {
   "cell_type": "markdown",
   "metadata": {},
   "source": [
    "##### 38. Check if a string contains only digits.\n"
   ]
  },
  {
   "cell_type": "code",
   "execution_count": 4,
   "metadata": {},
   "outputs": [
    {
     "name": "stdout",
     "output_type": "stream",
     "text": [
      "Input String - dolphin3456\n",
      "OUTPUT : It does not have digits only\n"
     ]
    }
   ],
   "source": [
    "st = input(\"enter a string\")\n",
    "print(\"Input String -\", st)\n",
    "flag = 0\n",
    "for i in st:\n",
    "    if i.isdigit() == False:\n",
    "        flag = 1\n",
    "        break\n",
    "\n",
    "if flag == 0:\n",
    "    print(\"OUTPUT : It has digits only\")\n",
    "else:\n",
    "    print(\"OUTPUT : It does not have digits only\")"
   ]
  },
  {
   "cell_type": "markdown",
   "metadata": {},
   "source": [
    "##### 39. Check if a string contains only alphabets.\n"
   ]
  },
  {
   "cell_type": "code",
   "execution_count": 6,
   "metadata": {},
   "outputs": [
    {
     "name": "stdout",
     "output_type": "stream",
     "text": [
      "Input String - dolphin\n",
      "OUTPUT : It has alphabets only\n"
     ]
    }
   ],
   "source": [
    "st = input(\"enter a string\")\n",
    "print(\"Input String -\", st)\n",
    "flag = 0\n",
    "for i in st:\n",
    "    if i.isalpha() == False:\n",
    "        flag = 1\n",
    "        break\n",
    "\n",
    "if flag == 0:\n",
    "    print(\"OUTPUT : It has alphabets only\")\n",
    "else:\n",
    "    print(\"OUTPUT : It does not have alphabets only\")"
   ]
  },
  {
   "cell_type": "markdown",
   "metadata": {},
   "source": [
    "##### 40. Convert a string to a list of characters.\n"
   ]
  },
  {
   "cell_type": "code",
   "execution_count": 7,
   "metadata": {},
   "outputs": [
    {
     "name": "stdout",
     "output_type": "stream",
     "text": [
      "Input String - Dolphins are crazy\n",
      "output list - ['D', 'o', 'l', 'p', 'h', 'i', 'n', 's', ' ', 'a', 'r', 'e', ' ', 'c', 'r', 'a', 'z', 'y']\n"
     ]
    }
   ],
   "source": [
    "st = input(\"enter a string\")\n",
    "print(\"Input String -\", st)\n",
    "ans = list(st)\n",
    "print(\"output list -\", ans)"
   ]
  },
  {
   "cell_type": "markdown",
   "metadata": {},
   "source": [
    "##### 41. Check if two strings are anagrams.\n"
   ]
  },
  {
   "cell_type": "code",
   "execution_count": 9,
   "metadata": {},
   "outputs": [
    {
     "name": "stdout",
     "output_type": "stream",
     "text": [
      "First String - Hurray!!\n",
      "Second String - !Hyarur!\n",
      "Strings are anagrams\n"
     ]
    }
   ],
   "source": [
    "st1 = input(\"enter first string\")\n",
    "print(\"First String -\", st1)\n",
    "st2 = input(\"enter second string\")\n",
    "print(\"Second String -\", st2)\n",
    "if len(st1) != len(st2):\n",
    "    print(\"Strings are not anagrams\")\n",
    "s1 = sorted(st1)\n",
    "s2 = sorted(st2)\n",
    "print(\"Strings are anagrams\") if s1==s2 else print(\"Strings are not anagrams\")"
   ]
  },
  {
   "cell_type": "markdown",
   "metadata": {},
   "source": [
    "##### 42. Encode a string using a Caesar cipher.\n"
   ]
  },
  {
   "cell_type": "code",
   "execution_count": 24,
   "metadata": {},
   "outputs": [
    {
     "name": "stdout",
     "output_type": "stream",
     "text": [
      "Entered string - PYTHON and entered key - 15\n",
      "Output Encrypted String - ENIWDC\n"
     ]
    }
   ],
   "source": [
    "st = input(\"Enter a uppercase string\").upper()\n",
    "key = int(input(\"Enter key\"))\n",
    "print(\"Entered string -\",st, \"and entered key -\", key)\n",
    "l= [chr(i) for i in range(65,91)]\n",
    "ans = []\n",
    "for i in st:\n",
    "    if i.isalpha():\n",
    "        ch = (ord(i)-ord('A')+key)%26\n",
    "        ans.append(l[ch])\n",
    "    else:\n",
    "        ans.append(i) \n",
    "print(\"Output Encrypted String -\",''.join(ans))"
   ]
  },
  {
   "cell_type": "markdown",
   "metadata": {},
   "source": [
    "##### 43. Decode a Caesar cipher encoded string.\n"
   ]
  },
  {
   "cell_type": "code",
   "execution_count": 26,
   "metadata": {},
   "outputs": [
    {
     "name": "stdout",
     "output_type": "stream",
     "text": [
      "Entered string - PYTHON and entered key - 17\n",
      "Output Dencrypted String - YHCQXW\n"
     ]
    }
   ],
   "source": [
    "st = input(\"Enter a uppercase string\").upper()\n",
    "key = int(input(\"Enter key\"))\n",
    "print(\"Entered string -\",st, \"and entered key -\", key)\n",
    "l= [chr(i) for i in range(65,91)]\n",
    "ans = []\n",
    "for i in st:\n",
    "    if i.isalpha():\n",
    "        ch = (ord(i)-ord('A')-key)%26\n",
    "        ch = (26 - ch) if ch<0 else ch\n",
    "        ans.append(l[ch])\n",
    "    else:\n",
    "        ans.append(i) \n",
    "print(\"Output Dencrypted String -\",''.join(ans))"
   ]
  },
  {
   "cell_type": "markdown",
   "metadata": {},
   "source": [
    "##### 44. Find the most frequent word in a string.\n"
   ]
  },
  {
   "cell_type": "code",
   "execution_count": 31,
   "metadata": {},
   "outputs": [
    {
     "name": "stdout",
     "output_type": "stream",
     "text": [
      "input string - I did not go to market. I went to gym.\n",
      "Most frequent words  - \n",
      "I\n",
      "to\n"
     ]
    }
   ],
   "source": [
    "st = input(\"enter a string\")\n",
    "print(\"input string -\", st)\n",
    "l = st.split()\n",
    "count_dict = {}\n",
    "maxm = 0\n",
    "for i in l:\n",
    "    if i not in count_dict.keys():\n",
    "        count_dict[i] = 1\n",
    "        maxm = max(count_dict[i], maxm)\n",
    "    else :\n",
    "        count_dict[i] += 1\n",
    "        maxm = max(count_dict[i], maxm)\n",
    "print(\"Most frequent words  - \")\n",
    "for i in count_dict.keys():\n",
    "    if count_dict[i] == maxm:\n",
    "        print(i)\n"
   ]
  },
  {
   "cell_type": "markdown",
   "metadata": {},
   "source": [
    "##### 45. Find all unique words in a string.\n"
   ]
  },
  {
   "cell_type": "code",
   "execution_count": 32,
   "metadata": {},
   "outputs": [
    {
     "name": "stdout",
     "output_type": "stream",
     "text": [
      "input string - I did not go to market. I went to gym.\n",
      "Unique words  - \n",
      "did\n",
      "not\n",
      "go\n",
      "market.\n",
      "went\n",
      "gym.\n"
     ]
    }
   ],
   "source": [
    "st = input(\"enter a string\")\n",
    "print(\"input string -\", st)\n",
    "l = st.split()\n",
    "count_dict = {}\n",
    "for i in l:\n",
    "    if i not in count_dict.keys():\n",
    "        count_dict[i] = 1\n",
    "    else :\n",
    "        count_dict[i] += 1\n",
    "print(\"Unique words  - \")\n",
    "for i in count_dict.keys():\n",
    "    if count_dict[i] == 1:\n",
    "        print(i)\n"
   ]
  },
  {
   "cell_type": "markdown",
   "metadata": {},
   "source": [
    "##### 46. Count the number of syllables in a string."
   ]
  },
  {
   "cell_type": "code",
   "execution_count": null,
   "metadata": {},
   "outputs": [],
   "source": []
  },
  {
   "cell_type": "markdown",
   "metadata": {},
   "source": [
    "##### 47. Check if a string contains any special characters.\n"
   ]
  },
  {
   "cell_type": "code",
   "execution_count": 33,
   "metadata": {},
   "outputs": [
    {
     "name": "stdout",
     "output_type": "stream",
     "text": [
      "Input String - Hurray!! we win\n",
      "This String contains special character\n"
     ]
    }
   ],
   "source": [
    "import string  \n",
    "punctuation = string.punctuation\n",
    "st = input(\"enter a string\")\n",
    "print(\"Input String -\", st)\n",
    "list_ans  = []\n",
    "for i in st:\n",
    "    if i not in punctuation:\n",
    "        print(\"This String contains special character\")\n",
    "        break"
   ]
  },
  {
   "cell_type": "markdown",
   "metadata": {},
   "source": [
    "##### 48. Remove the nth word from a string.\n"
   ]
  },
  {
   "cell_type": "code",
   "execution_count": 36,
   "metadata": {},
   "outputs": [
    {
     "name": "stdout",
     "output_type": "stream",
     "text": [
      "Input String - I am not well\n",
      "Output String - I am well\n"
     ]
    }
   ],
   "source": [
    "st = input(\"Enter a string\")\n",
    "n = int(input(\"enter value of n\"))\n",
    "print(\"Input String -\", st)\n",
    "l = st.split()\n",
    "l.pop(n-1)\n",
    "st = ' '.join(l)\n",
    "print(\"Output String -\", st)"
   ]
  },
  {
   "cell_type": "markdown",
   "metadata": {},
   "source": [
    "##### 49. Insert a word at the nth position in a string.\n"
   ]
  },
  {
   "cell_type": "code",
   "execution_count": 39,
   "metadata": {},
   "outputs": [
    {
     "name": "stdout",
     "output_type": "stream",
     "text": [
      "Input String - asd asd asd asd\n",
      "fgh needed to be inserted at 2 position\n",
      "Output String - asd fgh asd asd asd\n"
     ]
    }
   ],
   "source": [
    "st = input(\"Enter a string\")\n",
    "n = int(input(\"enter value of n\"))\n",
    "word = input(\"enter word to be inserted\")\n",
    "print(\"Input String -\", st)\n",
    "print(word , \"needed to be inserted at\", n ,\"position\")\n",
    "l = st.split()\n",
    "l.insert(n-1,word)\n",
    "st = ' '.join(l)\n",
    "print(\"Output String -\", st)"
   ]
  },
  {
   "cell_type": "markdown",
   "metadata": {},
   "source": [
    "##### 50. Convert a CSV string to a list of lists."
   ]
  },
  {
   "cell_type": "code",
   "execution_count": 43,
   "metadata": {},
   "outputs": [
    {
     "name": "stdout",
     "output_type": "stream",
     "text": [
      "List is -  [['period', 'series_reference', 'region_name', 'filled jobs', 'filled jobs revised', 'filled jobs diff', 'filled jobs % diff', 'total_earnings', 'total earnings revised', 'earnings diff', 'earnings % diff'], ['2020.09', 'BDCQ.SED1RA', 'Northland', '65520', '65904', '384', '0.6', '953', '959', '6', '0.6'], ['2020.09', 'BDCQ.SED1RB', 'Auckland', '708372', '714506', '6134', '0.9', '12420', '12530', '110', '0.9'], ['2020.09', 'BDCQ.SED1RC', 'Waikato', '198776', '200265', '1489', '0.7', '3041', '3058', '17', '0.6'], ['2020.09', 'BDCQ.SED1RD', 'Bay of Plenty', '127323', '128540', '1217', '1', '1881', '1899', '18', '1'], ['2020.09', 'BDCQ.SED1RE', 'Gisborne', '20417', '20632', '215', '1.1', '276', '279', '3', '1.1'], ['2020.09', 'BDCQ.SED1RF', \"Hawke's Bay\", '71967', '72600', '633', '0.9', '1028', '1036', '8', '0.8'], ['2020.09', 'BDCQ.SED1RG', 'Taranaki', '49239', '49599', '360', '0.7', '745', '750', '5', '0.7'], ['2020.09', 'BDCQ.SED1RH', 'Manawatu-Whanganui', '101946', '102617', '671', '0.7', '1455', '1464', '9', '0.6'], ['2020.09', 'BDCQ.SED1RI', 'Wellington', '237102', '239076', '1974', '0.8', '4358', '4394', '36', '0.8'], ['2020.09', 'BDCQ.SED1RJ', 'Tasman', '22298', '22482', '184', '0.8', '307', '309', '2', '0.7'], ['2020.09', 'BDCQ.SED1RK', 'Nelson', '19009', '19190', '181', '1', '268', '272', '4', '1.5'], ['2020.09', 'BDCQ.SED1RL', 'Marlborough', '24745', '24844', '99', '0.4', '349', '349', '0', '0'], ['2020.09', 'BDCQ.SED1RM', 'West Coast', '13626', '13646', '20', '0.1', '193', '193', '0', '0'], ['2020.09', 'BDCQ.SED1RN', 'Canterbury', '275569', '278290', '2721', '1', '4232', '4269', '37', '0.9'], ['2020.09', 'BDCQ.SED1RO', 'Otago', '103405', '104211', '806', '0.8', '1473', '1484', '11', '0.7'], ['2020.09', 'BDCQ.SED1RP', 'Southland', '43598', '44007', '409', '0.9', '609', '616', '7', '1.1'], ['2020.12', 'BDCQ.SED1RA', 'Northland', '67629', '68137', '508', '0.8', '974', '982', '8', '0.8'], ['2020.12', 'BDCQ.SED1RB', 'Auckland', '713636', '721492', '7856', '1.1', '12597', '12738', '141', '1.1'], ['2020.12', 'BDCQ.SED1RC', 'Waikato', '203030', '204389', '1359', '0.7', '3105', '3125', '20', '0.6'], ['2020.12', 'BDCQ.SED1RD', 'Bay of Plenty', '130557', '132364', '1807', '1.4', '1921', '1950', '29', '1.5'], ['2020.12', 'BDCQ.SED1RE', 'Gisborne', '21450', '21638', '188', '0.9', '286', '289', '3', '1'], ['2020.12', 'BDCQ.SED1RF', \"Hawke's Bay\", '74413', '75220', '807', '1.1', '1057', '1069', '12', '1.1'], ['2020.12', 'BDCQ.SED1RG', 'Taranaki', '50073', '50570', '497', '1', '761', '770', '9', '1.2'], ['2020.12', 'BDCQ.SED1RH', 'Manawatu-Whanganui', '104474', '105209', '735', '0.7', '1484', '1493', '9', '0.6'], ['2020.12', 'BDCQ.SED1RI', 'Wellington', '241506', '243161', '1655', '0.7', '4356', '4381', '25', '0.6'], ['2020.12', 'BDCQ.SED1RJ', 'Tasman', '22794', '22987', '193', '0.8', '309', '312', '3', '1'], ['2020.12', 'BDCQ.SED1RK', 'Nelson', '19480', '19605', '125', '0.6', '273', '276', '3', '1.1'], ['2020.12', 'BDCQ.SED1RL', 'Marlborough', '25074', '25179', '105', '0.4', '352', '352', '0', '0'], ['2020.12', 'BDCQ.SED1RM', 'West Coast', '13974', '13970', '-4', '0', '196', '196', '0', '0'], ['2020.12', 'BDCQ.SED1RN', 'Canterbury', '278420', '282281', '3861', '1.4', '4266', '4325', '59', '1.4'], ['2020.12', 'BDCQ.SED1RO', 'Otago', '104841', '105684', '843', '0.8', '1503', '1514', '11', '0.7'], ['2020.12', 'BDCQ.SED1RP', 'Southland', '45280', '45689', '409', '0.9', '643', '648', '5', '0.8'], ['2021.03', 'BDCQ.SED1RA', 'Northland', '67128', '67640', '512', '0.8', '950', '958', '8', '0.8'], ['2021.03', 'BDCQ.SED1RB', 'Auckland', '708896', '715771', '6875', '1', '12466', '12586', '120', '1'], ['2021.03', 'BDCQ.SED1RC', 'Waikato', '202584', '203703', '1119', '0.6', '3039', '3055', '16', '0.5'], ['2021.03', 'BDCQ.SED1RD', 'Bay of Plenty', '130306', '131440', '1134', '0.9', '1896', '1915', '19', '1'], ['2021.03', 'BDCQ.SED1RE', 'Gisborne', '21616', '21790', '174', '0.8', '285', '288', '3', '1.1'], ['2021.03', 'BDCQ.SED1RF', \"Hawke's Bay\", '75658', '76359', '701', '0.9', '1073', '1084', '11', '1'], ['2021.03', 'BDCQ.SED1RG', 'Taranaki', '50405', '50758', '353', '0.7', '754', '760', '6', '0.8'], ['2021.03', 'BDCQ.SED1RH', 'Manawatu-Whanganui', '104144', '104706', '562', '0.5', '1461', '1467', '6', '0.4'], ['2021.03', 'BDCQ.SED1RI', 'Wellington', '239815', '241057', '1242', '0.5', '4452', '4475', '23', '0.5'], ['2021.03', 'BDCQ.SED1RJ', 'Tasman', '22914', '23104', '190', '0.8', '311', '314', '3', '1'], ['2021.03', 'BDCQ.SED1RK', 'Nelson', '19382', '19525', '143', '0.7', '271', '274', '3', '1.1'], ['2021.03', 'BDCQ.SED1RL', 'Marlborough', '25005', '25099', '94', '0.4', '351', '351', '0', '0'], ['2021.03', 'BDCQ.SED1RM', 'West Coast', '13900', '13910', '10', '0.1', '194', '193', '-1', '-0.5'], ['2021.03', 'BDCQ.SED1RN', 'Canterbury', '277381', '280156', '2775', '1', '4196', '4239', '43', '1'], ['2021.03', 'BDCQ.SED1RO', 'Otago', '104361', '105359', '998', '1', '1486', '1500', '14', '0.9'], ['2021.03', 'BDCQ.SED1RP', 'Southland', '45855', '46351', '496', '1.1', '645', '653', '8', '1.2'], ['2021.06', 'BDCQ.SED1RA', 'Northland', '68288', '69064', '776', '1.1', '1001', '1015', '14', '1.4'], ['2021.06', 'BDCQ.SED1RB', 'Auckland', '720874', '729746', '8872', '1.2', '12972', '13136', '164', '1.3'], ['2021.06', 'BDCQ.SED1RC', 'Waikato', '204615', '206487', '1872', '0.9', '3170', '3197', '27', '0.9'], ['2021.06', 'BDCQ.SED1RD', 'Bay of Plenty', '134675', '136353', '1678', '1.2', '2046', '2076', '30', '1.5'], ['2021.06', 'BDCQ.SED1RE', 'Gisborne', '21455', '21893', '438', '2', '291', '297', '6', '2.1'], ['2021.06', 'BDCQ.SED1RF', \"Hawke's Bay\", '76083', '76894', '811', '1.1', '1128', '1141', '13', '1.2'], ['2021.06', 'BDCQ.SED1RG', 'Taranaki', '50626', '51256', '630', '1.2', '789', '801', '12', '1.5'], ['2021.06', 'BDCQ.SED1RH', 'Manawatu-Whanganui', '104227', '105614', '1387', '1.3', '1500', '1520', '20', '1.3'], ['2021.06', 'BDCQ.SED1RI', 'Wellington', '239064', '243770', '4706', '2', '4360', '4478', '118', '2.7'], ['2021.06', 'BDCQ.SED1RJ', 'Tasman', '22883', '23119', '236', '1', '320', '324', '4', '1.3'], ['2021.06', 'BDCQ.SED1RK', 'Nelson', '19398', '19543', '145', '0.7', '278', '282', '4', '1.4'], ['2021.06', 'BDCQ.SED1RL', 'Marlborough', '24942', '25091', '149', '0.6', '361', '362', '1', '0.3'], ['2021.06', 'BDCQ.SED1RM', 'West Coast', '13745', '13920', '175', '1.3', '195', '198', '3', '1.5'], ['2021.06', 'BDCQ.SED1RN', 'Canterbury', '279418', '283782', '4364', '1.6', '4341', '4409', '68', '1.6'], ['2021.06', 'BDCQ.SED1RO', 'Otago', '104201', '105559', '1358', '1.3', '1531', '1550', '19', '1.2'], ['2021.06', 'BDCQ.SED1RP', 'Southland', '45261', '45736', '475', '1', '657', '665', '8', '1.2'], ['2021.09', 'BDCQ.SED1RA', 'Northland', '68905', '69401', '496', '0.7', '1012', '1020', '8', '0.8'], ['2021.09', 'BDCQ.SED1RB', 'Auckland', '725395', '734238', '8843', '1.2', '13299', '13457', '158', '1.2'], ['2021.09', 'BDCQ.SED1RC', 'Waikato', '206530', '208279', '1749', '0.8', '3238', '3264', '26', '0.8'], ['2021.09', 'BDCQ.SED1RD', 'Bay of Plenty', '132652', '134022', '1370', '1', '2030', '2053', '23', '1.1'], ['2021.09', 'BDCQ.SED1RE', 'Gisborne', '21102', '21501', '399', '1.9', '295', '300', '5', '1.7'], ['2021.09', 'BDCQ.SED1RF', \"Hawke's Bay\", '74836', '75505', '669', '0.9', '1103', '1114', '11', '1'], ['2021.09', 'BDCQ.SED1RG', 'Taranaki', '51002', '51448', '446', '0.9', '781', '789', '8', '1'], ['2021.09', 'BDCQ.SED1RH', 'Manawatu-Whanganui', '105139', '106029', '890', '0.8', '1525', '1540', '15', '1'], ['2021.09', 'BDCQ.SED1RI', 'Wellington', '242981', '244981', '2000', '0.8', '4624', '4656', '32', '0.7'], ['2021.09', 'BDCQ.SED1RJ', 'Tasman', '22778', '23065', '287', '1.3', '322', '326', '4', '1.2'], ['2021.09', 'BDCQ.SED1RK', 'Nelson', '19423', '19647', '224', '1.2', '282', '287', '5', '1.8'], ['2021.09', 'BDCQ.SED1RL', 'Marlborough', '24881', '25166', '285', '1.1', '359', '363', '4', '1.1'], ['2021.09', 'BDCQ.SED1RM', 'West Coast', '13685', '13771', '86', '0.6', '196', '197', '1', '0.5'], ['2021.09', 'BDCQ.SED1RN', 'Canterbury', '282838', '285722', '2884', '1', '4450', '4494', '44', '1'], ['2021.09', 'BDCQ.SED1RO', 'Otago', '104818', '105885', '1067', '1', '1549', '1564', '15', '1'], ['2021.09', 'BDCQ.SED1RP', 'Southland', '44758', '45207', '449', '1', '641', '650', '9', '1.4'], ['2021.12', 'BDCQ.SED1RA', 'Northland', '71012', '71494', '482', '0.7', '1093', '1102', '9', '0.8'], ['2021.12', 'BDCQ.SED1RB', 'Auckland', '741145', '748627', '7482', '1', '13977', '14131', '154', '1.1'], ['2021.12', 'BDCQ.SED1RC', 'Waikato', '212340', '213543', '1203', '0.6', '3475', '3495', '20', '0.6'], ['2021.12', 'BDCQ.SED1RD', 'Bay of Plenty', '137090', '137993', '903', '0.7', '2174', '2191', '17', '0.8'], ['2021.12', 'BDCQ.SED1RE', 'Gisborne', '22116', '22336', '220', '1', '319', '322', '3', '0.9'], ['2021.12', 'BDCQ.SED1RF', \"Hawke's Bay\", '77231', '78013', '782', '1', '1189', '1201', '12', '1'], ['2021.12', 'BDCQ.SED1RG', 'Taranaki', '52263', '52718', '455', '0.9', '842', '849', '7', '0.8'], ['2021.12', 'BDCQ.SED1RH', 'Manawatu-Whanganui', '108016', '108719', '703', '0.7', '1639', '1646', '7', '0.4'], ['2021.12', 'BDCQ.SED1RI', 'Wellington', '248776', '250317', '1541', '0.6', '4823', '4849', '26', '0.5'], ['2021.12', 'BDCQ.SED1RJ', 'Tasman', '23415', '23741', '326', '1.4', '341', '345', '4', '1.2'], ['2021.12', 'BDCQ.SED1RK', 'Nelson', '19947', '20108', '161', '0.8', '300', '304', '4', '1.3'], ['2021.12', 'BDCQ.SED1RL', 'Marlborough', '25563', '25793', '230', '0.9', '384', '386', '2', '0.5'], ['2021.12', 'BDCQ.SED1RM', 'West Coast', '14215', '14251', '36', '0.3', '212', '214', '2', '0.9'], ['2021.12', 'BDCQ.SED1RN', 'Canterbury', '289799', '292743', '2944', '1', '4734', '4782', '48', '1'], ['2021.12', 'BDCQ.SED1RO', 'Otago', '107466', '108500', '1034', '1', '1655', '1669', '14', '0.8'], ['2021.12', 'BDCQ.SED1RP', 'Southland', '46478', '46808', '330', '0.7', '700', '706', '6', '0.9'], ['2022.03', 'BDCQ.SED1RA', 'Northland', '69868', '70477', '609', '0.9', '1056', '1070', '14', '1.3'], ['2022.03', 'BDCQ.SED1RB', 'Auckland', '735186', '741891', '6705', '0.9', '13788', '14022', '234', '1.7'], ['2022.03', 'BDCQ.SED1RC', 'Waikato', '210543', '211775', '1232', '0.6', '3391', '3410', '19', '0.6'], ['2022.03', 'BDCQ.SED1RD', 'Bay of Plenty', '134796', '135832', '1036', '0.8', '2113', '2130', '17', '0.8'], ['2022.03', 'BDCQ.SED1RE', 'Gisborne', '21580', '22122', '542', '2.5', '304', '311', '7', '2.3'], ['2022.03', 'BDCQ.SED1RF', \"Hawke's Bay\", '78010', '78447', '437', '0.6', '1189', '1198', '9', '0.8'], ['2022.03', 'BDCQ.SED1RG', 'Taranaki', '51791', '52263', '472', '0.9', '823', '829', '6', '0.7'], ['2022.03', 'BDCQ.SED1RH', 'Manawatu-Whanganui', '107205', '107814', '609', '0.6', '1596', '1602', '6', '0.4'], ['2022.03', 'BDCQ.SED1RI', 'Wellington', '246085', '247613', '1528', '0.6', '4712', '4741', '29', '0.6'], ['2022.03', 'BDCQ.SED1RJ', 'Tasman', '23527', '23750', '223', '0.9', '344', '347', '3', '0.9'], ['2022.03', 'BDCQ.SED1RK', 'Nelson', '19747', '19823', '76', '0.4', '296', '299', '3', '1'], ['2022.03', 'BDCQ.SED1RL', 'Marlborough', '25368', '25592', '224', '0.9', '380', '382', '2', '0.5'], ['2022.03', 'BDCQ.SED1RM', 'West Coast', '14056', '14118', '62', '0.4', '207', '209', '2', '1'], ['2022.03', 'BDCQ.SED1RN', 'Canterbury', '286920', '289628', '2708', '0.9', '4607', '4650', '43', '0.9'], ['2022.03', 'BDCQ.SED1RO', 'Otago', '106680', '107815', '1135', '1.1', '1625', '1640', '15', '0.9'], ['2022.03', 'BDCQ.SED1RP', 'Southland', '46787', '47114', '327', '0.7', '697', '703', '6', '0.9'], ['2022.06', 'BDCQ.SED1RA', 'Northland', '70390', '71012', '622', '0.9', '1108', '1119', '11', '1'], ['2022.06', 'BDCQ.SED1RB', 'Auckland', '738297', '747141', '8844', '1.2', '14234', '14423', '189', '1.3'], ['2022.06', 'BDCQ.SED1RC', 'Waikato', '211521', '213038', '1517', '0.7', '3502', '3531', '29', '0.8'], ['2022.06', 'BDCQ.SED1RD', 'Bay of Plenty', '138518', '140067', '1549', '1.1', '2236', '2265', '29', '1.3'], ['2022.06', 'BDCQ.SED1RE', 'Gisborne', '21828', '22211', '383', '1.8', '316', '322', '6', '1.9'], ['2022.06', 'BDCQ.SED1RF', \"Hawke's Bay\", '78682', '79212', '530', '0.7', '1244', '1252', '8', '0.6'], ['2022.06', 'BDCQ.SED1RG', 'Taranaki', '51872', '52310', '438', '0.8', '865', '872', '7', '0.8'], ['2022.06', 'BDCQ.SED1RH', 'Manawatu-Whanganui', '106806', '107554', '748', '0.7', '1645', '1655', '10', '0.6'], ['2022.06', 'BDCQ.SED1RI', 'Wellington', '246674', '248666', '1992', '0.8', '4820', '4870', '50', '1'], ['2022.06', 'BDCQ.SED1RJ', 'Tasman', '23906', '24165', '259', '1.1', '358', '362', '4', '1.1'], ['2022.06', 'BDCQ.SED1RK', 'Nelson', '19803', '19868', '65', '0.3', '302', '304', '2', '0.7'], ['2022.06', 'BDCQ.SED1RL', 'Marlborough', '25264', '25440', '176', '0.7', '390', '391', '1', '0.3'], ['2022.06', 'BDCQ.SED1RM', 'West Coast', '14045', '14059', '14', '0.1', '213', '213', '0', '0'], ['2022.06', 'BDCQ.SED1RN', 'Canterbury', '288387', '291078', '2691', '0.9', '4762', '4809', '47', '1'], ['2022.06', 'BDCQ.SED1RO', 'Otago', '106111', '107108', '997', '0.9', '1660', '1676', '16', '1'], ['2022.06', 'BDCQ.SED1RP', 'Southland', '45514', '45919', '405', '0.9', '699', '707', '8', '1.1'], ['2022.09', 'BDCQ.SED1RA', 'Northland', '70417', '71031', '614', '0.9', '1114', '1124', '10', '0.9'], ['2022.09', 'BDCQ.SED1RB', 'Auckland', '741564', '749147', '7583', '1', '14631', '14783', '152', '1'], ['2022.09', 'BDCQ.SED1RC', 'Waikato', '212557', '213928', '1371', '0.6', '3588', '3614', '26', '0.7'], ['2022.09', 'BDCQ.SED1RD', 'Bay of Plenty', '136246', '137396', '1150', '0.8', '2239', '2258', '19', '0.8'], ['2022.09', 'BDCQ.SED1RE', 'Gisborne', '21695', '21962', '267', '1.2', '321', '325', '4', '1.2'], ['2022.09', 'BDCQ.SED1RF', \"Hawke's Bay\", '76353', '76934', '581', '0.8', '1213', '1224', '11', '0.9'], ['2022.09', 'BDCQ.SED1RG', 'Taranaki', '52067', '52511', '444', '0.9', '852', '860', '8', '0.9'], ['2022.09', 'BDCQ.SED1RH', 'Manawatu-Whanganui', '107216', '108118', '902', '0.8', '1651', '1664', '13', '0.8'], ['2022.09', 'BDCQ.SED1RI', 'Wellington', '246959', '249410', '2451', '1', '4975', '5032', '57', '1.1'], ['2022.09', 'BDCQ.SED1RJ', 'Tasman', '23446', '23589', '143', '0.6', '357', '359', '2', '0.6'], ['2022.09', 'BDCQ.SED1RK', 'Nelson', '19682', '19884', '202', '1', '310', '314', '4', '1.3'], ['2022.09', 'BDCQ.SED1RL', 'Marlborough', '25156', '25342', '186', '0.7', '394', '396', '2', '0.5'], ['2022.09', 'BDCQ.SED1RM', 'West Coast', '13933', '13949', '16', '0.1', '212', '212', '0', '0'], ['2022.09', 'BDCQ.SED1RN', 'Canterbury', '290386', '292661', '2275', '0.8', '4900', '4942', '42', '0.9'], ['2022.09', 'BDCQ.SED1RO', 'Otago', '106694', '107716', '1022', '1', '1704', '1719', '15', '0.9'], ['2022.09', 'BDCQ.SED1RP', 'Southland', '45131', '45665', '534', '1.2', '697', '706', '9', '1.3'], ['2022.12', 'BDCQ.SED1RA', 'Northland', '72276', '72801', '525', '0.7', '1171', '1181', '10', '0.9'], ['2022.12', 'BDCQ.SED1RB', 'Auckland', '756716', '765991', '9275', '1.2', '15076', '15258', '182', '1.2'], ['2022.12', 'BDCQ.SED1RC', 'Waikato', '217715', '219366', '1651', '0.8', '3754', '3783', '29', '0.8'], ['2022.12', 'BDCQ.SED1RD', 'Bay of Plenty', '138254', '139879', '1625', '1.2', '2307', '2340', '33', '1.4'], ['2022.12', 'BDCQ.SED1RE', 'Gisborne', '21829', '22440', '611', '2.8', '326', '338', '12', '3.7'], ['2022.12', 'BDCQ.SED1RF', \"Hawke's Bay\", '77356', '78100', '744', '1', '1259', '1272', '13', '1'], ['2022.12', 'BDCQ.SED1RG', 'Taranaki', '52895', '53326', '431', '0.8', '898', '906', '8', '0.9'], ['2022.12', 'BDCQ.SED1RH', 'Manawatu-Whanganui', '108850', '109736', '886', '0.8', '1737', '1750', '13', '0.7'], ['2022.12', 'BDCQ.SED1RI', 'Wellington', '250305', '252045', '1740', '0.7', '5139', '5177', '38', '0.7'], ['2022.12', 'BDCQ.SED1RJ', 'Tasman', '24126', '24228', '102', '0.4', '371', '372', '1', '0.3'], ['2022.12', 'BDCQ.SED1RK', 'Nelson', '20192', '20324', '132', '0.7', '322', '325', '3', '0.9'], ['2022.12', 'BDCQ.SED1RL', 'Marlborough', '25707', '25909', '202', '0.8', '409', '413', '4', '1'], ['2022.12', 'BDCQ.SED1RM', 'West Coast', '14315', '14347', '32', '0.2', '226', '227', '1', '0.4'], ['2022.12', 'BDCQ.SED1RN', 'Canterbury', '296998', '299921', '2923', '1', '5113', '5161', '48', '0.9'], ['2022.12', 'BDCQ.SED1RO', 'Otago', '109243', '110509', '1266', '1.2', '1784', '1803', '19', '1.1'], ['2022.12', 'BDCQ.SED1RP', 'Southland', '46964', '47437', '473', '1', '752', '760', '8', '1.1']]\n",
      "Data in list of list -\n",
      "['period', 'series_reference', 'region_name', 'filled jobs', 'filled jobs revised', 'filled jobs diff', 'filled jobs % diff', 'total_earnings', 'total earnings revised', 'earnings diff', 'earnings % diff']\n",
      "['2020.09', 'BDCQ.SED1RA', 'Northland', '65520', '65904', '384', '0.6', '953', '959', '6', '0.6']\n",
      "['2020.09', 'BDCQ.SED1RB', 'Auckland', '708372', '714506', '6134', '0.9', '12420', '12530', '110', '0.9']\n",
      "['2020.09', 'BDCQ.SED1RC', 'Waikato', '198776', '200265', '1489', '0.7', '3041', '3058', '17', '0.6']\n",
      "['2020.09', 'BDCQ.SED1RD', 'Bay of Plenty', '127323', '128540', '1217', '1', '1881', '1899', '18', '1']\n",
      "['2020.09', 'BDCQ.SED1RE', 'Gisborne', '20417', '20632', '215', '1.1', '276', '279', '3', '1.1']\n",
      "['2020.09', 'BDCQ.SED1RF', \"Hawke's Bay\", '71967', '72600', '633', '0.9', '1028', '1036', '8', '0.8']\n",
      "['2020.09', 'BDCQ.SED1RG', 'Taranaki', '49239', '49599', '360', '0.7', '745', '750', '5', '0.7']\n",
      "['2020.09', 'BDCQ.SED1RH', 'Manawatu-Whanganui', '101946', '102617', '671', '0.7', '1455', '1464', '9', '0.6']\n",
      "['2020.09', 'BDCQ.SED1RI', 'Wellington', '237102', '239076', '1974', '0.8', '4358', '4394', '36', '0.8']\n",
      "['2020.09', 'BDCQ.SED1RJ', 'Tasman', '22298', '22482', '184', '0.8', '307', '309', '2', '0.7']\n",
      "['2020.09', 'BDCQ.SED1RK', 'Nelson', '19009', '19190', '181', '1', '268', '272', '4', '1.5']\n",
      "['2020.09', 'BDCQ.SED1RL', 'Marlborough', '24745', '24844', '99', '0.4', '349', '349', '0', '0']\n",
      "['2020.09', 'BDCQ.SED1RM', 'West Coast', '13626', '13646', '20', '0.1', '193', '193', '0', '0']\n",
      "['2020.09', 'BDCQ.SED1RN', 'Canterbury', '275569', '278290', '2721', '1', '4232', '4269', '37', '0.9']\n",
      "['2020.09', 'BDCQ.SED1RO', 'Otago', '103405', '104211', '806', '0.8', '1473', '1484', '11', '0.7']\n",
      "['2020.09', 'BDCQ.SED1RP', 'Southland', '43598', '44007', '409', '0.9', '609', '616', '7', '1.1']\n",
      "['2020.12', 'BDCQ.SED1RA', 'Northland', '67629', '68137', '508', '0.8', '974', '982', '8', '0.8']\n",
      "['2020.12', 'BDCQ.SED1RB', 'Auckland', '713636', '721492', '7856', '1.1', '12597', '12738', '141', '1.1']\n",
      "['2020.12', 'BDCQ.SED1RC', 'Waikato', '203030', '204389', '1359', '0.7', '3105', '3125', '20', '0.6']\n",
      "['2020.12', 'BDCQ.SED1RD', 'Bay of Plenty', '130557', '132364', '1807', '1.4', '1921', '1950', '29', '1.5']\n",
      "['2020.12', 'BDCQ.SED1RE', 'Gisborne', '21450', '21638', '188', '0.9', '286', '289', '3', '1']\n",
      "['2020.12', 'BDCQ.SED1RF', \"Hawke's Bay\", '74413', '75220', '807', '1.1', '1057', '1069', '12', '1.1']\n",
      "['2020.12', 'BDCQ.SED1RG', 'Taranaki', '50073', '50570', '497', '1', '761', '770', '9', '1.2']\n",
      "['2020.12', 'BDCQ.SED1RH', 'Manawatu-Whanganui', '104474', '105209', '735', '0.7', '1484', '1493', '9', '0.6']\n",
      "['2020.12', 'BDCQ.SED1RI', 'Wellington', '241506', '243161', '1655', '0.7', '4356', '4381', '25', '0.6']\n",
      "['2020.12', 'BDCQ.SED1RJ', 'Tasman', '22794', '22987', '193', '0.8', '309', '312', '3', '1']\n",
      "['2020.12', 'BDCQ.SED1RK', 'Nelson', '19480', '19605', '125', '0.6', '273', '276', '3', '1.1']\n",
      "['2020.12', 'BDCQ.SED1RL', 'Marlborough', '25074', '25179', '105', '0.4', '352', '352', '0', '0']\n",
      "['2020.12', 'BDCQ.SED1RM', 'West Coast', '13974', '13970', '-4', '0', '196', '196', '0', '0']\n",
      "['2020.12', 'BDCQ.SED1RN', 'Canterbury', '278420', '282281', '3861', '1.4', '4266', '4325', '59', '1.4']\n",
      "['2020.12', 'BDCQ.SED1RO', 'Otago', '104841', '105684', '843', '0.8', '1503', '1514', '11', '0.7']\n",
      "['2020.12', 'BDCQ.SED1RP', 'Southland', '45280', '45689', '409', '0.9', '643', '648', '5', '0.8']\n",
      "['2021.03', 'BDCQ.SED1RA', 'Northland', '67128', '67640', '512', '0.8', '950', '958', '8', '0.8']\n",
      "['2021.03', 'BDCQ.SED1RB', 'Auckland', '708896', '715771', '6875', '1', '12466', '12586', '120', '1']\n",
      "['2021.03', 'BDCQ.SED1RC', 'Waikato', '202584', '203703', '1119', '0.6', '3039', '3055', '16', '0.5']\n",
      "['2021.03', 'BDCQ.SED1RD', 'Bay of Plenty', '130306', '131440', '1134', '0.9', '1896', '1915', '19', '1']\n",
      "['2021.03', 'BDCQ.SED1RE', 'Gisborne', '21616', '21790', '174', '0.8', '285', '288', '3', '1.1']\n",
      "['2021.03', 'BDCQ.SED1RF', \"Hawke's Bay\", '75658', '76359', '701', '0.9', '1073', '1084', '11', '1']\n",
      "['2021.03', 'BDCQ.SED1RG', 'Taranaki', '50405', '50758', '353', '0.7', '754', '760', '6', '0.8']\n",
      "['2021.03', 'BDCQ.SED1RH', 'Manawatu-Whanganui', '104144', '104706', '562', '0.5', '1461', '1467', '6', '0.4']\n",
      "['2021.03', 'BDCQ.SED1RI', 'Wellington', '239815', '241057', '1242', '0.5', '4452', '4475', '23', '0.5']\n",
      "['2021.03', 'BDCQ.SED1RJ', 'Tasman', '22914', '23104', '190', '0.8', '311', '314', '3', '1']\n",
      "['2021.03', 'BDCQ.SED1RK', 'Nelson', '19382', '19525', '143', '0.7', '271', '274', '3', '1.1']\n",
      "['2021.03', 'BDCQ.SED1RL', 'Marlborough', '25005', '25099', '94', '0.4', '351', '351', '0', '0']\n",
      "['2021.03', 'BDCQ.SED1RM', 'West Coast', '13900', '13910', '10', '0.1', '194', '193', '-1', '-0.5']\n",
      "['2021.03', 'BDCQ.SED1RN', 'Canterbury', '277381', '280156', '2775', '1', '4196', '4239', '43', '1']\n",
      "['2021.03', 'BDCQ.SED1RO', 'Otago', '104361', '105359', '998', '1', '1486', '1500', '14', '0.9']\n",
      "['2021.03', 'BDCQ.SED1RP', 'Southland', '45855', '46351', '496', '1.1', '645', '653', '8', '1.2']\n",
      "['2021.06', 'BDCQ.SED1RA', 'Northland', '68288', '69064', '776', '1.1', '1001', '1015', '14', '1.4']\n",
      "['2021.06', 'BDCQ.SED1RB', 'Auckland', '720874', '729746', '8872', '1.2', '12972', '13136', '164', '1.3']\n",
      "['2021.06', 'BDCQ.SED1RC', 'Waikato', '204615', '206487', '1872', '0.9', '3170', '3197', '27', '0.9']\n",
      "['2021.06', 'BDCQ.SED1RD', 'Bay of Plenty', '134675', '136353', '1678', '1.2', '2046', '2076', '30', '1.5']\n",
      "['2021.06', 'BDCQ.SED1RE', 'Gisborne', '21455', '21893', '438', '2', '291', '297', '6', '2.1']\n",
      "['2021.06', 'BDCQ.SED1RF', \"Hawke's Bay\", '76083', '76894', '811', '1.1', '1128', '1141', '13', '1.2']\n",
      "['2021.06', 'BDCQ.SED1RG', 'Taranaki', '50626', '51256', '630', '1.2', '789', '801', '12', '1.5']\n",
      "['2021.06', 'BDCQ.SED1RH', 'Manawatu-Whanganui', '104227', '105614', '1387', '1.3', '1500', '1520', '20', '1.3']\n",
      "['2021.06', 'BDCQ.SED1RI', 'Wellington', '239064', '243770', '4706', '2', '4360', '4478', '118', '2.7']\n",
      "['2021.06', 'BDCQ.SED1RJ', 'Tasman', '22883', '23119', '236', '1', '320', '324', '4', '1.3']\n",
      "['2021.06', 'BDCQ.SED1RK', 'Nelson', '19398', '19543', '145', '0.7', '278', '282', '4', '1.4']\n",
      "['2021.06', 'BDCQ.SED1RL', 'Marlborough', '24942', '25091', '149', '0.6', '361', '362', '1', '0.3']\n",
      "['2021.06', 'BDCQ.SED1RM', 'West Coast', '13745', '13920', '175', '1.3', '195', '198', '3', '1.5']\n",
      "['2021.06', 'BDCQ.SED1RN', 'Canterbury', '279418', '283782', '4364', '1.6', '4341', '4409', '68', '1.6']\n",
      "['2021.06', 'BDCQ.SED1RO', 'Otago', '104201', '105559', '1358', '1.3', '1531', '1550', '19', '1.2']\n",
      "['2021.06', 'BDCQ.SED1RP', 'Southland', '45261', '45736', '475', '1', '657', '665', '8', '1.2']\n",
      "['2021.09', 'BDCQ.SED1RA', 'Northland', '68905', '69401', '496', '0.7', '1012', '1020', '8', '0.8']\n",
      "['2021.09', 'BDCQ.SED1RB', 'Auckland', '725395', '734238', '8843', '1.2', '13299', '13457', '158', '1.2']\n",
      "['2021.09', 'BDCQ.SED1RC', 'Waikato', '206530', '208279', '1749', '0.8', '3238', '3264', '26', '0.8']\n",
      "['2021.09', 'BDCQ.SED1RD', 'Bay of Plenty', '132652', '134022', '1370', '1', '2030', '2053', '23', '1.1']\n",
      "['2021.09', 'BDCQ.SED1RE', 'Gisborne', '21102', '21501', '399', '1.9', '295', '300', '5', '1.7']\n",
      "['2021.09', 'BDCQ.SED1RF', \"Hawke's Bay\", '74836', '75505', '669', '0.9', '1103', '1114', '11', '1']\n",
      "['2021.09', 'BDCQ.SED1RG', 'Taranaki', '51002', '51448', '446', '0.9', '781', '789', '8', '1']\n",
      "['2021.09', 'BDCQ.SED1RH', 'Manawatu-Whanganui', '105139', '106029', '890', '0.8', '1525', '1540', '15', '1']\n",
      "['2021.09', 'BDCQ.SED1RI', 'Wellington', '242981', '244981', '2000', '0.8', '4624', '4656', '32', '0.7']\n",
      "['2021.09', 'BDCQ.SED1RJ', 'Tasman', '22778', '23065', '287', '1.3', '322', '326', '4', '1.2']\n",
      "['2021.09', 'BDCQ.SED1RK', 'Nelson', '19423', '19647', '224', '1.2', '282', '287', '5', '1.8']\n",
      "['2021.09', 'BDCQ.SED1RL', 'Marlborough', '24881', '25166', '285', '1.1', '359', '363', '4', '1.1']\n",
      "['2021.09', 'BDCQ.SED1RM', 'West Coast', '13685', '13771', '86', '0.6', '196', '197', '1', '0.5']\n",
      "['2021.09', 'BDCQ.SED1RN', 'Canterbury', '282838', '285722', '2884', '1', '4450', '4494', '44', '1']\n",
      "['2021.09', 'BDCQ.SED1RO', 'Otago', '104818', '105885', '1067', '1', '1549', '1564', '15', '1']\n",
      "['2021.09', 'BDCQ.SED1RP', 'Southland', '44758', '45207', '449', '1', '641', '650', '9', '1.4']\n",
      "['2021.12', 'BDCQ.SED1RA', 'Northland', '71012', '71494', '482', '0.7', '1093', '1102', '9', '0.8']\n",
      "['2021.12', 'BDCQ.SED1RB', 'Auckland', '741145', '748627', '7482', '1', '13977', '14131', '154', '1.1']\n",
      "['2021.12', 'BDCQ.SED1RC', 'Waikato', '212340', '213543', '1203', '0.6', '3475', '3495', '20', '0.6']\n",
      "['2021.12', 'BDCQ.SED1RD', 'Bay of Plenty', '137090', '137993', '903', '0.7', '2174', '2191', '17', '0.8']\n",
      "['2021.12', 'BDCQ.SED1RE', 'Gisborne', '22116', '22336', '220', '1', '319', '322', '3', '0.9']\n",
      "['2021.12', 'BDCQ.SED1RF', \"Hawke's Bay\", '77231', '78013', '782', '1', '1189', '1201', '12', '1']\n",
      "['2021.12', 'BDCQ.SED1RG', 'Taranaki', '52263', '52718', '455', '0.9', '842', '849', '7', '0.8']\n",
      "['2021.12', 'BDCQ.SED1RH', 'Manawatu-Whanganui', '108016', '108719', '703', '0.7', '1639', '1646', '7', '0.4']\n",
      "['2021.12', 'BDCQ.SED1RI', 'Wellington', '248776', '250317', '1541', '0.6', '4823', '4849', '26', '0.5']\n",
      "['2021.12', 'BDCQ.SED1RJ', 'Tasman', '23415', '23741', '326', '1.4', '341', '345', '4', '1.2']\n",
      "['2021.12', 'BDCQ.SED1RK', 'Nelson', '19947', '20108', '161', '0.8', '300', '304', '4', '1.3']\n",
      "['2021.12', 'BDCQ.SED1RL', 'Marlborough', '25563', '25793', '230', '0.9', '384', '386', '2', '0.5']\n",
      "['2021.12', 'BDCQ.SED1RM', 'West Coast', '14215', '14251', '36', '0.3', '212', '214', '2', '0.9']\n",
      "['2021.12', 'BDCQ.SED1RN', 'Canterbury', '289799', '292743', '2944', '1', '4734', '4782', '48', '1']\n",
      "['2021.12', 'BDCQ.SED1RO', 'Otago', '107466', '108500', '1034', '1', '1655', '1669', '14', '0.8']\n",
      "['2021.12', 'BDCQ.SED1RP', 'Southland', '46478', '46808', '330', '0.7', '700', '706', '6', '0.9']\n",
      "['2022.03', 'BDCQ.SED1RA', 'Northland', '69868', '70477', '609', '0.9', '1056', '1070', '14', '1.3']\n",
      "['2022.03', 'BDCQ.SED1RB', 'Auckland', '735186', '741891', '6705', '0.9', '13788', '14022', '234', '1.7']\n",
      "['2022.03', 'BDCQ.SED1RC', 'Waikato', '210543', '211775', '1232', '0.6', '3391', '3410', '19', '0.6']\n",
      "['2022.03', 'BDCQ.SED1RD', 'Bay of Plenty', '134796', '135832', '1036', '0.8', '2113', '2130', '17', '0.8']\n",
      "['2022.03', 'BDCQ.SED1RE', 'Gisborne', '21580', '22122', '542', '2.5', '304', '311', '7', '2.3']\n",
      "['2022.03', 'BDCQ.SED1RF', \"Hawke's Bay\", '78010', '78447', '437', '0.6', '1189', '1198', '9', '0.8']\n",
      "['2022.03', 'BDCQ.SED1RG', 'Taranaki', '51791', '52263', '472', '0.9', '823', '829', '6', '0.7']\n",
      "['2022.03', 'BDCQ.SED1RH', 'Manawatu-Whanganui', '107205', '107814', '609', '0.6', '1596', '1602', '6', '0.4']\n",
      "['2022.03', 'BDCQ.SED1RI', 'Wellington', '246085', '247613', '1528', '0.6', '4712', '4741', '29', '0.6']\n",
      "['2022.03', 'BDCQ.SED1RJ', 'Tasman', '23527', '23750', '223', '0.9', '344', '347', '3', '0.9']\n",
      "['2022.03', 'BDCQ.SED1RK', 'Nelson', '19747', '19823', '76', '0.4', '296', '299', '3', '1']\n",
      "['2022.03', 'BDCQ.SED1RL', 'Marlborough', '25368', '25592', '224', '0.9', '380', '382', '2', '0.5']\n",
      "['2022.03', 'BDCQ.SED1RM', 'West Coast', '14056', '14118', '62', '0.4', '207', '209', '2', '1']\n",
      "['2022.03', 'BDCQ.SED1RN', 'Canterbury', '286920', '289628', '2708', '0.9', '4607', '4650', '43', '0.9']\n",
      "['2022.03', 'BDCQ.SED1RO', 'Otago', '106680', '107815', '1135', '1.1', '1625', '1640', '15', '0.9']\n",
      "['2022.03', 'BDCQ.SED1RP', 'Southland', '46787', '47114', '327', '0.7', '697', '703', '6', '0.9']\n",
      "['2022.06', 'BDCQ.SED1RA', 'Northland', '70390', '71012', '622', '0.9', '1108', '1119', '11', '1']\n",
      "['2022.06', 'BDCQ.SED1RB', 'Auckland', '738297', '747141', '8844', '1.2', '14234', '14423', '189', '1.3']\n",
      "['2022.06', 'BDCQ.SED1RC', 'Waikato', '211521', '213038', '1517', '0.7', '3502', '3531', '29', '0.8']\n",
      "['2022.06', 'BDCQ.SED1RD', 'Bay of Plenty', '138518', '140067', '1549', '1.1', '2236', '2265', '29', '1.3']\n",
      "['2022.06', 'BDCQ.SED1RE', 'Gisborne', '21828', '22211', '383', '1.8', '316', '322', '6', '1.9']\n",
      "['2022.06', 'BDCQ.SED1RF', \"Hawke's Bay\", '78682', '79212', '530', '0.7', '1244', '1252', '8', '0.6']\n",
      "['2022.06', 'BDCQ.SED1RG', 'Taranaki', '51872', '52310', '438', '0.8', '865', '872', '7', '0.8']\n",
      "['2022.06', 'BDCQ.SED1RH', 'Manawatu-Whanganui', '106806', '107554', '748', '0.7', '1645', '1655', '10', '0.6']\n",
      "['2022.06', 'BDCQ.SED1RI', 'Wellington', '246674', '248666', '1992', '0.8', '4820', '4870', '50', '1']\n",
      "['2022.06', 'BDCQ.SED1RJ', 'Tasman', '23906', '24165', '259', '1.1', '358', '362', '4', '1.1']\n",
      "['2022.06', 'BDCQ.SED1RK', 'Nelson', '19803', '19868', '65', '0.3', '302', '304', '2', '0.7']\n",
      "['2022.06', 'BDCQ.SED1RL', 'Marlborough', '25264', '25440', '176', '0.7', '390', '391', '1', '0.3']\n",
      "['2022.06', 'BDCQ.SED1RM', 'West Coast', '14045', '14059', '14', '0.1', '213', '213', '0', '0']\n",
      "['2022.06', 'BDCQ.SED1RN', 'Canterbury', '288387', '291078', '2691', '0.9', '4762', '4809', '47', '1']\n",
      "['2022.06', 'BDCQ.SED1RO', 'Otago', '106111', '107108', '997', '0.9', '1660', '1676', '16', '1']\n",
      "['2022.06', 'BDCQ.SED1RP', 'Southland', '45514', '45919', '405', '0.9', '699', '707', '8', '1.1']\n",
      "['2022.09', 'BDCQ.SED1RA', 'Northland', '70417', '71031', '614', '0.9', '1114', '1124', '10', '0.9']\n",
      "['2022.09', 'BDCQ.SED1RB', 'Auckland', '741564', '749147', '7583', '1', '14631', '14783', '152', '1']\n",
      "['2022.09', 'BDCQ.SED1RC', 'Waikato', '212557', '213928', '1371', '0.6', '3588', '3614', '26', '0.7']\n",
      "['2022.09', 'BDCQ.SED1RD', 'Bay of Plenty', '136246', '137396', '1150', '0.8', '2239', '2258', '19', '0.8']\n",
      "['2022.09', 'BDCQ.SED1RE', 'Gisborne', '21695', '21962', '267', '1.2', '321', '325', '4', '1.2']\n",
      "['2022.09', 'BDCQ.SED1RF', \"Hawke's Bay\", '76353', '76934', '581', '0.8', '1213', '1224', '11', '0.9']\n",
      "['2022.09', 'BDCQ.SED1RG', 'Taranaki', '52067', '52511', '444', '0.9', '852', '860', '8', '0.9']\n",
      "['2022.09', 'BDCQ.SED1RH', 'Manawatu-Whanganui', '107216', '108118', '902', '0.8', '1651', '1664', '13', '0.8']\n",
      "['2022.09', 'BDCQ.SED1RI', 'Wellington', '246959', '249410', '2451', '1', '4975', '5032', '57', '1.1']\n",
      "['2022.09', 'BDCQ.SED1RJ', 'Tasman', '23446', '23589', '143', '0.6', '357', '359', '2', '0.6']\n",
      "['2022.09', 'BDCQ.SED1RK', 'Nelson', '19682', '19884', '202', '1', '310', '314', '4', '1.3']\n",
      "['2022.09', 'BDCQ.SED1RL', 'Marlborough', '25156', '25342', '186', '0.7', '394', '396', '2', '0.5']\n",
      "['2022.09', 'BDCQ.SED1RM', 'West Coast', '13933', '13949', '16', '0.1', '212', '212', '0', '0']\n",
      "['2022.09', 'BDCQ.SED1RN', 'Canterbury', '290386', '292661', '2275', '0.8', '4900', '4942', '42', '0.9']\n",
      "['2022.09', 'BDCQ.SED1RO', 'Otago', '106694', '107716', '1022', '1', '1704', '1719', '15', '0.9']\n",
      "['2022.09', 'BDCQ.SED1RP', 'Southland', '45131', '45665', '534', '1.2', '697', '706', '9', '1.3']\n",
      "['2022.12', 'BDCQ.SED1RA', 'Northland', '72276', '72801', '525', '0.7', '1171', '1181', '10', '0.9']\n",
      "['2022.12', 'BDCQ.SED1RB', 'Auckland', '756716', '765991', '9275', '1.2', '15076', '15258', '182', '1.2']\n",
      "['2022.12', 'BDCQ.SED1RC', 'Waikato', '217715', '219366', '1651', '0.8', '3754', '3783', '29', '0.8']\n",
      "['2022.12', 'BDCQ.SED1RD', 'Bay of Plenty', '138254', '139879', '1625', '1.2', '2307', '2340', '33', '1.4']\n",
      "['2022.12', 'BDCQ.SED1RE', 'Gisborne', '21829', '22440', '611', '2.8', '326', '338', '12', '3.7']\n",
      "['2022.12', 'BDCQ.SED1RF', \"Hawke's Bay\", '77356', '78100', '744', '1', '1259', '1272', '13', '1']\n",
      "['2022.12', 'BDCQ.SED1RG', 'Taranaki', '52895', '53326', '431', '0.8', '898', '906', '8', '0.9']\n",
      "['2022.12', 'BDCQ.SED1RH', 'Manawatu-Whanganui', '108850', '109736', '886', '0.8', '1737', '1750', '13', '0.7']\n",
      "['2022.12', 'BDCQ.SED1RI', 'Wellington', '250305', '252045', '1740', '0.7', '5139', '5177', '38', '0.7']\n",
      "['2022.12', 'BDCQ.SED1RJ', 'Tasman', '24126', '24228', '102', '0.4', '371', '372', '1', '0.3']\n",
      "['2022.12', 'BDCQ.SED1RK', 'Nelson', '20192', '20324', '132', '0.7', '322', '325', '3', '0.9']\n",
      "['2022.12', 'BDCQ.SED1RL', 'Marlborough', '25707', '25909', '202', '0.8', '409', '413', '4', '1']\n",
      "['2022.12', 'BDCQ.SED1RM', 'West Coast', '14315', '14347', '32', '0.2', '226', '227', '1', '0.4']\n",
      "['2022.12', 'BDCQ.SED1RN', 'Canterbury', '296998', '299921', '2923', '1', '5113', '5161', '48', '0.9']\n",
      "['2022.12', 'BDCQ.SED1RO', 'Otago', '109243', '110509', '1266', '1.2', '1784', '1803', '19', '1.1']\n",
      "['2022.12', 'BDCQ.SED1RP', 'Southland', '46964', '47437', '473', '1', '752', '760', '8', '1.1']\n"
     ]
    }
   ],
   "source": [
    "import csv\n",
    "with open('business_data.csv', 'r') as read_obj:\n",
    "    reader = csv.reader(read_obj)\n",
    "    list1 = list(reader)\n",
    "    print(\"List is - \", list1)\n",
    "    print(\"Data in list of list -\")\n",
    "    for i in list1:\n",
    "        print(i)"
   ]
  },
  {
   "cell_type": "markdown",
   "metadata": {},
   "source": []
  }
 ],
 "metadata": {
  "kernelspec": {
   "display_name": "base",
   "language": "python",
   "name": "python3"
  },
  "language_info": {
   "codemirror_mode": {
    "name": "ipython",
    "version": 3
   },
   "file_extension": ".py",
   "mimetype": "text/x-python",
   "name": "python",
   "nbconvert_exporter": "python",
   "pygments_lexer": "ipython3",
   "version": "3.10.9"
  },
  "orig_nbformat": 4
 },
 "nbformat": 4,
 "nbformat_minor": 2
}
