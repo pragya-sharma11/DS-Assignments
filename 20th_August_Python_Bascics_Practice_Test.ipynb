{
 "cells": [
  {
   "cell_type": "markdown",
   "metadata": {},
   "source": [
    "## TOPIC: String Based Assignment Problem"
   ]
  },
  {
   "cell_type": "markdown",
   "metadata": {},
   "source": [
    "##### 1. Write a program to reverse a string."
   ]
  },
  {
   "cell_type": "code",
   "execution_count": 2,
   "metadata": {},
   "outputs": [
    {
     "name": "stdout",
     "output_type": "stream",
     "text": [
      "String input by user - Python Basics\n",
      "reversed string - scisaB nohtyP\n"
     ]
    }
   ],
   "source": [
    "st = input(\"Enter a string\")\n",
    "reversed_string = st[::-1]\n",
    "print(\"String input by user -\", st)\n",
    "print(\"reversed string -\", reversed_string)"
   ]
  },
  {
   "cell_type": "markdown",
   "metadata": {},
   "source": [
    "##### 2. Check if a string is a palindrome."
   ]
  },
  {
   "cell_type": "code",
   "execution_count": 47,
   "metadata": {},
   "outputs": [
    {
     "name": "stdout",
     "output_type": "stream",
     "text": [
      "String entered by user is =  Madam\n",
      "String is palindrome but case is different\n"
     ]
    }
   ],
   "source": [
    "'''Palindrome meanse the word is equals to reverse of itself for example - *madam* reads same forward and backward\n",
    "approach will be- \n",
    "1 - we input the string\n",
    "2 - We calculate the reverse of the word\n",
    "3 - We check if the word is equal to its reverse word, but it has three possibilites \n",
    "3.1 - Word is palindrome but case of letters are diiferent for example Bab,\n",
    "reverse of Bab = baB. It is palindrome but in 1st word first B is capital and last b is small but in\n",
    "2nd word, last B is capital and first b is small. So we call it - String is palindrome but case is different.\n",
    "3.2 - Word is palindrome and case of all letters in words and its reverse are same.'\n",
    "3.3 - Word is not palindrome, word is not equal to its reversed word.\n",
    "'''\n",
    "\n",
    "# taking input from user by using input() function\n",
    "p1 = input(\"Enter a string\")\n",
    "\n",
    "# to get the reverse of the input string, we use slicing with negative jump.\n",
    "p2 = p1[::-1]\n",
    "print('String entered by user is = ',p1)\n",
    "\n",
    "''' to check the equality, we use if statement. \n",
    "first we check \n",
    "1 - if string is palindrome after changing the case of both strings using lower().\n",
    "if yes then we check if they are equal along with upper and lower case letters, if yes then string is palindrome\n",
    "if no then string is palindrome but case is different\n",
    "2 - If string is not palindrome  after changing the case of both strings to lower then \n",
    "string is not palindrome.'''\n",
    "\n",
    "if p1.lower() == p2.lower():\n",
    "    if p1==p2:\n",
    "        print('String is palindrome')\n",
    "    else:\n",
    "        print('String is palindrome but case is different')\n",
    "else:\n",
    "    print('String is not palindrome') "
   ]
  },
  {
   "cell_type": "markdown",
   "metadata": {},
   "source": [
    "##### 3. Convert a string to uppercase."
   ]
  },
  {
   "cell_type": "code",
   "execution_count": 9,
   "metadata": {},
   "outputs": [
    {
     "name": "stdout",
     "output_type": "stream",
     "text": [
      "Input String - python basics\n",
      "Output - PYTHON BASICS\n"
     ]
    }
   ],
   "source": [
    "st = input(\"Enter a string\")\n",
    "print(\"Input String -\", st)\n",
    "print(\"Output -\", st.upper())"
   ]
  },
  {
   "cell_type": "markdown",
   "metadata": {},
   "source": [
    "##### 4. Convert a string to lowercase."
   ]
  },
  {
   "cell_type": "code",
   "execution_count": 10,
   "metadata": {},
   "outputs": [
    {
     "name": "stdout",
     "output_type": "stream",
     "text": [
      "Input String - PYTHON BASICS\n",
      "Output - python basics\n"
     ]
    }
   ],
   "source": [
    "st = input(\"Enter a string\")\n",
    "print(\"Input String -\", st)\n",
    "print(\"Output -\", st.lower())"
   ]
  },
  {
   "cell_type": "markdown",
   "metadata": {},
   "source": [
    "##### 5. Count the number of vowels in a string."
   ]
  },
  {
   "cell_type": "code",
   "execution_count": 11,
   "metadata": {},
   "outputs": [
    {
     "name": "stdout",
     "output_type": "stream",
     "text": [
      "Input String - PythON Basics\n",
      "Number of vowels - 3\n"
     ]
    }
   ],
   "source": [
    "st = input(\"Enter a string\")\n",
    "print(\"Input String -\", st)\n",
    "count_vowel = 0\n",
    "for i in st:\n",
    "    if i in ('aeiouAEIOU'):\n",
    "        count_vowel += 1\n",
    "print(\"Number of vowels -\", count_vowel)"
   ]
  },
  {
   "cell_type": "markdown",
   "metadata": {},
   "source": [
    "##### 6. Count the number of consonants in a string."
   ]
  },
  {
   "cell_type": "code",
   "execution_count": 14,
   "metadata": {},
   "outputs": [
    {
     "name": "stdout",
     "output_type": "stream",
     "text": [
      "Input String - Python Basics - 20th Aug!!\n",
      "Number of Consonants - 12\n"
     ]
    }
   ],
   "source": [
    "st = input(\"Enter a string\")\n",
    "print(\"Input String -\", st)\n",
    "count_consonant = 0\n",
    "st = st.lower()\n",
    "for i in st:\n",
    "    if i not in ('aeiouAEIOU') and i.isalpha():\n",
    "        count_consonant += 1\n",
    "print(\"Number of Consonants -\", count_consonant)"
   ]
  },
  {
   "cell_type": "markdown",
   "metadata": {},
   "source": [
    "##### 7. Remove all whitespaces from a string."
   ]
  },
  {
   "cell_type": "code",
   "execution_count": 17,
   "metadata": {},
   "outputs": [
    {
     "name": "stdout",
     "output_type": "stream",
     "text": [
      "Input String -     python basics   \n",
      "Output String -python basics\n"
     ]
    }
   ],
   "source": [
    "st = input(\"Enter a string\")\n",
    "print(\"Input String -\"+st)\n",
    "print(\"Output String -\"+st.strip())"
   ]
  },
  {
   "cell_type": "markdown",
   "metadata": {},
   "source": [
    "##### 8. Find the length of a string without using the `len()` function."
   ]
  },
  {
   "cell_type": "code",
   "execution_count": 18,
   "metadata": {},
   "outputs": [
    {
     "name": "stdout",
     "output_type": "stream",
     "text": [
      "Input String - python basics\n",
      "Length of input string - 13\n"
     ]
    }
   ],
   "source": [
    "st = input(\"Enter a string\")\n",
    "print(\"Input String -\",st)\n",
    "count_values = 0\n",
    "for i in st:\n",
    "    count_values += 1 \n",
    "print(\"Length of input string -\", count_values)\n"
   ]
  },
  {
   "cell_type": "markdown",
   "metadata": {},
   "source": [
    "##### 9. Check if a string contains a specific word."
   ]
  },
  {
   "cell_type": "code",
   "execution_count": 20,
   "metadata": {},
   "outputs": [
    {
     "name": "stdout",
     "output_type": "stream",
     "text": [
      "Input String - I am learning python basics\n",
      "Word is present\n"
     ]
    }
   ],
   "source": [
    "st = input(\"Enter a string\")\n",
    "search_word = input(\"Enter a word to be searched\")\n",
    "print(\"Input String -\",st)\n",
    "print(\"Word is present\") if search_word in st else print(\"Word is not present\")\n"
   ]
  },
  {
   "cell_type": "markdown",
   "metadata": {},
   "source": [
    "##### 10. Replace a word in a string with another word."
   ]
  },
  {
   "cell_type": "code",
   "execution_count": 23,
   "metadata": {},
   "outputs": [
    {
     "name": "stdout",
     "output_type": "stream",
     "text": [
      "Input String - I am going to USA\n",
      "Output String - I am going to Varanasi\n"
     ]
    }
   ],
   "source": [
    "st = input(\"Enter a string\")\n",
    "replacing_word = input(\"Enter a word to be replaced in a string\")\n",
    "replaced_word = input(\"Enter a word which will replace word in a string\")\n",
    "print(\"Input String -\", st)\n",
    "new_string = st.replace(replacing_word, replaced_word)\n",
    "print(\"Output String -\", new_string)"
   ]
  },
  {
   "cell_type": "markdown",
   "metadata": {},
   "source": [
    "##### 11. Count the occurrences of a word in a string."
   ]
  },
  {
   "cell_type": "code",
   "execution_count": 25,
   "metadata": {},
   "outputs": [
    {
     "name": "stdout",
     "output_type": "stream",
     "text": [
      "Input String - red blue green red yellow red red\n",
      "Number of occurences of [red] - 4\n"
     ]
    }
   ],
   "source": [
    "st = input(\"Enter a string\")\n",
    "counted_word = input(\"Enter a word whose occurence is to be counted\")\n",
    "print(\"Input String -\", st)\n",
    "counts = st.count(counted_word)\n",
    "print(\"Number of occurences of [\"+counted_word+\"] -\", counts)\n"
   ]
  },
  {
   "cell_type": "markdown",
   "metadata": {},
   "source": [
    "##### 12. Find the first occurrence of a word in a string."
   ]
  },
  {
   "cell_type": "code",
   "execution_count": 29,
   "metadata": {},
   "outputs": [
    {
     "name": "stdout",
     "output_type": "stream",
     "text": [
      "Input String - I am not going to USA, I am not going to Africa\n",
      "First occurence of [not] - 5\n"
     ]
    }
   ],
   "source": [
    "st = input(\"Enter a string\")\n",
    "word = input(\"Enter a word whose first occurence is to be searched\")\n",
    "print(\"Input String -\", st)\n",
    "print(\"First occurence of [\"+word+\"] -\",st.index(word))\n"
   ]
  },
  {
   "cell_type": "markdown",
   "metadata": {},
   "source": [
    "##### 13. Find the last occurrence of a word in a string.\n",
    "\n"
   ]
  },
  {
   "cell_type": "code",
   "execution_count": null,
   "metadata": {},
   "outputs": [],
   "source": []
  },
  {
   "cell_type": "markdown",
   "metadata": {},
   "source": [
    "##### 14. Split a string into a list of words."
   ]
  },
  {
   "cell_type": "code",
   "execution_count": 30,
   "metadata": {},
   "outputs": [
    {
     "name": "stdout",
     "output_type": "stream",
     "text": [
      "Input string is I am leaning python basics\n",
      "list is ['I', 'am', 'leaning', 'python', 'basics']\n"
     ]
    }
   ],
   "source": [
    "st = input(\"Enter a string\")\n",
    "list1 = list(st.split())\n",
    "print(\"Input string is\",st)\n",
    "print(\"list is\", list1)"
   ]
  },
  {
   "cell_type": "markdown",
   "metadata": {},
   "source": [
    "##### 15. Join a list of words into a string."
   ]
  },
  {
   "cell_type": "code",
   "execution_count": 31,
   "metadata": {},
   "outputs": [
    {
     "name": "stdout",
     "output_type": "stream",
     "text": [
      "List is ['I', 'am', 'a', 'human']\n",
      "Output String - I am a human\n"
     ]
    }
   ],
   "source": [
    "list1 = ['I', 'am', 'a', 'human']\n",
    "st = ' '.join(list1)\n",
    "print(\"List is\", list1)\n",
    "print(\"Output String -\", st)"
   ]
  },
  {
   "cell_type": "markdown",
   "metadata": {},
   "source": [
    "#####  16. Convert a string where words are separated by spaces to one where words are separated by underscores.\n"
   ]
  },
  {
   "cell_type": "code",
   "execution_count": 32,
   "metadata": {},
   "outputs": [
    {
     "name": "stdout",
     "output_type": "stream",
     "text": [
      "Input String - I am a human living on earth\n",
      "Output String - I_am_a_human_living_on_earth\n"
     ]
    }
   ],
   "source": [
    "st = input(\"Enter a string\")\n",
    "list1 = list(st.split())\n",
    "st_output = '_'.join(list1)\n",
    "print(\"Input String -\", st)\n",
    "print(\"Output String -\", st_output)"
   ]
  },
  {
   "cell_type": "markdown",
   "metadata": {},
   "source": [
    "##### 17. Check if a string starts with a specific word or phrase.\n"
   ]
  },
  {
   "cell_type": "code",
   "execution_count": 37,
   "metadata": {},
   "outputs": [
    {
     "name": "stdout",
     "output_type": "stream",
     "text": [
      "Input String - I am not going to USA\n",
      "OUTPUT : Input String starts with - I am not\n"
     ]
    }
   ],
   "source": [
    "st = input(\"Enter a string\")\n",
    "word = input(\"Enter a word or phrase to check the condition\")\n",
    "print(\"Input String -\", st)\n",
    "print(\"OUTPUT : Input String starts with -\", word) if st.startswith(word) else print(\"OUTPUT : Input String does not start with -\", word)"
   ]
  },
  {
   "cell_type": "markdown",
   "metadata": {},
   "source": [
    "##### 18. Check if a string ends with a specific word or phrase.\n"
   ]
  },
  {
   "cell_type": "code",
   "execution_count": 38,
   "metadata": {},
   "outputs": [
    {
     "name": "stdout",
     "output_type": "stream",
     "text": [
      "Input String - I am not going to USA\n",
      "OUTPUT : Input String ends with - USA\n"
     ]
    }
   ],
   "source": [
    "st = input(\"Enter a string\")\n",
    "word = input(\"Enter a word or phrase to check the condition\")\n",
    "print(\"Input String -\", st)\n",
    "print(\"OUTPUT : Input String ends with -\", word) if st.endswith(word) else print(\"OUTPUT : Input String does not end with -\", word)"
   ]
  },
  {
   "cell_type": "markdown",
   "metadata": {},
   "source": [
    "##### 19. Convert a string to title case (e.g., \"hello world\" to \"Hello World\").\n"
   ]
  },
  {
   "cell_type": "code",
   "execution_count": null,
   "metadata": {},
   "outputs": [],
   "source": []
  },
  {
   "cell_type": "markdown",
   "metadata": {},
   "source": [
    "##### 20. Find the longest word in a string.\n"
   ]
  },
  {
   "cell_type": "code",
   "execution_count": 42,
   "metadata": {},
   "outputs": [
    {
     "name": "stdout",
     "output_type": "stream",
     "text": [
      "entered string - I am going to Caladonia\n",
      "Longest word - Caladonia\n"
     ]
    }
   ],
   "source": [
    "string1 = input(\"Enter a string\")\n",
    "st = list(string1.split())\n",
    "word = ''\n",
    "maxm = 0 \n",
    "for i in st:\n",
    "    length = len(i)\n",
    "    if length>maxm:\n",
    "        word = i \n",
    "        maxm = length\n",
    "print(\"entered string -\", string1)\n",
    "print(\"Longest word -\", word)"
   ]
  },
  {
   "cell_type": "markdown",
   "metadata": {},
   "source": [
    "##### 21. Find the shortest word in a string."
   ]
  },
  {
   "cell_type": "code",
   "execution_count": 45,
   "metadata": {},
   "outputs": [
    {
     "name": "stdout",
     "output_type": "stream",
     "text": [
      "entered string - I am going to Caladonia\n",
      "Shortest word - I\n"
     ]
    }
   ],
   "source": [
    "string1 = input(\"Enter a string\")\n",
    "st = list(string1.split())\n",
    "word = ''\n",
    "minm = len(string1)+2\n",
    "for i in st:\n",
    "    length = len(i)\n",
    "    if length<minm:\n",
    "        word = i \n",
    "        minm = length\n",
    "print(\"entered string -\", string1)\n",
    "print(\"Shortest word -\", word)"
   ]
  },
  {
   "cell_type": "markdown",
   "metadata": {},
   "source": [
    "##### 22. Reverse the order of words in a string.\n"
   ]
  },
  {
   "cell_type": "code",
   "execution_count": 46,
   "metadata": {},
   "outputs": [
    {
     "name": "stdout",
     "output_type": "stream",
     "text": [
      "Input String - I am a human\n",
      "Output String - human a am I\n"
     ]
    }
   ],
   "source": [
    "string1 = input(\"Enter a string\")\n",
    "st = list(string1.split())\n",
    "print(\"Input String -\", string1)\n",
    "print(\"Output String -\", ' '.join(st[::-1]))"
   ]
  },
  {
   "cell_type": "markdown",
   "metadata": {},
   "source": [
    "##### 23. Check if a string is alphanumeric.\n"
   ]
  },
  {
   "cell_type": "code",
   "execution_count": 52,
   "metadata": {},
   "outputs": [
    {
     "name": "stdout",
     "output_type": "stream",
     "text": [
      "Input String - Python123\n",
      "String is alphanumeric\n"
     ]
    }
   ],
   "source": [
    "st = input(\"Enter a string\")\n",
    "print(\"Input String -\", st)\n",
    "print(\"String is alphanumeric\") if st.isalnum() else print(\"String is not alphanumeric\")"
   ]
  },
  {
   "cell_type": "markdown",
   "metadata": {},
   "source": [
    "##### 24. Extract all digits from a string.\n"
   ]
  },
  {
   "cell_type": "code",
   "execution_count": 53,
   "metadata": {},
   "outputs": [
    {
     "name": "stdout",
     "output_type": "stream",
     "text": [
      "Input String - Python123 ##\n",
      "OUTPUT : The digits are-\n",
      "1\n",
      "2\n",
      "3\n"
     ]
    }
   ],
   "source": [
    "st = input(\"Enter a string\")\n",
    "print(\"Input String -\", st)\n",
    "print(\"OUTPUT : The digits are-\")\n",
    "for i in st:\n",
    "    if i.isdigit():\n",
    "        print(i)"
   ]
  },
  {
   "cell_type": "markdown",
   "metadata": {},
   "source": [
    "##### 25. Extract all alphabets from a string.\n"
   ]
  },
  {
   "cell_type": "code",
   "execution_count": 54,
   "metadata": {},
   "outputs": [
    {
     "name": "stdout",
     "output_type": "stream",
     "text": [
      "Input String - Python123 ##\n",
      "OUTPUT : The Alphabets are-\n",
      "P\n",
      "y\n",
      "t\n",
      "h\n",
      "o\n",
      "n\n"
     ]
    }
   ],
   "source": [
    "st = input(\"Enter a string\")\n",
    "print(\"Input String -\", st)\n",
    "print(\"OUTPUT : The Alphabets are-\")\n",
    "for i in st:\n",
    "    if i.isalpha():\n",
    "        print(i)"
   ]
  },
  {
   "cell_type": "markdown",
   "metadata": {},
   "source": [
    "##### 26. Count the number of uppercase letters in a string.\n"
   ]
  },
  {
   "cell_type": "code",
   "execution_count": 55,
   "metadata": {},
   "outputs": [
    {
     "name": "stdout",
     "output_type": "stream",
     "text": [
      "Input String - Red Blue Green Yellow\n",
      "number of upper case letters are 4\n"
     ]
    }
   ],
   "source": [
    "st = input(\"Enter a string\")\n",
    "print(\"Input String -\", st)\n",
    "count_letters = 0\n",
    "for i in st:\n",
    "    if i.isupper():\n",
    "        count_letters += 1\n",
    "print(\"number of upper case letters are\", count_letters)\n"
   ]
  },
  {
   "cell_type": "markdown",
   "metadata": {},
   "source": [
    "##### 27. Count the number of lowercase letters in a string.\n"
   ]
  },
  {
   "cell_type": "code",
   "execution_count": 56,
   "metadata": {},
   "outputs": [
    {
     "name": "stdout",
     "output_type": "stream",
     "text": [
      "Input String - Red Blue Green Yellow\n",
      "number of lower case letters are 14\n"
     ]
    }
   ],
   "source": [
    "st = input(\"Enter a string\")\n",
    "print(\"Input String -\", st)\n",
    "count_letters = 0\n",
    "for i in st:\n",
    "    if i.islower():\n",
    "        count_letters += 1\n",
    "print(\"number of lower case letters are\", count_letters)\n"
   ]
  },
  {
   "cell_type": "markdown",
   "metadata": {},
   "source": [
    "##### 28. Swap the case of each character in a string.\n"
   ]
  },
  {
   "cell_type": "code",
   "execution_count": 57,
   "metadata": {},
   "outputs": [
    {
     "name": "stdout",
     "output_type": "stream",
     "text": [
      "Input String - Red Blue Green Yellow\n",
      "Output String - rED bLUE gREEN yELLOW\n"
     ]
    }
   ],
   "source": [
    "st = input(\"Enter a string\")\n",
    "print(\"Input String -\", st)\n",
    "new_st = ''\n",
    "for i in st:\n",
    "    if i.islower():\n",
    "        new_st += i.upper()\n",
    "    elif i.isupper():\n",
    "        new_st += i.lower()\n",
    "    else:\n",
    "        new_st += i \n",
    "print(\"Output String -\",new_st)"
   ]
  },
  {
   "cell_type": "markdown",
   "metadata": {},
   "source": [
    "##### 29. Remove a specific word from a string.\n"
   ]
  },
  {
   "cell_type": "code",
   "execution_count": 58,
   "metadata": {},
   "outputs": [
    {
     "name": "stdout",
     "output_type": "stream",
     "text": [
      "Input String - Red Blue Green Yellow\n",
      "Output String - Red  Green Yellow\n"
     ]
    }
   ],
   "source": [
    "st = input(\"Enter a string\")\n",
    "word = input(\"entered word to be removed\")\n",
    "print(\"Input String -\", st)\n",
    "st = st.replace(word,'')\n",
    "print(\"Output String -\", st)"
   ]
  },
  {
   "cell_type": "markdown",
   "metadata": {},
   "source": [
    "##### 30. Check if a string is a valid email address."
   ]
  },
  {
   "cell_type": "code",
   "execution_count": 81,
   "metadata": {},
   "outputs": [
    {
     "name": "stdout",
     "output_type": "stream",
     "text": [
      "Input Email Address - abc.ghi1@gmail.com\n",
      "It is valid email\n"
     ]
    }
   ],
   "source": [
    "import re \n",
    "email_string = input(\"Enter an email address for example\")\n",
    "pattern = re.compile(r'[A-Za-z0-9-.*_]+@[A-Za-z0-9]+\\.[A-Za-z]+')\n",
    "matches = pattern.match(email_string)\n",
    "print(\"Input Email Address -\", email_string)\n",
    "print(\"It is valid email\") if matches!=None else print(\"It is not a valid email\") "
   ]
  },
  {
   "cell_type": "markdown",
   "metadata": {},
   "source": [
    "##### 31. Extract the username from an email address string.\n",
    "32. Extract the domain name from an email address string.\n",
    "33. Replace multiple spaces in a string with a single space.\n",
    "34. Check if a string is a valid URL.\n",
    "35. Extract the protocol (http or https) from a URL string.\n",
    "36. Find the frequency of each character in a string.\n",
    "37. Remove all punctuation from a string.\n",
    "38. Check if a string contains only digits.\n",
    "39. Check if a string contains only alphabets.\n",
    "40. Convert a string to a list of characters.\n",
    "41. Check if two strings are anagrams.\n",
    "42. Encode a string using a Caesar cipher.\n",
    "43. Decode a Caesar cipher encoded string.\n",
    "44. Find the most frequent word in a string.\n",
    "45. Find all unique words in a string.\n",
    "46. Count the number of syllables in a string."
   ]
  },
  {
   "cell_type": "markdown",
   "metadata": {},
   "source": []
  }
 ],
 "metadata": {
  "kernelspec": {
   "display_name": "base",
   "language": "python",
   "name": "python3"
  },
  "language_info": {
   "codemirror_mode": {
    "name": "ipython",
    "version": 3
   },
   "file_extension": ".py",
   "mimetype": "text/x-python",
   "name": "python",
   "nbconvert_exporter": "python",
   "pygments_lexer": "ipython3",
   "version": "3.10.9"
  },
  "orig_nbformat": 4
 },
 "nbformat": 4,
 "nbformat_minor": 2
}
