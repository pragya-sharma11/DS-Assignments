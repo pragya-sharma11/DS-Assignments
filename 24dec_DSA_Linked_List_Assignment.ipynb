{
 "cells": [
  {
   "cell_type": "markdown",
   "metadata": {},
   "source": [
    "## Node Creation"
   ]
  },
  {
   "cell_type": "code",
   "execution_count": 22,
   "metadata": {},
   "outputs": [],
   "source": [
    "class Node:\n",
    "    def __init__(self, data = None, next = None) -> None:\n",
    "        self.__data = data\n",
    "        self.__next = next \n",
    "    @property\n",
    "    def data(self):\n",
    "        return self.__data\n",
    "\n",
    "    @data.setter\n",
    "    def data(self, data=None):\n",
    "        self.__data = data \n",
    "    \n",
    "    @property\n",
    "    def next(self):\n",
    "        return self.__next\n",
    "\n",
    "    @next.setter\n",
    "    def next(self, next=None):\n",
    "        self.__next = next \n"
   ]
  },
  {
   "cell_type": "markdown",
   "metadata": {},
   "source": [
    "### Creation of Linked List, print linked list method, size of linked list method. These methods will be used in all below questions for printing the result"
   ]
  },
  {
   "cell_type": "markdown",
   "metadata": {},
   "source": [
    "* Creation of linked list"
   ]
  },
  {
   "cell_type": "code",
   "execution_count": 23,
   "metadata": {},
   "outputs": [],
   "source": [
    "# Linked List creation\n",
    "main_head = Node(1)\n",
    "node2 = Node(2)\n",
    "node3 = Node(3)\n",
    "node4 = Node(4)\n",
    "node5 = Node(5)\n",
    "\n",
    "main_head.next = node2 \n",
    "node2.next = node3 \n",
    "node3.next = node4 \n",
    "node4.next = node5\n"
   ]
  },
  {
   "cell_type": "markdown",
   "metadata": {},
   "source": [
    "* methods to print linked list"
   ]
  },
  {
   "cell_type": "code",
   "execution_count": 24,
   "metadata": {},
   "outputs": [
    {
     "name": "stdout",
     "output_type": "stream",
     "text": [
      "1 -> 2 -> 3 -> 4 -> 5\n"
     ]
    }
   ],
   "source": [
    "# method to print linked list\n",
    "def print_linkedlist(main_head):\n",
    "    while main_head.next!= None:\n",
    "        print(str(main_head.data) + ' -> ', end = '')\n",
    "        main_head = main_head.next\n",
    "    print(main_head.data)\n",
    "\n",
    "print_linkedlist(main_head)\n"
   ]
  },
  {
   "cell_type": "markdown",
   "metadata": {},
   "source": [
    "* method to find size of linked list"
   ]
  },
  {
   "cell_type": "code",
   "execution_count": 25,
   "metadata": {},
   "outputs": [
    {
     "data": {
      "text/plain": [
       "5"
      ]
     },
     "execution_count": 25,
     "metadata": {},
     "output_type": "execute_result"
    }
   ],
   "source": [
    "# method to find size of linked list\n",
    "def linkedlist_size(main_head):\n",
    "    length = 0\n",
    "    while(main_head!=None):\n",
    "        length += 1\n",
    "        main_head=main_head.next\n",
    "    return length\n",
    "linkedlist_size(main_head)"
   ]
  },
  {
   "cell_type": "markdown",
   "metadata": {},
   "source": [
    "##### Problem 1: Reverse a singly linked list.\n",
    "* Input: 1 -> 2 -> 3 -> 4 -> 5\n",
    "* Output: 5 -> 4 -> 3 -> 2 -> 1"
   ]
  },
  {
   "cell_type": "code",
   "execution_count": 17,
   "metadata": {},
   "outputs": [
    {
     "name": "stdout",
     "output_type": "stream",
     "text": [
      "5 -> 4 -> 3 -> 2 -> 1\n"
     ]
    }
   ],
   "source": [
    "# method to reverse this list\n",
    "def reverse_list(node):\n",
    "    if node.next == None: \n",
    "        head = node\n",
    "        return (node, head)\n",
    "    (new_node, head) = reverse_list(node.next)\n",
    "    new_node.next = node\n",
    "    node.next = None \n",
    "    return (node, head) \n",
    "(ans_tail, ans_head)=reverse_list(main_head)\n",
    "print_linkedlist(ans_head)"
   ]
  },
  {
   "cell_type": "markdown",
   "metadata": {},
   "source": [
    "##### Problem 2: Merge two sorted linked lists into one sorted linked list.\n",
    "* Input: List 1: 1 -> 3 -> 5, List 2: 2 -> 4 -> 6\n",
    "* Output: 1 -> 2 -> 3 -> 4 -> 5 -> 6"
   ]
  },
  {
   "cell_type": "code",
   "execution_count": 18,
   "metadata": {},
   "outputs": [
    {
     "name": "stdout",
     "output_type": "stream",
     "text": [
      "List1 -:\n",
      "1 -> 3 -> 6\n",
      "List2 -:\n",
      "2 -> 4 -> 5\n"
     ]
    }
   ],
   "source": [
    "# Linked List creation\n",
    "head1 = Node(1)\n",
    "head2 = Node(2)\n",
    "node2 = Node(3)\n",
    "node3 = Node(6)\n",
    "node4 = Node(4)\n",
    "node5 = Node(5)\n",
    "\n",
    "head1.next = node2 \n",
    "node2.next = node3 \n",
    "head2.next = node4 \n",
    "node4.next = node5\n",
    "\n",
    "print(\"List1 -:\")\n",
    "print_linkedlist(head1)\n",
    "print(\"List2 -:\")\n",
    "print_linkedlist(head2)"
   ]
  },
  {
   "cell_type": "code",
   "execution_count": 19,
   "metadata": {},
   "outputs": [
    {
     "name": "stdout",
     "output_type": "stream",
     "text": [
      "1 -> 2 -> 3 -> 4 -> 5 -> 6\n"
     ]
    }
   ],
   "source": [
    "def merge_sorted_list(h1, h2):\n",
    "    new_head = None\n",
    "    temp = None\n",
    "    if h1.data<h2.data:\n",
    "        new_head = h1 \n",
    "        temp = h1 \n",
    "        h1 = h1.next\n",
    "    else:\n",
    "        new_head = h2 \n",
    "        temp = h2 \n",
    "        h2 = h2.next\n",
    "    while h1!= None and h2!=None:\n",
    "        if h1.data<h2.data: \n",
    "            temp.next = h1 \n",
    "            temp = temp.next\n",
    "            h1 = h1.next\n",
    "        else:\n",
    "            temp.next = h2\n",
    "            temp = temp.next\n",
    "            h2 = h2.next\n",
    "    while h1!=None:\n",
    "        temp.next = h1 \n",
    "        temp = temp.next \n",
    "        h1 = h1.next\n",
    "    while h2!=None:\n",
    "        temp.next = h2 \n",
    "        temp = temp.next \n",
    "        h2 = h2.next\n",
    "    return new_head\n",
    "merger_linked_list = merge_sorted_list(head1, head2)\n",
    "print_linkedlist(merger_linked_list)"
   ]
  },
  {
   "cell_type": "markdown",
   "metadata": {},
   "source": [
    "Problem 3: Remove the nth node from the end of a linked list.\n",
    "* Input: 1 -> 2 -> 3 -> 4 -> 5, n = 2\n",
    "* Output: 1 -> 2 -> 3 -> 5"
   ]
  },
  {
   "cell_type": "code",
   "execution_count": 26,
   "metadata": {},
   "outputs": [
    {
     "name": "stdout",
     "output_type": "stream",
     "text": [
      "1 -> 2 -> 3 -> 5\n"
     ]
    }
   ],
   "source": [
    "def remove_last_nth_node(node, n):\n",
    "    head = node \n",
    "    length = linkedlist_size(node)\n",
    "    index = length-n\n",
    "    if index<0:\n",
    "        return \"invalid position for deletion\"\n",
    "    elif index == 0:\n",
    "        return node.next \n",
    "    else:\n",
    "        for i in range(index-1):\n",
    "            node = node.next \n",
    "        node.next = node.next.next \n",
    "    return head \n",
    "new_list = remove_last_nth_node(main_head,2)\n",
    "print_linkedlist(new_list)\n",
    "        \n",
    "\n",
    "\n"
   ]
  },
  {
   "cell_type": "markdown",
   "metadata": {},
   "source": [
    "##### Problem 4: Find the intersection point of two linked lists.\n",
    "* Input: List 1: 1 -> 2 -> 3 -> 4, List 2: 9 -> 8 -> 3 -> 4\n",
    "* Output: Node with value 3"
   ]
  },
  {
   "cell_type": "code",
   "execution_count": null,
   "metadata": {},
   "outputs": [
    {
     "name": "stdout",
     "output_type": "stream",
     "text": [
      "List1 -:\n",
      "1 -> 3 -> 4 -> 8 -> 9\n",
      "List2 -:\n",
      "2 -> 5 -> 6 -> 4 -> 8 -> 9\n"
     ]
    }
   ],
   "source": [
    "# Linked Lists creation\n",
    "head1 = Node(1)\n",
    "head2 = Node(2)\n",
    "node2 = Node(3)\n",
    "node3 = Node(4)\n",
    "node4 = Node(5)\n",
    "node5 = Node(6)\n",
    "node6 = Node(7)\n",
    "node7 = Node(8)\n",
    "node8 = Node(9)\n",
    "head1.next = node2 \n",
    "node2.next = node3 \n",
    "node3.next = node7\n",
    "node7.next = node8\n",
    "head2.next = node4 \n",
    "node4.next = node5\n",
    "node5.next = node3\n",
    "\n",
    "print(\"List1 -:\")\n",
    "print_linkedlist(head1)\n",
    "print(\"List2 -:\")\n",
    "print_linkedlist(head2)"
   ]
  },
  {
   "cell_type": "code",
   "execution_count": null,
   "metadata": {},
   "outputs": [
    {
     "name": "stdout",
     "output_type": "stream",
     "text": [
      "Intersection of both linked lists: 4\n"
     ]
    }
   ],
   "source": [
    "size1 = linkedlist_size(head1)\n",
    "size2 = linkedlist_size(head2)\n",
    "small_head = head1 if size1<size2 else head2 \n",
    "large_head = head1 if size1>size2 else head2\n",
    "s,l = min(size1,size2), max(size1, size2)\n",
    "def get_intersection(small_head, large_head, s, l):\n",
    "    node = None \n",
    "    if s<l:\n",
    "        node = get_intersection(small_head, large_head.next, s, l-1)\n",
    "    elif small_head.next!=None and large_head.next!=None:\n",
    "        node = get_intersection(small_head.next, large_head.next, s-1, l-1)\n",
    "    if small_head == large_head:\n",
    "        return small_head\n",
    "    else:\n",
    "        return node \n",
    "node = get_intersection(small_head, large_head, s, l)\n",
    "print(\"Intersection of both linked lists:\", node.data)\n"
   ]
  },
  {
   "cell_type": "markdown",
   "metadata": {},
   "source": [
    "##### Problem 5: Remove duplicates from a sorted linked list.\n",
    "* Input: 1 -> 1 -> 2 -> 3 -> 3\n",
    "* Output: 1 -> 2 -> 3"
   ]
  },
  {
   "cell_type": "code",
   "execution_count": null,
   "metadata": {},
   "outputs": [
    {
     "name": "stdout",
     "output_type": "stream",
     "text": [
      "Original list :-\n",
      "1 -> 2 -> 4 -> 4 -> 5\n",
      "list after deleting duplicates :-\n",
      "1 -> 2 -> 4 -> 5\n"
     ]
    }
   ],
   "source": [
    "def  remove_duplicate(head):\n",
    "    prev = head \n",
    "    node = head.next \n",
    "    while node!=None:\n",
    "        if prev.data == node.data :\n",
    "            prev.next = prev.next.next\n",
    "            node = node.next \n",
    "        else:\n",
    "            prev = node \n",
    "            node = node.next \n",
    "# Linked List creation\n",
    "main_head = Node(1)\n",
    "node2 = Node(2)\n",
    "node3 = Node(4)\n",
    "node4 = Node(4)\n",
    "node5 = Node(5)\n",
    "\n",
    "main_head.next = node2 \n",
    "node2.next = node3 \n",
    "node3.next = node4 \n",
    "node4.next = node5\n",
    "print(\"Original list :-\")\n",
    "print_linkedlist(main_head)\n",
    "remove_duplicate(main_head)\n",
    "print(\"list after deleting duplicates :-\")\n",
    "print_linkedlist(main_head)"
   ]
  },
  {
   "cell_type": "markdown",
   "metadata": {},
   "source": [
    "##### Problem 6: Add two numbers represented by linked lists (where each node contains a single digit).\n",
    "* Input: List 1: 2 -> 4 -> 3, List 2: 5 -> 6 -> 4 (represents 342 + 465)\n",
    "* Output: 7 -> 0 -> 8 (represents 807)"
   ]
  },
  {
   "cell_type": "code",
   "execution_count": null,
   "metadata": {},
   "outputs": [
    {
     "name": "stdout",
     "output_type": "stream",
     "text": [
      "List1 -:\n",
      "2 -> 4 -> 3\n",
      "List2 -:\n",
      "5 -> 6 -> 9\n"
     ]
    }
   ],
   "source": [
    "# Linked List creation\n",
    "head1 = Node(2)\n",
    "head2 = Node(5)\n",
    "node2 = Node(4)\n",
    "node3 = Node(3)\n",
    "node4 = Node(6)\n",
    "node5 = Node(9)\n",
    "\n",
    "head1.next = node2 \n",
    "node2.next = node3 \n",
    "head2.next = node4 \n",
    "node4.next = node5\n",
    "\n",
    "print(\"List1 -:\")\n",
    "print_linkedlist(head1)\n",
    "print(\"List2 -:\")\n",
    "print_linkedlist(head2)"
   ]
  },
  {
   "cell_type": "code",
   "execution_count": null,
   "metadata": {},
   "outputs": [
    {
     "name": "stdout",
     "output_type": "stream",
     "text": [
      "7 -> 0 -> 3 -> 1\n"
     ]
    }
   ],
   "source": [
    "# method to add 2 numbers \n",
    "def addition(head1, head2):\n",
    "    ans_head = Node()\n",
    "    temp = ans_head\n",
    "    add = 0\n",
    "    carry=0\n",
    "    while(head1!=None or head2!=None):\n",
    "        add = 0\n",
    "        if head1!=None and head2!=None:\n",
    "            add = head1.data+head2.data+ carry\n",
    "        elif head1!=None:\n",
    "            add = head1.data+ carry\n",
    "        else:\n",
    "            add = head2.data+ carry \n",
    "        carry = add//10\n",
    "        rem = add%10\n",
    "        temp.next = Node()\n",
    "        temp = temp.next \n",
    "        temp.data = rem\n",
    "        head1 = head1.next \n",
    "        head2 = head2.next\n",
    "    if carry>0:\n",
    "        temp.next = Node(carry)\n",
    "    return ans_head.next\n",
    "print_linkedlist(addition(head1, head2))\n",
    "        "
   ]
  },
  {
   "cell_type": "markdown",
   "metadata": {},
   "source": [
    "##### Problem 7: Swap nodes in pairs in a linked list.\n",
    "* Input: 1 -> 2 -> 3 -> 4\n",
    "* Output: 2 -> 1 -> 4 -> 3"
   ]
  },
  {
   "cell_type": "code",
   "execution_count": null,
   "metadata": {},
   "outputs": [
    {
     "name": "stdout",
     "output_type": "stream",
     "text": [
      "Original list :-\n",
      "1 -> 2 -> 3 -> 4 -> 5\n"
     ]
    }
   ],
   "source": [
    "# Linked List creation\n",
    "main_head = Node(1)\n",
    "node2 = Node(2)\n",
    "node3 = Node(3)\n",
    "node4 = Node(4)\n",
    "node5 = Node(5)\n",
    "\n",
    "main_head.next = node2 \n",
    "node2.next = node3 \n",
    "node3.next = node4 \n",
    "node4.next = node5\n",
    "print(\"Original list :-\")\n",
    "print_linkedlist(main_head)"
   ]
  },
  {
   "cell_type": "code",
   "execution_count": null,
   "metadata": {},
   "outputs": [
    {
     "name": "stdout",
     "output_type": "stream",
     "text": [
      "2 -> 1 -> 4 -> 3 -> 5\n"
     ]
    }
   ],
   "source": [
    "# method for swapping in pairs\n",
    "def swap_pairs(head):\n",
    "    if head==None or head.next==None:\n",
    "        return head \n",
    "    ans_head = head.next\n",
    "    prev = Node()\n",
    "    while head!=None and head.next!=None:\n",
    "\n",
    "        nxt = head.next \n",
    "        head.next = nxt.next \n",
    "        # print_linkedlist(head)\n",
    "        prev.next = nxt \n",
    "        nxt.next = head \n",
    "        prev= head \n",
    "        head= head.next\n",
    "        \n",
    "    return ans_head\n",
    "print_linkedlist(swap_pairs(main_head))"
   ]
  },
  {
   "cell_type": "markdown",
   "metadata": {},
   "source": [
    "##### Problem 8: Reverse nodes in a linked list in groups of k.\n",
    "* Input: 1 -> 2 -> 3 -> 4 -> 5, k = 3\n",
    "* Output: 3 -> 2 -> 1 -> 4 -> 5"
   ]
  },
  {
   "cell_type": "code",
   "execution_count": null,
   "metadata": {},
   "outputs": [
    {
     "name": "stdout",
     "output_type": "stream",
     "text": [
      "3 -> 2 -> 1 -> 6 -> 5 -> 4 -> 7\n"
     ]
    }
   ],
   "source": [
    "# Linked List creation\n",
    "main_head = Node(1)\n",
    "node2 = Node(2)\n",
    "node3 = Node(3)\n",
    "node4 = Node(4)\n",
    "node5 = Node(5)\n",
    "node6 = Node(6)\n",
    "node7 = Node(7)\n",
    "main_head.next = node2 \n",
    "node2.next = node3 \n",
    "node3.next = node4 \n",
    "node4.next = node5\n",
    "node5.next = node6 \n",
    "node6.next = node7\n",
    "\n",
    "\n",
    "def reverse_list(node):\n",
    "    if node.next == None: \n",
    "        head = node\n",
    "        return (node, head)\n",
    "    (new_node, head) = reverse_list(node.next)\n",
    "    new_node.next = node\n",
    "    node.next = None \n",
    "    return (node, head) \n",
    "\n",
    "def reverse_kk(main_head, num):\n",
    "\n",
    "    k = num\n",
    "    length = linkedlist_size(main_head)\n",
    "    rotations = length//k \n",
    "    flag = True \n",
    "    prev = main_head\n",
    "    head = main_head\n",
    "    \n",
    "    while rotations>0:\n",
    "        temp = head \n",
    "        while k>1:\n",
    "            head = head.next\n",
    "            k-=1\n",
    "        new_head= head.next \n",
    "        head.next = None \n",
    "        last, first = reverse_list(temp)\n",
    "        if flag:\n",
    "            main_head = first \n",
    "            flag = False\n",
    "        prev.next = first\n",
    "        prev = last \n",
    "        prev.next = new_head\n",
    "        head = new_head\n",
    "        rotations -=1\n",
    "        k = num\n",
    "    return main_head\n",
    "_head = reverse_kk(main_head,3)\n",
    "print_linkedlist(_head)"
   ]
  },
  {
   "cell_type": "markdown",
   "metadata": {},
   "source": [
    "##### Problem 9: Determine if a linked list is a palindrome.\n",
    "* Input: 1 -> 2 -> 2 -> 1\n",
    "* Output: True"
   ]
  },
  {
   "cell_type": "code",
   "execution_count": null,
   "metadata": {},
   "outputs": [
    {
     "name": "stdout",
     "output_type": "stream",
     "text": [
      "Original list :-\n",
      "1 -> 2 -> 3 -> 2 -> 1\n"
     ]
    }
   ],
   "source": [
    "# Linked List creation\n",
    "main_head = Node(1)\n",
    "node2 = Node(2)\n",
    "node3 = Node(3)\n",
    "node4 = Node(2)\n",
    "node5 = Node(1)\n",
    "\n",
    "main_head.next = node2 \n",
    "node2.next = node3 \n",
    "node3.next = node4 \n",
    "node4.next = node5\n",
    "print(\"Original list :-\")\n",
    "print_linkedlist(main_head)"
   ]
  },
  {
   "cell_type": "code",
   "execution_count": null,
   "metadata": {},
   "outputs": [
    {
     "name": "stdout",
     "output_type": "stream",
     "text": [
      "Palindrome Linked List -: True\n"
     ]
    }
   ],
   "source": [
    "# create a method to find if linked is palindrome or not\n",
    "def is_palindrome(head):\n",
    "    st = \"\"\n",
    "    while head!=None:\n",
    "        st+= str(head.data)\n",
    "        head = head.next\n",
    "    return st[::-1] == st \n",
    "print(\"Palindrome Linked List -:\", is_palindrome(main_head))"
   ]
  },
  {
   "cell_type": "markdown",
   "metadata": {},
   "source": [
    "##### Problem 10: Rotate a linked list to the right by k places.\n",
    "* Input: 1 -> 2 -> 3 -> 4 -> 5, k = 2\n",
    "* Output: 4 -> 5 -> 1 -> 2 -> 3"
   ]
  },
  {
   "cell_type": "code",
   "execution_count": null,
   "metadata": {},
   "outputs": [
    {
     "name": "stdout",
     "output_type": "stream",
     "text": [
      "Original list :-\n",
      "1 -> 2 -> 3 -> 4 -> 5\n",
      "Rotated list -:\n",
      "3 -> 4 -> 5 -> 1 -> 2\n"
     ]
    }
   ],
   "source": [
    "# Linked List creation\n",
    "main_head = Node(1)\n",
    "node2 = Node(2)\n",
    "node3 = Node(3)\n",
    "node4 = Node(4)\n",
    "node5 = Node(5)\n",
    "\n",
    "main_head.next = node2 \n",
    "node2.next = node3 \n",
    "node3.next = node4 \n",
    "node4.next = node5\n",
    "print(\"Original list :-\")\n",
    "print_linkedlist(main_head)\n",
    "\n",
    "# create a method to rotate list by k places \n",
    "def rotate_by_k(head,k):\n",
    "    size = linkedlist_size(head)\n",
    "    k = k%size \n",
    "    ind = size - k\n",
    "    last_node  = head \n",
    "    temp = head \n",
    "    ans_head = head \n",
    "    while(last_node.next!=None):\n",
    "        last_node = last_node.next\n",
    "    last_node.next = head \n",
    "    for i in range(ind-1):\n",
    "        temp = temp.next \n",
    "    ans_head =  temp.next\n",
    "    temp.next = None \n",
    "    return ans_head\n",
    "print(\"Rotated list -:\") \n",
    "print_linkedlist(rotate_by_k(main_head,3))\n",
    "    \n",
    "    "
   ]
  },
  {
   "cell_type": "markdown",
   "metadata": {},
   "source": [
    "## Problem 11: Flatten a multilevel doubly linked list.\n",
    "* Input: 1 <-> 2 <-> 3 <-> 7 <-> 8 <-> 11 -> 12, 4 <-> 5 -> 9 -> 10, 6 -> 13\n",
    "* Output: 1 <-> 2 <-> 3 <-> 4 <-> 5 <-> 6 <-> 7 <-> 8 <-> 9 <-> 10 <-> 11 <-> 12 <-> 13"
   ]
  },
  {
   "cell_type": "code",
   "execution_count": 32,
   "metadata": {},
   "outputs": [
    {
     "name": "stdout",
     "output_type": "stream",
     "text": [
      "1 <-> 3 <-> 5 <-> 7\n",
      "length of list1 : 4\n",
      "2 <-> 4 <-> 6 <-> 8 <-> 9\n",
      "length of list1 : 5\n",
      "1 <-> 2 <-> 3 <-> 4 <-> 5 <-> 6 <-> 7 <-> 8 <-> 9\n"
     ]
    }
   ],
   "source": [
    "class DNode:\n",
    "    def __init__(self, data = None, next = None, prev = None) -> None:\n",
    "        self.__data = data \n",
    "        self.__next = next \n",
    "        self.__prev = prev \n",
    "    @property\n",
    "    def data(self):\n",
    "        return self.__data\n",
    "\n",
    "    @data.setter\n",
    "    def data(self, data=None):\n",
    "        self.__data = data \n",
    "    \n",
    "    @property\n",
    "    def next(self):\n",
    "        return self.__next\n",
    "\n",
    "    @next.setter\n",
    "    def next(self, next=None):\n",
    "        self.__next = next \n",
    "    @property\n",
    "    def prev(self):\n",
    "        return self.__prev\n",
    "\n",
    "    @prev.setter\n",
    "    def prev(self, prev=None):\n",
    "        self.__prev = prev \n",
    "# doubly linked list \n",
    "node1 = DNode(1)\n",
    "node3= DNode(3)\n",
    "node5 = DNode(5)\n",
    "node7 = DNode(7)\n",
    "node1.next = node3\n",
    "node3.prev = node1\n",
    "node3.next = node5\n",
    "node5.prev = node3\n",
    "node5.next = node7 \n",
    "node7.prev = node5\n",
    "\n",
    "node2 = DNode(2)\n",
    "node4= DNode(4)\n",
    "node6 = DNode(6)\n",
    "node8 = DNode(8)\n",
    "node9 = DNode(9)\n",
    "node2.next = node4\n",
    "node4.prev = node2\n",
    "node4.next = node6\n",
    "node6.prev = node4\n",
    "node6.next = node8 \n",
    "node8.prev = node6\n",
    "node8.next = node9\n",
    "node9.prev = node8\n",
    "\n",
    "# method to find size of linked list\n",
    "def doubly_linkedlist_size(main_head):\n",
    "    length = 0\n",
    "    while(main_head!=None):\n",
    "        length += 1\n",
    "        main_head=main_head.next\n",
    "    return length\n",
    "\n",
    "# method to print linked list\n",
    "def print_doubly_linkedlist(main_head):\n",
    "    while main_head.next!= None:\n",
    "        print(str(main_head.data) + ' <-> ', end = '')\n",
    "        main_head = main_head.next\n",
    "    print(main_head.data)\n",
    "\n",
    "print_doubly_linkedlist(node1)\n",
    "print(\"length of list1 :\",doubly_linkedlist_size(node1))\n",
    "print_doubly_linkedlist(node2)\n",
    "print(\"length of list1 :\",doubly_linkedlist_size(node2))\n",
    "\n",
    "def flatten(node1, node2):\n",
    "    node = DNode()\n",
    "    ans_node = node\n",
    "    while node1!=None and node2!=None:\n",
    "        if node1.data<node2.data:\n",
    "            node.next = node1\n",
    "            node1.prev = node \n",
    "            node1 = node1.next\n",
    "            node = node.next\n",
    "            node.next= None \n",
    "        else:\n",
    "            node.next = node2\n",
    "            node2.prev = node \n",
    "            node2 = node2.next\n",
    "            node = node.next\n",
    "            node.next= None \n",
    "    while node1!=None:\n",
    "        node.next = node1\n",
    "        node1.prev = node \n",
    "        node1 = node1.next\n",
    "        node = node.next\n",
    "        node.next= None\n",
    "    while node2!=None:\n",
    "        node.next = node2\n",
    "        node2.prev = node \n",
    "        node2 = node2.next\n",
    "        node = node.next\n",
    "        node.next= None \n",
    "    return ans_node.next \n",
    "print_doubly_linkedlist(flatten(node1, node2))"
   ]
  },
  {
   "cell_type": "markdown",
   "metadata": {},
   "source": [
    "## Problem 12: Rearrange a linked list such that all even positioned nodes are placed at the end.\n",
    "* Input: 1 -> 2 -> 3 -> 4 -> 5\n",
    "* Output: 1 -> 3 -> 5 -> 2 -> 4"
   ]
  },
  {
   "cell_type": "code",
   "execution_count": null,
   "metadata": {},
   "outputs": [
    {
     "name": "stdout",
     "output_type": "stream",
     "text": [
      "1 -> 3 -> 5 -> 2 -> 4\n"
     ]
    }
   ],
   "source": [
    "def even_end(head):\n",
    "    odd = Node()\n",
    "    odd_ans = odd\n",
    "    even = Node()\n",
    "    even_ans = even\n",
    "    while head!=None:\n",
    "        if head.data%2 == 0:\n",
    "            even.next = head\n",
    "            head = head.next \n",
    "            even = even.next \n",
    "            even.next = None \n",
    "        else :\n",
    "            odd.next = head\n",
    "            head = head.next \n",
    "            odd = odd.next \n",
    "            odd.next = None\n",
    "    odd.next = even_ans.next \n",
    "    return odd_ans.next \n",
    "# Linked List creation\n",
    "main_head = Node(1)\n",
    "node2 = Node(2)\n",
    "node3 = Node(3)\n",
    "node4 = Node(4)\n",
    "node5 = Node(5)\n",
    "\n",
    "main_head.next = node2 \n",
    "node2.next = node3 \n",
    "node3.next = node4 \n",
    "node4.next = node5\n",
    "\n",
    "print_linkedlist(even_end(main_head))\n"
   ]
  },
  {
   "cell_type": "markdown",
   "metadata": {},
   "source": [
    "##### Problem 13: Given a non-negative number represented as a linked list, add one to it.\n",
    "* Input: 1 -> 2 -> 3 (represents the number 123)\n",
    "* Output: 1 -> 2 -> 4 (represents the number 124)"
   ]
  },
  {
   "cell_type": "code",
   "execution_count": null,
   "metadata": {},
   "outputs": [
    {
     "name": "stdout",
     "output_type": "stream",
     "text": [
      "Original list :-\n",
      "1 -> 9 -> 3 -> 9 -> 9\n",
      "1 -> 9 -> 4 -> 0 -> 0\n"
     ]
    }
   ],
   "source": [
    "# Linked List creation\n",
    "main_head = Node(1)\n",
    "node2 = Node(9)\n",
    "node3 = Node(3)\n",
    "node4 = Node(9)\n",
    "node5 = Node(9)\n",
    "\n",
    "main_head.next = node2 \n",
    "node2.next = node3 \n",
    "node3.next = node4 \n",
    "node4.next = node5\n",
    "print(\"Original list :-\")\n",
    "print_linkedlist(main_head)\n",
    "\n",
    "# create method to add one\n",
    "def add_one(head):\n",
    "    if head.next==None:\n",
    "        sm = head.data+1 \n",
    "        carry = sm//10\n",
    "        head.data = sm%10 \n",
    "        return carry \n",
    "    carry = add_one(head.next)\n",
    "    sm = head.data+carry\n",
    "    carry = sm//10\n",
    "    head.data = sm%10 \n",
    "    return carry \n",
    "carry = add_one(main_head)\n",
    "if carry>0:\n",
    "    ans = Node(carry, main_head)\n",
    "else:\n",
    "    ans = main_head\n",
    "print_linkedlist(main_head)\n"
   ]
  },
  {
   "cell_type": "markdown",
   "metadata": {},
   "source": [
    "##### Problem 14: Given a sorted array and a target value, return the index if the target is found. If not, return the index where it would be inserted.\n",
    "* Input: nums = [1, 3, 5, 6], target = 5\n",
    "* Output: 2"
   ]
  },
  {
   "cell_type": "code",
   "execution_count": null,
   "metadata": {},
   "outputs": [
    {
     "name": "stdout",
     "output_type": "stream",
     "text": [
      "Index is 2\n"
     ]
    }
   ],
   "source": [
    "# create a method to search target using binary search \n",
    "def search(arr, target):\n",
    "    i = 0\n",
    "    j = len(arr)-1\n",
    "    mid = 0 \n",
    "    while i<j and j>=0 and i<len(arr):\n",
    "        mid = (i+j)//2 \n",
    "        if arr[mid] == target:\n",
    "            return mid \n",
    "        elif arr[mid] < target:\n",
    "            i = mid+1 \n",
    "        else :\n",
    "            j = mid\n",
    "    return j \n",
    "print(\"Index is\", search([1,3,5,6,8,9,14], 4))\n"
   ]
  },
  {
   "cell_type": "markdown",
   "metadata": {},
   "source": [
    "##### Problem 15: Find the minimum element in a rotated sorted array.\n",
    "* Input: [4, 5, 6, 7, 0, 1, 2]\n",
    "* Output: 0"
   ]
  },
  {
   "cell_type": "code",
   "execution_count": null,
   "metadata": {},
   "outputs": [
    {
     "name": "stdout",
     "output_type": "stream",
     "text": [
      "Smallest element : -12\n"
     ]
    }
   ],
   "source": [
    "# using binary search method\n",
    "\n",
    "def find_smallest(arr):\n",
    "    n = len(arr)\n",
    "    i = 0 \n",
    "    j = n-1\n",
    "    x=0\n",
    "    while i<=j:\n",
    "        mid = (i+j)//2\n",
    "        before = (mid-1+n)%n \n",
    "        after = (mid+1)%n\n",
    "        if arr[mid]<arr[after] and arr[mid]<=arr[before]:\n",
    "            x = mid \n",
    "            return x \n",
    "        elif arr[mid]>arr[j]:\n",
    "            i = mid+1\n",
    "        elif arr[mid]<arr[i]:\n",
    "            j = mid-1 \n",
    "        else :\n",
    "            return\n",
    "arr = [15,18,19,-12,3,6,7,8,9]\n",
    "ind = find_smallest(arr)\n",
    "print(\"Smallest element :\",arr[ind])"
   ]
  },
  {
   "cell_type": "markdown",
   "metadata": {},
   "source": [
    "##### Problem 16: Search for a target value in a rotated sorted array.\n",
    "* Input: nums = [4, 5, 6, 7, 0, 1, 2], target = 0\n",
    "* Output: 4"
   ]
  },
  {
   "cell_type": "code",
   "execution_count": null,
   "metadata": {},
   "outputs": [
    {
     "name": "stdout",
     "output_type": "stream",
     "text": [
      "Index is 5\n"
     ]
    }
   ],
   "source": [
    "# using binary search method\n",
    "\n",
    "def find_smallest(arr):\n",
    "    n = len(arr)\n",
    "    i = 0 \n",
    "    j = n-1\n",
    "    x=0\n",
    "    while i<=j:\n",
    "        mid = (i+j)//2\n",
    "        before = (mid-1+n)%n \n",
    "        after = (mid+1)%n\n",
    "        if arr[mid]<arr[after] and arr[mid]<=arr[before]:\n",
    "            x = mid \n",
    "            return x \n",
    "        elif arr[mid]>arr[j]:\n",
    "            i = mid+1\n",
    "        elif arr[mid]<arr[i]:\n",
    "            j = mid-1 \n",
    "        else :\n",
    "            return\n",
    "# create a method to search target \n",
    "def search(arr, target, i, j):\n",
    "    mid = 0 \n",
    "    while i<j and j>=0 and i<len(arr):\n",
    "        mid = (i+j)//2 \n",
    "        if arr[mid] == target:\n",
    "            return mid \n",
    "        elif arr[mid] < target:\n",
    "            i = mid+1 \n",
    "        else :\n",
    "            j = mid\n",
    "    return -1\n",
    "\n",
    "arr = [15,18,19,-12,3,4,6,7,8,9]\n",
    "ind = find_smallest(arr)\n",
    "target_ind1 =search(arr, 4,0,ind)\n",
    "target_ind2 = search(arr, 4,ind,len(arr)-1)\n",
    "print(\"Index is\", target_ind1 if target_ind1>-1 else target_ind2)"
   ]
  },
  {
   "cell_type": "markdown",
   "metadata": {},
   "source": [
    "##### Problem 17: Find the peak element in an array. A peak element is greater than its neighbors.\n",
    "* Input: nums = [1, 2, 3, 1]\n",
    "* Output: 2 (index of peak element)"
   ]
  },
  {
   "cell_type": "code",
   "execution_count": null,
   "metadata": {},
   "outputs": [
    {
     "name": "stdout",
     "output_type": "stream",
     "text": [
      "Peak elements : [3, 9, 9]\n"
     ]
    }
   ],
   "source": [
    "# create method to get peak element\n",
    "def get_peak(arr):\n",
    "    if len(arr)<=1:\n",
    "        return arr\n",
    "    peak_list = []\n",
    "    for i in range(len(arr)):\n",
    "        if (i == 0 and arr[i]>arr[i+1]) or (i == len(arr)-1 and arr[i]>arr[i-1]) or (arr[i]>arr[i-1] and arr[i]>arr[i+1]):\n",
    "            peak_list.append(arr[i])\n",
    "    return peak_list\n",
    "lst = [1,2,3,1,5,6,9,8,9,0]\n",
    "print(\"Peak elements :\", get_peak(lst))\n"
   ]
  },
  {
   "cell_type": "markdown",
   "metadata": {},
   "source": [
    "##### Problem 18: Given a m x n matrix where each row and column is sorted in descending order, count the number of negative numbers.\n",
    "* Input: grid = [[4, 3, 2, -1], [3, 2, 1, -1], [1, 1, -1, -2], [-1, -1, -2, -3]]\n",
    "* Output: 8\n"
   ]
  },
  {
   "cell_type": "code",
   "execution_count": null,
   "metadata": {},
   "outputs": [
    {
     "name": "stdout",
     "output_type": "stream",
     "text": [
      "Number of negative numbers present in [[4, 3, 2, -1], [3, 2, 1, -1], [1, 1, -1, -2], [-1, -1, -2, -3]] : 8\n"
     ]
    }
   ],
   "source": [
    "def search(arr, target):\n",
    "    i = 0\n",
    "    j = len(arr)-1\n",
    "    mid = 0 \n",
    "    while i<j and j>=0 and i<len(arr):\n",
    "        mid = (i+j)//2 \n",
    "        if arr[mid] == target:\n",
    "            return mid \n",
    "        elif arr[mid] > target:\n",
    "            i = mid+1 \n",
    "        else :\n",
    "            j = mid\n",
    "    return i\n",
    "def get_target(arr):\n",
    "    sm = 0\n",
    "    for i in range(len(arr)):\n",
    "        if arr[i][0]<0:\n",
    "            sm += len(arr[i])\n",
    "        elif arr[i][len(arr[i])-1]<0:\n",
    "            ind =  search(arr[i], -1)\n",
    "            sm += (len(arr[i])-ind)\n",
    "    return sm\n",
    "lst = [[4, 3, 2, -1], [3, 2, 1, -1], [1, 1, -1, -2], [-1, -1, -2, -3]]\n",
    "print(f'Number of negative numbers present in {lst} : {get_target(lst)}')\n",
    "        "
   ]
  },
  {
   "cell_type": "markdown",
   "metadata": {},
   "source": [
    "##### Problem 19: Given a 2D matrix sorted in ascending order in each row, and the first integer of each row is greater than the last integer of the previous row, determine if a target value is present in the matrix.\n",
    "* Input: matrix = [[1, 3, 5, 7], [10, 11, 16, 20], [23, 30, 34, 60]], target = 3\n",
    "* Output: True"
   ]
  },
  {
   "cell_type": "code",
   "execution_count": null,
   "metadata": {},
   "outputs": [
    {
     "name": "stdout",
     "output_type": "stream",
     "text": [
      "Target 30 present in [[1, 3, 5, 7], [10, 11, 16, 20], [23, 30, 34, 60]] : True\n"
     ]
    }
   ],
   "source": [
    "def search(arr, target):\n",
    "    i = 0\n",
    "    j = len(arr)-1\n",
    "    mid = 0 \n",
    "    while i<j and j>=0 and i<len(arr):\n",
    "        mid = (i+j)//2 \n",
    "        if arr[mid] == target:\n",
    "            return mid \n",
    "        elif arr[mid] < target:\n",
    "            i = mid+1 \n",
    "        else :\n",
    "            j = mid\n",
    "    return -1\n",
    "def get_target(arr,target):\n",
    "    for i in range(len(arr)):\n",
    "        if target < arr[i][len(arr[i])-1]:\n",
    "            return search(arr[i], target)!= -1\n",
    "        elif target == arr[i][len(arr[i])-1]:\n",
    "            return True \n",
    "lst = [[1, 3, 5, 7], [10, 11, 16, 20], [23, 30, 34, 60]]\n",
    "target = 30\n",
    "print(f'Target {target} present in {lst} : {get_target(lst, target)}')\n",
    "        "
   ]
  },
  {
   "cell_type": "markdown",
   "metadata": {},
   "source": [
    "##### Problem 20: Find Median in Two Sorted Arrays, Given two sorted arrays, find the median of the combined sorted array.\n",
    "* Input: nums1 = [1, 3], nums2 = [2]\n",
    "* Output: 2.0"
   ]
  },
  {
   "cell_type": "code",
   "execution_count": null,
   "metadata": {},
   "outputs": [
    {
     "name": "stdout",
     "output_type": "stream",
     "text": [
      "the median is  12\n"
     ]
    }
   ],
   "source": [
    "def get_median(arr1, arr2):\n",
    "    l1 = len(arr1)\n",
    "    l2 = len(arr2)\n",
    "    med = (l1+l2)//2\n",
    "    med1 = 0\n",
    "    med2 = 0\n",
    "    i,j=0,0\n",
    "    while med>=0:\n",
    "        if i<l1 and j<l2 and arr1[i]<=arr2[j]:\n",
    "            med1 = med2 \n",
    "            med2 = arr1[i]\n",
    "            i+=1\n",
    "        elif i<l1 and j<l2 and arr1[i]>=arr2[j]:\n",
    "            med1 = med2 \n",
    "            med2 = arr2[j]\n",
    "            j+=1\n",
    "        elif i<l1:\n",
    "            med1 = med2 \n",
    "            med2 = arr1[i]\n",
    "            i+=1\n",
    "        elif j<l2:\n",
    "            med1 = med2 \n",
    "            med2 = arr2[j]\n",
    "            j+=1\n",
    "        med -=1\n",
    "    \n",
    "    return (med1+med2)/2 if (l1+l2)%2 == 0 else med2\n",
    "print(\"the median is \",get_median([1,3,4,12,17,22],[2,5,15,18,21]))\n"
   ]
  },
  {
   "cell_type": "markdown",
   "metadata": {},
   "source": [
    "##### Problem 21: Given a sorted character array and a target letter, find the smallest letter in the array that is greater than the target.\n",
    "* Input: letters = ['c', 'f', 'j'], target = a\n",
    "* Output: 'c'"
   ]
  },
  {
   "cell_type": "code",
   "execution_count": null,
   "metadata": {},
   "outputs": [
    {
     "name": "stdout",
     "output_type": "stream",
     "text": [
      "smallest letter that is greater then target m is p\n"
     ]
    }
   ],
   "source": [
    "# create a method to search target \n",
    "def search(arr, target):\n",
    "    i = 0\n",
    "    j = len(arr)-1\n",
    "    mid = 0 \n",
    "    while i<j and j>=0 and i<len(arr):\n",
    "        mid = (i+j)//2 \n",
    "        if arr[mid] == target:\n",
    "            return mid \n",
    "        elif arr[mid] < target:\n",
    "            i = mid+1 \n",
    "        else :\n",
    "            j = mid\n",
    "    return j \n",
    "target = 'm'\n",
    "arr = ['b','d','j','k','p','t','x','z']\n",
    "print(f\"smallest letter that is greater then target {target} is { arr[search(arr, target)]}\")\n"
   ]
  },
  {
   "cell_type": "markdown",
   "metadata": {},
   "source": [
    "##### Problem 22: Given an array with n objects colored red, white, or blue, sort them in-place so that objects of the same color are adjacent, with the colors in the order red, white, and blue.\n",
    "* Input: nums = [2, 0, 2, 1, 1, 0]\n",
    "* Output: [0, 0, 1, 1, 2, 2]"
   ]
  },
  {
   "cell_type": "code",
   "execution_count": null,
   "metadata": {},
   "outputs": [
    {
     "name": "stdout",
     "output_type": "stream",
     "text": [
      "sorted array =  [0, 0, 0, 0, 0, 1, 1, 1, 1, 1, 2, 2]\n"
     ]
    }
   ],
   "source": [
    "# create a method to sort the array with 3 distinct elements\n",
    "def sort_arr(arr):\n",
    "    # initialize variables for start, mid and end counters\n",
    "    i = 0\n",
    "    j = len(arr)-1\n",
    "    mid = 0 \n",
    "    # iterate over the elements\n",
    "    while i<=j and mid<=j:\n",
    "        # if mid element is 0 then swap it with ith element\n",
    "        if arr[mid] == 0:\n",
    "            # swap the elements\n",
    "            arr[mid], arr[i] = arr[i], arr[mid]\n",
    "            # increase it counters\n",
    "            mid += 1\n",
    "            i+=1\n",
    "        # if mid element is 1 then swap increase the counter\n",
    "        elif arr[mid] == 1:\n",
    "            mid +=1\n",
    "        # otherwise swap the mid element with jth element\n",
    "        else :\n",
    "            arr[j], arr[mid] = arr[mid] , arr[j]\n",
    "            # decrease the jth counter\n",
    "            j-=1\n",
    "    # return the array\n",
    "    return arr \n",
    "# sort the array using sort_arr() method\n",
    "print(\"sorted array = \",sort_arr([0,1,1,0,1,2,1,2,0,0,0,1]))\n",
    "\n",
    "        \n"
   ]
  },
  {
   "cell_type": "markdown",
   "metadata": {},
   "source": [
    "##### Problem 23: Find the kth largest element in an unsorted array.\n",
    "* Input: nums = [3, 2, 1, 5, 6, 4], k = 2\n",
    "* Output: 5"
   ]
  },
  {
   "cell_type": "code",
   "execution_count": null,
   "metadata": {},
   "outputs": [
    {
     "name": "stdout",
     "output_type": "stream",
     "text": [
      "4 largest number in [3, 2, 5, 1, 6, 8, 7] is  5\n"
     ]
    }
   ],
   "source": [
    "def greater_cnt(arr, num):\n",
    "    cnt = 0\n",
    "    for i in arr:\n",
    "        if i>num:\n",
    "            cnt+=1\n",
    "    return cnt\n",
    "def get_large_k(arr,k):\n",
    "    i, j =min(arr), max(arr)\n",
    "    while(i<j):\n",
    "        mid = (i+j)//2\n",
    "        if greater_cnt(arr, mid)>=k:\n",
    "            i = mid+1 \n",
    "        else :\n",
    "            j = mid \n",
    "    return i \n",
    "l = [3,2,5,1,6,8,7]\n",
    "k = 4\n",
    "print(f\"{k} largest number in {l} is  {get_large_k(l,k)}\")\n"
   ]
  },
  {
   "cell_type": "markdown",
   "metadata": {},
   "source": [
    "##### Problem 24: Given an unsorted array, reorder it in-place such that nums[0] <= nums[1] >= nums[2] <= nums[3]...\n",
    "* Input: nums = [3, 5, 2, 1, 6, 4]\n",
    "* Output: [3, 5, 1, 6, 2, 4]"
   ]
  },
  {
   "cell_type": "code",
   "execution_count": null,
   "metadata": {},
   "outputs": [
    {
     "name": "stdout",
     "output_type": "stream",
     "text": [
      "List in given order : [76, 3, 34, 4, 31, 5, 13, 6, 7]\n"
     ]
    }
   ],
   "source": [
    "\n",
    "def get_ordered_array(arr):\n",
    "    for i in range(len(arr)-1):\n",
    "        for j in range(len(arr)-i-1):\n",
    "            if arr[j]>arr[j+1]:\n",
    "                t = arr[j]\n",
    "                arr[j] = arr[j+1]\n",
    "                arr[j+1] = t \n",
    "\n",
    "    l = 0 \n",
    "    r = len(arr)-1 \n",
    "    ans_lis = []\n",
    "    while l<=r:\n",
    "        if l==r:\n",
    "            ans_lis.append(arr[l])\n",
    "        else:\n",
    "            ans_lis.append(arr[r])\n",
    "            ans_lis.append(arr[l])\n",
    "        r-=1 \n",
    "        l+=1 \n",
    "    return ans_lis\n",
    "arr = [3,34,13,76,4,5,6,7,31]\n",
    "print(\"List in given order :\", get_ordered_array(arr))\n"
   ]
  },
  {
   "cell_type": "markdown",
   "metadata": {},
   "source": [
    "##### Problem 25: Given an array of integers, calculate the sum of all its elements.\n",
    "* Input: [1, 2, 3, 4, 5]\n",
    "* Output: 15"
   ]
  },
  {
   "cell_type": "code",
   "execution_count": null,
   "metadata": {},
   "outputs": [
    {
     "name": "stdout",
     "output_type": "stream",
     "text": [
      "entered list - [1, 2, 3, 4, 4]\n",
      "Sum of element via loop - 14\n"
     ]
    }
   ],
   "source": [
    "l = [1,2,3,4,4]\n",
    "# print the input list\n",
    "print(\"entered list -\", l)\n",
    "'''\n",
    "initialize a variable to store sum of list elements\n",
    "iterate over each element of list and add the element to the variable initialized initially at each iteration\n",
    "'''\n",
    "s = 0\n",
    "for i in l:\n",
    "    s += i\n",
    "print(\"Sum of element via loop -\", s)"
   ]
  },
  {
   "cell_type": "markdown",
   "metadata": {},
   "source": [
    "##### Problem 26: Find the maximum element in an array of integers.\n",
    "* Input: [3, 7, 2, 9, 4, 1]\n",
    "* Output: 9"
   ]
  },
  {
   "cell_type": "code",
   "execution_count": null,
   "metadata": {},
   "outputs": [
    {
     "name": "stdout",
     "output_type": "stream",
     "text": [
      "entered list - [3, 7, 2, 9, 4, 1]\n",
      "Max value of list - 9\n"
     ]
    }
   ],
   "source": [
    "l =[3, 7, 2, 9, 4, 1]\n",
    "# print the input list\n",
    "print(\"entered list -\", l)\n",
    "\n",
    "''' \n",
    "approach - we initialize a variable  'maxm' with value as 0. This variable will be used to store maximum element in list\n",
    "We iterate over each element in list and check if any element is greater than value of maxm variable then we store that element in maxm variable \n",
    "in each iteration.\n",
    "'''\n",
    "# initialize a variable to store maximum value\n",
    "maxm = 0\n",
    "# iterate throught the elements in list\n",
    "for i in l:\n",
    "    # check if current element is greater than maxm value then put the element in maxm variable\n",
    "    maxm = maxm if maxm>i else i\n",
    "# print the maximum value\n",
    "print(\"Max value of list -\", maxm)"
   ]
  },
  {
   "cell_type": "markdown",
   "metadata": {},
   "source": [
    "##### Problem 27: Implement linear search to find the index of a target element in an array.\n",
    "* Input: [5, 3, 8, 2, 7, 4], target = 8\n",
    "* Output: 2"
   ]
  },
  {
   "cell_type": "code",
   "execution_count": null,
   "metadata": {},
   "outputs": [
    {
     "name": "stdout",
     "output_type": "stream",
     "text": [
      "Index of tagret :  2\n"
     ]
    }
   ],
   "source": [
    "def linear_search(arr, target):\n",
    "    for i in range(len(arr)):\n",
    "        if arr[i] == target:\n",
    "            return  i\n",
    "    return -1\n",
    "arr = [2,43,76,32,71,98,34]\n",
    "print(\"Index of tagret : \", linear_search(arr,76))"
   ]
  },
  {
   "cell_type": "markdown",
   "metadata": {},
   "source": [
    "##### Problem 28 Calculate the factorial of a given number.\n",
    "* Input: 5\n",
    "* Output: 120 (as 5! = 5 * 4 * 3 * 2 * 1 = 120)"
   ]
  },
  {
   "cell_type": "code",
   "execution_count": null,
   "metadata": {},
   "outputs": [
    {
     "name": "stdout",
     "output_type": "stream",
     "text": [
      "factorial of 6 is 720\n"
     ]
    }
   ],
   "source": [
    "def fact(n):\n",
    "    if n>1:\n",
    "        return n*fact(n-1)\n",
    "    else:\n",
    "        return n \n",
    "print(f\"factorial of {6} is {fact(6)}\")"
   ]
  },
  {
   "cell_type": "markdown",
   "metadata": {},
   "source": [
    "##### Problem 29: Check if a given number is a prime number.\n",
    "* Input: 7\n",
    "* Output: True"
   ]
  },
  {
   "cell_type": "code",
   "execution_count": null,
   "metadata": {},
   "outputs": [
    {
     "name": "stdout",
     "output_type": "stream",
     "text": [
      "the entered number is - 13\n",
      "Prime Number\n"
     ]
    }
   ],
   "source": [
    "# take input interegr value using input() and convert it into integer using int()\n",
    "n = int(input(\"enter an integer \"))\n",
    "# print the entered number \n",
    "print(\"the entered number is -\", n)\n",
    "# initialize a flag to store True if it is divisible by any number and false if it is not divisible by any number, means it is prime\n",
    "flag = 0\n",
    "# execute a loop from 2 to n/2\n",
    "for i in range(2,n//2+1):\n",
    "    # if it is divisible by any number in range between stated above\n",
    "    if n%i == 0:\n",
    "        # on the flag\n",
    "        flag = 1\n",
    "        # stop the loop and move out of loop\n",
    "        break \n",
    "# if flag is false and number is greater than 1 then it is prime\n",
    "if flag == 0 and n>1:\n",
    "    print(\"Prime Number\")\n",
    "# otherwise it is not prime\n",
    "else:\n",
    "    print(\"Non-Prime Number\")"
   ]
  },
  {
   "cell_type": "markdown",
   "metadata": {},
   "source": [
    "##### Problem 30: Generate the Fibonacci series up to a given number n.\n",
    "* Input: 8\n",
    "* Output: [0, 1, 1, 2, 3, 5, 8, 13]"
   ]
  },
  {
   "cell_type": "code",
   "execution_count": null,
   "metadata": {},
   "outputs": [
    {
     "name": "stdout",
     "output_type": "stream",
     "text": [
      "First 6 fibonacci numbers are-\n",
      "0\n",
      "1\n",
      "1\n",
      "2\n",
      "3\n",
      "5\n"
     ]
    }
   ],
   "source": [
    "# take input from user for number of terms of series using input() and convert it into integer using int()\n",
    "n = int(input(\"enter number of terms you want in fibonacci series.\"))\n",
    "# initialize first variable f with value 0 as first elemnt of series\n",
    "f=0\n",
    "# initialize second variable s with value 1 as second element of series\n",
    "s=1\n",
    "print(\"First {} fibonacci numbers are-\".format(n))\n",
    "# now we need to iterate for n number of times to get values of series.\n",
    "for i in range(n):\n",
    "    # print the number\n",
    "    print(f)\n",
    "    # calculate the next number of series by adding up the previous 2 numbers\n",
    "    f,s = s, s+f \n",
    "    \n"
   ]
  },
  {
   "cell_type": "markdown",
   "metadata": {},
   "source": [
    "##### Problem 31: Calculate the power of a number using recursion.\n",
    "* Input: base = 3, exponent = 4\n",
    "* Output: 81 (as 3^4 = 3 * 3 * 3 * 3 = 81)"
   ]
  },
  {
   "cell_type": "code",
   "execution_count": null,
   "metadata": {},
   "outputs": [
    {
     "name": "stdout",
     "output_type": "stream",
     "text": [
      "3 to the power 4 is 81\n"
     ]
    }
   ],
   "source": [
    "def get_pow(base, exp):\n",
    "    if exp>0:\n",
    "        return base*get_pow(base, exp-1)\n",
    "    return 1\n",
    "base = 3\n",
    "exp = 4\n",
    "print(f\"{base} to the power {exp} is {get_pow(base, exp)}\")"
   ]
  },
  {
   "cell_type": "markdown",
   "metadata": {},
   "source": [
    "##### Problem 32: Reverse a given string.\n",
    "* Input: \"hello\"\n",
    "* Output: \"olleh\""
   ]
  },
  {
   "cell_type": "code",
   "execution_count": null,
   "metadata": {},
   "outputs": [
    {
     "name": "stdout",
     "output_type": "stream",
     "text": [
      "reverse of the string [ ABCDEF ] is FEDCBA\n"
     ]
    }
   ],
   "source": [
    "# taking input from user by using input() function\n",
    "string2 = input(\"Enter a string\")\n",
    "\n",
    "#  we can reverse the string using slicing and store the result in variable named reversed_string\n",
    "# we do slicing by making it as negative jump i.e. -1\n",
    "reversed_string = string2[::-1]\n",
    "\n",
    "# print the reverse of the string\n",
    "print(\"reverse of the string [\", string2, '] is', reversed_string) "
   ]
  },
  {
   "cell_type": "markdown",
   "metadata": {},
   "source": []
  }
 ],
 "metadata": {
  "kernelspec": {
   "display_name": "base",
   "language": "python",
   "name": "python3"
  },
  "language_info": {
   "codemirror_mode": {
    "name": "ipython",
    "version": 3
   },
   "file_extension": ".py",
   "mimetype": "text/x-python",
   "name": "python",
   "nbconvert_exporter": "python",
   "pygments_lexer": "ipython3",
   "version": "3.11.4"
  }
 },
 "nbformat": 4,
 "nbformat_minor": 2
}
