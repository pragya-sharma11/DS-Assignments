{
 "cells": [
  {
   "cell_type": "markdown",
   "metadata": {},
   "source": [
    "## Node Creation"
   ]
  },
  {
   "cell_type": "code",
   "execution_count": 17,
   "metadata": {},
   "outputs": [],
   "source": [
    "# create a Node class\n",
    "class Node:\n",
    "    # define constructor with attributes data, next\n",
    "    def __init__(self, data = None, next = None) -> None:\n",
    "        self.__data = data\n",
    "        self.__next = next \n",
    "    # create getter for data\n",
    "    @property\n",
    "    def data(self):\n",
    "        return self.__data\n",
    "\n",
    "    # create setter for data\n",
    "    @data.setter\n",
    "    def data(self, data=None):\n",
    "        self.__data = data \n",
    "    # create getter for next\n",
    "    @property\n",
    "    def next(self):\n",
    "        return self.__next\n",
    "    # create setter for next\n",
    "    @next.setter\n",
    "    def next(self, next=None):\n",
    "        self.__next = next \n"
   ]
  },
  {
   "cell_type": "markdown",
   "metadata": {},
   "source": [
    "### Creation of Linked List, print linked list method, size of linked list method. These methods will be used in all below questions for printing the result"
   ]
  },
  {
   "cell_type": "markdown",
   "metadata": {},
   "source": [
    "* Creation of linked list"
   ]
  },
  {
   "cell_type": "code",
   "execution_count": 18,
   "metadata": {},
   "outputs": [],
   "source": [
    "# Linked List creation-\n",
    "\n",
    "# create 5 nodes\n",
    "main_head = Node(1)\n",
    "node2 = Node(2)\n",
    "node3 = Node(3)\n",
    "node4 = Node(4)\n",
    "node5 = Node(5)\n",
    "\n",
    "# link all the nodes to one another in a sequence\n",
    "main_head.next = node2 \n",
    "node2.next = node3 \n",
    "node3.next = node4 \n",
    "node4.next = node5\n"
   ]
  },
  {
   "cell_type": "markdown",
   "metadata": {},
   "source": [
    "* methods to print linked list"
   ]
  },
  {
   "cell_type": "code",
   "execution_count": 19,
   "metadata": {},
   "outputs": [
    {
     "name": "stdout",
     "output_type": "stream",
     "text": [
      "1 -> 2 -> 3 -> 4 -> 5\n"
     ]
    }
   ],
   "source": [
    "# method to print linked list\n",
    "def print_linkedlist(main_head):\n",
    "    # execute a loop until main_head points to None\n",
    "    while main_head.next!= None:\n",
    "        # print the data of current node\n",
    "        print(str(main_head.data) + ' -> ', end = '')\n",
    "        # points the execution control to next node\n",
    "        main_head = main_head.next\n",
    "    # print the last node data\n",
    "    print(main_head.data)\n",
    "# call the function \n",
    "print_linkedlist(main_head)\n"
   ]
  },
  {
   "cell_type": "markdown",
   "metadata": {},
   "source": [
    "* method to find size of linked list"
   ]
  },
  {
   "cell_type": "code",
   "execution_count": 20,
   "metadata": {},
   "outputs": [
    {
     "data": {
      "text/plain": [
       "5"
      ]
     },
     "execution_count": 20,
     "metadata": {},
     "output_type": "execute_result"
    }
   ],
   "source": [
    "# method to find size of linked list\n",
    "def linkedlist_size(main_head):\n",
    "    # initialize a variable to store length\n",
    "    length = 0\n",
    "    # execute a loop until main_head points to None\n",
    "    while(main_head!=None):\n",
    "        # increase the value of length by 1 at each iteration\n",
    "        length += 1\n",
    "        # points the execution control to next node\n",
    "        main_head=main_head.next\n",
    "    # return the length \n",
    "    return length\n",
    "# call the function\n",
    "linkedlist_size(main_head)"
   ]
  },
  {
   "cell_type": "markdown",
   "metadata": {},
   "source": [
    "##### Problem 1: Reverse a singly linked list.\n",
    "* Input: 1 -> 2 -> 3 -> 4 -> 5\n",
    "* Output: 5 -> 4 -> 3 -> 2 -> 1"
   ]
  },
  {
   "cell_type": "code",
   "execution_count": 21,
   "metadata": {},
   "outputs": [
    {
     "name": "stdout",
     "output_type": "stream",
     "text": [
      "5 -> 4 -> 3 -> 2 -> 1\n"
     ]
    }
   ],
   "source": [
    "# method to reverse this list\n",
    "def reverse_list(node):\n",
    "    # base condition: if execution reaches to last node then make it head for new reversed linked list\n",
    "    if node.next == None: \n",
    "        head = node\n",
    "        # return the tuple of head and tail (denoted by node)\n",
    "        return (node, head)\n",
    "    # if it is not the last node then call the reverse_list function and passes the next node to this function\n",
    "    # it wil return the revsered list with head and tail(denoted by tail)\n",
    "    (tail, head) = reverse_list(node.next)\n",
    "    # put the current node to the next of tail\n",
    "    tail.next = node\n",
    "    # point the node.next to None\n",
    "    node.next = None\n",
    "    # now make the current node as tail \n",
    "    tail = tail.next\n",
    "    # return the head of reversed list and tail of reversed list\n",
    "    return (tail, head) \n",
    "# get the head and tail of reversed list by calling reverse_list() methos\n",
    "(ans_tail, ans_head)=reverse_list(main_head)\n",
    "# print the reverse list\n",
    "print_linkedlist(ans_head)"
   ]
  },
  {
   "cell_type": "markdown",
   "metadata": {},
   "source": [
    "##### Problem 2: Merge two sorted linked lists into one sorted linked list.\n",
    "* Input: List 1: 1 -> 3 -> 5, List 2: 2 -> 4 -> 6\n",
    "* Output: 1 -> 2 -> 3 -> 4 -> 5 -> 6"
   ]
  },
  {
   "cell_type": "code",
   "execution_count": 22,
   "metadata": {},
   "outputs": [
    {
     "name": "stdout",
     "output_type": "stream",
     "text": [
      "List1 -:\n",
      "1 -> 3 -> 6\n",
      "List2 -:\n",
      "2 -> 4 -> 5\n"
     ]
    }
   ],
   "source": [
    "# Linked List creation\n",
    "# create nodes\n",
    "head1 = Node(1)\n",
    "head2 = Node(2)\n",
    "node2 = Node(3)\n",
    "node3 = Node(6)\n",
    "node4 = Node(4)\n",
    "node5 = Node(5)\n",
    "# link all the nodes to one another in a sequence\n",
    "head1.next = node2 \n",
    "node2.next = node3 \n",
    "head2.next = node4 \n",
    "node4.next = node5\n",
    "\n",
    "# print lists\n",
    "print(\"List1 -:\")\n",
    "print_linkedlist(head1)\n",
    "print(\"List2 -:\")\n",
    "print_linkedlist(head2)"
   ]
  },
  {
   "cell_type": "code",
   "execution_count": 23,
   "metadata": {},
   "outputs": [
    {
     "name": "stdout",
     "output_type": "stream",
     "text": [
      "1 -> 2 -> 3 -> 4 -> 5 -> 6\n"
     ]
    }
   ],
   "source": [
    "# create a method to merge the sorted list\n",
    "def merge_sorted_list(h1, h2):\n",
    "    # initialize a variable to store the head of merged list\n",
    "    new_head = None\n",
    "    # initialize a variable to store nodes for merging \n",
    "    temp = None\n",
    "    # if head data of first list if smaller than head data of second list\n",
    "    if h1.data<h2.data:\n",
    "        # assign h1 to new head\n",
    "        new_head = h1 \n",
    "        # put h1 to temp\n",
    "        temp = h1 \n",
    "        # h1 points to next node of list\n",
    "        h1 = h1.next\n",
    "    # otherwise\n",
    "    else:\n",
    "        # assign h2 to new head\n",
    "        new_head = h2 \n",
    "        # put h2 to temp\n",
    "        temp = h2 \n",
    "        # h2 points to next node of list\n",
    "        h2 = h2.next\n",
    "    # iterate a loop until h1 is none and h2 is none\n",
    "    while h1!= None and h2!=None:\n",
    "        # if head data of first list if smaller than head data of second list\n",
    "        if h1.data<h2.data: \n",
    "            # assign h1 to temp.next\n",
    "            temp.next = h1 \n",
    "            # temp points to next of temp\n",
    "            temp = temp.next\n",
    "            # h1 points to next node of list\n",
    "            h1 = h1.next\n",
    "        # otherwise\n",
    "        else:\n",
    "            # assign h2 to temp.next\n",
    "            temp.next = h2\n",
    "            # temp points to next of temp\n",
    "            temp = temp.next\n",
    "            # h2 points to next node of list\n",
    "            h2 = h2.next\n",
    "    # iterate a loop until h1 is none\n",
    "    while h1!=None:\n",
    "        # put h1 to temp.next\n",
    "        temp.next = h1 \n",
    "        # temp points to next of temp\n",
    "        temp = temp.next \n",
    "        # h1 points to next node of list\n",
    "        h1 = h1.next\n",
    "    # iterate a loop until h2 is none\n",
    "    while h2!=None:\n",
    "        # put h2 to temp.next\n",
    "        temp.next = h2 \n",
    "        # temp points to next of temp\n",
    "        temp = temp.next \n",
    "        # h2 points to next node of list\n",
    "        h2 = h2.next\n",
    "    # return new_head node of merged list\n",
    "    return new_head\n",
    "# merge the linked list by calling merge_sorted_list\n",
    "merger_linked_list = merge_sorted_list(head1, head2)\n",
    "# print the linked list\n",
    "print_linkedlist(merger_linked_list)"
   ]
  },
  {
   "cell_type": "markdown",
   "metadata": {},
   "source": [
    "Problem 3: Remove the nth node from the end of a linked list.\n",
    "* Input: 1 -> 2 -> 3 -> 4 -> 5, n = 2\n",
    "* Output: 1 -> 2 -> 3 -> 5"
   ]
  },
  {
   "cell_type": "code",
   "execution_count": 24,
   "metadata": {},
   "outputs": [
    {
     "name": "stdout",
     "output_type": "stream",
     "text": [
      "1 -> 2 -> 3 -> 5\n"
     ]
    }
   ],
   "source": [
    "# Linked List creation-\n",
    "\n",
    "# create 5 nodes\n",
    "main_head = Node(1)\n",
    "node2 = Node(2)\n",
    "node3 = Node(3)\n",
    "node4 = Node(4)\n",
    "node5 = Node(5)\n",
    "\n",
    "# link all the nodes to one another in a sequence\n",
    "main_head.next = node2 \n",
    "node2.next = node3 \n",
    "node3.next = node4 \n",
    "node4.next = node5\n",
    "\n",
    "\n",
    "\n",
    "# create a method to remove nth node from last\n",
    "def remove_last_nth_node(node, n):\n",
    "    # assign node to head variable\n",
    "    head = node \n",
    "    # find length of linkedlist size\n",
    "    length = linkedlist_size(node)\n",
    "    # get the index for node to be deleted.\n",
    "    index = length-n\n",
    "    # if index is less than 0\n",
    "    if index<0:\n",
    "        # return invalid position\n",
    "        return \"invalid position for deletion\"\n",
    "    # if index is 0\n",
    "    elif index == 0:\n",
    "        # return next of node\n",
    "        return node.next \n",
    "    # otherwise\n",
    "    else:\n",
    "        # execute a loop for index-1\n",
    "        for i in range(index-1):\n",
    "            # set pointer to next node\n",
    "            node = node.next \n",
    "        # point node.next to next of next of node\n",
    "        node.next = node.next.next \n",
    "    # return the head node of list after deletion\n",
    "    return head \n",
    "# get the new_list after deleting the nth node from last using remove_last_nth_node()\n",
    "new_list = remove_last_nth_node(main_head,2)\n",
    "# print the list\n",
    "print_linkedlist(new_list)\n",
    "        \n",
    "\n",
    "\n"
   ]
  },
  {
   "cell_type": "markdown",
   "metadata": {},
   "source": [
    "##### Problem 4: Find the intersection point of two linked lists.\n",
    "* Input: List 1: 1 -> 2 -> 3 -> 4, List 2: 9 -> 8 -> 3 -> 4\n",
    "* Output: Node with value 3"
   ]
  },
  {
   "cell_type": "code",
   "execution_count": 25,
   "metadata": {},
   "outputs": [
    {
     "name": "stdout",
     "output_type": "stream",
     "text": [
      "List1 -:\n",
      "1 -> 3 -> 4 -> 8 -> 9\n",
      "List2 -:\n",
      "2 -> 5 -> 6 -> 4 -> 8 -> 9\n"
     ]
    }
   ],
   "source": [
    "# Linked Lists creation\n",
    "head1 = Node(1)\n",
    "head2 = Node(2)\n",
    "node2 = Node(3)\n",
    "node3 = Node(4)\n",
    "node4 = Node(5)\n",
    "node5 = Node(6)\n",
    "node6 = Node(7)\n",
    "node7 = Node(8)\n",
    "node8 = Node(9)\n",
    "head1.next = node2 \n",
    "node2.next = node3 \n",
    "node3.next = node7\n",
    "node7.next = node8\n",
    "head2.next = node4 \n",
    "node4.next = node5\n",
    "node5.next = node3\n",
    "\n",
    "print(\"List1 -:\")\n",
    "print_linkedlist(head1)\n",
    "print(\"List2 -:\")\n",
    "print_linkedlist(head2)"
   ]
  },
  {
   "cell_type": "code",
   "execution_count": 26,
   "metadata": {},
   "outputs": [
    {
     "name": "stdout",
     "output_type": "stream",
     "text": [
      "Intersection of both linked lists: 4\n"
     ]
    }
   ],
   "source": [
    "# create a method to get intersection point of 2 linked lists\n",
    "def get_intersection(small_head, large_head, s, l):\n",
    "    # initialize a variable to store node\n",
    "    node = None \n",
    "    # if length of smaller list is lesser than length of larger list\n",
    "    # this is basically to call the function recursively until s is equal to ll\n",
    "    if s<l:\n",
    "        # call the function and decrease value of l by 1 while passing value of l\n",
    "        node = get_intersection(small_head, large_head.next, s, l-1)\n",
    "    # next of small head is not none and  next of large head is not none \n",
    "    elif small_head.next!=None and large_head.next!=None:\n",
    "        # get the intersection \n",
    "        node = get_intersection(small_head.next, large_head.next, s-1, l-1)\n",
    "    # if small head == large head then return small_head\n",
    "    if small_head == large_head:\n",
    "        return small_head\n",
    "    # otherwise node\n",
    "    else:\n",
    "        return node\n",
    "# get size of linked lists \n",
    "size1 = linkedlist_size(head1)\n",
    "size2 = linkedlist_size(head2)\n",
    "# get the small list and large list out of the 2 lists\n",
    "small_head = head1 if size1<size2 else head2 \n",
    "large_head = head1 if size1>size2 else head2\n",
    "# get the length of smaller list and larger list\n",
    "s,l = min(size1,size2), max(size1, size2) \n",
    "# get intersection of 2 lists using get_intersection()\n",
    "node = get_intersection(small_head, large_head, s, l)\n",
    "# print the intersection node\n",
    "print(\"Intersection of both linked lists:\", node.data)\n"
   ]
  },
  {
   "cell_type": "markdown",
   "metadata": {},
   "source": [
    "##### Problem 5: Remove duplicates from a sorted linked list.\n",
    "* Input: 1 -> 1 -> 2 -> 3 -> 3\n",
    "* Output: 1 -> 2 -> 3"
   ]
  },
  {
   "cell_type": "code",
   "execution_count": 27,
   "metadata": {},
   "outputs": [
    {
     "name": "stdout",
     "output_type": "stream",
     "text": [
      "Original list :-\n",
      "1 -> 2 -> 4 -> 4 -> 5\n",
      "list after deleting duplicates :-\n",
      "1 -> 2 -> 4 -> 5\n"
     ]
    }
   ],
   "source": [
    "# create method to remove duplicates  \n",
    "def  remove_duplicate(head):\n",
    "    # initialize a variable to store previous node for duplicate node\n",
    "    # initially head is assigned to it\n",
    "    prev = head \n",
    "    # assign next of head to node\n",
    "    node = head.next \n",
    "    # execute a loop until node is not none\n",
    "    while node!=None:\n",
    "        # if data of previous node is equal to data of current node it means current node is duplicate of previous node\n",
    "        if prev.data == node.data :\n",
    "            # set next of prev node to next of next of prev node\n",
    "            prev.next = prev.next.next\n",
    "            # point the node to next of node\n",
    "            node = node.next \n",
    "        # otherwise\n",
    "        else:\n",
    "            # put node in prev\n",
    "            prev = node \n",
    "            # point the node to next of node\n",
    "            node = node.next \n",
    "# Linked List creation\n",
    "main_head = Node(1)\n",
    "node2 = Node(2)\n",
    "node3 = Node(4)\n",
    "node4 = Node(4)\n",
    "node5 = Node(5)\n",
    "\n",
    "main_head.next = node2 \n",
    "node2.next = node3 \n",
    "node3.next = node4 \n",
    "node4.next = node5\n",
    "print(\"Original list :-\")\n",
    "print_linkedlist(main_head)\n",
    "# call the method remove_duplicate() to remove the duplicate nodes \n",
    "remove_duplicate(main_head)\n",
    "print(\"list after deleting duplicates :-\")\n",
    "# print the list after deletion\n",
    "print_linkedlist(main_head)"
   ]
  },
  {
   "cell_type": "markdown",
   "metadata": {},
   "source": [
    "##### Problem 6: Add two numbers represented by linked lists (where each node contains a single digit).\n",
    "* Input: List 1: 2 -> 4 -> 3, List 2: 5 -> 6 -> 4 (represents 342 + 465)\n",
    "* Output: 7 -> 0 -> 8 (represents 807)"
   ]
  },
  {
   "cell_type": "code",
   "execution_count": 28,
   "metadata": {},
   "outputs": [
    {
     "name": "stdout",
     "output_type": "stream",
     "text": [
      "List1 -:\n",
      "2 -> 4 -> 3\n",
      "List2 -:\n",
      "5 -> 6 -> 9\n"
     ]
    }
   ],
   "source": [
    "# Linked List creation\n",
    "head1 = Node(2)\n",
    "head2 = Node(5)\n",
    "node2 = Node(4)\n",
    "node3 = Node(3)\n",
    "node4 = Node(6)\n",
    "node5 = Node(9)\n",
    "\n",
    "head1.next = node2 \n",
    "node2.next = node3 \n",
    "head2.next = node4 \n",
    "node4.next = node5\n",
    "\n",
    "print(\"List1 -:\")\n",
    "print_linkedlist(head1)\n",
    "print(\"List2 -:\")\n",
    "print_linkedlist(head2)"
   ]
  },
  {
   "cell_type": "code",
   "execution_count": 29,
   "metadata": {},
   "outputs": [
    {
     "name": "stdout",
     "output_type": "stream",
     "text": [
      "7 -> 0 -> 3 -> 1\n"
     ]
    }
   ],
   "source": [
    "# method to add 2 numbers \n",
    "def addition(head1, head2):\n",
    "    # initialize ans_head for storing answer\n",
    "    ans_head = Node()\n",
    "    # get a temparary variable to calculate sum\n",
    "    temp = ans_head\n",
    "    # initialize 2 variables to store addition and carry of sum\n",
    "    add = 0\n",
    "    carry=0\n",
    "    # execute a loop until head1 is None and head2 is none\n",
    "    while(head1!=None or head2!=None):\n",
    "        # initialize add to 0\n",
    "        add = 0\n",
    "        # if both nodes are node none\n",
    "        if head1!=None and head2!=None:\n",
    "            # add the data of both nodes and carry\n",
    "            add = head1.data+head2.data+ carry\n",
    "        # if head1 is not none\n",
    "        elif head1!=None:\n",
    "            # store sum of carry and head1.data\n",
    "            add = head1.data+ carry\n",
    "        # otherwise\n",
    "        else:\n",
    "            # store sum of carry and head2.data\n",
    "            add = head2.data+ carry \n",
    "        # calculate the carry\n",
    "        carry = add//10\n",
    "        # calculate the remainder \n",
    "        rem = add%10\n",
    "        # put new Node in temp.next\n",
    "        temp.next = Node()\n",
    "        # point temp to temp.next\n",
    "        temp = temp.next \n",
    "        # put remainder to temp.data\n",
    "        temp.data = rem\n",
    "        # point head1 to head1.next\n",
    "        head1 = head1.next \n",
    "        # point head1 to head1.next\n",
    "        head2 = head2.next\n",
    "    # if carry is greater than 0 then create a node with data as carry and put it in temp.next\n",
    "    if carry>0:\n",
    "        temp.next = Node(carry)\n",
    "    # return ans_head.next\n",
    "    return ans_head.next\n",
    "# print the list after addition using addition() method\n",
    "print_linkedlist(addition(head1, head2))\n",
    "        "
   ]
  },
  {
   "cell_type": "markdown",
   "metadata": {},
   "source": [
    "##### Problem 7: Swap nodes in pairs in a linked list.\n",
    "* Input: 1 -> 2 -> 3 -> 4\n",
    "* Output: 2 -> 1 -> 4 -> 3"
   ]
  },
  {
   "cell_type": "code",
   "execution_count": 30,
   "metadata": {},
   "outputs": [
    {
     "name": "stdout",
     "output_type": "stream",
     "text": [
      "Original list :-\n",
      "1 -> 2 -> 3 -> 4 -> 5\n"
     ]
    }
   ],
   "source": [
    "# Linked List creation\n",
    "main_head = Node(1)\n",
    "node2 = Node(2)\n",
    "node3 = Node(3)\n",
    "node4 = Node(4)\n",
    "node5 = Node(5)\n",
    "\n",
    "main_head.next = node2 \n",
    "node2.next = node3 \n",
    "node3.next = node4 \n",
    "node4.next = node5\n",
    "print(\"Original list :-\")\n",
    "print_linkedlist(main_head)"
   ]
  },
  {
   "cell_type": "code",
   "execution_count": 31,
   "metadata": {},
   "outputs": [
    {
     "name": "stdout",
     "output_type": "stream",
     "text": [
      "2 -> 1 -> 4 -> 3 -> 5\n"
     ]
    }
   ],
   "source": [
    "# method for swapping in pairs\n",
    "def swap_pairs(head):\n",
    "    # if list has zero node or one node\n",
    "    if head==None or head.next==None:\n",
    "        # return the head node \n",
    "        return head \n",
    "    # initialize ans_head with head.next as the head node of answer list\n",
    "    ans_head = head.next\n",
    "    # set prev variable to a new Node \n",
    "    prev = Node()\n",
    "    # execute a loop until head is None and head.next is None to swap the pairs in linkedlist\n",
    "    while head!=None and head.next!=None:\n",
    "        # put next of head to nxt\n",
    "        nxt = head.next \n",
    "        # put nxt.next in head.next\n",
    "        head.next = nxt.next \n",
    "        # put nxt node on next of prev\n",
    "        prev.next = nxt \n",
    "        # put head to next of nxt node\n",
    "        nxt.next = head \n",
    "        # assign head to prev \n",
    "        prev= head \n",
    "        # point head to head.next\n",
    "        head= head.next\n",
    "    # return the ans_head \n",
    "    return ans_head\n",
    "# print the linkedlist after swapping of nodes in pair using swap_pairs() method\n",
    "print_linkedlist(swap_pairs(main_head))"
   ]
  },
  {
   "cell_type": "markdown",
   "metadata": {},
   "source": [
    "##### Problem 8: Reverse nodes in a linked list in groups of k.\n",
    "* Input: 1 -> 2 -> 3 -> 4 -> 5, k = 3\n",
    "* Output: 3 -> 2 -> 1 -> 4 -> 5"
   ]
  },
  {
   "cell_type": "code",
   "execution_count": 32,
   "metadata": {},
   "outputs": [
    {
     "name": "stdout",
     "output_type": "stream",
     "text": [
      "3 -> 2 -> 1 -> 6 -> 5 -> 4 -> 7\n"
     ]
    }
   ],
   "source": [
    "# Linked List creation\n",
    "main_head = Node(1)\n",
    "node2 = Node(2)\n",
    "node3 = Node(3)\n",
    "node4 = Node(4)\n",
    "node5 = Node(5)\n",
    "node6 = Node(6)\n",
    "node7 = Node(7)\n",
    "main_head.next = node2 \n",
    "node2.next = node3 \n",
    "node3.next = node4 \n",
    "node4.next = node5\n",
    "node5.next = node6 \n",
    "node6.next = node7\n",
    "\n",
    "# create a method to reverse the list\n",
    "def reverse_list(node):\n",
    "    # if excution comes to last node of linked list\n",
    "    if node.next == None: \n",
    "        # assign the node to head\n",
    "        head = node\n",
    "        # return a tuple of tail and head of new reverse list\n",
    "        return (node, head)\n",
    "    # get the tail and head of reversed list from node.next\n",
    "    (tail, head) = reverse_list(node.next)\n",
    "    # assign current node to next of tail of reversed list\n",
    "    tail.next = node\n",
    "    # put None to current node.next\n",
    "    node.next = None \n",
    "    # return tuple with tail and head of reversed list\n",
    "    return (node, head) \n",
    "\n",
    "# create a method to reverse the list in groups of k\n",
    "def reverse_kk(main_head, num):\n",
    "    # put num in k\n",
    "    k = num\n",
    "    # get length of linkedlist\n",
    "    length = linkedlist_size(main_head)\n",
    "    # get the number of times loop has to be execute to reverse the list in groups of k\n",
    "    rotations = length//k \n",
    "    # set flag as true \n",
    "    flag = True \n",
    "    # set prev to main_head\n",
    "    prev = main_head\n",
    "    # set head to main_head\n",
    "    head = main_head\n",
    "    # execute the loop until rotations>0\n",
    "    while rotations>0:\n",
    "        # set temp with head\n",
    "        temp = head \n",
    "        # execute a loop until k>1 to get k nodes of list\n",
    "        while k>1:\n",
    "            # point head to head.next\n",
    "            head = head.next\n",
    "            # decrease k by 1\n",
    "            k-=1\n",
    "        # set new_head to head.next\n",
    "        new_head= head.next \n",
    "        # set head.next to none\n",
    "        head.next = None \n",
    "        # get the first and last of reversed list\n",
    "        last, first = reverse_list(temp)\n",
    "        # if flag is true\n",
    "        if flag:\n",
    "            # if means this is the first time k nodes are reversed so main head will be pointed to first node\n",
    "            main_head = first \n",
    "            # set flag to false\n",
    "            flag = False\n",
    "        # set prev.next to first\n",
    "        prev.next = first\n",
    "        # set prev to last\n",
    "        prev = last \n",
    "        # set next of last node of newly reversed list to new_head\n",
    "        prev.next = new_head\n",
    "        # set head to new_head\n",
    "        head = new_head\n",
    "        # decrease the rotations by 1\n",
    "        rotations -=1\n",
    "        # set k = num\n",
    "        k = num\n",
    "    # return the main head after reversing list in pair of groups of k \n",
    "    return main_head\n",
    "# get the reversed list using method reverse__k() \n",
    "_head = reverse_kk(main_head,3)\n",
    "# print the linked list after reversal\n",
    "print_linkedlist(_head)"
   ]
  },
  {
   "cell_type": "markdown",
   "metadata": {},
   "source": [
    "##### Problem 9: Determine if a linked list is a palindrome.\n",
    "* Input: 1 -> 2 -> 2 -> 1\n",
    "* Output: True"
   ]
  },
  {
   "cell_type": "code",
   "execution_count": 33,
   "metadata": {},
   "outputs": [
    {
     "name": "stdout",
     "output_type": "stream",
     "text": [
      "Original list :-\n",
      "1 -> 2 -> 3 -> 2 -> 1\n"
     ]
    }
   ],
   "source": [
    "# Linked List creation\n",
    "main_head = Node(1)\n",
    "node2 = Node(2)\n",
    "node3 = Node(3)\n",
    "node4 = Node(2)\n",
    "node5 = Node(1)\n",
    "\n",
    "main_head.next = node2 \n",
    "node2.next = node3 \n",
    "node3.next = node4 \n",
    "node4.next = node5\n",
    "print(\"Original list :-\")\n",
    "print_linkedlist(main_head)"
   ]
  },
  {
   "cell_type": "code",
   "execution_count": 34,
   "metadata": {},
   "outputs": [
    {
     "name": "stdout",
     "output_type": "stream",
     "text": [
      "Palindrome Linked List -: True\n"
     ]
    }
   ],
   "source": [
    "# create a method to find if linked is palindrome or not\n",
    "def is_palindrome(head):\n",
    "    # create a variable to store the string by using data of nodes in linked list\n",
    "    st = \"\"\n",
    "    # execute a loop until head is None\n",
    "    while head!=None:\n",
    "        # add each data value of each node in st string\n",
    "        st+= str(head.data)\n",
    "        # point the head to head.next\n",
    "        head = head.next\n",
    "    # check if st is equal to reverse of st and return result\n",
    "    return st[::-1] == st \n",
    "# check if linkedlist is palindrome or not using is_palindrome() method\n",
    "print(\"Palindrome Linked List -:\", is_palindrome(main_head))"
   ]
  },
  {
   "cell_type": "markdown",
   "metadata": {},
   "source": [
    "##### Problem 10: Rotate a linked list to the right by k places.\n",
    "* Input: 1 -> 2 -> 3 -> 4 -> 5, k = 2\n",
    "* Output: 4 -> 5 -> 1 -> 2 -> 3"
   ]
  },
  {
   "cell_type": "code",
   "execution_count": 35,
   "metadata": {},
   "outputs": [
    {
     "name": "stdout",
     "output_type": "stream",
     "text": [
      "Original list :-\n",
      "1 -> 2 -> 3 -> 4 -> 5\n",
      "Rotated list -:\n",
      "3 -> 4 -> 5 -> 1 -> 2\n"
     ]
    }
   ],
   "source": [
    "# Linked List creation\n",
    "main_head = Node(1)\n",
    "node2 = Node(2)\n",
    "node3 = Node(3)\n",
    "node4 = Node(4)\n",
    "node5 = Node(5)\n",
    "\n",
    "main_head.next = node2 \n",
    "node2.next = node3 \n",
    "node3.next = node4 \n",
    "node4.next = node5\n",
    "print(\"Original list :-\")\n",
    "print_linkedlist(main_head)\n",
    "\n",
    "# create a method to rotate list by k places \n",
    "def rotate_by_k(head,k):\n",
    "    # get the size of linkedlist using linkedlist_size() method \n",
    "    size = linkedlist_size(head)\n",
    "    # get the exact places by which rotation is needed\n",
    "    k = k%size \n",
    "    # get index for which rotation needed\n",
    "    ind = size - k\n",
    "    # last_node to store node of list\n",
    "    last_node  = head \n",
    "    # set temp to head\n",
    "    temp = head \n",
    "    # set ans_head to head to store the head of new rotated list after rotation operation\n",
    "    ans_head = head \n",
    "    # execute a loop until last_node.next is None\n",
    "    while(last_node.next!=None):\n",
    "        # set last_node to next of last_node \n",
    "        last_node = last_node.next\n",
    "    # set next of last_node to head \n",
    "    last_node.next = head \n",
    "    # execute a loop till range ind-1 i.e. location of node after which rotation is needed\n",
    "    for i in range(ind-1):\n",
    "        # set temp to temp.next\n",
    "        temp = temp.next \n",
    "    # put temp.next to ans_head\n",
    "    ans_head =  temp.next\n",
    "    # set temp.next to none\n",
    "    temp.next = None \n",
    "    # return the head of rotated list\n",
    "    return ans_head\n",
    "# driver code\n",
    "print(\"Rotated list -:\") \n",
    "print_linkedlist(rotate_by_k(main_head,3))\n",
    "    \n",
    "    "
   ]
  },
  {
   "cell_type": "markdown",
   "metadata": {},
   "source": [
    "##### Problem 11: Flatten a multilevel doubly linked list.\n",
    "* Input: 1 <-> 2 <-> 3 <-> 7 <-> 8 <-> 11 -> 12, 4 <-> 5 -> 9 -> 10, 6 -> 13\n",
    "* Output: 1 <-> 2 <-> 3 <-> 4 <-> 5 <-> 6 <-> 7 <-> 8 <-> 9 <-> 10 <-> 11 <-> 12 <-> 13"
   ]
  },
  {
   "cell_type": "code",
   "execution_count": 36,
   "metadata": {},
   "outputs": [
    {
     "name": "stdout",
     "output_type": "stream",
     "text": [
      "1 <-> 3 <-> 5 <-> 7\n",
      "length of list1 : 4\n",
      "2 <-> 4 <-> 6 <-> 8 <-> 9\n",
      "length of list1 : 5\n",
      "1 <-> 2 <-> 3 <-> 4 <-> 5 <-> 6 <-> 7 <-> 8 <-> 9\n"
     ]
    }
   ],
   "source": [
    "# create a doubly node\n",
    "class DNode:\n",
    "    # define constructor\n",
    "    def __init__(self, data = None, next = None, prev = None) -> None:\n",
    "        self.__data = data \n",
    "        self.__next = next \n",
    "        self.__prev = prev\n",
    "    # define getter and setter for data \n",
    "    @property\n",
    "    def data(self):\n",
    "        return self.__data\n",
    "\n",
    "    @data.setter\n",
    "    def data(self, data=None):\n",
    "        self.__data = data \n",
    "    # define getter and setter for next pointer\n",
    "    @property\n",
    "    def next(self):\n",
    "        return self.__next\n",
    "\n",
    "    @next.setter\n",
    "    def next(self, next=None):\n",
    "        self.__next = next \n",
    "    # define getter and setter for previous node pointer\n",
    "    @property\n",
    "    def prev(self):\n",
    "        return self.__prev\n",
    "\n",
    "    @prev.setter\n",
    "    def prev(self, prev=None):\n",
    "        self.__prev = prev \n",
    "# doubly linked list \n",
    "node1 = DNode(1)\n",
    "node3= DNode(3)\n",
    "node5 = DNode(5)\n",
    "node7 = DNode(7)\n",
    "node1.next = node3\n",
    "node3.prev = node1\n",
    "node3.next = node5\n",
    "node5.prev = node3\n",
    "node5.next = node7 \n",
    "node7.prev = node5\n",
    "\n",
    "node2 = DNode(2)\n",
    "node4= DNode(4)\n",
    "node6 = DNode(6)\n",
    "node8 = DNode(8)\n",
    "node9 = DNode(9)\n",
    "node2.next = node4\n",
    "node4.prev = node2\n",
    "node4.next = node6\n",
    "node6.prev = node4\n",
    "node6.next = node8 \n",
    "node8.prev = node6\n",
    "node8.next = node9\n",
    "node9.prev = node8\n",
    "\n",
    "# method to find size of linked list\n",
    "def doubly_linkedlist_size(main_head):\n",
    "    length = 0\n",
    "    while(main_head!=None):\n",
    "        length += 1\n",
    "        main_head=main_head.next\n",
    "    return length\n",
    "\n",
    "# method to print linked list\n",
    "def print_doubly_linkedlist(main_head):\n",
    "    while main_head.next!= None:\n",
    "        print(str(main_head.data) + ' <-> ', end = '')\n",
    "        main_head = main_head.next\n",
    "    print(main_head.data)\n",
    "\n",
    "print_doubly_linkedlist(node1)\n",
    "print(\"length of list1 :\",doubly_linkedlist_size(node1))\n",
    "print_doubly_linkedlist(node2)\n",
    "print(\"length of list1 :\",doubly_linkedlist_size(node2))\n",
    "\n",
    "\n",
    "# create method to flatten the doubly linked lists into one\n",
    "def flatten(node1, node2):\n",
    "    # create a doubly node object\n",
    "    node = DNode()\n",
    "    # initialize ans_node to store the head of flatten linkedlist\n",
    "    ans_node = node\n",
    "    # execute a loop until node1 is none and node2 is none\n",
    "    while node1!=None and node2!=None:\n",
    "        # if data of node 1 is smaller than data of node2\n",
    "        if node1.data<node2.data:\n",
    "            # put node1 in node.next\n",
    "            node.next = node1\n",
    "            # /set prev pointer of node1 to node\n",
    "            node1.prev = node \n",
    "            # set node1 to node1.next\n",
    "            node1 = node1.next\n",
    "            # set node to node.next\n",
    "            node = node.next\n",
    "            #  put none to node.next\n",
    "            node.next= None \n",
    "        # otherwise \n",
    "        else:\n",
    "            # put node2 in node.next\n",
    "            node.next = node2\n",
    "            # set prev pointer of node2 to node\n",
    "            node2.prev = node \n",
    "            # set node2 to node1.next\n",
    "            node2 = node2.next\n",
    "            # set node to node.next\n",
    "            node = node.next\n",
    "            #  put none to node.next\n",
    "            node.next= None \n",
    "    # execute a loop until node1 is none\n",
    "    while node1!=None:\n",
    "        # put node1 in node.next\n",
    "        node.next = node1\n",
    "        # /set prev pointer of node1 to node\n",
    "        node1.prev = node \n",
    "        # set node1 to node1.next\n",
    "        node1 = node1.next\n",
    "        # set node to node.next\n",
    "        node = node.next\n",
    "        #  put none to node.next\n",
    "        node.next= None \n",
    "    # execute a loop until node2 is none\n",
    "    while node2!=None:\n",
    "        # put node2 in node.next\n",
    "        node.next = node2\n",
    "        # set prev pointer of node2 to node\n",
    "        node2.prev = node \n",
    "        # set node2 to node1.next\n",
    "        node2 = node2.next\n",
    "        # set node to node.next\n",
    "        node = node.next\n",
    "        #  put none to node.next\n",
    "        node.next= None \n",
    "    # return the next node of ans_head as head of flatten doubly linked list\n",
    "    return ans_node.next \n",
    "# print the flatten doubly linkedlist\n",
    "print_doubly_linkedlist(flatten(node1, node2))"
   ]
  },
  {
   "cell_type": "markdown",
   "metadata": {},
   "source": [
    "##### Problem 12: Rearrange a linked list such that all even positioned nodes are placed at the end.\n",
    "* Input: 1 -> 2 -> 3 -> 4 -> 5\n",
    "* Output: 1 -> 3 -> 5 -> 2 -> 4"
   ]
  },
  {
   "cell_type": "code",
   "execution_count": 37,
   "metadata": {},
   "outputs": [
    {
     "name": "stdout",
     "output_type": "stream",
     "text": [
      "1 -> 3 -> 5 -> 2 -> 4\n"
     ]
    }
   ],
   "source": [
    "# create a method to position even nodes at end-]\n",
    "def even_end(head):\n",
    "    # create a node to store odd value node\n",
    "    odd = Node()\n",
    "    # initialize odd_ans to store head of odd values linkedlist\n",
    "    odd_ans = odd\n",
    "    # create a node to store even value node\n",
    "    even = Node()\n",
    "    # initialize even_ans to store head of odd values linkedlist\n",
    "    even_ans = even\n",
    "    # execute the loop until head is not none\n",
    "    while head!=None:\n",
    "        # if data in head node is even \n",
    "        if head.data%2 == 0:\n",
    "            # put head in even.next\n",
    "            even.next = head\n",
    "            # set head to head.next\n",
    "            head = head.next \n",
    "            # point even to even.next\n",
    "            even = even.next \n",
    "            # set even.next to None\n",
    "            even.next = None \n",
    "        # otherwise\n",
    "        else :\n",
    "            # put head in odd.next\n",
    "            odd.next = head\n",
    "            # set head to head.next\n",
    "            head = head.next \n",
    "            # point odd to odd.next\n",
    "            odd = odd.next \n",
    "            # set odd.next to None\n",
    "            odd.next = None\n",
    "    # set add the even linkedlist to the end of odd values linkedlist\n",
    "    odd.next = even_ans.next \n",
    "    # return the next of odd_ans\n",
    "    return odd_ans.next \n",
    "\n",
    "# driver code\n",
    "# Linked List creation\n",
    "main_head = Node(1)\n",
    "node2 = Node(2)\n",
    "node3 = Node(3)\n",
    "node4 = Node(4)\n",
    "node5 = Node(5)\n",
    "\n",
    "main_head.next = node2 \n",
    "node2.next = node3 \n",
    "node3.next = node4 \n",
    "node4.next = node5\n",
    "\n",
    "# print the linked list after adding all even nodes to end \n",
    "print_linkedlist(even_end(main_head))\n"
   ]
  },
  {
   "cell_type": "markdown",
   "metadata": {},
   "source": [
    "##### Problem 13: Given a non-negative number represented as a linked list, add one to it.\n",
    "* Input: 1 -> 2 -> 3 (represents the number 123)\n",
    "* Output: 1 -> 2 -> 4 (represents the number 124)"
   ]
  },
  {
   "cell_type": "code",
   "execution_count": 38,
   "metadata": {},
   "outputs": [
    {
     "name": "stdout",
     "output_type": "stream",
     "text": [
      "Original list :-\n",
      "1 -> 9 -> 3 -> 9 -> 9\n",
      "1 -> 9 -> 4 -> 0 -> 0\n"
     ]
    }
   ],
   "source": [
    "# Linked List creation\n",
    "main_head = Node(1)\n",
    "node2 = Node(9)\n",
    "node3 = Node(3)\n",
    "node4 = Node(9)\n",
    "node5 = Node(9)\n",
    "\n",
    "main_head.next = node2 \n",
    "node2.next = node3 \n",
    "node3.next = node4 \n",
    "node4.next = node5\n",
    "print(\"Original list :-\")\n",
    "print_linkedlist(main_head)\n",
    "\n",
    "# create method to add one\n",
    "def add_one(head):\n",
    "    # if head.next is none ie.e current node is last node\n",
    "    if head.next==None:\n",
    "        # add 1 to head data and store sum in sm\n",
    "        sm = head.data+1 \n",
    "        # get carry if it exists\n",
    "        carry = sm//10\n",
    "        # put remainder of sum modulo 10 in head.data\n",
    "        head.data = sm%10 \n",
    "        # return the carry\n",
    "        return carry \n",
    "    # get carry when applied function add_one() to linked list from head.next \n",
    "    carry = add_one(head.next)\n",
    "    # add carry to head.data and store it in sm\n",
    "    sm = head.data+carry\n",
    "    # get carry\n",
    "    carry = sm//10\n",
    "    # put remainder in head.data\n",
    "    head.data = sm%10 \n",
    "    # return the carry\n",
    "    return carry \n",
    "# get carry from overall result of add_one() method\n",
    "carry = add_one(main_head)\n",
    "# if carry is greater then 0 then \n",
    "if carry>0:\n",
    "    # create a node with data as carry and next pointer point to main_head linkedlist and store it to ans node\n",
    "    ans = Node(carry, main_head)\n",
    "# otherwise\n",
    "else:\n",
    "    # put main_head to ans \n",
    "    ans = main_head\n",
    "# print the new linked list  \n",
    "print_linkedlist(ans)\n"
   ]
  },
  {
   "cell_type": "markdown",
   "metadata": {},
   "source": [
    "##### Problem 14: Given a sorted array and a target value, return the index if the target is found. If not, return the index where it would be inserted.\n",
    "* Input: nums = [1, 3, 5, 6], target = 5\n",
    "* Output: 2"
   ]
  },
  {
   "cell_type": "code",
   "execution_count": 39,
   "metadata": {},
   "outputs": [
    {
     "name": "stdout",
     "output_type": "stream",
     "text": [
      "Index is 2\n"
     ]
    }
   ],
   "source": [
    "# create a method to search target using binary search \n",
    "def search(arr, target):\n",
    "    # set i to 0\n",
    "    i = 0\n",
    "    # set j to length-1\n",
    "    j = len(arr)-1\n",
    "    mid = 0 \n",
    "    # execute the loop\n",
    "    while i<j and j>=0 and i<len(arr):\n",
    "        # get mid value between i and j\n",
    "        mid = (i+j)//2 \n",
    "        # if element at mid is eq. to target\n",
    "        if arr[mid] == target:\n",
    "            # return mid index\n",
    "            return mid \n",
    "        # if element at mid is less than target\n",
    "        elif arr[mid] < target:\n",
    "            # set i to mid+1\n",
    "            i = mid+1 \n",
    "        # otherwise\n",
    "        else :\n",
    "            # set j to mid\n",
    "            j = mid\n",
    "    # return jth index\n",
    "    return j \n",
    "# driver code\n",
    "print(\"Index is\", search([1,3,5,6,8,9,14], 4))\n"
   ]
  },
  {
   "cell_type": "markdown",
   "metadata": {},
   "source": [
    "##### Problem 15: Find the minimum element in a rotated sorted array.\n",
    "* Input: [4, 5, 6, 7, 0, 1, 2]\n",
    "* Output: 0"
   ]
  },
  {
   "cell_type": "code",
   "execution_count": 40,
   "metadata": {},
   "outputs": [
    {
     "name": "stdout",
     "output_type": "stream",
     "text": [
      "Smallest element : -12\n"
     ]
    }
   ],
   "source": [
    "# using binary search method\n",
    "def find_smallest(arr):\n",
    "    # get the length of array\n",
    "    n = len(arr)\n",
    "    # set i to 0\n",
    "    i = 0 \n",
    "    # set j to length -1 \n",
    "    j = n-1\n",
    "    x=0\n",
    "    # execute a loop til i<=j\n",
    "    while i<=j:\n",
    "        # get mid value between i and j\n",
    "        mid = (i+j)//2\n",
    "        # get the element before mid index\n",
    "        before = (mid-1+n)%n \n",
    "        # get the element aafter index mid\n",
    "        after = (mid+1)%n\n",
    "        # if mid element in range i and jth index is smaller than element at before and after\n",
    "        if arr[mid]<arr[after] and arr[mid]<=arr[before]:\n",
    "            # return mid index\n",
    "            x = mid \n",
    "            return x \n",
    "        # if element at mid index is greater than element at jth index\n",
    "        elif arr[mid]>arr[j]:\n",
    "            # set i to mid+1\n",
    "            i = mid+1\n",
    "        # if element at mid index is lesser than element at ith index\n",
    "        elif arr[mid]<arr[i]:\n",
    "            # set j to mid - 1\n",
    "            j = mid-1 \n",
    "        # otherwise return\n",
    "        else :\n",
    "            return\n",
    "# driver code\n",
    "arr = [15,18,19,-12,3,6,7,8,9]\n",
    "ind = find_smallest(arr)\n",
    "print(\"Smallest element :\",arr[ind])"
   ]
  },
  {
   "cell_type": "markdown",
   "metadata": {},
   "source": [
    "##### Problem 16: Search for a target value in a rotated sorted array.\n",
    "* Input: nums = [4, 5, 6, 7, 0, 1, 2], target = 0\n",
    "* Output: 4"
   ]
  },
  {
   "cell_type": "code",
   "execution_count": 41,
   "metadata": {},
   "outputs": [
    {
     "name": "stdout",
     "output_type": "stream",
     "text": [
      "Index is 5\n"
     ]
    }
   ],
   "source": [
    "# using binary search method\n",
    "def find_smallest(arr):\n",
    "    # get the length of array\n",
    "    n = len(arr)\n",
    "    # set i to 0\n",
    "    i = 0 \n",
    "    # set j to length -1 \n",
    "    j = n-1\n",
    "    x=0\n",
    "    # execute a loop til i<=j\n",
    "    while i<=j:\n",
    "        # get mid value between i and j\n",
    "        mid = (i+j)//2\n",
    "        # get the element before mid index\n",
    "        before = (mid-1+n)%n \n",
    "        # get the element aafter index mid\n",
    "        after = (mid+1)%n\n",
    "        # if mid element in range i and jth index is smaller than element at before and after\n",
    "        if arr[mid]<arr[after] and arr[mid]<=arr[before]:\n",
    "            # return mid index\n",
    "            x = mid \n",
    "            return x \n",
    "        # if element at mid index is greater than element at jth index\n",
    "        elif arr[mid]>arr[j]:\n",
    "            # set i to mid+1\n",
    "            i = mid+1\n",
    "        # if element at mid index is lesser than element at ith index\n",
    "        elif arr[mid]<arr[i]:\n",
    "            # set j to mid - 1\n",
    "            j = mid-1 \n",
    "        # otherwise return\n",
    "        else :\n",
    "            return\n",
    "# create a method to search target \n",
    "def search(arr, target, i, j):\n",
    "    mid = 0 \n",
    "    # execute loop using 2 pointer appproach\n",
    "    while i<j and j>=0 and i<len(arr):\n",
    "        # get mid value between i and j\n",
    "        mid = (i+j)//2 \n",
    "        # if element at mid index is equal to target\n",
    "        if arr[mid] == target:\n",
    "            # return the mid index\n",
    "            return mid \n",
    "        # if element at mid index is less than target\n",
    "        elif arr[mid] < target:\n",
    "            # set i to mid + 1\n",
    "            i = mid+1 \n",
    "        # otherwise\n",
    "        else :\n",
    "            # set j to mid\n",
    "            j = mid\n",
    "    # return -1 to show target doesn't exist in array\n",
    "    return -1\n",
    "\n",
    "# driver code\n",
    "arr = [15,18,19,-12,3,4,6,7,8,9]\n",
    "# get index which is the smallest value in array\n",
    "ind = find_smallest(arr)\n",
    "# get the index of 4 in array from index from 0 to ind\n",
    "target_ind1 =search(arr, 4,0,ind)\n",
    "# get the index of 4 in array from index from ind to length - 1\n",
    "target_ind2 = search(arr, 4,ind,len(arr)-1)\n",
    "# print the index\n",
    "print(\"Index is\", target_ind1 if target_ind1>-1 else target_ind2)"
   ]
  },
  {
   "cell_type": "markdown",
   "metadata": {},
   "source": [
    "##### Problem 17: Find the peak element in an array. A peak element is greater than its neighbors.\n",
    "* Input: nums = [1, 2, 3, 1]\n",
    "* Output: 2 (index of peak element)"
   ]
  },
  {
   "cell_type": "code",
   "execution_count": 42,
   "metadata": {},
   "outputs": [
    {
     "name": "stdout",
     "output_type": "stream",
     "text": [
      "Peak elements : [3, 9, 9]\n"
     ]
    }
   ],
   "source": [
    "# create method to get peak element\n",
    "def get_peak(arr):\n",
    "    # if array has only one element or no element return array\n",
    "    if len(arr)<=1:\n",
    "        return arr\n",
    "    # initialize a array to store peak elements\n",
    "    peak_list = []\n",
    "    # iterate over elements of array\n",
    "    for i in range(len(arr)):\n",
    "        # if any element is greater than its neighbours then append it to peak_list\n",
    "        if (i == 0 and arr[i]>arr[i+1]) or (i == len(arr)-1 and arr[i]>arr[i-1]) or (arr[i]>arr[i-1] and arr[i]>arr[i+1]):\n",
    "            peak_list.append(arr[i])\n",
    "    # return the list of peak elements\n",
    "    return peak_list\n",
    "# driver code\n",
    "lst = [1,2,3,1,5,6,9,8,9,0]\n",
    "print(\"Peak elements :\", get_peak(lst))\n"
   ]
  },
  {
   "cell_type": "markdown",
   "metadata": {},
   "source": [
    "##### Problem 18: Given a m x n matrix where each row and column is sorted in descending order, count the number of negative numbers.\n",
    "* Input: grid = [[4, 3, 2, -1], [3, 2, 1, -1], [1, 1, -1, -2], [-1, -1, -2, -3]]\n",
    "* Output: 8\n"
   ]
  },
  {
   "cell_type": "code",
   "execution_count": 43,
   "metadata": {},
   "outputs": [
    {
     "name": "stdout",
     "output_type": "stream",
     "text": [
      "Number of negative numbers present in [[4, 3, 2, -1], [3, 2, 1, -1], [1, 1, -1, -2], [-1, -1, -2, -3]] : 16\n"
     ]
    }
   ],
   "source": [
    "# define a method to search target\n",
    "def search(arr, target):\n",
    "    # use 2 pointers approach\n",
    "    i = 0\n",
    "    j = len(arr)-1\n",
    "    mid = 0 \n",
    "    # execute a loop\n",
    "    while i<j and j>=0 and i<len(arr):\n",
    "        # get mid value between i and j\n",
    "        mid = (i+j)//2 \n",
    "        # if value at mid index in arr is equal to target\n",
    "        if arr[mid] == target:\n",
    "            # return the mid index\n",
    "            return mid \n",
    "        # if value at mid index in arr is less than target\n",
    "        elif arr[mid] < target:\n",
    "            # set i to mid+1\n",
    "            i = mid+1 \n",
    "        # otherwise\n",
    "        else :\n",
    "            # set j to mid\n",
    "            j = mid\n",
    "    # return i to show that target should be placed at which index\n",
    "    return i\n",
    "# create a method to get target\n",
    "def get_target(arr):\n",
    "    # initialize a variable to store count of niegative elements\n",
    "    sm = 0\n",
    "    # execute a loop over each row\n",
    "    for i in range(len(arr)):\n",
    "        # if first element in row is negative then add length os that row to sm\n",
    "        if arr[i][0]<0:\n",
    "            sm += len(arr[i])\n",
    "        # if last element in row is negative\n",
    "        elif arr[i][len(arr[i])-1]<0:\n",
    "            # search index of -1\n",
    "            ind =  search(arr[i], -1)\n",
    "            # add number of negative elements to sm\n",
    "            sm += (len(arr[i])-ind)\n",
    "    # return number of negative elements of array\n",
    "    return sm\n",
    "# driver code\n",
    "lst = [[4, 3, 2, -1], [3, 2, 1, -1], [1, 1, -1, -2], [-1, -1, -2, -3]]\n",
    "print(f'Number of negative numbers present in {lst} : {get_target(lst)}')\n",
    "        "
   ]
  },
  {
   "cell_type": "markdown",
   "metadata": {},
   "source": [
    "##### Problem 19: Given a 2D matrix sorted in ascending order in each row, and the first integer of each row is greater than the last integer of the previous row, determine if a target value is present in the matrix.\n",
    "* Input: matrix = [[1, 3, 5, 7], [10, 11, 16, 20], [23, 30, 34, 60]], target = 3\n",
    "* Output: True"
   ]
  },
  {
   "cell_type": "code",
   "execution_count": 44,
   "metadata": {},
   "outputs": [
    {
     "name": "stdout",
     "output_type": "stream",
     "text": [
      "Target 30 present in [[1, 3, 5, 7], [10, 11, 16, 20], [23, 30, 34, 60]] : True\n"
     ]
    }
   ],
   "source": [
    "# define a method to search target\n",
    "def search(arr, target):\n",
    "    # use 2 pointers approach\n",
    "    i = 0\n",
    "    j = len(arr)-1\n",
    "    mid = 0 \n",
    "    # execute a loop\n",
    "    while i<j and j>=0 and i<len(arr):\n",
    "        # get mid value between i and j\n",
    "        mid = (i+j)//2 \n",
    "        # if value at mid index in arr is equal to target\n",
    "        if arr[mid] == target:\n",
    "            # return the mid index\n",
    "            return mid \n",
    "        # if value at mid index in arr is less than target\n",
    "        elif arr[mid] < target:\n",
    "            # set i to mid+1\n",
    "            i = mid+1 \n",
    "        # otherwise\n",
    "        else :\n",
    "            # set j to mid\n",
    "            j = mid\n",
    "    # return -1 to show that target does not exist in array\n",
    "    return -1\n",
    "# create a method to fnd the target\n",
    "def get_target(arr,target):\n",
    "    # execute a loop over each row of matrix\n",
    "    for i in range(len(arr)):\n",
    "        # if last value in row is greater than target\n",
    "        if target < arr[i][len(arr[i])-1]:\n",
    "            # serach for target using search() method\n",
    "            return search(arr[i], target)!= -1\n",
    "        # target is equal to last element of row\n",
    "        elif target == arr[i][len(arr[i])-1]:\n",
    "            # return true\n",
    "            return True \n",
    "# driver code\n",
    "lst = [[1, 3, 5, 7], [10, 11, 16, 20], [23, 30, 34, 60]]\n",
    "target = 30\n",
    "print(f'Target {target} present in {lst} : {get_target(lst, target)}')\n",
    "        "
   ]
  },
  {
   "cell_type": "markdown",
   "metadata": {},
   "source": [
    "##### Problem 20: Find Median in Two Sorted Arrays, Given two sorted arrays, find the median of the combined sorted array.\n",
    "* Input: nums1 = [1, 3], nums2 = [2]\n",
    "* Output: 2.0"
   ]
  },
  {
   "cell_type": "code",
   "execution_count": 45,
   "metadata": {},
   "outputs": [
    {
     "name": "stdout",
     "output_type": "stream",
     "text": [
      "the median is  12\n"
     ]
    }
   ],
   "source": [
    "# create a method to get median \n",
    "def get_median(arr1, arr2):\n",
    "    # get length of arr1\n",
    "    l1 = len(arr1)\n",
    "    # get length of arr2\n",
    "    l2 = len(arr2)\n",
    "    # median should be at position in (l1+l2)/2\n",
    "    med = (l1+l2)//2\n",
    "    # initialize 2 variables to store 1st median and 2nd median\n",
    "    med1 = 0\n",
    "    med2 = 0\n",
    "    i,j=0,0\n",
    "    # iterate a loop\n",
    "    while med>=0:\n",
    "        # check if element at ith index in array1 is less than or eq. to jth index in array2\n",
    "        if i<l1 and j<l2 and arr1[i]<=arr2[j]:\n",
    "            # set med1 to med2\n",
    "            med1 = med2 \n",
    "            # set med2 to arr1[i]\n",
    "            med2 = arr1[i]\n",
    "            # increase i by 1\n",
    "            i+=1\n",
    "            # check if element at ith index in array1 is greater than or eq. to jth index in array2\n",
    "        elif i<l1 and j<l2 and arr1[i]>=arr2[j]:\n",
    "            # set med1 to med2\n",
    "            med1 = med2\n",
    "             # set med2 to arr2[j]\n",
    "            med2 = arr2[j]\n",
    "            # increase j by 1\n",
    "            j+=1\n",
    "        # if i is less than l1\n",
    "        elif i<l1:\n",
    "            # set med1 to med2\n",
    "            med1 = med2 \n",
    "            # set med2 to arr1[i]\n",
    "            med2 = arr1[i]\n",
    "            # increase i by 1\n",
    "            i+=1\n",
    "        elif j<l2:\n",
    "            # set med1 to med2\n",
    "            med1 = med2\n",
    "             # set med2 to arr2[j]\n",
    "            med2 = arr2[j]\n",
    "            # increase j by 1\n",
    "            j+=1\n",
    "        # decrease med by 1\n",
    "        med -=1\n",
    "    # if total number of elements in both the array is even then return (med1+med2)/2 otherwise return med2\n",
    "    return (med1+med2)/2 if (l1+l2)%2 == 0 else med2\n",
    "# driver code\n",
    "print(\"the median is \",get_median([1,3,4,12,17,22],[2,5,15,18,21]))\n"
   ]
  },
  {
   "cell_type": "markdown",
   "metadata": {},
   "source": [
    "##### Problem 21: Given a sorted character array and a target letter, find the smallest letter in the array that is greater than the target.\n",
    "* Input: letters = ['c', 'f', 'j'], target = a\n",
    "* Output: 'c'"
   ]
  },
  {
   "cell_type": "code",
   "execution_count": 46,
   "metadata": {},
   "outputs": [
    {
     "name": "stdout",
     "output_type": "stream",
     "text": [
      "smallest letter that is greater then target m is p\n"
     ]
    }
   ],
   "source": [
    "# create a method to search target \n",
    "def search(arr, target):\n",
    "    # set i = 0 and j to length -1 \n",
    "    i = 0\n",
    "    j = len(arr)-1\n",
    "    mid = 0 \n",
    "    # execute the loop \n",
    "    while i<j and j>=0 and i<len(arr):\n",
    "        # get mid value between i and j\n",
    "        mid = (i+j)//2 \n",
    "        # if value at mid index is eq. to target\n",
    "        if arr[mid] == target:\n",
    "            # return the mid index\n",
    "            return mid \n",
    "        # if value at mid index is less than target\n",
    "        elif arr[mid] < target:\n",
    "            # set i to mid + 1\n",
    "            i = mid+1 \n",
    "        # otherwise\n",
    "        else :\n",
    "            # set j to mid\n",
    "            j = mid\n",
    "    # return j index \n",
    "    return j \n",
    "# driver code\n",
    "target = 'm'\n",
    "arr = ['b','d','j','k','p','t','x','z']\n",
    "print(f\"smallest letter that is greater then target {target} is { arr[search(arr, target)]}\")\n"
   ]
  },
  {
   "cell_type": "markdown",
   "metadata": {},
   "source": [
    "##### Problem 22: Given an array with n objects colored red, white, or blue, sort them in-place so that objects of the same color are adjacent, with the colors in the order red, white, and blue.\n",
    "* Input: nums = [2, 0, 2, 1, 1, 0]\n",
    "* Output: [0, 0, 1, 1, 2, 2]"
   ]
  },
  {
   "cell_type": "code",
   "execution_count": 47,
   "metadata": {},
   "outputs": [
    {
     "name": "stdout",
     "output_type": "stream",
     "text": [
      "sorted array =  [0, 0, 0, 0, 0, 1, 1, 1, 1, 1, 2, 2]\n"
     ]
    }
   ],
   "source": [
    "# create a method to sort the array with 3 distinct elements\n",
    "def sort_arr(arr):\n",
    "    # initialize variables for start, mid and end counters\n",
    "    i = 0\n",
    "    j = len(arr)-1\n",
    "    mid = 0 \n",
    "    # iterate over the elements\n",
    "    while i<=j and mid<=j:\n",
    "        # if mid element is 0 then swap it with ith element\n",
    "        if arr[mid] == 0:\n",
    "            # swap the elements\n",
    "            arr[mid], arr[i] = arr[i], arr[mid]\n",
    "            # increase it counters\n",
    "            mid += 1\n",
    "            i+=1\n",
    "        # if mid element is 1 then swap increase the counter\n",
    "        elif arr[mid] == 1:\n",
    "            mid +=1\n",
    "        # otherwise swap the mid element with jth element\n",
    "        else :\n",
    "            arr[j], arr[mid] = arr[mid] , arr[j]\n",
    "            # decrease the jth counter\n",
    "            j-=1\n",
    "    # return the array\n",
    "    return arr \n",
    "# sort the array using sort_arr() method\n",
    "print(\"sorted array = \",sort_arr([0,1,1,0,1,2,1,2,0,0,0,1]))\n",
    "\n",
    "        \n"
   ]
  },
  {
   "cell_type": "markdown",
   "metadata": {},
   "source": [
    "##### Problem 23: Find the kth largest element in an unsorted array.\n",
    "* Input: nums = [3, 2, 1, 5, 6, 4], k = 2\n",
    "* Output: 5"
   ]
  },
  {
   "cell_type": "code",
   "execution_count": 48,
   "metadata": {},
   "outputs": [
    {
     "name": "stdout",
     "output_type": "stream",
     "text": [
      "4 largest number in [3, 2, 5, 1, 6, 8, 7] is  5\n"
     ]
    }
   ],
   "source": [
    "# create a method greater_cnt to count number of elements greater than num in array\n",
    "def greater_cnt(arr, num):\n",
    "    # initialize a count \n",
    "    cnt = 0\n",
    "    # iterate a loop over array elements\n",
    "    for i in arr:\n",
    "        # if element is greater than num then increase counter by 1\n",
    "        if i>num:\n",
    "            cnt+=1\n",
    "    # return count of numbers greater than num\n",
    "    return cnt\n",
    "# create a method to get the kth largest element\n",
    "def get_large_k(arr,k):\n",
    "    # get minimum and maximum values in array\n",
    "    i, j =min(arr), max(arr)\n",
    "    # iterate until i<j\n",
    "    while(i<j):\n",
    "        # mid value from i to j\n",
    "        mid = (i+j)//2\n",
    "        # check if number of elements in array greater than mid is greater than or equal to k\n",
    "        if greater_cnt(arr, mid)>=k:\n",
    "            # set i to mid+1\n",
    "            i = mid+1 \n",
    "        # otherwise\n",
    "        else :\n",
    "            # set j to mid\n",
    "            j = mid \n",
    "    # return the i value\n",
    "    return i \n",
    "# driver code\n",
    "l = [3,2,5,1,6,8,7]\n",
    "k = 4\n",
    "print(f\"{k} largest number in {l} is  {get_large_k(l,k)}\")\n"
   ]
  },
  {
   "cell_type": "markdown",
   "metadata": {},
   "source": [
    "##### Problem 24: Given an unsorted array, reorder it in-place such that nums[0] <= nums[1] >= nums[2] <= nums[3]...\n",
    "* Input: nums = [3, 5, 2, 1, 6, 4]\n",
    "* Output: [3, 5, 1, 6, 2, 4]"
   ]
  },
  {
   "cell_type": "code",
   "execution_count": 49,
   "metadata": {},
   "outputs": [
    {
     "name": "stdout",
     "output_type": "stream",
     "text": [
      "List in given order : [76, 3, 34, 4, 31, 5, 13, 6, 7]\n"
     ]
    }
   ],
   "source": [
    "# create a method to sort the array using bubble sort\n",
    "def get_ordered_array(arr):\n",
    "    # execute the loop within range lenth of array\n",
    "    for i in range(len(arr)-1):\n",
    "        # exeute a nested loop till length -i -1\n",
    "        for j in range(len(arr)-i-1):\n",
    "            # if cuurent element is greater than next element the swap these elements\n",
    "            if arr[j]>arr[j+1]:\n",
    "                arr[j], arr[j+1] = arr[j+1], arr[j]\n",
    "    # using 2 pointer approach we get the wave form\n",
    "    l = 0 \n",
    "    r = len(arr)-1 \n",
    "    # initailize a list to store the resultant array\n",
    "    ans_lis = []\n",
    "    # execute a loop until l<=r\n",
    "    while l<=r:\n",
    "        # if left pointer is equal to right pointer\n",
    "        if l==r:\n",
    "            # append array element at l index\n",
    "            ans_lis.append(arr[l])\n",
    "        # otherwise\n",
    "        else:\n",
    "            # append array element at r index \n",
    "            ans_lis.append(arr[r])\n",
    "            # append array element at l index\n",
    "            ans_lis.append(arr[l])\n",
    "        # decrease r by 1\n",
    "        r-=1 \n",
    "        # increase l by 1\n",
    "        l+=1 \n",
    "    # return the ans_list\n",
    "    return ans_lis\n",
    "# driver code\n",
    "arr = [3,34,13,76,4,5,6,7,31]\n",
    "print(\"List in given order :\", get_ordered_array(arr))\n"
   ]
  },
  {
   "cell_type": "markdown",
   "metadata": {},
   "source": [
    "##### Problem 25: Given an array of integers, calculate the sum of all its elements.\n",
    "* Input: [1, 2, 3, 4, 5]\n",
    "* Output: 15"
   ]
  },
  {
   "cell_type": "code",
   "execution_count": 50,
   "metadata": {},
   "outputs": [
    {
     "name": "stdout",
     "output_type": "stream",
     "text": [
      "entered list - [1, 2, 3, 4, 4]\n",
      "Sum of element via loop - 14\n"
     ]
    }
   ],
   "source": [
    "l = [1,2,3,4,4]\n",
    "# print the input list\n",
    "print(\"entered list -\", l)\n",
    "'''\n",
    "initialize a variable to store sum of list elements\n",
    "iterate over each element of list and add the element to the variable initialized initially at each iteration\n",
    "'''\n",
    "s = 0\n",
    "for i in l:\n",
    "    s += i\n",
    "print(\"Sum of element via loop -\", s)"
   ]
  },
  {
   "cell_type": "markdown",
   "metadata": {},
   "source": [
    "##### Problem 26: Find the maximum element in an array of integers.\n",
    "* Input: [3, 7, 2, 9, 4, 1]\n",
    "* Output: 9"
   ]
  },
  {
   "cell_type": "code",
   "execution_count": 51,
   "metadata": {},
   "outputs": [
    {
     "name": "stdout",
     "output_type": "stream",
     "text": [
      "entered list - [3, 7, 2, 9, 4, 1]\n",
      "Max value of list - 9\n"
     ]
    }
   ],
   "source": [
    "l =[3, 7, 2, 9, 4, 1]\n",
    "# print the input list\n",
    "print(\"entered list -\", l)\n",
    "\n",
    "''' \n",
    "approach - we initialize a variable  'maxm' with value as 0. This variable will be used to store maximum element in list\n",
    "We iterate over each element in list and check if any element is greater than value of maxm variable then we store that element in maxm variable \n",
    "in each iteration.\n",
    "'''\n",
    "# initialize a variable to store maximum value\n",
    "maxm = 0\n",
    "# iterate throught the elements in list\n",
    "for i in l:\n",
    "    # check if current element is greater than maxm value then put the element in maxm variable\n",
    "    maxm = maxm if maxm>i else i\n",
    "# print the maximum value\n",
    "print(\"Max value of list -\", maxm)"
   ]
  },
  {
   "cell_type": "markdown",
   "metadata": {},
   "source": [
    "##### Problem 27: Implement linear search to find the index of a target element in an array.\n",
    "* Input: [5, 3, 8, 2, 7, 4], target = 8\n",
    "* Output: 2"
   ]
  },
  {
   "cell_type": "code",
   "execution_count": 52,
   "metadata": {},
   "outputs": [
    {
     "name": "stdout",
     "output_type": "stream",
     "text": [
      "Index of tagret :  2\n"
     ]
    }
   ],
   "source": [
    "# create a method to search target index using linear search technique\n",
    "def linear_search(arr, target):\n",
    "    # execute loop within range of length of array\n",
    "    for i in range(len(arr)):\n",
    "        # if element at index i is equal to target\n",
    "        if arr[i] == target:\n",
    "            # return index\n",
    "            return  i\n",
    "    # otherwise return -1 to show that element doesn't exist\n",
    "    return -1\n",
    "# driver code\n",
    "arr = [2,43,76,32,71,98,34]\n",
    "print(\"Index of tagret : \", linear_search(arr,76))"
   ]
  },
  {
   "cell_type": "markdown",
   "metadata": {},
   "source": [
    "##### Problem 28 Calculate the factorial of a given number.\n",
    "* Input: 5\n",
    "* Output: 120 (as 5! = 5 * 4 * 3 * 2 * 1 = 120)"
   ]
  },
  {
   "cell_type": "code",
   "execution_count": 53,
   "metadata": {},
   "outputs": [
    {
     "name": "stdout",
     "output_type": "stream",
     "text": [
      "factorial of 6 is 720\n"
     ]
    }
   ],
   "source": [
    "# create a method to calculate the factorial\n",
    "def fact(n):\n",
    "    # if n>1 then\n",
    "    if n>1:\n",
    "        # multiply n with the result of fact() method passing the argument n-1 and return it\n",
    "        return n*fact(n-1)\n",
    "    # otherwise\n",
    "    else:\n",
    "        # return n\n",
    "        return n \n",
    "# driver code\n",
    "print(f\"factorial of {6} is {fact(6)}\")"
   ]
  },
  {
   "cell_type": "markdown",
   "metadata": {},
   "source": [
    "##### Problem 29: Check if a given number is a prime number.\n",
    "* Input: 7\n",
    "* Output: True"
   ]
  },
  {
   "cell_type": "code",
   "execution_count": 60,
   "metadata": {},
   "outputs": [
    {
     "name": "stdout",
     "output_type": "stream",
     "text": [
      "the entered number is - 13\n",
      "Prime Number\n"
     ]
    }
   ],
   "source": [
    "# take input interegr value using input() and convert it into integer using int()\n",
    "n = int(input(\"enter an integer \"))\n",
    "# print the entered number \n",
    "print(\"the entered number is -\", n)\n",
    "# initialize a flag to store True if it is divisible by any number and false if it is not divisible by any number, means it is prime\n",
    "flag = 0\n",
    "# execute a loop from 2 to n/2\n",
    "for i in range(2,n//2+1):\n",
    "    # if it is divisible by any number in range between stated above\n",
    "    if n%i == 0:\n",
    "        # on the flag\n",
    "        flag = 1\n",
    "        # stop the loop and move out of loop\n",
    "        break \n",
    "# if flag is false and number is greater than 1 then it is prime\n",
    "if flag == 0 and n>1:\n",
    "    print(\"Prime Number\")\n",
    "# otherwise it is not prime\n",
    "else:\n",
    "    print(\"Non-Prime Number\")"
   ]
  },
  {
   "cell_type": "markdown",
   "metadata": {},
   "source": [
    "##### Problem 30: Generate the Fibonacci series up to a given number n.\n",
    "* Input: 8\n",
    "* Output: [0, 1, 1, 2, 3, 5, 8, 13]"
   ]
  },
  {
   "cell_type": "code",
   "execution_count": 59,
   "metadata": {},
   "outputs": [
    {
     "name": "stdout",
     "output_type": "stream",
     "text": [
      "First 8 fibonacci numbers are-\n",
      "0\n",
      "1\n",
      "1\n",
      "2\n",
      "3\n",
      "5\n",
      "8\n",
      "13\n"
     ]
    }
   ],
   "source": [
    "# take input from user for number of terms of series using input() and convert it into integer using int()\n",
    "n = int(input(\"enter number of terms you want in fibonacci series.\"))\n",
    "# initialize first variable f with value 0 as first elemnt of series\n",
    "f=0\n",
    "# initialize second variable s with value 1 as second element of series\n",
    "s=1\n",
    "print(\"First {} fibonacci numbers are-\".format(n))\n",
    "# now we need to iterate for n number of times to get values of series.\n",
    "for i in range(n):\n",
    "    # print the number\n",
    "    print(f)\n",
    "    # calculate the next number of series by adding up the previous 2 numbers\n",
    "    f,s = s, s+f \n",
    "    \n"
   ]
  },
  {
   "cell_type": "markdown",
   "metadata": {},
   "source": [
    "##### Problem 31: Calculate the power of a number using recursion.\n",
    "* Input: base = 3, exponent = 4\n",
    "* Output: 81 (as 3^4 = 3 * 3 * 3 * 3 = 81)"
   ]
  },
  {
   "cell_type": "code",
   "execution_count": 56,
   "metadata": {},
   "outputs": [
    {
     "name": "stdout",
     "output_type": "stream",
     "text": [
      "3 to the power 4 is 81\n"
     ]
    }
   ],
   "source": [
    "# create a method to calculate power \n",
    "def get_pow(base, exp):\n",
    "    # if exp is greater than 0\n",
    "    if exp>0:\n",
    "        # mulitply base with the result of get_pow() method by passing base and exp-1 as argument\n",
    "        return base*get_pow(base, exp-1)\n",
    "    # otherwise return 1\n",
    "    return 1\n",
    "# driver code\n",
    "base = 3\n",
    "exp = 4\n",
    "print(f\"{base} to the power {exp} is {get_pow(base, exp)}\")"
   ]
  },
  {
   "cell_type": "markdown",
   "metadata": {},
   "source": [
    "##### Problem 32: Reverse a given string.\n",
    "* Input: \"hello\"\n",
    "* Output: \"olleh\""
   ]
  },
  {
   "cell_type": "code",
   "execution_count": 58,
   "metadata": {},
   "outputs": [
    {
     "name": "stdout",
     "output_type": "stream",
     "text": [
      "reverse of the string [ Python Programming ] is gnimmargorP nohtyP\n"
     ]
    }
   ],
   "source": [
    "# taking input from user by using input() function\n",
    "string2 = input(\"Enter a string\")\n",
    "\n",
    "#  we can reverse the string using slicing and store the result in variable named reversed_string\n",
    "# we do slicing by making it as negative jump i.e. -1\n",
    "reversed_string = string2[::-1]\n",
    "\n",
    "# print the reverse of the string\n",
    "print(\"reverse of the string [\", string2, '] is', reversed_string) "
   ]
  },
  {
   "cell_type": "markdown",
   "metadata": {},
   "source": []
  }
 ],
 "metadata": {
  "kernelspec": {
   "display_name": "base",
   "language": "python",
   "name": "python3"
  },
  "language_info": {
   "codemirror_mode": {
    "name": "ipython",
    "version": 3
   },
   "file_extension": ".py",
   "mimetype": "text/x-python",
   "name": "python",
   "nbconvert_exporter": "python",
   "pygments_lexer": "ipython3",
   "version": "3.11.4"
  }
 },
 "nbformat": 4,
 "nbformat_minor": 2
}
