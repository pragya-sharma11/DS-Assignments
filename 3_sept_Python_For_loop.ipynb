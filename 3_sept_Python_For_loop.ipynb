{
 "cells": [
  {
   "cell_type": "markdown",
   "metadata": {},
   "source": [
    "# Basic Level:\n"
   ]
  },
  {
   "cell_type": "markdown",
   "metadata": {},
   "source": [
    "##### 1. Write a Python program to print the numbers from 1 to 10 using a `for` loop."
   ]
  },
  {
   "cell_type": "code",
   "execution_count": 1,
   "metadata": {},
   "outputs": [
    {
     "name": "stdout",
     "output_type": "stream",
     "text": [
      "1\n",
      "2\n",
      "3\n",
      "4\n",
      "5\n",
      "6\n",
      "7\n",
      "8\n",
      "9\n",
      "10\n"
     ]
    }
   ],
   "source": [
    "# execute a for loop from 1 to 10 using range() having values 1 and 11.\n",
    "# It is because for loop runs till upper bound-1\n",
    "for i in range(1,11):\n",
    "    # print the value of i \n",
    "    print(i)"
   ]
  },
  {
   "cell_type": "markdown",
   "metadata": {},
   "source": [
    "##### 2. Create a program that calculates the sum of all numbers in a list using a `for` loop."
   ]
  },
  {
   "cell_type": "code",
   "execution_count": 2,
   "metadata": {},
   "outputs": [
    {
     "name": "stdout",
     "output_type": "stream",
     "text": [
      "entered list - [1, 2, 3, 4, 5, 6, 7, 8, 9, 0]\n",
      "Sum of element via loop - 45\n"
     ]
    }
   ],
   "source": [
    "# take space seperated values from user using input and split them on the basis of space using split() as elements of list\n",
    "# then convert each element into integer using map() and pass the output of map() to list() to convert it to list\n",
    "l = list(map(int,input(\"Enter space seperated values as elements in list\").split()))\n",
    "# print the input list\n",
    "print(\"entered list -\", l)\n",
    "\n",
    "''' \n",
    "approach : \n",
    "initialize a variable to store sum of list elements\n",
    "iterate over each element of list and add the element to the variable initialized initially at each iteration\n",
    "'''\n",
    "# initialize a variable to store sum\n",
    "s = 0\n",
    "# iterate over the elements of list l\n",
    "for i in l:\n",
    "    # add the value of i in s\n",
    "    s += i\n",
    "# print the sum \n",
    "print(\"Sum of element via loop -\", s)"
   ]
  },
  {
   "cell_type": "markdown",
   "metadata": {},
   "source": [
    "##### 3. Write a program to print the characters of a string in reverse order using a `for` loop.\n"
   ]
  },
  {
   "cell_type": "code",
   "execution_count": 3,
   "metadata": {},
   "outputs": [
    {
     "name": "stdout",
     "output_type": "stream",
     "text": [
      "n\n",
      "o\n",
      "h\n",
      "t\n",
      "y\n",
      "P\n"
     ]
    }
   ],
   "source": [
    "# create a string\n",
    "str1 = 'Python'\n",
    "# execute a for loop from (string length-1) to (-1) with  a negative jump\n",
    "for i in range(len(str1)-1,-1,-1):\n",
    "    # print the character of string str1 at index i\n",
    "    print(str1[i])"
   ]
  },
  {
   "cell_type": "markdown",
   "metadata": {},
   "source": [
    "##### 4. Develop a program that finds the factorial of a given number using a `for` loop.\n"
   ]
  },
  {
   "cell_type": "code",
   "execution_count": 4,
   "metadata": {},
   "outputs": [
    {
     "name": "stdout",
     "output_type": "stream",
     "text": [
      "Factorial of 6 is 720\n"
     ]
    }
   ],
   "source": [
    "# initialize a variable with a value whose factorial you want to calculate\n",
    "number = 6\n",
    "# initialize a variable to store factorial\n",
    "fact = 1\n",
    "# execute a for loop from 1 to number+1 coz range() allows loop to run upperbound-1\n",
    "for i in range(1, number+1):\n",
    "    # at each iteration multiply fact with i and store the result in fact using *= operator\n",
    "    fact *= i \n",
    "# print the result\n",
    "print(\"Factorial of {} is {}\".format(number, fact))\n"
   ]
  },
  {
   "cell_type": "markdown",
   "metadata": {},
   "source": [
    "##### 5. Create a program to print the multiplication table of a given number using a `for` loop.\n"
   ]
  },
  {
   "cell_type": "code",
   "execution_count": 5,
   "metadata": {},
   "outputs": [
    {
     "name": "stdout",
     "output_type": "stream",
     "text": [
      "8X1 = 8\n",
      "8X2 = 16\n",
      "8X3 = 24\n",
      "8X4 = 32\n",
      "8X5 = 40\n",
      "8X6 = 48\n",
      "8X7 = 56\n",
      "8X8 = 64\n",
      "8X9 = 72\n",
      "8X10 = 80\n"
     ]
    }
   ],
   "source": [
    "# take the value of number from user using input()  and convert it into integer using int()\n",
    "num = int(input(\"Enter a number\"))\n",
    "# run a for loop from 1 to 11 as range() coz range() allows loop to run upperbound-1\n",
    "for i in range(1,11):\n",
    "    # print the multiplication table\n",
    "    print(\"{}X{} = {}\".format(num,i,num*i))"
   ]
  },
  {
   "cell_type": "markdown",
   "metadata": {},
   "source": [
    "##### 6. Write a program that counts the number of even and odd numbers in a list using a `for` loop.\n"
   ]
  },
  {
   "cell_type": "code",
   "execution_count": 11,
   "metadata": {},
   "outputs": [
    {
     "name": "stdout",
     "output_type": "stream",
     "text": [
      "Odd numbers - 6\n",
      "Even Number - 6\n"
     ]
    }
   ],
   "source": [
    "# create a list with some integer values\n",
    "list1 = [1,2,3,4,5,6,7,8,9,10]\n",
    "# initialize a variable to store number of odd numbers in list\n",
    "odd_num = 0 \n",
    "# initialize a variable to store number of even numbers in list\n",
    "even_num = 0\n",
    "# iterate over elements in list\n",
    "for i in list1:\n",
    "    # if element is even, increase the value of even_num by 1\n",
    "    if i%2 == 0:\n",
    "        even_num += 1\n",
    "    # if element is odd, increase the value of odd_num by 1\n",
    "    else : \n",
    "        odd_num += 1\n",
    "# print the number of odd and even numbers in list\n",
    "print(\"Odd numbers -\", odd_num)\n",
    "print(\"Even Number -\", even_num)"
   ]
  },
  {
   "cell_type": "markdown",
   "metadata": {},
   "source": [
    "##### 7. Develop a program that prints the squares of numbers from 1 to 5 using a `for` loop.\n"
   ]
  },
  {
   "cell_type": "code",
   "execution_count": 12,
   "metadata": {},
   "outputs": [
    {
     "name": "stdout",
     "output_type": "stream",
     "text": [
      "Square of 1 is 1\n",
      "Square of 2 is 4\n",
      "Square of 3 is 9\n",
      "Square of 4 is 16\n",
      "Square of 5 is 25\n"
     ]
    }
   ],
   "source": [
    "# execute a loop from range 0 to 6\n",
    "for i in range(1,6):\n",
    "    # calculate the square of each number in between 1 to 5 usning ** operator and print it\n",
    "    print(\"Square of {} is {}\".format(i, i**2))"
   ]
  },
  {
   "cell_type": "markdown",
   "metadata": {},
   "source": [
    "##### 8. Create a program to find the length of a string without using the `len()` function.\n"
   ]
  },
  {
   "cell_type": "code",
   "execution_count": 13,
   "metadata": {},
   "outputs": [
    {
     "name": "stdout",
     "output_type": "stream",
     "text": [
      "Input String - Hello Python\n",
      "Length of input string - 12\n"
     ]
    }
   ],
   "source": [
    "# taking input from user by using input() function\n",
    "st = input(\"Enter a string\")\n",
    "# print original string\n",
    "print(\"Input String -\", st)\n",
    "# initialize a variable to store total number of elements in string\n",
    "count_values = 0\n",
    "# iterate over each element\n",
    "for i in st:\n",
    "    #  as the loop run for each element, each time counter will be increased by 1\n",
    "    count_values += 1 \n",
    "# print the value of counter as length of string\n",
    "print(\"Length of input string -\", count_values)\n"
   ]
  },
  {
   "cell_type": "markdown",
   "metadata": {},
   "source": [
    "##### 9. Write a program that calculates the average of a list of numbers using a `for` loop.\n"
   ]
  },
  {
   "cell_type": "code",
   "execution_count": 14,
   "metadata": {},
   "outputs": [
    {
     "name": "stdout",
     "output_type": "stream",
     "text": [
      "Average of list values - 5.5\n"
     ]
    }
   ],
   "source": [
    "# create a list with some integer values\n",
    "list1 = [1,2,3,4,5,6,7,8,9,10]\n",
    "''' \n",
    "approach - to calculate the average, we need to first calculate sum of all numbers in list then dive the some of \n",
    "numbers by number of elements in list i.e. length of list\n",
    "'''\n",
    "# initialize a variable to calculate the sum\n",
    "sum_val = 0\n",
    "# iterate over elements of list\n",
    "for i in list1:\n",
    "    # add each elemnt of list with value of sum_val and put the result back in sum_val variable\n",
    "    sum_val += i \n",
    "# calculate the average of list numbers\n",
    "avg_value = sum_val/len(list1)\n",
    "# print the average\n",
    "print(\"Average of list values -\", avg_value)"
   ]
  },
  {
   "cell_type": "markdown",
   "metadata": {},
   "source": [
    "##### 10. Develop a program that prints the first `n` Fibonacci numbers using a `for` loop."
   ]
  },
  {
   "cell_type": "code",
   "execution_count": 19,
   "metadata": {},
   "outputs": [
    {
     "name": "stdout",
     "output_type": "stream",
     "text": [
      "First 10 fibonacci numbers are-\n",
      "0\n",
      "1\n",
      "1\n",
      "2\n",
      "3\n",
      "5\n",
      "8\n",
      "13\n",
      "21\n",
      "34\n"
     ]
    }
   ],
   "source": [
    "# initialize n with a value 10\n",
    "n = 10\n",
    "# initialize first variable f with value 0 as first elemnt of series\n",
    "f=0\n",
    "# initialize second variable s with value 1 as second element of series\n",
    "s=1\n",
    "print(\"First {} fibonacci numbers are-\".format(n))\n",
    "# print first and second numbers of series\n",
    "print(f)\n",
    "print(s)\n",
    "# now we already have printed first 2 values so we need to print only n-2 numbers of series\n",
    "for i in range(n-2):\n",
    "    # calculate the next number of series by adding up the previous 2 numbers\n",
    "    f,s = s, s+f \n",
    "    # print the number\n",
    "    print(s)\n"
   ]
  },
  {
   "cell_type": "markdown",
   "metadata": {},
   "source": [
    "# Intermediate Level:"
   ]
  },
  {
   "cell_type": "markdown",
   "metadata": {},
   "source": [
    "##### 11. Write a program to check if a given list contains any duplicates using a `for` loop.\n"
   ]
  },
  {
   "cell_type": "code",
   "execution_count": 1,
   "metadata": {},
   "outputs": [
    {
     "name": "stdout",
     "output_type": "stream",
     "text": [
      "Original list - [1, 2, 3, 4, 5, 6, 7, 1, 2, 3, 4]\n",
      "List contains duplicates\n"
     ]
    }
   ],
   "source": [
    "# create a list\n",
    "list1 = [1,2,3,4,5,6,7,1,2,3,4]\n",
    "# print he original list \n",
    "print(\"Original list -\", list1)\n",
    "# initialize an empty list to store unique elements of list1\n",
    "new_list = []\n",
    "# iterate over elements in list\n",
    "for i in list1:\n",
    "    # check the element is not in new_list using `in` operator.\n",
    "    if i not in new_list:\n",
    "        # if condition satisfies , append the element in new_list\n",
    "        new_list.append(i)\n",
    "# check if length of original list list1 and list of unique elements 'new_list' are same then original list doesn't contain duplicates.\n",
    "if len(list1) == len(new_list):\n",
    "    print(\"List doesn't contain duplicates\")\n",
    "else:\n",
    "    print(\"List contains duplicates\")\n"
   ]
  },
  {
   "cell_type": "markdown",
   "metadata": {},
   "source": [
    "##### 12. Create a program that prints the prime numbers in a given range using a `for` loop.\n"
   ]
  },
  {
   "cell_type": "code",
   "execution_count": 2,
   "metadata": {},
   "outputs": [
    {
     "name": "stdout",
     "output_type": "stream",
     "text": [
      "prime numbers in the given range - \n",
      "23\n",
      "29\n"
     ]
    }
   ],
   "source": [
    "''' \n",
    "prime numbers are those numbers which are divisible by 1 or by itself.\n",
    "Note: 1 is not prime number\n",
    "'''\n",
    "def is_prime(num:int):\n",
    "    # execute a loop from 2 to num/2, if num is divisible by any of the number in this range, it will not be a prime number\n",
    "    for i in range(2,num//2+1):\n",
    "        # if num is divisible by i then it is not prime, so return False\n",
    "        if num%i==0 :\n",
    "            return False\n",
    "    return num>1\n",
    "# take input from user for lower bound and upper bound of range \n",
    "# to convert these values into integer type, use map()\n",
    "minm, maxm = map(int, input(\"Enter 2 space seperated +ve integer values for lower bound and upper bound of range\").split())\n",
    "print(\"prime numbers in the given range - \")\n",
    "# iterate for numbers between range minm to maxm+1 coz range() always allows for loop to run upto upperBound-1  \n",
    "for i in range(minm, maxm+1):\n",
    "    # check if element in the range is prime or not using is_prime() method and print the result \n",
    "    if is_prime(i):\n",
    "        print(i)"
   ]
  },
  {
   "cell_type": "markdown",
   "metadata": {},
   "source": [
    "##### 13. Develop a program that counts the number of vowels in a string using a `for` loop.\n"
   ]
  },
  {
   "cell_type": "code",
   "execution_count": 3,
   "metadata": {},
   "outputs": [
    {
     "name": "stdout",
     "output_type": "stream",
     "text": [
      "Input String - Hello Pyton Basics\n",
      "Number of vowels - 5\n"
     ]
    }
   ],
   "source": [
    "# taking input from user by using input() function\n",
    "st = input(\"Enter a string\")\n",
    "# print original string\n",
    "print(\"Input String -\", st)\n",
    "\n",
    "# initialize a variable counter to store count of vowel elements in string \n",
    "count_vowel = 0\n",
    "#  iterate over elements in string using for loop\n",
    "for i in st:\n",
    "    #  if the character belongs to any upper case vowel letter or lower case vowel letter\n",
    "    if i in ('aeiouAEIOU'):\n",
    "        # increase the value of count by 1\n",
    "        count_vowel += 1\n",
    "# print the total number of vowels in input string\n",
    "print(\"Number of vowels -\", count_vowel)"
   ]
  },
  {
   "cell_type": "markdown",
   "metadata": {},
   "source": [
    "##### 14. Write a program to find the maximum element in a 2D list using a nested `for` loop.\n"
   ]
  },
  {
   "cell_type": "code",
   "execution_count": 4,
   "metadata": {},
   "outputs": [
    {
     "name": "stdout",
     "output_type": "stream",
     "text": [
      "Initial list - [[1, 2, 3, 4], [3, 4, 5, 6], [3, 4, 5, 6, 7], [4, 5, 6, 7, 8, 9, 0]]\n",
      "Max value of list via function - [4, 5, 6, 7, 8, 9, 0]\n",
      "Max value of list via loop - 9\n"
     ]
    }
   ],
   "source": [
    "# create a 2D list\n",
    "l = [[1,2,3,4],[3,4,5,6],[3,4,5,6,7],[4,5,6,7,8,9,0]]\n",
    "# print the original list\n",
    "print(\"Initial list -\", l)\n",
    "'''\n",
    "approach - we initialize a variable  'maxm' with value as 0. This variable will be used to store maximum element in list\n",
    "We iterate over each element in list and check if any element is greater than value of maxm variable then we store that element in maxm variable \n",
    "in each iteration.\n",
    "'''\n",
    "# initialize a variable to store maximum value\n",
    "maxm = 0\n",
    "# iterate throught the list elements in list\n",
    "for j in l:\n",
    "    # iterate throught the elements in inner list elelmnt \n",
    "    for i in j:\n",
    "        # check if current element is greater than maxm value then put the element in maxm variable\n",
    "        maxm = maxm if maxm>i else i\n",
    "# print the maximum value\n",
    "print(\"Max value of list via loop -\", maxm)"
   ]
  },
  {
   "cell_type": "markdown",
   "metadata": {},
   "source": [
    "##### 15. Create a program that removes all occurrences of a specific element from a list using a `for` loop.\n"
   ]
  },
  {
   "cell_type": "code",
   "execution_count": 6,
   "metadata": {},
   "outputs": [
    {
     "name": "stdout",
     "output_type": "stream",
     "text": [
      "Entered list - ['1', '2', '3', '4', '1', '2', '3', '4', '1', '2', '3', '4']\n",
      "element needed to be removed 3\n",
      "List after removing the element - ['1', '2', '4', '1', '2', '4', '1', '2', '4']\n"
     ]
    }
   ],
   "source": [
    "# take space seperated values and split them as elements using slipt() and store the output in variable as list\n",
    "l = input(\"Enter space seperated values as elements in list\").split()\n",
    "# take input from user for element to be removed using input()\n",
    "element = input(\"Enter element\")\n",
    "# print the initial list and element\n",
    "print(\"Entered list -\", l)\n",
    "print(\"element needed to be removed\", element)\n",
    "# iterater over each element of list\n",
    "for i in l:\n",
    "    # current elemnt value is equal to the input element value, then remove it from list\n",
    "    if i == element:    \n",
    "        # remove the element from list using remove()\n",
    "        l.remove(element)\n",
    "# print the list after removal of word.\n",
    "print(\"List after removing the element -\", l)"
   ]
  },
  {
   "cell_type": "markdown",
   "metadata": {},
   "source": [
    "##### 16. Develop a program that generates a multiplication table for numbers from 1 to 5 using a nested `for` loop.\n"
   ]
  },
  {
   "cell_type": "code",
   "execution_count": 7,
   "metadata": {},
   "outputs": [
    {
     "name": "stdout",
     "output_type": "stream",
     "text": [
      "The Multiplication table of 1 is -\n",
      "1X1 = 1\n",
      "1X2 = 2\n",
      "1X3 = 3\n",
      "1X4 = 4\n",
      "1X5 = 5\n",
      "1X6 = 6\n",
      "1X7 = 7\n",
      "1X8 = 8\n",
      "1X9 = 9\n",
      "1X10 = 10\n",
      "The Multiplication table of 2 is -\n",
      "2X1 = 2\n",
      "2X2 = 4\n",
      "2X3 = 6\n",
      "2X4 = 8\n",
      "2X5 = 10\n",
      "2X6 = 12\n",
      "2X7 = 14\n",
      "2X8 = 16\n",
      "2X9 = 18\n",
      "2X10 = 20\n",
      "The Multiplication table of 3 is -\n",
      "3X1 = 3\n",
      "3X2 = 6\n",
      "3X3 = 9\n",
      "3X4 = 12\n",
      "3X5 = 15\n",
      "3X6 = 18\n",
      "3X7 = 21\n",
      "3X8 = 24\n",
      "3X9 = 27\n",
      "3X10 = 30\n",
      "The Multiplication table of 4 is -\n",
      "4X1 = 4\n",
      "4X2 = 8\n",
      "4X3 = 12\n",
      "4X4 = 16\n",
      "4X5 = 20\n",
      "4X6 = 24\n",
      "4X7 = 28\n",
      "4X8 = 32\n",
      "4X9 = 36\n",
      "4X10 = 40\n",
      "The Multiplication table of 5 is -\n",
      "5X1 = 5\n",
      "5X2 = 10\n",
      "5X3 = 15\n",
      "5X4 = 20\n",
      "5X5 = 25\n",
      "5X6 = 30\n",
      "5X7 = 35\n",
      "5X8 = 40\n",
      "5X9 = 45\n",
      "5X10 = 50\n"
     ]
    }
   ],
   "source": [
    "# run a for loop from 1 to 6 as range() coz range() allows loop to run upperbound-1\n",
    "for num in range(1,6):\n",
    "    # print an appropriate message\n",
    "    print(\"The Multiplication table of {} is -\".format(num))\n",
    "    # run a for loop from 1 to 11 as range() coz range() allows loop to run upperbound-1\n",
    "    for j in range(1,11):\n",
    "        # print the multiplication table\n",
    "        print(\"{}X{} = {}\".format(num,j,num*j))"
   ]
  },
  {
   "cell_type": "markdown",
   "metadata": {},
   "source": [
    "##### 17. Write a program that converts a list of Fahrenheit temperatures to Celsius using a `for` loop.\n",
    "* Formul is => (X°F − 32) × 5/9 = Y°C\n"
   ]
  },
  {
   "cell_type": "code",
   "execution_count": 10,
   "metadata": {},
   "outputs": [
    {
     "name": "stdout",
     "output_type": "stream",
     "text": [
      "List of temperatures in celcius - [-5.0, 12.222222222222221, 25.555555555555557, -2.2222222222222223, 31.666666666666668, 1.1111111111111112, -10.0, 13.88888888888889]\n"
     ]
    }
   ],
   "source": [
    "# create list of temperature in fahrenhiet\n",
    "temperatur_list = [23,54,78,28,89,34,14,57]\n",
    "# print the original list of temperatures in fahrenheit\n",
    "print(\"Original list -\", temperatur_list)\n",
    "# execute the loop from 0 to length of string \n",
    "for i in range(len(temperatur_list)):\n",
    "    # calculate the temperature in celsius and put it back to the list at same index\n",
    "    temperatur_list[i] = (temperatur_list[i]-32)*5/9\n",
    "# print the list of temperatures in celsius\n",
    "print(\"List of temperatures in celsius -\",temperatur_list)"
   ]
  },
  {
   "cell_type": "markdown",
   "metadata": {},
   "source": [
    "##### 18. Create a program to print the common elements from two lists using a `for` loop.\n"
   ]
  },
  {
   "cell_type": "code",
   "execution_count": 8,
   "metadata": {},
   "outputs": [
    {
     "name": "stdout",
     "output_type": "stream",
     "text": [
      "entered list - ['1', '2', '3', '4', '5', '6', '7']\n",
      "entered list - ['4', '5', '6', '7', '8', '9', '0']\n",
      "element which are common in both list - ['4', '5', '6', '7']\n"
     ]
    }
   ],
   "source": [
    "# take space seperated values and split them as elements using slipt() and store the output in variable as list1\n",
    "l1 = input(\"Enter space seperated values as elements in first list\").split()\n",
    "# take space seperated values and split them as elements using slipt() and store the output in variable as list1\n",
    "l2 = input(\"Enter space seperated values as elements in second list\").split()\n",
    "# print the input lists\n",
    "print(\"entered list -\", l1)\n",
    "print(\"entered list -\", l2)\n",
    "# initialize an empty list to store common values\n",
    "ans = []\n",
    "'''\n",
    "approach is : we will check each element of list1 if it is present in list2.\n",
    "if it is present in list two, it means it is common in both list\n",
    "'''\n",
    "# iterate over each elemnt of list1\n",
    "for i in l1:\n",
    "    # check if it exists in list2 using in operator and append it in ans list\n",
    "    if i in l2:\n",
    "        ans.append(i)\n",
    "# print the list os common elements.\n",
    "print(\"element which are common in both list -\", ans)"
   ]
  },
  {
   "cell_type": "markdown",
   "metadata": {},
   "source": [
    "##### 19. Develop a program that prints the pattern of right-angled triangles using a `for` loop. Use ‘*’ to draw the pattern"
   ]
  },
  {
   "cell_type": "code",
   "execution_count": 9,
   "metadata": {},
   "outputs": [
    {
     "name": "stdout",
     "output_type": "stream",
     "text": [
      "*\n",
      "**\n",
      "***\n",
      "****\n",
      "*****\n",
      "******\n",
      "*******\n",
      "********\n"
     ]
    }
   ],
   "source": [
    "# input the value of n using input() and covert it into integer using int()\n",
    "# this n is basically shows number of rows in triangle\n",
    "n=int(input(\"enter the number of rows in triangle\"))\n",
    "# execute the for loop in range 1 to n+1\n",
    "for i in range(1,n+1):\n",
    "    # print the * . number of * should in a row should be equal to the row number\n",
    "    print('*'*i)\n"
   ]
  },
  {
   "cell_type": "markdown",
   "metadata": {},
   "source": [
    "##### 20. Write a program to find the greatest common divisor (GCD) of two numbers using a `for` loop.\n"
   ]
  },
  {
   "cell_type": "code",
   "execution_count": 13,
   "metadata": {},
   "outputs": [
    {
     "name": "stdout",
     "output_type": "stream",
     "text": [
      "NUmbers whose gcd is to be find are 32524 and 456748\n",
      "GCD = 4\n"
     ]
    }
   ],
   "source": [
    "# take input values for a,b tto calculate GCD using input() and split them on the basis of space using split() \n",
    "# convert these values into integer using map()\n",
    "a, b = map(int, input(\"Enter space seperated values whose GCD needs to be calculated\").split())\n",
    "# initialize GCD of numbers entered\n",
    "gcd = 1\n",
    "# print input elements\n",
    "print(\"NUmbers whose gcd is to be find are {} and {}\".format(a, b))\n",
    "# execute a loop from 1 to minimum of entered numbers\n",
    "for i in range(1,min(a,b)):\n",
    "    # if both numbers are divisible by any number in the above range then  we put the number in gcd variable\n",
    "    # each time we check and do the same as stated above so there will be a time when we get the maximum number which can divide both the numbers and it will be considered as GCD\n",
    "    if a%i == 0 and b%i== 0:\n",
    "        gcd = i \n",
    "# print the GCD\n",
    "print(\"GCD =\", gcd)"
   ]
  },
  {
   "cell_type": "markdown",
   "metadata": {},
   "source": [
    "# Advanced Level:"
   ]
  },
  {
   "cell_type": "markdown",
   "metadata": {},
   "source": [
    "##### 21. Create a program that calculates the sum of the digits of numbers in a list using a list comprehension.\n"
   ]
  },
  {
   "cell_type": "code",
   "execution_count": 19,
   "metadata": {},
   "outputs": [
    {
     "name": "stdout",
     "output_type": "stream",
     "text": [
      "The original List - [2334, 4565, 8532, 87934]\n",
      "List of sum of digits of numbers - [12, 20, 18, 31]\n"
     ]
    }
   ],
   "source": [
    "# create a function to calculate sum of digits of number\n",
    "def sum_of_digits(num : int):\n",
    "    # initialize a variable to store sum of digits\n",
    "    sum1=0 \n",
    "    # execute a while loop until the number is 0 or less than 0\n",
    "    while num>0:\n",
    "        # fetch the right most digits of number and add the digit to sum variable and put the result back to sum variable\n",
    "        sum1 = sum1+(num%10) \n",
    "        # now remove the right most digit from the number\n",
    "        num = num//10\n",
    "    # return the sum of digits \n",
    "    return sum1 \n",
    "# create a list of integer numbers \n",
    "l = [2334,4565,8532,87934]\n",
    "# print original list \n",
    "print(\"The original List -\", l)\n",
    "# using list comprehension, iterate over each number element in list then using sum_of_digits we calculate the sum of digits of that number.\n",
    "# put this number as element of new list \n",
    "sum_of_digits_list = [sum_of_digits(num) for num in l]\n",
    "# print the output list\n",
    "print(\"List of sum of digits of numbers -\", sum_of_digits_list)\n",
    "\n"
   ]
  },
  {
   "cell_type": "markdown",
   "metadata": {},
   "source": [
    "##### 22. Write a program to find the prime factors of a given number using a `for` loop and list comprehension.\n"
   ]
  },
  {
   "cell_type": "code",
   "execution_count": 24,
   "metadata": {},
   "outputs": [
    {
     "name": "stdout",
     "output_type": "stream",
     "text": [
      "prime factors of 56 -\n",
      "2\n",
      "7\n"
     ]
    }
   ],
   "source": [
    "''' \n",
    "prime numbers are those numbers which are divisible by 1 or by itself.\n",
    "Note: 1 is not prime number\n",
    "prime factors of a number - factors of a number which are also prime number\n",
    "'''\n",
    "def is_prime(num:int):\n",
    "    # execute a loop from 2 to num/2, if num is divisible by any of the number in this range, it will not be a prime number\n",
    "    for i in range(2,num//2+1):\n",
    "        # if num is divisible by i then it is not prime, so return False\n",
    "        if num%i==0 :\n",
    "            return False\n",
    "    return num>1\n",
    "# take input from user using input() and convert it into integer using int()\n",
    "n = int(input(\"Enter a number\"))\n",
    "# print the entered value of n\n",
    "print(\"prime factors of {} -\".format(n))\n",
    "# execute the for loop from 2 to (n/2 + 1)\n",
    "# if any number is divisor of n, it will always be less than or equal to n/2\n",
    "for i in range(2,(n//2) + 1):\n",
    "    # check if the current number is divisor by 2 and it is also prime(using is_prime() function)\n",
    "    if n%i == 0 and is_prime(i):\n",
    "        # print the prime factor\n",
    "        print(i)\n",
    "        "
   ]
  },
  {
   "cell_type": "markdown",
   "metadata": {},
   "source": [
    "##### 23. Develop a program that extracts unique elements from a list and stores them in a new list using a list comprehension.\n"
   ]
  },
  {
   "cell_type": "code",
   "execution_count": 29,
   "metadata": {},
   "outputs": [
    {
     "data": {
      "text/plain": [
       "[1, 2, 3, 4, 5, 6, 7]"
      ]
     },
     "execution_count": 29,
     "metadata": {},
     "output_type": "execute_result"
    }
   ],
   "source": [
    "# create a list \n",
    "l = [1,2,3,4,5,2,3,4,5,6,7,4,7,4]\n",
    "# we create a list of unique element of original list using list comprehension\n",
    "''' \n",
    "approach - we execute loop in range 0 to length of list. If any element at index `i` is not present at any position before index `i`\n",
    "it means it is worthy to be added in answer list. It is considered as unique.\n",
    "'''\n",
    "unique_list = [l[i] for i in range(len(l)) if l[i] not in l[0:i]]\n",
    "# print the output list\n",
    "print(\"Output List -\",unique_list)"
   ]
  },
  {
   "cell_type": "markdown",
   "metadata": {},
   "source": [
    "##### 24. Create a program that generates a list of all palindromic numbers up to a specified limit using a list comprehension."
   ]
  },
  {
   "cell_type": "code",
   "execution_count": 40,
   "metadata": {},
   "outputs": [
    {
     "name": "stdout",
     "output_type": "stream",
     "text": [
      "The output List of palindrome numbers upto 56- [0, 1, 2, 3, 4, 5, 6, 7, 8, 9, 11, 22, 33, 44, 55]\n"
     ]
    }
   ],
   "source": [
    "# take input from user for specifying the upper bound using input() and convert it into integer using int()\n",
    "num = int(input(\"Enter a number\"))\n",
    "# using list comprehension, we iterate over all elements in range 0 to n \n",
    "# we convert each element into string and check if this string is equal to reverse of the number string(using slicing operator with negative jump)\n",
    "# if it equal, it means it is palindrome and worthy to be added in answer list\n",
    "new_list = [i for i in range(num+1) if str(i) == str(i)[::-1]]\n",
    "# print the resultant list \n",
    "print(\"The output List of palindrome numbers upto {}- {}\".format(num, new_list))"
   ]
  },
  {
   "cell_type": "markdown",
   "metadata": {},
   "source": [
    "##### 25. Write a program to flatten a nested list using list comprehension.\n"
   ]
  },
  {
   "cell_type": "code",
   "execution_count": 38,
   "metadata": {},
   "outputs": [
    {
     "name": "stdout",
     "output_type": "stream",
     "text": [
      "The flattened list - [1, 2, 3, 4, 4, 5, 6, 7, 5, 6, 7, 8, 4, 6, 8, 9]\n"
     ]
    }
   ],
   "source": [
    "# create a nested list \n",
    "l = [[1,2,3,4], [4,5,6,7], [5,6,7,8], [4,6,8,9]]\n",
    "# using list comprehension, iterate over each list element of nested list and then iterate over each element of that inner list and put the element in new list \n",
    "new_list = [element for inner_list in l for element in inner_list]\n",
    "# print the flattened list\n",
    "print(\"The flattened list -\",new_list)"
   ]
  },
  {
   "cell_type": "markdown",
   "metadata": {},
   "source": [
    "##### 26. Develop a program that computes the sum of even and odd numbers in a list separately using list comprehension."
   ]
  },
  {
   "cell_type": "code",
   "execution_count": 1,
   "metadata": {},
   "outputs": [
    {
     "name": "stdout",
     "output_type": "stream",
     "text": [
      "Original List - [1, 2, 3, 4, 5, 6, 7, 8, 9, 10, 11, 12, 13, 14, 15]\n",
      "Sum of odd elements = 64\n",
      "Sum of even elements = 56\n"
     ]
    }
   ],
   "source": [
    "# create a list \n",
    "l = [1,2,3,4,5,6,7,8,9,10,11,12,13,14,15]\n",
    "# print original list \n",
    "print(\"Original List -\", l)\n",
    "# take out the odd elements from original list using list comprehension \n",
    "odd_sum = sum([i for i in l if i%2==1])\n",
    "# take out the even elements from original list using list comprehension \n",
    "even_sum = sum([i for i in l if i%2==0])\n",
    "# print the sum of odd elements \n",
    "print(\"Sum of odd elements =\", odd_sum)\n",
    "# print the sum of even elements \n",
    "print(\"Sum of even elements =\", even_sum)"
   ]
  },
  {
   "cell_type": "markdown",
   "metadata": {},
   "source": [
    "##### 27. Create a program that generates a list of squares of odd numbers between 1 and 10 using list comprehension."
   ]
  },
  {
   "cell_type": "code",
   "execution_count": 41,
   "metadata": {},
   "outputs": [
    {
     "name": "stdout",
     "output_type": "stream",
     "text": [
      "The list of square of odd numbers from 1 to 10 - [1, 9, 25, 49, 81]\n"
     ]
    }
   ],
   "source": [
    "# using list comprehension, get values from 1 to 10 and calculate the sqaure of those elements using ** operator\n",
    "sq_list = [i**2 for i in range(1,11) if i%2==1]\n",
    "# print the output list\n",
    "print(\"The list of square of odd numbers from 1 to 10 -\", sq_list)"
   ]
  },
  {
   "cell_type": "markdown",
   "metadata": {},
   "source": [
    "##### 28. Write a program that combines two lists into a dictionary using list comprehension."
   ]
  },
  {
   "cell_type": "code",
   "execution_count": 48,
   "metadata": {},
   "outputs": [
    {
     "name": "stdout",
     "output_type": "stream",
     "text": [
      "Original key list - ['A', 'B', 'C', 'D', 'E']\n",
      "Original value list is - [1, 2, 3, 4, 5]\n",
      "Resultant dictionary - {'A': 1, 'B': 2, 'C': 3, 'D': 4, 'E': 5}\n"
     ]
    }
   ],
   "source": [
    "# create 2 lists, one for keys, one for values\n",
    "keys_list = [\"A\", \"B\", \"C\", \"D\", 'E']\n",
    "values_list = [1, 2, 3, 4, 5]\n",
    " \n",
    "# Printing original keys-value lists\n",
    "print(\"Original key list -\" ,keys_list)\n",
    "print(\"Original value list is -\" ,values_list)\n",
    " \n",
    "# using dictionary comprehension\n",
    "# to convert lists to dictionary\n",
    "dict_ans = {keys_list[i]: values_list[i] for i in range(len(keys_list))}\n",
    " \n",
    "# Printing resultant dictionary\n",
    "print(\"Resultant dictionary -\" , dict_ans)"
   ]
  },
  {
   "cell_type": "markdown",
   "metadata": {},
   "source": [
    "##### 29. Develop a program that extracts the vowels from a string and stores them in a list using list comprehension.\n"
   ]
  },
  {
   "cell_type": "code",
   "execution_count": 42,
   "metadata": {},
   "outputs": [
    {
     "name": "stdout",
     "output_type": "stream",
     "text": [
      "The output List - ['e', 'o', 'o']\n"
     ]
    }
   ],
   "source": [
    "# create a string with some characters\n",
    "str1 = \"Hello Python\"\n",
    "# using list comprehension, iterate over each element in string and check if element is a vowel then put it in new list\n",
    "vowel_list = [i for i in str1 if i in \"AEIOUaeiou\"]\n",
    "# print the list of vowels \n",
    "print(\"The output List -\", vowel_list)"
   ]
  },
  {
   "cell_type": "markdown",
   "metadata": {},
   "source": [
    "##### 30. Create a program that removes all non-numeric characters from a list of strings using list comprehension."
   ]
  },
  {
   "cell_type": "code",
   "execution_count": 43,
   "metadata": {},
   "outputs": [
    {
     "name": "stdout",
     "output_type": "stream",
     "text": [
      "The output List - ['1', '2', '3', '4', '5', '6']\n"
     ]
    }
   ],
   "source": [
    "# create a string with some characters\n",
    "str1 = \"Hello P1y2t3h4o5n6\"\n",
    "# using list comprehension, iterate over each element in string and check if element is a digit uisng isdigit() method then put it in new list\n",
    "numeric_list = [i for i in str1 if i.isdigit()]\n",
    "# print the list of vowels \n",
    "print(\"The output List -\", numeric_list)"
   ]
  },
  {
   "cell_type": "markdown",
   "metadata": {},
   "source": [
    "# Challenge Level:"
   ]
  },
  {
   "cell_type": "markdown",
   "metadata": {},
   "source": [
    "##### 31. Write a program to generate a list of prime numbers using the Sieve of Eratosthenes algorithm and list comprehension."
   ]
  },
  {
   "cell_type": "code",
   "execution_count": null,
   "metadata": {},
   "outputs": [],
   "source": [
    "''' \n",
    "We create a list of all numbers from 2 to n.\n",
    "We will mark all the numbers which are divisible by 2 and are greater than or equal to the square of it as false. \n",
    "same we do for each element ranging from 2 to n\n",
    "then print all the index of list where vale is True.\n",
    "'''\n",
    "# take value integer for upper bound limit \n",
    "# suppose n=10 so we need to search prime numbers between 2 to 10\n",
    "n =  int(input(\"Enter an integer upto which prime numbers are to be find\"))\n",
    "# create a boolean list with initial value as True of length n\n",
    "prime = [True for i in range(n+1)]\n",
    "# initialize a variable for iteration to compute prime number\n",
    "p = 2\n",
    "while (p * p <= n):\n",
    "  \n",
    "    # If prime[p] is not\n",
    "    # changed, then it is a prime\n",
    "    if (prime[p] == True):\n",
    "  \n",
    "        # Update all multiples of p\n",
    "        for i in range(p * p, n+1, p):\n",
    "            prime[i] = False\n",
    "    p += 1\n",
    "  \n",
    "# Print all prime numbers\n",
    "for p in range(2, n+1):\n",
    "    if prime[p]:\n",
    "        print(p)"
   ]
  },
  {
   "cell_type": "markdown",
   "metadata": {},
   "source": [
    "##### 32. Create a program that generates a list of all Pythagorean triplets up to a specified limit using list comprehension."
   ]
  },
  {
   "cell_type": "code",
   "execution_count": 50,
   "metadata": {},
   "outputs": [
    {
     "data": {
      "text/plain": [
       "[(5, 4, 3), (10, 8, 6), (13, 12, 5), (15, 12, 9), (17, 15, 8), (20, 16, 12)]"
      ]
     },
     "execution_count": 50,
     "metadata": {},
     "output_type": "execute_result"
    }
   ],
   "source": [
    "# initialize a limit for values of triplets in list\n",
    "n=20\n",
    "# using list comprehension, we need to find the values which satisfies the condition -> a*a = b*b + c*c\n",
    "# we here execute 3 loops for 3 values of pythagorean triplet and check for the condition\n",
    "list1 = [(a,b,c) for a in range(n+1) for b in range(a) for c in range(b) if a*a == b*b + c*c]\n",
    "# print the resultant list \n",
    "print(\"Pythogorean triplets list -\",list1)"
   ]
  },
  {
   "cell_type": "markdown",
   "metadata": {},
   "source": [
    "##### 33. Develop a program that generates a list of all possible combinations of two lists using list comprehension.\n"
   ]
  },
  {
   "cell_type": "code",
   "execution_count": 51,
   "metadata": {},
   "outputs": [
    {
     "name": "stdout",
     "output_type": "stream",
     "text": [
      "The Output list = [(1, 4), (1, 5), (1, 6), (1, 7), (1, 8), (2, 4), (2, 5), (2, 6), (2, 7), (2, 8), (3, 4), (3, 5), (3, 6), (3, 7), (3, 8), (4, 4), (4, 5), (4, 6), (4, 7), (4, 8), (5, 4), (5, 5), (5, 6), (5, 7), (5, 8)]\n"
     ]
    }
   ],
   "source": [
    "# create two lists - \n",
    "l1 = [1,2,3,4,5]\n",
    "l2 = [4,5,6,7,8]\n",
    "# using list comprehension, iterate over the elements of list 1 and list2 to make combinations\n",
    "combined_list = [(i,j) for i in l1 for j in l2]\n",
    "# print the combination list\n",
    "print(\"The Output list =\", combined_list)"
   ]
  },
  {
   "cell_type": "markdown",
   "metadata": {},
   "source": [
    "##### 34. Write a program that calculates the mean, median, and mode of a list of numbers using list comprehension."
   ]
  },
  {
   "cell_type": "code",
   "execution_count": 34,
   "metadata": {},
   "outputs": [
    {
     "name": "stdout",
     "output_type": "stream",
     "text": [
      "The mean is 5.142857142857143\n",
      "The median is 5.5\n",
      "The mode is [8, 2, 3, 4]\n"
     ]
    }
   ],
   "source": [
    "# create a sorted list \n",
    "l1 = [1,2,2,3,3,4,4,5,6,7,8,8,9,10]\n",
    "# calculate length of list using len() method\n",
    "length = len(l1)\n",
    "# calculate sum of elements in list using sum()\n",
    "summ = sum(l1)\n",
    "# calculate mean by dividing sum of elements divide by number of elements in list\n",
    "mean = summ/length \n",
    "# for calculating median, we have to find middle element of sorted list\n",
    "median = l1[length//2]\n",
    "# if number of elements in list is even then we take 2 middle elements, sum them up and divide it by 2 to get median \n",
    "if length%2 == 0:\n",
    "    median = (l1[length//2] + l1[length//2 + 1])/2\n",
    "# to calculate mode, we need to count what is the maximum frequency amoung all elements.\n",
    "# then check if any element has same frequency as the maximum frequency then it is mode\n",
    "# to avoid duplicacy, we store the elements in set.\n",
    "mode = set([i for i in l1 if l1.count(i) == max([l1.count(i) for i in l1])])\n",
    "# print the mean, mode, median\n",
    "print(\"The mean is\", mean)\n",
    "print(\"The median is\",median)\n",
    "print(\"The mode is\", list(mode))\n",
    "\n"
   ]
  },
  {
   "cell_type": "markdown",
   "metadata": {},
   "source": [
    "##### 35. Create a program that generates Pascal's triangle up to a specified number of rows using list comprehension.\n"
   ]
  },
  {
   "cell_type": "code",
   "execution_count": 39,
   "metadata": {},
   "outputs": [
    {
     "name": "stdout",
     "output_type": "stream",
     "text": [
      "     1 \n",
      "    1 1 \n",
      "   1 2 1 \n",
      "  1 3 3 1 \n",
      " 1 4 6 4 1 \n"
     ]
    }
   ],
   "source": [
    "# Print Pascal's Triangle in Python\n",
    "from math import factorial\n",
    "\n",
    "# number of rows = n\n",
    "n = 5\n",
    "# calculate values of pascal triangle using formula nCr => n!/(n-r)!(r!)\n",
    "# so pascal trianglge should look like\n",
    "''' \n",
    "          0C0                   ----> row 0\n",
    "       1C0   1C1                ----> row 1\n",
    "    2C0   2C1   2C2             ----> row 2\n",
    " 3C0   3C1   3C2    3C3         ----> row 3\n",
    "'''\n",
    "# we try to calculate each value using list comprehension\n",
    "l = [ factorial(i)//(factorial(j)*factorial(i-j)) for i in range(n) for j in range(i+1)]\n",
    "# now we need to print the list elements in triangular pattern\n",
    "# initialize a variable to keep record if index of elements in list\n",
    "k=0\n",
    "# iterate for loop for row of triangle\n",
    "for i in range(n):\n",
    "\t# print the left spaces of triangle\n",
    "\tprint(\" \"*(n-i-1), end = \" \")\n",
    "\t# iterate for columns of triangle\n",
    "\tfor j in range(i+1):\n",
    "\t\t# print values of pascal triangle \n",
    "\t\tprint(l[k], end=\" \")\n",
    "\t\t# increase index recorder by 1\n",
    "\t\tk+=1\n",
    "\n",
    "\t# for new line\n",
    "\tprint()\n"
   ]
  },
  {
   "cell_type": "markdown",
   "metadata": {},
   "source": [
    "##### 36. Develop a program that calculates the sum of the digits of a factorial of numbers from 1 to 5 using list comprehension.\n"
   ]
  },
  {
   "cell_type": "code",
   "execution_count": 18,
   "metadata": {},
   "outputs": [
    {
     "name": "stdout",
     "output_type": "stream",
     "text": [
      "The result is [1, 2, 6, 6, 3, 9]\n"
     ]
    }
   ],
   "source": [
    "# create a function to calculate sum of digits of number\n",
    "def sum_of_digits(num : int):\n",
    "    # initialize a variable to store sum of digits\n",
    "    sum1=0 \n",
    "    # execute a while loop until the number is 0 or less than 0\n",
    "    while num>0:\n",
    "        # fetch the right most digits of number and add the digit to sum variable and put the result back to sum variable\n",
    "        sum1 = sum1+(num%10) \n",
    "        # now remove the right most digit from the number\n",
    "        num = num//10\n",
    "    # return the sum of digits \n",
    "    return sum1 \n",
    "# create a function to calculate factorial of number\n",
    "def get_factorial(number:int):\n",
    "    # initialize a variable to store factorial\n",
    "    fact = 1\n",
    "    # execute a for loop from 1 to number+1 coz range() allows loop to run upperbound-1\n",
    "    for i in range(1, number+1):\n",
    "        # at each iteration multiply fact with i and store the result in fact using *= operator\n",
    "        fact *= i \n",
    "    return fact \n",
    "# create a list \n",
    "l =[1,2,3,4,5,6]\n",
    "# calculate factorial of each element using get_factorial() method and then get sum of that factorial using sum_of_digits() method and put it in list using list comprehension\n",
    "sum_fact_list = [sum_of_digits(get_factorial(num)) for num in l]\n",
    "print(\"The result is\", sum_fact_list)"
   ]
  },
  {
   "cell_type": "markdown",
   "metadata": {},
   "source": [
    "##### 37. Write a program that finds the longest word in a sentence using list comprehension.\n"
   ]
  },
  {
   "cell_type": "code",
   "execution_count": 22,
   "metadata": {},
   "outputs": [
    {
     "name": "stdout",
     "output_type": "stream",
     "text": [
      "The longest words are ['Painting', 'Alpha123']\n"
     ]
    }
   ],
   "source": [
    "# create a list of strings\n",
    "str_list = [\"Apple\",\"Guava\",\"Painting\",\"Red\",\"Alpha123\"]\n",
    "# check what is the maximum length among all the elements\n",
    "max_length = max([len(i) for i in str_list])\n",
    "# check which strings has length equals to maxm_length\n",
    "longest_words = [i for i in str_list if len(i) == max_length]\n",
    "# print the output\n",
    "print(\"The longest words are\",longest_words)\n"
   ]
  },
  {
   "cell_type": "markdown",
   "metadata": {},
   "source": [
    "##### 38. Create a program that filters a list of strings to include only those with more than three vowels using list comprehension.\n"
   ]
  },
  {
   "cell_type": "code",
   "execution_count": 32,
   "metadata": {},
   "outputs": [
    {
     "name": "stdout",
     "output_type": "stream",
     "text": [
      "The list of words having 3 or more vowles - ['Banana', 'Guava', 'Painting', 'Carpet Clothes']\n"
     ]
    }
   ],
   "source": [
    "# create a list having strings\n",
    "l = [\"Apple\",\"Banana\", \"Guava\",\"Painting\",\"Carpet Clothes\"]\n",
    "# we iterate over each element of list using list comprehension.\n",
    "# we calculate the list of of vowels in each string element and find length of that string\n",
    "# if the length is greater than or equal to 3,we can include the string element in our answer list\n",
    "vowels_list = [str1 for str1 in l if len([i for i in str1 if i in ('aeiouAEIOU')])>=3]\n",
    "# print the output list\n",
    "print(\"The list of words having 3 or more vowles -\",vowels_list)"
   ]
  },
  {
   "cell_type": "markdown",
   "metadata": {},
   "source": [
    "##### 39. Develop a program that calculates the sum of the digits of numbers from 1 to 1000 using list comprehension.\n"
   ]
  },
  {
   "cell_type": "code",
   "execution_count": 23,
   "metadata": {},
   "outputs": [
    {
     "name": "stdout",
     "output_type": "stream",
     "text": [
      "The list of sum of digits  [1, 2, 3, 4, 5, 6, 7, 8, 9, 1, 2, 3, 4, 5, 6, 7, 8, 9, 10, 2, 3, 4, 5, 6, 7, 8, 9, 10, 11, 3, 4, 5, 6, 7, 8, 9, 10, 11, 12, 4, 5, 6, 7, 8, 9, 10, 11, 12, 13, 5, 6, 7, 8, 9, 10, 11, 12, 13, 14, 6, 7, 8, 9, 10, 11, 12, 13, 14, 15, 7, 8, 9, 10, 11, 12, 13, 14, 15, 16, 8, 9, 10, 11, 12, 13, 14, 15, 16, 17, 9, 10, 11, 12, 13, 14, 15, 16, 17, 18, 1, 2, 3, 4, 5, 6, 7, 8, 9, 10, 2, 3, 4, 5, 6, 7, 8, 9, 10, 11, 3, 4, 5, 6, 7, 8, 9, 10, 11, 12, 4, 5, 6, 7, 8, 9, 10, 11, 12, 13, 5, 6, 7, 8, 9, 10, 11, 12, 13, 14, 6, 7, 8, 9, 10, 11, 12, 13, 14, 15, 7, 8, 9, 10, 11, 12, 13, 14, 15, 16, 8, 9, 10, 11, 12, 13, 14, 15, 16, 17, 9, 10, 11, 12, 13, 14, 15, 16, 17, 18, 10, 11, 12, 13, 14, 15, 16, 17, 18, 19, 2, 3, 4, 5, 6, 7, 8, 9, 10, 11, 3, 4, 5, 6, 7, 8, 9, 10, 11, 12, 4, 5, 6, 7, 8, 9, 10, 11, 12, 13, 5, 6, 7, 8, 9, 10, 11, 12, 13, 14, 6, 7, 8, 9, 10, 11, 12, 13, 14, 15, 7, 8, 9, 10, 11, 12, 13, 14, 15, 16, 8, 9, 10, 11, 12, 13, 14, 15, 16, 17, 9, 10, 11, 12, 13, 14, 15, 16, 17, 18, 10, 11, 12, 13, 14, 15, 16, 17, 18, 19, 11, 12, 13, 14, 15, 16, 17, 18, 19, 20, 3, 4, 5, 6, 7, 8, 9, 10, 11, 12, 4, 5, 6, 7, 8, 9, 10, 11, 12, 13, 5, 6, 7, 8, 9, 10, 11, 12, 13, 14, 6, 7, 8, 9, 10, 11, 12, 13, 14, 15, 7, 8, 9, 10, 11, 12, 13, 14, 15, 16, 8, 9, 10, 11, 12, 13, 14, 15, 16, 17, 9, 10, 11, 12, 13, 14, 15, 16, 17, 18, 10, 11, 12, 13, 14, 15, 16, 17, 18, 19, 11, 12, 13, 14, 15, 16, 17, 18, 19, 20, 12, 13, 14, 15, 16, 17, 18, 19, 20, 21, 4, 5, 6, 7, 8, 9, 10, 11, 12, 13, 5, 6, 7, 8, 9, 10, 11, 12, 13, 14, 6, 7, 8, 9, 10, 11, 12, 13, 14, 15, 7, 8, 9, 10, 11, 12, 13, 14, 15, 16, 8, 9, 10, 11, 12, 13, 14, 15, 16, 17, 9, 10, 11, 12, 13, 14, 15, 16, 17, 18, 10, 11, 12, 13, 14, 15, 16, 17, 18, 19, 11, 12, 13, 14, 15, 16, 17, 18, 19, 20, 12, 13, 14, 15, 16, 17, 18, 19, 20, 21, 13, 14, 15, 16, 17, 18, 19, 20, 21, 22, 5, 6, 7, 8, 9, 10, 11, 12, 13, 14, 6, 7, 8, 9, 10, 11, 12, 13, 14, 15, 7, 8, 9, 10, 11, 12, 13, 14, 15, 16, 8, 9, 10, 11, 12, 13, 14, 15, 16, 17, 9, 10, 11, 12, 13, 14, 15, 16, 17, 18, 10, 11, 12, 13, 14, 15, 16, 17, 18, 19, 11, 12, 13, 14, 15, 16, 17, 18, 19, 20, 12, 13, 14, 15, 16, 17, 18, 19, 20, 21, 13, 14, 15, 16, 17, 18, 19, 20, 21, 22, 14, 15, 16, 17, 18, 19, 20, 21, 22, 23, 6, 7, 8, 9, 10, 11, 12, 13, 14, 15, 7, 8, 9, 10, 11, 12, 13, 14, 15, 16, 8, 9, 10, 11, 12, 13, 14, 15, 16, 17, 9, 10, 11, 12, 13, 14, 15, 16, 17, 18, 10, 11, 12, 13, 14, 15, 16, 17, 18, 19, 11, 12, 13, 14, 15, 16, 17, 18, 19, 20, 12, 13, 14, 15, 16, 17, 18, 19, 20, 21, 13, 14, 15, 16, 17, 18, 19, 20, 21, 22, 14, 15, 16, 17, 18, 19, 20, 21, 22, 23, 15, 16, 17, 18, 19, 20, 21, 22, 23, 24, 7, 8, 9, 10, 11, 12, 13, 14, 15, 16, 8, 9, 10, 11, 12, 13, 14, 15, 16, 17, 9, 10, 11, 12, 13, 14, 15, 16, 17, 18, 10, 11, 12, 13, 14, 15, 16, 17, 18, 19, 11, 12, 13, 14, 15, 16, 17, 18, 19, 20, 12, 13, 14, 15, 16, 17, 18, 19, 20, 21, 13, 14, 15, 16, 17, 18, 19, 20, 21, 22, 14, 15, 16, 17, 18, 19, 20, 21, 22, 23, 15, 16, 17, 18, 19, 20, 21, 22, 23, 24, 16, 17, 18, 19, 20, 21, 22, 23, 24, 25, 8, 9, 10, 11, 12, 13, 14, 15, 16, 17, 9, 10, 11, 12, 13, 14, 15, 16, 17, 18, 10, 11, 12, 13, 14, 15, 16, 17, 18, 19, 11, 12, 13, 14, 15, 16, 17, 18, 19, 20, 12, 13, 14, 15, 16, 17, 18, 19, 20, 21, 13, 14, 15, 16, 17, 18, 19, 20, 21, 22, 14, 15, 16, 17, 18, 19, 20, 21, 22, 23, 15, 16, 17, 18, 19, 20, 21, 22, 23, 24, 16, 17, 18, 19, 20, 21, 22, 23, 24, 25, 17, 18, 19, 20, 21, 22, 23, 24, 25, 26, 9, 10, 11, 12, 13, 14, 15, 16, 17, 18, 10, 11, 12, 13, 14, 15, 16, 17, 18, 19, 11, 12, 13, 14, 15, 16, 17, 18, 19, 20, 12, 13, 14, 15, 16, 17, 18, 19, 20, 21, 13, 14, 15, 16, 17, 18, 19, 20, 21, 22, 14, 15, 16, 17, 18, 19, 20, 21, 22, 23, 15, 16, 17, 18, 19, 20, 21, 22, 23, 24, 16, 17, 18, 19, 20, 21, 22, 23, 24, 25, 17, 18, 19, 20, 21, 22, 23, 24, 25, 26, 18, 19, 20, 21, 22, 23, 24, 25, 26, 27, 1]\n"
     ]
    }
   ],
   "source": [
    "# create a function to calculate sum of digits of number\n",
    "def sum_of_digits(num : int):\n",
    "    # initialize a variable to store sum of digits\n",
    "    sum1=0 \n",
    "    # execute a while loop until the number is 0 or less than 0\n",
    "    while num>0:\n",
    "        # fetch the right most digits of number and add the digit to sum variable and put the result back to sum variable\n",
    "        sum1 = sum1+(num%10) \n",
    "        # now remove the right most digit from the number\n",
    "        num = num//10\n",
    "    # return the sum of digits \n",
    "    return sum1 \n",
    "# to get a list of sum of digits for numbers ranging from 1 to 1000 using sum_of_digits() method by iterating over each element using list comprehension\n",
    "sum_list = [sum_of_digits(i) for i in range(1,1001)]\n",
    "# print the output list\n",
    "print(\"The list of sum of digits \",sum_list)"
   ]
  },
  {
   "cell_type": "markdown",
   "metadata": {},
   "source": [
    "##### 40. Write a program that generates a list of prime palindromic numbers using list comprehension."
   ]
  },
  {
   "cell_type": "code",
   "execution_count": 41,
   "metadata": {},
   "outputs": [
    {
     "name": "stdout",
     "output_type": "stream",
     "text": [
      "List of prime palindrome upto 300 is [2, 3, 5, 7, 11, 101, 131, 151, 181, 191]\n"
     ]
    }
   ],
   "source": [
    "''' \n",
    "prime numbers are those numbers which are divisible by 1 or by itself.\n",
    "Note: 1 is not prime number\n",
    "'''\n",
    "def is_prime(num:int):\n",
    "    # execute a loop from 2 to num/2, if num is divisible by any of the number in this range, it will not be a prime number\n",
    "    for i in range(2,num//2+1):\n",
    "        # if num is divisible by i then it is not prime, so return False\n",
    "        if num%i==0 :  \n",
    "            return False\n",
    "    return num>1\n",
    "# take input integer value from user using input() and convert it into integer using int()\n",
    "# this value basically shows that we need to consider numbers from 2 to n for checking prime palindrome\n",
    "n = int(input(\"Enter the upper bound or limit upto which prime palindrome is needed to be find\"))\n",
    "# using list comprehension, we iterate over numbers ranging from 2 to n.\n",
    "# for each number we check whether it is prime or not usnig is_prime() method\n",
    "# and we check whether the number is palindrome or not\n",
    "# for palindrome, we convert number to string using str() and calculate reverse of this string using slicing operator with negative jump\n",
    "# and check if they both are equal it means number is palindrome\n",
    "l = [i for i in range(2,n+1) if is_prime(i) and str(i)==str(i)[::-1]]\n",
    "# print the resultant list\n",
    "print(\"List of prime palindrome upto {} is {}\".format(n, l))\n",
    "\n",
    "\n",
    "\n"
   ]
  },
  {
   "cell_type": "markdown",
   "metadata": {},
   "source": []
  }
 ],
 "metadata": {
  "kernelspec": {
   "display_name": "base",
   "language": "python",
   "name": "python3"
  },
  "language_info": {
   "codemirror_mode": {
    "name": "ipython",
    "version": 3
   },
   "file_extension": ".py",
   "mimetype": "text/x-python",
   "name": "python",
   "nbconvert_exporter": "python",
   "pygments_lexer": "ipython3",
   "version": "3.11.4"
  },
  "orig_nbformat": 4
 },
 "nbformat": 4,
 "nbformat_minor": 2
}
