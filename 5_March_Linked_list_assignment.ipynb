{
 "cells": [
  {
   "cell_type": "markdown",
   "metadata": {},
   "source": [
    "## Node Creation"
   ]
  },
  {
   "cell_type": "code",
   "execution_count": 24,
   "metadata": {},
   "outputs": [],
   "source": [
    "# create a Node class\n",
    "class Node:\n",
    "    # define constructor with attributes data, next\n",
    "    def __init__(self, data = None, next = None) -> None:\n",
    "        self.__data = data\n",
    "        self.__next = next \n",
    "    # create getter for data\n",
    "    @property\n",
    "    def data(self):\n",
    "        return self.__data\n",
    "\n",
    "    # create setter for data\n",
    "    @data.setter\n",
    "    def data(self, data=None):\n",
    "        self.__data = data \n",
    "    # create getter for next\n",
    "    @property\n",
    "    def next(self):\n",
    "        return self.__next\n",
    "    # create setter for next\n",
    "    @next.setter\n",
    "    def next(self, next=None):\n",
    "        self.__next = next \n"
   ]
  },
  {
   "cell_type": "markdown",
   "metadata": {},
   "source": [
    "### Creation of Linked List, print linked list method, size of linked list method. These methods will be used in all below questions for printing the result"
   ]
  },
  {
   "cell_type": "markdown",
   "metadata": {},
   "source": [
    "* Creation of linked list"
   ]
  },
  {
   "cell_type": "code",
   "execution_count": 25,
   "metadata": {},
   "outputs": [],
   "source": [
    "# Linked List creation-\n",
    "\n",
    "# create 5 nodes\n",
    "main_head = Node(1)\n",
    "node2 = Node(2)\n",
    "node3 = Node(3)\n",
    "node4 = Node(4)\n",
    "node5 = Node(5)\n",
    "\n",
    "# link all the nodes to one another in a sequence\n",
    "main_head.next = node2 \n",
    "node2.next = node3 \n",
    "node3.next = node4 \n",
    "node4.next = node5\n"
   ]
  },
  {
   "cell_type": "markdown",
   "metadata": {},
   "source": [
    "* methods to print linked list"
   ]
  },
  {
   "cell_type": "code",
   "execution_count": 26,
   "metadata": {},
   "outputs": [
    {
     "name": "stdout",
     "output_type": "stream",
     "text": [
      "1 -> 2 -> 3 -> 4 -> 5\n"
     ]
    }
   ],
   "source": [
    "# method to print linked list\n",
    "def print_linkedlist(main_head):\n",
    "    # execute a loop until main_head points to None\n",
    "    while main_head.next!= None:\n",
    "        # print the data of current node\n",
    "        print(str(main_head.data) + ' -> ', end = '')\n",
    "        # points the execution control to next node\n",
    "        main_head = main_head.next\n",
    "    # print the last node data\n",
    "    print(main_head.data)\n",
    "# call the function \n",
    "print_linkedlist(main_head)\n"
   ]
  },
  {
   "cell_type": "markdown",
   "metadata": {},
   "source": [
    "* method to find size of linked list"
   ]
  },
  {
   "cell_type": "code",
   "execution_count": 27,
   "metadata": {},
   "outputs": [
    {
     "data": {
      "text/plain": [
       "5"
      ]
     },
     "execution_count": 27,
     "metadata": {},
     "output_type": "execute_result"
    }
   ],
   "source": [
    "# method to find size of linked list\n",
    "def linkedlist_size(main_head):\n",
    "    # initialize a variable to store length\n",
    "    length = 0\n",
    "    # execute a loop until main_head points to None\n",
    "    while(main_head!=None):\n",
    "        # increase the value of length by 1 at each iteration\n",
    "        length += 1\n",
    "        # points the execution control to next node\n",
    "        main_head=main_head.next\n",
    "    # return the length \n",
    "    return length\n",
    "# call the function\n",
    "linkedlist_size(main_head)"
   ]
  },
  {
   "cell_type": "markdown",
   "metadata": {},
   "source": [
    "##### 1. Define a double linked list"
   ]
  },
  {
   "cell_type": "code",
   "execution_count": 28,
   "metadata": {},
   "outputs": [
    {
     "name": "stdout",
     "output_type": "stream",
     "text": [
      "1 <-> 3 <-> 5 <-> 7\n",
      "length of list1 : 4\n"
     ]
    }
   ],
   "source": [
    "# create a doubly node\n",
    "class DNode:\n",
    "    # define constructor\n",
    "    def __init__(self, data = None, next = None, prev = None) -> None:\n",
    "        self.__data = data \n",
    "        self.__next = next \n",
    "        self.__prev = prev\n",
    "    # define getter and setter for data \n",
    "    @property\n",
    "    def data(self):\n",
    "        return self.__data\n",
    "\n",
    "    @data.setter\n",
    "    def data(self, data=None):\n",
    "        self.__data = data \n",
    "    # define getter and setter for next pointer\n",
    "    @property\n",
    "    def next(self):\n",
    "        return self.__next\n",
    "\n",
    "    @next.setter\n",
    "    def next(self, next=None):\n",
    "        self.__next = next \n",
    "    # define getter and setter for previous node pointer\n",
    "    @property\n",
    "    def prev(self):\n",
    "        return self.__prev\n",
    "\n",
    "    @prev.setter\n",
    "    def prev(self, prev=None):\n",
    "        self.__prev = prev \n",
    "# doubly linked list \n",
    "node1 = DNode(1)\n",
    "node3= DNode(3)\n",
    "node5 = DNode(5)\n",
    "node7 = DNode(7)\n",
    "node1.next = node3\n",
    "node3.prev = node1\n",
    "node3.next = node5\n",
    "node5.prev = node3\n",
    "node5.next = node7 \n",
    "node7.prev = node5\n",
    "\n",
    "\n",
    "\n",
    "# method to find size of linked list\n",
    "def doubly_linkedlist_size(main_head):\n",
    "    length = 0\n",
    "    while(main_head!=None):\n",
    "        length += 1\n",
    "        main_head=main_head.next\n",
    "    return length\n",
    "\n",
    "# method to print linked list\n",
    "def print_doubly_linkedlist(main_head):\n",
    "    while main_head.next!= None:\n",
    "        print(str(main_head.data) + ' <-> ', end = '')\n",
    "        main_head = main_head.next\n",
    "    print(main_head.data)\n",
    "\n",
    "print_doubly_linkedlist(node1)\n",
    "print(\"length of list1 :\",doubly_linkedlist_size(node1))\n"
   ]
  },
  {
   "cell_type": "markdown",
   "metadata": {},
   "source": [
    "##### 2. Write a function to reverse a linked list in-place"
   ]
  },
  {
   "cell_type": "code",
   "execution_count": 29,
   "metadata": {},
   "outputs": [
    {
     "name": "stdout",
     "output_type": "stream",
     "text": [
      "5 -> 4 -> 3 -> 2 -> 1\n"
     ]
    }
   ],
   "source": [
    "# method to reverse this list\n",
    "def reverse_list(node):\n",
    "    # base condition: if execution reaches to last node then make it head for new reversed linked list\n",
    "    if node.next == None: \n",
    "        head = node\n",
    "        # return the tuple of head and tail (denoted by node)\n",
    "        return (node, head)\n",
    "    # if it is not the last node then call the reverse_list function and passes the next node to this function\n",
    "    # it wil return the revsered list with head and tail(denoted by tail)\n",
    "    (tail, head) = reverse_list(node.next)\n",
    "    # put the current node to the next of tail\n",
    "    tail.next = node\n",
    "    # point the node.next to None\n",
    "    node.next = None\n",
    "    # now make the current node as tail \n",
    "    tail = tail.next\n",
    "    # return the head of reversed list and tail of reversed list\n",
    "    return (tail, head) \n",
    "# get the head and tail of reversed list by calling reverse_list() methos\n",
    "(ans_tail, ans_head)=reverse_list(main_head)\n",
    "# print the reverse list\n",
    "print_linkedlist(ans_head)"
   ]
  },
  {
   "cell_type": "markdown",
   "metadata": {},
   "source": [
    "##### 3. Detect cycle in a linked list"
   ]
  },
  {
   "cell_type": "code",
   "execution_count": 30,
   "metadata": {},
   "outputs": [
    {
     "name": "stdout",
     "output_type": "stream",
     "text": [
      "Cycle is present\n",
      "cycle is present at node 2\n"
     ]
    }
   ],
   "source": [
    "# Linked List creation\n",
    "# create nodes\n",
    "head1 = Node(1)\n",
    "node2 = Node(2)\n",
    "node3 = Node(3)\n",
    "node4 = Node(4)\n",
    "node5 = Node(5)\n",
    "# link all the nodes to one another in a sequence\n",
    "head1.next = node2 \n",
    "node2.next = node3 \n",
    "node3.next = node4 \n",
    "node4.next = node5\n",
    "node5.next = node2 \n",
    "\n",
    "# assign two varaible for 2 nodes, one will move 2 step at once and other will move one step at once.\n",
    "fast = head1 \n",
    "slow = head1\n",
    "# create a flag to know if cycle is present or not\n",
    "is_cycle = False \n",
    "# execute a loop\n",
    "while(True):\n",
    "    # fast moves 2 steps\n",
    "    fast = fast.next.next \n",
    "    # slow moves one step\n",
    "    slow = slow.next \n",
    "    # if fast and slow meets at one node at a point it means cycle is present.\n",
    "    if fast== slow:\n",
    "        # set the flag to True\n",
    "        is_cycle = True \n",
    "        break\n",
    "#  print the result.\n",
    "print('Cycle is present') if is_cycle else print('Cycle is not present')\n",
    "\n",
    "# now check at which point, cycle is created.\n",
    "while(slow!=head1):\n",
    "    head1 = head1.next \n",
    "    slow = slow.next \n",
    "# print the meeting point\n",
    "if is_cycle:\n",
    "    print('cycle is present at node', slow.data)\n",
    "\n"
   ]
  },
  {
   "cell_type": "markdown",
   "metadata": {},
   "source": [
    "##### 4: Merge two sorted linked lists into one sorted linked list.\n",
    "* Input: List 1: 1 -> 3 -> 5, List 2: 2 -> 4 -> 6\n",
    "* Output: 1 -> 2 -> 3 -> 4 -> 5 -> 6"
   ]
  },
  {
   "cell_type": "code",
   "execution_count": 31,
   "metadata": {},
   "outputs": [
    {
     "name": "stdout",
     "output_type": "stream",
     "text": [
      "List1 -:\n",
      "1 -> 3 -> 6\n",
      "List2 -:\n",
      "2 -> 4 -> 5\n"
     ]
    }
   ],
   "source": [
    "# Linked List creation\n",
    "# create nodes\n",
    "head1 = Node(1)\n",
    "head2 = Node(2)\n",
    "node2 = Node(3)\n",
    "node3 = Node(6)\n",
    "node4 = Node(4)\n",
    "node5 = Node(5)\n",
    "# link all the nodes to one another in a sequence\n",
    "head1.next = node2 \n",
    "node2.next = node3 \n",
    "head2.next = node4 \n",
    "node4.next = node5\n",
    "\n",
    "# print lists\n",
    "print(\"List1 -:\")\n",
    "print_linkedlist(head1)\n",
    "print(\"List2 -:\")\n",
    "print_linkedlist(head2)"
   ]
  },
  {
   "cell_type": "code",
   "execution_count": 32,
   "metadata": {},
   "outputs": [
    {
     "name": "stdout",
     "output_type": "stream",
     "text": [
      "1 -> 2 -> 3 -> 4 -> 5 -> 6\n"
     ]
    }
   ],
   "source": [
    "# create a method to merge the sorted list\n",
    "def merge_sorted_list(h1, h2):\n",
    "    # initialize a variable to store the head of merged list\n",
    "    new_head = None\n",
    "    # initialize a variable to store nodes for merging \n",
    "    temp = None\n",
    "    # if head data of first list if smaller than head data of second list\n",
    "    if h1.data<h2.data:\n",
    "        # assign h1 to new head\n",
    "        new_head = h1 \n",
    "        # put h1 to temp\n",
    "        temp = h1 \n",
    "        # h1 points to next node of list\n",
    "        h1 = h1.next\n",
    "    # otherwise\n",
    "    else:\n",
    "        # assign h2 to new head\n",
    "        new_head = h2 \n",
    "        # put h2 to temp\n",
    "        temp = h2 \n",
    "        # h2 points to next node of list\n",
    "        h2 = h2.next\n",
    "    # iterate a loop until h1 is none and h2 is none\n",
    "    while h1!= None and h2!=None:\n",
    "        # if head data of first list if smaller than head data of second list\n",
    "        if h1.data<h2.data: \n",
    "            # assign h1 to temp.next\n",
    "            temp.next = h1 \n",
    "            # temp points to next of temp\n",
    "            temp = temp.next\n",
    "            # h1 points to next node of list\n",
    "            h1 = h1.next\n",
    "        # otherwise\n",
    "        else:\n",
    "            # assign h2 to temp.next\n",
    "            temp.next = h2\n",
    "            # temp points to next of temp\n",
    "            temp = temp.next\n",
    "            # h2 points to next node of list\n",
    "            h2 = h2.next\n",
    "    # iterate a loop until h1 is none\n",
    "    while h1!=None:\n",
    "        # put h1 to temp.next\n",
    "        temp.next = h1 \n",
    "        # temp points to next of temp\n",
    "        temp = temp.next \n",
    "        # h1 points to next node of list\n",
    "        h1 = h1.next\n",
    "    # iterate a loop until h2 is none\n",
    "    while h2!=None:\n",
    "        # put h2 to temp.next\n",
    "        temp.next = h2 \n",
    "        # temp points to next of temp\n",
    "        temp = temp.next \n",
    "        # h2 points to next node of list\n",
    "        h2 = h2.next\n",
    "    # return new_head node of merged list\n",
    "    return new_head\n",
    "# merge the linked list by calling merge_sorted_list\n",
    "merger_linked_list = merge_sorted_list(head1, head2)\n",
    "# print the linked list\n",
    "print_linkedlist(merger_linked_list)"
   ]
  },
  {
   "cell_type": "markdown",
   "metadata": {},
   "source": [
    "##### 5: Remove the nth node from the end of a linked list.\n",
    "* Input: 1 -> 2 -> 3 -> 4 -> 5, n = 2\n",
    "* Output: 1 -> 2 -> 3 -> 5"
   ]
  },
  {
   "cell_type": "code",
   "execution_count": 33,
   "metadata": {},
   "outputs": [
    {
     "name": "stdout",
     "output_type": "stream",
     "text": [
      "1 -> 2 -> 3 -> 5\n"
     ]
    }
   ],
   "source": [
    "# Linked List creation-\n",
    "\n",
    "# create 5 nodes\n",
    "main_head = Node(1)\n",
    "node2 = Node(2)\n",
    "node3 = Node(3)\n",
    "node4 = Node(4)\n",
    "node5 = Node(5)\n",
    "\n",
    "# link all the nodes to one another in a sequence\n",
    "main_head.next = node2 \n",
    "node2.next = node3 \n",
    "node3.next = node4 \n",
    "node4.next = node5\n",
    "\n",
    "\n",
    "\n",
    "# create a method to remove nth node from last\n",
    "def remove_last_nth_node(node, n):\n",
    "    # assign node to head variable\n",
    "    head = node \n",
    "    # find length of linkedlist size\n",
    "    length = linkedlist_size(node)\n",
    "    # get the index for node to be deleted.\n",
    "    index = length-n\n",
    "    # if index is less than 0\n",
    "    if index<0:\n",
    "        # return invalid position\n",
    "        return \"invalid position for deletion\"\n",
    "    # if index is 0\n",
    "    elif index == 0:\n",
    "        # return next of node\n",
    "        return node.next \n",
    "    # otherwise\n",
    "    else:\n",
    "        # execute a loop for index-1\n",
    "        for i in range(index-1):\n",
    "            # set pointer to next node\n",
    "            node = node.next \n",
    "        # point node.next to next of next of node\n",
    "        node.next = node.next.next \n",
    "    # return the head node of list after deletion\n",
    "    return head \n",
    "# get the new_list after deleting the nth node from last using remove_last_nth_node()\n",
    "new_list = remove_last_nth_node(main_head,2)\n",
    "# print the list\n",
    "print_linkedlist(new_list)\n",
    "        \n",
    "\n",
    "\n"
   ]
  },
  {
   "cell_type": "markdown",
   "metadata": {},
   "source": [
    "##### 6: Remove duplicates from a sorted linked list.\n",
    "* Input: 1 -> 1 -> 2 -> 3 -> 3\n",
    "* Output: 1 -> 2 -> 3"
   ]
  },
  {
   "cell_type": "code",
   "execution_count": 34,
   "metadata": {},
   "outputs": [
    {
     "name": "stdout",
     "output_type": "stream",
     "text": [
      "Original list :-\n",
      "1 -> 2 -> 4 -> 4 -> 5\n",
      "list after deleting duplicates :-\n",
      "1 -> 2 -> 4 -> 5\n"
     ]
    }
   ],
   "source": [
    "# create method to remove duplicates  \n",
    "def  remove_duplicate(head):\n",
    "    # initialize a variable to store previous node for duplicate node\n",
    "    # initially head is assigned to it\n",
    "    prev = head \n",
    "    # assign next of head to node\n",
    "    node = head.next \n",
    "    # execute a loop until node is not none\n",
    "    while node!=None:\n",
    "        # if data of previous node is equal to data of current node it means current node is duplicate of previous node\n",
    "        if prev.data == node.data :\n",
    "            # set next of prev node to next of next of prev node\n",
    "            prev.next = prev.next.next\n",
    "            # point the node to next of node\n",
    "            node = node.next \n",
    "        # otherwise\n",
    "        else:\n",
    "            # put node in prev\n",
    "            prev = node \n",
    "            # point the node to next of node\n",
    "            node = node.next \n",
    "# Linked List creation\n",
    "main_head = Node(1)\n",
    "node2 = Node(2)\n",
    "node3 = Node(4)\n",
    "node4 = Node(4)\n",
    "node5 = Node(5)\n",
    "\n",
    "main_head.next = node2 \n",
    "node2.next = node3 \n",
    "node3.next = node4 \n",
    "node4.next = node5\n",
    "print(\"Original list :-\")\n",
    "print_linkedlist(main_head)\n",
    "# call the method remove_duplicate() to remove the duplicate nodes \n",
    "remove_duplicate(main_head)\n",
    "print(\"list after deleting duplicates :-\")\n",
    "# print the list after deletion\n",
    "print_linkedlist(main_head)"
   ]
  },
  {
   "cell_type": "markdown",
   "metadata": {},
   "source": [
    "##### 7: Find the intersection point of two linked lists.\n",
    "* Input: List 1: 1 -> 2 -> 3 -> 4, List 2: 9 -> 8 -> 3 -> 4\n",
    "* Output: Node with value 3"
   ]
  },
  {
   "cell_type": "code",
   "execution_count": 35,
   "metadata": {},
   "outputs": [
    {
     "name": "stdout",
     "output_type": "stream",
     "text": [
      "List1 -:\n",
      "1 -> 3 -> 4 -> 8 -> 9\n",
      "List2 -:\n",
      "2 -> 5 -> 6 -> 4 -> 8 -> 9\n",
      "Intersection of both linked lists: 4\n"
     ]
    }
   ],
   "source": [
    "# Linked Lists creation\n",
    "head1 = Node(1)\n",
    "head2 = Node(2)\n",
    "node2 = Node(3)\n",
    "node3 = Node(4)\n",
    "node4 = Node(5)\n",
    "node5 = Node(6)\n",
    "node6 = Node(7)\n",
    "node7 = Node(8)\n",
    "node8 = Node(9)\n",
    "head1.next = node2 \n",
    "node2.next = node3 \n",
    "node3.next = node7\n",
    "node7.next = node8\n",
    "head2.next = node4 \n",
    "node4.next = node5\n",
    "node5.next = node3\n",
    "\n",
    "print(\"List1 -:\")\n",
    "print_linkedlist(head1)\n",
    "print(\"List2 -:\")\n",
    "print_linkedlist(head2)\n",
    "\n",
    "\n",
    "# create a method to get intersection point of 2 linked lists\n",
    "def get_intersection(small_head, large_head, s, l):\n",
    "    # initialize a variable to store node\n",
    "    node = None \n",
    "    # if length of smaller list is lesser than length of larger list\n",
    "    # this is basically to call the function recursively until s is equal to ll\n",
    "    if s<l:\n",
    "        # call the function and decrease value of l by 1 while passing value of l\n",
    "        node = get_intersection(small_head, large_head.next, s, l-1)\n",
    "    # next of small head is not none and  next of large head is not none \n",
    "    elif small_head.next!=None and large_head.next!=None:\n",
    "        # get the intersection \n",
    "        node = get_intersection(small_head.next, large_head.next, s-1, l-1)\n",
    "    # if small head == large head then return small_head\n",
    "    if small_head == large_head:\n",
    "        return small_head\n",
    "    # otherwise node\n",
    "    else:\n",
    "        return node\n",
    "# get size of linked lists \n",
    "size1 = linkedlist_size(head1)\n",
    "size2 = linkedlist_size(head2)\n",
    "# get the small list and large list out of the 2 lists\n",
    "small_head = head1 if size1<size2 else head2 \n",
    "large_head = head1 if size1>size2 else head2\n",
    "# get the length of smaller list and larger list\n",
    "s,l = min(size1,size2), max(size1, size2) \n",
    "# get intersection of 2 lists using get_intersection()\n",
    "node = get_intersection(small_head, large_head, s, l)\n",
    "# print the intersection node\n",
    "print(\"Intersection of both linked lists:\", node.data)\n"
   ]
  },
  {
   "cell_type": "markdown",
   "metadata": {},
   "source": [
    "##### 8: Rotate a linked list to the right by k places.\n",
    "* Input: 1 -> 2 -> 3 -> 4 -> 5, k = 2\n",
    "* Output: 4 -> 5 -> 1 -> 2 -> 3"
   ]
  },
  {
   "cell_type": "code",
   "execution_count": 36,
   "metadata": {},
   "outputs": [
    {
     "name": "stdout",
     "output_type": "stream",
     "text": [
      "Original list :-\n",
      "1 -> 2 -> 3 -> 4 -> 5\n",
      "Rotated list -:\n",
      "3 -> 4 -> 5 -> 1 -> 2\n"
     ]
    }
   ],
   "source": [
    "# Linked List creation\n",
    "main_head = Node(1)\n",
    "node2 = Node(2)\n",
    "node3 = Node(3)\n",
    "node4 = Node(4)\n",
    "node5 = Node(5)\n",
    "\n",
    "main_head.next = node2 \n",
    "node2.next = node3 \n",
    "node3.next = node4 \n",
    "node4.next = node5\n",
    "print(\"Original list :-\")\n",
    "print_linkedlist(main_head)\n",
    "\n",
    "# create a method to rotate list by k places \n",
    "def rotate_by_k(head,k):\n",
    "    # get the size of linkedlist using linkedlist_size() method \n",
    "    size = linkedlist_size(head)\n",
    "    # get the exact places by which rotation is needed\n",
    "    k = k%size \n",
    "    # get index for which rotation needed\n",
    "    ind = size - k\n",
    "    # last_node to store node of list\n",
    "    last_node  = head \n",
    "    # set temp to head\n",
    "    temp = head \n",
    "    # set ans_head to head to store the head of new rotated list after rotation operation\n",
    "    ans_head = head \n",
    "    # execute a loop until last_node.next is None\n",
    "    while(last_node.next!=None):\n",
    "        # set last_node to next of last_node \n",
    "        last_node = last_node.next\n",
    "    # set next of last_node to head \n",
    "    last_node.next = head \n",
    "    # execute a loop till range ind-1 i.e. location of node after which rotation is needed\n",
    "    for i in range(ind-1):\n",
    "        # set temp to temp.next\n",
    "        temp = temp.next \n",
    "    # put temp.next to ans_head\n",
    "    ans_head =  temp.next\n",
    "    # set temp.next to none\n",
    "    temp.next = None \n",
    "    # return the head of rotated list\n",
    "    return ans_head\n",
    "# driver code\n",
    "print(\"Rotated list -:\") \n",
    "print_linkedlist(rotate_by_k(main_head,3))\n",
    "    \n",
    "    "
   ]
  },
  {
   "cell_type": "markdown",
   "metadata": {},
   "source": [
    "##### Problem 9: Add Two Numbers Represented by LinkedLists:\n",
    "* Input: List 1: 2 -> 4 -> 3, List 2: 5 -> 6 -> 4 (represents 342 + 465)\n",
    "* Output: 7 -> 0 -> 8 (represents 807)"
   ]
  },
  {
   "cell_type": "code",
   "execution_count": 37,
   "metadata": {},
   "outputs": [
    {
     "name": "stdout",
     "output_type": "stream",
     "text": [
      "List1 -:\n",
      "2 -> 4 -> 3\n",
      "List2 -:\n",
      "5 -> 6 -> 9\n"
     ]
    }
   ],
   "source": [
    "# Linked List creation\n",
    "head1 = Node(2)\n",
    "head2 = Node(5)\n",
    "node2 = Node(4)\n",
    "node3 = Node(3)\n",
    "node4 = Node(6)\n",
    "node5 = Node(9)\n",
    "\n",
    "head1.next = node2 \n",
    "node2.next = node3 \n",
    "head2.next = node4 \n",
    "node4.next = node5\n",
    "\n",
    "print(\"List1 -:\")\n",
    "print_linkedlist(head1)\n",
    "print(\"List2 -:\")\n",
    "print_linkedlist(head2)"
   ]
  },
  {
   "cell_type": "code",
   "execution_count": 38,
   "metadata": {},
   "outputs": [
    {
     "name": "stdout",
     "output_type": "stream",
     "text": [
      "7 -> 0 -> 3 -> 1\n"
     ]
    }
   ],
   "source": [
    "# method to add 2 numbers \n",
    "def addition(head1, head2):\n",
    "    # initialize ans_head for storing answer\n",
    "    ans_head = Node()\n",
    "    # get a temparary variable to calculate sum\n",
    "    temp = ans_head\n",
    "    # initialize 2 variables to store addition and carry of sum\n",
    "    add = 0\n",
    "    carry=0\n",
    "    # execute a loop until head1 is None and head2 is none\n",
    "    while(head1!=None or head2!=None):\n",
    "        # initialize add to 0\n",
    "        add = 0\n",
    "        # if both nodes are node none\n",
    "        if head1!=None and head2!=None:\n",
    "            # add the data of both nodes and carry\n",
    "            add = head1.data+head2.data+ carry\n",
    "        # if head1 is not none\n",
    "        elif head1!=None:\n",
    "            # store sum of carry and head1.data\n",
    "            add = head1.data+ carry\n",
    "        # otherwise\n",
    "        else:\n",
    "            # store sum of carry and head2.data\n",
    "            add = head2.data+ carry \n",
    "        # calculate the carry\n",
    "        carry = add//10\n",
    "        # calculate the remainder \n",
    "        rem = add%10\n",
    "        # put new Node in temp.next\n",
    "        temp.next = Node()\n",
    "        # point temp to temp.next\n",
    "        temp = temp.next \n",
    "        # put remainder to temp.data\n",
    "        temp.data = rem\n",
    "        # point head1 to head1.next\n",
    "        head1 = head1.next \n",
    "        # point head1 to head1.next\n",
    "        head2 = head2.next\n",
    "    # if carry is greater than 0 then create a node with data as carry and put it in temp.next\n",
    "    if carry>0:\n",
    "        temp.next = Node(carry)\n",
    "    # return ans_head.next\n",
    "    return ans_head.next\n",
    "# print the list after addition using addition() method\n",
    "print_linkedlist(addition(head1, head2))\n",
    "        "
   ]
  },
  {
   "cell_type": "markdown",
   "metadata": {},
   "source": [
    "##### 10. Clone a Linked List with next and Random Pointer\n",
    "* Given a linked list of size N where each node has two links: one pointer points to the next node and the second pointer points to any node in the list. The task is to create a clone of this linked list in O(N) time. \n",
    "* Note: The pointer pointing to the next node is ‘next‘ pointer and the one pointing to an arbitrary node is called ‘arbit’ pointer as it can point to any arbitrary node in the linked list."
   ]
  },
  {
   "cell_type": "code",
   "execution_count": 39,
   "metadata": {},
   "outputs": [
    {
     "name": "stdout",
     "output_type": "stream",
     "text": [
      "The original linked list:\n",
      "1 ( 3 )-> 2 ( 1 )-> 3 ( 5 )-> 4 ( 3 )-> 5 ( 2 )\n",
      "The cloned linked list:\n",
      "1 ( 3 )-> 2 ( 1 )-> 3 ( 5 )-> 4 ( 3 )-> 5 ( 2 )\n"
     ]
    }
   ],
   "source": [
    "# create a node class \n",
    "class Node:\n",
    "\tdef __init__(self, x):\n",
    "\t\tself.data = x\n",
    "\t\tself.next = None\n",
    "\t\tself.arbit = None\n",
    "\n",
    "\n",
    "def cloneLinkedList(head):\n",
    "\tif head == None:\n",
    "\t\treturn None\n",
    "\t# Create new nodes and insert them next to the original nodes\n",
    "\tcurr = head\n",
    "\twhile curr != None:\n",
    "\t\tnewNode = Node(curr.data)\n",
    "\t\tnewNode.next = curr.next\n",
    "\t\tcurr.next = newNode\n",
    "\t\tcurr = newNode.next\n",
    "\t# Set the arbit pointers of the new nodes\n",
    "\tcurr = head\n",
    "\twhile curr != None:\n",
    "\t\tif curr.arbit != None:\n",
    "\t\t\tcurr.next.arbit = curr.arbit.next\n",
    "\t\tcurr = curr.next.next\n",
    "\t# Separate the new nodes from the original nodes\n",
    "\tcurr = head\n",
    "\tclonedHead = head.next\n",
    "\tclonedCurr = clonedHead\n",
    "\twhile clonedCurr.next != None:\n",
    "\t\tcurr.next = curr.next.next\n",
    "\t\tclonedCurr.next = clonedCurr.next.next\n",
    "\t\tcurr = curr.next\n",
    "\t\tclonedCurr = clonedCurr.next\n",
    "\tcurr.next = None\n",
    "\tclonedCurr.next = None\n",
    "\treturn clonedHead\n",
    "\n",
    "# Function to print the linked list\n",
    "def printList(head):\n",
    "\tprint(head.data, \"(\", head.arbit.data, \")\", end=\"\")\n",
    "\thead = head.next\n",
    "\twhile head != None:\n",
    "\t\tprint(\"->\", head.data, \"(\", head.arbit.data, \")\", end=\"\")\n",
    "\t\thead = head.next\n",
    "\tprint()\n",
    "\n",
    "\n",
    "# Driver code\n",
    "if __name__ == '__main__':\n",
    "\t# Creating a linked list with arbit pointer\n",
    "\thead = Node(1)\n",
    "\thead.next = Node(2)\n",
    "\thead.next.next = Node(3)\n",
    "\thead.next.next.next = Node(4)\n",
    "\thead.next.next.next.next = Node(5)\n",
    "\thead.arbit = head.next.next\n",
    "\thead.next.arbit = head\n",
    "\thead.next.next.arbit = head.next.next.next.next\n",
    "\thead.next.next.next.arbit = head.next.next\n",
    "\thead.next.next.next.next.arbit = head.next\n",
    "\n",
    "\t# Print the original list\n",
    "\tprint(\"The original linked list:\")\n",
    "\tprintList(head)\n",
    "\n",
    "\t# call cloneLinkedList() method\n",
    "\tans_node = cloneLinkedList(head)\n",
    "\tprint(\"The cloned linked list:\")\n",
    "\tprintList(ans_node)\n"
   ]
  },
  {
   "cell_type": "code",
   "execution_count": null,
   "metadata": {},
   "outputs": [],
   "source": []
  }
 ],
 "metadata": {
  "kernelspec": {
   "display_name": "base",
   "language": "python",
   "name": "python3"
  },
  "language_info": {
   "codemirror_mode": {
    "name": "ipython",
    "version": 3
   },
   "file_extension": ".py",
   "mimetype": "text/x-python",
   "name": "python",
   "nbconvert_exporter": "python",
   "pygments_lexer": "ipython3",
   "version": "3.11.4"
  }
 },
 "nbformat": 4,
 "nbformat_minor": 2
}
