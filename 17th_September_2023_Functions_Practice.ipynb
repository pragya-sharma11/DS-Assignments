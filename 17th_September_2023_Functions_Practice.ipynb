{
 "cells": [
  {
   "cell_type": "markdown",
   "metadata": {},
   "source": [
    "# ***`For Loop :-`***"
   ]
  },
  {
   "cell_type": "markdown",
   "metadata": {},
   "source": [
    "##### 1. Write a Python program to print numbers from 1 to 10 using a for loop."
   ]
  },
  {
   "cell_type": "code",
   "execution_count": 1,
   "metadata": {},
   "outputs": [
    {
     "name": "stdout",
     "output_type": "stream",
     "text": [
      "1\n",
      "2\n",
      "3\n",
      "4\n",
      "5\n",
      "6\n",
      "7\n",
      "8\n",
      "9\n",
      "10\n"
     ]
    }
   ],
   "source": [
    "# execute a for loop from 1 to 10 using range() having values 1 and 11.\n",
    "# It is because for loop runs till upper bound-1\n",
    "for i in range(1,11):\n",
    "    # print the value of i \n",
    "    print(i)"
   ]
  },
  {
   "cell_type": "markdown",
   "metadata": {},
   "source": [
    "##### 2. Explain the difference between a for loop and a while loop in Python."
   ]
  },
  {
   "cell_type": "markdown",
   "metadata": {},
   "source": [
    "##### **Answer** :\n",
    "* 1.For loop is used to iterate over a sequence of items.\n",
    "    While loop is used to repeatedly execute a block of statements while a condition is true.\n",
    "* 2-For Loop is designed to iterate over fixed bunch of values .\n",
    "    While loop can be user for more complex logics where number of iterations are not pre-known.\n",
    "* 3-For loop can directly iterate over the elements of iterable like list, set, tuple.\n",
    "    While loop needs a little more effort, It needs index of that value in list/set/tuple to iterate over it.\n",
    "* 4-For loop generally iterates over values of any iterable.\n",
    "    While loop needs a testifying condition start iteration."
   ]
  },
  {
   "cell_type": "markdown",
   "metadata": {},
   "source": [
    "##### 3. Write a Python program to calculate the sum of all numbers from 1 to 100 using a for loop.\n"
   ]
  },
  {
   "cell_type": "code",
   "execution_count": 3,
   "metadata": {},
   "outputs": [
    {
     "name": "stdout",
     "output_type": "stream",
     "text": [
      "Sum of values from 1 to 100 is 5050\n"
     ]
    }
   ],
   "source": [
    "# initialize a variable to store sum\n",
    "sum_of_elelments = 0\n",
    "# execute a for loop from 1 to 100 using range() having values 1 and 101.\n",
    "# It is because for loop runs till upper bound-1\n",
    "for i in range(1,101):\n",
    "    # add each value in this range to sum_of_elements value\n",
    "    sum_of_elelments +=i \n",
    "# print the sum\n",
    "print(\"Sum of values from 1 to 100 is\", sum_of_elelments)"
   ]
  },
  {
   "cell_type": "markdown",
   "metadata": {},
   "source": [
    "##### 4. How do you iterate through a list using a for loop in Python?\n"
   ]
  },
  {
   "cell_type": "code",
   "execution_count": 4,
   "metadata": {},
   "outputs": [
    {
     "name": "stdout",
     "output_type": "stream",
     "text": [
      "1\n",
      "2\n",
      "3\n",
      "4\n",
      "5\n",
      "6\n",
      "7\n",
      "8\n"
     ]
    }
   ],
   "source": [
    "# Answer: Let's understand it using an example\n",
    "\n",
    "# create a list \n",
    "l = [1,2,3,4,5,6,7,8]\n",
    "\n",
    "# now using for loop, we can simply access the values in list\n",
    "for i in l:\n",
    "    # loop will start to fetch very first value in list\n",
    "    # i is the variable in which values inside list will be fetch one by one in each iteration.\n",
    "    # in each iteration, next value in list will be put in i variable.\n",
    "    print(i) #perform print operation on the elements of list"
   ]
  },
  {
   "cell_type": "markdown",
   "metadata": {},
   "source": [
    "##### 5. Write a Python program to find the product of all elements in a list using a for loop.\n"
   ]
  },
  {
   "cell_type": "code",
   "execution_count": 7,
   "metadata": {},
   "outputs": [
    {
     "name": "stdout",
     "output_type": "stream",
     "text": [
      "The product of elements of list is 40320\n"
     ]
    }
   ],
   "source": [
    "# create a list \n",
    "l = [1,2,3,4,5,6,7,8]\n",
    "# initialize a variable to store product of values of list\n",
    "product_of_elements = 1\n",
    "# now using for loop, we can simply access the values in list\n",
    "for i in l:\n",
    "    # multiply each value in list by product_of_elements and put the value back in it.\n",
    "    product_of_elements *= i \n",
    "# print the product\n",
    "print(\"The product of elements of list is\", product_of_elements)\n",
    "    "
   ]
  },
  {
   "cell_type": "markdown",
   "metadata": {},
   "source": [
    "##### 6. Create a Python program that prints all even numbers from 1 to 20 using a for loop.\n"
   ]
  },
  {
   "cell_type": "code",
   "execution_count": 8,
   "metadata": {},
   "outputs": [
    {
     "name": "stdout",
     "output_type": "stream",
     "text": [
      "2 4 6 8 10 12 14 16 18 20 "
     ]
    }
   ],
   "source": [
    "# execute a for loop from 1 to 20 using range() having values 1 and 21.\n",
    "# It is because for loop runs till upper bound-1\n",
    "for i in range(1,21):\n",
    "    # check if the current number is even\n",
    "    if i%2==0:\n",
    "        # if it is even, print it.\n",
    "        print(i, end=' ')"
   ]
  },
  {
   "cell_type": "markdown",
   "metadata": {},
   "source": [
    "##### 7. Write a Python program that calculates the factorial of a number using a for loop."
   ]
  },
  {
   "cell_type": "code",
   "execution_count": 9,
   "metadata": {},
   "outputs": [
    {
     "name": "stdout",
     "output_type": "stream",
     "text": [
      "Factorial of 6 is 720\n"
     ]
    }
   ],
   "source": [
    "# initialize a variable with a value whose factorial you want to calculate\n",
    "number = 6\n",
    "# initialize a variable to store factorial\n",
    "fact = 1\n",
    "# execute a for loop from 1 to number+1 coz range() allows loop to run upperbound-1\n",
    "for i in range(1, number+1):\n",
    "    # at each iteration multiply fact with i and store the result in fact using *= operator\n",
    "    fact *= i \n",
    "# print the result\n",
    "print(\"Factorial of {} is {}\".format(number, fact))\n"
   ]
  },
  {
   "cell_type": "markdown",
   "metadata": {},
   "source": [
    "##### 8. How can you iterate through the characters of a string using a for loop in Python?\n"
   ]
  },
  {
   "cell_type": "code",
   "execution_count": 12,
   "metadata": {},
   "outputs": [
    {
     "name": "stdout",
     "output_type": "stream",
     "text": [
      "H\n",
      "i\n",
      ",\n",
      " \n",
      "I\n",
      " \n",
      "a\n",
      "m\n",
      " \n",
      "P\n",
      "y\n",
      "t\n",
      "h\n",
      "o\n",
      "n\n"
     ]
    }
   ],
   "source": [
    "# Answer: Let's understand it using an example\n",
    "\n",
    "# create a string \n",
    "s = \"Hi, I am Python\"\n",
    "\n",
    "# now using for loop, we can simply access the values in string\n",
    "for i in s:\n",
    "    # loop will start to fetch very first character value in string\n",
    "    # i is the variable in which character value of string will be fetch one by one in each iteration.\n",
    "    # in each iteration, next value in string will be put in i variable.\n",
    "    print(i) #perform print operation on the elements of string"
   ]
  },
  {
   "cell_type": "markdown",
   "metadata": {},
   "source": [
    "##### 9. Write a Python program to find the largest number in a list using a for loop.\n"
   ]
  },
  {
   "cell_type": "code",
   "execution_count": 13,
   "metadata": {},
   "outputs": [
    {
     "name": "stdout",
     "output_type": "stream",
     "text": [
      "Entered List - [2, 43, 67, 1, 4, 87, 45, 98, 43, 62]\n",
      "The maximum value in list is 98\n"
     ]
    }
   ],
   "source": [
    "# take space seperated values from user using input and split them on the basis of space using split() as elements of list\n",
    "# then convert each element into integer using map() and pass the output of map() to list() to convert it to list\n",
    "l = list(map(int,input(\"Enter space seperated positive integer as elements in list\").split()))\n",
    "# print the input list\n",
    "print(\"Entered List -\", l)\n",
    "# initialize a variable to store maximum value\n",
    "maxm = -10000000\n",
    "# iterate over each element in list \n",
    "for i in l:\n",
    "    # check if current element is greater than maxm value then put it in maxm value.\n",
    "    if maxm<i:\n",
    "        maxm = i\n",
    "# print the maximum value\n",
    "print(\"The maximum value in list is\", maxm)"
   ]
  },
  {
   "cell_type": "markdown",
   "metadata": {},
   "source": [
    "##### 10. Create a Python program that prints the Fibonacci sequence up to a specified limit using a for loop.\n"
   ]
  },
  {
   "cell_type": "code",
   "execution_count": 15,
   "metadata": {},
   "outputs": [
    {
     "name": "stdout",
     "output_type": "stream",
     "text": [
      "First 15 fibonacci numbers are-\n",
      "0  1  1  2  3  5  8  13  21  34  55  89  144  233  377  "
     ]
    }
   ],
   "source": [
    "# take input from user for number of terms of series using input() and convert it into integer using int()\n",
    "n = int(input(\"enter number of terms you want in fibonacci series.\"))\n",
    "# initialize first variable f with value 0 as first elemnt of series\n",
    "f=0\n",
    "# initialize second variable s with value 1 as second element of series\n",
    "s=1\n",
    "print(\"First {} fibonacci numbers are-\".format(n))\n",
    "# now we need to iterate for n number of times to get values of series.\n",
    "for i in range(n):\n",
    "    # print the number\n",
    "    print(f, end = '  ')\n",
    "    # calculate the next number of series by adding up the previous 2 numbers\n",
    "    f,s = s, s+f \n",
    "    \n"
   ]
  },
  {
   "cell_type": "markdown",
   "metadata": {},
   "source": [
    "##### 11. Write a Python program to count the number of vowels in a given string using a for loop.\n"
   ]
  },
  {
   "cell_type": "code",
   "execution_count": 16,
   "metadata": {},
   "outputs": [
    {
     "name": "stdout",
     "output_type": "stream",
     "text": [
      "Input String - Hi, I am  Python\n",
      "Number of vowels - 4\n"
     ]
    }
   ],
   "source": [
    "# taking input from user by using input() function\n",
    "st = input(\"Enter a string\")\n",
    "# print original string\n",
    "print(\"Input String -\", st)\n",
    "\n",
    "# initialize a variable counter to store count of vowel elements in string \n",
    "count_vowel = 0\n",
    "#  iterate over elements in string using for loop\n",
    "for i in st:\n",
    "    #  if the character belongs to any upper case vowel letter or lower case vowel letter\n",
    "    if i in ('aeiouAEIOU'):\n",
    "        # increase the value of count by 1\n",
    "        count_vowel += 1\n",
    "# print the total number of vowels in input string\n",
    "print(\"Number of vowels -\", count_vowel)"
   ]
  },
  {
   "cell_type": "markdown",
   "metadata": {},
   "source": [
    "##### 12. Create a Python program that generates a multiplication table for a given number using a for loop.\n"
   ]
  },
  {
   "cell_type": "code",
   "execution_count": 17,
   "metadata": {},
   "outputs": [
    {
     "name": "stdout",
     "output_type": "stream",
     "text": [
      "18X1 = 18\n",
      "18X2 = 36\n",
      "18X3 = 54\n",
      "18X4 = 72\n",
      "18X5 = 90\n",
      "18X6 = 108\n",
      "18X7 = 126\n",
      "18X8 = 144\n",
      "18X9 = 162\n",
      "18X10 = 180\n"
     ]
    }
   ],
   "source": [
    "# take the value of number from user using input()  and convert it into integer using int()\n",
    "num = int(input(\"Enter a number\"))\n",
    "# run a for loop from 1 to 11 as range() coz range() allows loop to run upperbound-1\n",
    "for i in range(1,11):\n",
    "    # print the multiplication table\n",
    "    print(\"{}X{} = {}\".format(num,i,num*i))"
   ]
  },
  {
   "cell_type": "markdown",
   "metadata": {},
   "source": [
    "##### 13. Write a Python program to reverse a list using a for loop.\n"
   ]
  },
  {
   "cell_type": "code",
   "execution_count": 18,
   "metadata": {},
   "outputs": [
    {
     "name": "stdout",
     "output_type": "stream",
     "text": [
      "[9, 8, 7, 6, 5, 4, 3, 2, 1]\n"
     ]
    }
   ],
   "source": [
    "# create a list \n",
    "l = [1,2,3,4,5,6,7,8,9]\n",
    "# calculate the length of list using len()\n",
    "n = len(l)\n",
    "''' \n",
    "approach - we will sipmly try to swap value at i position from start of \n",
    "list with value at i position at last of list\n",
    "'''\n",
    "# iterate in range from 0 to half of length of list\n",
    "for i in range(n//2+1):\n",
    "    # swapping of ith element from start with ith element from last \n",
    "    l[i], l[n-i-1] = l[n-i-1], l[i]\n",
    "# print the reversed list\n",
    "print(l)"
   ]
  },
  {
   "cell_type": "markdown",
   "metadata": {},
   "source": [
    "##### 14. Write a Python program to find the common elements between two lists using a for loop.\n"
   ]
  },
  {
   "cell_type": "code",
   "execution_count": 19,
   "metadata": {},
   "outputs": [
    {
     "name": "stdout",
     "output_type": "stream",
     "text": [
      "entered list - ['2', '3', '4', '5', '6', '7', '8']\n",
      "entered list - ['1', '2', '4', '6', '7', '8', '9', '0']\n",
      "element which are common in both list - ['2', '4', '6', '7', '8']\n"
     ]
    }
   ],
   "source": [
    "# take space seperated values and split them as elements using slipt() and store the output in variable as list1\n",
    "l1 = input(\"Enter space seperated values as elements in first list\").split()\n",
    "# take space seperated values and split them as elements using slipt() and store the output in variable as list1\n",
    "l2 = input(\"Enter space seperated values as elements in second list\").split()\n",
    "# print the input lists\n",
    "print(\"entered list -\", l1)\n",
    "print(\"entered list -\", l2)\n",
    "# initialize an empty list to store common values\n",
    "ans = []\n",
    "'''\n",
    "approach is : we will check each element of list1 if it is present in list2.\n",
    "if it is present in list two, it means it is common in both list\n",
    "'''\n",
    "# iterate over each elemnt of list1\n",
    "for i in l1:\n",
    "    # check if it exists in list2 using in operator and append it in ans list\n",
    "    if i in l2:\n",
    "        ans.append(i)\n",
    "# print the list os common elements.\n",
    "print(\"element which are common in both list -\", ans)"
   ]
  },
  {
   "cell_type": "markdown",
   "metadata": {},
   "source": [
    "##### 15. Explain how to use a for loop to iterate through the keys and values of a dictionary in Python.\n"
   ]
  },
  {
   "cell_type": "code",
   "execution_count": 28,
   "metadata": {},
   "outputs": [
    {
     "name": "stdout",
     "output_type": "stream",
     "text": [
      "key = 1 and value = 123\n",
      "key = 2 and value = 234\n",
      "key = 3 and value = 345\n",
      "key = 4 and value = 456\n",
      "key = 5 and value = 567\n",
      "key = 6 and value = 678\n"
     ]
    }
   ],
   "source": [
    "# create a dictionary\n",
    "dictionary = {'1':123,'2':234,'3':345,'4':456,'5':567,'6':678}\n",
    "# iterate over keys of dictionary using key()\n",
    "for i in dictionary.keys():\n",
    "    # after getting keys, we can easily fetch values using that key, print the result\n",
    "    print(f'key = {i} and value = {dictionary[i]}')"
   ]
  },
  {
   "cell_type": "markdown",
   "metadata": {},
   "source": [
    "##### 16. Write a Python program to find the GCD (Greatest Common Divisor) of two numbers using a for loop.\n"
   ]
  },
  {
   "cell_type": "code",
   "execution_count": 22,
   "metadata": {},
   "outputs": [
    {
     "name": "stdout",
     "output_type": "stream",
     "text": [
      "NUmbers whose gcd is to be find are 120 and 180\n",
      "GCD = 60\n"
     ]
    }
   ],
   "source": [
    "# take input values for a,b tto calculate GCD using input() and split them on the basis of space using split() \n",
    "# convert these values into integer using map()\n",
    "a, b = map(int, input(\"Enter space seperated values whose GCD needs to be calculated\").split())\n",
    "# initialize GCD of numbers entered\n",
    "gcd = 1\n",
    "# print input elements\n",
    "print(\"NUmbers whose gcd is to be find are {} and {}\".format(a, b))\n",
    "# execute a loop from 1 to minimum of entered numbers\n",
    "for i in range(1,min(a,b)):\n",
    "    # if both numbers are divisible by any number in the above range then  we put the number in gcd variable\n",
    "    # each time we check and do the same as stated above so there will be a time when we get the maximum number which can divide both the numbers and it will be considered as GCD\n",
    "    if a%i == 0 and b%i== 0:\n",
    "        gcd = i \n",
    "# print the GCD\n",
    "print(\"GCD =\", gcd)"
   ]
  },
  {
   "cell_type": "markdown",
   "metadata": {},
   "source": [
    "##### 17. Create a Python program that checks if a string is a palindrome using a for loop.\n"
   ]
  },
  {
   "cell_type": "code",
   "execution_count": 25,
   "metadata": {},
   "outputs": [
    {
     "name": "stdout",
     "output_type": "stream",
     "text": [
      "String is palindrome\n"
     ]
    }
   ],
   "source": [
    "# create a string \n",
    "s = 'Madam'\n",
    "s = s.lower() #convert string to lower case using lower()\n",
    "# calculate the length of string using len()\n",
    "n = len(s)\n",
    "# initialize a flag to keep record if string is palindrom or not\n",
    "flag = 0\n",
    "''' \n",
    "approach - we will sipmly try to check value at i position from start of \n",
    "string with value at i position at last of string is equal or not.\n",
    "If at any point this condition fails then string is not palindrom\n",
    "'''\n",
    "# iterate in range from 0 to half of length of string\n",
    "for i in range(n//2+1):\n",
    "    # checking if ith element from start is not equal to ith element from last \n",
    "    if s[i]!=s[n-i-1]:\n",
    "        flag = 1\n",
    "        break\n",
    "# if flag is off which means string is palindrome else string is not palindrom, print the output\n",
    "print(\"String is palindrome\") if flag == 0 else print(\"String is not palindrome\")"
   ]
  },
  {
   "cell_type": "markdown",
   "metadata": {},
   "source": [
    "##### 18. Write a Python program to remove duplicates from a list using a for loop.\n"
   ]
  },
  {
   "cell_type": "code",
   "execution_count": 26,
   "metadata": {},
   "outputs": [
    {
     "name": "stdout",
     "output_type": "stream",
     "text": [
      "entered list - ['2', '3', '4', '5', '6', '7', '3', '4', '5', '6']\n",
      "After removing duplicates - ['2', '3', '4', '5', '6', '7']\n"
     ]
    }
   ],
   "source": [
    "# take space seperated values and split them as elements using slipt() and store the output in variable as list\n",
    "l = input(\"Enter space seperated values as elements in list\").split()\n",
    "# print the input list\n",
    "print(\"entered list -\", l)\n",
    "# initialize an empty list to store unique values\n",
    "new_list = []\n",
    "# iterate over elements in list\n",
    "for i in l:\n",
    "    # check the element is not in new_list using `in` operator.\n",
    "    if i not in new_list:\n",
    "        # if condition satisfies , append the element in new_list\n",
    "        new_list.append(i)\n",
    "# print the list\n",
    "l = new_list\n",
    "print(\"After removing duplicates -\",l)"
   ]
  },
  {
   "cell_type": "markdown",
   "metadata": {},
   "source": [
    "##### 19. Create a Python program that counts the number of words in a sentence using a for loop.\n"
   ]
  },
  {
   "cell_type": "code",
   "execution_count": 29,
   "metadata": {},
   "outputs": [
    {
     "name": "stdout",
     "output_type": "stream",
     "text": [
      "The number of words : 4\n"
     ]
    }
   ],
   "source": [
    "# create a string\n",
    "s = \"Python is very shorthand\"\n",
    "# split it based on space using split() \n",
    "l = s.split()\n",
    "# initialize a counter to count number of words\n",
    "counter = 0\n",
    "# iterate over elements of list\n",
    "for i in l:\n",
    "    # increase the counter at each iteration\n",
    "    counter += 1\n",
    "# print the number of words.\n",
    "print(\"The number of words :\",counter)"
   ]
  },
  {
   "cell_type": "markdown",
   "metadata": {},
   "source": [
    "##### 20. Write a Python program to find the sum of all odd numbers from 1 to 50 using a for loop.\n"
   ]
  },
  {
   "cell_type": "code",
   "execution_count": 30,
   "metadata": {},
   "outputs": [
    {
     "name": "stdout",
     "output_type": "stream",
     "text": [
      "The sum of odd numbers from 1 to 50 : 625\n"
     ]
    }
   ],
   "source": [
    "# initialize a variable to store sum of odd numbers\n",
    "sum_of_numbers = 0\n",
    "# execute a for loop from 1 to 50 using range() having values 1 and 51.\n",
    "# It is because for loop runs till upper bound-1\n",
    "for i in range(1,51):\n",
    "    # check if number is odd\n",
    "    if i%2==1:\n",
    "        # add this odd number to sum_of_numbers\n",
    "        sum_of_numbers += i \n",
    "# print the sum of odd numbers\n",
    "print(\"The sum of odd numbers from 1 to 50 :\", sum_of_numbers)"
   ]
  },
  {
   "cell_type": "markdown",
   "metadata": {},
   "source": [
    "##### 21. Write a Python program that checks if a given year is a leap year using a for loop.\n"
   ]
  },
  {
   "cell_type": "code",
   "execution_count": 31,
   "metadata": {},
   "outputs": [
    {
     "name": "stdout",
     "output_type": "stream",
     "text": [
      "the year is - 2023\n",
      "It is not a leap year\n"
     ]
    }
   ],
   "source": [
    "# take input interegr year value using input() and convert it into integer using int()\n",
    "y = int(input(\"enter an integer value\"))\n",
    "# print the entered age\n",
    "print(\"the year is -\", y)\n",
    "''' \n",
    "approach - if year is divisible by 4, it is leap year. But if we are checking for centuries, we need to \n",
    "check if year is divisible by 400 to be a leap year\n",
    "'''\n",
    "# check if it a century, by checking if it evenly divisble by 100\n",
    "if y%100==0 :\n",
    "    # if the century is divisible by 400 evenly, then it is leap year \n",
    "    if y%400 == 0:\n",
    "        print(\"Leap year\")\n",
    "    else :\n",
    "        print(\"It is not a leap year\")\n",
    "# if it is not century, it is a normal year\n",
    "else:\n",
    "    #  we need to check if it is divisible by 4 then it is a leap yaer.\n",
    "    if y%4 == 0:\n",
    "        print(\"Leap year\")\n",
    "    else :\n",
    "        print(\"It is not a leap year\")\n",
    "\n",
    "\n"
   ]
  },
  {
   "cell_type": "markdown",
   "metadata": {},
   "source": [
    "##### 22. Create a Python program that calculates the square root of a number using a for loop.\n"
   ]
  },
  {
   "cell_type": "code",
   "execution_count": 3,
   "metadata": {},
   "outputs": [
    {
     "name": "stdout",
     "output_type": "stream",
     "text": [
      "Sqrt of 64 is 8\n"
     ]
    }
   ],
   "source": [
    "# initialize a variable whose sq. root is to be calculated\n",
    "n = 64\n",
    "# initialize a loop control variable\n",
    "i = 2\n",
    "# execute a loop till sq. of i is less than n\n",
    "while i**2<n:\n",
    "    # increase loop variable by 1 at each iteration\n",
    "    i+=1\n",
    "# print the output\n",
    "print(f\"Sqrt of {n} is {i}\")"
   ]
  },
  {
   "cell_type": "markdown",
   "metadata": {},
   "source": [
    "##### 23. Write a Python program to find the LCM (Least Common Multiple) of two numbers using a for loop.\n"
   ]
  },
  {
   "cell_type": "code",
   "execution_count": 5,
   "metadata": {},
   "outputs": [
    {
     "name": "stdout",
     "output_type": "stream",
     "text": [
      "lcm of 14 and 24 is 168\n"
     ]
    }
   ],
   "source": [
    "# take input from userfor two numbers using input() and convert them into integer using int()\n",
    "a = int(input())\n",
    "b = int(input())\n",
    "\n",
    "# initialize a variable to store lcm\n",
    "lcm = 1\n",
    "# execute the loop till the product of two numbers\n",
    "for i in range(1,(a*b)+1):\n",
    "    # if i is divisible by both numbers, it means it is their least common multiple\n",
    "    if i%a==0 and i%b==0:\n",
    "        # put value of i in lcm and terminate the loop execution using break\n",
    "        lcm = i\n",
    "        break\n",
    "# print the lcm \n",
    "print(f'lcm of {a} and {b} is {lcm}')"
   ]
  },
  {
   "cell_type": "markdown",
   "metadata": {},
   "source": [
    "# ***`If else :`***"
   ]
  },
  {
   "cell_type": "markdown",
   "metadata": {},
   "source": [
    "##### 1. Write a Python program to check if a number is positive, negative, or zero using an if-else statement.\n"
   ]
  },
  {
   "cell_type": "code",
   "execution_count": 32,
   "metadata": {},
   "outputs": [
    {
     "name": "stdout",
     "output_type": "stream",
     "text": [
      "the number is - 34\n",
      "Number is positive\n"
     ]
    }
   ],
   "source": [
    "# take input interegr value using input() and convert it into integer using int()\n",
    "n = int(input(\"enter an integer value\"))\n",
    "# print the input number\n",
    "print(\"the number is -\", n)\n",
    "# check if number is greater than 0 for positive number and print the result\n",
    "if n>0:\n",
    "    print(\"Number is positive\")\n",
    "# if number is lesser than 0 then it is a negative number\n",
    "elif n<0 :\n",
    "    print(\"Number is negative\")\n",
    "# if number is 0 then print the message\n",
    "elif n==0 :\n",
    "    print(\"It is zero\")"
   ]
  },
  {
   "cell_type": "markdown",
   "metadata": {},
   "source": [
    "##### 2. Create a Python program that checks if a given number is even or odd using an if-else statement.\n"
   ]
  },
  {
   "cell_type": "code",
   "execution_count": 33,
   "metadata": {},
   "outputs": [
    {
     "name": "stdout",
     "output_type": "stream",
     "text": [
      "the number is - 36\n",
      "Number is even\n"
     ]
    }
   ],
   "source": [
    "# take input interegr value using input() and convert it into integer using int()\n",
    "n = int(input(\"enter an integer value\"))\n",
    "# print the entered number\n",
    "print(\"the number is -\", n)\n",
    "# check if the number is even and print the resultant output\n",
    "if n%2 == 0 :\n",
    "    print(\"Number is even\") \n",
    "else :\n",
    "    print(\"Number is odd\")"
   ]
  },
  {
   "cell_type": "markdown",
   "metadata": {},
   "source": [
    "##### 3.How can you use nested if-else statements in Python, and provide an example?\n"
   ]
  },
  {
   "cell_type": "markdown",
   "metadata": {},
   "source": [
    "##### **Answer**: If-else statement is used when we want to execute a piece of code/statements based on condition satisfaction>This statement works as follows : It basically checks the condition in `if` part, if the condition is true, then statement in if block will be executed, if the condition is false, statement in `else` part will be executed. For example, we need to find and print whether the number is even or not."
   ]
  },
  {
   "cell_type": "code",
   "execution_count": null,
   "metadata": {},
   "outputs": [],
   "source": [
    "# initialize a variable with an integer value\n",
    "n = 10\n",
    "# check if this variable stores even value\n",
    "if n%2==0:\n",
    "    # if this is even, print the output message\n",
    "    print(\"It is even.\")\n",
    "# if it is not even, the else part will be executed.It means it is not even. Hence, it is odd\n",
    "else:\n",
    "    # print the output message\n",
    "    print(\"It is odd.\")"
   ]
  },
  {
   "cell_type": "markdown",
   "metadata": {},
   "source": [
    "##### 4. Write a Python program to determine the largest of three numbers using if-else.\n"
   ]
  },
  {
   "cell_type": "code",
   "execution_count": 34,
   "metadata": {},
   "outputs": [
    {
     "name": "stdout",
     "output_type": "stream",
     "text": [
      "The numbers entered are 34, 54, 31 \n",
      "the largest number is 54\n"
     ]
    }
   ],
   "source": [
    "# take input 3 interegr values using input() and convert it into integer using int()\n",
    "a = int(input(\"Enter 1st value\"))\n",
    "b = int(input(\"Enter 2nd value\"))\n",
    "c = int(input(\"Enter 3rd value\"))\n",
    "# print the entered numbers \n",
    "print(\"The numbers entered are {}, {}, {} \".format(a,b,c))\n",
    "print(\"the largest number is\", end=\" \")\n",
    "# if a is greater than a and b the print a\n",
    "if a>b and a>c:\n",
    "    print(a)\n",
    "# if b is greater than c and b the print b\n",
    "elif b>c and b>a:\n",
    "    print(b)\n",
    "# it a and b are not largest then it means c is largest\n",
    "else :\n",
    "    print(c)"
   ]
  },
  {
   "cell_type": "markdown",
   "metadata": {},
   "source": [
    "##### 5. Write a Python program that calculates the absolute value of a number using if-else.\n"
   ]
  },
  {
   "cell_type": "code",
   "execution_count": 35,
   "metadata": {},
   "outputs": [
    {
     "name": "stdout",
     "output_type": "stream",
     "text": [
      "the number : -12\n",
      "The absolute number is  12\n"
     ]
    }
   ],
   "source": [
    "# take input interegr value using input() and convert it into integer using int()\n",
    "n = int(input(\"enter an integer value\"))\n",
    "# print the entered number\n",
    "print(\"the number :\", n)\n",
    "# if number is less than 0 then make it positive\n",
    "if n<0:\n",
    "    print(\"The absolute number is \",-n)\n",
    "# if it is not less than 0, print it as it is\n",
    "else :\n",
    "    print(\"The absolute number -\", n)"
   ]
  },
  {
   "cell_type": "markdown",
   "metadata": {},
   "source": [
    "##### 6. Create a Python program that checks if a given character is a vowel or consonant using if-else.\n"
   ]
  },
  {
   "cell_type": "code",
   "execution_count": 40,
   "metadata": {},
   "outputs": [
    {
     "name": "stdout",
     "output_type": "stream",
     "text": [
      "The entered character - s\n",
      "It is a consonant\n"
     ]
    }
   ],
   "source": [
    "# take a character input from user using input() \n",
    "char = input(\"Enter a character\")\n",
    "# print the entered character\n",
    "print(\"The entered character -\", char)\n",
    "# check if it is a vowel, print the result\n",
    "if char in 'aeiouAEIOU':\n",
    "    print(\"It is a vowel\")\n",
    "# if it is not vowel, it can have 2 possibilities, either it is consonant alphabet or it is non-alphabet\n",
    "else :\n",
    "    # if it is alphabet, it is consonant\n",
    "    if char.isalpha():\n",
    "        # print the output\n",
    "        print(\"It is a consonant\")\n",
    "    # if it is not alphabet\n",
    "    else:\n",
    "        # print the result\n",
    "        print(\"It is not alphabet\")"
   ]
  },
  {
   "cell_type": "markdown",
   "metadata": {},
   "source": [
    "##### 7. Write a Python program to determine if a user is eligible to vote based on their age using if-else.\n"
   ]
  },
  {
   "cell_type": "code",
   "execution_count": 41,
   "metadata": {},
   "outputs": [
    {
     "name": "stdout",
     "output_type": "stream",
     "text": [
      "The age - 22\n",
      "you are eligible to vote\n"
     ]
    }
   ],
   "source": [
    "# take input interegr value for age using input() and convert it into integer using int()\n",
    "age = int(input(\"Enter your age\"))\n",
    "# print age entered\n",
    "print(\"The age -\", age)\n",
    "# check if age is greater than equal to 18 for boting eligibility and print the message\n",
    "if age>=18:\n",
    "    print(\"you are eligible to vote\")\n",
    "else :\n",
    "    print(\"you are not eligible to vote\")"
   ]
  },
  {
   "cell_type": "markdown",
   "metadata": {},
   "source": [
    "##### 8. Create a Python program that calculates the discount amount based on the purchase amount using if-else.\n"
   ]
  },
  {
   "cell_type": "code",
   "execution_count": 42,
   "metadata": {},
   "outputs": [
    {
     "name": "stdout",
     "output_type": "stream",
     "text": [
      "The input amount - 2400.0\n",
      "The discount amount is -: 120.0\n"
     ]
    }
   ],
   "source": [
    "# take input for total purchase amount using input() and then convert it into float values using float()\n",
    "amount = float(input(\"Enter amount\"))\n",
    "# print the amount entered\n",
    "print(\"The input amount -\",amount)\n",
    "# initialize a variable to store discount% according to the amount\n",
    "discount = 0\n",
    "''' \n",
    "amount < 1000 - discount = 2%\n",
    "amount is between 1001 to 5000, discount = 5%\n",
    "amount is between 5001 to 10000, discount = 7%\n",
    "amount > 10000, discount = 10%\n",
    "'''\n",
    "# check the discount according to the amount entered and put the discount value in discount variable\n",
    "if amount<=1000:\n",
    "    discount = 2 \n",
    "elif amount>1000 and amount<=5000:\n",
    "    discount = 5\n",
    "elif amount>5000 and amount<=10000:\n",
    "    discount = 7 \n",
    "else :\n",
    "    discount = 10 \n",
    "# calculate the the discount amount from the purchase amount\n",
    "discount_amount = discount*amount/100\n",
    "# print the discount amount\n",
    "print(\"The discount amount is -:\", discount_amount)"
   ]
  },
  {
   "cell_type": "markdown",
   "metadata": {},
   "source": [
    "##### 9. Write a Python program to check if a number is within a specified range using if-else.\n"
   ]
  },
  {
   "cell_type": "code",
   "execution_count": 44,
   "metadata": {},
   "outputs": [
    {
     "name": "stdout",
     "output_type": "stream",
     "text": [
      "Number 34 is in range 10 and 100\n"
     ]
    }
   ],
   "source": [
    "# take input from user for getting range using input() and split it on basis of space using split() and convert them into integer using int()\n",
    "minm, maxm = map(int, input(\"Enter the space seperated range you want in format: minm maxm\").split())\n",
    "# take input from user for the number you want to check using input() and convert it into integer using int()\n",
    "n = int(input(\"Enter the value\"))\n",
    "# check if the number is in specified range or not.\n",
    "if n >= minm and n<=maxm:\n",
    "    # print the output message\n",
    "    print(f\"Number {n} is in range {minm} and {maxm}\")\n",
    "# if number is not in range\n",
    "else:\n",
    "    # print the output message\n",
    "    print(f\"Number {n} is not in range {minm} and {maxm}\")"
   ]
  },
  {
   "cell_type": "markdown",
   "metadata": {},
   "source": [
    "##### 10. Create a Python program that determines the grade of a student based on their score using if-else.\n"
   ]
  },
  {
   "cell_type": "code",
   "execution_count": 43,
   "metadata": {},
   "outputs": [
    {
     "name": "stdout",
     "output_type": "stream",
     "text": [
      "the score is - 89.0\n",
      "The grade is A\n"
     ]
    }
   ],
   "source": [
    "# take input interegr value using input() and convert it into float value using float()\n",
    "score = float(input(\"enter a student score\"))\n",
    "print(\"the score is -\", score)\n",
    "# print the grade\n",
    "print(\"The grade is\", end=\" \")\n",
    "# check the score using if - elif ladder and print the result\n",
    "if score>=90:\n",
    "    print(\"A+\")\n",
    "elif score>=80 and score<90:\n",
    "    print(\"A\")\n",
    "elif score>=70 and score<80:\n",
    "    print(\"B\")\n",
    "elif score>=60 and score<70:\n",
    "    print(\"C\")\n",
    "elif score>=50 and score<60:\n",
    "    print(\"D\")\n",
    "elif score>=40 and score<50:\n",
    "    print(\"E\")\n",
    "else:\n",
    "    print(\"Fail\")\n"
   ]
  },
  {
   "cell_type": "markdown",
   "metadata": {},
   "source": [
    "##### 11. Write a Python program to check if a string is empty or not using if-else."
   ]
  },
  {
   "cell_type": "code",
   "execution_count": 56,
   "metadata": {},
   "outputs": [
    {
     "name": "stdout",
     "output_type": "stream",
     "text": [
      "The Entered string: ''\n",
      "It is empty\n"
     ]
    }
   ],
   "source": [
    "# take input from user using input()\n",
    "s = input(\"Enter a string\")\n",
    "# print the entered string\n",
    "print(\"The Entered string: '\"+s+\"'\")\n",
    "# if length is string is 0 then it is empty\n",
    "if len(s)==0:\n",
    "    # print the message\n",
    "    print(\"It is empty\")\n",
    "# if it is not empty, print the appropriate message\n",
    "else:\n",
    "    print(\"It is not empty\")"
   ]
  },
  {
   "cell_type": "markdown",
   "metadata": {},
   "source": [
    "##### 12. Create a Python program that identifies the type of a triangle (e.g., equilateral, isosceles, or scalene) based on input values using if-else."
   ]
  },
  {
   "cell_type": "code",
   "execution_count": 45,
   "metadata": {},
   "outputs": [
    {
     "name": "stdout",
     "output_type": "stream",
     "text": [
      "The length of 3 sides entered are 20, 20, 20 \n",
      "the Triangle is Equilateral Triangle\n"
     ]
    }
   ],
   "source": [
    "# take input 3 interegr values for sides length using input() and convert it into integer using int()\n",
    "a = int(input(\"Enter 1st side length value\"))\n",
    "b = int(input(\"Enter 2nd side length value\"))\n",
    "c = int(input(\"Enter 3rd side length value\"))\n",
    "# print the entered numbers \n",
    "print(\"The length of 3 sides entered are {}, {}, {} \".format(a,b,c))\n",
    "print(\"the Triangle is\", end=\" \")\n",
    "# check if all 3 sides are equal, means it is equilateral triangle\n",
    "if a == b and a==c and b==c:\n",
    "    print(\"Equilateral Triangle\")\n",
    "# check if any 2 sides are equal, means it is isosceles triangle\n",
    "elif a == b or a==c or b==c:\n",
    "    print(\"Isosceles Triangle\")\n",
    "# otherwise it is scalene triangle\n",
    "else :\n",
    "    print(\"Scalene Triangle\")"
   ]
  },
  {
   "cell_type": "markdown",
   "metadata": {},
   "source": [
    "##### 13. Write a Python program to determine the day of the week based on a user-provided number using if-else.\n"
   ]
  },
  {
   "cell_type": "code",
   "execution_count": 46,
   "metadata": {},
   "outputs": [
    {
     "name": "stdout",
     "output_type": "stream",
     "text": [
      "the number is  3\n",
      "the output: Wednesday\n"
     ]
    }
   ],
   "source": [
    "# take input interegr value using input() and convert it into integer using int()\n",
    "n = int(input(\"enter an integer value from 1 to 7\"))\n",
    "print(\"the number is \", n)\n",
    "print(\"the output:\", end=\" \")\n",
    "\n",
    "# check the entered value and print the dayname\n",
    "if n == 1:\n",
    "    print(\"Monday\")\n",
    "elif n == 2:\n",
    "    print(\"Tuesday\")\n",
    "elif n == 3:\n",
    "    print(\"Wednesday\")\n",
    "elif n == 4:\n",
    "    print(\"Thursday\")\n",
    "elif n == 5:\n",
    "    print(\"Friday\")\n",
    "elif n == 6:\n",
    "    print(\"Saturday\")\n",
    "elif n == 7:\n",
    "    print(\"Sunday\")\n"
   ]
  },
  {
   "cell_type": "markdown",
   "metadata": {},
   "source": [
    "##### 14. Create a Python program that checks if a given year is a leap year using both if-else and a function.\n"
   ]
  },
  {
   "cell_type": "code",
   "execution_count": 47,
   "metadata": {},
   "outputs": [
    {
     "name": "stdout",
     "output_type": "stream",
     "text": [
      "the year is - 2022\n",
      "It is not a leap year\n"
     ]
    }
   ],
   "source": [
    "# take input interegr year value using input() and convert it into integer using int()\n",
    "y = int(input(\"enter an integer value\"))\n",
    "# print the entered age\n",
    "print(\"the year is -\", y)\n",
    "''' \n",
    "approach - if year is divisible by 4, it is leap year. But if we are checking for centuries, we need to \n",
    "check if year is divisible by 400 to be a leap year\n",
    "'''\n",
    "# check if it a century, by checking if it evenly divisble by 100\n",
    "if y%100==0 :\n",
    "    # if the century is divisible by 400 evenly, then it is leap year \n",
    "    if y%400 == 0:\n",
    "        print(\"Leap year\")\n",
    "    else :\n",
    "        print(\"It is not a leap year\")\n",
    "# if it is not century, it is a normal year\n",
    "else:\n",
    "    #  we need to check if it is divisible by 4 then it is a leap yaer.\n",
    "    if y%4 == 0:\n",
    "        print(\"Leap year\")\n",
    "    else :\n",
    "        print(\"It is not a leap year\")\n",
    "\n",
    "\n"
   ]
  },
  {
   "cell_type": "markdown",
   "metadata": {},
   "source": [
    "##### `15. How do you use the \"assert\" statement in Python to add debugging checks within if-else blocks?`\n"
   ]
  },
  {
   "cell_type": "markdown",
   "metadata": {},
   "source": [
    "##### 16. Create a Python program that determines the eligibility of a person for a senior citizen discount based on age using if-else."
   ]
  },
  {
   "cell_type": "code",
   "execution_count": 48,
   "metadata": {},
   "outputs": [
    {
     "name": "stdout",
     "output_type": "stream",
     "text": [
      "The age - 65\n",
      "you are eligible for discount\n"
     ]
    }
   ],
   "source": [
    "# take input interegr value for age using input() and convert it into integer using int()\n",
    "age = int(input(\"Enter your age\"))\n",
    "# print age entered\n",
    "print(\"The age -\", age)\n",
    "# check if age is greater than equal to 60 for senior citizen discount eligibility and print the message\n",
    "if age>=60:\n",
    "    print(\"you are eligible for discount\")\n",
    "else :\n",
    "    print(\"you are not eligible for discount\")"
   ]
  },
  {
   "cell_type": "markdown",
   "metadata": {},
   "source": [
    "##### 17. Write a Python program to categorize a given character as uppercase, lowercase, or neither using if-else.\n"
   ]
  },
  {
   "cell_type": "code",
   "execution_count": 57,
   "metadata": {},
   "outputs": [
    {
     "name": "stdout",
     "output_type": "stream",
     "text": [
      "The input character- e\n",
      "The character is Lower case letter\n"
     ]
    }
   ],
   "source": [
    "# take a character as input from user using input()\n",
    "char = input(\"Enter a character\")\n",
    "# print the input character \n",
    "print(\"The input character-\",char)\n",
    "print(\"The character is \",end='')\n",
    "# check if it is lower case\n",
    "if char.islower():\n",
    "    print(\"Lower case letter\")\n",
    "# check if it is upper case\n",
    "elif char.isupper():\n",
    "    print(\"Upper case letter\")\n",
    "else:\n",
    "    print(\"It is neither uppercase nor lower case\")"
   ]
  },
  {
   "cell_type": "markdown",
   "metadata": {},
   "source": [
    "##### 18. Write a Python program to determine the roots of a quadratic equation using if-else.\n"
   ]
  },
  {
   "cell_type": "code",
   "execution_count": 49,
   "metadata": {},
   "outputs": [
    {
     "name": "stdout",
     "output_type": "stream",
     "text": [
      "Example of equation is : ax^2 + bx +c = 0 where a,b,c are constants.\n",
      "Your equation looks like this : (4x^2) + (-4x) + (1)  = 0\n",
      "Roots are real and same : 0.5, 0.5\n"
     ]
    }
   ],
   "source": [
    "import math\n",
    "# print the equation\n",
    "print(\"Example of equation is : ax^2 + bx +c = 0 where a,b,c are constants.\")\n",
    "# take input values from user for a,b,c using input and convert then into integer using int()\n",
    "a = int(input(\"Enter a\"))\n",
    "b = int(input(\"Enter b\"))\n",
    "c = int(input(\"Enter c\"))\n",
    "# print the equation for user \n",
    "print(\"Your equation looks like this : ({}x^2) + ({}x) + ({})  = 0\".format(a,b,c))\n",
    "# apply formula for roots of quadratic equation to get 2 roots of equation\n",
    "\n",
    "# coefficient of x^2 is 0 it means it is not quadratic equation\n",
    "if a == 0:\n",
    "    print(\"Not a quadratic equation\")\n",
    "# calculate the value of d\n",
    "d = b * b - 4 * a * c\n",
    "# calculate the value of sq. root of d\n",
    "sqrt_val = math.sqrt(abs(d))\n",
    " \n",
    "# check is d>0 then real and diff. roots and print the roots\n",
    "if d > 0:\n",
    "    print(\"Roots are real and different : {} , {}\".format((-b + sqrt_val)/(2 * a),(-b - sqrt_val)/(2 * a)))\n",
    "# if d = 0 then roots are real and same, and print the roots\n",
    "elif d == 0:\n",
    "    print(\"Roots are real and same : {}, {}\".format(-b / (2*a), -b / (2*a)))\n",
    "\n",
    "# when d<0 the roots are complex and print the roots\n",
    "else:  # d<0\n",
    "    print(\"Roots are complex\".format((- b / (2*a), \" + i\", sqrt_val / (2 * a)), (- b / (2*a), \" - i\", sqrt_val / (2 * a))))\n"
   ]
  },
  {
   "cell_type": "markdown",
   "metadata": {},
   "source": [
    "##### 19. Create a Python program that checks if a given year is a century year or not using if-else.\n"
   ]
  },
  {
   "cell_type": "code",
   "execution_count": 51,
   "metadata": {},
   "outputs": [
    {
     "name": "stdout",
     "output_type": "stream",
     "text": [
      "the year is - 2023\n",
      "It is not a century year\n"
     ]
    }
   ],
   "source": [
    "# take input interegr year value using input() and convert it into integer using int()\n",
    "y = int(input(\"enter an integer value\"))\n",
    "# print the entered age\n",
    "print(\"the year is -\", y)\n",
    "''' \n",
    "approach - if we are checking for centuries, we need to \n",
    "check if year is divisible by 100 to be a century year\n",
    "'''\n",
    "# check if it a century, by checking if it evenly divisble by 100\n",
    "if y%100==0 :\n",
    "    print(\"It is a century\")\n",
    "# if it is not century, it is a normal year\n",
    "else:\n",
    "    print(\"It is not a century year\")\n",
    "\n",
    "\n"
   ]
  },
  {
   "cell_type": "markdown",
   "metadata": {},
   "source": [
    "##### 20. Write a Python program to determine if a given number is a perfect square using if-else.\n"
   ]
  },
  {
   "cell_type": "code",
   "execution_count": 65,
   "metadata": {},
   "outputs": [
    {
     "name": "stdout",
     "output_type": "stream",
     "text": [
      "64 is perfect square. It is a perfect square of number 8.0\n"
     ]
    }
   ],
   "source": [
    "# take input from user for perfect square using input() and convert it into integer using int()\n",
    "n = int(input(\"Enter a number\"))\n",
    "# check if it is perfect square or not.\n",
    "# if square of square root of this entered number is exactly equal to this number then it is a perfect square.\n",
    "if (n**0.5)**2 == n:\n",
    "    # print output message\n",
    "    print(f'{n} is perfect square. It is a perfect square of number {n**0.5}')\n",
    "# if it is not a perfect square\n",
    "else :\n",
    "    # print output message\n",
    "    print(f'{n} is not perfect square. Its square root is {n**0.5}')"
   ]
  },
  {
   "cell_type": "markdown",
   "metadata": {},
   "source": [
    "##### 21. Explain the purpose of the \"continue\" and \"break\" statements within if-else,  loops.\n"
   ]
  },
  {
   "cell_type": "markdown",
   "metadata": {},
   "source": [
    "##### **Answer: ** `Continue` statement is a jump statement which is used to send the control of execution to the very next iteration without executing the statements written below it. \n",
    "##### `Break` Statement is a jump statement which is used to send the control of execution to the very next statement after the scope of loop without executing the rest of the statements and iteration in loop. It basically terminates the loop.\n",
    "##### For example - find the even numbers from 1 to 10"
   ]
  },
  {
   "cell_type": "code",
   "execution_count": 68,
   "metadata": {},
   "outputs": [
    {
     "name": "stdout",
     "output_type": "stream",
     "text": [
      "2\n",
      "4\n",
      "6\n",
      "8\n",
      "10\n"
     ]
    }
   ],
   "source": [
    "# initialize a loop variable\n",
    "i = 0\n",
    "# execute a loop with initial condition as true\n",
    "while True :\n",
    "    # increase the value of loop variable by 1 at each iteration\n",
    "    i+=1\n",
    "    # if i>10 then stop the loop\n",
    "    if i==11:\n",
    "        break\n",
    "    # if i is odd, pass on the contro to next iteration\n",
    "    elif i%2==1:\n",
    "        continue \n",
    "    # if number is even, then print it\n",
    "    elif i%2==0:\n",
    "        print(i)\n",
    "    \n",
    "    "
   ]
  },
  {
   "cell_type": "markdown",
   "metadata": {},
   "source": [
    "##### 22. Create a Python program that calculates the BMI (Body Mass Index) of a person based on their weight and height using if-else."
   ]
  },
  {
   "cell_type": "code",
   "execution_count": 52,
   "metadata": {},
   "outputs": [
    {
     "name": "stdout",
     "output_type": "stream",
     "text": [
      "the BMI is - 15.151515151515152\n",
      "The category is Under weight, try to focus on you diet\n"
     ]
    }
   ],
   "source": [
    "# take input from user for height and weight using input() and convert these into float using float.\n",
    "weigth = float(input(\"enter weight in kgs\"))\n",
    "height = float(input(\"Enter height in meters\"))\n",
    "# calculate BMI\n",
    "bmi = weigth/height\n",
    "print(\"the BMI is -\", bmi)\n",
    "# print the category\n",
    "print(\"The category is\", end=\" \")\n",
    "''' \n",
    "under 18.5 – This is described as underweight.\n",
    "between 18.5 and 24.9 – This is described as the 'healthy range'.\n",
    "between 25 and 29.9 – This is described as overweight.\n",
    "between 30 and 39.9 – This is described as obesity.\n",
    "40 or over –  This is described as severe obesity.\n",
    "'''\n",
    "# check the BMI using if - elif ladder and print the result\n",
    "if bmi<=18.5 :\n",
    "    print(\"Under weight, try to focus on you diet\")\n",
    "elif bmi>18.5 and bmi<=24.9:\n",
    "    print(\"Healty, you are well. Keep it up\")\n",
    "elif bmi>=25 and bmi<=29.9:\n",
    "    print(\"OverWeight, please try to control your diet and do some exercise\")\n",
    "elif bmi>=30 and bmi<=39.9:\n",
    "    print(\"Obesity, do regular exercise and maintain your diet\")\n",
    "else :\n",
    "    print(\"Severe Obesity, consult with a doctor please.\")"
   ]
  },
  {
   "cell_type": "markdown",
   "metadata": {},
   "source": [
    "##### 23. How can you use the \"filter()\" function with if-else statements to filter elements from a list?\n"
   ]
  },
  {
   "cell_type": "markdown",
   "metadata": {},
   "source": [
    "##### **Answer:** Let's take an example to understand this. We want to filter out (extract out) all the even numbers from the list of integer numbers. Let's see how we can do this."
   ]
  },
  {
   "cell_type": "code",
   "execution_count": 60,
   "metadata": {},
   "outputs": [
    {
     "name": "stdout",
     "output_type": "stream",
     "text": [
      "The entered list : [1, 2, 3, 4, 5, 6, 7, 8, 9, 10]\n",
      "The list of even numbers : [2, 4, 6, 8, 10]\n"
     ]
    }
   ],
   "source": [
    "# take input from user for values of list using input() and split them based on spaces using split()\n",
    "# then convert them integer using int() and map()\n",
    "l = list(map(int, input(\"Enter space seperated values as elements of list\").split()))\n",
    "# print the entered list\n",
    "print(\"The entered list :\", l)\n",
    "'''\n",
    "filter() method basically takes 2 arguments. First is a boolean function, second is an iterable.\n",
    "So here we will make a lambda function (Shorthand function) to check if the element is even or not\n",
    "and filter function will take each element of list l one by one and check these elements against this lamda\n",
    "function. If if lambda function returns true, filter() can simply filter out this element.\n",
    "'''\n",
    "new_list = list(filter(lambda x : x%2==0, l))\n",
    "# print the list of even numbers\n",
    "print(\"The list of even numbers :\", new_list)"
   ]
  },
  {
   "cell_type": "markdown",
   "metadata": {},
   "source": [
    "##### 24. Write a Python program to determine if a given number is prime or not using if-else.\n"
   ]
  },
  {
   "cell_type": "code",
   "execution_count": 53,
   "metadata": {},
   "outputs": [
    {
     "name": "stdout",
     "output_type": "stream",
     "text": [
      "the entered number is - 79\n",
      "Prime Number\n"
     ]
    }
   ],
   "source": [
    "# take input interegr value using input() and convert it into integer using int()\n",
    "n = int(input(\"enter an integer \"))\n",
    "# print the entered number \n",
    "print(\"the entered number is -\", n)\n",
    "# initialize a flag to store True if it is divisible by any number and false if it is not divisible by any number, means it is prime\n",
    "flag = 0\n",
    "# execute a loop from 2 to n/2\n",
    "for i in range(2,n//2+1):\n",
    "    # if it is divisible by any number in range between stated above\n",
    "    if n%i == 0:\n",
    "        # on the flag\n",
    "        flag = 1\n",
    "        # stop the loop and move out of loop\n",
    "        break \n",
    "# if flag is false and number is greater than 1 then it is prime\n",
    "if flag == 0 and n>1:\n",
    "    print(\"Prime Number\")\n",
    "# otherwise it is not prime\n",
    "else:\n",
    "    print(\"Non-Prime Number\")"
   ]
  },
  {
   "cell_type": "markdown",
   "metadata": {},
   "source": [
    "# ***`Map :-`***"
   ]
  },
  {
   "cell_type": "markdown",
   "metadata": {},
   "source": [
    "##### 1. Explain the purpose of the `map()` function in Python and provide an example of how it can be used to apply a function to each element of an iterable.\n"
   ]
  },
  {
   "cell_type": "markdown",
   "metadata": {},
   "source": [
    "##### **Answer:** Map is a function that is used as an iterator to get an output by applying a transformation function to every element of an iterable (tuple, lists, etc.). The iterable and function takes arguments i.e. a function and iterable. For example - get square of each element of list"
   ]
  },
  {
   "cell_type": "code",
   "execution_count": 73,
   "metadata": {},
   "outputs": [
    {
     "name": "stdout",
     "output_type": "stream",
     "text": [
      "The original List : [1, 2, 3, 4, 5, 6]\n",
      "List of square of elements : [1, 4, 9, 16, 25, 36]\n"
     ]
    }
   ],
   "source": [
    "# create a list \n",
    "l = [1,2,3,4,5,6]\n",
    "# print the original list\n",
    "print(\"The original List :\", l)\n",
    "# Map basically takes two arguments. First argument is a function \n",
    "# that returns some value and second argument is iterable\n",
    "# here for calculating square of each element, we will use lambda function.\n",
    "# Using map(), each element will be fetch one by one and using lambda function, square of of that element will we calculated . \n",
    "# then convert the output return by map into list using list()\n",
    "sq_list = list(map(lambda x : x*x, l))\n",
    "print(\"List of square of elements :\",sq_list)"
   ]
  },
  {
   "cell_type": "markdown",
   "metadata": {},
   "source": [
    "##### 2. Write a Python program that uses the `map()` function to square each element of a list of numbers.\n"
   ]
  },
  {
   "cell_type": "code",
   "execution_count": 72,
   "metadata": {},
   "outputs": [
    {
     "name": "stdout",
     "output_type": "stream",
     "text": [
      "The original List : [1, 2, 3, 4, 5, 6]\n",
      "List of square of elements : [1, 4, 9, 16, 25, 36]\n"
     ]
    }
   ],
   "source": [
    "# create a list \n",
    "l = [1,2,3,4,5,6]\n",
    "# print the original list\n",
    "print(\"The original List :\", l)\n",
    "# Map basically takes two arguments. First argument is a function \n",
    "# that returns some value and second argument is iterable\n",
    "# here for calculating square of each element, we will use lambda function.\n",
    "# Using map(), each element will be fetch one by one and using lambda function, square of of that element will we calculated . \n",
    "# then convert the output return by map into list using list()\n",
    "sq_list = list(map(lambda x : x*x, l))\n",
    "print(\"List of square of elements :\",sq_list)"
   ]
  },
  {
   "cell_type": "markdown",
   "metadata": {},
   "source": [
    "##### 3. How does the `map()` function differ from a list comprehension in Python, and when would you choose one over the other?"
   ]
  },
  {
   "cell_type": "markdown",
   "metadata": {},
   "source": [
    "##### **Answer:** map() returns a map object or an iterator after applying a given function to all the elements of iterable while list comprehension return a list of elements after performing a task or applying a function on its elements.\n",
    "* When formula expression is huge and complex, we use list comprehension because list comprehension is faster than map() in this case.\n",
    "* when formula is already defined in any function earlier, we use map(). In this case, map() is faster than list comprehension. "
   ]
  },
  {
   "cell_type": "markdown",
   "metadata": {},
   "source": [
    "##### 4. Create a Python program that uses the `map()` function to convert a list of names to uppercase.\n"
   ]
  },
  {
   "cell_type": "code",
   "execution_count": 76,
   "metadata": {},
   "outputs": [
    {
     "name": "stdout",
     "output_type": "stream",
     "text": [
      "The original List : ['aaa', 'bbb', 'ccc', 'ddd', 'eee', 'fff']\n",
      "List of uppercase of words : ['AAA', 'BBB', 'CCC', 'DDD', 'EEE', 'FFF']\n"
     ]
    }
   ],
   "source": [
    "# create a list \n",
    "l = ['aaa','bbb','ccc','ddd','eee','fff']\n",
    "# print the original list\n",
    "print(\"The original List :\", l)\n",
    "# Map basically takes two arguments. First argument is a function \n",
    "# that returns some value and second argument is iterable\n",
    "# here for getting uppercase of each element, we will use lambda function.\n",
    "# Using map(), each element will be fetch one by one and using upper() function inside lambda function, can convert element into uppercase. \n",
    "# then convert the output return by map into list using list()\n",
    "upper_list = list(map(lambda x : x.upper(), l))\n",
    "print(\"List of uppercase of words :\",upper_list)"
   ]
  },
  {
   "cell_type": "markdown",
   "metadata": {},
   "source": [
    "##### 5. Write a Python program that uses the `map()` function to calculate the length of each word in a list of strings."
   ]
  },
  {
   "cell_type": "code",
   "execution_count": 78,
   "metadata": {},
   "outputs": [
    {
     "name": "stdout",
     "output_type": "stream",
     "text": [
      "The original List : ['a', 'bb', 'ccc', 'dddd', 'eeeee', 'ffffff']\n",
      "List of uppercase of words : [1, 2, 3, 4, 5, 6]\n"
     ]
    }
   ],
   "source": [
    "# create a list \n",
    "l = ['a','bb','ccc','dddd','eeeee','ffffff']\n",
    "# print the original list\n",
    "print(\"The original List :\", l)\n",
    "# Map basically takes two arguments. First argument is a function \n",
    "# that returns some value and second argument is iterable\n",
    "# here for getting length of each element, we will use len function.\n",
    "# Using map(), each element will be fetch one by one and using len() function , can get length of each word\n",
    "# then convert the output return by map into list using list()\n",
    "upper_list = list(map(len, l))\n",
    "print(\"List of uppercase of words :\",upper_list)"
   ]
  },
  {
   "cell_type": "markdown",
   "metadata": {},
   "source": [
    "##### 6. How can you use the `map()` function to apply a custom function to elements of multiple lists simultaneously in Python?"
   ]
  },
  {
   "cell_type": "markdown",
   "metadata": {},
   "source": [
    "##### **Answer:** In this case, we pass more than 3 arguments, one is a function and other arguments will be iterables. Lets understand this with an example. Let's consider, we need to find product of 3 lists elements according to their respective indices. product_list[i] = list1[i]*list2[i]*list3[i]"
   ]
  },
  {
   "cell_type": "code",
   "execution_count": 80,
   "metadata": {},
   "outputs": [
    {
     "name": "stdout",
     "output_type": "stream",
     "text": [
      "The original Lists : [1, 2, 3, 4, 5, 6] [2, 3, 4, 5, 6, 7] [3, 4, 5, 6, 7, 8]\n",
      "List of product of elements : [6, 24, 60, 120, 210, 336]\n"
     ]
    }
   ],
   "source": [
    "# create 3 lists \n",
    "l1 = [1,2,3,4,5,6]\n",
    "l2 = [2,3,4,5,6,7]\n",
    "l3 = [3,4,5,6,7,8]\n",
    "# print the original list\n",
    "print(\"The original Lists :\", l1, l2, l3)\n",
    "# Map basically takes two arguments. First argument is a function \n",
    "# that returns some value and second argument is iterable\n",
    "# here for calculating product of each element, we will use lambda function.\n",
    "# Using map(), each element will be fetch one by one and using lambda function, product will be calculated . \n",
    "# then convert the output return by map into list using list()\n",
    "product_list = list(map(lambda x,y,z : x*y*z, l1,l2,l3))\n",
    "print(\"List of product of elements :\",product_list)"
   ]
  },
  {
   "cell_type": "markdown",
   "metadata": {},
   "source": [
    "##### 7. Create a Python program that uses `map()` to convert a list of temperatures from Celsius to Fahrenheit.\n"
   ]
  },
  {
   "cell_type": "code",
   "execution_count": 82,
   "metadata": {},
   "outputs": [
    {
     "name": "stdout",
     "output_type": "stream",
     "text": [
      "The original List of temperaturs in celsius : [13, 232, 347, 644, 915, 769]\n",
      "List of fahrenheit temperatures : [55.4, 449.6, 656.6, 1191.2, 1679.0, 1416.2]\n"
     ]
    }
   ],
   "source": [
    "# create a list \n",
    "l = [13,232,347,644,915,769]\n",
    "# print the original list\n",
    "print(\"The original List of temperaturs in celsius :\", l)\n",
    "# Map basically takes two arguments. First argument is a function \n",
    "# that returns some value and second argument is iterable\n",
    "# here for converting each celsius value to fahrenheit, we will use lambda function.\n",
    "# Using map(), each element will be fetch one by one and using lambda function, fahrenheit temperature will be calculated . \n",
    "# then convert the output return by map into list using list()\n",
    "fahrenheit_list = list(map(lambda x : (x*9)/5 +32, l))\n",
    "print(\"List of fahrenheit temperatures :\",fahrenheit_list)"
   ]
  },
  {
   "cell_type": "markdown",
   "metadata": {},
   "source": [
    "##### 8. Write a Python program that uses the `map()` function to round each element of a list of floating-point numbers to the nearest integer."
   ]
  },
  {
   "cell_type": "code",
   "execution_count": 85,
   "metadata": {},
   "outputs": [
    {
     "name": "stdout",
     "output_type": "stream",
     "text": [
      "The original List : [1.91, 2.5, 3.567, 4.12, 5.5, 6.3]\n",
      "List of round-off of elements : [2.0, 2.0, 4.0, 4.0, 6.0, 6.0]\n"
     ]
    }
   ],
   "source": [
    "# create a list \n",
    "l = [1.91,2.5,3.567,4.12,5.5,6.3]\n",
    "# print the original list\n",
    "print(\"The original List :\", l)\n",
    "# Map basically takes two arguments. First argument is a function \n",
    "# that returns some value and second argument is iterable\n",
    "# here for calculating round off of each element, we will use lambda function.\n",
    "# Using map(), each element will be fetch one by one and using lambda function, round off of that element will be calculated . \n",
    "# then convert the output return by map into list using list()\n",
    "sq_list = list(map(lambda x : round(x,0), l))\n",
    "print(\"List of round-off of elements :\",sq_list)"
   ]
  },
  {
   "cell_type": "markdown",
   "metadata": {},
   "source": [
    "# ***`Reduce :-`***"
   ]
  },
  {
   "cell_type": "markdown",
   "metadata": {},
   "source": [
    "##### 1. What is the `reduce()` function in Python, and what module should you import to use it? Provide an example of its basic usage."
   ]
  },
  {
   "cell_type": "markdown",
   "metadata": {},
   "source": [
    "##### **Answer:** Reduce() is an in-built function in functools module. This function takes a function, apply it cumulatively to all the elemenst in iterable, and generate a single output value. We need to import `functools` module to use this function. For example, get the product of all elements of list."
   ]
  },
  {
   "cell_type": "code",
   "execution_count": 94,
   "metadata": {},
   "outputs": [
    {
     "name": "stdout",
     "output_type": "stream",
     "text": [
      "The original List : [2, 4, 6, 7, 8, 3, 7]\n",
      "The product of elements of list: 40320\n"
     ]
    }
   ],
   "source": [
    "# import functools module to use reduce() method\n",
    "import functools\n",
    "# create a list \n",
    "l = [2,4,6,7,8,3,7]\n",
    "# print the original list\n",
    "print(\"The original List :\", l)\n",
    "# here we will use reduce() method. It takes 2 types of arguments. One is function and second is iterables.\n",
    "# to calculate product, we will use lambda function.\n",
    "product_of_numbers = functools.reduce(lambda x,y : x*y, l)\n",
    "# print the product \n",
    "print(\"The product of elements of list:\",product_of_elements)"
   ]
  },
  {
   "cell_type": "markdown",
   "metadata": {},
   "source": [
    "##### 2. Write a Python program that uses the `reduce()` function to find the product of all elements in a list.\n"
   ]
  },
  {
   "cell_type": "code",
   "execution_count": 27,
   "metadata": {},
   "outputs": [
    {
     "name": "stdout",
     "output_type": "stream",
     "text": [
      "The original List : [2, 4, 6, 7, 8, 3, 7]\n",
      "The product of elements of list: 56448\n"
     ]
    }
   ],
   "source": [
    "# import functools module to use reduce() method\n",
    "import functools\n",
    "# create a list \n",
    "l = [2,4,6,7,8,3,7]\n",
    "# print the original list\n",
    "print(\"The original List :\", l)\n",
    "# here we will use reduce() method. It takes 2 types of arguments. One is function and second is iterables.\n",
    "# to calculate product, we will use lambda function.\n",
    "product_of_numbers = functools.reduce(lambda x,y : x*y, l)\n",
    "# print the product \n",
    "print(\"The product of elements of list:\",product_of_numbers)"
   ]
  },
  {
   "cell_type": "markdown",
   "metadata": {},
   "source": [
    "##### 3. Create a Python program that uses `reduce()` to find the maximum element in a list of numbers.\n"
   ]
  },
  {
   "cell_type": "code",
   "execution_count": 89,
   "metadata": {},
   "outputs": [
    {
     "name": "stdout",
     "output_type": "stream",
     "text": [
      "The original List : [243, 324, 456, 137, 6598, 733, 17]\n",
      "The Maximum element of list: 6598\n"
     ]
    }
   ],
   "source": [
    "# import functools module to use reduce() method\n",
    "import functools\n",
    "# create a list \n",
    "l = [243,324,456,137,6598,733,17]\n",
    "# print the original list\n",
    "print(\"The original List :\", l)\n",
    "# here we will use reduce() method. It takes 2 types of arguments. One is function and second is iterables.\n",
    "# to get maximum value in list, we will use lambda function.\n",
    "maxm = functools.reduce(lambda x,y : x if x>y else y, l)\n",
    "# print the product \n",
    "print(\"The Maximum element of list:\",maxm)"
   ]
  },
  {
   "cell_type": "markdown",
   "metadata": {},
   "source": [
    "##### 4. How can you use the `reduce()` function to concatenate a list of strings into a single string?\n"
   ]
  },
  {
   "cell_type": "code",
   "execution_count": 90,
   "metadata": {},
   "outputs": [
    {
     "name": "stdout",
     "output_type": "stream",
     "text": [
      "The original List : ['Hi', 'Hello', 'Hey', 'yep', 'yeah', 'Yes', 'yoo']\n",
      "The Maximum element of list: Hi Hello Hey yep yeah Yes yoo\n"
     ]
    }
   ],
   "source": [
    "# import functools module to use reduce() method\n",
    "import functools\n",
    "# create a list \n",
    "l = [\"Hi\",\"Hello\",\"Hey\",\"yep\",\"yeah\",\"Yes\",\"yoo\"]\n",
    "# print the original list\n",
    "print(\"The original List :\", l)\n",
    "# here we will use reduce() method. It takes 2 types of arguments. One is function and second is iterables.\n",
    "# to concatenate the strings in list, we will use lambda function.\n",
    "string_concat = functools.reduce(lambda x,y : x + \" \" + y, l)\n",
    "# print the product \n",
    "print(\"The Maximum element of list:\",string_concat)"
   ]
  },
  {
   "cell_type": "markdown",
   "metadata": {},
   "source": [
    "##### 5. Write a Python program that calculates the factorial of a number using the `reduce()` function.\n"
   ]
  },
  {
   "cell_type": "code",
   "execution_count": 92,
   "metadata": {},
   "outputs": [
    {
     "name": "stdout",
     "output_type": "stream",
     "text": [
      "The original number : 5\n",
      "The factorial of number: 120\n"
     ]
    }
   ],
   "source": [
    "# import functools module to use reduce() method\n",
    "import functools\n",
    "# initialize a number whose factorial is to be calculated\n",
    "num = 5\n",
    "# print the original number\n",
    "print(\"The original number :\", num)\n",
    "# here we will use reduce() method. It takes 2 types of arguments. One is function and second is iterables.\n",
    "# to calculate factorial, we will use lambda function.\n",
    "# for iterable we will use list comprehension and get numbers from 1 to num\n",
    "factorial = functools.reduce(lambda x,y : x*y, [i for i in range(1, num+1)])\n",
    "# print the factorial \n",
    "print(\"The factorial of number:\",factorial)"
   ]
  },
  {
   "cell_type": "markdown",
   "metadata": {},
   "source": [
    "##### 6. Create a Python program that uses `reduce()` to find the GCD (Greatest Common Divisor) of a list of numbers."
   ]
  },
  {
   "cell_type": "code",
   "execution_count": 11,
   "metadata": {},
   "outputs": [
    {
     "name": "stdout",
     "output_type": "stream",
     "text": [
      "the gcd is 12\n"
     ]
    }
   ],
   "source": [
    "# import functools module to use reduce() method\n",
    "import functools\n",
    "# create a function for GCD\n",
    "def get_gcd(a,b):\n",
    "    # put maximum value of 2 entered values in a and minimum value in b\n",
    "    a,b = max(a,b), min(a,b)\n",
    "    # initialize a variable to store remainder\n",
    "    r = 0 \n",
    "    # run a while loop until b is greater than 0\n",
    "    while(b>0):\n",
    "        # caclulate the remainder on dividing a by b\n",
    "        r = a%b\n",
    "        # put vale of b in a and remainder in b\n",
    "        a, b = b, r \n",
    "    # return gcd\n",
    "    return a\n",
    "# create a list \n",
    "l = [24,120,180,96]\n",
    "# calculate the gcd of elements of list using get_gcd() function with lambda function in reduce() method\n",
    "gcd_of_elements = functools.reduce(lambda a,b :get_gcd(a,b), l)\n",
    "# print the gcd\n",
    "print(\"the gcd is\",gcd_of_elements)\n"
   ]
  },
  {
   "cell_type": "markdown",
   "metadata": {},
   "source": [
    "##### 7. Write a Python program that uses the `reduce()` function to find the sum of the digits of a given number.\n"
   ]
  },
  {
   "cell_type": "code",
   "execution_count": 93,
   "metadata": {},
   "outputs": [
    {
     "name": "stdout",
     "output_type": "stream",
     "text": [
      "The original number : 5235\n",
      "The sum of digits of number: 15\n"
     ]
    }
   ],
   "source": [
    "# import functools module to use reduce() method\n",
    "import functools\n",
    "# initialize a number whose factorial is to be calculated\n",
    "num = 5235\n",
    "# print the original number\n",
    "print(\"The original number :\", num)\n",
    "# here we will use reduce() method. It takes 2 types of arguments. One is function and second is iterables.\n",
    "# to calculate sum, we will use lambda function.\n",
    "# for iterable, we will first convert num into string and then put its digit characters in list and convert these \n",
    "# digit characters back to integer and create a list of digits using list comprehension.\n",
    "sum_of_digits = functools.reduce(lambda x,y : x+y, [int(i) for i in str(num)])\n",
    "# print the factorial \n",
    "print(\"The sum of digits of number:\",sum_of_digits)"
   ]
  },
  {
   "cell_type": "markdown",
   "metadata": {},
   "source": [
    "# ***`Filter :-`***"
   ]
  },
  {
   "cell_type": "markdown",
   "metadata": {},
   "source": [
    "##### 1. Explain the purpose of the `filter()` function in Python and provide an example of how it can be used to filter elements from an iterable."
   ]
  },
  {
   "cell_type": "markdown",
   "metadata": {},
   "source": [
    "##### **Answer:** The filter() is an inbuilt function in python which allows us to iterate over an iterable and extact only those elements which satisfies an announced condition. This function takes argguments - one function and other is iterable. Let's Take an example: find even numbers from list."
   ]
  },
  {
   "cell_type": "code",
   "execution_count": 45,
   "metadata": {},
   "outputs": [
    {
     "name": "stdout",
     "output_type": "stream",
     "text": [
      "The original List : [243, 324, 456, 137, 6598, 733, 17]\n",
      "The even elements of list: [324, 456, 6598]\n"
     ]
    }
   ],
   "source": [
    "# create a list \n",
    "l = [243,324,456,137,6598,733,17]\n",
    "# print the original list\n",
    "print(\"The original List :\", l)\n",
    "# here we will use reduce() method. It takes 2 types of arguments. One is function and second is iterable.\n",
    "# to get even numbers in list, we will use lambda function.\n",
    "even_list = list(filter(lambda x: x%2==0, l))\n",
    "# print the even numbers \n",
    "print(\"The even elements of list:\",even_list)"
   ]
  },
  {
   "cell_type": "markdown",
   "metadata": {},
   "source": [
    "##### 2. Write a Python program that uses the `filter()` function to select even numbers from a list of integers.\n"
   ]
  },
  {
   "cell_type": "code",
   "execution_count": 95,
   "metadata": {},
   "outputs": [
    {
     "name": "stdout",
     "output_type": "stream",
     "text": [
      "The original List : [243, 324, 456, 137, 6598, 733, 17]\n",
      "The even elements of list: [324, 456, 6598]\n"
     ]
    }
   ],
   "source": [
    "# create a list \n",
    "l = [243,324,456,137,6598,733,17]\n",
    "# print the original list\n",
    "print(\"The original List :\", l)\n",
    "# here we will use reduce() method. It takes 2 types of arguments. One is function and second is iterable.\n",
    "# to get even numbers in list, we will use lambda function.\n",
    "even_list = list(filter(lambda x: x%2==0, l))\n",
    "# print the even numbers \n",
    "print(\"The even elements of list:\",even_list)"
   ]
  },
  {
   "cell_type": "markdown",
   "metadata": {},
   "source": [
    "##### 3. Create a Python program that uses the `filter()` function to select names that start with a specific letter from a list of strings."
   ]
  },
  {
   "cell_type": "code",
   "execution_count": 98,
   "metadata": {},
   "outputs": [
    {
     "name": "stdout",
     "output_type": "stream",
     "text": [
      "The original List : ['anne', 'ale', 'Kevin', 'catherine', 'adam', 'dake']\n",
      "The words should be start with  a\n",
      "The selected words of list: ['anne', 'ale', 'adam']\n"
     ]
    }
   ],
   "source": [
    "# create a list \n",
    "l = ['anne','ale','Kevin','catherine','adam','dake']\n",
    "# initialize a variable to specify start of name in list\n",
    "var = 'a'\n",
    "# print the original list and specific letter\n",
    "print(\"The original List :\", l)\n",
    "print(\"The words should be start with \",var)\n",
    "# here we will use reduce() method. It takes 2 types of arguments. One is function and second is iterable.\n",
    "# to get names start with a in list, we will use lambda function.\n",
    "selected_words = list(filter(lambda x: x[0]==var, l))\n",
    "# print the words start with  var \n",
    "print(\"The selected words of list:\",selected_words)"
   ]
  },
  {
   "cell_type": "markdown",
   "metadata": {},
   "source": [
    "##### 4. Write a Python program that uses the `filter()` function to select prime numbers from a list of integers.\n"
   ]
  },
  {
   "cell_type": "code",
   "execution_count": 2,
   "metadata": {},
   "outputs": [
    {
     "name": "stdout",
     "output_type": "stream",
     "text": [
      "The prime numbers list: [13, 23, 43, 89]\n"
     ]
    }
   ],
   "source": [
    "''' \n",
    "prime numbers are those numbers which are divisible by 1 or by itself.\n",
    "Note: 1 is not prime number\n",
    "'''\n",
    "def is_prime(num):\n",
    "    # execute a loop from 2 to num/2, if num is divisible by any of the number in this range, it will not be a prime number\n",
    "    for i in range(2,num//2+1):\n",
    "        # if num is divisible by i then it is not prime, so return False\n",
    "        if num%i==0 :\n",
    "            return False\n",
    "    return num>1\n",
    "# create a list \n",
    "l = [13,23,43,56,76,89,561,24]\n",
    "# here we will use reduce() method. It takes 2 types of arguments. One is function and second is iterable.\n",
    "# to get prime numbers in list, we will use is_prime() function.\n",
    "prime_num_list = list(filter(is_prime, l))\n",
    "# print the list of prime numbers\n",
    "print(\"The prime numbers list:\",prime_num_list)"
   ]
  },
  {
   "cell_type": "markdown",
   "metadata": {},
   "source": [
    "##### 5. How can you use the `filter()` function to remove None values from a list in Python?\n"
   ]
  },
  {
   "cell_type": "code",
   "execution_count": 104,
   "metadata": {},
   "outputs": [
    {
     "name": "stdout",
     "output_type": "stream",
     "text": [
      "The original List : ['anne', 'ale', 'Kevin', None, 'catherine', 'adam', 'dake', None]\n",
      "The list after removing None: ['anne', 'ale', 'Kevin', 'catherine', 'adam', 'dake']\n"
     ]
    }
   ],
   "source": [
    "# create a list \n",
    "l = ['anne','ale','Kevin',None,'catherine','adam','dake',None]\n",
    "# print the original list \n",
    "print(\"The original List :\", l)\n",
    "# here we will use reduce() method. It takes 2 types of arguments. One is function and second is iterable.\n",
    "# to values are None or not in list, we will use lambda function.\n",
    "selected_words = list(filter(lambda x: not x== None, l))\n",
    "# print the list after removing None\n",
    "print(\"The list after removing None:\",selected_words)"
   ]
  },
  {
   "cell_type": "markdown",
   "metadata": {},
   "source": [
    "##### 6. Create a Python program that uses `filter()` to select words longer than a certain length from a list of strings."
   ]
  },
  {
   "cell_type": "code",
   "execution_count": 101,
   "metadata": {},
   "outputs": [
    {
     "name": "stdout",
     "output_type": "stream",
     "text": [
      "The original List : ['anne', 'ale', 'Kevin', 'catherine', 'adam', 'dake']\n",
      "The words should be of length  4\n",
      "The selected words of list: ['anne', 'Kevin', 'catherine', 'adam', 'dake']\n"
     ]
    }
   ],
   "source": [
    "# create a list \n",
    "l = ['anne','ale','Kevin','catherine','adam','dake']\n",
    "# initialize a variable to specify length of string in list\n",
    "length = 4\n",
    "# print the original list and specific length\n",
    "print(\"The original List :\", l)\n",
    "print(\"The words should be of length \",length)\n",
    "# here we will use reduce() method. It takes 2 types of arguments. One is function and second is iterable.\n",
    "# to get words with specific length or more in list, we will use len() inside lambda function.\n",
    "selected_words = list(filter(lambda x: len(x) >= length, l))\n",
    "# print the words having number of elements equals to or greater then length value\n",
    "print(\"The selected words of list:\",selected_words)"
   ]
  },
  {
   "cell_type": "markdown",
   "metadata": {},
   "source": [
    "##### 7. Write a Python program that uses the `filter()` function to select elements greater than a specified threshold from a list of values."
   ]
  },
  {
   "cell_type": "code",
   "execution_count": 4,
   "metadata": {},
   "outputs": [
    {
     "name": "stdout",
     "output_type": "stream",
     "text": [
      "The original List : [2, 34, 65, 1, 78, 5, 4, 3, 1, 15, 18, 27, 85]\n",
      "The Output list: [34, 65, 78, 15, 18, 27, 85]\n"
     ]
    }
   ],
   "source": [
    "# initialize a variable to specify threshold\n",
    "threshold = 10\n",
    "# create a list \n",
    "l = [2,34,65,1,78,5,4,3,1,15,18,27,85]\n",
    "# print the original list\n",
    "print(\"The original List :\", l)\n",
    "# here we will use reduce() method. It takes 2 types of arguments. One is function and second is iterable.\n",
    "# to get numbers greater than threshold in list, we will use lambda function.\n",
    "numbers_list = list(filter(lambda x: x>threshold, l))\n",
    "# print the output\n",
    "print(\"The Output list:\",numbers_list)"
   ]
  },
  {
   "cell_type": "markdown",
   "metadata": {},
   "source": [
    "# ***`Recursion:-`***"
   ]
  },
  {
   "cell_type": "markdown",
   "metadata": {},
   "source": [
    "##### 1. Explain the concept of recursion in Python. How does it differ from iteration?\n"
   ]
  },
  {
   "cell_type": "markdown",
   "metadata": {},
   "source": [
    "##### ***Answer:** Recursion is a technique in which a function calls itself directly or indirectly. It is widely used to solve complex problems by dividing them into smaller sub problems and solve them recursively.\n",
    "##### In recursion, we can clearly see that the output of one function call can be used as input for another recursive function call. Using this way, we can execute a peice of code again and againg to solve any problem. While in loop, we simply execute a piece of code again and again using a loop or sometimes loop with a control statement."
   ]
  },
  {
   "cell_type": "markdown",
   "metadata": {},
   "source": [
    "##### 2. Write a Python program to calculate the factorial of a number using recursion.\n"
   ]
  },
  {
   "cell_type": "code",
   "execution_count": 6,
   "metadata": {},
   "outputs": [
    {
     "name": "stdout",
     "output_type": "stream",
     "text": [
      "The factorial of 6 is 720\n"
     ]
    }
   ],
   "source": [
    "# define a function for factorial\n",
    "def get_factorial(n:int):\n",
    "    # if n is less than or eq. to  1 then return 1\n",
    "    if n<=1:\n",
    "        return 1\n",
    "    # if n is not <= 1 then return n * factorial of n-1\n",
    "    return n*get_factorial(n-1) \n",
    "# take input from user using input() and convert it into integer using int()\n",
    "n = int(input(\"Enter number for factorial\"))\n",
    "# print the factorial using get_factorial() function\n",
    "print(f'The factorial of {n} is {get_factorial(n)}')"
   ]
  },
  {
   "cell_type": "markdown",
   "metadata": {},
   "source": [
    "##### 3. Create a recursive Python function to find the nth Fibonacci number.\n"
   ]
  },
  {
   "cell_type": "code",
   "execution_count": 10,
   "metadata": {},
   "outputs": [
    {
     "name": "stdout",
     "output_type": "stream",
     "text": [
      "The 7 th fibonacci number  is 8\n"
     ]
    }
   ],
   "source": [
    "# define a function for fibonacci\n",
    "def get_fibonacci(n:int):\n",
    "    # if n is less than or eq. to  1 then return n\n",
    "    if n<=1:\n",
    "        return n\n",
    "    # if n is not <= 1 then return n * fibonacci of n-1\n",
    "    return get_fibonacci(n-1) + get_fibonacci(n-2)\n",
    "# take input from user using input() and convert it into integer using int()\n",
    "n = int(input(\"Enter number for fibonacci\"))\n",
    "# print the nth fibonacci number using get_fibonacci()\n",
    "print(f'The {n} th fibonacci number  is {get_fibonacci(n-1)}')"
   ]
  },
  {
   "cell_type": "markdown",
   "metadata": {},
   "source": [
    "##### 4. Write a recursive Python function to calculate the sum of all elements in a list.\n"
   ]
  },
  {
   "cell_type": "code",
   "execution_count": 12,
   "metadata": {},
   "outputs": [
    {
     "name": "stdout",
     "output_type": "stream",
     "text": [
      "The original list : [1, 2, 3, 4, 5, 6, 7, 8]\n",
      "Sum of elements of list : 36\n"
     ]
    }
   ],
   "source": [
    "# create the function to calculate the sum of elements of list\n",
    "def get_sum(l,i):\n",
    "    # if index i is greater than or equal to length of list, return 0\n",
    "    if i>=len(l):\n",
    "        return 0\n",
    "    # otherwise add the value at current index i to the sum of all elements from index i+1 to last by calling the function itself to get the sum of remaining elements.\n",
    "    return l[i]+get_sum(l,i+1)\n",
    "# create a list \n",
    "l = [1,2,3,4,5,6,7,8]\n",
    "# print the original list \n",
    "print(\"The original list :\",l)\n",
    "# print the sum\n",
    "print(\"Sum of elements of list :\", get_sum(l,0))\n"
   ]
  },
  {
   "cell_type": "markdown",
   "metadata": {},
   "source": [
    "##### 5. How can you prevent a recursive function from running indefinitely, causing a stack overflow error?\n"
   ]
  },
  {
   "cell_type": "markdown",
   "metadata": {},
   "source": [
    "##### **Answer:** We can simply use a base condition to stop the recursion function calls which can easily prevent the stack overflow error. For example we want to print factorial of a number. Here base condition will be -> as soon as value of argument passed in function becomes 1 or less than 1, we simply return the value 1 intead of calling the function itself"
   ]
  },
  {
   "cell_type": "code",
   "execution_count": 1,
   "metadata": {},
   "outputs": [
    {
     "name": "stdout",
     "output_type": "stream",
     "text": [
      "The factorial of 6 is 720\n"
     ]
    }
   ],
   "source": [
    "#####**Answer:**# define a function for factorial\n",
    "def get_factorial(n:int):\n",
    "    # if n is less than or eq. to  1 then return 1\n",
    "    if n<=1:\n",
    "        return 1\n",
    "    # if n is not <= 1 then return n * factorial of n-1\n",
    "    return n*get_factorial(n-1) \n",
    "# take input from user using input() and convert it into integer using int()\n",
    "n = int(input(\"Enter number for factorial\"))\n",
    "# print the factorial using get_factorial() function\n",
    "print(f'The factorial of {n} is {get_factorial(n)}')"
   ]
  },
  {
   "cell_type": "markdown",
   "metadata": {},
   "source": [
    "##### 6. Create a recursive Python function to find the greatest common divisor (GCD) of two numbers using the Euclidean algorithm."
   ]
  },
  {
   "cell_type": "code",
   "execution_count": 14,
   "metadata": {},
   "outputs": [
    {
     "name": "stdout",
     "output_type": "stream",
     "text": [
      "The gcd of 132 and 48 is 1\n"
     ]
    }
   ],
   "source": [
    "# create get_gcd()\n",
    "def get_gcd(a,b):\n",
    "    # if b is eq. or less than 0 return a \n",
    "    if b<=0:\n",
    "        return a \n",
    "    # otherwise call the function itself by pass b and a%b according to euclidean methaod \n",
    "    return get_gcd(b, a%b)\n",
    "# initialize two variables whose gcd is to be find\n",
    "a = 132\n",
    "b = 48 \n",
    "# put maximum of a & b in a and minimum in b\n",
    "a, b = max(a,b), min(a,b)\n",
    "# call the get_gcd() and print the output of this function.\n",
    "print(f\"The gcd of {a} and {b} is {get_gcd(a,b)}\")"
   ]
  },
  {
   "cell_type": "markdown",
   "metadata": {},
   "source": [
    "##### 7. Write a recursive Python function to reverse a string."
   ]
  },
  {
   "cell_type": "code",
   "execution_count": 18,
   "metadata": {},
   "outputs": [
    {
     "name": "stdout",
     "output_type": "stream",
     "text": [
      "Reverse of Hello World! is !dlroW olleH\n"
     ]
    }
   ],
   "source": [
    "# create the reverse_string()\n",
    "def reverse_string(st,i):\n",
    "    # if index i is eq. or greater than length of string then return empty string\n",
    "    if i>=len(st):\n",
    "        return ''\n",
    "    # otherwise concatenate the reverse of remaining string and current element\n",
    "    return reverse_string(st,i+1)+ st[i]\n",
    "# create a string \n",
    "st = \"Hello World!\"\n",
    "# get the reverse of string by calling reverse_string() by passing st and index 0 in it.\n",
    "# print the output.\n",
    "print(f\"Reverse of {st} is {reverse_string(st,0)}\")\n"
   ]
  },
  {
   "cell_type": "markdown",
   "metadata": {},
   "source": [
    "##### 8. Create a recursive Python function to calculate the power of a number (x^n).\n"
   ]
  },
  {
   "cell_type": "code",
   "execution_count": 19,
   "metadata": {},
   "outputs": [
    {
     "name": "stdout",
     "output_type": "stream",
     "text": [
      "2^5 is 32\n"
     ]
    }
   ],
   "source": [
    "# create a function get_power()\n",
    "def get_power(x,n):\n",
    "    # if exponent n is equal to 0 then return 1\n",
    "    if n==0:\n",
    "        return 1\n",
    "    # otherwise multiply x to the output of get_power(x,n-1) i.e. x^(n-1) \n",
    "    return x*get_power(x, n-1)\n",
    "# initialize a variable to store power\n",
    "n = 5\n",
    "# initialize a variable to store base\n",
    "x = 2\n",
    "# call get_power() and print the output.\n",
    "print(f\"{x}^{n} is {get_power(x,n)}\")\n"
   ]
  },
  {
   "cell_type": "markdown",
   "metadata": {},
   "source": [
    "##### 9. Write a recursive Python function to find all permutations of a given string.\n"
   ]
  },
  {
   "cell_type": "code",
   "execution_count": 37,
   "metadata": {},
   "outputs": [
    {
     "name": "stdout",
     "output_type": "stream",
     "text": [
      "the permutations of ABCD are:\n",
      "ABCD  ABDC  ACBD  ACDB  ADBC  ADCB  BACD  BADC  BCAD  BCDA  BDAC  BDCA  CABD  CADB  CBAD  CBDA  CDAB  CDBA  DABC  DACB  DBAC  DBCA  DCAB  DCBA  "
     ]
    }
   ],
   "source": [
    "# create a function get_permut() which takes 3 arguments string, permutaion string and length of original string\n",
    "def get_permut(str1, permute,ln):\n",
    "    # if ength of permutaion string is equal to length of original string, it is a valid permutation.\n",
    "    if len(permute) == ln:\n",
    "        # print the permutation string and return.\n",
    "        print(permute, end= '  ')\n",
    "        return\n",
    "    # otherwise run the loop over elements of tring\n",
    "    for i in range(len(str1)):\n",
    "        # add the current element to permutation string and remove this element from input string and call the function to get remaining permutation \n",
    "        get_permut(str1[:i]+str1[i+1:], permute+str1[i],ln)\n",
    "# initialize a variable to store a string\n",
    "str1 = \"ABCD\"\n",
    "# print the message\n",
    "print(f\"the permutations of {str1} are:\")\n",
    "# call the get_permut() to get the permutations of original string\n",
    "get_permut(str1,\"\",len(str1))"
   ]
  },
  {
   "cell_type": "markdown",
   "metadata": {},
   "source": [
    "##### 10. Write a recursive Python function to check if a string is a palindrome."
   ]
  },
  {
   "cell_type": "code",
   "execution_count": 25,
   "metadata": {},
   "outputs": [
    {
     "name": "stdout",
     "output_type": "stream",
     "text": [
      "string madam is palindrom\n"
     ]
    }
   ],
   "source": [
    "# create a dunction check_palindrome()\n",
    "def check_palindrome(st,i):\n",
    "    # check if value at index i from start and value at index i from last are equal and i is less than half of length of string\n",
    "    if i<len(st)//2 and st[i] == st[len(st)-i-1]:\n",
    "        # check for this validation in remaining string\n",
    "        return check_palindrome(st,i+1)\n",
    "    # if index i reach to half of length of string, it is palindrome. return true\n",
    "    elif i>=len(st)//2:\n",
    "        return True \n",
    "    # if i less than half of length of string and value at index i from start and value at index i from last are not equal \n",
    "    # return false, it is not palindrome\n",
    "    else:\n",
    "        return False\n",
    "# initialize a string variable to validate\n",
    "str1 = \"madam\"\n",
    "# check if check_palindrome() returns true or false and print the appropriate message\n",
    "print(f\"string {str1} is palindrom\") if check_palindrome(str1,0) else print(f\"string {str1} is not palindrom\")\n"
   ]
  },
  {
   "cell_type": "markdown",
   "metadata": {},
   "source": [
    "##### 11. Create a recursive Python function to generate all possible combinations of a list of elements.\n"
   ]
  },
  {
   "cell_type": "code",
   "execution_count": 12,
   "metadata": {},
   "outputs": [
    {
     "name": "stdout",
     "output_type": "stream",
     "text": [
      "the original list is [56, 88, 8, 857, 345]\n",
      "The combinations are \n",
      " [[], [56], [88], [56, 88], [8], [56, 8], [88, 8], [56, 88, 8], [857], [56, 857], [88, 857], [56, 88, 857], [8, 857], [56, 8, 857], [88, 8, 857], [56, 88, 8, 857], [345], [56, 345], [88, 345], [56, 88, 345], [8, 345], [56, 8, 345], [88, 8, 345], [56, 88, 8, 345], [857, 345], [56, 857, 345], [88, 857, 345], [56, 88, 857, 345], [8, 857, 345], [56, 8, 857, 345], [88, 8, 857, 345], [56, 88, 8, 857, 345]]\n"
     ]
    }
   ],
   "source": [
    "# create a get_combination()\n",
    "def get_combinations(l):\n",
    "    # if l is not empty\n",
    "    if l:\n",
    "      # get the combination for l[:-1] using get_combinations()\n",
    "      combinaition = get_combinations(l[:-1])\n",
    "      # return the current combination concatenation with all the combinations of current stack concatenated along with last element of current stack list\n",
    "      return combinaition + [i + [l[-1]] for i in combinaition]\n",
    "    # otherwise return empty list\n",
    "    else:\n",
    "      return [[]]\n",
    "# create a list \n",
    "l = [56,88,8,857,345]\n",
    "# print the message\n",
    "print(\"the original list is\",l)\n",
    "# calculate the combinations using get_combination()\n",
    "# print the combinations of the list \n",
    "print(\"The combinations are \\n\",get_combinations(l))"
   ]
  },
  {
   "cell_type": "markdown",
   "metadata": {},
   "source": [
    "# ***`Basics of Functions:`***"
   ]
  },
  {
   "cell_type": "markdown",
   "metadata": {},
   "source": [
    "##### 1. What is a function in Python, and why is it used?"
   ]
  },
  {
   "cell_type": "markdown",
   "metadata": {},
   "source": [
    "##### **Answer:** Function is defined as set of set of intructions that are used to perform some specific task. Function basically used to facilitate reusablity of code. To perform same task multiple times, we just need to create a function of that task and call the function thrice."
   ]
  },
  {
   "cell_type": "markdown",
   "metadata": {},
   "source": [
    "##### 2. How do you define a function in Python? Provide an example."
   ]
  },
  {
   "cell_type": "markdown",
   "metadata": {},
   "source": [
    "##### **Answer:** Function is defined by using keyword `def` followed by function name followed by open and closed paranthesis followed by colon `:`. Function always consists of function body or some statement\n",
    "##### **Syntax :** \n",
    "##### def function_name():\n",
    "* function body or statements\n",
    "##### for example : calculate sum of two numbers."
   ]
  },
  {
   "cell_type": "code",
   "execution_count": 17,
   "metadata": {},
   "outputs": [
    {
     "name": "stdout",
     "output_type": "stream",
     "text": [
      "sum of 12 and 16 is 28\n"
     ]
    }
   ],
   "source": [
    "# define a function get_sum()\n",
    "def get_sum(a,b):\n",
    "    # return the sum of a and b \n",
    "    return a+b \n",
    "# initialize two variables to calculate sum \n",
    "a = 12\n",
    "b = 16\n",
    "# call the function get_sum() by passing values of argument a and b\n",
    "c = get_sum(a, b)\n",
    "# print the sum \n",
    "print(f'sum of {a} and {b} is',c)"
   ]
  },
  {
   "cell_type": "markdown",
   "metadata": {},
   "source": [
    "##### 3. Explain the difference between a function definition and a function call."
   ]
  },
  {
   "cell_type": "markdown",
   "metadata": {},
   "source": [
    "##### **Answer:** Function definition is the defining of function and its functionalities. Function Definition is when you define a function and write some statements for performing a specific task. But till this moment, It is just sitting silently, doing nothing. It means we have prepared the functionality, But we need a push to start the execution of this functionality. Here comes function call in picture.\n",
    "##### Function call is something which you tell the interpreter to run this particular piece of code or perform the task written inside this function."
   ]
  },
  {
   "cell_type": "markdown",
   "metadata": {},
   "source": [
    "`for example`"
   ]
  },
  {
   "cell_type": "code",
   "execution_count": 18,
   "metadata": {},
   "outputs": [
    {
     "name": "stdout",
     "output_type": "stream",
     "text": [
      "Hello World\n"
     ]
    }
   ],
   "source": [
    "# we create a functionality to print hello world\n",
    "def print_statements(statement):\n",
    "    print(statement)\n",
    "# till this time, we create the functionality but it will not give any output. It is inactive.\n",
    "\n",
    "# to activate this functionality, we need to call this functio\n",
    "print_statements(\"Hello World\")"
   ]
  },
  {
   "cell_type": "markdown",
   "metadata": {},
   "source": [
    "##### 4. Write a Python program that defines a function to calculate the sum of two numbers and then calls the function.\n"
   ]
  },
  {
   "cell_type": "code",
   "execution_count": 15,
   "metadata": {},
   "outputs": [
    {
     "name": "stdout",
     "output_type": "stream",
     "text": [
      "sum of 12 and 16 is 28\n"
     ]
    }
   ],
   "source": [
    "# define a function get_sum()\n",
    "def get_sum(a,b):\n",
    "    # return the sum of a and b \n",
    "    return a+b \n",
    "# initialize two variables to calculate sum \n",
    "a = 12\n",
    "b = 16\n",
    "# call the function get_sum() by passing values of argument a and b\n",
    "c = get_sum(a, b)\n",
    "# print the sum \n",
    "print(f'sum of {a} and {b} is',c)"
   ]
  },
  {
   "cell_type": "markdown",
   "metadata": {},
   "source": [
    "##### 5. What is a function signature, and what information does it typically include?\n"
   ]
  },
  {
   "cell_type": "markdown",
   "metadata": {},
   "source": [
    "##### **Answer:** Function signature is basically declaration of function. The very first line of function is the function signature------   i.e.------- `def function_name(aruments)-> returning type:`\n",
    "##### It typically includes function name, number of argumenst, type arguments, returning argument type."
   ]
  },
  {
   "cell_type": "markdown",
   "metadata": {},
   "source": [
    "##### 6. Create a Python function that takes two arguments and returns their product."
   ]
  },
  {
   "cell_type": "code",
   "execution_count": 16,
   "metadata": {},
   "outputs": [
    {
     "name": "stdout",
     "output_type": "stream",
     "text": [
      "product of 12 and 16 is 192\n"
     ]
    }
   ],
   "source": [
    "# define a function get_product()\n",
    "def get_product(a,b):\n",
    "    # return the product of a and b \n",
    "    return a*b \n",
    "# initialize two variables to calculate product \n",
    "a = 12\n",
    "b = 16\n",
    "# call the function get_product() by passing values of argument a and b\n",
    "c = get_product(a, b)\n",
    "# print the product \n",
    "print(f'product of {a} and {b} is',c)"
   ]
  },
  {
   "cell_type": "markdown",
   "metadata": {},
   "source": [
    "# ***`Function Parameters and Arguments:`***"
   ]
  },
  {
   "cell_type": "markdown",
   "metadata": {},
   "source": [
    "##### 1. Explain the concepts of formal parameters and actual arguments in Python functions."
   ]
  },
  {
   "cell_type": "markdown",
   "metadata": {},
   "source": [
    "##### **Answer:** Formal parameter are the arguments which are shown or passed during function definition. \n",
    "##### Actual parameters are the parameters which are passed in function during function calling\n",
    "##### Let's understand it via example"
   ]
  },
  {
   "cell_type": "code",
   "execution_count": 28,
   "metadata": {},
   "outputs": [
    {
     "name": "stdout",
     "output_type": "stream",
     "text": [
      "sum of 12 and 16 is 28\n"
     ]
    }
   ],
   "source": [
    "# define a function get_sum()\n",
    "def get_sum(a,b): ## here a, b are formal parameters -> at the time of function definition\n",
    "    # return the sum of a and b \n",
    "    return a+b \n",
    "# initialize two variables to calculate sum \n",
    "a = 12\n",
    "b = 16\n",
    "# call the function get_sum() by passing values of argument a and b\n",
    "c = get_sum(a, b)  # here a,b are actual parameters -> at the time of function calling\n",
    "# print the sum  \n",
    "print(f'sum of {a} and {b} is',c)"
   ]
  },
  {
   "cell_type": "markdown",
   "metadata": {},
   "source": [
    "##### 2. Write a Python program that defines a function with default argument values.\n"
   ]
  },
  {
   "cell_type": "code",
   "execution_count": 32,
   "metadata": {},
   "outputs": [
    {
     "data": {
      "text/plain": [
       "343"
      ]
     },
     "execution_count": 32,
     "metadata": {},
     "output_type": "execute_result"
    }
   ],
   "source": [
    "# create a function to get power of any number =7.\n",
    "def get_pow(num = 7, pow = 3): # here by default, we are telling interpreter that if user has not passed any argument, you have to consider num as 7 and pow = 2\n",
    "    # calculate num to the power pow\n",
    "    return num**pow\n",
    "# call the function\n",
    "get_pow()"
   ]
  },
  {
   "cell_type": "markdown",
   "metadata": {},
   "source": [
    "##### 3. How do you use keyword arguments in Python function calls? Provide an example.\n"
   ]
  },
  {
   "cell_type": "markdown",
   "metadata": {},
   "source": [
    "##### **Answer:** Here, we assigned names to arguments during the function call.Here, argument name to which data is assigned in function call should be same to argument name in function definition. Hence, first argument name  in the function call is assigned to the same argument name in the function definition. Similarly, second argument name in the function call is assigned to same argument name in the function definition and so on. For example -"
   ]
  },
  {
   "cell_type": "code",
   "execution_count": 38,
   "metadata": {},
   "outputs": [
    {
     "name": "stdout",
     "output_type": "stream",
     "text": [
      "Marie Dowell\n"
     ]
    }
   ],
   "source": [
    "# define a function to print first and last name\n",
    "def print_full_name(first_name, last_name):\n",
    "    print(first_name+' '+last_name)\n",
    "# call the function\n",
    "print_full_name(last_name=\"Dowell\",first_name='Marie')"
   ]
  },
  {
   "cell_type": "markdown",
   "metadata": {},
   "source": [
    "##### 4. Create a Python function that accepts a variable number of arguments and calculates their sum.\n"
   ]
  },
  {
   "cell_type": "code",
   "execution_count": 36,
   "metadata": {},
   "outputs": [
    {
     "name": "stdout",
     "output_type": "stream",
     "text": [
      "32\n"
     ]
    }
   ],
   "source": [
    "# create a get_sum()\n",
    "def get_sum(*args):\n",
    "    # initialize a variable to store sum of all arguments \n",
    "    sum_num = 0\n",
    "    # calculate sum of all arguments passed in argument\n",
    "    # iterate over all arguments\n",
    "    for i in args:\n",
    "        # add it to sum_num \n",
    "        sum_num += i\n",
    "    # return the sum of all arguments \n",
    "    return sum_num\n",
    "# all the function by passing sum arguments\n",
    "print(get_sum(1,2,3,8,5,6,7))"
   ]
  },
  {
   "cell_type": "markdown",
   "metadata": {},
   "source": [
    "##### 5. What is the purpose of the `*args` and `**kwargs` syntax in function parameter lists?\n"
   ]
  },
  {
   "cell_type": "markdown",
   "metadata": {},
   "source": [
    "##### **Answer:** *args passes variable number of non-keyworded arguments, on which operation of the tuple can be performed. **kwargs passes variable number of keyword arguments dictionary to function, on which operation of a dictionary can be performed."
   ]
  },
  {
   "cell_type": "markdown",
   "metadata": {},
   "source": [
    "# ***`Return Values and Scoping:`***"
   ]
  },
  {
   "cell_type": "markdown",
   "metadata": {},
   "source": [
    "##### 1. Describe the role of the `return` statement in Python functions and provide examples.\n"
   ]
  },
  {
   "cell_type": "markdown",
   "metadata": {},
   "source": [
    "##### **Answer:** Return statement is the jump statement which is used to return some value at the function call and send the control of execution to that line where the function calling happened."
   ]
  },
  {
   "cell_type": "code",
   "execution_count": 41,
   "metadata": {},
   "outputs": [
    {
     "name": "stdout",
     "output_type": "stream",
     "text": [
      "Hello!! John\n"
     ]
    }
   ],
   "source": [
    "# example 1\n",
    "def greet(name):\n",
    "    # return the greeting\n",
    "    return \"Hello!! \"+name \n",
    "# call function\n",
    "greeting = greet(\"John\")\n",
    "# print the output \n",
    "print(greeting)\n"
   ]
  },
  {
   "cell_type": "code",
   "execution_count": 42,
   "metadata": {},
   "outputs": [
    {
     "name": "stdout",
     "output_type": "stream",
     "text": [
      "The gcd of 132 and 48 is 12\n"
     ]
    }
   ],
   "source": [
    "# example 2\n",
    "# create get_gcd()\n",
    "def get_gcd(a,b):\n",
    "    # if b is eq. or less than 0 return a \n",
    "    if b<=0:\n",
    "        return a \n",
    "    # otherwise call the function itself by pass b and a%b according to euclidean methaod \n",
    "    return get_gcd(b, a%b)\n",
    "# initialize two variables whose gcd is to be find\n",
    "a = 132\n",
    "b = 48 \n",
    "# put maximum of a & b in a and minimum in b\n",
    "a, b = max(a,b), min(a,b)\n",
    "# call the get_gcd() and print the output of this function.\n",
    "print(f\"The gcd of {a} and {b} is {get_gcd(a,b)}\")\n",
    "\n"
   ]
  },
  {
   "cell_type": "markdown",
   "metadata": {},
   "source": [
    "##### 2. Explain the concept of variable scope in Python, including local and global variables.\n"
   ]
  },
  {
   "cell_type": "markdown",
   "metadata": {},
   "source": [
    "##### **Answer:** Python has two types of variables i.e. `global` variable and `local` variable. \n",
    "* Python Global variables are those which are not defined inside any function and have a global scope. These variables can only be used inside any function when we invite them using `global` keyword.\n",
    "* Python local variables are those which are defined inside a function and their scope is limited to that function only."
   ]
  },
  {
   "cell_type": "markdown",
   "metadata": {},
   "source": [
    "##### 3. Write a Python program that demonstrates the use of global variables within functions.\n"
   ]
  },
  {
   "cell_type": "code",
   "execution_count": 44,
   "metadata": {},
   "outputs": [
    {
     "data": {
      "text/plain": [
       "64"
      ]
     },
     "execution_count": 44,
     "metadata": {},
     "output_type": "execute_result"
    }
   ],
   "source": [
    "# let's calculate square of a number\n",
    "# initialize a global variable\n",
    "a = 2\n",
    "# create a function\n",
    "def get_sq(num):\n",
    "    # invite global variable\n",
    "    global a \n",
    "    # return square of the number \n",
    "    return num**a \n",
    "# call the function \n",
    "get_sq(8)\n"
   ]
  },
  {
   "cell_type": "markdown",
   "metadata": {},
   "source": [
    "##### 4. Create a Python function that calculates the factorial of a number and returns it.\n"
   ]
  },
  {
   "cell_type": "code",
   "execution_count": 39,
   "metadata": {},
   "outputs": [
    {
     "name": "stdout",
     "output_type": "stream",
     "text": [
      "The factorial of 6 is 720\n"
     ]
    }
   ],
   "source": [
    "#####**Answer:**# define a function for factorial\n",
    "def get_factorial(n:int):\n",
    "    # if n is less than or eq. to  1 then return 1\n",
    "    if n<=1:\n",
    "        return 1\n",
    "    # if n is not <= 1 then return n * factorial of n-1\n",
    "    return n*get_factorial(n-1) \n",
    "# take input from user using input() and convert it into integer using int()\n",
    "n = int(input(\"Enter number for factorial\"))\n",
    "# print the factorial using get_factorial() function\n",
    "print(f'The factorial of {n} is {get_factorial(n)}')"
   ]
  },
  {
   "cell_type": "markdown",
   "metadata": {},
   "source": [
    "##### 5. How can you access variables defined outside a function from within the function?\n"
   ]
  },
  {
   "cell_type": "markdown",
   "metadata": {},
   "source": [
    "##### **Answer:** We can access variables defined outside, inside functoion using keyword global. At first, we invite that variable inside the function using global.\n",
    "##### syntax:\n",
    "##### global variable_name\n",
    "##### Once we invite it successfully, we can use it in rest of the statements of that function. For example"
   ]
  },
  {
   "cell_type": "code",
   "execution_count": 40,
   "metadata": {},
   "outputs": [
    {
     "data": {
      "text/plain": [
       "64"
      ]
     },
     "execution_count": 40,
     "metadata": {},
     "output_type": "execute_result"
    }
   ],
   "source": [
    "# initialize a global variable\n",
    "a = 2\n",
    "# create a function\n",
    "def get_sq(num):\n",
    "    # invite global variable\n",
    "    global a \n",
    "    # return square of the number \n",
    "    return num**a \n",
    "# call the function \n",
    "get_sq(8)\n"
   ]
  },
  {
   "cell_type": "markdown",
   "metadata": {},
   "source": [
    "# ***`Lambda Functions and Higher-Order Functions:`***"
   ]
  },
  {
   "cell_type": "markdown",
   "metadata": {},
   "source": [
    "##### 1. What are lambda functions in Python, and when are they typically used?\n"
   ]
  },
  {
   "cell_type": "markdown",
   "metadata": {},
   "source": [
    "##### **Answer:** Lambda Function in python is an anaonymous function which means function without name. We can create this type of function using `lambda` keyword. This function typically used to evaluate simple single expression and return a value. We can use lambda function in place of any function when we want to evaluate single expression only."
   ]
  },
  {
   "cell_type": "markdown",
   "metadata": {},
   "source": [
    "##### 2. Write a Python program that uses lambda functions to sort a list of tuples based on the second element.\n"
   ]
  },
  {
   "cell_type": "code",
   "execution_count": 2,
   "metadata": {},
   "outputs": [
    {
     "name": "stdout",
     "output_type": "stream",
     "text": [
      "The original list is [(1, 2, 3), (8, 5, 7), (3, 9, 6), (7, 0, 1)]\n",
      "The sorted list is [(7, 0, 1), (1, 2, 3), (8, 5, 7), (3, 9, 6)]\n"
     ]
    }
   ],
   "source": [
    "# create a list of tuples \n",
    "l = [(1,2,3),(8,5,7),(3,9,6),(7,0,1)]\n",
    "# print the original list\n",
    "print(f\"The original list is {l}\")\n",
    "# sort the list using sort() \n",
    "# to sort it on the basis of second element of tuple, we assign a key to sort() using lambda function\n",
    "l.sort(key= lambda x : x[1])\n",
    "# print the sorted list\n",
    "print(f\"The sorted list is {l}\")"
   ]
  },
  {
   "cell_type": "markdown",
   "metadata": {},
   "source": [
    "##### 3. Explain the concept of higher-order functions in Python, and provide an example."
   ]
  },
  {
   "cell_type": "markdown",
   "metadata": {},
   "source": [
    "##### **Answer:** Higher order functions in python are those functions which takes function as an argument and/or returns a function as an output. Example : `filter()`,`reduce()`,`map()` etc."
   ]
  },
  {
   "cell_type": "code",
   "execution_count": 4,
   "metadata": {},
   "outputs": [
    {
     "name": "stdout",
     "output_type": "stream",
     "text": [
      "The original List : [243, 324, 456, 137, 6598, 733, 17]\n",
      "The even elements of list: [324, 456, 6598]\n"
     ]
    }
   ],
   "source": [
    "# for example : we want to get even numbers from list \n",
    "# create a list \n",
    "l = [243,324,456,137,6598,733,17]\n",
    "# print the original list\n",
    "print(\"The original List :\", l)\n",
    "# here we will use reduce() method. It takes 2 types of arguments. One is function and second is iterable.\n",
    "# to get even numbers in list, we will use lambda function.\n",
    "even_list = list(filter(lambda x: x%2==0, l))\n",
    "# print the even numbers \n",
    "print(\"The even elements of list:\",even_list)"
   ]
  },
  {
   "cell_type": "markdown",
   "metadata": {},
   "source": [
    "##### 4. Create a Python function that takes a list of numbers and a function as arguments, applying the function to each element in the list.\n"
   ]
  },
  {
   "cell_type": "code",
   "execution_count": 3,
   "metadata": {},
   "outputs": [
    {
     "name": "stdout",
     "output_type": "stream",
     "text": [
      "The original list :[1, 2, 6, 3, 8, 5, 9]\n",
      "The square of list :[1, 4, 36, 9, 64, 25, 81]\n"
     ]
    }
   ],
   "source": [
    "# create a list \n",
    "list_argument = [1,2,6,3,8,5,9]\n",
    "# print the original list \n",
    "print(f\"The original list :{list_argument}\")\n",
    "# create a lambda function to calculate square of number\n",
    "function_argument = lambda x : x**2\n",
    "# create a function to calculate the square of each element of list \n",
    "def get_square(list_argument, function_argument):\n",
    "    # create an empty list to store square of elements of list\n",
    "    sq_list = []\n",
    "    # iterate over elements of list \n",
    "    for i in list_argument:\n",
    "        # calculate the square of elements using function_argument() and append it in sq_list \n",
    "        sq_list.append(function_argument(i))\n",
    "    # return the list \n",
    "    return sq_list\n",
    "# call the function get_square() and print the output \n",
    "print(f\"The square of list :{get_square(list_argument=list_argument, function_argument=function_argument)}\")"
   ]
  },
  {
   "cell_type": "markdown",
   "metadata": {},
   "source": [
    "# ***`Built-in Functions:`***"
   ]
  },
  {
   "cell_type": "markdown",
   "metadata": {},
   "source": [
    "##### 1. Describe the role of built-in functions like `len()`, `max()`, and `min()` in Python."
   ]
  },
  {
   "cell_type": "markdown",
   "metadata": {},
   "source": [
    "##### **Answer:**"
   ]
  },
  {
   "cell_type": "markdown",
   "metadata": {},
   "source": [
    "* len() : It is used to calculate the length of iterable. It returns the number of elements present in iterable\n",
    "* max() : This function is used to calculate the maximum value among the values passed to it as arguments. \n",
    "* min() : This function is used to calculate the minimum value among the values passed to it as arguments. "
   ]
  },
  {
   "cell_type": "code",
   "execution_count": 22,
   "metadata": {},
   "outputs": [
    {
     "name": "stdout",
     "output_type": "stream",
     "text": [
      "The length of [1, 2, 3, 4, 5, 6, 7, 8] is 8\n",
      "The minimum of [1, 2, 3, 4, 5, 6, 7, 8] is 1\n",
      "The maximum of [1, 2, 3, 4, 5, 6, 7, 8] is 8\n"
     ]
    }
   ],
   "source": [
    "# create a list\n",
    "l =[1,2,3,4,5,6,7,8]\n",
    "# print the length using len()\n",
    "print(f'The length of {l} is {len(l)}')\n",
    "# print the minimum using len()\n",
    "print(f'The minimum of {l} is {min(l)}')\n",
    "# print the maximum using len()\n",
    "print(f'The maximum of {l} is {max(l)}')"
   ]
  },
  {
   "cell_type": "markdown",
   "metadata": {},
   "source": [
    "##### 2. Write a Python program that uses the `map()` function to apply a function to each element of a list.\n"
   ]
  },
  {
   "cell_type": "markdown",
   "metadata": {},
   "source": [
    "##### **Answer:** Let's create a program to convert each string in list to uppercase"
   ]
  },
  {
   "cell_type": "code",
   "execution_count": 23,
   "metadata": {},
   "outputs": [
    {
     "name": "stdout",
     "output_type": "stream",
     "text": [
      "The original List : ['aaa', 'bbb', 'ccc', 'ddd', 'eee', 'fff']\n",
      "List of uppercase of words : ['AAA', 'BBB', 'CCC', 'DDD', 'EEE', 'FFF']\n"
     ]
    }
   ],
   "source": [
    "# create a list \n",
    "l = ['aaa','bbb','ccc','ddd','eee','fff']\n",
    "# print the original list\n",
    "print(\"The original List :\", l)\n",
    "# Map basically takes two arguments. First argument is a function \n",
    "# that returns some value and second argument is iterable\n",
    "# here for getting uppercase of each element, we will use lambda function.\n",
    "# Using map(), each element will be fetch one by one and using upper() function inside lambda function, can convert element into uppercase. \n",
    "# then convert the output return by map into list using list()\n",
    "upper_list = list(map(lambda x : x.upper(), l))\n",
    "print(\"List of uppercase of words :\",upper_list)"
   ]
  },
  {
   "cell_type": "markdown",
   "metadata": {},
   "source": [
    "##### 3. How does the `filter()` function work in Python, and when would you use it?\n"
   ]
  },
  {
   "cell_type": "markdown",
   "metadata": {},
   "source": [
    "##### **Answer:** The filter() is an inbuilt function in python which allows us to iterate over an iterable and extact only those elements which satisfies an announced condition. We simply use it when we do some decision making over the selection of elements in any iterable or group of elements. This function takes arguments - one function and other is iterable. Let's Take an example: find even numbers from list."
   ]
  },
  {
   "cell_type": "code",
   "execution_count": 24,
   "metadata": {},
   "outputs": [
    {
     "name": "stdout",
     "output_type": "stream",
     "text": [
      "The original List : [243, 324, 456, 137, 6598, 733, 17]\n",
      "The even elements of list: [324, 456, 6598]\n"
     ]
    }
   ],
   "source": [
    "# create a list \n",
    "l = [243,324,456,137,6598,733,17]\n",
    "# print the original list\n",
    "print(\"The original List :\", l)\n",
    "# here we will use reduce() method. It takes 2 types of arguments. One is function and second is iterable.\n",
    "# to get even numbers in list, we will use lambda function.\n",
    "even_list = list(filter(lambda x: x%2==0, l))\n",
    "# print the even numbers \n",
    "print(\"The even elements of list:\",even_list)"
   ]
  },
  {
   "cell_type": "markdown",
   "metadata": {},
   "source": [
    "##### 4. Create a Python program that uses the `reduce()` function to find the product of all elements in a list."
   ]
  },
  {
   "cell_type": "code",
   "execution_count": 6,
   "metadata": {},
   "outputs": [
    {
     "name": "stdout",
     "output_type": "stream",
     "text": [
      "The original List : [2, 4, 6, 7, 8, 3, 7]\n",
      "The product of elements of list: 56448\n"
     ]
    }
   ],
   "source": [
    "# import functools module to use reduce() method\n",
    "import functools\n",
    "# create a list \n",
    "l = [2,4,6,7,8,3,7]\n",
    "# print the original list\n",
    "print(\"The original List :\", l)\n",
    "# here we will use reduce() method. It takes 2 types of arguments. One is function and second is iterables.\n",
    "# to calculate product, we will use lambda function.\n",
    "product_of_numbers = functools.reduce(lambda x,y : x*y, l)\n",
    "# print the product \n",
    "print(\"The product of elements of list:\",product_of_numbers)"
   ]
  },
  {
   "cell_type": "markdown",
   "metadata": {},
   "source": [
    "# ***`Function Documentation and Best Practices:`***"
   ]
  },
  {
   "cell_type": "markdown",
   "metadata": {},
   "source": [
    "##### 1. Explain the purpose of docstrings in Python functions and how to write them.\n"
   ]
  },
  {
   "cell_type": "markdown",
   "metadata": {},
   "source": [
    "##### **Answer:** Docstring in python is a way to include documentaion with each python module, class, function etc. It is considered as best practice to document the functionality and working of code, module or any bunch of statements while making a feature. Docstring is specified in the form of comments associated with each function, class or module. Docstring can be written between triple double quotes. \n",
    "##### Example : `\"\"\"Docstring or comments\"\"\"`"
   ]
  },
  {
   "cell_type": "markdown",
   "metadata": {},
   "source": [
    "##### 2. Describe some best practices for naming functions and variables in Python, including naming conventions and guidelines.\n"
   ]
  },
  {
   "cell_type": "markdown",
   "metadata": {},
   "source": [
    "##### **Answer:** Usually we follow `Snake Case` to name variables and functions in python. In `Snake Case`, words in the variable/function name are concatenated and separated by underscores. example : `get_perfect_word()` for function, `list_of_strings` for variable.\n",
    "##### There are some guidelines and conventions to name the variable/function\n",
    "* name can only start either with lowercase letter or uppercase letter or underscore but for best practices, we generally start variable name with either lower case letter or underscore.\n",
    "* name can cantain digit but can not start with a digit\n",
    "* name can only contain underscore ( `_` ) as special character, no other special character is allowed\n",
    "* name can contian upper and lower can english alphabets."
   ]
  }
 ],
 "metadata": {
  "kernelspec": {
   "display_name": "base",
   "language": "python",
   "name": "python3"
  },
  "language_info": {
   "codemirror_mode": {
    "name": "ipython",
    "version": 3
   },
   "file_extension": ".py",
   "mimetype": "text/x-python",
   "name": "python",
   "nbconvert_exporter": "python",
   "pygments_lexer": "ipython3",
   "version": "3.11.4"
  },
  "orig_nbformat": 4
 },
 "nbformat": 4,
 "nbformat_minor": 2
}
