{
 "cells": [
  {
   "cell_type": "markdown",
   "metadata": {},
   "source": [
    "##### Problem 1 :\n",
    "* Intersection of Two Sorted Arrays\n",
    "* Write a Python program to find the intersection of two sorted arrays.\n",
    "* Input:\n",
    "* A = [1, 3, 5, 7, 9]\n",
    "* B = [2, 4, 5, 8]\n",
    "* Output:\n",
    "* Intersection: [5]"
   ]
  },
  {
   "cell_type": "code",
   "execution_count": 3,
   "metadata": {},
   "outputs": [
    {
     "name": "stdout",
     "output_type": "stream",
     "text": [
      "5\n"
     ]
    }
   ],
   "source": [
    "lista = [1,3,5,7,9]\n",
    "listb = [2,4,5,8,14,15]\n",
    "i = len(lista)-1\n",
    "j = len(listb)-1\n",
    "\n",
    "while(i>=0 and j>=0):\n",
    "    if lista[i]>listb[j]:\n",
    "        i-=1\n",
    "    elif lista[i]<listb[j]:\n",
    "        j-=1\n",
    "    else :\n",
    "        print(lista[i])\n",
    "        break"
   ]
  },
  {
   "cell_type": "markdown",
   "metadata": {},
   "source": [
    "##### Problem 2 :\n",
    "* Find the Kth Smallest Element\n",
    "* Write a Python function to find the kth smallest element in an unsorted list.\n",
    "* Input:\n",
    "* [12, 3, 1, 7, 8, 20], k = 3\n",
    "* Output:\n",
    "* The 3rd smallest element is 7"
   ]
  },
  {
   "cell_type": "code",
   "execution_count": 7,
   "metadata": {},
   "outputs": [
    {
     "name": "stdout",
     "output_type": "stream",
     "text": [
      "Kth smallest number = 7\n"
     ]
    }
   ],
   "source": [
    "def cnt_num(arr, mid):\n",
    "    cnt = 0\n",
    "    for i in arr:\n",
    "        if i<=mid:\n",
    "            cnt+=1\n",
    "    return cnt \n",
    "def get_k(arr,k):\n",
    "    i = min(arr)\n",
    "    j = max(arr)\n",
    "    while i<j:\n",
    "        mid = (i+j)//2\n",
    "        if cnt_num(arr, mid)<k:\n",
    "            i = mid+1 \n",
    "        else:\n",
    "            j = mid \n",
    "    return i\n",
    " \n",
    "arr = [12,3,1,7,8,20]\n",
    "k = 3\n",
    "print('Kth smallest number =', get_k(arr,k))"
   ]
  },
  {
   "cell_type": "markdown",
   "metadata": {},
   "source": [
    "##### Problem 3 :\n",
    "* Binary Search in a Rotated Sorted Array\n",
    "* Implement a Python program to perform a binary search on a rotated sorted array.\n",
    "* Input:\n",
    "* [4, 5, 6, 7, 8, 9, 1, 2, 3], 6\n",
    "* Output:\n",
    "* Element 6 found at index 2"
   ]
  },
  {
   "cell_type": "code",
   "execution_count": null,
   "metadata": {},
   "outputs": [],
   "source": []
  },
  {
   "cell_type": "markdown",
   "metadata": {},
   "source": [
    "##### Problem 4 :\n",
    "* Searching in a Matrix\n",
    "* Write a Python program that searches for a given element in a 2D matrix and returns its position.\n",
    "* Input:\n",
    "* Matrix = [\n",
    "* [1, 3, 5],\n",
    "* [7, 9, 11],\n",
    "* [13, 15, 17]\n",
    "* ]\n",
    "* Element = 11\n",
    "* Output:\n",
    "* Element 11 found at position (1, 2)"
   ]
  },
  {
   "cell_type": "code",
   "execution_count": 12,
   "metadata": {},
   "outputs": [
    {
     "name": "stdout",
     "output_type": "stream",
     "text": [
      "element found at (1, 2)\n"
     ]
    }
   ],
   "source": [
    "def get_element(matrix, k):\n",
    "    for i in range(len(matrix)):\n",
    "        if matrix[i][len(matrix[0])-1]<k:\n",
    "            continue\n",
    "        else:\n",
    "            for j in range(len(matrix[0])-1,-1,-1):\n",
    "                if matrix[i][j]==k:\n",
    "                    return (i,j)\n",
    "    return (-1,-1)\n",
    "\n",
    "matrix = [[1,3,5],[7,9,11],[13,15,17]]\n",
    "k = 11\n",
    "print(f'element found at {get_element(matrix, k)}')"
   ]
  },
  {
   "cell_type": "markdown",
   "metadata": {},
   "source": [
    "##### Problem 5 :\n",
    "* Sorting Strings by Length\n",
    "* Write a Python program that takes a list of strings and sorts them based on their length.\n",
    "* Input:\n",
    "* ['apple', 'banana', 'kiwi', 'orange', 'grape']\n",
    "* Output:\n",
    "* ['kiwi', 'grape', 'apple', 'banana', 'orange']"
   ]
  },
  {
   "cell_type": "code",
   "execution_count": null,
   "metadata": {},
   "outputs": [],
   "source": []
  }
 ],
 "metadata": {
  "kernelspec": {
   "display_name": "base",
   "language": "python",
   "name": "python3"
  },
  "language_info": {
   "codemirror_mode": {
    "name": "ipython",
    "version": 3
   },
   "file_extension": ".py",
   "mimetype": "text/x-python",
   "name": "python",
   "nbconvert_exporter": "python",
   "pygments_lexer": "ipython3",
   "version": "3.11.4"
  }
 },
 "nbformat": 4,
 "nbformat_minor": 2
}
