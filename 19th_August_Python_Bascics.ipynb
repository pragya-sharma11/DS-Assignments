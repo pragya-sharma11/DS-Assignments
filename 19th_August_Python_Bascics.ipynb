{
 "cells": [
  {
   "cell_type": "markdown",
   "metadata": {},
   "source": [
    "## Basic variable based questions \n"
   ]
  },
  {
   "cell_type": "markdown",
   "metadata": {},
   "source": [
    "#### 1. Declare two variables, `x` and `y`, and assign them integer values. Swap the values of these variables without using any temporary variable.\n"
   ]
  },
  {
   "cell_type": "code",
   "execution_count": 1,
   "metadata": {},
   "outputs": [
    {
     "name": "stdout",
     "output_type": "stream",
     "text": [
      "old value of x =  4\n",
      "old value of y =  9\n",
      "After swapping ---:\n",
      "new value of x =  9\n",
      "new value of y =  4\n"
     ]
    }
   ],
   "source": [
    "# declaring the variable x and assigning it 4 as a value to this variable\n",
    "x = 4\n",
    "# declaring the variable y and assigning it 9 as a value to this variable\n",
    "y = 9\n",
    "# printing the current assigned values of x and y\n",
    "print('old value of x = ',x)\n",
    "print('old value of y = ',y)\n",
    "\n",
    "# swapping the values of x and y without using any extra variable\n",
    "x,y = y,x\n",
    "\n",
    "# printing the new values of x and y after swapping\n",
    "print('After swapping ---:')\n",
    "print('new value of x = ',x)\n",
    "print('new value of y = ',y)"
   ]
  },
  {
   "cell_type": "markdown",
   "metadata": {},
   "source": [
    "#### 2. Create a program that calculates the area of a rectangle. Take the length and width as inputs from the user and store them in variables. Calculate and display the area.\n"
   ]
  },
  {
   "cell_type": "code",
   "execution_count": 3,
   "metadata": {},
   "outputs": [
    {
     "name": "stdout",
     "output_type": "stream",
     "text": [
      "area of rectangle of length 5 and width 7  =  35\n"
     ]
    }
   ],
   "source": [
    "''' input the value of length from user by using input() function \n",
    "and converting the user input value to int using int() function'''\n",
    "length = int(input(\"Enter length of rectangle\"))\n",
    "\n",
    "''' input the value of width from user by using input() function \n",
    "and converting the user input value to int using int() function'''\n",
    "width = int(input(\"Enter width of rectangle\"))\n",
    "\n",
    "# calculating the area of rectangle by multiplying length and width, and storing the value in the variable name 'area' \n",
    "area = length*width \n",
    "\n",
    "# printing the value of area\n",
    "print('area of rectangle of length',length,'and width', width,' = ', area)"
   ]
  },
  {
   "cell_type": "markdown",
   "metadata": {},
   "source": [
    "#### 3. Write a Python program that converts temperatures from Celsius to Fahrenheit. Take the temperature in Celsius as input, store it in a variable, convert it to Fahrenheit, and display the result.\n",
    "\n"
   ]
  },
  {
   "cell_type": "code",
   "execution_count": 18,
   "metadata": {},
   "outputs": [
    {
     "name": "stdout",
     "output_type": "stream",
     "text": [
      "for 40.0°C Temperature in fahrenheit = 104.0\n"
     ]
    }
   ],
   "source": [
    "''' input the value of temperature from user by using input() function \n",
    "and converting the user input value to float using float() function'''\n",
    "temperatue_celsius = float(input(\"enter temperature in celcius\"))\n",
    "\n",
    "# calculate the temperature in fahrenheit using formula - temperature_celsius*(9/5) + 32\n",
    "# here bodmas will be applied, at first inner bracket will be solve so 9/5 is excuted at first\n",
    "# then value of 9/5 is multiplied by temperature_celsius\n",
    "# then 32 is added to above calculated value.\n",
    "temperatue_fahrenheit = (temperatue_celsius*(9/5)) + 32\n",
    "\n",
    "# print the value of calculated temperature\n",
    "print(\"for\",str(temperatue_celsius)+\"°C Temperature in fahrenheit =\", temperatue_fahrenheit)\n"
   ]
  },
  {
   "cell_type": "markdown",
   "metadata": {},
   "source": [
    "## String based questions \n"
   ]
  },
  {
   "cell_type": "markdown",
   "metadata": {},
   "source": [
    "#### 1. Write a Python program that takes a string as input and prints the length of the string.\n",
    "\n"
   ]
  },
  {
   "cell_type": "code",
   "execution_count": 9,
   "metadata": {},
   "outputs": [
    {
     "name": "stdout",
     "output_type": "stream",
     "text": [
      "length of string [Ram is a good boy] is 17\n"
     ]
    }
   ],
   "source": [
    "# taking input from user by using input() function\n",
    "string1 = input(\"Enter a string\")\n",
    "# calculating the length of the input string using len() function and storing it in a variable named length_of_string\n",
    "# len() is an in-built function that is basically used to calculate length of a string, list, tuple etc\n",
    "length_of_string = len(string1)\n",
    "\n",
    "# printing the length of input string\n",
    "print(\"length of string [\"+string1+\"] is\",length_of_string)"
   ]
  },
  {
   "cell_type": "markdown",
   "metadata": {},
   "source": [
    "#### 2. Create a program that takes a sentence from the user and counts the number of vowels (a, e, i, o, u) in the string.\n"
   ]
  },
  {
   "cell_type": "code",
   "execution_count": 7,
   "metadata": {},
   "outputs": [
    {
     "name": "stdout",
     "output_type": "stream",
     "text": [
      "number of vowels in sentence [ Ram Is A Good Boy ] is 6\n"
     ]
    }
   ],
   "source": [
    "# taking input from user by using input() function\n",
    "sentence = input(\"Enter a sentence\")\n",
    "\n",
    "# The approach is to use function count()- \n",
    "#  we can count the frequency of a,e,i,o,u,A,E,I,O,U  and the add all of them and store it in a variable\n",
    "total_vowels = sentence.count('a')+sentence.count('e')+sentence.count('i')+sentence.count('o')+sentence.count('u')+sentence.count('A')+sentence.count('E')+sentence.count('I')+sentence.count('O')+sentence.count('U')\n",
    "# printing the number of vowels in the input string \n",
    "print(\"number of vowels in sentence [\",sentence,\"] is\",total_vowels)\n",
    "\n"
   ]
  },
  {
   "cell_type": "markdown",
   "metadata": {},
   "source": [
    "#### 3. Given a string, reverse the order of characters using string slicing and print the reversed string.\n",
    "\n"
   ]
  },
  {
   "cell_type": "code",
   "execution_count": 8,
   "metadata": {},
   "outputs": [
    {
     "name": "stdout",
     "output_type": "stream",
     "text": [
      "reverse of the string [ Beautiful ] is lufituaeB\n"
     ]
    }
   ],
   "source": [
    "# taking input from user by using input() function\n",
    "string2 = input(\"Enter a string\")\n",
    "\n",
    "#  we can reverse the string using slicing and store the result in variable named reversed_string\n",
    "# we do slicing by making it as negative jump i.e. -1\n",
    "reversed_string = string2[::-1]\n",
    "\n",
    "# print the reverse of the string\n",
    "print(\"reverse of the string [\", string2, '] is', reversed_string) "
   ]
  },
  {
   "cell_type": "markdown",
   "metadata": {},
   "source": [
    "#### 4. Write a program that takes a string as input and checks if it is a palindrome (reads the same forwards and backwards).\n",
    "\n"
   ]
  },
  {
   "cell_type": "code",
   "execution_count": 11,
   "metadata": {},
   "outputs": [
    {
     "name": "stdout",
     "output_type": "stream",
     "text": [
      "String entered by user is =  Madam\n",
      "String is palindrome but case is different\n"
     ]
    }
   ],
   "source": [
    "'''Palindrome meanse the word is equals to reverse of itself for example - *madam* reads same forward and backward\n",
    "approach will be- \n",
    "1 - we input the string\n",
    "2 - We calculate the reverse of the word\n",
    "3 - We check if the word is equal to its reverse word, but it has three possibilites \n",
    "3.1 - Word is palindrome but case of letters are diiferent for example Bab,\n",
    "reverse of Bab = baB. It is palindrome but in 1st word first B is capital and last b is small but in\n",
    "2nd word, last B is capital and first b is small. So we call it - String is palindrome but case is different.\n",
    "3.2 - Word is palindrome and case of all letters in words and its reverse are same.'\n",
    "3.3 - Word is not palindrome, word is not equal to its reversed word.\n",
    "'''\n",
    "\n",
    "# taking input from user by using input() function\n",
    "p1 = input(\"Enter a string\")\n",
    "\n",
    "# to get the reverse of the input string, we use slicing with negative jump.\n",
    "p2 = p1[::-1]\n",
    "print('String entered by user is = ',p1)\n",
    "\n",
    "''' to check the equality, we use if statement. \n",
    "first we check \n",
    "1 - if string is palindrome after changing the case of both strings using lower().\n",
    "if yes then we check if they are equal along with upper and lower case letters, if yes then string is palindrome\n",
    "if no then string is palindrome but case is different\n",
    "2 - If string is not palindrome  after changing the case of both strings to lower then \n",
    "string is not palindrome.'''\n",
    "\n",
    "if p1.lower() == p2.lower():\n",
    "    if p1==p2:\n",
    "        print('String is palindrome')\n",
    "    else:\n",
    "        print('String is palindrome but case is different')\n",
    "else:\n",
    "    print('String is not palindrome') "
   ]
  },
  {
   "cell_type": "markdown",
   "metadata": {},
   "source": [
    "#### 5. Create a program that takes a string as input and removes all the spaces from it. Print the modified string without spaces.\n"
   ]
  },
  {
   "cell_type": "code",
   "execution_count": 10,
   "metadata": {},
   "outputs": [
    {
     "name": "stdout",
     "output_type": "stream",
     "text": [
      "New string after removing space =  RamIsAGoodBoy\n"
     ]
    }
   ],
   "source": [
    "'''\n",
    "Approach is - \n",
    "1.We take input from user and store it in a variable s1.\n",
    "2.we take another variable s2 and initialize it with empty string.\n",
    "3.use a for loop to iterate every value in that string, if the character in the string is not space character then\n",
    "we add it in s2.\n",
    "4.when the loop finishes its iterations, we replace the value of s1 with value of s2 i.e. string without spaces.\n",
    "5.Print the value after removing the spaces\n",
    "'''\n",
    "\n",
    "s1 = input(\"Enter a string\")\n",
    "s2 = ''\n",
    "for i in s1:\n",
    "    if i!= ' ':\n",
    "        s2 += i \n",
    "s1 = s2\n",
    "print('New string after removing space = ', s1)"
   ]
  },
  {
   "cell_type": "markdown",
   "metadata": {},
   "source": [
    "\n",
    "\n"
   ]
  }
 ],
 "metadata": {
  "kernelspec": {
   "display_name": "base",
   "language": "python",
   "name": "python3"
  },
  "language_info": {
   "codemirror_mode": {
    "name": "ipython",
    "version": 3
   },
   "file_extension": ".py",
   "mimetype": "text/x-python",
   "name": "python",
   "nbconvert_exporter": "python",
   "pygments_lexer": "ipython3",
   "version": "3.10.9"
  },
  "orig_nbformat": 4
 },
 "nbformat": 4,
 "nbformat_minor": 2
}
