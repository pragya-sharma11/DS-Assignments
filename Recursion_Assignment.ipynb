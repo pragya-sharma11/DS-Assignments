{
 "cells": [
  {
   "cell_type": "markdown",
   "metadata": {},
   "source": [
    "# ***`RECURSION ASSIGNEMNT`***"
   ]
  },
  {
   "cell_type": "markdown",
   "metadata": {},
   "source": [
    "##### Question 1 : Q.1 Can you explain the logic and working of the Tower of Hanoi algorithm ?How does the recursion work, and how are the movements of disks between rods accomplished?"
   ]
  },
  {
   "cell_type": "code",
   "execution_count": 24,
   "metadata": {},
   "outputs": [
    {
     "name": "stdout",
     "output_type": "stream",
     "text": [
      "Move disk 1 from source A to destination C\n",
      "Move disk 2 from source A to destination B\n",
      "Move disk 1 from source C to destination B\n",
      "Move disk 3 from source A to destination C\n",
      "Move disk 1 from source B to destination A\n",
      "Move disk 2 from source B to destination C\n",
      "Move disk 1 from source A to destination C\n"
     ]
    }
   ],
   "source": [
    "# create a method to explain the working of tower of hanoi\n",
    "def tower_of_hanoi(n , source, destination, middle):\n",
    "    # if number of hoops are less than 1 then move stop the function using empty return\n",
    "    if n<1:\n",
    "        return\n",
    "    # apply the logic of tower of hanoi\n",
    "    # treat destination as middle wand for n-1th hoops and middle wand as destination\n",
    "    tower_of_hanoi(n-1, source, middle, destination)\n",
    "    # print appropriate message\n",
    "    print (\"Move disk\",n,\"from source\",source,\"to destination\",destination)\n",
    "    # for n-1th hoops, treat source as middle wand, and middle wand as source and destination remains same.\n",
    "    tower_of_hanoi(n-1, middle, destination, source)\n",
    "         \n",
    "# Driver code\n",
    "n = 3\n",
    "# call the method tower_of_hanoi()\n",
    "tower_of_hanoi(n,'A','C','B') "
   ]
  },
  {
   "cell_type": "markdown",
   "metadata": {},
   "source": [
    "##### Q.2 Given two strings word1 and word2, return the minimum number of operations required to convert word1\n",
    "to word2.\n",
    "* Example 1:\n",
    "* Input: word1 = \"horse\", word2 = \"ros\"\n",
    "* Output: 3\n",
    "* Explanation:\n",
    "* horse -> rorse (replace 'h' with 'r')\n",
    "* rorse -> rose (remove 'r')\n",
    "* rose -> ros (remove 'e')\n"
   ]
  },
  {
   "cell_type": "code",
   "execution_count": 17,
   "metadata": {},
   "outputs": [
    {
     "name": "stdout",
     "output_type": "stream",
     "text": [
      "The minimum number of oprations = 3\n"
     ]
    }
   ],
   "source": [
    "# create a method get_operations() which takes 2 strings and their lengths as arguments \n",
    "def get_operations(s1, s2, i,j):\n",
    "    # if i is 0 return j\n",
    "    if i == 0:\n",
    "        return j \n",
    "    # if j is 0 return i\n",
    "    if j == 0 :\n",
    "        return i \n",
    "    # if value at index i-1 of 1st string s1 is equal to value at index j-1 of 2nd string s2 \n",
    "    if s1[i-1] == s2[j-1]:\n",
    "        # return the operations required for remaining strings from 0 to i-1 and 0 to j-1\n",
    "        return get_operations(s1,s2,i-1,j-1)\n",
    "    # otherwise  return the minimum number of operations required for remaining string + 1\n",
    "    else: \n",
    "        return 1 + min(get_operations(s1,s2,i-1,j),get_operations(s1,s2,i,j-1),get_operations(s1,s2,i-1,j-1))\n",
    "# Driver code\n",
    "# initialize the strings and their length\n",
    "string1 = 'horse'\n",
    "string2 = 'ros'\n",
    "i = len(string1)\n",
    "j = len(string2)\n",
    "# get the minimum number of operations using get_opertions() method\n",
    "result = get_operations(string1, string2, i,j)\n",
    "# print the result\n",
    "print(\"The minimum number of oprations =\", result)"
   ]
  },
  {
   "cell_type": "markdown",
   "metadata": {},
   "source": [
    "##### Q. 3 Print the max value of the array [ 13, 1, -3, 22, 5]."
   ]
  },
  {
   "cell_type": "code",
   "execution_count": 5,
   "metadata": {},
   "outputs": [
    {
     "name": "stdout",
     "output_type": "stream",
     "text": [
      "The maximum value is 22\n"
     ]
    }
   ],
   "source": [
    "# create a function to find maximum value which takes array and index number\n",
    "def find_max(arr, i):\n",
    "    # if i is less than length of array arr\n",
    "    if len(arr)>i:\n",
    "        # return the maximum of value at index i of array arr and remaining array element from index i+1 using recursion \n",
    "        return arr[i] if arr[i]> find_max(arr, i+1) else find_max(arr, i+1)\n",
    "    # if i is not less than length of array arr\n",
    "    else:\n",
    "        # return a dummy flag value\n",
    "        return -10000000000000\n",
    "# Driver code\n",
    "# call the find_max() method to find maximum value of the array\n",
    "maxm = find_max([13, 1, -3,22,5],0)\n",
    "# print the maximum value\n",
    "print('The maximum value is', maxm)"
   ]
  },
  {
   "cell_type": "markdown",
   "metadata": {},
   "source": [
    "##### Q.4 Find the sum of the values of the array [92, 23, 15, -20, 10]."
   ]
  },
  {
   "cell_type": "code",
   "execution_count": 7,
   "metadata": {},
   "outputs": [
    {
     "name": "stdout",
     "output_type": "stream",
     "text": [
      "Sum is 120\n"
     ]
    }
   ],
   "source": [
    "# create a method to find sum of array elements which takes array and index number\n",
    "def get_sum(arr, i):\n",
    "    # if i is less than length of array arr\n",
    "    if len(arr)>i:\n",
    "        # return the sum of value at index i of array arr and remaining array from index i+1 using recursion\n",
    "        return arr[i]+get_sum(arr, i+1)\n",
    "    # if i is not less than length of array arr\n",
    "    else:\n",
    "        # return 0\n",
    "        return 0\n",
    "# Driver code\n",
    "# call the method get_sum() to find the sum of elements of array\n",
    "sum_of_elements = get_sum([92, 23,15, -20, 10],0)\n",
    "# print the sum\n",
    "print(\"Sum is\", sum_of_elements)"
   ]
  },
  {
   "cell_type": "markdown",
   "metadata": {},
   "source": [
    "##### Q.5 Given a number n. Print if it is an armstrong number or not.An armstrong number is a number if the sum of every digit in that number raised to the power of total digits in that number is equal to the number.\n",
    "* Example : 153 = 1^3 + 5^3 + 3^3 = 1 + 125 + 27 = 153 hence 153 is an armstrong number. (Easy)\n",
    "* Input1 : 153\n",
    "* Output1 : Yes"
   ]
  },
  {
   "cell_type": "code",
   "execution_count": 23,
   "metadata": {},
   "outputs": [
    {
     "name": "stdout",
     "output_type": "stream",
     "text": [
      "number 153 is armstrong\n"
     ]
    }
   ],
   "source": [
    "# create a function to calculation armstrong number\n",
    "def get_armstrong(number):\n",
    "    # if number is greater than 0\n",
    "    if number>0:\n",
    "        # get the last digit of number usong modulo % and then cube of that digit and add it to cubes of remaing digits using recursion.\n",
    "        return (number%10)**3 + get_armstrong(number//10)\n",
    "    # if number is not greater than 0\n",
    "    else :\n",
    "        # return 0 \n",
    "        return 0\n",
    "# Driver code\n",
    "# initialize the number \n",
    "number = 153\n",
    "# if result of get_armstrong() method is equal to number\n",
    "if get_armstrong(number) == number:\n",
    "    # print the result\n",
    "    print(f\"number {number} is armstrong\")\n",
    "# otherwise print the message accordingly.\n",
    "else:\n",
    "    print(f\"number {number} is not armstrong\")\n"
   ]
  },
  {
   "cell_type": "code",
   "execution_count": null,
   "metadata": {},
   "outputs": [],
   "source": []
  }
 ],
 "metadata": {
  "kernelspec": {
   "display_name": "base",
   "language": "python",
   "name": "python3"
  },
  "language_info": {
   "codemirror_mode": {
    "name": "ipython",
    "version": 3
   },
   "file_extension": ".py",
   "mimetype": "text/x-python",
   "name": "python",
   "nbconvert_exporter": "python",
   "pygments_lexer": "ipython3",
   "version": "3.11.4"
  }
 },
 "nbformat": 4,
 "nbformat_minor": 2
}
